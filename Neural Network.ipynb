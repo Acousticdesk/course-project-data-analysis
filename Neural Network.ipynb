{
 "cells": [
  {
   "cell_type": "markdown",
   "id": "56f021dd",
   "metadata": {},
   "source": [
    "# Розробока власної нейронної мережі"
   ]
  },
  {
   "cell_type": "markdown",
   "id": "20d85dfe",
   "metadata": {},
   "source": [
    "Цей проєкт створено для покращення розуміння того як працюють нейронні мережі. Для розробки використовуються суто структури даних Python."
   ]
  },
  {
   "cell_type": "markdown",
   "id": "70d770fb",
   "metadata": {},
   "source": [
    "## Функція активації"
   ]
  },
  {
   "cell_type": "markdown",
   "id": "9a84b663",
   "metadata": {},
   "source": [
    "Функція активації використовується для використання __нелінійності__ при побудові функції класифікації (або регресії).\n",
    "\n",
    "Найбільш поширеними функціями активації є:\n",
    "- Sigmoid\n",
    "- Tanh\n",
    "- RelU\n",
    "- LeakyRelU\n",
    "\n",
    "Для даної нейронної мережі буде використана функція RelU:\n",
    "\n",
    "RelU = max(0, x)"
   ]
  },
  {
   "cell_type": "markdown",
   "id": "c0a473bb",
   "metadata": {},
   "source": [
    "### RelU"
   ]
  },
  {
   "cell_type": "code",
   "execution_count": 19,
   "id": "51d1e35b",
   "metadata": {},
   "outputs": [],
   "source": [
    "def rel_u(x):\n",
    "    return max(0, x)"
   ]
  },
  {
   "cell_type": "code",
   "execution_count": 20,
   "id": "155e478b",
   "metadata": {},
   "outputs": [
    {
     "data": {
      "text/plain": [
       "0"
      ]
     },
     "execution_count": 20,
     "metadata": {},
     "output_type": "execute_result"
    }
   ],
   "source": [
    "rel_u(-1)"
   ]
  },
  {
   "cell_type": "code",
   "execution_count": 21,
   "id": "74f83ebd",
   "metadata": {
    "scrolled": true
   },
   "outputs": [
    {
     "data": {
      "text/plain": [
       "1"
      ]
     },
     "execution_count": 21,
     "metadata": {},
     "output_type": "execute_result"
    }
   ],
   "source": [
    "rel_u(1)"
   ]
  },
  {
   "cell_type": "code",
   "execution_count": 22,
   "id": "23a52bed",
   "metadata": {},
   "outputs": [
    {
     "data": {
      "text/plain": [
       "100"
      ]
     },
     "execution_count": 22,
     "metadata": {},
     "output_type": "execute_result"
    }
   ],
   "source": [
    "rel_u(100)"
   ]
  },
  {
   "cell_type": "code",
   "execution_count": 23,
   "id": "14d05543",
   "metadata": {},
   "outputs": [],
   "source": [
    "def rel_u_derivative(x):\n",
    "    return 0 if x <= 0 else 1"
   ]
  },
  {
   "cell_type": "code",
   "execution_count": 24,
   "id": "0bc005e2",
   "metadata": {},
   "outputs": [
    {
     "data": {
      "text/plain": [
       "0"
      ]
     },
     "execution_count": 24,
     "metadata": {},
     "output_type": "execute_result"
    }
   ],
   "source": [
    "rel_u_derivative(0)"
   ]
  },
  {
   "cell_type": "code",
   "execution_count": 25,
   "id": "ae116cee",
   "metadata": {},
   "outputs": [
    {
     "data": {
      "text/plain": [
       "1"
      ]
     },
     "execution_count": 25,
     "metadata": {},
     "output_type": "execute_result"
    }
   ],
   "source": [
    "rel_u_derivative(1)"
   ]
  },
  {
   "cell_type": "code",
   "execution_count": 26,
   "id": "2dbbf851",
   "metadata": {},
   "outputs": [],
   "source": [
    "import math\n",
    "\n",
    "def sigmoid(x):\n",
    "  return 1 / (1 + math.exp(-x))"
   ]
  },
  {
   "cell_type": "markdown",
   "id": "f8bfce09",
   "metadata": {},
   "source": [
    "### Sigmoid"
   ]
  },
  {
   "cell_type": "code",
   "execution_count": 27,
   "id": "bf0cbbb5",
   "metadata": {
    "scrolled": true
   },
   "outputs": [
    {
     "data": {
      "text/plain": [
       "1.0"
      ]
     },
     "execution_count": 27,
     "metadata": {},
     "output_type": "execute_result"
    }
   ],
   "source": [
    "sigmoid(10000)"
   ]
  },
  {
   "cell_type": "code",
   "execution_count": 28,
   "id": "c80523f0",
   "metadata": {},
   "outputs": [],
   "source": [
    "def sigmoid_derivative(x):\n",
    "    return sigmoid(x)*(1-sigmoid(x))"
   ]
  },
  {
   "cell_type": "code",
   "execution_count": 29,
   "id": "55177406",
   "metadata": {},
   "outputs": [
    {
     "data": {
      "text/plain": [
       "0.0"
      ]
     },
     "execution_count": 29,
     "metadata": {},
     "output_type": "execute_result"
    }
   ],
   "source": [
    "sigmoid_derivative(10000)"
   ]
  },
  {
   "cell_type": "code",
   "execution_count": 30,
   "id": "d7f4c46e",
   "metadata": {},
   "outputs": [
    {
     "data": {
      "text/plain": [
       "0.2350037122015945"
      ]
     },
     "execution_count": 30,
     "metadata": {},
     "output_type": "execute_result"
    }
   ],
   "source": [
    "sigmoid_derivative(0.5)"
   ]
  },
  {
   "cell_type": "markdown",
   "id": "aea51e1c",
   "metadata": {},
   "source": [
    "## Нейронна мережа"
   ]
  },
  {
   "cell_type": "code",
   "execution_count": 31,
   "id": "c540115d",
   "metadata": {},
   "outputs": [],
   "source": [
    "class NeuralNetwork:\n",
    "    def activation(self, x):\n",
    "        return sigmoid(x)\n",
    "    \n",
    "    def activation_derivative(self, x):\n",
    "        return sigmoid_derivative(x)\n",
    "    \n",
    "    learning_rate = 0.7\n",
    "    \n",
    "n = NeuralNetwork()"
   ]
  },
  {
   "cell_type": "markdown",
   "id": "28102fee",
   "metadata": {},
   "source": [
    "## Нейрон"
   ]
  },
  {
   "cell_type": "markdown",
   "id": "fd990c31",
   "metadata": {},
   "source": [
    "Виступає атомарним будівельник блоком нейронної мережі"
   ]
  },
  {
   "cell_type": "code",
   "execution_count": 32,
   "id": "f5485e42",
   "metadata": {},
   "outputs": [],
   "source": [
    "# TODO:\n",
    "# Після того як нейронна мережа буде складатись з більш як одного вихідного нейрону,\n",
    "# потрібно виокремити forward/loss/backward функції до класу Нейронної Мережі\n",
    "class Neuron:\n",
    "    def __init__(self, inputs, weights, bias):\n",
    "        self.inputs = inputs\n",
    "        self.weights = weights\n",
    "        self.bias = bias\n",
    "        \n",
    "    def output(self):\n",
    "        result = 0\n",
    "        for input, weight in zip(self.inputs, self.weights):\n",
    "            result += input * weight\n",
    "        result += self.bias\n",
    "        return result\n",
    "    \n",
    "    def set_inputs(self, inputs):\n",
    "        self.inputs = inputs\n",
    "        \n",
    "    def forward(self):\n",
    "        return n.activation(self.output())\n",
    "    \n",
    "    def loss(self, y, y_hat):\n",
    "        return 1 / len(self.inputs) * (y - y_hat)**2\n",
    "    \n",
    "    def backward(self, y, y_hat):\n",
    "        # L = функція визначення помилки\n",
    "        # d = вираз y - y_hat\n",
    "        dLdd = 2 * (y - y_hat)\n",
    "        # y = rel_u(z)\n",
    "        dddy = -1\n",
    "        # z = sum (wx + b)\n",
    "        dydz = n.activation_derivative(self.output())\n",
    "        dzdw1 = self.inputs[0]\n",
    "        dzdw2 = self.inputs[1]\n",
    "        dzdb = 1\n",
    "        # Диференціювання складної функції\n",
    "        dLdw1 = dLdd * dddy * dydz * dzdw1\n",
    "        dLdw2 = dLdd * dddy * dydz * dzdw2\n",
    "        dLdb = dLdd * dddy * dydz * dzdb\n",
    "        \n",
    "        # Виконання задньої пропагації\n",
    "        \n",
    "        # w1\n",
    "        self.weights[0] -= n.learning_rate * dLdw1\n",
    "        \n",
    "        # w2\n",
    "        self.weights[1] -= n.learning_rate * dLdw2\n",
    "        \n",
    "        # b\n",
    "        self.bias -= n.learning_rate * dLdb"
   ]
  },
  {
   "cell_type": "markdown",
   "id": "2125a8d2",
   "metadata": {},
   "source": [
    "## Набір даних"
   ]
  },
  {
   "cell_type": "code",
   "execution_count": 33,
   "id": "09e746c2",
   "metadata": {},
   "outputs": [],
   "source": [
    "# [length, width, class]\n",
    "entities_class_1 = [\n",
    "    [3, 1, 1],\n",
    "    [2, 2, 1]\n",
    "]\n",
    "\n",
    "entities_class_2 = [\n",
    "    [1, 3, 0],\n",
    "    [1.5, 2.5, 1]\n",
    "]\n",
    "\n",
    "entities = entities_class_1 + entities_class_2\n",
    "\n",
    "entity_secret = [1.75, 2.25]"
   ]
  },
  {
   "cell_type": "markdown",
   "id": "5f91dedd",
   "metadata": {},
   "source": [
    "## Візуалізація набору даних"
   ]
  },
  {
   "cell_type": "code",
   "execution_count": 34,
   "id": "52195db2",
   "metadata": {},
   "outputs": [
    {
     "data": {
      "image/png": "[encoded data removed]",
      "text/plain": [
       "<Figure size 640x480 with 1 Axes>"
      ]
     },
     "metadata": {},
     "output_type": "display_data"
    }
   ],
   "source": [
    "import matplotlib.pyplot as plt\n",
    "\n",
    "x = list(map(lambda e: e[0], entities_class_1))\n",
    "y = list(map(lambda e: e[1], entities_class_1))\n",
    "\n",
    "x2 = list(map(lambda e: e[0], entities_class_2))\n",
    "y2 = list(map(lambda e: e[1], entities_class_2))\n",
    "\n",
    "plt.scatter(x, y)\n",
    "plt.scatter(x2, y2)\n",
    "plt.scatter(entity_secret[0], entity_secret[1])\n",
    "\n",
    "\n",
    "plt.legend(['тип 1', 'тип 2', 'невідомий тип'])\n",
    "\n",
    "plt.show()"
   ]
  },
  {
   "cell_type": "markdown",
   "id": "6209f4af",
   "metadata": {},
   "source": [
    "## Тренування моделі"
   ]
  },
  {
   "cell_type": "markdown",
   "id": "72237726",
   "metadata": {},
   "source": [
    "### Ініціалізація"
   ]
  },
  {
   "cell_type": "code",
   "execution_count": 39,
   "id": "8fd257a1",
   "metadata": {
    "scrolled": false
   },
   "outputs": [
    {
     "name": "stdout",
     "output_type": "stream",
     "text": [
      "Calculated Loss: 0.1265169387411155\n",
      "Calculated Loss: 0.2352727970934426\n",
      "Calculated Loss: 1.9385592852932628e-05\n",
      "Calculated Loss: 0.00010707278114820524\n",
      "Calculated Loss: 0.0057466770283609294\n",
      "Calculated Loss: 0.0051766491338736675\n",
      "Calculated Loss: 0.18033738531296759\n",
      "Calculated Loss: 0.01003593625045585\n",
      "Calculated Loss: 1.2944064399121528e-05\n",
      "Calculated Loss: 0.00022452299702441662\n",
      "Calculated Loss: 0.0003082530085339442\n",
      "Calculated Loss: 0.14917526089331398\n",
      "Calculated Loss: 0.07370100669579957\n",
      "Calculated Loss: 1.1668539274034186e-08\n",
      "Calculated Loss: 0.007639959471936851\n",
      "Calculated Loss: 0.00012575744452925715\n",
      "Calculated Loss: 1.9917980052912046e-09\n",
      "Calculated Loss: 6.265914212575644e-09\n",
      "Calculated Loss: 0.009709870720943299\n",
      "Calculated Loss: 0.05843260767639731\n",
      "Calculated Loss: 2.2052046740887915e-09\n",
      "Calculated Loss: 0.030281003036393306\n",
      "Calculated Loss: 0.009276506479299057\n",
      "Calculated Loss: 0.02440303058713328\n",
      "Calculated Loss: 5.660470883515604e-10\n",
      "Calculated Loss: 0.01870666629002566\n",
      "Calculated Loss: 4.029890129490432e-10\n",
      "Calculated Loss: 9.244123164909409e-05\n",
      "Calculated Loss: 0.019296813929064228\n"
     ]
    }
   ],
   "source": [
    "import random\n",
    "\n",
    "neuron = Neuron([], [0.2, 0.7], 0)\n",
    "\n",
    "plot_data = []\n",
    "\n",
    "for i in range(1, 300):\n",
    "    random_entity = random.choice(entities)\n",
    "    \n",
    "    neuron.set_inputs([random_entity[0], random_entity[1]])\n",
    "\n",
    "    # print(f'Random entity is of type: {random_entity[2]}')\n",
    "\n",
    "    # print(f'Iteration number: {i}')\n",
    "\n",
    "    output = neuron.forward()\n",
    "    # print(f'Predicted type is: {output}')\n",
    "    \n",
    "    loss = neuron.loss(random_entity[2], output)\n",
    "    if (i % 10 == 0):\n",
    "        print(f'Calculated Loss: {loss}')\n",
    "\n",
    "    \n",
    "    neuron.backward(random_entity[2], output)\n",
    "    \n",
    "    plot_data.append([i, loss])"
   ]
  },
  {
   "cell_type": "markdown",
   "id": "71bad942",
   "metadata": {},
   "source": [
    "### Візуалізація прогресу тренування"
   ]
  },
  {
   "cell_type": "code",
   "execution_count": 40,
   "id": "0fe90bbc",
   "metadata": {
    "scrolled": true
   },
   "outputs": [
    {
     "data": {
      "image/png": "[encoded data removed]",
      "text/plain": [
       "<Figure size 640x480 with 1 Axes>"
      ]
     },
     "metadata": {},
     "output_type": "display_data"
    }
   ],
   "source": [
    "x = list(map(lambda pd: pd[0], plot_data))\n",
    "y = list(map(lambda pd: pd[1], plot_data))\n",
    "\n",
    "plt.plot(x, y)\n",
    "\n",
    "plt.show()"
   ]
  }
 ],
 "metadata": {
  "kernelspec": {
   "display_name": "Python 3 (ipykernel)",
   "language": "python",
   "name": "python3"
  },
  "language_info": {
   "codemirror_mode": {
    "name": "ipython",
    "version": 3
   },
   "file_extension": ".py",
   "mimetype": "text/x-python",
   "name": "python",
   "nbconvert_exporter": "python",
   "pygments_lexer": "ipython3",
   "version": "3.9.15"
  }
 },
 "nbformat": 4,
 "nbformat_minor": 5
}
