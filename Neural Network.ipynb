{
 "cells": [
  {
   "cell_type": "markdown",
   "id": "0f956b2d",
   "metadata": {},
   "source": [
    "# Розробока власної нейронної мережі"
   ]
  },
  {
   "cell_type": "markdown",
   "id": "8d66dc40",
   "metadata": {},
   "source": [
    "Цей проєкт створено для покращення розуміння того як працюють нейронні мережі. Для розробки використовуються суто структури даних Python."
   ]
  },
  {
   "cell_type": "markdown",
   "id": "40d25d2c",
   "metadata": {},
   "source": [
    "## Функція активації"
   ]
  },
  {
   "cell_type": "markdown",
   "id": "78fc742c",
   "metadata": {},
   "source": [
    "Функція активації використовується для використання __нелінійності__ при побудові функції класифікації.\n",
    "\n",
    "Найбільш поширеними функціями активації є:\n",
    "- Sigmoid\n",
    "- Tanh\n",
    "- RelU\n",
    "- LeakyRelU\n",
    "\n",
    "Для даної нейронної мережі буде використана функція RelU:\n",
    "\n",
    "RelU = max(0, x)"
   ]
  },
  {
   "cell_type": "code",
   "execution_count": 12,
   "id": "fe4ca1c2",
   "metadata": {},
   "outputs": [],
   "source": [
    "def activation_function(x):\n",
    "    return max(0, x)"
   ]
  },
  {
   "cell_type": "code",
   "execution_count": 13,
   "id": "5a6ab57e",
   "metadata": {},
   "outputs": [
    {
     "data": {
      "text/plain": [
       "0"
      ]
     },
     "execution_count": 13,
     "metadata": {},
     "output_type": "execute_result"
    }
   ],
   "source": [
    "activation_function(-1)"
   ]
  },
  {
   "cell_type": "code",
   "execution_count": 14,
   "id": "026a14fc",
   "metadata": {
    "scrolled": true
   },
   "outputs": [
    {
     "data": {
      "text/plain": [
       "1"
      ]
     },
     "execution_count": 14,
     "metadata": {},
     "output_type": "execute_result"
    }
   ],
   "source": [
    "activation_function(1)"
   ]
  },
  {
   "cell_type": "code",
   "execution_count": 15,
   "id": "61709255",
   "metadata": {},
   "outputs": [
    {
     "data": {
      "text/plain": [
       "100"
      ]
     },
     "execution_count": 15,
     "metadata": {},
     "output_type": "execute_result"
    }
   ],
   "source": [
    "activation_function(100)"
   ]
  },
  {
   "cell_type": "markdown",
   "id": "067cf07f",
   "metadata": {},
   "source": [
    "## Нейрон"
   ]
  },
  {
   "cell_type": "markdown",
   "id": "e05094c6",
   "metadata": {},
   "source": [
    "Виступає атомарним будівельник блоком нейронної мережі"
   ]
  },
  {
   "cell_type": "code",
   "execution_count": 8,
   "id": "310a3201",
   "metadata": {},
   "outputs": [],
   "source": [
    "class Neuron:\n",
    "    def __init__(self, inputs, weights, bias):\n",
    "        self.inputs = inputs\n",
    "        self.weights = weights\n",
    "        self.bias = bias\n",
    "        \n",
    "    def forward(self):\n",
    "        result = 0\n",
    "        for input, weight in zip(self.inputs, self.weights):\n",
    "            result += input * weight\n",
    "        result += self.bias\n",
    "        return result"
   ]
  },
  {
   "cell_type": "markdown",
   "id": "d03314a1",
   "metadata": {},
   "source": [
    "## Набір даних"
   ]
  },
  {
   "cell_type": "code",
   "execution_count": 6,
   "id": "eabd4b45",
   "metadata": {},
   "outputs": [
    {
     "data": {
      "text/plain": [
       "[1, 2, 3]"
      ]
     },
     "execution_count": 6,
     "metadata": {},
     "output_type": "execute_result"
    }
   ],
   "source": [
    "# [length, width, class]\n",
    "entities = [\n",
    "    [3, 1, 1],\n",
    "    [3, 2, 1],\n",
    "    [3, 3, 0],\n",
    "]"
   ]
  },
  {
   "cell_type": "markdown",
   "id": "c14ba338",
   "metadata": {},
   "source": [
    "## Приклад використання"
   ]
  },
  {
   "cell_type": "code",
   "execution_count": 9,
   "id": "d979f2cd",
   "metadata": {},
   "outputs": [
    {
     "data": {
      "text/plain": [
       "1.3"
      ]
     },
     "execution_count": 9,
     "metadata": {},
     "output_type": "execute_result"
    }
   ],
   "source": [
    "n = Neuron([3, 1], [0.2, 0.7], 0)\n",
    "n.forward()"
   ]
  }
 ],
 "metadata": {
  "kernelspec": {
   "display_name": "Python 3 (ipykernel)",
   "language": "python",
   "name": "python3"
  },
  "language_info": {
   "codemirror_mode": {
    "name": "ipython",
    "version": 3
   },
   "file_extension": ".py",
   "mimetype": "text/x-python",
   "name": "python",
   "nbconvert_exporter": "python",
   "pygments_lexer": "ipython3",
   "version": "3.9.15"
  }
 },
 "nbformat": 4,
 "nbformat_minor": 5
}
