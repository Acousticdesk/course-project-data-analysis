{
 "cells": [
  {
   "cell_type": "markdown",
   "id": "56f021dd",
   "metadata": {},
   "source": [
    "# Розробока нейронної мережі з нуля"
   ]
  },
  {
   "cell_type": "markdown",
   "id": "20d85dfe",
   "metadata": {},
   "source": [
    "Цей проєкт створено для поглибленного ознайомлення із алгоритмом роботи нейронних мереж. Для розробки використовуються суто структури даних Python та Numpy (бібліотека з функціями для лінійної алгебри)."
   ]
  },
  {
   "cell_type": "code",
   "execution_count": 132,
   "id": "ed9777aa",
   "metadata": {},
   "outputs": [],
   "source": [
    "import random\n",
    "import numpy as np"
   ]
  },
  {
   "cell_type": "markdown",
   "id": "70d770fb",
   "metadata": {},
   "source": [
    "## Функція активації"
   ]
  },
  {
   "cell_type": "markdown",
   "id": "9a84b663",
   "metadata": {},
   "source": [
    "Функція активації використовується для використання __нелінійності__ при побудові функції класифікації (або регресії).\n",
    "\n",
    "Найбільш поширеними функціями активації є:\n",
    "- Sigmoid\n",
    "- Tanh\n",
    "- RelU\n",
    "- LeakyRelU\n",
    "\n",
    "Для даної нейронної мережі буде використана функція RelU:\n",
    "\n",
    "RelU = max(0, x)"
   ]
  },
  {
   "cell_type": "markdown",
   "id": "d81f1d14",
   "metadata": {},
   "source": [
    "### RelU"
   ]
  },
  {
   "cell_type": "code",
   "execution_count": 133,
   "id": "51d1e35b",
   "metadata": {},
   "outputs": [],
   "source": [
    "def rel_u(x):\n",
    "    return max(0, x)"
   ]
  },
  {
   "cell_type": "code",
   "execution_count": 134,
   "id": "155e478b",
   "metadata": {},
   "outputs": [
    {
     "data": {
      "text/plain": [
       "0"
      ]
     },
     "execution_count": 134,
     "metadata": {},
     "output_type": "execute_result"
    }
   ],
   "source": [
    "rel_u(-1)"
   ]
  },
  {
   "cell_type": "code",
   "execution_count": 135,
   "id": "74f83ebd",
   "metadata": {
    "scrolled": true
   },
   "outputs": [
    {
     "data": {
      "text/plain": [
       "1"
      ]
     },
     "execution_count": 135,
     "metadata": {},
     "output_type": "execute_result"
    }
   ],
   "source": [
    "rel_u(1)"
   ]
  },
  {
   "cell_type": "code",
   "execution_count": 136,
   "id": "23a52bed",
   "metadata": {},
   "outputs": [
    {
     "data": {
      "text/plain": [
       "100"
      ]
     },
     "execution_count": 136,
     "metadata": {},
     "output_type": "execute_result"
    }
   ],
   "source": [
    "rel_u(100)"
   ]
  },
  {
   "cell_type": "code",
   "execution_count": 137,
   "id": "14d05543",
   "metadata": {},
   "outputs": [],
   "source": [
    "def rel_u_derivative(x):\n",
    "    return 0 if x <= 0 else 1"
   ]
  },
  {
   "cell_type": "code",
   "execution_count": 138,
   "id": "0bc005e2",
   "metadata": {},
   "outputs": [
    {
     "data": {
      "text/plain": [
       "0"
      ]
     },
     "execution_count": 138,
     "metadata": {},
     "output_type": "execute_result"
    }
   ],
   "source": [
    "rel_u_derivative(0)"
   ]
  },
  {
   "cell_type": "code",
   "execution_count": 139,
   "id": "ae116cee",
   "metadata": {},
   "outputs": [
    {
     "data": {
      "text/plain": [
       "1"
      ]
     },
     "execution_count": 139,
     "metadata": {},
     "output_type": "execute_result"
    }
   ],
   "source": [
    "rel_u_derivative(1)"
   ]
  },
  {
   "cell_type": "code",
   "execution_count": 140,
   "id": "2dbbf851",
   "metadata": {},
   "outputs": [],
   "source": [
    "import math\n",
    "\n",
    "def sigmoid(x):\n",
    "  return 1 / (1 + math.exp(-x))"
   ]
  },
  {
   "cell_type": "markdown",
   "id": "a332ca03",
   "metadata": {},
   "source": [
    "### Sigmoid"
   ]
  },
  {
   "cell_type": "code",
   "execution_count": 141,
   "id": "bf0cbbb5",
   "metadata": {
    "scrolled": true
   },
   "outputs": [
    {
     "data": {
      "text/plain": [
       "1.0"
      ]
     },
     "execution_count": 141,
     "metadata": {},
     "output_type": "execute_result"
    }
   ],
   "source": [
    "sigmoid(10000)"
   ]
  },
  {
   "cell_type": "code",
   "execution_count": 142,
   "id": "c80523f0",
   "metadata": {},
   "outputs": [],
   "source": [
    "def sigmoid_derivative(x):\n",
    "    return sigmoid(x)*(1-sigmoid(x))"
   ]
  },
  {
   "cell_type": "code",
   "execution_count": 143,
   "id": "55177406",
   "metadata": {},
   "outputs": [
    {
     "data": {
      "text/plain": [
       "0.0"
      ]
     },
     "execution_count": 143,
     "metadata": {},
     "output_type": "execute_result"
    }
   ],
   "source": [
    "sigmoid_derivative(10000)"
   ]
  },
  {
   "cell_type": "code",
   "execution_count": 144,
   "id": "d7f4c46e",
   "metadata": {},
   "outputs": [
    {
     "data": {
      "text/plain": [
       "0.2350037122015945"
      ]
     },
     "execution_count": 144,
     "metadata": {},
     "output_type": "execute_result"
    }
   ],
   "source": [
    "sigmoid_derivative(0.5)"
   ]
  },
  {
   "cell_type": "markdown",
   "id": "aea51e1c",
   "metadata": {},
   "source": [
    "## Нейронна мережа"
   ]
  },
  {
   "cell_type": "code",
   "execution_count": 145,
   "id": "c540115d",
   "metadata": {},
   "outputs": [],
   "source": [
    "class NeuralNetwork:\n",
    "    def __init__(self, layers):\n",
    "        self.layers = layers\n",
    "    \n",
    "    def activation(self, x):\n",
    "        return sigmoid(x)\n",
    "    \n",
    "    def activation_derivative(self, x):\n",
    "        return sigmoid_derivative(x)\n",
    "    \n",
    "    def forward(self):\n",
    "        for layer in self.layers:\n",
    "            layer.forward()\n",
    "            \n",
    "    def backward(self):\n",
    "        for layer in self.layers:\n",
    "            layer.backward()\n",
    "    \n",
    "    learning_rate = 0.7\n",
    "\n",
    "# TODO akicha: непотрібна ініціалізація обʼєкту\n",
    "# n = NeuralNetwork()"
   ]
  },
  {
   "cell_type": "markdown",
   "id": "28102fee",
   "metadata": {},
   "source": [
    "## Нейрон"
   ]
  },
  {
   "cell_type": "markdown",
   "id": "fd990c31",
   "metadata": {},
   "source": [
    "Виступає атомарним будівельник блоком нейронної мережі"
   ]
  },
  {
   "cell_type": "code",
   "execution_count": 146,
   "id": "f5485e42",
   "metadata": {},
   "outputs": [],
   "source": [
    "class Neuron:\n",
    "    def __init__(self, inputs, weights, bias):\n",
    "        self.inputs = inputs\n",
    "        self.weights = weights\n",
    "        self.bias = bias\n",
    "        self.value = None\n",
    "        \n",
    "    def output(self):\n",
    "        result = 0\n",
    "        for input, weight in zip(self.inputs, self.weights):\n",
    "            result += input * weight\n",
    "        result += self.bias\n",
    "        return result\n",
    "    \n",
    "    def set_inputs(self, inputs):\n",
    "        self.inputs = inputs\n",
    "        \n",
    "    def forward(self):\n",
    "        result = n.activation(self.output())\n",
    "        self.value = result\n",
    "        return result\n",
    "    \n",
    "    # TODO akicha: move the loss function to the NeuralNetwork class\n",
    "    def loss(self, y, y_hat):\n",
    "        return 1 / len(self.inputs) * (y - y_hat)**2\n",
    "    \n",
    "    def backward(self, y, y_hat):\n",
    "        # L = функція визначення помилки\n",
    "        # d = вираз y - y_hat\n",
    "        dLdd = 2 * (y - y_hat)\n",
    "        # y = rel_u(z)\n",
    "        dddy = -1\n",
    "        # z = sum (wx + b)\n",
    "        dydz = n.activation_derivative(self.output())\n",
    "        dzdw1 = self.inputs[0]\n",
    "        dzdw2 = self.inputs[1]\n",
    "        dzdb = 1\n",
    "        # Диференціювання складної функції\n",
    "        dLdw1 = dLdd * dddy * dydz * dzdw1\n",
    "        dLdw2 = dLdd * dddy * dydz * dzdw2\n",
    "        dLdb = dLdd * dddy * dydz * dzdb\n",
    "        \n",
    "        # Виконання задньої пропагації\n",
    "        \n",
    "        # w1\n",
    "        self.weights[0] -= n.learning_rate * dLdw1\n",
    "        \n",
    "        # w2\n",
    "        self.weights[1] -= n.learning_rate * dLdw2\n",
    "        \n",
    "        # b\n",
    "        self.bias -= n.learning_rate * dLdb"
   ]
  },
  {
   "cell_type": "code",
   "execution_count": 147,
   "id": "50252bf6",
   "metadata": {},
   "outputs": [],
   "source": [
    "class InputNeuron:\n",
    "    def __init__(self, v):\n",
    "        self.value = v\n",
    "    \n",
    "    # noop\n",
    "    def forward():\n",
    "        pass\n",
    "    \n",
    "    # noop\n",
    "    def backward():\n",
    "        pass"
   ]
  },
  {
   "cell_type": "code",
   "execution_count": 162,
   "id": "ccca0543",
   "metadata": {},
   "outputs": [],
   "source": [
    "class Layer:\n",
    "    def __init__(self, prevLayer, numNeurons):\n",
    "        self.neurons = []\n",
    "        self.prevLayer = prevLayer;\n",
    "        inputs = prevLayer.values();\n",
    "        for neuron in range(numNeurons):\n",
    "            # при ініціалізації ми не знаємо правильних значень ваги тому ініціалізуємо випадково\n",
    "            # пізніше, нейронна мережа сама знайде правильні значення\n",
    "            weights = np.random.randn((len(inputs)))\n",
    "            # при ініціалізації ми не знаємо правильного значення байесу\n",
    "            # пізніше, нейронна мережа сама знайде правильне значення\n",
    "            bias = np.random.randn()\n",
    "            self.neurons.append(Neuron(inputs, weights, bias))\n",
    "        \n",
    "    def forward(self):\n",
    "        inputs = self.prevLayer.values();\n",
    "        \n",
    "        for neuron in self.neurons:\n",
    "            neuron.set_inputs(inputs)\n",
    "            neuron.forward()\n",
    "    \n",
    "    def backward(self):\n",
    "        for neuron in self.neurons:\n",
    "            neuron.backward()\n",
    "            \n",
    "    # TODO akicha: використання методу через композицію обʼєктів\n",
    "    def values(self):\n",
    "        return list(map(lambda n: n.value, self.neurons))"
   ]
  },
  {
   "cell_type": "code",
   "execution_count": 149,
   "id": "e79f8252",
   "metadata": {},
   "outputs": [],
   "source": [
    "class InputLayer:\n",
    "    def __init__(self, inputs):\n",
    "        self.neurons = []\n",
    "        for i in range(len(inputs)):\n",
    "            self.neurons.append(InputNeuron(i))\n",
    "    \n",
    "    # noop\n",
    "    def forward():\n",
    "        pass\n",
    "    \n",
    "    # noop\n",
    "    def backward():\n",
    "        pass\n",
    "            \n",
    "    def values(self):\n",
    "        return list(map(lambda n: n.value, self.neurons))"
   ]
  },
  {
   "cell_type": "markdown",
   "id": "938fd8d8",
   "metadata": {},
   "source": [
    "## Пісочниця для тестування проміжкового резульату роботи"
   ]
  },
  {
   "cell_type": "code",
   "execution_count": 163,
   "id": "53a309da",
   "metadata": {
    "scrolled": true
   },
   "outputs": [
    {
     "name": "stdout",
     "output_type": "stream",
     "text": [
      "[0, 1]\n",
      "[0.39233509319462945, 0.6740541994365452]\n"
     ]
    }
   ],
   "source": [
    "# використовується замикання щоб запобігти забруднення глобальної області видимості\n",
    "def sandbox_():\n",
    "    inputLayer = InputLayer([1, 2])\n",
    "    print(inputLayer.values())\n",
    "    hiddenLayer = Layer(inputLayer, 2)\n",
    "    hiddenLayer.forward()\n",
    "    print(hiddenLayer.values())\n",
    "    # outputLayer = Layer(hiddenLayer, 1)\n",
    "    # nn = NeuralNetwork([inputLayer, hiddenLayer, outputLayer])\n",
    "    \n",
    "sandbox_()"
   ]
  },
  {
   "cell_type": "markdown",
   "id": "2125a8d2",
   "metadata": {},
   "source": [
    "## Набір даних"
   ]
  },
  {
   "cell_type": "code",
   "execution_count": 151,
   "id": "09e746c2",
   "metadata": {},
   "outputs": [],
   "source": [
    "# [length, width, class]\n",
    "entities_class_1 = [\n",
    "    [3, 1, 1],\n",
    "    [2, 2, 1]\n",
    "]\n",
    "\n",
    "entities_class_2 = [\n",
    "    [1, 3, 0],\n",
    "    [1.5, 2.5, 1]\n",
    "]\n",
    "\n",
    "entities = entities_class_1 + entities_class_2\n",
    "\n",
    "entity_secret = [1.75, 2.25]"
   ]
  },
  {
   "cell_type": "markdown",
   "id": "5f91dedd",
   "metadata": {},
   "source": [
    "## Візуалізація набору даних"
   ]
  },
  {
   "cell_type": "code",
   "execution_count": 152,
   "id": "52195db2",
   "metadata": {},
   "outputs": [
    {
     "data": {
      "image/png": "[encoded data removed]",
      "text/plain": [
       "<Figure size 640x480 with 1 Axes>"
      ]
     },
     "metadata": {},
     "output_type": "display_data"
    }
   ],
   "source": [
    "import matplotlib.pyplot as plt\n",
    "\n",
    "x = list(map(lambda e: e[0], entities_class_1))\n",
    "y = list(map(lambda e: e[1], entities_class_1))\n",
    "\n",
    "x2 = list(map(lambda e: e[0], entities_class_2))\n",
    "y2 = list(map(lambda e: e[1], entities_class_2))\n",
    "\n",
    "plt.scatter(x, y)\n",
    "plt.scatter(x2, y2)\n",
    "plt.scatter(entity_secret[0], entity_secret[1])\n",
    "\n",
    "\n",
    "plt.legend(['тип 1', 'тип 2', 'невідомий тип'])\n",
    "\n",
    "plt.show()"
   ]
  },
  {
   "cell_type": "markdown",
   "id": "6209f4af",
   "metadata": {},
   "source": [
    "## Тренування моделі"
   ]
  },
  {
   "cell_type": "markdown",
   "id": "72237726",
   "metadata": {},
   "source": [
    "### Ініціалізація"
   ]
  },
  {
   "cell_type": "code",
   "execution_count": 153,
   "id": "8fd257a1",
   "metadata": {
    "scrolled": false
   },
   "outputs": [
    {
     "name": "stdout",
     "output_type": "stream",
     "text": [
      "Calculated Loss: 0.015881179709052316\n",
      "Calculated Loss: 0.00913388482699462\n",
      "Calculated Loss: 0.27615849800406983\n",
      "Calculated Loss: 0.2238177363883959\n",
      "Calculated Loss: 0.007929141350577753\n",
      "Calculated Loss: 0.00438854442866996\n",
      "Calculated Loss: 0.008185504163152705\n",
      "Calculated Loss: 0.0001305815209772886\n",
      "Calculated Loss: 0.00010721214961241617\n",
      "Calculated Loss: 0.008823326769043289\n",
      "Calculated Loss: 0.0781294197062255\n",
      "Calculated Loss: 7.859919148317035e-09\n",
      "Calculated Loss: 3.717117414771879e-08\n",
      "Calculated Loss: 0.04287082879057698\n",
      "Calculated Loss: 1.1505234458275881e-08\n",
      "Calculated Loss: 0.009468645027728964\n",
      "Calculated Loss: 0.050476341086451985\n",
      "Calculated Loss: 1.8716803554347024e-09\n",
      "Calculated Loss: 0.00015689965040436597\n",
      "Calculated Loss: 0.0001313172904766361\n",
      "Calculated Loss: 4.255600145429701e-05\n",
      "Calculated Loss: 3.930245381142488e-10\n",
      "Calculated Loss: 6.686144608011402e-11\n",
      "Calculated Loss: 1.1890582777654344e-10\n",
      "Calculated Loss: 6.059717276303978e-05\n",
      "Calculated Loss: 1.596810763185855e-05\n",
      "Calculated Loss: 0.0036578540830438408\n",
      "Calculated Loss: 2.98178209620431e-11\n",
      "Calculated Loss: 1.0571938713573986e-10\n"
     ]
    }
   ],
   "source": [
    "neuron = Neuron([], [0.2, 0.7], 0)\n",
    "\n",
    "plot_data = []\n",
    "\n",
    "for i in range(1, 300):\n",
    "    random_entity = random.choice(entities)\n",
    "    \n",
    "    neuron.set_inputs([random_entity[0], random_entity[1]])\n",
    "\n",
    "    # print(f'Random entity is of type: {random_entity[2]}')\n",
    "\n",
    "    # print(f'Iteration number: {i}')\n",
    "\n",
    "    output = neuron.forward()\n",
    "    # print(f'Predicted type is: {output}')\n",
    "    \n",
    "    loss = neuron.loss(random_entity[2], output)\n",
    "    if (i % 10 == 0):\n",
    "        print(f'Calculated Loss: {loss}')\n",
    "\n",
    "    \n",
    "    neuron.backward(random_entity[2], output)\n",
    "    \n",
    "    plot_data.append([i, loss])"
   ]
  },
  {
   "cell_type": "markdown",
   "id": "71bad942",
   "metadata": {},
   "source": [
    "### Візуалізація прогресу тренування"
   ]
  },
  {
   "cell_type": "code",
   "execution_count": 154,
   "id": "0fe90bbc",
   "metadata": {
    "scrolled": true
   },
   "outputs": [
    {
     "data": {
      "image/png": "[encoded data removed]",
      "text/plain": [
       "<Figure size 640x480 with 1 Axes>"
      ]
     },
     "metadata": {},
     "output_type": "display_data"
    }
   ],
   "source": [
    "x = list(map(lambda pd: pd[0], plot_data))\n",
    "y = list(map(lambda pd: pd[1], plot_data))\n",
    "\n",
    "plt.plot(x, y)\n",
    "\n",
    "plt.xlabel('Ітерація')\n",
    "plt.ylabel('Похибка')\n",
    "\n",
    "plt.show()"
   ]
  }
 ],
 "metadata": {
  "kernelspec": {
   "display_name": "Python 3 (ipykernel)",
   "language": "python",
   "name": "python3"
  },
  "language_info": {
   "codemirror_mode": {
    "name": "ipython",
    "version": 3
   },
   "file_extension": ".py",
   "mimetype": "text/x-python",
   "name": "python",
   "nbconvert_exporter": "python",
   "pygments_lexer": "ipython3",
   "version": "3.9.15"
  }
 },
 "nbformat": 4,
 "nbformat_minor": 5
}
