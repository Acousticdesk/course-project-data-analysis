{
 "cells": [
  {
   "cell_type": "markdown",
   "id": "56f021dd",
   "metadata": {},
   "source": [
    "# Розробока власної нейронної мережі"
   ]
  },
  {
   "cell_type": "markdown",
   "id": "20d85dfe",
   "metadata": {},
   "source": [
    "Цей проєкт створено для покращення розуміння того як працюють нейронні мережі. Для розробки використовуються суто структури даних Python."
   ]
  },
  {
   "cell_type": "markdown",
   "id": "70d770fb",
   "metadata": {},
   "source": [
    "## Функція активації"
   ]
  },
  {
   "cell_type": "markdown",
   "id": "9a84b663",
   "metadata": {},
   "source": [
    "Функція активації використовується для використання __нелінійності__ при побудові функції класифікації (або регресії).\n",
    "\n",
    "Найбільш поширеними функціями активації є:\n",
    "- Sigmoid\n",
    "- Tanh\n",
    "- RelU\n",
    "- LeakyRelU\n",
    "\n",
    "Для даної нейронної мережі буде використана функція RelU:\n",
    "\n",
    "RelU = max(0, x)"
   ]
  },
  {
   "cell_type": "code",
   "execution_count": 218,
   "id": "51d1e35b",
   "metadata": {},
   "outputs": [],
   "source": [
    "def rel_u(x):\n",
    "    return max(0, x)"
   ]
  },
  {
   "cell_type": "code",
   "execution_count": 219,
   "id": "155e478b",
   "metadata": {},
   "outputs": [
    {
     "data": {
      "text/plain": [
       "0"
      ]
     },
     "execution_count": 219,
     "metadata": {},
     "output_type": "execute_result"
    }
   ],
   "source": [
    "rel_u(-1)"
   ]
  },
  {
   "cell_type": "code",
   "execution_count": 220,
   "id": "74f83ebd",
   "metadata": {
    "scrolled": true
   },
   "outputs": [
    {
     "data": {
      "text/plain": [
       "1"
      ]
     },
     "execution_count": 220,
     "metadata": {},
     "output_type": "execute_result"
    }
   ],
   "source": [
    "rel_u(1)"
   ]
  },
  {
   "cell_type": "code",
   "execution_count": 221,
   "id": "23a52bed",
   "metadata": {},
   "outputs": [
    {
     "data": {
      "text/plain": [
       "100"
      ]
     },
     "execution_count": 221,
     "metadata": {},
     "output_type": "execute_result"
    }
   ],
   "source": [
    "rel_u(100)"
   ]
  },
  {
   "cell_type": "code",
   "execution_count": 222,
   "id": "14d05543",
   "metadata": {},
   "outputs": [],
   "source": [
    "def rel_u_derivative(x):\n",
    "    return 0 if x <= 0 else 1"
   ]
  },
  {
   "cell_type": "code",
   "execution_count": 223,
   "id": "0bc005e2",
   "metadata": {},
   "outputs": [
    {
     "data": {
      "text/plain": [
       "0"
      ]
     },
     "execution_count": 223,
     "metadata": {},
     "output_type": "execute_result"
    }
   ],
   "source": [
    "rel_u_derivative(0)"
   ]
  },
  {
   "cell_type": "code",
   "execution_count": 224,
   "id": "ae116cee",
   "metadata": {},
   "outputs": [
    {
     "data": {
      "text/plain": [
       "1"
      ]
     },
     "execution_count": 224,
     "metadata": {},
     "output_type": "execute_result"
    }
   ],
   "source": [
    "rel_u_derivative(1)"
   ]
  },
  {
   "cell_type": "code",
   "execution_count": 225,
   "id": "2dbbf851",
   "metadata": {},
   "outputs": [],
   "source": [
    "import math\n",
    "\n",
    "def sigmoid(x):\n",
    "  return 1 / (1 + math.exp(-x))"
   ]
  },
  {
   "cell_type": "code",
   "execution_count": 226,
   "id": "bf0cbbb5",
   "metadata": {
    "scrolled": true
   },
   "outputs": [
    {
     "data": {
      "text/plain": [
       "1.0"
      ]
     },
     "execution_count": 226,
     "metadata": {},
     "output_type": "execute_result"
    }
   ],
   "source": [
    "sigmoid(10000)"
   ]
  },
  {
   "cell_type": "code",
   "execution_count": 227,
   "id": "c80523f0",
   "metadata": {},
   "outputs": [],
   "source": [
    "def sigmoid_derivative(x):\n",
    "    return sigmoid(x)*(1-sigmoid(x))"
   ]
  },
  {
   "cell_type": "code",
   "execution_count": 228,
   "id": "55177406",
   "metadata": {},
   "outputs": [
    {
     "data": {
      "text/plain": [
       "0.0"
      ]
     },
     "execution_count": 228,
     "metadata": {},
     "output_type": "execute_result"
    }
   ],
   "source": [
    "sigmoid_derivative(10000)"
   ]
  },
  {
   "cell_type": "code",
   "execution_count": 229,
   "id": "d7f4c46e",
   "metadata": {},
   "outputs": [
    {
     "data": {
      "text/plain": [
       "0.2350037122015945"
      ]
     },
     "execution_count": 229,
     "metadata": {},
     "output_type": "execute_result"
    }
   ],
   "source": [
    "sigmoid_derivative(0.5)"
   ]
  },
  {
   "cell_type": "markdown",
   "id": "aea51e1c",
   "metadata": {},
   "source": [
    "## Нейронна мережа"
   ]
  },
  {
   "cell_type": "code",
   "execution_count": 238,
   "id": "c540115d",
   "metadata": {},
   "outputs": [],
   "source": [
    "class NeuralNetwork:\n",
    "    def activation(self, x):\n",
    "        return sigmoid(x)\n",
    "    \n",
    "    def activation_derivative(self, x):\n",
    "        return sigmoid_derivative(x)\n",
    "    \n",
    "    learning_rate = 0.7\n",
    "    \n",
    "n = NeuralNetwork()"
   ]
  },
  {
   "cell_type": "markdown",
   "id": "28102fee",
   "metadata": {},
   "source": [
    "## Нейрон"
   ]
  },
  {
   "cell_type": "markdown",
   "id": "fd990c31",
   "metadata": {},
   "source": [
    "Виступає атомарним будівельник блоком нейронної мережі"
   ]
  },
  {
   "cell_type": "code",
   "execution_count": 231,
   "id": "f5485e42",
   "metadata": {},
   "outputs": [],
   "source": [
    "# TODO:\n",
    "# Після того як нейронна мережа буде складатись з більш як одного вихідного нейрону,\n",
    "# потрібно виокремити forward/loss/backward функції до класу Нейронної Мережі\n",
    "class Neuron:\n",
    "    def __init__(self, inputs, weights, bias):\n",
    "        self.inputs = inputs\n",
    "        self.weights = weights\n",
    "        self.bias = bias\n",
    "        \n",
    "    def output(self):\n",
    "        result = 0\n",
    "        for input, weight in zip(self.inputs, self.weights):\n",
    "            result += input * weight\n",
    "        result += self.bias\n",
    "        return result\n",
    "    \n",
    "    def set_inputs(self, inputs):\n",
    "        self.inputs = inputs\n",
    "        \n",
    "    def forward(self):\n",
    "        return n.activation(self.output())\n",
    "    \n",
    "    def loss(self, y, y_hat):\n",
    "        return (y - y_hat)**2\n",
    "    \n",
    "    def backward(self, y, y_hat):\n",
    "        # L = функція визначення помилки\n",
    "        # d = вираз y - y_hat\n",
    "        dLdd = 2 * (y - y_hat)\n",
    "        # y = rel_u(z)\n",
    "        dddy = 1\n",
    "        # z = sum (wx + b)\n",
    "        dydz = n.activation_derivative(self.output())\n",
    "        dzdw1 = self.inputs[0]\n",
    "        dzdw2 = self.inputs[1]\n",
    "        dzdb = 1\n",
    "        # Диференціювання складної функції\n",
    "        dLdw1 = dLdd * dddy * dydz * dzdw1\n",
    "        dLdw2 = dLdd * dddy * dydz * dzdw2\n",
    "        dLdb = dLdd * dddy * dydz * dzdb\n",
    "        \n",
    "        # Виконання задньої пропагації\n",
    "        \n",
    "        # w1\n",
    "        self.weights[0] -= n.learning_rate * dLdw1\n",
    "        \n",
    "        # w2\n",
    "        self.weights[1] -= n.learning_rate * dLdw2\n",
    "        \n",
    "        # b\n",
    "        self.bias -= n.learning_rate * dLdb"
   ]
  },
  {
   "cell_type": "markdown",
   "id": "2125a8d2",
   "metadata": {},
   "source": [
    "## Набір даних"
   ]
  },
  {
   "cell_type": "code",
   "execution_count": 232,
   "id": "09e746c2",
   "metadata": {},
   "outputs": [],
   "source": [
    "# [length, width, class]\n",
    "entities_class_1 = [\n",
    "    [3, 1, 1],\n",
    "    [2, 2, 1]\n",
    "]\n",
    "\n",
    "entities_class_2 = [\n",
    "    [1, 3, 0],\n",
    "    [1.5, 2.5, 1]\n",
    "]\n",
    "\n",
    "entities = entities_class_1 + entities_class_2\n",
    "\n",
    "entity_secret = [1.75, 2.25]"
   ]
  },
  {
   "cell_type": "markdown",
   "id": "5f91dedd",
   "metadata": {},
   "source": [
    "## Візуалізація набору даних"
   ]
  },
  {
   "cell_type": "code",
   "execution_count": 233,
   "id": "52195db2",
   "metadata": {},
   "outputs": [
    {
     "data": {
      "image/png": "[encoded data removed]",
      "text/plain": [
       "<Figure size 640x480 with 1 Axes>"
      ]
     },
     "metadata": {},
     "output_type": "display_data"
    }
   ],
   "source": [
    "import matplotlib.pyplot as plt\n",
    "\n",
    "x = list(map(lambda e: e[0], entities_class_1))\n",
    "y = list(map(lambda e: e[1], entities_class_1))\n",
    "\n",
    "x2 = list(map(lambda e: e[0], entities_class_2))\n",
    "y2 = list(map(lambda e: e[1], entities_class_2))\n",
    "\n",
    "plt.scatter(x, y)\n",
    "plt.scatter(x2, y2)\n",
    "plt.scatter(entity_secret[0], entity_secret[1])\n",
    "\n",
    "\n",
    "plt.legend(['тип 1', 'тип 2', 'невідомий тип'])\n",
    "\n",
    "plt.show()"
   ]
  },
  {
   "cell_type": "markdown",
   "id": "6209f4af",
   "metadata": {},
   "source": [
    "## Тренування моделі"
   ]
  },
  {
   "cell_type": "markdown",
   "id": "72237726",
   "metadata": {},
   "source": [
    "### Ініціалізація"
   ]
  },
  {
   "cell_type": "code",
   "execution_count": 242,
   "id": "8fd257a1",
   "metadata": {
    "scrolled": false
   },
   "outputs": [
    {
     "name": "stdout",
     "output_type": "stream",
     "text": [
      "Random entity is of type: 1\n",
      "Iteration number: 1\n",
      "Predicted type is: 0.8859476187202091\n",
      "Calculated Loss: 0.013007945675590797\n",
      "Random entity is of type: 0\n",
      "Iteration number: 2\n",
      "Predicted type is: 0.8946042360510476\n",
      "Calculated Loss: 0.8003167391604784\n"
     ]
    }
   ],
   "source": [
    "import random\n",
    "\n",
    "neuron = Neuron([], [0.2, 0.7], 0)\n",
    "\n",
    "plot_data = []\n",
    "\n",
    "for i in range(1, 3):\n",
    "    random_entity = random.choice(entities)\n",
    "    \n",
    "    neuron.set_inputs([random_entity[0], random_entity[1]])\n",
    "\n",
    "    print(f'Random entity is of type: {random_entity[2]}')\n",
    "\n",
    "    print(f'Iteration number: {i}')\n",
    "\n",
    "    output = neuron.forward()\n",
    "    print(f'Predicted type is: {output}')\n",
    "    \n",
    "    loss = neuron.loss(random_entity[2], output)\n",
    "    print(f'Calculated Loss: {loss}')\n",
    "\n",
    "    \n",
    "    neuron.backward(random_entity[2], output)\n",
    "    \n",
    "    plot_data.append([i, loss])"
   ]
  },
  {
   "cell_type": "markdown",
   "id": "71bad942",
   "metadata": {},
   "source": [
    "### Візуалізація прогресу тренування"
   ]
  },
  {
   "cell_type": "code",
   "execution_count": 240,
   "id": "0fe90bbc",
   "metadata": {
    "scrolled": true
   },
   "outputs": [
    {
     "data": {
      "image/png": "[encoded data removed]",
      "text/plain": [
       "<Figure size 640x480 with 1 Axes>"
      ]
     },
     "metadata": {},
     "output_type": "display_data"
    }
   ],
   "source": [
    "x = list(map(lambda pd: pd[0], plot_data))\n",
    "y = list(map(lambda pd: pd[1], plot_data))\n",
    "\n",
    "plt.plot(x, y)\n",
    "\n",
    "plt.show()"
   ]
  },
  {
   "cell_type": "code",
   "execution_count": 236,
   "id": "4083d7cb",
   "metadata": {},
   "outputs": [
    {
     "data": {
      "image/png": "[encoded data removed]",
      "text/plain": [
       "<Figure size 640x480 with 1 Axes>"
      ]
     },
     "metadata": {},
     "output_type": "display_data"
    }
   ],
   "source": [
    "x = list(map(lambda e: e[0], entities_class_1))\n",
    "y = list(map(lambda e: e[1], entities_class_1))\n",
    "\n",
    "x2 = list(map(lambda e: e[0], entities_class_2))\n",
    "y2 = list(map(lambda e: e[1], entities_class_2))\n",
    "\n",
    "plt.scatter(x, y)\n",
    "plt.scatter(x2, y2)\n",
    "plt.scatter(entity_secret[0], entity_secret[1])\n",
    "\n",
    "\n",
    "plt.legend(['тип 1', 'тип 2', 'невідомий тип'])\n",
    "\n",
    "xi = 0\n",
    "yi = 0\n",
    "\n",
    "x_plot = []\n",
    "y_plot = []\n",
    "z_plot = []\n",
    "\n",
    "for xi in range(1, 30):\n",
    "    xi += 0.1\n",
    "    x_plot.append(xi)\n",
    "    \n",
    "for yi in range(1, 30):\n",
    "    yi += 0.1\n",
    "    y_plot.append(yi)\n",
    "    \n",
    "for zi in range(1, 30):\n",
    "    neuron.set_inputs([xi, yi])\n",
    "    z_plot.append(neuron.forward())\n",
    "\n",
    "plt.plot(x_plot, z_plot)\n",
    "\n",
    "plt.show()"
   ]
  }
 ],
 "metadata": {
  "kernelspec": {
   "display_name": "Python 3 (ipykernel)",
   "language": "python",
   "name": "python3"
  },
  "language_info": {
   "codemirror_mode": {
    "name": "ipython",
    "version": 3
   },
   "file_extension": ".py",
   "mimetype": "text/x-python",
   "name": "python",
   "nbconvert_exporter": "python",
   "pygments_lexer": "ipython3",
   "version": "3.9.15"
  }
 },
 "nbformat": 4,
 "nbformat_minor": 5
}
