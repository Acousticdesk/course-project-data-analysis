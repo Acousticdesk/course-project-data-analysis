{
 "cells": [
  {
   "cell_type": "markdown",
   "id": "60ae8b04",
   "metadata": {},
   "source": [
    "# Аналіз набору даних новобудов у місті Київ"
   ]
  },
  {
   "cell_type": "markdown",
   "id": "61b70703",
   "metadata": {},
   "source": [
    "Для створення актуального набору даних із достатньою кількістю категоріальних критеріїв було створено скрапер за допомогою технології Puppeteer.\n",
    "\n",
    "Дані збираються з веб-сайту lun.ua - найпопулярнішого агрегатору даних про новобудови в Україні.\n",
    "\n",
    "Для аналізу набору даних використовується бібліотека pandas.\n",
    "\n",
    "Ціллю збору даних є використання їх для тренування нейронної мережі яка моделює вартість заданого обʼєкту нерухомості із певними характеристками.\n",
    "\n",
    "#### Словник\n",
    "\n",
    "Характеристики обʼєкту (англ. Features) - характеристики з яких будуть обрані залежні та незалежні змінні для тренування моделі для знаходження залежності незалежних змінних від залежних.\n",
    "\n",
    "Форма (англ. Shape) - описана через формат (N, M) де N - кількість рядків, M - кількість комірок\n",
    "\n",
    "Теплова карта (англ. Heatmap) - формат візуалізації даних кореляції між характеристиками набору даних\n",
    "\n",
    "#### Предметна Область\n",
    "\n",
    "##### Залежні змінні/ Незалежні змінні\n",
    "\n",
    "Залежною змінною є ціна на обʼєкт нерухомості.\n",
    "Незалежними змінними є множина характеристик обʼєкту нерухомості що включає в себе числові значення та категоріальні дані."
   ]
  },
  {
   "cell_type": "markdown",
   "id": "89a717ff",
   "metadata": {},
   "source": [
    "## Ініціалазація бібліотеки Pandas"
   ]
  },
  {
   "cell_type": "code",
   "execution_count": 1,
   "id": "45c8ea6a",
   "metadata": {},
   "outputs": [],
   "source": [
    "import pandas as pd\n",
    "# бібліотека використовується для візуалізації характеристик набору даних та візуалізацій залежності між змінними\n",
    "import matplotlib.pylab as plt\n",
    "# бібліотека для візуалізації кореляції між характеристиками у вигляді теплової карти\n",
    "import seaborn as sns\n",
    "# використовується для перемішування набору даних для кращого ефекту від тренування моделі\n",
    "import random\n",
    "pd.set_option('display.max_columns', 100)\n",
    "pd.set_option('display.max_rows', 100)"
   ]
  },
  {
   "cell_type": "markdown",
   "id": "ca342d1e",
   "metadata": {},
   "source": [
    "## Допоміжні бібліотеки"
   ]
  },
  {
   "cell_type": "code",
   "execution_count": 2,
   "id": "c8f11b90",
   "metadata": {},
   "outputs": [],
   "source": [
    "def df_to_list(df):\n",
    "    return df.values.flatten().tolist()"
   ]
  },
  {
   "cell_type": "markdown",
   "id": "fc2ff655",
   "metadata": {},
   "source": [
    "## Приклад записів з набору даних"
   ]
  },
  {
   "cell_type": "code",
   "execution_count": 3,
   "id": "ed4f6f2b",
   "metadata": {
    "scrolled": true
   },
   "outputs": [
    {
     "data": {
      "text/plain": [
       "(3459, 17)"
      ]
     },
     "execution_count": 3,
     "metadata": {},
     "output_type": "execute_result"
    }
   ],
   "source": [
    "df = pd.read_csv('./real-estate.csv')\n",
    "df.shape"
   ]
  },
  {
   "cell_type": "code",
   "execution_count": 4,
   "id": "045ce182",
   "metadata": {
    "scrolled": false
   },
   "outputs": [
    {
     "data": {
      "text/html": [
       "<div>\n",
       "<style scoped>\n",
       "    .dataframe tbody tr th:only-of-type {\n",
       "        vertical-align: middle;\n",
       "    }\n",
       "\n",
       "    .dataframe tbody tr th {\n",
       "        vertical-align: top;\n",
       "    }\n",
       "\n",
       "    .dataframe thead th {\n",
       "        text-align: right;\n",
       "    }\n",
       "</style>\n",
       "<table border=\"1\" class=\"dataframe\">\n",
       "  <thead>\n",
       "    <tr style=\"text-align: right;\">\n",
       "      <th></th>\n",
       "      <th>residence</th>\n",
       "      <th>developer</th>\n",
       "      <th>attributes/class</th>\n",
       "      <th>attributes/construction_technology</th>\n",
       "      <th>attributes/walls</th>\n",
       "      <th>attributes/insulation</th>\n",
       "      <th>attributes/heating</th>\n",
       "      <th>attributes/num_apartments</th>\n",
       "      <th>attributes/state</th>\n",
       "      <th>attributes/protected_area</th>\n",
       "      <th>attributes/parking</th>\n",
       "      <th>financials/installmentPlan</th>\n",
       "      <th>financials/installmentPlanTerm</th>\n",
       "      <th>pricePerUnit</th>\n",
       "      <th>price</th>\n",
       "      <th>area</th>\n",
       "      <th>rooms</th>\n",
       "    </tr>\n",
       "  </thead>\n",
       "  <tbody>\n",
       "    <tr>\n",
       "      <th>0</th>\n",
       "      <td>ЖК Montreal House</td>\n",
       "      <td>Alliance Novobud</td>\n",
       "      <td>бізнес</td>\n",
       "      <td>монолітно-каркасна</td>\n",
       "      <td>цегла</td>\n",
       "      <td>мінеральна вата</td>\n",
       "      <td>автономне (в будинку)</td>\n",
       "      <td>328</td>\n",
       "      <td>без ремонту</td>\n",
       "      <td>від авто та сторонніх</td>\n",
       "      <td>підземний з ліфтом (187 паркомісць)</td>\n",
       "      <td>True</td>\n",
       "      <td>1.0</td>\n",
       "      <td>116825.0</td>\n",
       "      <td>5023475.0</td>\n",
       "      <td>43</td>\n",
       "      <td>1</td>\n",
       "    </tr>\n",
       "    <tr>\n",
       "      <th>1</th>\n",
       "      <td>ЖК Montreal House</td>\n",
       "      <td>Alliance Novobud</td>\n",
       "      <td>бізнес</td>\n",
       "      <td>монолітно-каркасна</td>\n",
       "      <td>цегла</td>\n",
       "      <td>мінеральна вата</td>\n",
       "      <td>автономне (в будинку)</td>\n",
       "      <td>328</td>\n",
       "      <td>без ремонту</td>\n",
       "      <td>від авто та сторонніх</td>\n",
       "      <td>підземний з ліфтом (187 паркомісць)</td>\n",
       "      <td>True</td>\n",
       "      <td>1.0</td>\n",
       "      <td>116825.0</td>\n",
       "      <td>6308550.0</td>\n",
       "      <td>54</td>\n",
       "      <td>1</td>\n",
       "    </tr>\n",
       "    <tr>\n",
       "      <th>2</th>\n",
       "      <td>ЖК Montreal House</td>\n",
       "      <td>Alliance Novobud</td>\n",
       "      <td>бізнес</td>\n",
       "      <td>монолітно-каркасна</td>\n",
       "      <td>цегла</td>\n",
       "      <td>мінеральна вата</td>\n",
       "      <td>автономне (в будинку)</td>\n",
       "      <td>328</td>\n",
       "      <td>без ремонту</td>\n",
       "      <td>від авто та сторонніх</td>\n",
       "      <td>підземний з ліфтом (187 паркомісць)</td>\n",
       "      <td>True</td>\n",
       "      <td>1.0</td>\n",
       "      <td>116825.0</td>\n",
       "      <td>5958075.0</td>\n",
       "      <td>51</td>\n",
       "      <td>1</td>\n",
       "    </tr>\n",
       "  </tbody>\n",
       "</table>\n",
       "</div>"
      ],
      "text/plain": [
       "           residence         developer attributes/class  \\\n",
       "0  ЖК Montreal House  Alliance Novobud           бізнес   \n",
       "1  ЖК Montreal House  Alliance Novobud           бізнес   \n",
       "2  ЖК Montreal House  Alliance Novobud           бізнес   \n",
       "\n",
       "  attributes/construction_technology attributes/walls attributes/insulation  \\\n",
       "0                 монолітно-каркасна            цегла       мінеральна вата   \n",
       "1                 монолітно-каркасна            цегла       мінеральна вата   \n",
       "2                 монолітно-каркасна            цегла       мінеральна вата   \n",
       "\n",
       "      attributes/heating attributes/num_apartments attributes/state  \\\n",
       "0  автономне (в будинку)                       328      без ремонту   \n",
       "1  автономне (в будинку)                       328      без ремонту   \n",
       "2  автономне (в будинку)                       328      без ремонту   \n",
       "\n",
       "  attributes/protected_area                   attributes/parking  \\\n",
       "0     від авто та сторонніх  підземний з ліфтом (187 паркомісць)   \n",
       "1     від авто та сторонніх  підземний з ліфтом (187 паркомісць)   \n",
       "2     від авто та сторонніх  підземний з ліфтом (187 паркомісць)   \n",
       "\n",
       "  financials/installmentPlan  financials/installmentPlanTerm  pricePerUnit  \\\n",
       "0                       True                             1.0      116825.0   \n",
       "1                       True                             1.0      116825.0   \n",
       "2                       True                             1.0      116825.0   \n",
       "\n",
       "       price  area  rooms  \n",
       "0  5023475.0    43      1  \n",
       "1  6308550.0    54      1  \n",
       "2  5958075.0    51      1  "
      ]
     },
     "execution_count": 4,
     "metadata": {},
     "output_type": "execute_result"
    }
   ],
   "source": [
    "df.head(3)"
   ]
  },
  {
   "cell_type": "markdown",
   "id": "06eb0051",
   "metadata": {},
   "source": [
    "## Фільтрація набору даних"
   ]
  },
  {
   "cell_type": "markdown",
   "id": "fbc73837",
   "metadata": {},
   "source": [
    "### Пусті значення"
   ]
  },
  {
   "cell_type": "code",
   "execution_count": 5,
   "id": "ab42ab04",
   "metadata": {
    "scrolled": true
   },
   "outputs": [
    {
     "data": {
      "text/plain": [
       "residence                                0\n",
       "developer                              426\n",
       "attributes/class                        14\n",
       "attributes/construction_technology       0\n",
       "attributes/walls                         0\n",
       "attributes/insulation                    0\n",
       "attributes/heating                       0\n",
       "attributes/num_apartments               10\n",
       "attributes/state                         0\n",
       "attributes/protected_area               10\n",
       "attributes/parking                       0\n",
       "financials/installmentPlan             572\n",
       "financials/installmentPlanTerm        2204\n",
       "pricePerUnit                          1276\n",
       "price                                 1276\n",
       "area                                     0\n",
       "rooms                                    0\n",
       "dtype: int64"
      ]
     },
     "execution_count": 5,
     "metadata": {},
     "output_type": "execute_result"
    }
   ],
   "source": [
    "df.isna().sum()"
   ]
  },
  {
   "cell_type": "markdown",
   "id": "751333ab",
   "metadata": {},
   "source": [
    "#### Новобудови без ціни"
   ]
  },
  {
   "cell_type": "code",
   "execution_count": 6,
   "id": "42f1475a",
   "metadata": {},
   "outputs": [],
   "source": [
    "df = df.loc[~df['price'].isna()]"
   ]
  },
  {
   "cell_type": "markdown",
   "id": "e552ee79",
   "metadata": {},
   "source": [
    "#### Новобудови без розстрочки"
   ]
  },
  {
   "cell_type": "code",
   "execution_count": 7,
   "id": "b08739bb",
   "metadata": {},
   "outputs": [],
   "source": [
    "df.loc[df['financials/installmentPlanTerm'].isnull(), 'financials/installmentPlanTerm'] = 0"
   ]
  },
  {
   "cell_type": "markdown",
   "id": "330ce933",
   "metadata": {},
   "source": [
    "#### Новобудови без вказаного забудовника"
   ]
  },
  {
   "cell_type": "code",
   "execution_count": 8,
   "id": "602f0789",
   "metadata": {},
   "outputs": [],
   "source": [
    "df.loc[df['developer'].isnull(), 'developer'] = 'Невідомий Забудовник'"
   ]
  },
  {
   "cell_type": "markdown",
   "id": "417eefbb",
   "metadata": {},
   "source": [
    "#### Новобудови без інформації про кількість квартир у будинку"
   ]
  },
  {
   "cell_type": "code",
   "execution_count": 9,
   "id": "d7b38b2e",
   "metadata": {},
   "outputs": [],
   "source": [
    "df = df.loc[~df['attributes/num_apartments'].isna()]"
   ]
  },
  {
   "cell_type": "markdown",
   "id": "0a568d36",
   "metadata": {},
   "source": [
    "#### Результат фільтрації"
   ]
  },
  {
   "cell_type": "code",
   "execution_count": 10,
   "id": "adcd31e6",
   "metadata": {
    "scrolled": true
   },
   "outputs": [
    {
     "data": {
      "text/plain": [
       "residence                             0\n",
       "developer                             0\n",
       "attributes/class                      0\n",
       "attributes/construction_technology    0\n",
       "attributes/walls                      0\n",
       "attributes/insulation                 0\n",
       "attributes/heating                    0\n",
       "attributes/num_apartments             0\n",
       "attributes/state                      0\n",
       "attributes/protected_area             0\n",
       "attributes/parking                    0\n",
       "financials/installmentPlan            0\n",
       "financials/installmentPlanTerm        0\n",
       "pricePerUnit                          0\n",
       "price                                 0\n",
       "area                                  0\n",
       "rooms                                 0\n",
       "dtype: int64"
      ]
     },
     "execution_count": 10,
     "metadata": {},
     "output_type": "execute_result"
    }
   ],
   "source": [
    "df.isna().sum()"
   ]
  },
  {
   "cell_type": "code",
   "execution_count": 11,
   "id": "12c5ff8b",
   "metadata": {},
   "outputs": [
    {
     "data": {
      "text/plain": [
       "(2183, 17)"
      ]
     },
     "execution_count": 11,
     "metadata": {},
     "output_type": "execute_result"
    }
   ],
   "source": [
    "df.shape"
   ]
  },
  {
   "cell_type": "markdown",
   "id": "2327b76d",
   "metadata": {},
   "source": [
    "### NaN значення"
   ]
  },
  {
   "cell_type": "code",
   "execution_count": 12,
   "id": "d224ae82",
   "metadata": {},
   "outputs": [
    {
     "data": {
      "text/plain": [
       "residence                             0\n",
       "developer                             0\n",
       "attributes/class                      0\n",
       "attributes/construction_technology    0\n",
       "attributes/walls                      0\n",
       "attributes/insulation                 0\n",
       "attributes/heating                    0\n",
       "attributes/num_apartments             0\n",
       "attributes/state                      0\n",
       "attributes/protected_area             0\n",
       "attributes/parking                    0\n",
       "financials/installmentPlan            0\n",
       "financials/installmentPlanTerm        0\n",
       "pricePerUnit                          0\n",
       "price                                 0\n",
       "area                                  0\n",
       "rooms                                 0\n",
       "dtype: int64"
      ]
     },
     "execution_count": 12,
     "metadata": {},
     "output_type": "execute_result"
    }
   ],
   "source": [
    "df.isnull().sum()"
   ]
  },
  {
   "cell_type": "code",
   "execution_count": 13,
   "id": "8de3ae03",
   "metadata": {},
   "outputs": [],
   "source": [
    "df = df.loc[~df['attributes/num_apartments'].isnull()]"
   ]
  },
  {
   "cell_type": "markdown",
   "id": "e78a1b97",
   "metadata": {},
   "source": [
    "#### Результат фільтрації"
   ]
  },
  {
   "cell_type": "code",
   "execution_count": 14,
   "id": "99776454",
   "metadata": {
    "scrolled": false
   },
   "outputs": [
    {
     "data": {
      "text/plain": [
       "residence                             0\n",
       "developer                             0\n",
       "attributes/class                      0\n",
       "attributes/construction_technology    0\n",
       "attributes/walls                      0\n",
       "attributes/insulation                 0\n",
       "attributes/heating                    0\n",
       "attributes/num_apartments             0\n",
       "attributes/state                      0\n",
       "attributes/protected_area             0\n",
       "attributes/parking                    0\n",
       "financials/installmentPlan            0\n",
       "financials/installmentPlanTerm        0\n",
       "pricePerUnit                          0\n",
       "price                                 0\n",
       "area                                  0\n",
       "rooms                                 0\n",
       "dtype: int64"
      ]
     },
     "execution_count": 14,
     "metadata": {},
     "output_type": "execute_result"
    }
   ],
   "source": [
    "df.isnull().sum()"
   ]
  },
  {
   "cell_type": "code",
   "execution_count": 15,
   "id": "50de9eca",
   "metadata": {},
   "outputs": [
    {
     "data": {
      "text/plain": [
       "(2183, 17)"
      ]
     },
     "execution_count": 15,
     "metadata": {},
     "output_type": "execute_result"
    }
   ],
   "source": [
    "df.shape"
   ]
  },
  {
   "cell_type": "markdown",
   "id": "bc51484d",
   "metadata": {},
   "source": [
    "### Дублікати"
   ]
  },
  {
   "cell_type": "code",
   "execution_count": 16,
   "id": "9edcd880",
   "metadata": {
    "scrolled": true
   },
   "outputs": [
    {
     "data": {
      "text/html": [
       "<div>\n",
       "<style scoped>\n",
       "    .dataframe tbody tr th:only-of-type {\n",
       "        vertical-align: middle;\n",
       "    }\n",
       "\n",
       "    .dataframe tbody tr th {\n",
       "        vertical-align: top;\n",
       "    }\n",
       "\n",
       "    .dataframe thead th {\n",
       "        text-align: right;\n",
       "    }\n",
       "</style>\n",
       "<table border=\"1\" class=\"dataframe\">\n",
       "  <thead>\n",
       "    <tr style=\"text-align: right;\">\n",
       "      <th></th>\n",
       "      <th>residence</th>\n",
       "      <th>developer</th>\n",
       "      <th>attributes/class</th>\n",
       "      <th>attributes/construction_technology</th>\n",
       "      <th>attributes/walls</th>\n",
       "      <th>attributes/insulation</th>\n",
       "      <th>attributes/heating</th>\n",
       "      <th>attributes/num_apartments</th>\n",
       "      <th>attributes/state</th>\n",
       "      <th>attributes/protected_area</th>\n",
       "      <th>attributes/parking</th>\n",
       "      <th>financials/installmentPlan</th>\n",
       "      <th>financials/installmentPlanTerm</th>\n",
       "      <th>pricePerUnit</th>\n",
       "      <th>price</th>\n",
       "      <th>area</th>\n",
       "      <th>rooms</th>\n",
       "    </tr>\n",
       "  </thead>\n",
       "  <tbody>\n",
       "    <tr>\n",
       "      <th>4</th>\n",
       "      <td>ЖК Montreal House</td>\n",
       "      <td>Alliance Novobud</td>\n",
       "      <td>бізнес</td>\n",
       "      <td>монолітно-каркасна</td>\n",
       "      <td>цегла</td>\n",
       "      <td>мінеральна вата</td>\n",
       "      <td>автономне (в будинку)</td>\n",
       "      <td>328</td>\n",
       "      <td>без ремонту</td>\n",
       "      <td>від авто та сторонніх</td>\n",
       "      <td>підземний з ліфтом (187 паркомісць)</td>\n",
       "      <td>True</td>\n",
       "      <td>1.0</td>\n",
       "      <td>116825.0</td>\n",
       "      <td>6308550.0</td>\n",
       "      <td>54</td>\n",
       "      <td>1</td>\n",
       "    </tr>\n",
       "    <tr>\n",
       "      <th>12</th>\n",
       "      <td>ЖК Montreal House</td>\n",
       "      <td>Alliance Novobud</td>\n",
       "      <td>бізнес</td>\n",
       "      <td>монолітно-каркасна</td>\n",
       "      <td>цегла</td>\n",
       "      <td>мінеральна вата</td>\n",
       "      <td>автономне (в будинку)</td>\n",
       "      <td>328</td>\n",
       "      <td>без ремонту</td>\n",
       "      <td>від авто та сторонніх</td>\n",
       "      <td>підземний з ліфтом (187 паркомісць)</td>\n",
       "      <td>True</td>\n",
       "      <td>1.0</td>\n",
       "      <td>106750.0</td>\n",
       "      <td>9394000.0</td>\n",
       "      <td>88</td>\n",
       "      <td>2</td>\n",
       "    </tr>\n",
       "    <tr>\n",
       "      <th>13</th>\n",
       "      <td>ЖК Montreal House</td>\n",
       "      <td>Alliance Novobud</td>\n",
       "      <td>бізнес</td>\n",
       "      <td>монолітно-каркасна</td>\n",
       "      <td>цегла</td>\n",
       "      <td>мінеральна вата</td>\n",
       "      <td>автономне (в будинку)</td>\n",
       "      <td>328</td>\n",
       "      <td>без ремонту</td>\n",
       "      <td>від авто та сторонніх</td>\n",
       "      <td>підземний з ліфтом (187 паркомісць)</td>\n",
       "      <td>True</td>\n",
       "      <td>1.0</td>\n",
       "      <td>106750.0</td>\n",
       "      <td>9394000.0</td>\n",
       "      <td>88</td>\n",
       "      <td>2</td>\n",
       "    </tr>\n",
       "    <tr>\n",
       "      <th>28</th>\n",
       "      <td>ЖК LUCKY LAND</td>\n",
       "      <td>DIM</td>\n",
       "      <td>комфорт</td>\n",
       "      <td>монолітно-каркасна</td>\n",
       "      <td>керамоблок</td>\n",
       "      <td>мінеральна вата</td>\n",
       "      <td>індивідуальне (в квартирі)</td>\n",
       "      <td>5183</td>\n",
       "      <td>без ремонту, з ремонтом</td>\n",
       "      <td>від авто та сторонніх</td>\n",
       "      <td>гостьовий (2500 паркомісць), підземний з ліфто...</td>\n",
       "      <td>True</td>\n",
       "      <td>3.0</td>\n",
       "      <td>66425.0</td>\n",
       "      <td>1859900.0</td>\n",
       "      <td>28</td>\n",
       "      <td>1</td>\n",
       "    </tr>\n",
       "    <tr>\n",
       "      <th>35</th>\n",
       "      <td>ЖК LUCKY LAND</td>\n",
       "      <td>DIM</td>\n",
       "      <td>комфорт</td>\n",
       "      <td>монолітно-каркасна</td>\n",
       "      <td>керамоблок</td>\n",
       "      <td>мінеральна вата</td>\n",
       "      <td>індивідуальне (в квартирі)</td>\n",
       "      <td>5183</td>\n",
       "      <td>без ремонту, з ремонтом</td>\n",
       "      <td>від авто та сторонніх</td>\n",
       "      <td>гостьовий (2500 паркомісць), підземний з ліфто...</td>\n",
       "      <td>True</td>\n",
       "      <td>3.0</td>\n",
       "      <td>66425.0</td>\n",
       "      <td>3586950.0</td>\n",
       "      <td>54</td>\n",
       "      <td>1</td>\n",
       "    </tr>\n",
       "    <tr>\n",
       "      <th>...</th>\n",
       "      <td>...</td>\n",
       "      <td>...</td>\n",
       "      <td>...</td>\n",
       "      <td>...</td>\n",
       "      <td>...</td>\n",
       "      <td>...</td>\n",
       "      <td>...</td>\n",
       "      <td>...</td>\n",
       "      <td>...</td>\n",
       "      <td>...</td>\n",
       "      <td>...</td>\n",
       "      <td>...</td>\n",
       "      <td>...</td>\n",
       "      <td>...</td>\n",
       "      <td>...</td>\n",
       "      <td>...</td>\n",
       "      <td>...</td>\n",
       "    </tr>\n",
       "    <tr>\n",
       "      <th>2852</th>\n",
       "      <td>ЖК Оберіг-2</td>\n",
       "      <td>Київміськбуд</td>\n",
       "      <td>комфорт</td>\n",
       "      <td>монолітно-каркасна</td>\n",
       "      <td>цегла, газоблок (газобетон)</td>\n",
       "      <td>мінеральна вата</td>\n",
       "      <td>централізоване</td>\n",
       "      <td>820 (2 будинки)</td>\n",
       "      <td>без ремонту</td>\n",
       "      <td>ні</td>\n",
       "      <td>гостьовий, підземний</td>\n",
       "      <td>True</td>\n",
       "      <td>0.0</td>\n",
       "      <td>40550.0</td>\n",
       "      <td>1540900.0</td>\n",
       "      <td>38</td>\n",
       "      <td>1</td>\n",
       "    </tr>\n",
       "    <tr>\n",
       "      <th>2854</th>\n",
       "      <td>ЖК Оберіг-2</td>\n",
       "      <td>Київміськбуд</td>\n",
       "      <td>комфорт</td>\n",
       "      <td>монолітно-каркасна</td>\n",
       "      <td>цегла, газоблок (газобетон)</td>\n",
       "      <td>мінеральна вата</td>\n",
       "      <td>централізоване</td>\n",
       "      <td>820 (2 будинки)</td>\n",
       "      <td>без ремонту</td>\n",
       "      <td>ні</td>\n",
       "      <td>гостьовий, підземний</td>\n",
       "      <td>True</td>\n",
       "      <td>0.0</td>\n",
       "      <td>40550.0</td>\n",
       "      <td>1581450.0</td>\n",
       "      <td>39</td>\n",
       "      <td>1</td>\n",
       "    </tr>\n",
       "    <tr>\n",
       "      <th>2866</th>\n",
       "      <td>ЖК Оберіг-2</td>\n",
       "      <td>Київміськбуд</td>\n",
       "      <td>комфорт</td>\n",
       "      <td>монолітно-каркасна</td>\n",
       "      <td>цегла, газоблок (газобетон)</td>\n",
       "      <td>мінеральна вата</td>\n",
       "      <td>централізоване</td>\n",
       "      <td>820 (2 будинки)</td>\n",
       "      <td>без ремонту</td>\n",
       "      <td>ні</td>\n",
       "      <td>гостьовий, підземний</td>\n",
       "      <td>True</td>\n",
       "      <td>0.0</td>\n",
       "      <td>36450.0</td>\n",
       "      <td>2515050.0</td>\n",
       "      <td>69</td>\n",
       "      <td>2</td>\n",
       "    </tr>\n",
       "    <tr>\n",
       "      <th>2871</th>\n",
       "      <td>ЖК Оберіг-2</td>\n",
       "      <td>Київміськбуд</td>\n",
       "      <td>комфорт</td>\n",
       "      <td>монолітно-каркасна</td>\n",
       "      <td>цегла, газоблок (газобетон)</td>\n",
       "      <td>мінеральна вата</td>\n",
       "      <td>централізоване</td>\n",
       "      <td>820 (2 будинки)</td>\n",
       "      <td>без ремонту</td>\n",
       "      <td>ні</td>\n",
       "      <td>гостьовий, підземний</td>\n",
       "      <td>True</td>\n",
       "      <td>0.0</td>\n",
       "      <td>36950.0</td>\n",
       "      <td>2771250.0</td>\n",
       "      <td>75</td>\n",
       "      <td>3</td>\n",
       "    </tr>\n",
       "    <tr>\n",
       "      <th>2879</th>\n",
       "      <td>ЖК Оберіг-2</td>\n",
       "      <td>Київміськбуд</td>\n",
       "      <td>комфорт</td>\n",
       "      <td>монолітно-каркасна</td>\n",
       "      <td>цегла, газоблок (газобетон)</td>\n",
       "      <td>мінеральна вата</td>\n",
       "      <td>централізоване</td>\n",
       "      <td>820 (2 будинки)</td>\n",
       "      <td>без ремонту</td>\n",
       "      <td>ні</td>\n",
       "      <td>гостьовий, підземний</td>\n",
       "      <td>True</td>\n",
       "      <td>0.0</td>\n",
       "      <td>36950.0</td>\n",
       "      <td>3768900.0</td>\n",
       "      <td>102</td>\n",
       "      <td>3</td>\n",
       "    </tr>\n",
       "  </tbody>\n",
       "</table>\n",
       "<p>356 rows × 17 columns</p>\n",
       "</div>"
      ],
      "text/plain": [
       "              residence         developer attributes/class  \\\n",
       "4     ЖК Montreal House  Alliance Novobud           бізнес   \n",
       "12    ЖК Montreal House  Alliance Novobud           бізнес   \n",
       "13    ЖК Montreal House  Alliance Novobud           бізнес   \n",
       "28        ЖК LUCKY LAND               DIM          комфорт   \n",
       "35        ЖК LUCKY LAND               DIM          комфорт   \n",
       "...                 ...               ...              ...   \n",
       "2852        ЖК Оберіг-2      Київміськбуд          комфорт   \n",
       "2854        ЖК Оберіг-2      Київміськбуд          комфорт   \n",
       "2866        ЖК Оберіг-2      Київміськбуд          комфорт   \n",
       "2871        ЖК Оберіг-2      Київміськбуд          комфорт   \n",
       "2879        ЖК Оберіг-2      Київміськбуд          комфорт   \n",
       "\n",
       "     attributes/construction_technology             attributes/walls  \\\n",
       "4                    монолітно-каркасна                        цегла   \n",
       "12                   монолітно-каркасна                        цегла   \n",
       "13                   монолітно-каркасна                        цегла   \n",
       "28                   монолітно-каркасна                   керамоблок   \n",
       "35                   монолітно-каркасна                   керамоблок   \n",
       "...                                 ...                          ...   \n",
       "2852                 монолітно-каркасна  цегла, газоблок (газобетон)   \n",
       "2854                 монолітно-каркасна  цегла, газоблок (газобетон)   \n",
       "2866                 монолітно-каркасна  цегла, газоблок (газобетон)   \n",
       "2871                 монолітно-каркасна  цегла, газоблок (газобетон)   \n",
       "2879                 монолітно-каркасна  цегла, газоблок (газобетон)   \n",
       "\n",
       "     attributes/insulation          attributes/heating  \\\n",
       "4          мінеральна вата       автономне (в будинку)   \n",
       "12         мінеральна вата       автономне (в будинку)   \n",
       "13         мінеральна вата       автономне (в будинку)   \n",
       "28         мінеральна вата  індивідуальне (в квартирі)   \n",
       "35         мінеральна вата  індивідуальне (в квартирі)   \n",
       "...                    ...                         ...   \n",
       "2852       мінеральна вата              централізоване   \n",
       "2854       мінеральна вата              централізоване   \n",
       "2866       мінеральна вата              централізоване   \n",
       "2871       мінеральна вата              централізоване   \n",
       "2879       мінеральна вата              централізоване   \n",
       "\n",
       "     attributes/num_apartments         attributes/state  \\\n",
       "4                          328              без ремонту   \n",
       "12                         328              без ремонту   \n",
       "13                         328              без ремонту   \n",
       "28                        5183  без ремонту, з ремонтом   \n",
       "35                        5183  без ремонту, з ремонтом   \n",
       "...                        ...                      ...   \n",
       "2852           820 (2 будинки)              без ремонту   \n",
       "2854           820 (2 будинки)              без ремонту   \n",
       "2866           820 (2 будинки)              без ремонту   \n",
       "2871           820 (2 будинки)              без ремонту   \n",
       "2879           820 (2 будинки)              без ремонту   \n",
       "\n",
       "     attributes/protected_area  \\\n",
       "4        від авто та сторонніх   \n",
       "12       від авто та сторонніх   \n",
       "13       від авто та сторонніх   \n",
       "28       від авто та сторонніх   \n",
       "35       від авто та сторонніх   \n",
       "...                        ...   \n",
       "2852                        ні   \n",
       "2854                        ні   \n",
       "2866                        ні   \n",
       "2871                        ні   \n",
       "2879                        ні   \n",
       "\n",
       "                                     attributes/parking  \\\n",
       "4                   підземний з ліфтом (187 паркомісць)   \n",
       "12                  підземний з ліфтом (187 паркомісць)   \n",
       "13                  підземний з ліфтом (187 паркомісць)   \n",
       "28    гостьовий (2500 паркомісць), підземний з ліфто...   \n",
       "35    гостьовий (2500 паркомісць), підземний з ліфто...   \n",
       "...                                                 ...   \n",
       "2852                               гостьовий, підземний   \n",
       "2854                               гостьовий, підземний   \n",
       "2866                               гостьовий, підземний   \n",
       "2871                               гостьовий, підземний   \n",
       "2879                               гостьовий, підземний   \n",
       "\n",
       "     financials/installmentPlan  financials/installmentPlanTerm  pricePerUnit  \\\n",
       "4                          True                             1.0      116825.0   \n",
       "12                         True                             1.0      106750.0   \n",
       "13                         True                             1.0      106750.0   \n",
       "28                         True                             3.0       66425.0   \n",
       "35                         True                             3.0       66425.0   \n",
       "...                         ...                             ...           ...   \n",
       "2852                       True                             0.0       40550.0   \n",
       "2854                       True                             0.0       40550.0   \n",
       "2866                       True                             0.0       36450.0   \n",
       "2871                       True                             0.0       36950.0   \n",
       "2879                       True                             0.0       36950.0   \n",
       "\n",
       "          price  area  rooms  \n",
       "4     6308550.0    54      1  \n",
       "12    9394000.0    88      2  \n",
       "13    9394000.0    88      2  \n",
       "28    1859900.0    28      1  \n",
       "35    3586950.0    54      1  \n",
       "...         ...   ...    ...  \n",
       "2852  1540900.0    38      1  \n",
       "2854  1581450.0    39      1  \n",
       "2866  2515050.0    69      2  \n",
       "2871  2771250.0    75      3  \n",
       "2879  3768900.0   102      3  \n",
       "\n",
       "[356 rows x 17 columns]"
      ]
     },
     "execution_count": 16,
     "metadata": {},
     "output_type": "execute_result"
    }
   ],
   "source": [
    "df.loc[df.duplicated()]"
   ]
  },
  {
   "cell_type": "markdown",
   "id": "acad54ae",
   "metadata": {},
   "source": [
    "### Очистка від дублікатів"
   ]
  },
  {
   "cell_type": "code",
   "execution_count": 17,
   "id": "ac1c1533",
   "metadata": {},
   "outputs": [],
   "source": [
    "df = df.loc[~df.duplicated()].reset_index(drop=True).copy()"
   ]
  },
  {
   "cell_type": "code",
   "execution_count": 18,
   "id": "9c3f6aa5",
   "metadata": {},
   "outputs": [
    {
     "data": {
      "text/plain": [
       "(1827, 17)"
      ]
     },
     "execution_count": 18,
     "metadata": {},
     "output_type": "execute_result"
    }
   ],
   "source": [
    "df.shape"
   ]
  },
  {
   "cell_type": "markdown",
   "id": "b0a61c1a",
   "metadata": {},
   "source": [
    "### Приведення типів"
   ]
  },
  {
   "cell_type": "code",
   "execution_count": 19,
   "id": "368480c3",
   "metadata": {},
   "outputs": [],
   "source": [
    "df[\"attributes/num_apartments\"] = pd.to_numeric(df[\"attributes/num_apartments\"], errors='coerce')"
   ]
  },
  {
   "cell_type": "code",
   "execution_count": 20,
   "id": "1d51307b",
   "metadata": {},
   "outputs": [
    {
     "data": {
      "text/plain": [
       "residence                              object\n",
       "developer                              object\n",
       "attributes/class                       object\n",
       "attributes/construction_technology     object\n",
       "attributes/walls                       object\n",
       "attributes/insulation                  object\n",
       "attributes/heating                     object\n",
       "attributes/num_apartments             float64\n",
       "attributes/state                       object\n",
       "attributes/protected_area              object\n",
       "attributes/parking                     object\n",
       "financials/installmentPlan             object\n",
       "financials/installmentPlanTerm        float64\n",
       "pricePerUnit                          float64\n",
       "price                                 float64\n",
       "area                                    int64\n",
       "rooms                                   int64\n",
       "dtype: object"
      ]
     },
     "execution_count": 20,
     "metadata": {},
     "output_type": "execute_result"
    }
   ],
   "source": [
    "df.dtypes"
   ]
  },
  {
   "cell_type": "markdown",
   "id": "5235465d",
   "metadata": {},
   "source": [
    "## Ознайомлення із набором даних"
   ]
  },
  {
   "cell_type": "markdown",
   "id": "fb615f03",
   "metadata": {},
   "source": [
    "### Форма"
   ]
  },
  {
   "cell_type": "code",
   "execution_count": 21,
   "id": "6a791c86",
   "metadata": {},
   "outputs": [
    {
     "data": {
      "text/plain": [
       "(1827, 17)"
      ]
     },
     "execution_count": 21,
     "metadata": {},
     "output_type": "execute_result"
    }
   ],
   "source": [
    "df.shape"
   ]
  },
  {
   "cell_type": "markdown",
   "id": "e3ab02c1",
   "metadata": {},
   "source": [
    "### Типи даних"
   ]
  },
  {
   "cell_type": "code",
   "execution_count": 22,
   "id": "1d659c25",
   "metadata": {
    "scrolled": true
   },
   "outputs": [
    {
     "data": {
      "text/plain": [
       "residence                              object\n",
       "developer                              object\n",
       "attributes/class                       object\n",
       "attributes/construction_technology     object\n",
       "attributes/walls                       object\n",
       "attributes/insulation                  object\n",
       "attributes/heating                     object\n",
       "attributes/num_apartments             float64\n",
       "attributes/state                       object\n",
       "attributes/protected_area              object\n",
       "attributes/parking                     object\n",
       "financials/installmentPlan             object\n",
       "financials/installmentPlanTerm        float64\n",
       "pricePerUnit                          float64\n",
       "price                                 float64\n",
       "area                                    int64\n",
       "rooms                                   int64\n",
       "dtype: object"
      ]
     },
     "execution_count": 22,
     "metadata": {},
     "output_type": "execute_result"
    }
   ],
   "source": [
    "df.dtypes"
   ]
  },
  {
   "cell_type": "markdown",
   "id": "48e1bb7c",
   "metadata": {},
   "source": [
    "### Cтатистика"
   ]
  },
  {
   "cell_type": "code",
   "execution_count": 23,
   "id": "f0c4bbe0",
   "metadata": {
    "scrolled": false
   },
   "outputs": [
    {
     "data": {
      "text/html": [
       "<div>\n",
       "<style scoped>\n",
       "    .dataframe tbody tr th:only-of-type {\n",
       "        vertical-align: middle;\n",
       "    }\n",
       "\n",
       "    .dataframe tbody tr th {\n",
       "        vertical-align: top;\n",
       "    }\n",
       "\n",
       "    .dataframe thead th {\n",
       "        text-align: right;\n",
       "    }\n",
       "</style>\n",
       "<table border=\"1\" class=\"dataframe\">\n",
       "  <thead>\n",
       "    <tr style=\"text-align: right;\">\n",
       "      <th></th>\n",
       "      <th>attributes/num_apartments</th>\n",
       "      <th>financials/installmentPlanTerm</th>\n",
       "      <th>pricePerUnit</th>\n",
       "      <th>price</th>\n",
       "      <th>area</th>\n",
       "      <th>rooms</th>\n",
       "    </tr>\n",
       "  </thead>\n",
       "  <tbody>\n",
       "    <tr>\n",
       "      <th>count</th>\n",
       "      <td>1452.000000</td>\n",
       "      <td>1827.000000</td>\n",
       "      <td>1827.000000</td>\n",
       "      <td>1.827000e+03</td>\n",
       "      <td>1827.000000</td>\n",
       "      <td>1827.000000</td>\n",
       "    </tr>\n",
       "    <tr>\n",
       "      <th>mean</th>\n",
       "      <td>1530.763085</td>\n",
       "      <td>1.295567</td>\n",
       "      <td>69474.603175</td>\n",
       "      <td>5.778772e+06</td>\n",
       "      <td>79.166940</td>\n",
       "      <td>2.099617</td>\n",
       "    </tr>\n",
       "    <tr>\n",
       "      <th>std</th>\n",
       "      <td>1879.105511</td>\n",
       "      <td>1.807311</td>\n",
       "      <td>40890.805075</td>\n",
       "      <td>5.886273e+06</td>\n",
       "      <td>36.437752</td>\n",
       "      <td>1.022172</td>\n",
       "    </tr>\n",
       "    <tr>\n",
       "      <th>min</th>\n",
       "      <td>9.000000</td>\n",
       "      <td>0.000000</td>\n",
       "      <td>23450.000000</td>\n",
       "      <td>2.187000e+05</td>\n",
       "      <td>3.000000</td>\n",
       "      <td>1.000000</td>\n",
       "    </tr>\n",
       "    <tr>\n",
       "      <th>25%</th>\n",
       "      <td>321.000000</td>\n",
       "      <td>0.000000</td>\n",
       "      <td>40525.000000</td>\n",
       "      <td>2.775825e+06</td>\n",
       "      <td>51.000000</td>\n",
       "      <td>1.000000</td>\n",
       "    </tr>\n",
       "    <tr>\n",
       "      <th>50%</th>\n",
       "      <td>724.000000</td>\n",
       "      <td>0.000000</td>\n",
       "      <td>57275.000000</td>\n",
       "      <td>4.092525e+06</td>\n",
       "      <td>74.000000</td>\n",
       "      <td>2.000000</td>\n",
       "    </tr>\n",
       "    <tr>\n",
       "      <th>75%</th>\n",
       "      <td>1898.000000</td>\n",
       "      <td>2.000000</td>\n",
       "      <td>83325.000000</td>\n",
       "      <td>6.800938e+06</td>\n",
       "      <td>98.000000</td>\n",
       "      <td>3.000000</td>\n",
       "    </tr>\n",
       "    <tr>\n",
       "      <th>max</th>\n",
       "      <td>8339.000000</td>\n",
       "      <td>7.000000</td>\n",
       "      <td>333700.000000</td>\n",
       "      <td>8.342500e+07</td>\n",
       "      <td>278.000000</td>\n",
       "      <td>5.000000</td>\n",
       "    </tr>\n",
       "  </tbody>\n",
       "</table>\n",
       "</div>"
      ],
      "text/plain": [
       "       attributes/num_apartments  financials/installmentPlanTerm  \\\n",
       "count                1452.000000                     1827.000000   \n",
       "mean                 1530.763085                        1.295567   \n",
       "std                  1879.105511                        1.807311   \n",
       "min                     9.000000                        0.000000   \n",
       "25%                   321.000000                        0.000000   \n",
       "50%                   724.000000                        0.000000   \n",
       "75%                  1898.000000                        2.000000   \n",
       "max                  8339.000000                        7.000000   \n",
       "\n",
       "        pricePerUnit         price         area        rooms  \n",
       "count    1827.000000  1.827000e+03  1827.000000  1827.000000  \n",
       "mean    69474.603175  5.778772e+06    79.166940     2.099617  \n",
       "std     40890.805075  5.886273e+06    36.437752     1.022172  \n",
       "min     23450.000000  2.187000e+05     3.000000     1.000000  \n",
       "25%     40525.000000  2.775825e+06    51.000000     1.000000  \n",
       "50%     57275.000000  4.092525e+06    74.000000     2.000000  \n",
       "75%     83325.000000  6.800938e+06    98.000000     3.000000  \n",
       "max    333700.000000  8.342500e+07   278.000000     5.000000  "
      ]
     },
     "execution_count": 23,
     "metadata": {},
     "output_type": "execute_result"
    }
   ],
   "source": [
    "df.describe()"
   ]
  },
  {
   "cell_type": "markdown",
   "id": "e9ee5898",
   "metadata": {},
   "source": [
    "### Характеристики новобудов"
   ]
  },
  {
   "cell_type": "markdown",
   "id": "694f3765",
   "metadata": {},
   "source": [
    "#### Всі характеристики"
   ]
  },
  {
   "cell_type": "code",
   "execution_count": 24,
   "id": "a3966b2f",
   "metadata": {
    "scrolled": true
   },
   "outputs": [
    {
     "data": {
      "text/html": [
       "<div>\n",
       "<style scoped>\n",
       "    .dataframe tbody tr th:only-of-type {\n",
       "        vertical-align: middle;\n",
       "    }\n",
       "\n",
       "    .dataframe tbody tr th {\n",
       "        vertical-align: top;\n",
       "    }\n",
       "\n",
       "    .dataframe thead th {\n",
       "        text-align: right;\n",
       "    }\n",
       "</style>\n",
       "<table border=\"1\" class=\"dataframe\">\n",
       "  <thead>\n",
       "    <tr style=\"text-align: right;\">\n",
       "      <th></th>\n",
       "      <th>Характеристка обʼєкту нерухомості</th>\n",
       "    </tr>\n",
       "  </thead>\n",
       "  <tbody>\n",
       "    <tr>\n",
       "      <th>0</th>\n",
       "      <td>residence</td>\n",
       "    </tr>\n",
       "    <tr>\n",
       "      <th>1</th>\n",
       "      <td>developer</td>\n",
       "    </tr>\n",
       "    <tr>\n",
       "      <th>2</th>\n",
       "      <td>attributes/class</td>\n",
       "    </tr>\n",
       "    <tr>\n",
       "      <th>3</th>\n",
       "      <td>attributes/construction_technology</td>\n",
       "    </tr>\n",
       "    <tr>\n",
       "      <th>4</th>\n",
       "      <td>attributes/walls</td>\n",
       "    </tr>\n",
       "    <tr>\n",
       "      <th>5</th>\n",
       "      <td>attributes/insulation</td>\n",
       "    </tr>\n",
       "    <tr>\n",
       "      <th>6</th>\n",
       "      <td>attributes/heating</td>\n",
       "    </tr>\n",
       "    <tr>\n",
       "      <th>7</th>\n",
       "      <td>attributes/num_apartments</td>\n",
       "    </tr>\n",
       "    <tr>\n",
       "      <th>8</th>\n",
       "      <td>attributes/state</td>\n",
       "    </tr>\n",
       "    <tr>\n",
       "      <th>9</th>\n",
       "      <td>attributes/protected_area</td>\n",
       "    </tr>\n",
       "    <tr>\n",
       "      <th>10</th>\n",
       "      <td>attributes/parking</td>\n",
       "    </tr>\n",
       "    <tr>\n",
       "      <th>11</th>\n",
       "      <td>financials/installmentPlan</td>\n",
       "    </tr>\n",
       "    <tr>\n",
       "      <th>12</th>\n",
       "      <td>financials/installmentPlanTerm</td>\n",
       "    </tr>\n",
       "    <tr>\n",
       "      <th>13</th>\n",
       "      <td>pricePerUnit</td>\n",
       "    </tr>\n",
       "    <tr>\n",
       "      <th>14</th>\n",
       "      <td>price</td>\n",
       "    </tr>\n",
       "    <tr>\n",
       "      <th>15</th>\n",
       "      <td>area</td>\n",
       "    </tr>\n",
       "    <tr>\n",
       "      <th>16</th>\n",
       "      <td>rooms</td>\n",
       "    </tr>\n",
       "  </tbody>\n",
       "</table>\n",
       "</div>"
      ],
      "text/plain": [
       "     Характеристка обʼєкту нерухомості\n",
       "0                            residence\n",
       "1                            developer\n",
       "2                     attributes/class\n",
       "3   attributes/construction_technology\n",
       "4                     attributes/walls\n",
       "5                attributes/insulation\n",
       "6                   attributes/heating\n",
       "7            attributes/num_apartments\n",
       "8                     attributes/state\n",
       "9            attributes/protected_area\n",
       "10                  attributes/parking\n",
       "11          financials/installmentPlan\n",
       "12      financials/installmentPlanTerm\n",
       "13                        pricePerUnit\n",
       "14                               price\n",
       "15                                area\n",
       "16                               rooms"
      ]
     },
     "execution_count": 24,
     "metadata": {},
     "output_type": "execute_result"
    }
   ],
   "source": [
    "pd.DataFrame(data=df.columns, columns=['Характеристка обʼєкту нерухомості'])"
   ]
  },
  {
   "cell_type": "code",
   "execution_count": 25,
   "id": "0df254ce",
   "metadata": {},
   "outputs": [],
   "source": [
    "def save_charateristics_mapping(c, filename):\n",
    "    json_output = json.dumps(df_to_list(c), indent=2, ensure_ascii=False)\n",
    "\n",
    "    with open(f\"{filename}.json\", \"w\", encoding='utf8') as outfile:\n",
    "        outfile.write(json_output)"
   ]
  },
  {
   "cell_type": "markdown",
   "id": "3c37dee6",
   "metadata": {},
   "source": [
    "#### Назва житлового комплексу"
   ]
  },
  {
   "cell_type": "code",
   "execution_count": 26,
   "id": "c5792f4e",
   "metadata": {},
   "outputs": [
    {
     "ename": "NameError",
     "evalue": "name 'json' is not defined",
     "output_type": "error",
     "traceback": [
      "\u001b[0;31m---------------------------------------------------------------------------\u001b[0m",
      "\u001b[0;31mNameError\u001b[0m                                 Traceback (most recent call last)",
      "Cell \u001b[0;32mIn[26], line 2\u001b[0m\n\u001b[1;32m      1\u001b[0m residential_complex_names \u001b[38;5;241m=\u001b[39m pd\u001b[38;5;241m.\u001b[39mDataFrame(data\u001b[38;5;241m=\u001b[39mdf\u001b[38;5;241m.\u001b[39mresidence\u001b[38;5;241m.\u001b[39munique(), columns\u001b[38;5;241m=\u001b[39m[\u001b[38;5;124m'\u001b[39m\u001b[38;5;124mНазва житлового комплексу\u001b[39m\u001b[38;5;124m'\u001b[39m])\n\u001b[0;32m----> 2\u001b[0m \u001b[43msave_charateristics_mapping\u001b[49m\u001b[43m(\u001b[49m\u001b[43mresidential_complex_names\u001b[49m\u001b[43m,\u001b[49m\u001b[43m \u001b[49m\u001b[38;5;124;43m'\u001b[39;49m\u001b[38;5;124;43mresidential_complex_names\u001b[39;49m\u001b[38;5;124;43m'\u001b[39;49m\u001b[43m)\u001b[49m\n\u001b[1;32m      3\u001b[0m residential_complex_names\n",
      "Cell \u001b[0;32mIn[25], line 2\u001b[0m, in \u001b[0;36msave_charateristics_mapping\u001b[0;34m(c, filename)\u001b[0m\n\u001b[1;32m      1\u001b[0m \u001b[38;5;28;01mdef\u001b[39;00m \u001b[38;5;21msave_charateristics_mapping\u001b[39m(c, filename):\n\u001b[0;32m----> 2\u001b[0m     json_output \u001b[38;5;241m=\u001b[39m \u001b[43mjson\u001b[49m\u001b[38;5;241m.\u001b[39mdumps(df_to_list(c), indent\u001b[38;5;241m=\u001b[39m\u001b[38;5;241m2\u001b[39m, ensure_ascii\u001b[38;5;241m=\u001b[39m\u001b[38;5;28;01mFalse\u001b[39;00m)\n\u001b[1;32m      4\u001b[0m     \u001b[38;5;28;01mwith\u001b[39;00m \u001b[38;5;28mopen\u001b[39m(\u001b[38;5;124mf\u001b[39m\u001b[38;5;124m\"\u001b[39m\u001b[38;5;132;01m{\u001b[39;00mfilename\u001b[38;5;132;01m}\u001b[39;00m\u001b[38;5;124m.json\u001b[39m\u001b[38;5;124m\"\u001b[39m, \u001b[38;5;124m\"\u001b[39m\u001b[38;5;124mw\u001b[39m\u001b[38;5;124m\"\u001b[39m, encoding\u001b[38;5;241m=\u001b[39m\u001b[38;5;124m'\u001b[39m\u001b[38;5;124mutf8\u001b[39m\u001b[38;5;124m'\u001b[39m) \u001b[38;5;28;01mas\u001b[39;00m outfile:\n\u001b[1;32m      5\u001b[0m         outfile\u001b[38;5;241m.\u001b[39mwrite(json_output)\n",
      "\u001b[0;31mNameError\u001b[0m: name 'json' is not defined"
     ]
    }
   ],
   "source": [
    "residential_complex_names = pd.DataFrame(data=df.residence.unique(), columns=['Назва житлового комплексу'])\n",
    "save_charateristics_mapping(residential_complex_names, 'residential_complex_names')\n",
    "residential_complex_names"
   ]
  },
  {
   "cell_type": "markdown",
   "id": "7e933328",
   "metadata": {},
   "source": [
    "#### Забудовник"
   ]
  },
  {
   "cell_type": "code",
   "execution_count": null,
   "id": "e61a9f5a",
   "metadata": {
    "scrolled": false
   },
   "outputs": [],
   "source": [
    "developers = pd.DataFrame(data=df.developer.unique(), columns=['Забудовник'])\n",
    "save_charateristics_mapping(developers, 'developers')\n",
    "developers"
   ]
  },
  {
   "cell_type": "markdown",
   "id": "fc7789fe",
   "metadata": {},
   "source": [
    "#### Клас новобудови"
   ]
  },
  {
   "cell_type": "code",
   "execution_count": null,
   "id": "b358940c",
   "metadata": {},
   "outputs": [],
   "source": [
    "building_classes = pd.DataFrame(data=df['attributes/class'].unique(), columns=['Клас новобудови'])\n",
    "save_charateristics_mapping(building_classes, 'building_classes')\n",
    "building_classes"
   ]
  },
  {
   "cell_type": "markdown",
   "id": "e07fb890",
   "metadata": {},
   "source": [
    "#### Технологія будівництва"
   ]
  },
  {
   "cell_type": "code",
   "execution_count": null,
   "id": "970df65b",
   "metadata": {
    "scrolled": true
   },
   "outputs": [],
   "source": [
    "technologies = pd.DataFrame(data=df['attributes/construction_technology'].unique(), columns=['Технологія будівництва'])\n",
    "save_charateristics_mapping(technologies, 'technologies')\n",
    "technologies"
   ]
  },
  {
   "cell_type": "markdown",
   "id": "17ace5b6",
   "metadata": {},
   "source": [
    "#### Матеріал стін"
   ]
  },
  {
   "cell_type": "code",
   "execution_count": null,
   "id": "8ee849ff",
   "metadata": {},
   "outputs": [],
   "source": [
    "walls = pd.DataFrame(data=df['attributes/walls'].unique(), columns=['Матеріал стін'])\n",
    "save_charateristics_mapping(walls, 'walls')\n",
    "walls"
   ]
  },
  {
   "cell_type": "markdown",
   "id": "5f7e488c",
   "metadata": {},
   "source": [
    "#### Утелпення стін"
   ]
  },
  {
   "cell_type": "code",
   "execution_count": null,
   "id": "5a7b52a0",
   "metadata": {},
   "outputs": [],
   "source": [
    "insulations = pd.DataFrame(data=df['attributes/insulation'].unique(), columns=['Утелпення стін'])\n",
    "save_charateristics_mapping(insulations, 'insulations')\n",
    "insulations"
   ]
  },
  {
   "cell_type": "markdown",
   "id": "2f0b42fc",
   "metadata": {},
   "source": [
    "#### Опалення"
   ]
  },
  {
   "cell_type": "code",
   "execution_count": null,
   "id": "5fd9a9ab",
   "metadata": {},
   "outputs": [],
   "source": [
    "heating_options = pd.DataFrame(data=df['attributes/heating'].unique(), columns=['Опалення'])\n",
    "save_charateristics_mapping(heating_options, 'heating_options')\n",
    "heating_options"
   ]
  },
  {
   "cell_type": "markdown",
   "id": "7d6a72cd",
   "metadata": {},
   "source": [
    "#### Стан ремонту"
   ]
  },
  {
   "cell_type": "code",
   "execution_count": null,
   "id": "0fd0cc20",
   "metadata": {},
   "outputs": [],
   "source": [
    "renovation_states = pd.DataFrame(data=df['attributes/state'].unique(), columns=['Стан ремонту'])\n",
    "save_charateristics_mapping(renovation_states, 'renovation_states')\n",
    "renovation_states"
   ]
  },
  {
   "cell_type": "markdown",
   "id": "d6551cdb",
   "metadata": {},
   "source": [
    "#### Закрита територія"
   ]
  },
  {
   "cell_type": "code",
   "execution_count": null,
   "id": "931e710f",
   "metadata": {},
   "outputs": [],
   "source": [
    "protected_area_options = pd.DataFrame(data=df['attributes/protected_area'].unique(), columns=['Закрита територія'])\n",
    "save_charateristics_mapping(protected_area_options, 'protected_area_options')\n",
    "protected_area_options"
   ]
  },
  {
   "cell_type": "markdown",
   "id": "f5afe770",
   "metadata": {},
   "source": [
    "#### Паркінг"
   ]
  },
  {
   "cell_type": "code",
   "execution_count": null,
   "id": "ad40f92a",
   "metadata": {
    "scrolled": false
   },
   "outputs": [],
   "source": [
    "pd.DataFrame(data=df['attributes/parking'].unique(), columns=['Паркінг'])"
   ]
  },
  {
   "cell_type": "markdown",
   "id": "86a270b9",
   "metadata": {},
   "source": [
    "#### Термін розстрочки"
   ]
  },
  {
   "cell_type": "code",
   "execution_count": null,
   "id": "ada1bda2",
   "metadata": {},
   "outputs": [],
   "source": [
    "ax = df['financials/installmentPlanTerm'].value_counts().head(10).plot(kind='bar', title='Термін розстрочки')\n",
    "\n",
    "ax.set_xlabel('Років')\n",
    "ax.set_ylabel('Пропозицій')\n",
    "\n",
    "plt.show()"
   ]
  },
  {
   "cell_type": "markdown",
   "id": "a0ce5f21",
   "metadata": {},
   "source": [
    "#### Ціна за квадратний метр"
   ]
  },
  {
   "cell_type": "code",
   "execution_count": null,
   "id": "4b343c55",
   "metadata": {
    "scrolled": true
   },
   "outputs": [],
   "source": [
    "ax = df.copy().sort_values(by='pricePerUnit')['pricePerUnit'].plot(kind='hist', bins=50, title='Ціна за квадратний метр')\n",
    "\n",
    "ax.set_xlabel('Ціна (грн)')\n",
    "ax.set_ylabel('Частота пропозиції')\n",
    "\n",
    "plt.show()"
   ]
  },
  {
   "cell_type": "markdown",
   "id": "59c1beca",
   "metadata": {},
   "source": [
    "#### Фільтрація цін за квадратний метр (приведення до нормального розподілу)"
   ]
  },
  {
   "cell_type": "code",
   "execution_count": null,
   "id": "56cb3752",
   "metadata": {},
   "outputs": [],
   "source": [
    "df = df[~(df['pricePerUnit'] > 230_000)]"
   ]
  },
  {
   "cell_type": "code",
   "execution_count": null,
   "id": "306efb76",
   "metadata": {},
   "outputs": [],
   "source": [
    "ax = df.copy().sort_values(by='pricePerUnit')['pricePerUnit'].plot(kind='hist', bins=50, title='Ціна за квадратний метр')\n",
    "\n",
    "ax.set_xlabel('Ціна (грн)')\n",
    "ax.set_ylabel('Частота пропозиції')\n",
    "\n",
    "plt.show()"
   ]
  },
  {
   "cell_type": "markdown",
   "id": "fec5edf5",
   "metadata": {},
   "source": [
    "#### Ціна новобудови"
   ]
  },
  {
   "cell_type": "code",
   "execution_count": null,
   "id": "e3546bc9",
   "metadata": {
    "scrolled": false
   },
   "outputs": [],
   "source": [
    "ax = df.copy().sort_values(by='price')['price'].plot(kind='hist', bins=50, title='Ціна новобудови')\n",
    "\n",
    "ax.set_xlabel('Ціна (грн)')\n",
    "ax.set_ylabel('Частота пропозиції')\n",
    "\n",
    "plt.show()"
   ]
  },
  {
   "cell_type": "markdown",
   "id": "b5a8e503",
   "metadata": {},
   "source": [
    "#### Фільтрація цін (приведення до нормального розподілу)"
   ]
  },
  {
   "cell_type": "code",
   "execution_count": null,
   "id": "f89aaf61",
   "metadata": {},
   "outputs": [],
   "source": [
    "df = df[~(df['price'] > 22000000)] # 22 мільйони гривень"
   ]
  },
  {
   "cell_type": "code",
   "execution_count": null,
   "id": "0a1afd5f",
   "metadata": {},
   "outputs": [],
   "source": [
    "ax = df.copy().sort_values(by='price')['price'].plot(kind='hist', bins=50, title='Ціна новобудови')\n",
    "\n",
    "ax.set_xlabel('Ціна (грн)')\n",
    "ax.set_ylabel('Частота пропозиції')\n",
    "\n",
    "plt.show()"
   ]
  },
  {
   "cell_type": "markdown",
   "id": "96473c51",
   "metadata": {},
   "source": [
    "#### Житлова площа"
   ]
  },
  {
   "cell_type": "code",
   "execution_count": null,
   "id": "791289f5",
   "metadata": {},
   "outputs": [],
   "source": [
    "ax = df.copy().sort_values(by='area')['area'].plot(kind='hist', bins=50, title='Житлова площа')\n",
    "\n",
    "ax.set_xlabel('Житлова площа (метри квадратні)')\n",
    "ax.set_ylabel('Частота пропозиції')\n",
    "\n",
    "plt.show()"
   ]
  },
  {
   "cell_type": "markdown",
   "id": "63f5c23f",
   "metadata": {},
   "source": [
    "#### Кількість кімнат"
   ]
  },
  {
   "cell_type": "code",
   "execution_count": null,
   "id": "2cf42dee",
   "metadata": {},
   "outputs": [],
   "source": [
    "ax = df['rooms'].value_counts().head(10).plot(kind='bar', title='Кількість кімнат')\n",
    "\n",
    "ax.set_xlabel('Кімнат')\n",
    "ax.set_ylabel('Пропозицій')\n",
    "\n",
    "plt.show()"
   ]
  },
  {
   "cell_type": "markdown",
   "id": "34fd4557",
   "metadata": {},
   "source": [
    "#### Кількість квартир у новобудові"
   ]
  },
  {
   "cell_type": "code",
   "execution_count": null,
   "id": "805ec64f",
   "metadata": {
    "scrolled": true
   },
   "outputs": [],
   "source": [
    "ax = df.copy().sort_values(by='attributes/num_apartments')['attributes/num_apartments'].plot(kind='hist', bins=100, title='Кількість квартир у новобудові')\n",
    "\n",
    "ax.set_xlabel('К-сть квартир у новобудові')\n",
    "ax.set_ylabel('Частота пропозиції')\n",
    "\n",
    "plt.show()"
   ]
  },
  {
   "cell_type": "markdown",
   "id": "e5e462e6",
   "metadata": {},
   "source": [
    "## Залежність між залежними та незалежними змінними (числові значення)"
   ]
  },
  {
   "cell_type": "code",
   "execution_count": null,
   "id": "7f603dc0",
   "metadata": {},
   "outputs": [],
   "source": [
    "sns.pairplot(df, vars=[\n",
    "    'price',\n",
    "    'attributes/num_apartments',\n",
    "    'financials/installmentPlanTerm',\n",
    "    'pricePerUnit',\n",
    "    'area',\n",
    "    'rooms'\n",
    "], hue='attributes/construction_technology')\n",
    "\n",
    "plt.show()"
   ]
  },
  {
   "cell_type": "code",
   "execution_count": null,
   "id": "df48c7fe",
   "metadata": {
    "scrolled": true
   },
   "outputs": [],
   "source": [
    "racorr = df[[\n",
    "    'price',\n",
    "    'attributes/num_apartments',\n",
    "    'financials/installmentPlanTerm',\n",
    "    'pricePerUnit',\n",
    "    'area',\n",
    "    'rooms'\n",
    "]].dropna().corr()\n",
    "\n",
    "sns.heatmap(data=racorr, annot=True)\n",
    "\n",
    "plt.show()"
   ]
  },
  {
   "cell_type": "markdown",
   "id": "ad2b16ad",
   "metadata": {},
   "source": [
    "## Підготовка даних до використання у нейронній мережі для тренування"
   ]
  },
  {
   "cell_type": "markdown",
   "id": "3dd46b9f",
   "metadata": {},
   "source": [
    "### Словник"
   ]
  },
  {
   "cell_type": "markdown",
   "id": "def742d6",
   "metadata": {},
   "source": [
    "Мітка (eng. Label) - кінцеве (eng. target) значення що є еталоном для тренувального набору даних"
   ]
  },
  {
   "cell_type": "markdown",
   "id": "94b13025",
   "metadata": {},
   "source": [
    "### Оцифровка нечислових значень"
   ]
  },
  {
   "cell_type": "markdown",
   "id": "1571fb2c",
   "metadata": {},
   "source": [
    "Для тренування нейронної мережі, значення всіх характеристик повинні мати числові значення для прорахунку похідної функції втрат при кожній з ітерацій тренувального процесу"
   ]
  },
  {
   "cell_type": "code",
   "execution_count": null,
   "id": "be71897d",
   "metadata": {
    "scrolled": true
   },
   "outputs": [],
   "source": [
    "df.values[0]"
   ]
  },
  {
   "cell_type": "markdown",
   "id": "b4d7b717",
   "metadata": {},
   "source": [
    "#### Допоміжні функції"
   ]
  },
  {
   "cell_type": "code",
   "execution_count": null,
   "id": "8f722334",
   "metadata": {},
   "outputs": [],
   "source": [
    "# index + 1 використовується для того щоб позначити саме відсутні значення нулем\n",
    "def apartment_to_numeric(apartment):\n",
    "    return np.array([\n",
    "        df_to_list(residential_complex_names).index(apartment[0]),\n",
    "        df_to_list(developers).index(apartment[1]),\n",
    "        df_to_list(building_classes).index(apartment[2]),\n",
    "        df_to_list(technologies).index(apartment[3]),\n",
    "        df_to_list(walls).index(apartment[4]),\n",
    "        df_to_list(insulations).index(apartment[5]),\n",
    "        df_to_list(heating_options).index(apartment[6]),\n",
    "        # к-сть квартри в новобудові\n",
    "        apartment[7],\n",
    "        df_to_list(renovation_states).index(apartment[8]),\n",
    "        df_to_list(protected_area_options).index(apartment[9]),\n",
    "        # наявність паркінгу - 1/0\n",
    "        int(bool(apartment[10])),\n",
    "        # наявність розстрочки\n",
    "        int(apartment[11]),\n",
    "        # термін розстрочки в роках\n",
    "        apartment[12],\n",
    "#         # ціна за квадратний метр\n",
    "#         apartment[13],\n",
    "#         # ціна квартири\n",
    "#         apartment[14],\n",
    "        # площа квартири\n",
    "        apartment[15],\n",
    "        # к-сть кімнта\n",
    "        apartment[16],\n",
    "    ])\n",
    "\n",
    "# list(map(apartment_to_numeric, df.values[:3]))"
   ]
  },
  {
   "cell_type": "code",
   "execution_count": null,
   "id": "343ced85",
   "metadata": {},
   "outputs": [],
   "source": [
    "def show_entities(num):\n",
    "    pd.set_option('display.max_columns', num)\n",
    "    pd.set_option('display.max_rows', num)"
   ]
  },
  {
   "cell_type": "markdown",
   "id": "fa3e9451",
   "metadata": {},
   "source": [
    "#### Процес оцифровки"
   ]
  },
  {
   "cell_type": "code",
   "execution_count": null,
   "id": "7bb21b0f",
   "metadata": {
    "scrolled": false
   },
   "outputs": [],
   "source": [
    "df_numeric = df.copy()\n",
    "\n",
    "# словники для збереження відношення між строковими та числовими репрезентаціями значень\n",
    "residence_map = {}\n",
    "developer_map = {}\n",
    "class_map = {}\n",
    "construction_technology_map = {}\n",
    "walls_map = {}\n",
    "insulation_map = {}\n",
    "heating_map = {}\n",
    "state_map = {}\n",
    "protected_area_map = {}\n",
    "parking_map = {}\n",
    "installmentPlan_map = {}\n",
    "\n",
    "df_numeric['residence'] = df_numeric['residence'].map(lambda r: df_to_list(residential_complex_names).index(r))\n",
    "df_numeric['developer'] = df_numeric['developer'].map(lambda d: df_to_list(developers).index(d))\n",
    "df_numeric['attributes/class'] = df_numeric['attributes/class'].map(lambda c: df_to_list(building_classes).index(c))\n",
    "df_numeric['attributes/construction_technology'] = df_numeric['attributes/construction_technology'].map(lambda c: df_to_list(technologies).index(c))\n",
    "df_numeric['attributes/walls'] = df_numeric['attributes/walls'].map(lambda w: df_to_list(walls).index(w))\n",
    "df_numeric['attributes/insulation'] = df_numeric['attributes/insulation'].map(lambda i: df_to_list(insulations).index(i))\n",
    "df_numeric['attributes/heating'] = df_numeric['attributes/heating'].map(lambda h: df_to_list(heating_options).index(h))\n",
    "df_numeric['attributes/state'] = df_numeric['attributes/state'].map(lambda s: df_to_list(renovation_states).index(s))\n",
    "df_numeric['attributes/protected_area'] = df_numeric['attributes/protected_area'].map(lambda a: df_to_list(protected_area_options).index(a))\n",
    "df_numeric['attributes/parking'] = df_numeric['attributes/protected_area'].map(lambda p: int(bool(p)))\n",
    "df_numeric['financials/installmentPlan'] = df_numeric['financials/installmentPlan'].map(lambda ip: int(ip))\n",
    "\n",
    "df_numeric"
   ]
  },
  {
   "cell_type": "markdown",
   "id": "8645ed85",
   "metadata": {},
   "source": [
    "### Створення набору даних для семплів"
   ]
  },
  {
   "cell_type": "code",
   "execution_count": null,
   "id": "cc782f12",
   "metadata": {
    "scrolled": true
   },
   "outputs": [],
   "source": [
    "df_samples = df_numeric.copy()\n",
    "\n",
    "df_samples = df_samples.drop(['price', 'pricePerUnit', 'attributes/num_apartments'], axis=1)\n",
    "\n",
    "X = df_samples.values\n",
    "\n",
    "X[0]"
   ]
  },
  {
   "cell_type": "code",
   "execution_count": null,
   "id": "f7348b81",
   "metadata": {
    "scrolled": false
   },
   "outputs": [],
   "source": [
    "X.shape"
   ]
  },
  {
   "cell_type": "code",
   "execution_count": null,
   "id": "894837f1",
   "metadata": {},
   "outputs": [],
   "source": [
    "df_samples"
   ]
  },
  {
   "cell_type": "markdown",
   "id": "85f4c36a",
   "metadata": {},
   "source": [
    "### Створення набору даних для міток"
   ]
  },
  {
   "cell_type": "code",
   "execution_count": null,
   "id": "7678e9e7",
   "metadata": {
    "scrolled": true
   },
   "outputs": [],
   "source": [
    "y = df_numeric['price'].values\n",
    "\n",
    "y[0]"
   ]
  },
  {
   "cell_type": "code",
   "execution_count": null,
   "id": "ac9c6812",
   "metadata": {
    "scrolled": true
   },
   "outputs": [],
   "source": [
    "y.shape"
   ]
  },
  {
   "cell_type": "markdown",
   "id": "a109238d",
   "metadata": {},
   "source": [
    "### Нормалізація і стандартизація даних"
   ]
  },
  {
   "cell_type": "code",
   "execution_count": null,
   "id": "c09e6028",
   "metadata": {},
   "outputs": [],
   "source": [
    "import numpy as np\n",
    "from sklearn.utils import shuffle\n",
    "from sklearn.preprocessing import MinMaxScaler"
   ]
  },
  {
   "cell_type": "code",
   "execution_count": null,
   "id": "f73d54a0",
   "metadata": {},
   "outputs": [],
   "source": [
    "X, y = shuffle(X, y)"
   ]
  },
  {
   "cell_type": "code",
   "execution_count": null,
   "id": "9568bd4b",
   "metadata": {
    "scrolled": true
   },
   "outputs": [],
   "source": [
    "scaler_x = MinMaxScaler(feature_range=(0, 1))\n",
    "scaler_y = MinMaxScaler(feature_range=(0, 1))\n",
    "\n",
    "X_normalized = scaler_x.fit_transform(X)\n",
    "y_normalized = scaler_y.fit_transform(y.reshape(-1, 1))"
   ]
  },
  {
   "cell_type": "markdown",
   "id": "e21bcd46",
   "metadata": {},
   "source": [
    "##### Збереження поточного scaler інстансу для подальшого використання"
   ]
  },
  {
   "cell_type": "code",
   "execution_count": null,
   "id": "2016185c",
   "metadata": {},
   "outputs": [],
   "source": [
    "# import joblib\n",
    "\n",
    "# scaler_x_filename = \"scaler_x.save\" \n",
    "# scaler_y_filename = \"scaler_y.save\"\n",
    "\n",
    "# joblib.dump(scaler_x, scaler_x_filename) \n",
    "# joblib.dump(scaler_y, scaler_y_filename) \n",
    "\n",
    "# Подальше завантаження\n",
    "# scaler_x = joblib.load(scaler_x_filename) \n",
    "# scaler_y = joblib.load(scaler_y_filename) "
   ]
  },
  {
   "cell_type": "code",
   "execution_count": null,
   "id": "20b64a1a",
   "metadata": {
    "scrolled": false
   },
   "outputs": [],
   "source": [
    "X_normalized"
   ]
  },
  {
   "cell_type": "code",
   "execution_count": null,
   "id": "5506f8af",
   "metadata": {
    "scrolled": true
   },
   "outputs": [],
   "source": [
    "y_normalized"
   ]
  },
  {
   "cell_type": "code",
   "execution_count": null,
   "id": "40c4160a",
   "metadata": {
    "scrolled": true
   },
   "outputs": [],
   "source": [
    "y_normalized.shape"
   ]
  },
  {
   "cell_type": "markdown",
   "id": "51832de5",
   "metadata": {},
   "source": [
    "# Створення моделі"
   ]
  },
  {
   "cell_type": "code",
   "execution_count": null,
   "id": "709dc846",
   "metadata": {},
   "outputs": [],
   "source": [
    "import tensorflow as tf\n",
    "from tensorflow import keras\n",
    "from tensorflow.keras.models import Sequential\n",
    "from tensorflow.keras.layers import Activation, Dense\n",
    "from tensorflow.keras.optimizers import Adam\n",
    "from tensorflow.keras.metrics import mean_squared_error"
   ]
  },
  {
   "cell_type": "code",
   "execution_count": null,
   "id": "7d099131",
   "metadata": {},
   "outputs": [],
   "source": [
    "learning_rate = 0.0001"
   ]
  },
  {
   "cell_type": "markdown",
   "id": "cb12af3e",
   "metadata": {},
   "source": [
    "### Покращення швидкодії за допомогою GPU"
   ]
  },
  {
   "cell_type": "code",
   "execution_count": null,
   "id": "5be13c1c",
   "metadata": {},
   "outputs": [],
   "source": [
    "# physical_devices = tf.config.experimental.list_physical_devices('GPU')\n",
    "# print('Num GPUs available: ', len(physical_devices))\n",
    "# tf.config.experimental.set_memory_growth(physical_devices[0], True)"
   ]
  },
  {
   "cell_type": "code",
   "execution_count": null,
   "id": "2650cc8a",
   "metadata": {},
   "outputs": [],
   "source": [
    "model = Sequential([\n",
    "    Dense(units=16, input_shape=(14, ), activation='relu'),\n",
    "    Dense(units=16, activation='relu'),\n",
    "    Dense(units=1, activation='linear'),\n",
    "])"
   ]
  },
  {
   "cell_type": "code",
   "execution_count": null,
   "id": "462c1b4d",
   "metadata": {
    "scrolled": false
   },
   "outputs": [],
   "source": [
    "model.summary()"
   ]
  },
  {
   "cell_type": "code",
   "execution_count": null,
   "id": "338cde83",
   "metadata": {},
   "outputs": [],
   "source": [
    "model.compile(optimizer=Adam(learning_rate=learning_rate), loss='mean_squared_error')"
   ]
  },
  {
   "cell_type": "markdown",
   "id": "4a850699",
   "metadata": {},
   "source": [
    "# Тренування моделі"
   ]
  },
  {
   "cell_type": "markdown",
   "id": "da008daa",
   "metadata": {},
   "source": [
    "Бібліотека Keras на цьому кроці також створює валідаційний набір даних за допомогою якого можна оцінити чи нейронна мережа не переходить в режим overfitting"
   ]
  },
  {
   "cell_type": "code",
   "execution_count": null,
   "id": "27c9fbdd",
   "metadata": {
    "scrolled": true
   },
   "outputs": [],
   "source": [
    "validation_split = 0.1\n",
    "history = model.fit(x=X_normalized, y=y_normalized, validation_split=validation_split, batch_size=10, epochs=30, shuffle=True, verbose=2)"
   ]
  },
  {
   "cell_type": "code",
   "execution_count": null,
   "id": "403dfa24",
   "metadata": {
    "scrolled": false
   },
   "outputs": [],
   "source": [
    "plt.plot(history.history['loss'])\n",
    "plt.title('Функція втрат від кількості епох')\n",
    "plt.ylabel('Втрати')\n",
    "plt.xlabel('Епохи')\n",
    "plt.show()"
   ]
  },
  {
   "cell_type": "markdown",
   "id": "87564cbe",
   "metadata": {},
   "source": [
    "# Передбачення моделі"
   ]
  },
  {
   "cell_type": "markdown",
   "id": "9bdb30ce",
   "metadata": {},
   "source": [
    "### Вивести на екран таблицю значень для характеристики"
   ]
  },
  {
   "cell_type": "code",
   "execution_count": null,
   "id": "86340abf",
   "metadata": {},
   "outputs": [],
   "source": [
    "def display_characteristic(characteristic, column_name='Характеристика Новобудови'):\n",
    "    return pd.DataFrame(data=df[characteristic].unique(), columns=[column_name])"
   ]
  },
  {
   "cell_type": "code",
   "execution_count": null,
   "id": "9fb144b9",
   "metadata": {},
   "outputs": [],
   "source": [
    "display_characteristic('attributes/class')"
   ]
  },
  {
   "cell_type": "markdown",
   "id": "bf47917e",
   "metadata": {},
   "source": [
    "### Характеристики нерухомості"
   ]
  },
  {
   "cell_type": "code",
   "execution_count": null,
   "id": "92a22364",
   "metadata": {
    "scrolled": true
   },
   "outputs": [],
   "source": [
    "residential_complex = 4 # residence\n",
    "developer = 6 # developer\n",
    "building_class = 2 # attributes/class\n",
    "construction_technology = 0 # attributes/construction_technology\n",
    "wall = 3 #attributes/walls\n",
    "insulation = 0 # attributes/insulation\n",
    "heating = 2 # attributes/heating\n",
    "renovation_sate = 0 # attributes/state\n",
    "protected_area = 2 # attributes/protected_area\n",
    "parking = 0 # attributes/parking\n",
    "installment_plan = 1 # financials/installmentPlan\n",
    "installment_plan_term = 3 # financials/installmentPlanTerm\n",
    "area = 45 # area\n",
    "rooms = 1 # rooms\n",
    "\n",
    "pred_inputs = np.array([[\n",
    "    residential_complex,\n",
    "    developer,\n",
    "    building_class,\n",
    "    construction_technology,\n",
    "    wall,\n",
    "    insulation,\n",
    "    heating,\n",
    "    renovation_sate,\n",
    "    protected_area,\n",
    "    parking,\n",
    "    installment_plan,\n",
    "    installment_plan_term,\n",
    "    area,\n",
    "    rooms\n",
    "]])\n",
    "\n",
    "X_to_predict_normalized = scaler_x.transform(pred_inputs)\n",
    "Y_to_predict_normalized = scaler_y.transform(y.reshape(-1, 1))\n",
    "\n",
    "X_to_predict_normalized"
   ]
  },
  {
   "cell_type": "code",
   "execution_count": null,
   "id": "16f8cfc6",
   "metadata": {
    "scrolled": false
   },
   "outputs": [],
   "source": [
    "y_hat = model.predict(X_to_predict_normalized.reshape(1, -1))\n",
    "y_hat"
   ]
  },
  {
   "cell_type": "code",
   "execution_count": null,
   "id": "b1ea7de7",
   "metadata": {},
   "outputs": [],
   "source": [
    "y_hat"
   ]
  },
  {
   "cell_type": "code",
   "execution_count": null,
   "id": "4f5b0458",
   "metadata": {
    "scrolled": false
   },
   "outputs": [],
   "source": [
    "uah = scaler_y.inverse_transform(y_hat.reshape(1, -1))[0][-1]\n",
    "print(f'Вартість нерухомості: {uah:,} грн')"
   ]
  }
 ],
 "metadata": {
  "kernelspec": {
   "display_name": "Python 3 (ipykernel)",
   "language": "python",
   "name": "python3"
  },
  "language_info": {
   "codemirror_mode": {
    "name": "ipython",
    "version": 3
   },
   "file_extension": ".py",
   "mimetype": "text/x-python",
   "name": "python",
   "nbconvert_exporter": "python",
   "pygments_lexer": "ipython3",
   "version": "3.9.16"
  }
 },
 "nbformat": 4,
 "nbformat_minor": 5
}
