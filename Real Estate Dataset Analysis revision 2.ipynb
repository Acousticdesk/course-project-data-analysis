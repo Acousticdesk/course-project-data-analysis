{
 "cells": [
  {
   "cell_type": "markdown",
   "id": "60ae8b04",
   "metadata": {},
   "source": [
    "# Аналіз набору даних новобудов у місті Київ"
   ]
  },
  {
   "cell_type": "markdown",
   "id": "61b70703",
   "metadata": {},
   "source": [
    "Для створення актуального набору даних із достатньою кількістю категоріальних критеріїв було створено скрапер за допомогою технології Puppeteer.\n",
    "\n",
    "Дані збираються з веб-сайту lun.ua - найпопулярнішого агрегатору даних про новобудови в Україні.\n",
    "\n",
    "Для аналізу набору даних використовується бібліотека pandas.\n",
    "\n",
    "Ціллю збору даних є використання їх для тренування нейронної мережі яка моделює вартість заданого обʼєкту нерухомості із певними характеристками.\n",
    "\n",
    "#### Словник\n",
    "\n",
    "Характеристики обʼєкту (англ. Features) - характеристики з яких будуть обрані залежні та незалежні змінні для тренування моделі для знаходження залежності незалежних змінних від залежних.\n",
    "\n",
    "Форма (англ. Shape) - описана через формат (N, M) де N - кількість рядків, M - кількість комірок\n",
    "\n",
    "Теплова карта (англ. Heatmap) - формат візуалізації даних кореляції між характеристиками набору даних\n",
    "\n",
    "#### Предметна Область\n",
    "\n",
    "##### Залежні змінні/ Незалежні змінні\n",
    "\n",
    "Залежною змінною є ціна на обʼєкт нерухомості.\n",
    "Незалежними змінними є множина характеристик обʼєкту нерухомості що включає в себе числові значення та категоріальні дані."
   ]
  },
  {
   "cell_type": "markdown",
   "id": "89a717ff",
   "metadata": {},
   "source": [
    "## Ініціалазація бібліотеки Pandas"
   ]
  },
  {
   "cell_type": "code",
   "execution_count": 462,
   "id": "45c8ea6a",
   "metadata": {},
   "outputs": [],
   "source": [
    "import pandas as pd\n",
    "# бібліотека використовується для візуалізації характеристик набору даних та візуалізацій залежності між змінними\n",
    "import matplotlib.pylab as plt\n",
    "# бібліотека для візуалізації кореляції між характеристиками у вигляді теплової карти\n",
    "import seaborn as sns\n",
    "# використовується для перемішування набору даних для кращого ефекту від тренування моделі\n",
    "import random\n",
    "pd.set_option('display.max_columns', 100)\n",
    "pd.set_option('display.max_rows', 100)"
   ]
  },
  {
   "cell_type": "markdown",
   "id": "fc2ff655",
   "metadata": {},
   "source": [
    "## Приклад записів з набору даних"
   ]
  },
  {
   "cell_type": "code",
   "execution_count": 463,
   "id": "ed4f6f2b",
   "metadata": {
    "scrolled": true
   },
   "outputs": [
    {
     "data": {
      "text/plain": [
       "(3459, 17)"
      ]
     },
     "execution_count": 463,
     "metadata": {},
     "output_type": "execute_result"
    }
   ],
   "source": [
    "df = pd.read_csv('./real-estate.csv')\n",
    "df.shape"
   ]
  },
  {
   "cell_type": "code",
   "execution_count": 464,
   "id": "045ce182",
   "metadata": {
    "scrolled": false
   },
   "outputs": [
    {
     "data": {
      "text/html": [
       "<div>\n",
       "<style scoped>\n",
       "    .dataframe tbody tr th:only-of-type {\n",
       "        vertical-align: middle;\n",
       "    }\n",
       "\n",
       "    .dataframe tbody tr th {\n",
       "        vertical-align: top;\n",
       "    }\n",
       "\n",
       "    .dataframe thead th {\n",
       "        text-align: right;\n",
       "    }\n",
       "</style>\n",
       "<table border=\"1\" class=\"dataframe\">\n",
       "  <thead>\n",
       "    <tr style=\"text-align: right;\">\n",
       "      <th></th>\n",
       "      <th>residence</th>\n",
       "      <th>developer</th>\n",
       "      <th>attributes/class</th>\n",
       "      <th>attributes/construction_technology</th>\n",
       "      <th>attributes/walls</th>\n",
       "      <th>attributes/insulation</th>\n",
       "      <th>attributes/heating</th>\n",
       "      <th>attributes/num_apartments</th>\n",
       "      <th>attributes/state</th>\n",
       "      <th>attributes/protected_area</th>\n",
       "      <th>attributes/parking</th>\n",
       "      <th>financials/installmentPlan</th>\n",
       "      <th>financials/installmentPlanTerm</th>\n",
       "      <th>pricePerUnit</th>\n",
       "      <th>price</th>\n",
       "      <th>area</th>\n",
       "      <th>rooms</th>\n",
       "    </tr>\n",
       "  </thead>\n",
       "  <tbody>\n",
       "    <tr>\n",
       "      <th>0</th>\n",
       "      <td>ЖК Montreal House</td>\n",
       "      <td>Alliance Novobud</td>\n",
       "      <td>бізнес</td>\n",
       "      <td>монолітно-каркасна</td>\n",
       "      <td>цегла</td>\n",
       "      <td>мінеральна вата</td>\n",
       "      <td>автономне (в будинку)</td>\n",
       "      <td>328</td>\n",
       "      <td>без ремонту</td>\n",
       "      <td>від авто та сторонніх</td>\n",
       "      <td>підземний з ліфтом (187 паркомісць)</td>\n",
       "      <td>True</td>\n",
       "      <td>1.0</td>\n",
       "      <td>116825.0</td>\n",
       "      <td>5023475.0</td>\n",
       "      <td>43</td>\n",
       "      <td>1</td>\n",
       "    </tr>\n",
       "    <tr>\n",
       "      <th>1</th>\n",
       "      <td>ЖК Montreal House</td>\n",
       "      <td>Alliance Novobud</td>\n",
       "      <td>бізнес</td>\n",
       "      <td>монолітно-каркасна</td>\n",
       "      <td>цегла</td>\n",
       "      <td>мінеральна вата</td>\n",
       "      <td>автономне (в будинку)</td>\n",
       "      <td>328</td>\n",
       "      <td>без ремонту</td>\n",
       "      <td>від авто та сторонніх</td>\n",
       "      <td>підземний з ліфтом (187 паркомісць)</td>\n",
       "      <td>True</td>\n",
       "      <td>1.0</td>\n",
       "      <td>116825.0</td>\n",
       "      <td>6308550.0</td>\n",
       "      <td>54</td>\n",
       "      <td>1</td>\n",
       "    </tr>\n",
       "    <tr>\n",
       "      <th>2</th>\n",
       "      <td>ЖК Montreal House</td>\n",
       "      <td>Alliance Novobud</td>\n",
       "      <td>бізнес</td>\n",
       "      <td>монолітно-каркасна</td>\n",
       "      <td>цегла</td>\n",
       "      <td>мінеральна вата</td>\n",
       "      <td>автономне (в будинку)</td>\n",
       "      <td>328</td>\n",
       "      <td>без ремонту</td>\n",
       "      <td>від авто та сторонніх</td>\n",
       "      <td>підземний з ліфтом (187 паркомісць)</td>\n",
       "      <td>True</td>\n",
       "      <td>1.0</td>\n",
       "      <td>116825.0</td>\n",
       "      <td>5958075.0</td>\n",
       "      <td>51</td>\n",
       "      <td>1</td>\n",
       "    </tr>\n",
       "  </tbody>\n",
       "</table>\n",
       "</div>"
      ],
      "text/plain": [
       "           residence         developer attributes/class  \\\n",
       "0  ЖК Montreal House  Alliance Novobud           бізнес   \n",
       "1  ЖК Montreal House  Alliance Novobud           бізнес   \n",
       "2  ЖК Montreal House  Alliance Novobud           бізнес   \n",
       "\n",
       "  attributes/construction_technology attributes/walls attributes/insulation  \\\n",
       "0                 монолітно-каркасна            цегла       мінеральна вата   \n",
       "1                 монолітно-каркасна            цегла       мінеральна вата   \n",
       "2                 монолітно-каркасна            цегла       мінеральна вата   \n",
       "\n",
       "      attributes/heating attributes/num_apartments attributes/state  \\\n",
       "0  автономне (в будинку)                       328      без ремонту   \n",
       "1  автономне (в будинку)                       328      без ремонту   \n",
       "2  автономне (в будинку)                       328      без ремонту   \n",
       "\n",
       "  attributes/protected_area                   attributes/parking  \\\n",
       "0     від авто та сторонніх  підземний з ліфтом (187 паркомісць)   \n",
       "1     від авто та сторонніх  підземний з ліфтом (187 паркомісць)   \n",
       "2     від авто та сторонніх  підземний з ліфтом (187 паркомісць)   \n",
       "\n",
       "  financials/installmentPlan  financials/installmentPlanTerm  pricePerUnit  \\\n",
       "0                       True                             1.0      116825.0   \n",
       "1                       True                             1.0      116825.0   \n",
       "2                       True                             1.0      116825.0   \n",
       "\n",
       "       price  area  rooms  \n",
       "0  5023475.0    43      1  \n",
       "1  6308550.0    54      1  \n",
       "2  5958075.0    51      1  "
      ]
     },
     "execution_count": 464,
     "metadata": {},
     "output_type": "execute_result"
    }
   ],
   "source": [
    "df.head(3)"
   ]
  },
  {
   "cell_type": "markdown",
   "id": "06eb0051",
   "metadata": {},
   "source": [
    "## Фільтрація набору даних"
   ]
  },
  {
   "cell_type": "markdown",
   "id": "fbc73837",
   "metadata": {},
   "source": [
    "### Пусті значення"
   ]
  },
  {
   "cell_type": "code",
   "execution_count": 465,
   "id": "ab42ab04",
   "metadata": {
    "scrolled": true
   },
   "outputs": [
    {
     "data": {
      "text/plain": [
       "residence                                0\n",
       "developer                              426\n",
       "attributes/class                        14\n",
       "attributes/construction_technology       0\n",
       "attributes/walls                         0\n",
       "attributes/insulation                    0\n",
       "attributes/heating                       0\n",
       "attributes/num_apartments               10\n",
       "attributes/state                         0\n",
       "attributes/protected_area               10\n",
       "attributes/parking                       0\n",
       "financials/installmentPlan             572\n",
       "financials/installmentPlanTerm        2204\n",
       "pricePerUnit                          1276\n",
       "price                                 1276\n",
       "area                                     0\n",
       "rooms                                    0\n",
       "dtype: int64"
      ]
     },
     "execution_count": 465,
     "metadata": {},
     "output_type": "execute_result"
    }
   ],
   "source": [
    "df.isna().sum()"
   ]
  },
  {
   "cell_type": "markdown",
   "id": "751333ab",
   "metadata": {},
   "source": [
    "#### Новобудови без ціни"
   ]
  },
  {
   "cell_type": "code",
   "execution_count": 466,
   "id": "42f1475a",
   "metadata": {},
   "outputs": [],
   "source": [
    "df = df.loc[~df['price'].isna()]"
   ]
  },
  {
   "cell_type": "markdown",
   "id": "e552ee79",
   "metadata": {},
   "source": [
    "#### Новобудови без розстрочки"
   ]
  },
  {
   "cell_type": "code",
   "execution_count": 467,
   "id": "b08739bb",
   "metadata": {},
   "outputs": [],
   "source": [
    "df.loc[df['financials/installmentPlanTerm'].isnull(), 'financials/installmentPlanTerm'] = 0"
   ]
  },
  {
   "cell_type": "markdown",
   "id": "330ce933",
   "metadata": {},
   "source": [
    "#### Новобудови без вказаного забудовника"
   ]
  },
  {
   "cell_type": "code",
   "execution_count": 468,
   "id": "602f0789",
   "metadata": {},
   "outputs": [],
   "source": [
    "df.loc[df['developer'].isnull(), 'developer'] = 'Невідомий Забудовник'"
   ]
  },
  {
   "cell_type": "markdown",
   "id": "417eefbb",
   "metadata": {},
   "source": [
    "#### Новобудови без інформації про кількість квартир у будинку"
   ]
  },
  {
   "cell_type": "code",
   "execution_count": 469,
   "id": "d7b38b2e",
   "metadata": {},
   "outputs": [],
   "source": [
    "df = df.loc[~df['attributes/num_apartments'].isna()]"
   ]
  },
  {
   "cell_type": "markdown",
   "id": "0a568d36",
   "metadata": {},
   "source": [
    "#### Результат фільтрації"
   ]
  },
  {
   "cell_type": "code",
   "execution_count": 470,
   "id": "adcd31e6",
   "metadata": {
    "scrolled": true
   },
   "outputs": [
    {
     "data": {
      "text/plain": [
       "residence                             0\n",
       "developer                             0\n",
       "attributes/class                      0\n",
       "attributes/construction_technology    0\n",
       "attributes/walls                      0\n",
       "attributes/insulation                 0\n",
       "attributes/heating                    0\n",
       "attributes/num_apartments             0\n",
       "attributes/state                      0\n",
       "attributes/protected_area             0\n",
       "attributes/parking                    0\n",
       "financials/installmentPlan            0\n",
       "financials/installmentPlanTerm        0\n",
       "pricePerUnit                          0\n",
       "price                                 0\n",
       "area                                  0\n",
       "rooms                                 0\n",
       "dtype: int64"
      ]
     },
     "execution_count": 470,
     "metadata": {},
     "output_type": "execute_result"
    }
   ],
   "source": [
    "df.isna().sum()"
   ]
  },
  {
   "cell_type": "code",
   "execution_count": 471,
   "id": "12c5ff8b",
   "metadata": {},
   "outputs": [
    {
     "data": {
      "text/plain": [
       "(2183, 17)"
      ]
     },
     "execution_count": 471,
     "metadata": {},
     "output_type": "execute_result"
    }
   ],
   "source": [
    "df.shape"
   ]
  },
  {
   "cell_type": "markdown",
   "id": "5668670d",
   "metadata": {},
   "source": [
    "### NaN значення"
   ]
  },
  {
   "cell_type": "code",
   "execution_count": 472,
   "id": "6bf9234a",
   "metadata": {},
   "outputs": [
    {
     "data": {
      "text/plain": [
       "residence                             0\n",
       "developer                             0\n",
       "attributes/class                      0\n",
       "attributes/construction_technology    0\n",
       "attributes/walls                      0\n",
       "attributes/insulation                 0\n",
       "attributes/heating                    0\n",
       "attributes/num_apartments             0\n",
       "attributes/state                      0\n",
       "attributes/protected_area             0\n",
       "attributes/parking                    0\n",
       "financials/installmentPlan            0\n",
       "financials/installmentPlanTerm        0\n",
       "pricePerUnit                          0\n",
       "price                                 0\n",
       "area                                  0\n",
       "rooms                                 0\n",
       "dtype: int64"
      ]
     },
     "execution_count": 472,
     "metadata": {},
     "output_type": "execute_result"
    }
   ],
   "source": [
    "df.isnull().sum()"
   ]
  },
  {
   "cell_type": "code",
   "execution_count": 473,
   "id": "9f876ce6",
   "metadata": {},
   "outputs": [],
   "source": [
    "df = df.loc[~df['attributes/num_apartments'].isnull()]"
   ]
  },
  {
   "cell_type": "markdown",
   "id": "80487652",
   "metadata": {},
   "source": [
    "#### Результат фільтрації"
   ]
  },
  {
   "cell_type": "code",
   "execution_count": 474,
   "id": "e825c6bf",
   "metadata": {
    "scrolled": true
   },
   "outputs": [
    {
     "data": {
      "text/plain": [
       "residence                             0\n",
       "developer                             0\n",
       "attributes/class                      0\n",
       "attributes/construction_technology    0\n",
       "attributes/walls                      0\n",
       "attributes/insulation                 0\n",
       "attributes/heating                    0\n",
       "attributes/num_apartments             0\n",
       "attributes/state                      0\n",
       "attributes/protected_area             0\n",
       "attributes/parking                    0\n",
       "financials/installmentPlan            0\n",
       "financials/installmentPlanTerm        0\n",
       "pricePerUnit                          0\n",
       "price                                 0\n",
       "area                                  0\n",
       "rooms                                 0\n",
       "dtype: int64"
      ]
     },
     "execution_count": 474,
     "metadata": {},
     "output_type": "execute_result"
    }
   ],
   "source": [
    "df.isnull().sum()"
   ]
  },
  {
   "cell_type": "code",
   "execution_count": 475,
   "id": "3bfc6e96",
   "metadata": {},
   "outputs": [
    {
     "data": {
      "text/plain": [
       "(2183, 17)"
      ]
     },
     "execution_count": 475,
     "metadata": {},
     "output_type": "execute_result"
    }
   ],
   "source": [
    "df.shape"
   ]
  },
  {
   "cell_type": "markdown",
   "id": "bc51484d",
   "metadata": {},
   "source": [
    "### Дублікати"
   ]
  },
  {
   "cell_type": "code",
   "execution_count": 476,
   "id": "9edcd880",
   "metadata": {
    "scrolled": true
   },
   "outputs": [
    {
     "data": {
      "text/html": [
       "<div>\n",
       "<style scoped>\n",
       "    .dataframe tbody tr th:only-of-type {\n",
       "        vertical-align: middle;\n",
       "    }\n",
       "\n",
       "    .dataframe tbody tr th {\n",
       "        vertical-align: top;\n",
       "    }\n",
       "\n",
       "    .dataframe thead th {\n",
       "        text-align: right;\n",
       "    }\n",
       "</style>\n",
       "<table border=\"1\" class=\"dataframe\">\n",
       "  <thead>\n",
       "    <tr style=\"text-align: right;\">\n",
       "      <th></th>\n",
       "      <th>residence</th>\n",
       "      <th>developer</th>\n",
       "      <th>attributes/class</th>\n",
       "      <th>attributes/construction_technology</th>\n",
       "      <th>attributes/walls</th>\n",
       "      <th>attributes/insulation</th>\n",
       "      <th>attributes/heating</th>\n",
       "      <th>attributes/num_apartments</th>\n",
       "      <th>attributes/state</th>\n",
       "      <th>attributes/protected_area</th>\n",
       "      <th>attributes/parking</th>\n",
       "      <th>financials/installmentPlan</th>\n",
       "      <th>financials/installmentPlanTerm</th>\n",
       "      <th>pricePerUnit</th>\n",
       "      <th>price</th>\n",
       "      <th>area</th>\n",
       "      <th>rooms</th>\n",
       "    </tr>\n",
       "  </thead>\n",
       "  <tbody>\n",
       "    <tr>\n",
       "      <th>4</th>\n",
       "      <td>ЖК Montreal House</td>\n",
       "      <td>Alliance Novobud</td>\n",
       "      <td>бізнес</td>\n",
       "      <td>монолітно-каркасна</td>\n",
       "      <td>цегла</td>\n",
       "      <td>мінеральна вата</td>\n",
       "      <td>автономне (в будинку)</td>\n",
       "      <td>328</td>\n",
       "      <td>без ремонту</td>\n",
       "      <td>від авто та сторонніх</td>\n",
       "      <td>підземний з ліфтом (187 паркомісць)</td>\n",
       "      <td>True</td>\n",
       "      <td>1.0</td>\n",
       "      <td>116825.0</td>\n",
       "      <td>6308550.0</td>\n",
       "      <td>54</td>\n",
       "      <td>1</td>\n",
       "    </tr>\n",
       "    <tr>\n",
       "      <th>12</th>\n",
       "      <td>ЖК Montreal House</td>\n",
       "      <td>Alliance Novobud</td>\n",
       "      <td>бізнес</td>\n",
       "      <td>монолітно-каркасна</td>\n",
       "      <td>цегла</td>\n",
       "      <td>мінеральна вата</td>\n",
       "      <td>автономне (в будинку)</td>\n",
       "      <td>328</td>\n",
       "      <td>без ремонту</td>\n",
       "      <td>від авто та сторонніх</td>\n",
       "      <td>підземний з ліфтом (187 паркомісць)</td>\n",
       "      <td>True</td>\n",
       "      <td>1.0</td>\n",
       "      <td>106750.0</td>\n",
       "      <td>9394000.0</td>\n",
       "      <td>88</td>\n",
       "      <td>2</td>\n",
       "    </tr>\n",
       "    <tr>\n",
       "      <th>13</th>\n",
       "      <td>ЖК Montreal House</td>\n",
       "      <td>Alliance Novobud</td>\n",
       "      <td>бізнес</td>\n",
       "      <td>монолітно-каркасна</td>\n",
       "      <td>цегла</td>\n",
       "      <td>мінеральна вата</td>\n",
       "      <td>автономне (в будинку)</td>\n",
       "      <td>328</td>\n",
       "      <td>без ремонту</td>\n",
       "      <td>від авто та сторонніх</td>\n",
       "      <td>підземний з ліфтом (187 паркомісць)</td>\n",
       "      <td>True</td>\n",
       "      <td>1.0</td>\n",
       "      <td>106750.0</td>\n",
       "      <td>9394000.0</td>\n",
       "      <td>88</td>\n",
       "      <td>2</td>\n",
       "    </tr>\n",
       "    <tr>\n",
       "      <th>28</th>\n",
       "      <td>ЖК LUCKY LAND</td>\n",
       "      <td>DIM</td>\n",
       "      <td>комфорт</td>\n",
       "      <td>монолітно-каркасна</td>\n",
       "      <td>керамоблок</td>\n",
       "      <td>мінеральна вата</td>\n",
       "      <td>індивідуальне (в квартирі)</td>\n",
       "      <td>5183</td>\n",
       "      <td>без ремонту, з ремонтом</td>\n",
       "      <td>від авто та сторонніх</td>\n",
       "      <td>гостьовий (2500 паркомісць), підземний з ліфто...</td>\n",
       "      <td>True</td>\n",
       "      <td>3.0</td>\n",
       "      <td>66425.0</td>\n",
       "      <td>1859900.0</td>\n",
       "      <td>28</td>\n",
       "      <td>1</td>\n",
       "    </tr>\n",
       "    <tr>\n",
       "      <th>35</th>\n",
       "      <td>ЖК LUCKY LAND</td>\n",
       "      <td>DIM</td>\n",
       "      <td>комфорт</td>\n",
       "      <td>монолітно-каркасна</td>\n",
       "      <td>керамоблок</td>\n",
       "      <td>мінеральна вата</td>\n",
       "      <td>індивідуальне (в квартирі)</td>\n",
       "      <td>5183</td>\n",
       "      <td>без ремонту, з ремонтом</td>\n",
       "      <td>від авто та сторонніх</td>\n",
       "      <td>гостьовий (2500 паркомісць), підземний з ліфто...</td>\n",
       "      <td>True</td>\n",
       "      <td>3.0</td>\n",
       "      <td>66425.0</td>\n",
       "      <td>3586950.0</td>\n",
       "      <td>54</td>\n",
       "      <td>1</td>\n",
       "    </tr>\n",
       "    <tr>\n",
       "      <th>...</th>\n",
       "      <td>...</td>\n",
       "      <td>...</td>\n",
       "      <td>...</td>\n",
       "      <td>...</td>\n",
       "      <td>...</td>\n",
       "      <td>...</td>\n",
       "      <td>...</td>\n",
       "      <td>...</td>\n",
       "      <td>...</td>\n",
       "      <td>...</td>\n",
       "      <td>...</td>\n",
       "      <td>...</td>\n",
       "      <td>...</td>\n",
       "      <td>...</td>\n",
       "      <td>...</td>\n",
       "      <td>...</td>\n",
       "      <td>...</td>\n",
       "    </tr>\n",
       "    <tr>\n",
       "      <th>2852</th>\n",
       "      <td>ЖК Оберіг-2</td>\n",
       "      <td>Київміськбуд</td>\n",
       "      <td>комфорт</td>\n",
       "      <td>монолітно-каркасна</td>\n",
       "      <td>цегла, газоблок (газобетон)</td>\n",
       "      <td>мінеральна вата</td>\n",
       "      <td>централізоване</td>\n",
       "      <td>820 (2 будинки)</td>\n",
       "      <td>без ремонту</td>\n",
       "      <td>ні</td>\n",
       "      <td>гостьовий, підземний</td>\n",
       "      <td>True</td>\n",
       "      <td>0.0</td>\n",
       "      <td>40550.0</td>\n",
       "      <td>1540900.0</td>\n",
       "      <td>38</td>\n",
       "      <td>1</td>\n",
       "    </tr>\n",
       "    <tr>\n",
       "      <th>2854</th>\n",
       "      <td>ЖК Оберіг-2</td>\n",
       "      <td>Київміськбуд</td>\n",
       "      <td>комфорт</td>\n",
       "      <td>монолітно-каркасна</td>\n",
       "      <td>цегла, газоблок (газобетон)</td>\n",
       "      <td>мінеральна вата</td>\n",
       "      <td>централізоване</td>\n",
       "      <td>820 (2 будинки)</td>\n",
       "      <td>без ремонту</td>\n",
       "      <td>ні</td>\n",
       "      <td>гостьовий, підземний</td>\n",
       "      <td>True</td>\n",
       "      <td>0.0</td>\n",
       "      <td>40550.0</td>\n",
       "      <td>1581450.0</td>\n",
       "      <td>39</td>\n",
       "      <td>1</td>\n",
       "    </tr>\n",
       "    <tr>\n",
       "      <th>2866</th>\n",
       "      <td>ЖК Оберіг-2</td>\n",
       "      <td>Київміськбуд</td>\n",
       "      <td>комфорт</td>\n",
       "      <td>монолітно-каркасна</td>\n",
       "      <td>цегла, газоблок (газобетон)</td>\n",
       "      <td>мінеральна вата</td>\n",
       "      <td>централізоване</td>\n",
       "      <td>820 (2 будинки)</td>\n",
       "      <td>без ремонту</td>\n",
       "      <td>ні</td>\n",
       "      <td>гостьовий, підземний</td>\n",
       "      <td>True</td>\n",
       "      <td>0.0</td>\n",
       "      <td>36450.0</td>\n",
       "      <td>2515050.0</td>\n",
       "      <td>69</td>\n",
       "      <td>2</td>\n",
       "    </tr>\n",
       "    <tr>\n",
       "      <th>2871</th>\n",
       "      <td>ЖК Оберіг-2</td>\n",
       "      <td>Київміськбуд</td>\n",
       "      <td>комфорт</td>\n",
       "      <td>монолітно-каркасна</td>\n",
       "      <td>цегла, газоблок (газобетон)</td>\n",
       "      <td>мінеральна вата</td>\n",
       "      <td>централізоване</td>\n",
       "      <td>820 (2 будинки)</td>\n",
       "      <td>без ремонту</td>\n",
       "      <td>ні</td>\n",
       "      <td>гостьовий, підземний</td>\n",
       "      <td>True</td>\n",
       "      <td>0.0</td>\n",
       "      <td>36950.0</td>\n",
       "      <td>2771250.0</td>\n",
       "      <td>75</td>\n",
       "      <td>3</td>\n",
       "    </tr>\n",
       "    <tr>\n",
       "      <th>2879</th>\n",
       "      <td>ЖК Оберіг-2</td>\n",
       "      <td>Київміськбуд</td>\n",
       "      <td>комфорт</td>\n",
       "      <td>монолітно-каркасна</td>\n",
       "      <td>цегла, газоблок (газобетон)</td>\n",
       "      <td>мінеральна вата</td>\n",
       "      <td>централізоване</td>\n",
       "      <td>820 (2 будинки)</td>\n",
       "      <td>без ремонту</td>\n",
       "      <td>ні</td>\n",
       "      <td>гостьовий, підземний</td>\n",
       "      <td>True</td>\n",
       "      <td>0.0</td>\n",
       "      <td>36950.0</td>\n",
       "      <td>3768900.0</td>\n",
       "      <td>102</td>\n",
       "      <td>3</td>\n",
       "    </tr>\n",
       "  </tbody>\n",
       "</table>\n",
       "<p>356 rows × 17 columns</p>\n",
       "</div>"
      ],
      "text/plain": [
       "              residence         developer attributes/class  \\\n",
       "4     ЖК Montreal House  Alliance Novobud           бізнес   \n",
       "12    ЖК Montreal House  Alliance Novobud           бізнес   \n",
       "13    ЖК Montreal House  Alliance Novobud           бізнес   \n",
       "28        ЖК LUCKY LAND               DIM          комфорт   \n",
       "35        ЖК LUCKY LAND               DIM          комфорт   \n",
       "...                 ...               ...              ...   \n",
       "2852        ЖК Оберіг-2      Київміськбуд          комфорт   \n",
       "2854        ЖК Оберіг-2      Київміськбуд          комфорт   \n",
       "2866        ЖК Оберіг-2      Київміськбуд          комфорт   \n",
       "2871        ЖК Оберіг-2      Київміськбуд          комфорт   \n",
       "2879        ЖК Оберіг-2      Київміськбуд          комфорт   \n",
       "\n",
       "     attributes/construction_technology             attributes/walls  \\\n",
       "4                    монолітно-каркасна                        цегла   \n",
       "12                   монолітно-каркасна                        цегла   \n",
       "13                   монолітно-каркасна                        цегла   \n",
       "28                   монолітно-каркасна                   керамоблок   \n",
       "35                   монолітно-каркасна                   керамоблок   \n",
       "...                                 ...                          ...   \n",
       "2852                 монолітно-каркасна  цегла, газоблок (газобетон)   \n",
       "2854                 монолітно-каркасна  цегла, газоблок (газобетон)   \n",
       "2866                 монолітно-каркасна  цегла, газоблок (газобетон)   \n",
       "2871                 монолітно-каркасна  цегла, газоблок (газобетон)   \n",
       "2879                 монолітно-каркасна  цегла, газоблок (газобетон)   \n",
       "\n",
       "     attributes/insulation          attributes/heating  \\\n",
       "4          мінеральна вата       автономне (в будинку)   \n",
       "12         мінеральна вата       автономне (в будинку)   \n",
       "13         мінеральна вата       автономне (в будинку)   \n",
       "28         мінеральна вата  індивідуальне (в квартирі)   \n",
       "35         мінеральна вата  індивідуальне (в квартирі)   \n",
       "...                    ...                         ...   \n",
       "2852       мінеральна вата              централізоване   \n",
       "2854       мінеральна вата              централізоване   \n",
       "2866       мінеральна вата              централізоване   \n",
       "2871       мінеральна вата              централізоване   \n",
       "2879       мінеральна вата              централізоване   \n",
       "\n",
       "     attributes/num_apartments         attributes/state  \\\n",
       "4                          328              без ремонту   \n",
       "12                         328              без ремонту   \n",
       "13                         328              без ремонту   \n",
       "28                        5183  без ремонту, з ремонтом   \n",
       "35                        5183  без ремонту, з ремонтом   \n",
       "...                        ...                      ...   \n",
       "2852           820 (2 будинки)              без ремонту   \n",
       "2854           820 (2 будинки)              без ремонту   \n",
       "2866           820 (2 будинки)              без ремонту   \n",
       "2871           820 (2 будинки)              без ремонту   \n",
       "2879           820 (2 будинки)              без ремонту   \n",
       "\n",
       "     attributes/protected_area  \\\n",
       "4        від авто та сторонніх   \n",
       "12       від авто та сторонніх   \n",
       "13       від авто та сторонніх   \n",
       "28       від авто та сторонніх   \n",
       "35       від авто та сторонніх   \n",
       "...                        ...   \n",
       "2852                        ні   \n",
       "2854                        ні   \n",
       "2866                        ні   \n",
       "2871                        ні   \n",
       "2879                        ні   \n",
       "\n",
       "                                     attributes/parking  \\\n",
       "4                   підземний з ліфтом (187 паркомісць)   \n",
       "12                  підземний з ліфтом (187 паркомісць)   \n",
       "13                  підземний з ліфтом (187 паркомісць)   \n",
       "28    гостьовий (2500 паркомісць), підземний з ліфто...   \n",
       "35    гостьовий (2500 паркомісць), підземний з ліфто...   \n",
       "...                                                 ...   \n",
       "2852                               гостьовий, підземний   \n",
       "2854                               гостьовий, підземний   \n",
       "2866                               гостьовий, підземний   \n",
       "2871                               гостьовий, підземний   \n",
       "2879                               гостьовий, підземний   \n",
       "\n",
       "     financials/installmentPlan  financials/installmentPlanTerm  pricePerUnit  \\\n",
       "4                          True                             1.0      116825.0   \n",
       "12                         True                             1.0      106750.0   \n",
       "13                         True                             1.0      106750.0   \n",
       "28                         True                             3.0       66425.0   \n",
       "35                         True                             3.0       66425.0   \n",
       "...                         ...                             ...           ...   \n",
       "2852                       True                             0.0       40550.0   \n",
       "2854                       True                             0.0       40550.0   \n",
       "2866                       True                             0.0       36450.0   \n",
       "2871                       True                             0.0       36950.0   \n",
       "2879                       True                             0.0       36950.0   \n",
       "\n",
       "          price  area  rooms  \n",
       "4     6308550.0    54      1  \n",
       "12    9394000.0    88      2  \n",
       "13    9394000.0    88      2  \n",
       "28    1859900.0    28      1  \n",
       "35    3586950.0    54      1  \n",
       "...         ...   ...    ...  \n",
       "2852  1540900.0    38      1  \n",
       "2854  1581450.0    39      1  \n",
       "2866  2515050.0    69      2  \n",
       "2871  2771250.0    75      3  \n",
       "2879  3768900.0   102      3  \n",
       "\n",
       "[356 rows x 17 columns]"
      ]
     },
     "execution_count": 476,
     "metadata": {},
     "output_type": "execute_result"
    }
   ],
   "source": [
    "df.loc[df.duplicated()]"
   ]
  },
  {
   "cell_type": "markdown",
   "id": "acad54ae",
   "metadata": {},
   "source": [
    "### Очистка від дублікатів"
   ]
  },
  {
   "cell_type": "code",
   "execution_count": 477,
   "id": "ac1c1533",
   "metadata": {},
   "outputs": [],
   "source": [
    "df = df.loc[~df.duplicated()].reset_index(drop=True).copy()"
   ]
  },
  {
   "cell_type": "code",
   "execution_count": 478,
   "id": "9c3f6aa5",
   "metadata": {},
   "outputs": [
    {
     "data": {
      "text/plain": [
       "(1827, 17)"
      ]
     },
     "execution_count": 478,
     "metadata": {},
     "output_type": "execute_result"
    }
   ],
   "source": [
    "df.shape"
   ]
  },
  {
   "cell_type": "markdown",
   "id": "b0a61c1a",
   "metadata": {},
   "source": [
    "### Приведення типів"
   ]
  },
  {
   "cell_type": "code",
   "execution_count": 479,
   "id": "368480c3",
   "metadata": {},
   "outputs": [],
   "source": [
    "df[\"attributes/num_apartments\"] = pd.to_numeric(df[\"attributes/num_apartments\"], errors='coerce')"
   ]
  },
  {
   "cell_type": "code",
   "execution_count": 480,
   "id": "1d51307b",
   "metadata": {},
   "outputs": [
    {
     "data": {
      "text/plain": [
       "residence                              object\n",
       "developer                              object\n",
       "attributes/class                       object\n",
       "attributes/construction_technology     object\n",
       "attributes/walls                       object\n",
       "attributes/insulation                  object\n",
       "attributes/heating                     object\n",
       "attributes/num_apartments             float64\n",
       "attributes/state                       object\n",
       "attributes/protected_area              object\n",
       "attributes/parking                     object\n",
       "financials/installmentPlan             object\n",
       "financials/installmentPlanTerm        float64\n",
       "pricePerUnit                          float64\n",
       "price                                 float64\n",
       "area                                    int64\n",
       "rooms                                   int64\n",
       "dtype: object"
      ]
     },
     "execution_count": 480,
     "metadata": {},
     "output_type": "execute_result"
    }
   ],
   "source": [
    "df.dtypes"
   ]
  },
  {
   "cell_type": "markdown",
   "id": "5235465d",
   "metadata": {},
   "source": [
    "## Ознайомлення із набором даних"
   ]
  },
  {
   "cell_type": "markdown",
   "id": "fb615f03",
   "metadata": {},
   "source": [
    "### Форма"
   ]
  },
  {
   "cell_type": "code",
   "execution_count": 481,
   "id": "6a791c86",
   "metadata": {},
   "outputs": [
    {
     "data": {
      "text/plain": [
       "(1827, 17)"
      ]
     },
     "execution_count": 481,
     "metadata": {},
     "output_type": "execute_result"
    }
   ],
   "source": [
    "df.shape"
   ]
  },
  {
   "cell_type": "markdown",
   "id": "e3ab02c1",
   "metadata": {},
   "source": [
    "### Типи даних"
   ]
  },
  {
   "cell_type": "code",
   "execution_count": 482,
   "id": "1d659c25",
   "metadata": {
    "scrolled": true
   },
   "outputs": [
    {
     "data": {
      "text/plain": [
       "residence                              object\n",
       "developer                              object\n",
       "attributes/class                       object\n",
       "attributes/construction_technology     object\n",
       "attributes/walls                       object\n",
       "attributes/insulation                  object\n",
       "attributes/heating                     object\n",
       "attributes/num_apartments             float64\n",
       "attributes/state                       object\n",
       "attributes/protected_area              object\n",
       "attributes/parking                     object\n",
       "financials/installmentPlan             object\n",
       "financials/installmentPlanTerm        float64\n",
       "pricePerUnit                          float64\n",
       "price                                 float64\n",
       "area                                    int64\n",
       "rooms                                   int64\n",
       "dtype: object"
      ]
     },
     "execution_count": 482,
     "metadata": {},
     "output_type": "execute_result"
    }
   ],
   "source": [
    "df.dtypes"
   ]
  },
  {
   "cell_type": "markdown",
   "id": "48e1bb7c",
   "metadata": {},
   "source": [
    "### Cтатистика"
   ]
  },
  {
   "cell_type": "code",
   "execution_count": 483,
   "id": "f0c4bbe0",
   "metadata": {
    "scrolled": false
   },
   "outputs": [
    {
     "data": {
      "text/html": [
       "<div>\n",
       "<style scoped>\n",
       "    .dataframe tbody tr th:only-of-type {\n",
       "        vertical-align: middle;\n",
       "    }\n",
       "\n",
       "    .dataframe tbody tr th {\n",
       "        vertical-align: top;\n",
       "    }\n",
       "\n",
       "    .dataframe thead th {\n",
       "        text-align: right;\n",
       "    }\n",
       "</style>\n",
       "<table border=\"1\" class=\"dataframe\">\n",
       "  <thead>\n",
       "    <tr style=\"text-align: right;\">\n",
       "      <th></th>\n",
       "      <th>attributes/num_apartments</th>\n",
       "      <th>financials/installmentPlanTerm</th>\n",
       "      <th>pricePerUnit</th>\n",
       "      <th>price</th>\n",
       "      <th>area</th>\n",
       "      <th>rooms</th>\n",
       "    </tr>\n",
       "  </thead>\n",
       "  <tbody>\n",
       "    <tr>\n",
       "      <th>count</th>\n",
       "      <td>1452.000000</td>\n",
       "      <td>1827.000000</td>\n",
       "      <td>1827.000000</td>\n",
       "      <td>1.827000e+03</td>\n",
       "      <td>1827.000000</td>\n",
       "      <td>1827.000000</td>\n",
       "    </tr>\n",
       "    <tr>\n",
       "      <th>mean</th>\n",
       "      <td>1530.763085</td>\n",
       "      <td>1.295567</td>\n",
       "      <td>69474.603175</td>\n",
       "      <td>5.778772e+06</td>\n",
       "      <td>79.166940</td>\n",
       "      <td>2.099617</td>\n",
       "    </tr>\n",
       "    <tr>\n",
       "      <th>std</th>\n",
       "      <td>1879.105511</td>\n",
       "      <td>1.807311</td>\n",
       "      <td>40890.805075</td>\n",
       "      <td>5.886273e+06</td>\n",
       "      <td>36.437752</td>\n",
       "      <td>1.022172</td>\n",
       "    </tr>\n",
       "    <tr>\n",
       "      <th>min</th>\n",
       "      <td>9.000000</td>\n",
       "      <td>0.000000</td>\n",
       "      <td>23450.000000</td>\n",
       "      <td>2.187000e+05</td>\n",
       "      <td>3.000000</td>\n",
       "      <td>1.000000</td>\n",
       "    </tr>\n",
       "    <tr>\n",
       "      <th>25%</th>\n",
       "      <td>321.000000</td>\n",
       "      <td>0.000000</td>\n",
       "      <td>40525.000000</td>\n",
       "      <td>2.775825e+06</td>\n",
       "      <td>51.000000</td>\n",
       "      <td>1.000000</td>\n",
       "    </tr>\n",
       "    <tr>\n",
       "      <th>50%</th>\n",
       "      <td>724.000000</td>\n",
       "      <td>0.000000</td>\n",
       "      <td>57275.000000</td>\n",
       "      <td>4.092525e+06</td>\n",
       "      <td>74.000000</td>\n",
       "      <td>2.000000</td>\n",
       "    </tr>\n",
       "    <tr>\n",
       "      <th>75%</th>\n",
       "      <td>1898.000000</td>\n",
       "      <td>2.000000</td>\n",
       "      <td>83325.000000</td>\n",
       "      <td>6.800938e+06</td>\n",
       "      <td>98.000000</td>\n",
       "      <td>3.000000</td>\n",
       "    </tr>\n",
       "    <tr>\n",
       "      <th>max</th>\n",
       "      <td>8339.000000</td>\n",
       "      <td>7.000000</td>\n",
       "      <td>333700.000000</td>\n",
       "      <td>8.342500e+07</td>\n",
       "      <td>278.000000</td>\n",
       "      <td>5.000000</td>\n",
       "    </tr>\n",
       "  </tbody>\n",
       "</table>\n",
       "</div>"
      ],
      "text/plain": [
       "       attributes/num_apartments  financials/installmentPlanTerm  \\\n",
       "count                1452.000000                     1827.000000   \n",
       "mean                 1530.763085                        1.295567   \n",
       "std                  1879.105511                        1.807311   \n",
       "min                     9.000000                        0.000000   \n",
       "25%                   321.000000                        0.000000   \n",
       "50%                   724.000000                        0.000000   \n",
       "75%                  1898.000000                        2.000000   \n",
       "max                  8339.000000                        7.000000   \n",
       "\n",
       "        pricePerUnit         price         area        rooms  \n",
       "count    1827.000000  1.827000e+03  1827.000000  1827.000000  \n",
       "mean    69474.603175  5.778772e+06    79.166940     2.099617  \n",
       "std     40890.805075  5.886273e+06    36.437752     1.022172  \n",
       "min     23450.000000  2.187000e+05     3.000000     1.000000  \n",
       "25%     40525.000000  2.775825e+06    51.000000     1.000000  \n",
       "50%     57275.000000  4.092525e+06    74.000000     2.000000  \n",
       "75%     83325.000000  6.800938e+06    98.000000     3.000000  \n",
       "max    333700.000000  8.342500e+07   278.000000     5.000000  "
      ]
     },
     "execution_count": 483,
     "metadata": {},
     "output_type": "execute_result"
    }
   ],
   "source": [
    "df.describe()"
   ]
  },
  {
   "cell_type": "markdown",
   "id": "e9ee5898",
   "metadata": {},
   "source": [
    "### Характеристики новобудов"
   ]
  },
  {
   "cell_type": "markdown",
   "id": "694f3765",
   "metadata": {},
   "source": [
    "#### Всі характеристики"
   ]
  },
  {
   "cell_type": "code",
   "execution_count": 484,
   "id": "a3966b2f",
   "metadata": {
    "scrolled": true
   },
   "outputs": [
    {
     "data": {
      "text/html": [
       "<div>\n",
       "<style scoped>\n",
       "    .dataframe tbody tr th:only-of-type {\n",
       "        vertical-align: middle;\n",
       "    }\n",
       "\n",
       "    .dataframe tbody tr th {\n",
       "        vertical-align: top;\n",
       "    }\n",
       "\n",
       "    .dataframe thead th {\n",
       "        text-align: right;\n",
       "    }\n",
       "</style>\n",
       "<table border=\"1\" class=\"dataframe\">\n",
       "  <thead>\n",
       "    <tr style=\"text-align: right;\">\n",
       "      <th></th>\n",
       "      <th>Характеристка обʼєкту нерухомості</th>\n",
       "    </tr>\n",
       "  </thead>\n",
       "  <tbody>\n",
       "    <tr>\n",
       "      <th>0</th>\n",
       "      <td>residence</td>\n",
       "    </tr>\n",
       "    <tr>\n",
       "      <th>1</th>\n",
       "      <td>developer</td>\n",
       "    </tr>\n",
       "    <tr>\n",
       "      <th>2</th>\n",
       "      <td>attributes/class</td>\n",
       "    </tr>\n",
       "    <tr>\n",
       "      <th>3</th>\n",
       "      <td>attributes/construction_technology</td>\n",
       "    </tr>\n",
       "    <tr>\n",
       "      <th>4</th>\n",
       "      <td>attributes/walls</td>\n",
       "    </tr>\n",
       "    <tr>\n",
       "      <th>5</th>\n",
       "      <td>attributes/insulation</td>\n",
       "    </tr>\n",
       "    <tr>\n",
       "      <th>6</th>\n",
       "      <td>attributes/heating</td>\n",
       "    </tr>\n",
       "    <tr>\n",
       "      <th>7</th>\n",
       "      <td>attributes/num_apartments</td>\n",
       "    </tr>\n",
       "    <tr>\n",
       "      <th>8</th>\n",
       "      <td>attributes/state</td>\n",
       "    </tr>\n",
       "    <tr>\n",
       "      <th>9</th>\n",
       "      <td>attributes/protected_area</td>\n",
       "    </tr>\n",
       "    <tr>\n",
       "      <th>10</th>\n",
       "      <td>attributes/parking</td>\n",
       "    </tr>\n",
       "    <tr>\n",
       "      <th>11</th>\n",
       "      <td>financials/installmentPlan</td>\n",
       "    </tr>\n",
       "    <tr>\n",
       "      <th>12</th>\n",
       "      <td>financials/installmentPlanTerm</td>\n",
       "    </tr>\n",
       "    <tr>\n",
       "      <th>13</th>\n",
       "      <td>pricePerUnit</td>\n",
       "    </tr>\n",
       "    <tr>\n",
       "      <th>14</th>\n",
       "      <td>price</td>\n",
       "    </tr>\n",
       "    <tr>\n",
       "      <th>15</th>\n",
       "      <td>area</td>\n",
       "    </tr>\n",
       "    <tr>\n",
       "      <th>16</th>\n",
       "      <td>rooms</td>\n",
       "    </tr>\n",
       "  </tbody>\n",
       "</table>\n",
       "</div>"
      ],
      "text/plain": [
       "     Характеристка обʼєкту нерухомості\n",
       "0                            residence\n",
       "1                            developer\n",
       "2                     attributes/class\n",
       "3   attributes/construction_technology\n",
       "4                     attributes/walls\n",
       "5                attributes/insulation\n",
       "6                   attributes/heating\n",
       "7            attributes/num_apartments\n",
       "8                     attributes/state\n",
       "9            attributes/protected_area\n",
       "10                  attributes/parking\n",
       "11          financials/installmentPlan\n",
       "12      financials/installmentPlanTerm\n",
       "13                        pricePerUnit\n",
       "14                               price\n",
       "15                                area\n",
       "16                               rooms"
      ]
     },
     "execution_count": 484,
     "metadata": {},
     "output_type": "execute_result"
    }
   ],
   "source": [
    "pd.DataFrame(data=df.columns, columns=['Характеристка обʼєкту нерухомості'])"
   ]
  },
  {
   "cell_type": "markdown",
   "id": "3c37dee6",
   "metadata": {},
   "source": [
    "#### Назва житлового комплексу"
   ]
  },
  {
   "cell_type": "code",
   "execution_count": 485,
   "id": "c5792f4e",
   "metadata": {},
   "outputs": [
    {
     "data": {
      "text/html": [
       "<div>\n",
       "<style scoped>\n",
       "    .dataframe tbody tr th:only-of-type {\n",
       "        vertical-align: middle;\n",
       "    }\n",
       "\n",
       "    .dataframe tbody tr th {\n",
       "        vertical-align: top;\n",
       "    }\n",
       "\n",
       "    .dataframe thead th {\n",
       "        text-align: right;\n",
       "    }\n",
       "</style>\n",
       "<table border=\"1\" class=\"dataframe\">\n",
       "  <thead>\n",
       "    <tr style=\"text-align: right;\">\n",
       "      <th></th>\n",
       "      <th>Назва житлового комплексу</th>\n",
       "    </tr>\n",
       "  </thead>\n",
       "  <tbody>\n",
       "    <tr>\n",
       "      <th>0</th>\n",
       "      <td>ЖК Montreal House</td>\n",
       "    </tr>\n",
       "    <tr>\n",
       "      <th>1</th>\n",
       "      <td>БФК А136 Highlight Tower</td>\n",
       "    </tr>\n",
       "    <tr>\n",
       "      <th>2</th>\n",
       "      <td>ЖК LUCKY LAND</td>\n",
       "    </tr>\n",
       "    <tr>\n",
       "      <th>3</th>\n",
       "      <td>ЖК Метрополіс</td>\n",
       "    </tr>\n",
       "    <tr>\n",
       "      <th>4</th>\n",
       "      <td>ЖК Новий Автограф</td>\n",
       "    </tr>\n",
       "    <tr>\n",
       "      <th>...</th>\n",
       "      <td>...</td>\n",
       "    </tr>\n",
       "    <tr>\n",
       "      <th>144</th>\n",
       "      <td>Клубний будинок Barkey</td>\n",
       "    </tr>\n",
       "    <tr>\n",
       "      <th>145</th>\n",
       "      <td>ЖК Клубний будинок-2</td>\n",
       "    </tr>\n",
       "    <tr>\n",
       "      <th>146</th>\n",
       "      <td>Клубний будинок „Ідеаліст“</td>\n",
       "    </tr>\n",
       "    <tr>\n",
       "      <th>147</th>\n",
       "      <td>ЖК Comfort Club</td>\n",
       "    </tr>\n",
       "    <tr>\n",
       "      <th>148</th>\n",
       "      <td>ЖК Оберіг-2</td>\n",
       "    </tr>\n",
       "  </tbody>\n",
       "</table>\n",
       "<p>149 rows × 1 columns</p>\n",
       "</div>"
      ],
      "text/plain": [
       "      Назва житлового комплексу\n",
       "0             ЖК Montreal House\n",
       "1      БФК А136 Highlight Tower\n",
       "2                 ЖК LUCKY LAND\n",
       "3                 ЖК Метрополіс\n",
       "4             ЖК Новий Автограф\n",
       "..                          ...\n",
       "144      Клубний будинок Barkey\n",
       "145        ЖК Клубний будинок-2\n",
       "146  Клубний будинок „Ідеаліст“\n",
       "147             ЖК Comfort Club\n",
       "148                 ЖК Оберіг-2\n",
       "\n",
       "[149 rows x 1 columns]"
      ]
     },
     "execution_count": 485,
     "metadata": {},
     "output_type": "execute_result"
    }
   ],
   "source": [
    "residential_complex_names = pd.DataFrame(data=df.residence.unique(), columns=['Назва житлового комплексу'])\n",
    "residential_complex_names"
   ]
  },
  {
   "cell_type": "markdown",
   "id": "7e933328",
   "metadata": {},
   "source": [
    "#### Забудовник"
   ]
  },
  {
   "cell_type": "code",
   "execution_count": 486,
   "id": "e61a9f5a",
   "metadata": {
    "scrolled": false
   },
   "outputs": [
    {
     "data": {
      "text/html": [
       "<div>\n",
       "<style scoped>\n",
       "    .dataframe tbody tr th:only-of-type {\n",
       "        vertical-align: middle;\n",
       "    }\n",
       "\n",
       "    .dataframe tbody tr th {\n",
       "        vertical-align: top;\n",
       "    }\n",
       "\n",
       "    .dataframe thead th {\n",
       "        text-align: right;\n",
       "    }\n",
       "</style>\n",
       "<table border=\"1\" class=\"dataframe\">\n",
       "  <thead>\n",
       "    <tr style=\"text-align: right;\">\n",
       "      <th></th>\n",
       "      <th>Забудовник</th>\n",
       "    </tr>\n",
       "  </thead>\n",
       "  <tbody>\n",
       "    <tr>\n",
       "      <th>0</th>\n",
       "      <td>Alliance Novobud</td>\n",
       "    </tr>\n",
       "    <tr>\n",
       "      <th>1</th>\n",
       "      <td>DIM</td>\n",
       "    </tr>\n",
       "    <tr>\n",
       "      <th>2</th>\n",
       "      <td>УМК</td>\n",
       "    </tr>\n",
       "    <tr>\n",
       "      <th>3</th>\n",
       "      <td>KSM-GROUP</td>\n",
       "    </tr>\n",
       "    <tr>\n",
       "      <th>4</th>\n",
       "      <td>РІЕЛ</td>\n",
       "    </tr>\n",
       "    <tr>\n",
       "      <th>5</th>\n",
       "      <td>IB Alliance</td>\n",
       "    </tr>\n",
       "    <tr>\n",
       "      <th>6</th>\n",
       "      <td>Stolitsa Group</td>\n",
       "    </tr>\n",
       "    <tr>\n",
       "      <th>7</th>\n",
       "      <td>Nice Development</td>\n",
       "    </tr>\n",
       "    <tr>\n",
       "      <th>8</th>\n",
       "      <td>Інтергал-Буд</td>\n",
       "    </tr>\n",
       "    <tr>\n",
       "      <th>9</th>\n",
       "      <td>Royal House</td>\n",
       "    </tr>\n",
       "    <tr>\n",
       "      <th>10</th>\n",
       "      <td>KDD Ukraine</td>\n",
       "    </tr>\n",
       "    <tr>\n",
       "      <th>11</th>\n",
       "      <td>Невідомий Забудовник</td>\n",
       "    </tr>\n",
       "    <tr>\n",
       "      <th>12</th>\n",
       "      <td>КАН Девелопмент</td>\n",
       "    </tr>\n",
       "    <tr>\n",
       "      <th>13</th>\n",
       "      <td>GEOS</td>\n",
       "    </tr>\n",
       "    <tr>\n",
       "      <th>14</th>\n",
       "      <td>Креатор-Буд</td>\n",
       "    </tr>\n",
       "    <tr>\n",
       "      <th>15</th>\n",
       "      <td>Ковальська</td>\n",
       "    </tr>\n",
       "    <tr>\n",
       "      <th>16</th>\n",
       "      <td>Taryan Group</td>\n",
       "    </tr>\n",
       "    <tr>\n",
       "      <th>17</th>\n",
       "      <td>Perfect Group</td>\n",
       "    </tr>\n",
       "    <tr>\n",
       "      <th>18</th>\n",
       "      <td>Фундамент</td>\n",
       "    </tr>\n",
       "    <tr>\n",
       "      <th>19</th>\n",
       "      <td>Futura hata</td>\n",
       "    </tr>\n",
       "    <tr>\n",
       "      <th>20</th>\n",
       "      <td>bUd development</td>\n",
       "    </tr>\n",
       "    <tr>\n",
       "      <th>21</th>\n",
       "      <td>Citex Development</td>\n",
       "    </tr>\n",
       "    <tr>\n",
       "      <th>22</th>\n",
       "      <td>Київміськбуд</td>\n",
       "    </tr>\n",
       "    <tr>\n",
       "      <th>23</th>\n",
       "      <td>Будівельна група PARK</td>\n",
       "    </tr>\n",
       "    <tr>\n",
       "      <th>24</th>\n",
       "      <td>ZIM Group</td>\n",
       "    </tr>\n",
       "    <tr>\n",
       "      <th>25</th>\n",
       "      <td>City One Development</td>\n",
       "    </tr>\n",
       "    <tr>\n",
       "      <th>26</th>\n",
       "      <td>Status Group</td>\n",
       "    </tr>\n",
       "    <tr>\n",
       "      <th>27</th>\n",
       "      <td>Greenville</td>\n",
       "    </tr>\n",
       "    <tr>\n",
       "      <th>28</th>\n",
       "      <td>BudCapital</td>\n",
       "    </tr>\n",
       "    <tr>\n",
       "      <th>29</th>\n",
       "      <td>A Development</td>\n",
       "    </tr>\n",
       "    <tr>\n",
       "      <th>30</th>\n",
       "      <td>LEV Development</td>\n",
       "    </tr>\n",
       "    <tr>\n",
       "      <th>31</th>\n",
       "      <td>Really Building</td>\n",
       "    </tr>\n",
       "    <tr>\n",
       "      <th>32</th>\n",
       "      <td>UDP</td>\n",
       "    </tr>\n",
       "    <tr>\n",
       "      <th>33</th>\n",
       "      <td>Saga Development</td>\n",
       "    </tr>\n",
       "    <tr>\n",
       "      <th>34</th>\n",
       "      <td>Центробуд</td>\n",
       "    </tr>\n",
       "    <tr>\n",
       "      <th>35</th>\n",
       "      <td>Міськбудінвест</td>\n",
       "    </tr>\n",
       "    <tr>\n",
       "      <th>36</th>\n",
       "      <td>Онікс Білд</td>\n",
       "    </tr>\n",
       "    <tr>\n",
       "      <th>37</th>\n",
       "      <td>Придесення Буд</td>\n",
       "    </tr>\n",
       "    <tr>\n",
       "      <th>38</th>\n",
       "      <td>Seven Hills</td>\n",
       "    </tr>\n",
       "    <tr>\n",
       "      <th>39</th>\n",
       "      <td>Євротранс</td>\n",
       "    </tr>\n",
       "    <tr>\n",
       "      <th>40</th>\n",
       "      <td>Continuum Development</td>\n",
       "    </tr>\n",
       "    <tr>\n",
       "      <th>41</th>\n",
       "      <td>RP Development</td>\n",
       "    </tr>\n",
       "    <tr>\n",
       "      <th>42</th>\n",
       "      <td>Edelburg Development</td>\n",
       "    </tr>\n",
       "    <tr>\n",
       "      <th>43</th>\n",
       "      <td>Budhouse Group</td>\n",
       "    </tr>\n",
       "    <tr>\n",
       "      <th>44</th>\n",
       "      <td>ДБК-ЖИТЛОБУД</td>\n",
       "    </tr>\n",
       "    <tr>\n",
       "      <th>45</th>\n",
       "      <td>Comfort Life</td>\n",
       "    </tr>\n",
       "    <tr>\n",
       "      <th>46</th>\n",
       "      <td>Standard Development</td>\n",
       "    </tr>\n",
       "    <tr>\n",
       "      <th>47</th>\n",
       "      <td>ZZBK1 Group</td>\n",
       "    </tr>\n",
       "    <tr>\n",
       "      <th>48</th>\n",
       "      <td>Kadorr Group</td>\n",
       "    </tr>\n",
       "    <tr>\n",
       "      <th>49</th>\n",
       "      <td>ГРК Столиця</td>\n",
       "    </tr>\n",
       "    <tr>\n",
       "      <th>50</th>\n",
       "      <td>KyivBudDevelopment</td>\n",
       "    </tr>\n",
       "    <tr>\n",
       "      <th>51</th>\n",
       "      <td>Українська будівельна компанія</td>\n",
       "    </tr>\n",
       "    <tr>\n",
       "      <th>52</th>\n",
       "      <td>Dema Development</td>\n",
       "    </tr>\n",
       "    <tr>\n",
       "      <th>53</th>\n",
       "      <td>RESA Development</td>\n",
       "    </tr>\n",
       "    <tr>\n",
       "      <th>54</th>\n",
       "      <td>InCo Home (Інвестиційна компанія)</td>\n",
       "    </tr>\n",
       "    <tr>\n",
       "      <th>55</th>\n",
       "      <td>Rise and Development</td>\n",
       "    </tr>\n",
       "  </tbody>\n",
       "</table>\n",
       "</div>"
      ],
      "text/plain": [
       "                           Забудовник\n",
       "0                    Alliance Novobud\n",
       "1                                 DIM\n",
       "2                                 УМК\n",
       "3                           KSM-GROUP\n",
       "4                                РІЕЛ\n",
       "5                         IB Alliance\n",
       "6                      Stolitsa Group\n",
       "7                    Nice Development\n",
       "8                        Інтергал-Буд\n",
       "9                         Royal House\n",
       "10                        KDD Ukraine\n",
       "11               Невідомий Забудовник\n",
       "12                    КАН Девелопмент\n",
       "13                               GEOS\n",
       "14                        Креатор-Буд\n",
       "15                         Ковальська\n",
       "16                       Taryan Group\n",
       "17                      Perfect Group\n",
       "18                          Фундамент\n",
       "19                        Futura hata\n",
       "20                    bUd development\n",
       "21                  Citex Development\n",
       "22                       Київміськбуд\n",
       "23              Будівельна група PARK\n",
       "24                          ZIM Group\n",
       "25               City One Development\n",
       "26                       Status Group\n",
       "27                         Greenville\n",
       "28                         BudCapital\n",
       "29                      A Development\n",
       "30                    LEV Development\n",
       "31                    Really Building\n",
       "32                                UDP\n",
       "33                   Saga Development\n",
       "34                          Центробуд\n",
       "35                     Міськбудінвест\n",
       "36                         Онікс Білд\n",
       "37                     Придесення Буд\n",
       "38                        Seven Hills\n",
       "39                          Євротранс\n",
       "40              Continuum Development\n",
       "41                     RP Development\n",
       "42               Edelburg Development\n",
       "43                     Budhouse Group\n",
       "44                       ДБК-ЖИТЛОБУД\n",
       "45                       Comfort Life\n",
       "46               Standard Development\n",
       "47                        ZZBK1 Group\n",
       "48                       Kadorr Group\n",
       "49                        ГРК Столиця\n",
       "50                 KyivBudDevelopment\n",
       "51     Українська будівельна компанія\n",
       "52                   Dema Development\n",
       "53                   RESA Development\n",
       "54  InCo Home (Інвестиційна компанія)\n",
       "55               Rise and Development"
      ]
     },
     "execution_count": 486,
     "metadata": {},
     "output_type": "execute_result"
    }
   ],
   "source": [
    "developers = pd.DataFrame(data=df.developer.unique(), columns=['Забудовник'])\n",
    "developers"
   ]
  },
  {
   "cell_type": "markdown",
   "id": "fc7789fe",
   "metadata": {},
   "source": [
    "#### Клас новобудови"
   ]
  },
  {
   "cell_type": "code",
   "execution_count": 487,
   "id": "b358940c",
   "metadata": {},
   "outputs": [
    {
     "data": {
      "text/html": [
       "<div>\n",
       "<style scoped>\n",
       "    .dataframe tbody tr th:only-of-type {\n",
       "        vertical-align: middle;\n",
       "    }\n",
       "\n",
       "    .dataframe tbody tr th {\n",
       "        vertical-align: top;\n",
       "    }\n",
       "\n",
       "    .dataframe thead th {\n",
       "        text-align: right;\n",
       "    }\n",
       "</style>\n",
       "<table border=\"1\" class=\"dataframe\">\n",
       "  <thead>\n",
       "    <tr style=\"text-align: right;\">\n",
       "      <th></th>\n",
       "      <th>Клас новобудови</th>\n",
       "    </tr>\n",
       "  </thead>\n",
       "  <tbody>\n",
       "    <tr>\n",
       "      <th>0</th>\n",
       "      <td>бізнес</td>\n",
       "    </tr>\n",
       "    <tr>\n",
       "      <th>1</th>\n",
       "      <td>комфорт</td>\n",
       "    </tr>\n",
       "    <tr>\n",
       "      <th>2</th>\n",
       "      <td>преміум</td>\n",
       "    </tr>\n",
       "    <tr>\n",
       "      <th>3</th>\n",
       "      <td>економ</td>\n",
       "    </tr>\n",
       "  </tbody>\n",
       "</table>\n",
       "</div>"
      ],
      "text/plain": [
       "  Клас новобудови\n",
       "0          бізнес\n",
       "1         комфорт\n",
       "2         преміум\n",
       "3          економ"
      ]
     },
     "execution_count": 487,
     "metadata": {},
     "output_type": "execute_result"
    }
   ],
   "source": [
    "building_classes = pd.DataFrame(data=df['attributes/class'].unique(), columns=['Клас новобудови'])\n",
    "building_classes"
   ]
  },
  {
   "cell_type": "markdown",
   "id": "e07fb890",
   "metadata": {},
   "source": [
    "#### Технологія будівництва"
   ]
  },
  {
   "cell_type": "code",
   "execution_count": 488,
   "id": "970df65b",
   "metadata": {
    "scrolled": true
   },
   "outputs": [
    {
     "data": {
      "text/html": [
       "<div>\n",
       "<style scoped>\n",
       "    .dataframe tbody tr th:only-of-type {\n",
       "        vertical-align: middle;\n",
       "    }\n",
       "\n",
       "    .dataframe tbody tr th {\n",
       "        vertical-align: top;\n",
       "    }\n",
       "\n",
       "    .dataframe thead th {\n",
       "        text-align: right;\n",
       "    }\n",
       "</style>\n",
       "<table border=\"1\" class=\"dataframe\">\n",
       "  <thead>\n",
       "    <tr style=\"text-align: right;\">\n",
       "      <th></th>\n",
       "      <th>Технологія будівництва</th>\n",
       "    </tr>\n",
       "  </thead>\n",
       "  <tbody>\n",
       "    <tr>\n",
       "      <th>0</th>\n",
       "      <td>монолітно-каркасна</td>\n",
       "    </tr>\n",
       "    <tr>\n",
       "      <th>1</th>\n",
       "      <td>цегляна, монолітно-каркасна</td>\n",
       "    </tr>\n",
       "    <tr>\n",
       "      <th>2</th>\n",
       "      <td>невідомо</td>\n",
       "    </tr>\n",
       "    <tr>\n",
       "      <th>3</th>\n",
       "      <td>панельна</td>\n",
       "    </tr>\n",
       "    <tr>\n",
       "      <th>4</th>\n",
       "      <td>цегляна, монолітно-каркасна, панельна</td>\n",
       "    </tr>\n",
       "    <tr>\n",
       "      <th>5</th>\n",
       "      <td>цегляна</td>\n",
       "    </tr>\n",
       "  </tbody>\n",
       "</table>\n",
       "</div>"
      ],
      "text/plain": [
       "                  Технологія будівництва\n",
       "0                     монолітно-каркасна\n",
       "1            цегляна, монолітно-каркасна\n",
       "2                               невідомо\n",
       "3                               панельна\n",
       "4  цегляна, монолітно-каркасна, панельна\n",
       "5                                цегляна"
      ]
     },
     "execution_count": 488,
     "metadata": {},
     "output_type": "execute_result"
    }
   ],
   "source": [
    "technologies = pd.DataFrame(data=df['attributes/construction_technology'].unique(), columns=['Технологія будівництва'])\n",
    "technologies"
   ]
  },
  {
   "cell_type": "markdown",
   "id": "17ace5b6",
   "metadata": {},
   "source": [
    "#### Матеріал стін"
   ]
  },
  {
   "cell_type": "code",
   "execution_count": 489,
   "id": "8ee849ff",
   "metadata": {},
   "outputs": [
    {
     "data": {
      "text/html": [
       "<div>\n",
       "<style scoped>\n",
       "    .dataframe tbody tr th:only-of-type {\n",
       "        vertical-align: middle;\n",
       "    }\n",
       "\n",
       "    .dataframe tbody tr th {\n",
       "        vertical-align: top;\n",
       "    }\n",
       "\n",
       "    .dataframe thead th {\n",
       "        text-align: right;\n",
       "    }\n",
       "</style>\n",
       "<table border=\"1\" class=\"dataframe\">\n",
       "  <thead>\n",
       "    <tr style=\"text-align: right;\">\n",
       "      <th></th>\n",
       "      <th>Матеріал стін</th>\n",
       "    </tr>\n",
       "  </thead>\n",
       "  <tbody>\n",
       "    <tr>\n",
       "      <th>0</th>\n",
       "      <td>цегла</td>\n",
       "    </tr>\n",
       "    <tr>\n",
       "      <th>1</th>\n",
       "      <td>керамоблок</td>\n",
       "    </tr>\n",
       "    <tr>\n",
       "      <th>2</th>\n",
       "      <td>цегла, газоблок (газобетон)</td>\n",
       "    </tr>\n",
       "    <tr>\n",
       "      <th>3</th>\n",
       "      <td>газоблок (газобетон)</td>\n",
       "    </tr>\n",
       "    <tr>\n",
       "      <th>4</th>\n",
       "      <td>газоблок (газобетон), керамоблок</td>\n",
       "    </tr>\n",
       "    <tr>\n",
       "      <th>5</th>\n",
       "      <td>залізобетон</td>\n",
       "    </tr>\n",
       "    <tr>\n",
       "      <th>6</th>\n",
       "      <td>керамзитоблок (керамзитобетон), газоблок (газо...</td>\n",
       "    </tr>\n",
       "    <tr>\n",
       "      <th>7</th>\n",
       "      <td>керамзитоблок (керамзитобетон)</td>\n",
       "    </tr>\n",
       "    <tr>\n",
       "      <th>8</th>\n",
       "      <td>цегла, керамоблок</td>\n",
       "    </tr>\n",
       "    <tr>\n",
       "      <th>9</th>\n",
       "      <td>газоблок (газобетон), залізобетон, цегла</td>\n",
       "    </tr>\n",
       "    <tr>\n",
       "      <th>10</th>\n",
       "      <td>керамоблок, газоблок (газобетон)</td>\n",
       "    </tr>\n",
       "    <tr>\n",
       "      <th>11</th>\n",
       "      <td>газоблок (газобетон), цегла</td>\n",
       "    </tr>\n",
       "    <tr>\n",
       "      <th>12</th>\n",
       "      <td>цегла, керамоблок, газоблок (газобетон)</td>\n",
       "    </tr>\n",
       "    <tr>\n",
       "      <th>13</th>\n",
       "      <td>залізобетон, цегла</td>\n",
       "    </tr>\n",
       "  </tbody>\n",
       "</table>\n",
       "</div>"
      ],
      "text/plain": [
       "                                        Матеріал стін\n",
       "0                                               цегла\n",
       "1                                          керамоблок\n",
       "2                         цегла, газоблок (газобетон)\n",
       "3                                газоблок (газобетон)\n",
       "4                    газоблок (газобетон), керамоблок\n",
       "5                                         залізобетон\n",
       "6   керамзитоблок (керамзитобетон), газоблок (газо...\n",
       "7                      керамзитоблок (керамзитобетон)\n",
       "8                                   цегла, керамоблок\n",
       "9            газоблок (газобетон), залізобетон, цегла\n",
       "10                   керамоблок, газоблок (газобетон)\n",
       "11                        газоблок (газобетон), цегла\n",
       "12            цегла, керамоблок, газоблок (газобетон)\n",
       "13                                 залізобетон, цегла"
      ]
     },
     "execution_count": 489,
     "metadata": {},
     "output_type": "execute_result"
    }
   ],
   "source": [
    "walls = pd.DataFrame(data=df['attributes/walls'].unique(), columns=['Матеріал стін'])\n",
    "walls"
   ]
  },
  {
   "cell_type": "markdown",
   "id": "5f7e488c",
   "metadata": {},
   "source": [
    "#### Утелпення стін"
   ]
  },
  {
   "cell_type": "code",
   "execution_count": 490,
   "id": "5a7b52a0",
   "metadata": {},
   "outputs": [
    {
     "data": {
      "text/html": [
       "<div>\n",
       "<style scoped>\n",
       "    .dataframe tbody tr th:only-of-type {\n",
       "        vertical-align: middle;\n",
       "    }\n",
       "\n",
       "    .dataframe tbody tr th {\n",
       "        vertical-align: top;\n",
       "    }\n",
       "\n",
       "    .dataframe thead th {\n",
       "        text-align: right;\n",
       "    }\n",
       "</style>\n",
       "<table border=\"1\" class=\"dataframe\">\n",
       "  <thead>\n",
       "    <tr style=\"text-align: right;\">\n",
       "      <th></th>\n",
       "      <th>Утелпення стін</th>\n",
       "    </tr>\n",
       "  </thead>\n",
       "  <tbody>\n",
       "    <tr>\n",
       "      <th>0</th>\n",
       "      <td>мінеральна вата</td>\n",
       "    </tr>\n",
       "    <tr>\n",
       "      <th>1</th>\n",
       "      <td>пінополістирол (пінопласт)</td>\n",
       "    </tr>\n",
       "    <tr>\n",
       "      <th>2</th>\n",
       "      <td>базальтова вата (базальтова плита)</td>\n",
       "    </tr>\n",
       "    <tr>\n",
       "      <th>3</th>\n",
       "      <td>мінеральна вата, пінополістирол (пінопласт)</td>\n",
       "    </tr>\n",
       "    <tr>\n",
       "      <th>4</th>\n",
       "      <td>пінополістирол (пінопласт), мінеральна вата</td>\n",
       "    </tr>\n",
       "    <tr>\n",
       "      <th>5</th>\n",
       "      <td>без утеплення</td>\n",
       "    </tr>\n",
       "    <tr>\n",
       "      <th>6</th>\n",
       "      <td>пінополістирол (пінопласт), базальтова вата (б...</td>\n",
       "    </tr>\n",
       "  </tbody>\n",
       "</table>\n",
       "</div>"
      ],
      "text/plain": [
       "                                      Утелпення стін\n",
       "0                                    мінеральна вата\n",
       "1                         пінополістирол (пінопласт)\n",
       "2                 базальтова вата (базальтова плита)\n",
       "3        мінеральна вата, пінополістирол (пінопласт)\n",
       "4        пінополістирол (пінопласт), мінеральна вата\n",
       "5                                      без утеплення\n",
       "6  пінополістирол (пінопласт), базальтова вата (б..."
      ]
     },
     "execution_count": 490,
     "metadata": {},
     "output_type": "execute_result"
    }
   ],
   "source": [
    "insulations = pd.DataFrame(data=df['attributes/insulation'].unique(), columns=['Утелпення стін'])\n",
    "insulations"
   ]
  },
  {
   "cell_type": "markdown",
   "id": "2f0b42fc",
   "metadata": {},
   "source": [
    "#### Опалення"
   ]
  },
  {
   "cell_type": "code",
   "execution_count": 491,
   "id": "5fd9a9ab",
   "metadata": {},
   "outputs": [
    {
     "data": {
      "text/html": [
       "<div>\n",
       "<style scoped>\n",
       "    .dataframe tbody tr th:only-of-type {\n",
       "        vertical-align: middle;\n",
       "    }\n",
       "\n",
       "    .dataframe tbody tr th {\n",
       "        vertical-align: top;\n",
       "    }\n",
       "\n",
       "    .dataframe thead th {\n",
       "        text-align: right;\n",
       "    }\n",
       "</style>\n",
       "<table border=\"1\" class=\"dataframe\">\n",
       "  <thead>\n",
       "    <tr style=\"text-align: right;\">\n",
       "      <th></th>\n",
       "      <th>Опалення</th>\n",
       "    </tr>\n",
       "  </thead>\n",
       "  <tbody>\n",
       "    <tr>\n",
       "      <th>0</th>\n",
       "      <td>автономне (в будинку)</td>\n",
       "    </tr>\n",
       "    <tr>\n",
       "      <th>1</th>\n",
       "      <td>індивідуальне (в квартирі)</td>\n",
       "    </tr>\n",
       "    <tr>\n",
       "      <th>2</th>\n",
       "      <td>централізоване</td>\n",
       "    </tr>\n",
       "    <tr>\n",
       "      <th>3</th>\n",
       "      <td>автономне (в будинку), централізоване</td>\n",
       "    </tr>\n",
       "    <tr>\n",
       "      <th>4</th>\n",
       "      <td>автономне (в будинку), індивідуальне (в квартирі)</td>\n",
       "    </tr>\n",
       "  </tbody>\n",
       "</table>\n",
       "</div>"
      ],
      "text/plain": [
       "                                            Опалення\n",
       "0                              автономне (в будинку)\n",
       "1                         індивідуальне (в квартирі)\n",
       "2                                     централізоване\n",
       "3              автономне (в будинку), централізоване\n",
       "4  автономне (в будинку), індивідуальне (в квартирі)"
      ]
     },
     "execution_count": 491,
     "metadata": {},
     "output_type": "execute_result"
    }
   ],
   "source": [
    "heating_options = pd.DataFrame(data=df['attributes/heating'].unique(), columns=['Опалення'])\n",
    "heating_options"
   ]
  },
  {
   "cell_type": "markdown",
   "id": "7d6a72cd",
   "metadata": {},
   "source": [
    "#### Стан ремонту"
   ]
  },
  {
   "cell_type": "code",
   "execution_count": 492,
   "id": "0fd0cc20",
   "metadata": {},
   "outputs": [
    {
     "data": {
      "text/html": [
       "<div>\n",
       "<style scoped>\n",
       "    .dataframe tbody tr th:only-of-type {\n",
       "        vertical-align: middle;\n",
       "    }\n",
       "\n",
       "    .dataframe tbody tr th {\n",
       "        vertical-align: top;\n",
       "    }\n",
       "\n",
       "    .dataframe thead th {\n",
       "        text-align: right;\n",
       "    }\n",
       "</style>\n",
       "<table border=\"1\" class=\"dataframe\">\n",
       "  <thead>\n",
       "    <tr style=\"text-align: right;\">\n",
       "      <th></th>\n",
       "      <th>Стан ремонту</th>\n",
       "    </tr>\n",
       "  </thead>\n",
       "  <tbody>\n",
       "    <tr>\n",
       "      <th>0</th>\n",
       "      <td>без ремонту</td>\n",
       "    </tr>\n",
       "    <tr>\n",
       "      <th>1</th>\n",
       "      <td>без ремонту, під ремонт</td>\n",
       "    </tr>\n",
       "    <tr>\n",
       "      <th>2</th>\n",
       "      <td>без ремонту, з ремонтом</td>\n",
       "    </tr>\n",
       "    <tr>\n",
       "      <th>3</th>\n",
       "      <td>під ремонт, з ремонтом</td>\n",
       "    </tr>\n",
       "    <tr>\n",
       "      <th>4</th>\n",
       "      <td>з чорновим ремонтом</td>\n",
       "    </tr>\n",
       "    <tr>\n",
       "      <th>5</th>\n",
       "      <td>без ремонту, під ремонт, з ремонтом</td>\n",
       "    </tr>\n",
       "    <tr>\n",
       "      <th>6</th>\n",
       "      <td>під ремонт</td>\n",
       "    </tr>\n",
       "    <tr>\n",
       "      <th>7</th>\n",
       "      <td>з ремонтом</td>\n",
       "    </tr>\n",
       "    <tr>\n",
       "      <th>8</th>\n",
       "      <td>без ремонту, з чорновим ремонтом</td>\n",
       "    </tr>\n",
       "    <tr>\n",
       "      <th>9</th>\n",
       "      <td>з ремонтом, з чорновим ремонтом</td>\n",
       "    </tr>\n",
       "    <tr>\n",
       "      <th>10</th>\n",
       "      <td>під ремонт, з ремонтом, з чорновим ремонтом</td>\n",
       "    </tr>\n",
       "    <tr>\n",
       "      <th>11</th>\n",
       "      <td>без ремонту, з ремонтом, з чорновим ремонтом</td>\n",
       "    </tr>\n",
       "  </tbody>\n",
       "</table>\n",
       "</div>"
      ],
      "text/plain": [
       "                                    Стан ремонту\n",
       "0                                    без ремонту\n",
       "1                        без ремонту, під ремонт\n",
       "2                        без ремонту, з ремонтом\n",
       "3                         під ремонт, з ремонтом\n",
       "4                            з чорновим ремонтом\n",
       "5            без ремонту, під ремонт, з ремонтом\n",
       "6                                     під ремонт\n",
       "7                                     з ремонтом\n",
       "8               без ремонту, з чорновим ремонтом\n",
       "9                з ремонтом, з чорновим ремонтом\n",
       "10   під ремонт, з ремонтом, з чорновим ремонтом\n",
       "11  без ремонту, з ремонтом, з чорновим ремонтом"
      ]
     },
     "execution_count": 492,
     "metadata": {},
     "output_type": "execute_result"
    }
   ],
   "source": [
    "renovation_states = pd.DataFrame(data=df['attributes/state'].unique(), columns=['Стан ремонту'])\n",
    "renovation_states"
   ]
  },
  {
   "cell_type": "markdown",
   "id": "d6551cdb",
   "metadata": {},
   "source": [
    "#### Закрита територія"
   ]
  },
  {
   "cell_type": "code",
   "execution_count": 493,
   "id": "931e710f",
   "metadata": {},
   "outputs": [
    {
     "data": {
      "text/html": [
       "<div>\n",
       "<style scoped>\n",
       "    .dataframe tbody tr th:only-of-type {\n",
       "        vertical-align: middle;\n",
       "    }\n",
       "\n",
       "    .dataframe tbody tr th {\n",
       "        vertical-align: top;\n",
       "    }\n",
       "\n",
       "    .dataframe thead th {\n",
       "        text-align: right;\n",
       "    }\n",
       "</style>\n",
       "<table border=\"1\" class=\"dataframe\">\n",
       "  <thead>\n",
       "    <tr style=\"text-align: right;\">\n",
       "      <th></th>\n",
       "      <th>Закрита територія</th>\n",
       "    </tr>\n",
       "  </thead>\n",
       "  <tbody>\n",
       "    <tr>\n",
       "      <th>0</th>\n",
       "      <td>від авто та сторонніх</td>\n",
       "    </tr>\n",
       "    <tr>\n",
       "      <th>1</th>\n",
       "      <td>від автомобілів</td>\n",
       "    </tr>\n",
       "    <tr>\n",
       "      <th>2</th>\n",
       "      <td>ні</td>\n",
       "    </tr>\n",
       "    <tr>\n",
       "      <th>3</th>\n",
       "      <td>невідомо</td>\n",
       "    </tr>\n",
       "  </tbody>\n",
       "</table>\n",
       "</div>"
      ],
      "text/plain": [
       "       Закрита територія\n",
       "0  від авто та сторонніх\n",
       "1        від автомобілів\n",
       "2                     ні\n",
       "3               невідомо"
      ]
     },
     "execution_count": 493,
     "metadata": {},
     "output_type": "execute_result"
    }
   ],
   "source": [
    "protected_area_options = pd.DataFrame(data=df['attributes/protected_area'].unique(), columns=['Закрита територія'])\n",
    "protected_area_options"
   ]
  },
  {
   "cell_type": "markdown",
   "id": "f5afe770",
   "metadata": {},
   "source": [
    "#### Паркінг"
   ]
  },
  {
   "cell_type": "code",
   "execution_count": 494,
   "id": "ad40f92a",
   "metadata": {
    "scrolled": false
   },
   "outputs": [
    {
     "data": {
      "text/html": [
       "<div>\n",
       "<style scoped>\n",
       "    .dataframe tbody tr th:only-of-type {\n",
       "        vertical-align: middle;\n",
       "    }\n",
       "\n",
       "    .dataframe tbody tr th {\n",
       "        vertical-align: top;\n",
       "    }\n",
       "\n",
       "    .dataframe thead th {\n",
       "        text-align: right;\n",
       "    }\n",
       "</style>\n",
       "<table border=\"1\" class=\"dataframe\">\n",
       "  <thead>\n",
       "    <tr style=\"text-align: right;\">\n",
       "      <th></th>\n",
       "      <th>Паркінг</th>\n",
       "    </tr>\n",
       "  </thead>\n",
       "  <tbody>\n",
       "    <tr>\n",
       "      <th>0</th>\n",
       "      <td>підземний з ліфтом (187 паркомісць)</td>\n",
       "    </tr>\n",
       "    <tr>\n",
       "      <th>1</th>\n",
       "      <td>підземний</td>\n",
       "    </tr>\n",
       "    <tr>\n",
       "      <th>2</th>\n",
       "      <td>гостьовий (2500 паркомісць), підземний з ліфто...</td>\n",
       "    </tr>\n",
       "    <tr>\n",
       "      <th>3</th>\n",
       "      <td>гостьовий, підземний</td>\n",
       "    </tr>\n",
       "    <tr>\n",
       "      <th>4</th>\n",
       "      <td>підземний з ліфтом</td>\n",
       "    </tr>\n",
       "    <tr>\n",
       "      <th>5</th>\n",
       "      <td>гостьовий, підземний (310 паркомісць)</td>\n",
       "    </tr>\n",
       "    <tr>\n",
       "      <th>6</th>\n",
       "      <td>гостьовий</td>\n",
       "    </tr>\n",
       "    <tr>\n",
       "      <th>7</th>\n",
       "      <td>наземний багаторівневий</td>\n",
       "    </tr>\n",
       "    <tr>\n",
       "      <th>8</th>\n",
       "      <td>підземний з ліфтом (750 паркомісць)</td>\n",
       "    </tr>\n",
       "    <tr>\n",
       "      <th>9</th>\n",
       "      <td>наземний багаторівневий (1787 паркомісць)</td>\n",
       "    </tr>\n",
       "    <tr>\n",
       "      <th>10</th>\n",
       "      <td>підземний (102 паркомісця)</td>\n",
       "    </tr>\n",
       "    <tr>\n",
       "      <th>11</th>\n",
       "      <td>гостьовий, підземний з ліфтом (580 паркомісць)</td>\n",
       "    </tr>\n",
       "    <tr>\n",
       "      <th>12</th>\n",
       "      <td>гостьовий, підземний (1360 паркомісць)</td>\n",
       "    </tr>\n",
       "    <tr>\n",
       "      <th>13</th>\n",
       "      <td>підземний (142 паркомісця)</td>\n",
       "    </tr>\n",
       "    <tr>\n",
       "      <th>14</th>\n",
       "      <td>підземний з ліфтом (143 паркомісця)</td>\n",
       "    </tr>\n",
       "    <tr>\n",
       "      <th>15</th>\n",
       "      <td>підземний з ліфтом (53 паркомісця)</td>\n",
       "    </tr>\n",
       "    <tr>\n",
       "      <th>16</th>\n",
       "      <td>наземний багаторівневий, підземний з ліфтом</td>\n",
       "    </tr>\n",
       "    <tr>\n",
       "      <th>17</th>\n",
       "      <td>гостьовий, наземний багаторівневий</td>\n",
       "    </tr>\n",
       "    <tr>\n",
       "      <th>18</th>\n",
       "      <td>гостьовий, наземний багаторівневий, підземний ...</td>\n",
       "    </tr>\n",
       "    <tr>\n",
       "      <th>19</th>\n",
       "      <td>підземний з ліфтом (674 паркомісця)</td>\n",
       "    </tr>\n",
       "    <tr>\n",
       "      <th>20</th>\n",
       "      <td>гостьовий, підземний з ліфтом</td>\n",
       "    </tr>\n",
       "    <tr>\n",
       "      <th>21</th>\n",
       "      <td>підземний з ліфтом (670 паркомісць)</td>\n",
       "    </tr>\n",
       "    <tr>\n",
       "      <th>22</th>\n",
       "      <td>гостьовий (1500 паркомісць), підземний (1700 п...</td>\n",
       "    </tr>\n",
       "    <tr>\n",
       "      <th>23</th>\n",
       "      <td>підземний з ліфтом (501 паркомісце)</td>\n",
       "    </tr>\n",
       "    <tr>\n",
       "      <th>24</th>\n",
       "      <td>підземний (987 паркомісць)</td>\n",
       "    </tr>\n",
       "    <tr>\n",
       "      <th>25</th>\n",
       "      <td>підземний з ліфтом (2746 паркомісць)</td>\n",
       "    </tr>\n",
       "    <tr>\n",
       "      <th>26</th>\n",
       "      <td>підземний (714 паркомісць)</td>\n",
       "    </tr>\n",
       "    <tr>\n",
       "      <th>27</th>\n",
       "      <td>гостьовий, підземний (355 паркомісць)</td>\n",
       "    </tr>\n",
       "    <tr>\n",
       "      <th>28</th>\n",
       "      <td>наземний багаторівневий, підземний</td>\n",
       "    </tr>\n",
       "    <tr>\n",
       "      <th>29</th>\n",
       "      <td>наземний багаторівневий (182 паркомісця)</td>\n",
       "    </tr>\n",
       "    <tr>\n",
       "      <th>30</th>\n",
       "      <td>гостьовий (12 паркомісць), підземний (140 парк...</td>\n",
       "    </tr>\n",
       "    <tr>\n",
       "      <th>31</th>\n",
       "      <td>підземний (3991 паркомісце)</td>\n",
       "    </tr>\n",
       "    <tr>\n",
       "      <th>32</th>\n",
       "      <td>гостьовий, наземний багаторівневий, підземний</td>\n",
       "    </tr>\n",
       "    <tr>\n",
       "      <th>33</th>\n",
       "      <td>гостьовий (91 паркомісце), підземний (238 парк...</td>\n",
       "    </tr>\n",
       "    <tr>\n",
       "      <th>34</th>\n",
       "      <td>підземний (1311 паркомісць)</td>\n",
       "    </tr>\n",
       "    <tr>\n",
       "      <th>35</th>\n",
       "      <td>підземний (687 паркомісць)</td>\n",
       "    </tr>\n",
       "    <tr>\n",
       "      <th>36</th>\n",
       "      <td>підземний (322 паркомісця)</td>\n",
       "    </tr>\n",
       "    <tr>\n",
       "      <th>37</th>\n",
       "      <td>гостьовий, підземний (3440 паркомісць)</td>\n",
       "    </tr>\n",
       "    <tr>\n",
       "      <th>38</th>\n",
       "      <td>підземний (681 паркомісце)</td>\n",
       "    </tr>\n",
       "    <tr>\n",
       "      <th>39</th>\n",
       "      <td>гостьовий, підземний з ліфтом (41 паркомісце)</td>\n",
       "    </tr>\n",
       "    <tr>\n",
       "      <th>40</th>\n",
       "      <td>підземний (265 паркомісць)</td>\n",
       "    </tr>\n",
       "    <tr>\n",
       "      <th>41</th>\n",
       "      <td>гостьовий (560 паркомісць)</td>\n",
       "    </tr>\n",
       "    <tr>\n",
       "      <th>42</th>\n",
       "      <td>підземний (49 паркомісць)</td>\n",
       "    </tr>\n",
       "    <tr>\n",
       "      <th>43</th>\n",
       "      <td>гостьовий, підземний (83 паркомісця)</td>\n",
       "    </tr>\n",
       "    <tr>\n",
       "      <th>44</th>\n",
       "      <td>підземний з ліфтом (620 паркомісць)</td>\n",
       "    </tr>\n",
       "    <tr>\n",
       "      <th>45</th>\n",
       "      <td>гостьовий, підземний (98 паркомісць)</td>\n",
       "    </tr>\n",
       "    <tr>\n",
       "      <th>46</th>\n",
       "      <td>підземний (163 паркомісця)</td>\n",
       "    </tr>\n",
       "    <tr>\n",
       "      <th>47</th>\n",
       "      <td>гостьовий (600 паркомісць)</td>\n",
       "    </tr>\n",
       "    <tr>\n",
       "      <th>48</th>\n",
       "      <td>гостьовий (450 паркомісць), підземний (1100 па...</td>\n",
       "    </tr>\n",
       "    <tr>\n",
       "      <th>49</th>\n",
       "      <td>підземний (226 паркомісць)</td>\n",
       "    </tr>\n",
       "    <tr>\n",
       "      <th>50</th>\n",
       "      <td>гостьовий, підземний з ліфтом (588 паркомісць)</td>\n",
       "    </tr>\n",
       "    <tr>\n",
       "      <th>51</th>\n",
       "      <td>підземний (240 паркомісць)</td>\n",
       "    </tr>\n",
       "    <tr>\n",
       "      <th>52</th>\n",
       "      <td>підземний з ліфтом (12 паркомісць)</td>\n",
       "    </tr>\n",
       "    <tr>\n",
       "      <th>53</th>\n",
       "      <td>гостьовий, підземний (92 паркомісця)</td>\n",
       "    </tr>\n",
       "    <tr>\n",
       "      <th>54</th>\n",
       "      <td>гостьовий (9 паркомісць), підземний з ліфтом (...</td>\n",
       "    </tr>\n",
       "    <tr>\n",
       "      <th>55</th>\n",
       "      <td>підземний (257 паркомісць)</td>\n",
       "    </tr>\n",
       "    <tr>\n",
       "      <th>56</th>\n",
       "      <td>невідомо</td>\n",
       "    </tr>\n",
       "    <tr>\n",
       "      <th>57</th>\n",
       "      <td>підземний з ліфтом (50 паркомісць)</td>\n",
       "    </tr>\n",
       "    <tr>\n",
       "      <th>58</th>\n",
       "      <td>підземний (302 паркомісця)</td>\n",
       "    </tr>\n",
       "    <tr>\n",
       "      <th>59</th>\n",
       "      <td>підземний з ліфтом (95 паркомісць)</td>\n",
       "    </tr>\n",
       "    <tr>\n",
       "      <th>60</th>\n",
       "      <td>підземний (425 паркомісць)</td>\n",
       "    </tr>\n",
       "    <tr>\n",
       "      <th>61</th>\n",
       "      <td>гостьовий, підземний (60 паркомісць)</td>\n",
       "    </tr>\n",
       "    <tr>\n",
       "      <th>62</th>\n",
       "      <td>підземний з ліфтом (91 паркомісце)</td>\n",
       "    </tr>\n",
       "    <tr>\n",
       "      <th>63</th>\n",
       "      <td>підземний (100 паркомісць)</td>\n",
       "    </tr>\n",
       "    <tr>\n",
       "      <th>64</th>\n",
       "      <td>підземний з ліфтом (179 паркомісць)</td>\n",
       "    </tr>\n",
       "    <tr>\n",
       "      <th>65</th>\n",
       "      <td>підземний (83 паркомісця)</td>\n",
       "    </tr>\n",
       "    <tr>\n",
       "      <th>66</th>\n",
       "      <td>гостьовий (150 паркомісць), підземний (800 пар...</td>\n",
       "    </tr>\n",
       "    <tr>\n",
       "      <th>67</th>\n",
       "      <td>підземний (594 паркомісця)</td>\n",
       "    </tr>\n",
       "    <tr>\n",
       "      <th>68</th>\n",
       "      <td>підземний (305 паркомісць)</td>\n",
       "    </tr>\n",
       "    <tr>\n",
       "      <th>69</th>\n",
       "      <td>підземний (758 паркомісць)</td>\n",
       "    </tr>\n",
       "    <tr>\n",
       "      <th>70</th>\n",
       "      <td>гостьовий, підземний (189 паркомісць)</td>\n",
       "    </tr>\n",
       "    <tr>\n",
       "      <th>71</th>\n",
       "      <td>підземний з ліфтом (292 паркомісця)</td>\n",
       "    </tr>\n",
       "    <tr>\n",
       "      <th>72</th>\n",
       "      <td>підземний (101 паркомісце), гостьовий</td>\n",
       "    </tr>\n",
       "    <tr>\n",
       "      <th>73</th>\n",
       "      <td>гостьовий (86 паркомісць), підземний (35 парко...</td>\n",
       "    </tr>\n",
       "    <tr>\n",
       "      <th>74</th>\n",
       "      <td>підземний (255 паркомісць)</td>\n",
       "    </tr>\n",
       "    <tr>\n",
       "      <th>75</th>\n",
       "      <td>гостьовий (21 паркомісце), підземний (45 парко...</td>\n",
       "    </tr>\n",
       "    <tr>\n",
       "      <th>76</th>\n",
       "      <td>підземний з ліфтом (490 паркомісць)</td>\n",
       "    </tr>\n",
       "    <tr>\n",
       "      <th>77</th>\n",
       "      <td>підземний (211 паркомісць)</td>\n",
       "    </tr>\n",
       "    <tr>\n",
       "      <th>78</th>\n",
       "      <td>підземний (523 паркомісця)</td>\n",
       "    </tr>\n",
       "    <tr>\n",
       "      <th>79</th>\n",
       "      <td>підземний (70 паркомісць)</td>\n",
       "    </tr>\n",
       "    <tr>\n",
       "      <th>80</th>\n",
       "      <td>гостьовий (50 паркомісць), підземний з ліфтом ...</td>\n",
       "    </tr>\n",
       "    <tr>\n",
       "      <th>81</th>\n",
       "      <td>підземний (250 паркомісць)</td>\n",
       "    </tr>\n",
       "    <tr>\n",
       "      <th>82</th>\n",
       "      <td>підземний (145 паркомісць)</td>\n",
       "    </tr>\n",
       "    <tr>\n",
       "      <th>83</th>\n",
       "      <td>підземний з ліфтом (68 паркомісць)</td>\n",
       "    </tr>\n",
       "    <tr>\n",
       "      <th>84</th>\n",
       "      <td>гостьовий, підземний (44 паркомісця)</td>\n",
       "    </tr>\n",
       "    <tr>\n",
       "      <th>85</th>\n",
       "      <td>підземний (37 паркомісць)</td>\n",
       "    </tr>\n",
       "    <tr>\n",
       "      <th>86</th>\n",
       "      <td>підземний (625 паркомісць)</td>\n",
       "    </tr>\n",
       "    <tr>\n",
       "      <th>87</th>\n",
       "      <td>підземний з ліфтом (55 паркомісць)</td>\n",
       "    </tr>\n",
       "    <tr>\n",
       "      <th>88</th>\n",
       "      <td>підземний з ліфтом (176 паркомісць)</td>\n",
       "    </tr>\n",
       "    <tr>\n",
       "      <th>89</th>\n",
       "      <td>підземний (148 паркомісць)</td>\n",
       "    </tr>\n",
       "    <tr>\n",
       "      <th>90</th>\n",
       "      <td>підземний (800 паркомісць)</td>\n",
       "    </tr>\n",
       "    <tr>\n",
       "      <th>91</th>\n",
       "      <td>підземний (47 паркомісць)</td>\n",
       "    </tr>\n",
       "    <tr>\n",
       "      <th>92</th>\n",
       "      <td>підземний з ліфтом (15 паркомісць)</td>\n",
       "    </tr>\n",
       "    <tr>\n",
       "      <th>93</th>\n",
       "      <td>підземний (60 паркомісць)</td>\n",
       "    </tr>\n",
       "    <tr>\n",
       "      <th>94</th>\n",
       "      <td>підземний з ліфтом (27 паркомісць)</td>\n",
       "    </tr>\n",
       "    <tr>\n",
       "      <th>95</th>\n",
       "      <td>підземний (18 паркомісць)</td>\n",
       "    </tr>\n",
       "    <tr>\n",
       "      <th>96</th>\n",
       "      <td>наземний багаторівневий (40 паркомісць), підзе...</td>\n",
       "    </tr>\n",
       "    <tr>\n",
       "      <th>97</th>\n",
       "      <td>гостьовий (20 паркомісць), підземний з ліфтом ...</td>\n",
       "    </tr>\n",
       "    <tr>\n",
       "      <th>98</th>\n",
       "      <td>гостьовий (15 паркомісць), підземний (20 парко...</td>\n",
       "    </tr>\n",
       "  </tbody>\n",
       "</table>\n",
       "</div>"
      ],
      "text/plain": [
       "                                              Паркінг\n",
       "0                 підземний з ліфтом (187 паркомісць)\n",
       "1                                           підземний\n",
       "2   гостьовий (2500 паркомісць), підземний з ліфто...\n",
       "3                                гостьовий, підземний\n",
       "4                                  підземний з ліфтом\n",
       "5               гостьовий, підземний (310 паркомісць)\n",
       "6                                           гостьовий\n",
       "7                             наземний багаторівневий\n",
       "8                 підземний з ліфтом (750 паркомісць)\n",
       "9           наземний багаторівневий (1787 паркомісць)\n",
       "10                         підземний (102 паркомісця)\n",
       "11     гостьовий, підземний з ліфтом (580 паркомісць)\n",
       "12             гостьовий, підземний (1360 паркомісць)\n",
       "13                         підземний (142 паркомісця)\n",
       "14                підземний з ліфтом (143 паркомісця)\n",
       "15                 підземний з ліфтом (53 паркомісця)\n",
       "16        наземний багаторівневий, підземний з ліфтом\n",
       "17                 гостьовий, наземний багаторівневий\n",
       "18  гостьовий, наземний багаторівневий, підземний ...\n",
       "19                підземний з ліфтом (674 паркомісця)\n",
       "20                      гостьовий, підземний з ліфтом\n",
       "21                підземний з ліфтом (670 паркомісць)\n",
       "22  гостьовий (1500 паркомісць), підземний (1700 п...\n",
       "23                підземний з ліфтом (501 паркомісце)\n",
       "24                         підземний (987 паркомісць)\n",
       "25               підземний з ліфтом (2746 паркомісць)\n",
       "26                         підземний (714 паркомісць)\n",
       "27              гостьовий, підземний (355 паркомісць)\n",
       "28                 наземний багаторівневий, підземний\n",
       "29           наземний багаторівневий (182 паркомісця)\n",
       "30  гостьовий (12 паркомісць), підземний (140 парк...\n",
       "31                        підземний (3991 паркомісце)\n",
       "32      гостьовий, наземний багаторівневий, підземний\n",
       "33  гостьовий (91 паркомісце), підземний (238 парк...\n",
       "34                        підземний (1311 паркомісць)\n",
       "35                         підземний (687 паркомісць)\n",
       "36                         підземний (322 паркомісця)\n",
       "37             гостьовий, підземний (3440 паркомісць)\n",
       "38                         підземний (681 паркомісце)\n",
       "39      гостьовий, підземний з ліфтом (41 паркомісце)\n",
       "40                         підземний (265 паркомісць)\n",
       "41                         гостьовий (560 паркомісць)\n",
       "42                          підземний (49 паркомісць)\n",
       "43               гостьовий, підземний (83 паркомісця)\n",
       "44                підземний з ліфтом (620 паркомісць)\n",
       "45               гостьовий, підземний (98 паркомісць)\n",
       "46                         підземний (163 паркомісця)\n",
       "47                         гостьовий (600 паркомісць)\n",
       "48  гостьовий (450 паркомісць), підземний (1100 па...\n",
       "49                         підземний (226 паркомісць)\n",
       "50     гостьовий, підземний з ліфтом (588 паркомісць)\n",
       "51                         підземний (240 паркомісць)\n",
       "52                 підземний з ліфтом (12 паркомісць)\n",
       "53               гостьовий, підземний (92 паркомісця)\n",
       "54  гостьовий (9 паркомісць), підземний з ліфтом (...\n",
       "55                         підземний (257 паркомісць)\n",
       "56                                           невідомо\n",
       "57                 підземний з ліфтом (50 паркомісць)\n",
       "58                         підземний (302 паркомісця)\n",
       "59                 підземний з ліфтом (95 паркомісць)\n",
       "60                         підземний (425 паркомісць)\n",
       "61               гостьовий, підземний (60 паркомісць)\n",
       "62                 підземний з ліфтом (91 паркомісце)\n",
       "63                         підземний (100 паркомісць)\n",
       "64                підземний з ліфтом (179 паркомісць)\n",
       "65                          підземний (83 паркомісця)\n",
       "66  гостьовий (150 паркомісць), підземний (800 пар...\n",
       "67                         підземний (594 паркомісця)\n",
       "68                         підземний (305 паркомісць)\n",
       "69                         підземний (758 паркомісць)\n",
       "70              гостьовий, підземний (189 паркомісць)\n",
       "71                підземний з ліфтом (292 паркомісця)\n",
       "72              підземний (101 паркомісце), гостьовий\n",
       "73  гостьовий (86 паркомісць), підземний (35 парко...\n",
       "74                         підземний (255 паркомісць)\n",
       "75  гостьовий (21 паркомісце), підземний (45 парко...\n",
       "76                підземний з ліфтом (490 паркомісць)\n",
       "77                         підземний (211 паркомісць)\n",
       "78                         підземний (523 паркомісця)\n",
       "79                          підземний (70 паркомісць)\n",
       "80  гостьовий (50 паркомісць), підземний з ліфтом ...\n",
       "81                         підземний (250 паркомісць)\n",
       "82                         підземний (145 паркомісць)\n",
       "83                 підземний з ліфтом (68 паркомісць)\n",
       "84               гостьовий, підземний (44 паркомісця)\n",
       "85                          підземний (37 паркомісць)\n",
       "86                         підземний (625 паркомісць)\n",
       "87                 підземний з ліфтом (55 паркомісць)\n",
       "88                підземний з ліфтом (176 паркомісць)\n",
       "89                         підземний (148 паркомісць)\n",
       "90                         підземний (800 паркомісць)\n",
       "91                          підземний (47 паркомісць)\n",
       "92                 підземний з ліфтом (15 паркомісць)\n",
       "93                          підземний (60 паркомісць)\n",
       "94                 підземний з ліфтом (27 паркомісць)\n",
       "95                          підземний (18 паркомісць)\n",
       "96  наземний багаторівневий (40 паркомісць), підзе...\n",
       "97  гостьовий (20 паркомісць), підземний з ліфтом ...\n",
       "98  гостьовий (15 паркомісць), підземний (20 парко..."
      ]
     },
     "execution_count": 494,
     "metadata": {},
     "output_type": "execute_result"
    }
   ],
   "source": [
    "pd.DataFrame(data=df['attributes/parking'].unique(), columns=['Паркінг'])"
   ]
  },
  {
   "cell_type": "markdown",
   "id": "86a270b9",
   "metadata": {},
   "source": [
    "#### Термін розстрочки"
   ]
  },
  {
   "cell_type": "code",
   "execution_count": 495,
   "id": "ada1bda2",
   "metadata": {},
   "outputs": [
    {
     "data": {
      "image/png": "[encoded data removed]",
      "text/plain": [
       "<Figure size 640x480 with 1 Axes>"
      ]
     },
     "metadata": {},
     "output_type": "display_data"
    }
   ],
   "source": [
    "ax = df['financials/installmentPlanTerm'].value_counts().head(10).plot(kind='bar', title='Термін розстрочки')\n",
    "\n",
    "ax.set_xlabel('Років')\n",
    "ax.set_ylabel('Пропозицій')\n",
    "\n",
    "plt.show()"
   ]
  },
  {
   "cell_type": "markdown",
   "id": "a0ce5f21",
   "metadata": {},
   "source": [
    "#### Ціна за квадратний метр"
   ]
  },
  {
   "cell_type": "code",
   "execution_count": 496,
   "id": "4b343c55",
   "metadata": {
    "scrolled": true
   },
   "outputs": [
    {
     "data": {
      "image/png": "[encoded data removed]",
      "text/plain": [
       "<Figure size 640x480 with 1 Axes>"
      ]
     },
     "metadata": {},
     "output_type": "display_data"
    }
   ],
   "source": [
    "ax = df.copy().sort_values(by='pricePerUnit')['pricePerUnit'].plot(kind='hist', bins=50, title='Ціна за квадратний метр')\n",
    "\n",
    "ax.set_xlabel('Ціна (грн)')\n",
    "ax.set_ylabel('Частота пропозиції')\n",
    "\n",
    "plt.show()"
   ]
  },
  {
   "cell_type": "markdown",
   "id": "fec5edf5",
   "metadata": {},
   "source": [
    "#### Ціна новобудови"
   ]
  },
  {
   "cell_type": "code",
   "execution_count": 497,
   "id": "e3546bc9",
   "metadata": {},
   "outputs": [
    {
     "data": {
      "image/png": "[encoded data removed]",
      "text/plain": [
       "<Figure size 640x480 with 1 Axes>"
      ]
     },
     "metadata": {},
     "output_type": "display_data"
    }
   ],
   "source": [
    "ax = df.copy().sort_values(by='price')['price'].plot(kind='hist', bins=50, title='Ціна новобудови')\n",
    "\n",
    "ax.set_xlabel('Ціна (грн)')\n",
    "ax.set_ylabel('Частота пропозиції')\n",
    "\n",
    "plt.show()"
   ]
  },
  {
   "cell_type": "markdown",
   "id": "96473c51",
   "metadata": {},
   "source": [
    "#### Житлова площа"
   ]
  },
  {
   "cell_type": "code",
   "execution_count": 498,
   "id": "791289f5",
   "metadata": {},
   "outputs": [
    {
     "data": {
      "image/png": "[encoded data removed]",
      "text/plain": [
       "<Figure size 640x480 with 1 Axes>"
      ]
     },
     "metadata": {},
     "output_type": "display_data"
    }
   ],
   "source": [
    "ax = df.copy().sort_values(by='area')['area'].plot(kind='hist', bins=50, title='Житлова площа')\n",
    "\n",
    "ax.set_xlabel('Житлова площа (метри квадратні)')\n",
    "ax.set_ylabel('Частота пропозиції')\n",
    "\n",
    "plt.show()"
   ]
  },
  {
   "cell_type": "markdown",
   "id": "63f5c23f",
   "metadata": {},
   "source": [
    "#### Кількість кімнат"
   ]
  },
  {
   "cell_type": "code",
   "execution_count": 499,
   "id": "2cf42dee",
   "metadata": {},
   "outputs": [
    {
     "data": {
      "image/png": "[encoded data removed]",
      "text/plain": [
       "<Figure size 640x480 with 1 Axes>"
      ]
     },
     "metadata": {},
     "output_type": "display_data"
    }
   ],
   "source": [
    "ax = df['rooms'].value_counts().head(10).plot(kind='bar', title='Кількість кімнат')\n",
    "\n",
    "ax.set_xlabel('Кімнат')\n",
    "ax.set_ylabel('Пропозицій')\n",
    "\n",
    "plt.show()"
   ]
  },
  {
   "cell_type": "markdown",
   "id": "34fd4557",
   "metadata": {},
   "source": [
    "#### Кількість квартир у новобудові"
   ]
  },
  {
   "cell_type": "code",
   "execution_count": 500,
   "id": "805ec64f",
   "metadata": {
    "scrolled": true
   },
   "outputs": [
    {
     "data": {
      "image/png": "[encoded data removed]",
      "text/plain": [
       "<Figure size 640x480 with 1 Axes>"
      ]
     },
     "metadata": {},
     "output_type": "display_data"
    }
   ],
   "source": [
    "ax = df.copy().sort_values(by='attributes/num_apartments')['attributes/num_apartments'].plot(kind='hist', bins=100, title='Кількість квартир у новобудові')\n",
    "\n",
    "ax.set_xlabel('К-сть квартир у новобудові')\n",
    "ax.set_ylabel('Частота пропозиції')\n",
    "\n",
    "plt.show()"
   ]
  },
  {
   "cell_type": "markdown",
   "id": "e5e462e6",
   "metadata": {},
   "source": [
    "## Залежність між залежними та незалежними змінними (числові значення)"
   ]
  },
  {
   "cell_type": "code",
   "execution_count": null,
   "id": "7f603dc0",
   "metadata": {},
   "outputs": [],
   "source": [
    "sns.pairplot(df, vars=[\n",
    "    'price',\n",
    "    'attributes/num_apartments',\n",
    "    'financials/installmentPlanTerm',\n",
    "    'pricePerUnit',\n",
    "    'area',\n",
    "    'rooms'\n",
    "], hue='attributes/construction_technology')\n",
    "\n",
    "plt.show()"
   ]
  },
  {
   "cell_type": "code",
   "execution_count": null,
   "id": "df48c7fe",
   "metadata": {
    "scrolled": true
   },
   "outputs": [],
   "source": [
    "racorr = df[[\n",
    "    'price',\n",
    "    'attributes/num_apartments',\n",
    "    'financials/installmentPlanTerm',\n",
    "    'pricePerUnit',\n",
    "    'area',\n",
    "    'rooms'\n",
    "]].dropna().corr()\n",
    "\n",
    "sns.heatmap(data=racorr, annot=True)\n",
    "\n",
    "plt.show()"
   ]
  },
  {
   "cell_type": "markdown",
   "id": "ad2b16ad",
   "metadata": {},
   "source": [
    "## Підготовка даних до використання у нейронній мережі для тренування"
   ]
  },
  {
   "cell_type": "markdown",
   "id": "3dd46b9f",
   "metadata": {},
   "source": [
    "### Словник"
   ]
  },
  {
   "cell_type": "markdown",
   "id": "def742d6",
   "metadata": {},
   "source": [
    "Мітка (eng. Label) - кінцеве (eng. target) значення що є еталоном для тренувального набору даних"
   ]
  },
  {
   "cell_type": "markdown",
   "id": "94b13025",
   "metadata": {},
   "source": [
    "### Оцифровка нечислових значень"
   ]
  },
  {
   "cell_type": "markdown",
   "id": "1571fb2c",
   "metadata": {},
   "source": [
    "Для тренування нейронної мережі, значення всіх характеристик повинні мати числові значення для прорахунку похідної функції втрат при кожній з ітерацій тренувального процесу"
   ]
  },
  {
   "cell_type": "code",
   "execution_count": null,
   "id": "be71897d",
   "metadata": {
    "scrolled": true
   },
   "outputs": [],
   "source": [
    "df.values[0]"
   ]
  },
  {
   "cell_type": "markdown",
   "id": "b4d7b717",
   "metadata": {},
   "source": [
    "#### Допоміжні функції"
   ]
  },
  {
   "cell_type": "code",
   "execution_count": null,
   "id": "d04731c0",
   "metadata": {},
   "outputs": [],
   "source": [
    "def df_to_list(df):\n",
    "    return df.values.flatten().tolist()"
   ]
  },
  {
   "cell_type": "code",
   "execution_count": null,
   "id": "8f722334",
   "metadata": {},
   "outputs": [],
   "source": [
    "# index + 1 використовується для того щоб позначити саме відсутні значення нулем\n",
    "def apartment_to_numeric(apartment):\n",
    "    return np.array([\n",
    "        df_to_list(residential_complex_names).index(apartment[0]),\n",
    "        df_to_list(developers).index(apartment[1]),\n",
    "        df_to_list(building_classes).index(apartment[2]),\n",
    "        df_to_list(technologies).index(apartment[3]),\n",
    "        df_to_list(walls).index(apartment[4]),\n",
    "        df_to_list(insulations).index(apartment[5]),\n",
    "        df_to_list(heating_options).index(apartment[6]),\n",
    "        # к-сть квартри в новобудові\n",
    "        apartment[7],\n",
    "        df_to_list(renovation_states).index(apartment[8]),\n",
    "        df_to_list(protected_area_options).index(apartment[9]),\n",
    "        # наявність паркінгу - 1/0\n",
    "        int(bool(apartment[10])),\n",
    "        # наявність розстрочки\n",
    "        int(apartment[11]),\n",
    "        # термін розстрочки в роках\n",
    "        apartment[12],\n",
    "#         # ціна за квадратний метр\n",
    "#         apartment[13],\n",
    "#         # ціна квартири\n",
    "#         apartment[14],\n",
    "        # площа квартири\n",
    "        apartment[15],\n",
    "        # к-сть кімнта\n",
    "        apartment[16],\n",
    "    ])\n",
    "\n",
    "# list(map(apartment_to_numeric, df.values[:3]))"
   ]
  },
  {
   "cell_type": "markdown",
   "id": "fa3e9451",
   "metadata": {},
   "source": [
    "#### Процес оцифровки"
   ]
  },
  {
   "cell_type": "code",
   "execution_count": null,
   "id": "7bb21b0f",
   "metadata": {
    "scrolled": true
   },
   "outputs": [],
   "source": [
    "df_numeric = df.copy()\n",
    "\n",
    "df_numeric['residence'] = df_numeric['residence'].map(lambda r: df_to_list(residential_complex_names).index(r))\n",
    "df_numeric['developer'] = df_numeric['developer'].map(lambda d: df_to_list(developers).index(d))\n",
    "df_numeric['attributes/class'] = df_numeric['attributes/class'].map(lambda c: df_to_list(building_classes).index(c))\n",
    "df_numeric['attributes/construction_technology'] = df_numeric['attributes/construction_technology'].map(lambda c: df_to_list(technologies).index(c))\n",
    "df_numeric['attributes/walls'] = df_numeric['attributes/walls'].map(lambda w: df_to_list(walls).index(w))\n",
    "df_numeric['attributes/insulation'] = df_numeric['attributes/insulation'].map(lambda i: df_to_list(insulations).index(i))\n",
    "df_numeric['attributes/heating'] = df_numeric['attributes/heating'].map(lambda h: df_to_list(heating_options).index(h))\n",
    "df_numeric['attributes/state'] = df_numeric['attributes/state'].map(lambda s: df_to_list(renovation_states).index(s))\n",
    "df_numeric['attributes/protected_area'] = df_numeric['attributes/protected_area'].map(lambda a: df_to_list(protected_area_options).index(a))\n",
    "df_numeric['attributes/parking'] = df_numeric['attributes/protected_area'].map(lambda p: int(bool(p)))\n",
    "df_numeric['financials/installmentPlan'] = df_numeric['financials/installmentPlan'].map(lambda ip: int(ip))\n",
    "\n",
    "df_numeric"
   ]
  },
  {
   "cell_type": "markdown",
   "id": "8645ed85",
   "metadata": {},
   "source": [
    "### Створення набору даних для семплів"
   ]
  },
  {
   "cell_type": "code",
   "execution_count": null,
   "id": "cc782f12",
   "metadata": {
    "scrolled": true
   },
   "outputs": [],
   "source": [
    "df_samples = df_numeric.copy()\n",
    "\n",
    "df_samples = df_samples.drop(['price', 'pricePerUnit'], axis=1)\n",
    "\n",
    "X = df_samples.values\n",
    "\n",
    "X[0]"
   ]
  },
  {
   "cell_type": "code",
   "execution_count": null,
   "id": "f7348b81",
   "metadata": {
    "scrolled": true
   },
   "outputs": [],
   "source": [
    "X.shape"
   ]
  },
  {
   "cell_type": "markdown",
   "id": "85f4c36a",
   "metadata": {},
   "source": [
    "### Створення набору даних для міток"
   ]
  },
  {
   "cell_type": "code",
   "execution_count": null,
   "id": "7678e9e7",
   "metadata": {
    "scrolled": true
   },
   "outputs": [],
   "source": [
    "y = df_numeric['price'].values\n",
    "\n",
    "y[0]"
   ]
  },
  {
   "cell_type": "code",
   "execution_count": null,
   "id": "ac9c6812",
   "metadata": {
    "scrolled": true
   },
   "outputs": [],
   "source": [
    "y.shape"
   ]
  },
  {
   "cell_type": "markdown",
   "id": "a109238d",
   "metadata": {},
   "source": [
    "### Нормалізація і стандартизація даних"
   ]
  },
  {
   "cell_type": "code",
   "execution_count": null,
   "id": "c09e6028",
   "metadata": {},
   "outputs": [],
   "source": [
    "import numpy as np\n",
    "from sklearn.utils import shuffle\n",
    "from sklearn.preprocessing import MinMaxScaler"
   ]
  },
  {
   "cell_type": "code",
   "execution_count": null,
   "id": "f73d54a0",
   "metadata": {},
   "outputs": [],
   "source": [
    "X, y = shuffle(X, y)"
   ]
  },
  {
   "cell_type": "code",
   "execution_count": null,
   "id": "9568bd4b",
   "metadata": {
    "scrolled": true
   },
   "outputs": [],
   "source": [
    "scaler = MinMaxScaler(feature_range=(0, 1))\n",
    "# todo: try reshaping it\n",
    "# X_normalized = scaler.fit_transform(X.reshape(-1, 1))\n",
    "X_normalized = scaler.fit_transform(X)\n",
    "y_normalized = scaler.fit_transform(y.reshape(-1, 1))"
   ]
  },
  {
   "cell_type": "code",
   "execution_count": null,
   "id": "20b64a1a",
   "metadata": {
    "scrolled": false
   },
   "outputs": [],
   "source": [
    "X_normalized"
   ]
  },
  {
   "cell_type": "code",
   "execution_count": null,
   "id": "38b9d1e1",
   "metadata": {
    "scrolled": true
   },
   "outputs": [],
   "source": [
    "y_normalized"
   ]
  },
  {
   "cell_type": "code",
   "execution_count": null,
   "id": "4fcea481",
   "metadata": {},
   "outputs": [],
   "source": [
    "y_normalized.shape"
   ]
  },
  {
   "cell_type": "markdown",
   "id": "51832de5",
   "metadata": {},
   "source": [
    "# Створення моделі"
   ]
  },
  {
   "cell_type": "code",
   "execution_count": null,
   "id": "709dc846",
   "metadata": {},
   "outputs": [],
   "source": [
    "import tensorflow as tf\n",
    "from tensorflow import keras\n",
    "from tensorflow.keras.models import Sequential\n",
    "from tensorflow.keras.layers import Activation, Dense\n",
    "from tensorflow.keras.optimizers import Adam\n",
    "from tensorflow.keras.metrics import mean_squared_error"
   ]
  },
  {
   "cell_type": "code",
   "execution_count": null,
   "id": "7d099131",
   "metadata": {},
   "outputs": [],
   "source": [
    "learning_rate = 0.0001"
   ]
  },
  {
   "cell_type": "markdown",
   "id": "cb12af3e",
   "metadata": {},
   "source": [
    "### Покращення швидкодії за допомогою GPU"
   ]
  },
  {
   "cell_type": "code",
   "execution_count": null,
   "id": "5be13c1c",
   "metadata": {},
   "outputs": [],
   "source": [
    "# physical_devices = tf.config.experimental.list_physical_devices('GPU')\n",
    "# print('Num GPUs available: ', len(physical_devices))\n",
    "# tf.config.experimental.set_memory_growth(physical_devices[0], True)"
   ]
  },
  {
   "cell_type": "code",
   "execution_count": null,
   "id": "2650cc8a",
   "metadata": {},
   "outputs": [],
   "source": [
    "model = Sequential([\n",
    "    Dense(units=16, input_shape=(15, ), activation='relu'),\n",
    "    Dense(units=32, activation='relu'),\n",
    "    Dense(units=1, activation='linear'),\n",
    "])"
   ]
  },
  {
   "cell_type": "code",
   "execution_count": null,
   "id": "462c1b4d",
   "metadata": {
    "scrolled": false
   },
   "outputs": [],
   "source": [
    "model.summary()"
   ]
  },
  {
   "cell_type": "code",
   "execution_count": null,
   "id": "338cde83",
   "metadata": {},
   "outputs": [],
   "source": [
    "model.compile(optimizer=Adam(learning_rate=learning_rate, clipnorm=1), loss='mean_squared_error', metrics=['accuracy'])"
   ]
  },
  {
   "cell_type": "markdown",
   "id": "4a850699",
   "metadata": {},
   "source": [
    "# Тренування моделі"
   ]
  },
  {
   "cell_type": "code",
   "execution_count": null,
   "id": "27c9fbdd",
   "metadata": {
    "scrolled": true
   },
   "outputs": [],
   "source": [
    "model.fit(x=X_normalized, y=y_normalized, batch_size=128, epochs=20, shuffle=True, verbose=2)"
   ]
  }
 ],
 "metadata": {
  "kernelspec": {
   "display_name": "Python 3 (ipykernel)",
   "language": "python",
   "name": "python3"
  },
  "language_info": {
   "codemirror_mode": {
    "name": "ipython",
    "version": 3
   },
   "file_extension": ".py",
   "mimetype": "text/x-python",
   "name": "python",
   "nbconvert_exporter": "python",
   "pygments_lexer": "ipython3",
   "version": "3.9.15"
  }
 },
 "nbformat": 4,
 "nbformat_minor": 5
}
