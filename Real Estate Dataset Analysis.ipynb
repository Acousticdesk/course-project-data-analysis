{
 "cells": [
  {
   "cell_type": "markdown",
   "id": "60ae8b04",
   "metadata": {},
   "source": [
    "# Аналіз набору даних із обʼєктами нерухомості у місті Київ"
   ]
  },
  {
   "cell_type": "markdown",
   "id": "61b70703",
   "metadata": {},
   "source": [
    "Для тренування моделі було обрано набір даних обʼєктів нерухомості з сайту Kaggle по 2022 рік\n",
    "\n",
    "Для аналізу набору даних використовується бібліотека pandas\n",
    "\n",
    "**Словник**\n",
    "\n",
    "Характеристики обʼєкту (англ. Features) - характеристики з яких будуть обрані залежні та незалежні змінні для тренування моделі для знаходження залежності незалежних змінних від залежних.\n",
    "\n",
    "Форма (англ. Shape) - описана через формат (N, M) де N - кількість рядків, M - кількість комірок\n",
    "\n",
    "**Предметна Область**\n",
    "\n",
    "Залежні змінні/ Незалежні змінні"
   ]
  },
  {
   "cell_type": "code",
   "execution_count": 159,
   "id": "45c8ea6a",
   "metadata": {},
   "outputs": [],
   "source": [
    "import pandas as pd\n",
    "# бібліотека використовується для візуалізації характеристик набору даних та візуалізацій залежності між змінними\n",
    "import matplotlib.pylab as plt\n",
    "pd.set_option('display.max_columns', 100)\n",
    "pd.set_option('display.max_rows', 10)"
   ]
  },
  {
   "cell_type": "code",
   "execution_count": 68,
   "id": "7d8cef1d",
   "metadata": {},
   "outputs": [
    {
     "data": {
      "text/plain": [
       "(14066, 20)"
      ]
     },
     "execution_count": 68,
     "metadata": {},
     "output_type": "execute_result"
    }
   ],
   "source": [
    "df = pd.read_csv('./flats.csv')\n",
    "df.shape"
   ]
  },
  {
   "cell_type": "markdown",
   "id": "89cc379f",
   "metadata": {},
   "source": [
    "## Приклад обʼєктів з набору даних"
   ]
  },
  {
   "cell_type": "code",
   "execution_count": 69,
   "id": "7d0daabe",
   "metadata": {
    "scrolled": true
   },
   "outputs": [
    {
     "data": {
      "text/html": [
       "<div>\n",
       "<style scoped>\n",
       "    .dataframe tbody tr th:only-of-type {\n",
       "        vertical-align: middle;\n",
       "    }\n",
       "\n",
       "    .dataframe tbody tr th {\n",
       "        vertical-align: top;\n",
       "    }\n",
       "\n",
       "    .dataframe thead th {\n",
       "        text-align: right;\n",
       "    }\n",
       "</style>\n",
       "<table border=\"1\" class=\"dataframe\">\n",
       "  <thead>\n",
       "    <tr style=\"text-align: right;\">\n",
       "      <th></th>\n",
       "      <th>id</th>\n",
       "      <th>price</th>\n",
       "      <th>price_sm</th>\n",
       "      <th>address</th>\n",
       "      <th>complex</th>\n",
       "      <th>hist_district</th>\n",
       "      <th>admin_district</th>\n",
       "      <th>city</th>\n",
       "      <th>description</th>\n",
       "      <th>rooms</th>\n",
       "      <th>area_total</th>\n",
       "      <th>area_living</th>\n",
       "      <th>area_kitchen</th>\n",
       "      <th>stock</th>\n",
       "      <th>stock_total</th>\n",
       "      <th>year</th>\n",
       "      <th>project</th>\n",
       "      <th>wall</th>\n",
       "      <th>currency</th>\n",
       "      <th>bad_proposal</th>\n",
       "    </tr>\n",
       "  </thead>\n",
       "  <tbody>\n",
       "    <tr>\n",
       "      <th>0</th>\n",
       "      <td>377514444</td>\n",
       "      <td>1865470</td>\n",
       "      <td>23327</td>\n",
       "      <td>вул. Радченка</td>\n",
       "      <td>ЖК вул. Петра Радченка, 27-29</td>\n",
       "      <td>Солом'янка</td>\n",
       "      <td>Солом'янський</td>\n",
       "      <td>Київ</td>\n",
       "      <td>БЕЗ КОМИССИИ!!! Видовая 3К квартира в новостро...</td>\n",
       "      <td>3</td>\n",
       "      <td>79.97</td>\n",
       "      <td>43.09</td>\n",
       "      <td>12.68</td>\n",
       "      <td>5</td>\n",
       "      <td>25.0</td>\n",
       "      <td>NaN</td>\n",
       "      <td>NaN</td>\n",
       "      <td>монолітно-каркасний</td>\n",
       "      <td>UAH</td>\n",
       "      <td>0</td>\n",
       "    </tr>\n",
       "    <tr>\n",
       "      <th>1</th>\n",
       "      <td>381003995</td>\n",
       "      <td>90000</td>\n",
       "      <td>732</td>\n",
       "      <td>вул. Бориспільська, 34</td>\n",
       "      <td>NaN</td>\n",
       "      <td>Нова Дарниця</td>\n",
       "      <td>Дарницький</td>\n",
       "      <td>Київ</td>\n",
       "      <td>Продается 5- комн квартира ул Бориспольськая 3...</td>\n",
       "      <td>5</td>\n",
       "      <td>123.00</td>\n",
       "      <td>71.20</td>\n",
       "      <td>16.60</td>\n",
       "      <td>3</td>\n",
       "      <td>16.0</td>\n",
       "      <td>1989.0</td>\n",
       "      <td>серія КТ</td>\n",
       "      <td>утеплена панель</td>\n",
       "      <td>USD</td>\n",
       "      <td>0</td>\n",
       "    </tr>\n",
       "    <tr>\n",
       "      <th>2</th>\n",
       "      <td>379779512</td>\n",
       "      <td>330000</td>\n",
       "      <td>3000</td>\n",
       "      <td>Лабораторний пров., 7</td>\n",
       "      <td>ЖК Alter Ego</td>\n",
       "      <td>Черепанова гора</td>\n",
       "      <td>Печерський</td>\n",
       "      <td>Київ</td>\n",
       "      <td>БЕЗ КОМИССИИ для покупателя, предложение от со...</td>\n",
       "      <td>3</td>\n",
       "      <td>110.00</td>\n",
       "      <td>60.00</td>\n",
       "      <td>40.00</td>\n",
       "      <td>18</td>\n",
       "      <td>24.0</td>\n",
       "      <td>2018.0</td>\n",
       "      <td>спец. проект</td>\n",
       "      <td>монолітно-каркасний</td>\n",
       "      <td>USD</td>\n",
       "      <td>0</td>\n",
       "    </tr>\n",
       "  </tbody>\n",
       "</table>\n",
       "</div>"
      ],
      "text/plain": [
       "          id    price  price_sm                 address  \\\n",
       "0  377514444  1865470     23327           вул. Радченка   \n",
       "1  381003995    90000       732  вул. Бориспільська, 34   \n",
       "2  379779512   330000      3000   Лабораторний пров., 7   \n",
       "\n",
       "                         complex    hist_district admin_district  city  \\\n",
       "0  ЖК вул. Петра Радченка, 27-29       Солом'янка  Солом'янський  Київ   \n",
       "1                            NaN     Нова Дарниця     Дарницький  Київ   \n",
       "2                   ЖК Alter Ego  Черепанова гора     Печерський  Київ   \n",
       "\n",
       "                                         description  rooms  area_total  \\\n",
       "0  БЕЗ КОМИССИИ!!! Видовая 3К квартира в новостро...      3       79.97   \n",
       "1  Продается 5- комн квартира ул Бориспольськая 3...      5      123.00   \n",
       "2  БЕЗ КОМИССИИ для покупателя, предложение от со...      3      110.00   \n",
       "\n",
       "   area_living  area_kitchen  stock  stock_total    year       project  \\\n",
       "0        43.09         12.68      5         25.0     NaN           NaN   \n",
       "1        71.20         16.60      3         16.0  1989.0      серія КТ   \n",
       "2        60.00         40.00     18         24.0  2018.0  спец. проект   \n",
       "\n",
       "                  wall currency  bad_proposal  \n",
       "0  монолітно-каркасний      UAH             0  \n",
       "1      утеплена панель      USD             0  \n",
       "2  монолітно-каркасний      USD             0  "
      ]
     },
     "execution_count": 69,
     "metadata": {},
     "output_type": "execute_result"
    }
   ],
   "source": [
    "df.head(3)"
   ]
  },
  {
   "cell_type": "markdown",
   "id": "5235465d",
   "metadata": {},
   "source": [
    "## Серія всіх характеристик обʼєкту нерухомості"
   ]
  },
  {
   "cell_type": "code",
   "execution_count": 70,
   "id": "1772ad96",
   "metadata": {},
   "outputs": [
    {
     "data": {
      "text/plain": [
       "Index(['id', 'price', 'price_sm', 'address', 'complex', 'hist_district',\n",
       "       'admin_district', 'city', 'description', 'rooms', 'area_total',\n",
       "       'area_living', 'area_kitchen', 'stock', 'stock_total', 'year',\n",
       "       'project', 'wall', 'currency', 'bad_proposal'],\n",
       "      dtype='object')"
      ]
     },
     "execution_count": 70,
     "metadata": {},
     "output_type": "execute_result"
    }
   ],
   "source": [
    "df.columns"
   ]
  },
  {
   "cell_type": "markdown",
   "id": "6080c9ef",
   "metadata": {},
   "source": [
    "## Типи даних у наборі даних"
   ]
  },
  {
   "cell_type": "code",
   "execution_count": 71,
   "id": "f0553282",
   "metadata": {},
   "outputs": [
    {
     "data": {
      "text/plain": [
       "id                int64\n",
       "price             int64\n",
       "price_sm          int64\n",
       "address          object\n",
       "complex          object\n",
       "                 ...   \n",
       "year            float64\n",
       "project          object\n",
       "wall             object\n",
       "currency         object\n",
       "bad_proposal      int64\n",
       "Length: 20, dtype: object"
      ]
     },
     "execution_count": 71,
     "metadata": {},
     "output_type": "execute_result"
    }
   ],
   "source": [
    "df.dtypes"
   ]
  },
  {
   "cell_type": "markdown",
   "id": "33d87815",
   "metadata": {},
   "source": [
    "## Приведення всіх цін до USD"
   ]
  },
  {
   "cell_type": "markdown",
   "id": "2d543330",
   "metadata": {},
   "source": [
    "Так як в наборі даних ціни вказані у двох різних валютах UAH/USD, перед тренуванням моделі потрібно привести всі ціни до однієї валюти - USD.\n",
    "Валюта обрана саме як USD для більш компактних значень які можуть бути легше інтерпретовані у Гістограмі."
   ]
  },
  {
   "cell_type": "code",
   "execution_count": 132,
   "id": "e293778d",
   "metadata": {},
   "outputs": [],
   "source": [
    "DOLLAR_EXCHANGE_RATE=36.56\n",
    "\n",
    "df.loc[df['currency'] == 'UAH', 'price'] = df['price'] / DOLLAR_EXCHANGE_RATE\n",
    "df['currency'] = 'USD'"
   ]
  },
  {
   "cell_type": "code",
   "execution_count": 133,
   "id": "6a0f9296",
   "metadata": {},
   "outputs": [
    {
     "data": {
      "text/html": [
       "<div>\n",
       "<style scoped>\n",
       "    .dataframe tbody tr th:only-of-type {\n",
       "        vertical-align: middle;\n",
       "    }\n",
       "\n",
       "    .dataframe tbody tr th {\n",
       "        vertical-align: top;\n",
       "    }\n",
       "\n",
       "    .dataframe thead th {\n",
       "        text-align: right;\n",
       "    }\n",
       "</style>\n",
       "<table border=\"1\" class=\"dataframe\">\n",
       "  <thead>\n",
       "    <tr style=\"text-align: right;\">\n",
       "      <th></th>\n",
       "      <th>price</th>\n",
       "      <th>currency</th>\n",
       "    </tr>\n",
       "  </thead>\n",
       "  <tbody>\n",
       "    <tr>\n",
       "      <th>0</th>\n",
       "      <td>51024.890591</td>\n",
       "      <td>USD</td>\n",
       "    </tr>\n",
       "    <tr>\n",
       "      <th>1</th>\n",
       "      <td>90000.000000</td>\n",
       "      <td>USD</td>\n",
       "    </tr>\n",
       "    <tr>\n",
       "      <th>2</th>\n",
       "      <td>330000.000000</td>\n",
       "      <td>USD</td>\n",
       "    </tr>\n",
       "    <tr>\n",
       "      <th>3</th>\n",
       "      <td>82000.000000</td>\n",
       "      <td>USD</td>\n",
       "    </tr>\n",
       "    <tr>\n",
       "      <th>4</th>\n",
       "      <td>42000.000000</td>\n",
       "      <td>USD</td>\n",
       "    </tr>\n",
       "    <tr>\n",
       "      <th>...</th>\n",
       "      <td>...</td>\n",
       "      <td>...</td>\n",
       "    </tr>\n",
       "    <tr>\n",
       "      <th>13907</th>\n",
       "      <td>80000.000000</td>\n",
       "      <td>USD</td>\n",
       "    </tr>\n",
       "    <tr>\n",
       "      <th>13908</th>\n",
       "      <td>58000.000000</td>\n",
       "      <td>USD</td>\n",
       "    </tr>\n",
       "    <tr>\n",
       "      <th>13909</th>\n",
       "      <td>60000.000000</td>\n",
       "      <td>USD</td>\n",
       "    </tr>\n",
       "    <tr>\n",
       "      <th>13910</th>\n",
       "      <td>240000.000000</td>\n",
       "      <td>USD</td>\n",
       "    </tr>\n",
       "    <tr>\n",
       "      <th>13911</th>\n",
       "      <td>168000.000000</td>\n",
       "      <td>USD</td>\n",
       "    </tr>\n",
       "  </tbody>\n",
       "</table>\n",
       "<p>13912 rows × 2 columns</p>\n",
       "</div>"
      ],
      "text/plain": [
       "               price currency\n",
       "0       51024.890591      USD\n",
       "1       90000.000000      USD\n",
       "2      330000.000000      USD\n",
       "3       82000.000000      USD\n",
       "4       42000.000000      USD\n",
       "...              ...      ...\n",
       "13907   80000.000000      USD\n",
       "13908   58000.000000      USD\n",
       "13909   60000.000000      USD\n",
       "13910  240000.000000      USD\n",
       "13911  168000.000000      USD\n",
       "\n",
       "[13912 rows x 2 columns]"
      ]
     },
     "execution_count": 133,
     "metadata": {},
     "output_type": "execute_result"
    }
   ],
   "source": [
    "# ціни та валюта після змін\n",
    "df[['price', 'currency']]"
   ]
  },
  {
   "cell_type": "markdown",
   "id": "5de0503b",
   "metadata": {},
   "source": [
    "## Фільтрація обʼєктів із недійсними значеннями що є важливими для тренування"
   ]
  },
  {
   "cell_type": "markdown",
   "id": "914affb9",
   "metadata": {},
   "source": [
    "### Пусті значення"
   ]
  },
  {
   "cell_type": "code",
   "execution_count": 74,
   "id": "9b040deb",
   "metadata": {
    "scrolled": true
   },
   "outputs": [
    {
     "data": {
      "text/plain": [
       "id                 0\n",
       "price              0\n",
       "price_sm           0\n",
       "address            0\n",
       "complex         6112\n",
       "                ... \n",
       "year            1251\n",
       "project         1000\n",
       "wall             439\n",
       "currency           0\n",
       "bad_proposal       0\n",
       "Length: 20, dtype: int64"
      ]
     },
     "execution_count": 74,
     "metadata": {},
     "output_type": "execute_result"
    }
   ],
   "source": [
    "df.isna().sum()"
   ]
  },
  {
   "cell_type": "markdown",
   "id": "0ff8ba81",
   "metadata": {},
   "source": [
    "### Дублікати"
   ]
  },
  {
   "cell_type": "code",
   "execution_count": 75,
   "id": "85d6dd14",
   "metadata": {
    "scrolled": false
   },
   "outputs": [
    {
     "data": {
      "text/html": [
       "<div>\n",
       "<style scoped>\n",
       "    .dataframe tbody tr th:only-of-type {\n",
       "        vertical-align: middle;\n",
       "    }\n",
       "\n",
       "    .dataframe tbody tr th {\n",
       "        vertical-align: top;\n",
       "    }\n",
       "\n",
       "    .dataframe thead th {\n",
       "        text-align: right;\n",
       "    }\n",
       "</style>\n",
       "<table border=\"1\" class=\"dataframe\">\n",
       "  <thead>\n",
       "    <tr style=\"text-align: right;\">\n",
       "      <th></th>\n",
       "      <th>id</th>\n",
       "      <th>price</th>\n",
       "      <th>price_sm</th>\n",
       "      <th>address</th>\n",
       "      <th>complex</th>\n",
       "      <th>hist_district</th>\n",
       "      <th>admin_district</th>\n",
       "      <th>city</th>\n",
       "      <th>description</th>\n",
       "      <th>rooms</th>\n",
       "      <th>area_total</th>\n",
       "      <th>area_living</th>\n",
       "      <th>area_kitchen</th>\n",
       "      <th>stock</th>\n",
       "      <th>stock_total</th>\n",
       "      <th>year</th>\n",
       "      <th>project</th>\n",
       "      <th>wall</th>\n",
       "      <th>currency</th>\n",
       "      <th>bad_proposal</th>\n",
       "    </tr>\n",
       "  </thead>\n",
       "  <tbody>\n",
       "    <tr>\n",
       "      <th>1595</th>\n",
       "      <td>380998676</td>\n",
       "      <td>5922720.0</td>\n",
       "      <td>1841</td>\n",
       "      <td>вул. Липківського (Урицька)</td>\n",
       "      <td>NaN</td>\n",
       "      <td>Солом'янка</td>\n",
       "      <td>Солом'янський</td>\n",
       "      <td>Київ</td>\n",
       "      <td>Продажа большой 2-х комнатной квартиры на Соло...</td>\n",
       "      <td>2</td>\n",
       "      <td>88.00</td>\n",
       "      <td>48.0</td>\n",
       "      <td>16.0</td>\n",
       "      <td>11</td>\n",
       "      <td>25.0</td>\n",
       "      <td>NaN</td>\n",
       "      <td>NaN</td>\n",
       "      <td>NaN</td>\n",
       "      <td>UAH</td>\n",
       "      <td>0</td>\n",
       "    </tr>\n",
       "    <tr>\n",
       "      <th>1743</th>\n",
       "      <td>381025936</td>\n",
       "      <td>2285000.0</td>\n",
       "      <td>1894</td>\n",
       "      <td>вул. Пчілки</td>\n",
       "      <td>ЖК Традиція</td>\n",
       "      <td>Позняки</td>\n",
       "      <td>Дарницький</td>\n",
       "      <td>Київ</td>\n",
       "      <td>Продается видовая квартира студия в новом доме...</td>\n",
       "      <td>1</td>\n",
       "      <td>33.00</td>\n",
       "      <td>18.0</td>\n",
       "      <td>18.0</td>\n",
       "      <td>24</td>\n",
       "      <td>25.0</td>\n",
       "      <td>NaN</td>\n",
       "      <td>NaN</td>\n",
       "      <td>NaN</td>\n",
       "      <td>UAH</td>\n",
       "      <td>0</td>\n",
       "    </tr>\n",
       "    <tr>\n",
       "      <th>1896</th>\n",
       "      <td>374064990</td>\n",
       "      <td>4570000.0</td>\n",
       "      <td>1190</td>\n",
       "      <td>вул. Сім’ї Прахових (Гайдара), 27</td>\n",
       "      <td>NaN</td>\n",
       "      <td>Нова забудова</td>\n",
       "      <td>Голосіївський</td>\n",
       "      <td>Київ</td>\n",
       "      <td>Срочная продажа по хорошей цене! Не упустите с...</td>\n",
       "      <td>3</td>\n",
       "      <td>105.00</td>\n",
       "      <td>80.0</td>\n",
       "      <td>15.0</td>\n",
       "      <td>9</td>\n",
       "      <td>17.0</td>\n",
       "      <td>2002.0</td>\n",
       "      <td>спец. проект</td>\n",
       "      <td>монолітно-каркасний</td>\n",
       "      <td>UAH</td>\n",
       "      <td>0</td>\n",
       "    </tr>\n",
       "    <tr>\n",
       "      <th>1931</th>\n",
       "      <td>380737829</td>\n",
       "      <td>3034480.0</td>\n",
       "      <td>933</td>\n",
       "      <td>вул. Миколи Ушакова, 34а</td>\n",
       "      <td>NaN</td>\n",
       "      <td>Біличі</td>\n",
       "      <td>Святошинський</td>\n",
       "      <td>Київ</td>\n",
       "      <td>3-к квартира. Беличи (Святошинский р-н). До ме...</td>\n",
       "      <td>3</td>\n",
       "      <td>89.00</td>\n",
       "      <td>46.0</td>\n",
       "      <td>12.0</td>\n",
       "      <td>3</td>\n",
       "      <td>14.0</td>\n",
       "      <td>2005.0</td>\n",
       "      <td>спец. проект</td>\n",
       "      <td>монолітно-каркасний</td>\n",
       "      <td>UAH</td>\n",
       "      <td>1</td>\n",
       "    </tr>\n",
       "    <tr>\n",
       "      <th>2497</th>\n",
       "      <td>380992075</td>\n",
       "      <td>3217280.0</td>\n",
       "      <td>1257</td>\n",
       "      <td>просп. Науки, 55а</td>\n",
       "      <td>ЖК просп. Науки, 55а</td>\n",
       "      <td>Багринова гора</td>\n",
       "      <td>Голосіївський</td>\n",
       "      <td>Київ</td>\n",
       "      <td>Сдаётся двухкомнатная квартира. Голосеевский р...</td>\n",
       "      <td>2</td>\n",
       "      <td>70.00</td>\n",
       "      <td>35.0</td>\n",
       "      <td>15.0</td>\n",
       "      <td>18</td>\n",
       "      <td>NaN</td>\n",
       "      <td>2014.0</td>\n",
       "      <td>АППС</td>\n",
       "      <td>утеплена панель</td>\n",
       "      <td>UAH</td>\n",
       "      <td>0</td>\n",
       "    </tr>\n",
       "    <tr>\n",
       "      <th>...</th>\n",
       "      <td>...</td>\n",
       "      <td>...</td>\n",
       "      <td>...</td>\n",
       "      <td>...</td>\n",
       "      <td>...</td>\n",
       "      <td>...</td>\n",
       "      <td>...</td>\n",
       "      <td>...</td>\n",
       "      <td>...</td>\n",
       "      <td>...</td>\n",
       "      <td>...</td>\n",
       "      <td>...</td>\n",
       "      <td>...</td>\n",
       "      <td>...</td>\n",
       "      <td>...</td>\n",
       "      <td>...</td>\n",
       "      <td>...</td>\n",
       "      <td>...</td>\n",
       "      <td>...</td>\n",
       "      <td>...</td>\n",
       "    </tr>\n",
       "    <tr>\n",
       "      <th>13793</th>\n",
       "      <td>376439582</td>\n",
       "      <td>9322800.0</td>\n",
       "      <td>3686</td>\n",
       "      <td>вул. Ділова (Георгія Димитрова), 2а</td>\n",
       "      <td>ЖК Tetris Hall</td>\n",
       "      <td>Нова забудова</td>\n",
       "      <td>Печерський</td>\n",
       "      <td>Київ</td>\n",
       "      <td>Продаж 2 до квартири в ЖК Преміум сегмента \"TE...</td>\n",
       "      <td>2</td>\n",
       "      <td>69.18</td>\n",
       "      <td>NaN</td>\n",
       "      <td>NaN</td>\n",
       "      <td>17</td>\n",
       "      <td>24.0</td>\n",
       "      <td>2019.0</td>\n",
       "      <td>спец. проект</td>\n",
       "      <td>монолітно-каркасний</td>\n",
       "      <td>UAH</td>\n",
       "      <td>0</td>\n",
       "    </tr>\n",
       "    <tr>\n",
       "      <th>13815</th>\n",
       "      <td>380841210</td>\n",
       "      <td>17548800.0</td>\n",
       "      <td>6000</td>\n",
       "      <td>вул. Саперне Поле, 5</td>\n",
       "      <td>ЖК Бульвар Фонтанів</td>\n",
       "      <td>Нижній Печерськ</td>\n",
       "      <td>Печерський</td>\n",
       "      <td>Київ</td>\n",
       "      <td>Сучасна квартира в ЖК \"Бульвар Фонтанів\". Повн...</td>\n",
       "      <td>2</td>\n",
       "      <td>80.00</td>\n",
       "      <td>43.0</td>\n",
       "      <td>16.0</td>\n",
       "      <td>9</td>\n",
       "      <td>9.0</td>\n",
       "      <td>2019.0</td>\n",
       "      <td>спец. проект</td>\n",
       "      <td>монолітно-каркасний</td>\n",
       "      <td>UAH</td>\n",
       "      <td>0</td>\n",
       "    </tr>\n",
       "    <tr>\n",
       "      <th>13867</th>\n",
       "      <td>378035716</td>\n",
       "      <td>16452000.0</td>\n",
       "      <td>4500</td>\n",
       "      <td>вул. Антоновича (Горького), 44</td>\n",
       "      <td>ЖК Chicago Central House</td>\n",
       "      <td>Нова забудова</td>\n",
       "      <td>Голосіївський</td>\n",
       "      <td>Київ</td>\n",
       "      <td>ЖК \"Chicago\". Квартира находится в \"стеклянной...</td>\n",
       "      <td>2</td>\n",
       "      <td>100.00</td>\n",
       "      <td>NaN</td>\n",
       "      <td>16.0</td>\n",
       "      <td>22</td>\n",
       "      <td>23.0</td>\n",
       "      <td>2019.0</td>\n",
       "      <td>спец. проект</td>\n",
       "      <td>монолітно-каркасний</td>\n",
       "      <td>UAH</td>\n",
       "      <td>0</td>\n",
       "    </tr>\n",
       "    <tr>\n",
       "      <th>13895</th>\n",
       "      <td>377099570</td>\n",
       "      <td>4240960.0</td>\n",
       "      <td>1731</td>\n",
       "      <td>вул. Набережно-Рибальська, 3</td>\n",
       "      <td>ЖК Rybalsky</td>\n",
       "      <td>Рибальський острів</td>\n",
       "      <td>Подільський</td>\n",
       "      <td>Київ</td>\n",
       "      <td>Монолітно каркасного будинок, наповнення все ч...</td>\n",
       "      <td>2</td>\n",
       "      <td>67.00</td>\n",
       "      <td>28.0</td>\n",
       "      <td>18.0</td>\n",
       "      <td>3</td>\n",
       "      <td>10.0</td>\n",
       "      <td>2019.0</td>\n",
       "      <td>спец. проект</td>\n",
       "      <td>монолітно-каркасний</td>\n",
       "      <td>UAH</td>\n",
       "      <td>0</td>\n",
       "    </tr>\n",
       "    <tr>\n",
       "      <th>14026</th>\n",
       "      <td>380958184</td>\n",
       "      <td>4990440.0</td>\n",
       "      <td>2202</td>\n",
       "      <td>Новопечерський пров., 5</td>\n",
       "      <td>ЖК Новопечерський Квартал №5</td>\n",
       "      <td>Нижній Печерськ</td>\n",
       "      <td>Печерський</td>\n",
       "      <td>Київ</td>\n",
       "      <td>ЖК бізнес класу «Новопечерський квартал N5». З...</td>\n",
       "      <td>2</td>\n",
       "      <td>62.00</td>\n",
       "      <td>NaN</td>\n",
       "      <td>NaN</td>\n",
       "      <td>4</td>\n",
       "      <td>18.0</td>\n",
       "      <td>2019.0</td>\n",
       "      <td>спец. проект</td>\n",
       "      <td>монолітно-каркасний</td>\n",
       "      <td>UAH</td>\n",
       "      <td>0</td>\n",
       "    </tr>\n",
       "  </tbody>\n",
       "</table>\n",
       "<p>154 rows × 20 columns</p>\n",
       "</div>"
      ],
      "text/plain": [
       "              id       price  price_sm                              address  \\\n",
       "1595   380998676   5922720.0      1841          вул. Липківського (Урицька)   \n",
       "1743   381025936   2285000.0      1894                          вул. Пчілки   \n",
       "1896   374064990   4570000.0      1190    вул. Сім’ї Прахових (Гайдара), 27   \n",
       "1931   380737829   3034480.0       933             вул. Миколи Ушакова, 34а   \n",
       "2497   380992075   3217280.0      1257                    просп. Науки, 55а   \n",
       "...          ...         ...       ...                                  ...   \n",
       "13793  376439582   9322800.0      3686  вул. Ділова (Георгія Димитрова), 2а   \n",
       "13815  380841210  17548800.0      6000                 вул. Саперне Поле, 5   \n",
       "13867  378035716  16452000.0      4500       вул. Антоновича (Горького), 44   \n",
       "13895  377099570   4240960.0      1731         вул. Набережно-Рибальська, 3   \n",
       "14026  380958184   4990440.0      2202              Новопечерський пров., 5   \n",
       "\n",
       "                            complex       hist_district admin_district  city  \\\n",
       "1595                            NaN          Солом'янка  Солом'янський  Київ   \n",
       "1743                    ЖК Традиція             Позняки     Дарницький  Київ   \n",
       "1896                            NaN       Нова забудова  Голосіївський  Київ   \n",
       "1931                            NaN              Біличі  Святошинський  Київ   \n",
       "2497           ЖК просп. Науки, 55а      Багринова гора  Голосіївський  Київ   \n",
       "...                             ...                 ...            ...   ...   \n",
       "13793                ЖК Tetris Hall       Нова забудова     Печерський  Київ   \n",
       "13815           ЖК Бульвар Фонтанів     Нижній Печерськ     Печерський  Київ   \n",
       "13867      ЖК Chicago Central House       Нова забудова  Голосіївський  Київ   \n",
       "13895                   ЖК Rybalsky  Рибальський острів    Подільський  Київ   \n",
       "14026  ЖК Новопечерський Квартал №5     Нижній Печерськ     Печерський  Київ   \n",
       "\n",
       "                                             description  rooms  area_total  \\\n",
       "1595   Продажа большой 2-х комнатной квартиры на Соло...      2       88.00   \n",
       "1743   Продается видовая квартира студия в новом доме...      1       33.00   \n",
       "1896   Срочная продажа по хорошей цене! Не упустите с...      3      105.00   \n",
       "1931   3-к квартира. Беличи (Святошинский р-н). До ме...      3       89.00   \n",
       "2497   Сдаётся двухкомнатная квартира. Голосеевский р...      2       70.00   \n",
       "...                                                  ...    ...         ...   \n",
       "13793  Продаж 2 до квартири в ЖК Преміум сегмента \"TE...      2       69.18   \n",
       "13815  Сучасна квартира в ЖК \"Бульвар Фонтанів\". Повн...      2       80.00   \n",
       "13867  ЖК \"Chicago\". Квартира находится в \"стеклянной...      2      100.00   \n",
       "13895  Монолітно каркасного будинок, наповнення все ч...      2       67.00   \n",
       "14026  ЖК бізнес класу «Новопечерський квартал N5». З...      2       62.00   \n",
       "\n",
       "       area_living  area_kitchen  stock  stock_total    year       project  \\\n",
       "1595          48.0          16.0     11         25.0     NaN           NaN   \n",
       "1743          18.0          18.0     24         25.0     NaN           NaN   \n",
       "1896          80.0          15.0      9         17.0  2002.0  спец. проект   \n",
       "1931          46.0          12.0      3         14.0  2005.0  спец. проект   \n",
       "2497          35.0          15.0     18          NaN  2014.0          АППС   \n",
       "...            ...           ...    ...          ...     ...           ...   \n",
       "13793          NaN           NaN     17         24.0  2019.0  спец. проект   \n",
       "13815         43.0          16.0      9          9.0  2019.0  спец. проект   \n",
       "13867          NaN          16.0     22         23.0  2019.0  спец. проект   \n",
       "13895         28.0          18.0      3         10.0  2019.0  спец. проект   \n",
       "14026          NaN           NaN      4         18.0  2019.0  спец. проект   \n",
       "\n",
       "                      wall currency  bad_proposal  \n",
       "1595                   NaN      UAH             0  \n",
       "1743                   NaN      UAH             0  \n",
       "1896   монолітно-каркасний      UAH             0  \n",
       "1931   монолітно-каркасний      UAH             1  \n",
       "2497       утеплена панель      UAH             0  \n",
       "...                    ...      ...           ...  \n",
       "13793  монолітно-каркасний      UAH             0  \n",
       "13815  монолітно-каркасний      UAH             0  \n",
       "13867  монолітно-каркасний      UAH             0  \n",
       "13895  монолітно-каркасний      UAH             0  \n",
       "14026  монолітно-каркасний      UAH             0  \n",
       "\n",
       "[154 rows x 20 columns]"
      ]
     },
     "execution_count": 75,
     "metadata": {},
     "output_type": "execute_result"
    }
   ],
   "source": [
    "# cписок дублікатів\n",
    "df.loc[df.duplicated()]"
   ]
  },
  {
   "cell_type": "code",
   "execution_count": 76,
   "id": "e08522ce",
   "metadata": {},
   "outputs": [
    {
     "data": {
      "text/plain": [
       "(13912, 20)"
      ]
     },
     "execution_count": 76,
     "metadata": {},
     "output_type": "execute_result"
    }
   ],
   "source": [
    "# очистка набору даних від дублікатів\n",
    "df = df.loc[~df.duplicated()].reset_index(drop=True).copy()\n",
    "# форма набору даних після очистки\n",
    "df.shape"
   ]
  },
  {
   "cell_type": "markdown",
   "id": "ecfda002",
   "metadata": {},
   "source": [
    "## Опис набору даних"
   ]
  },
  {
   "cell_type": "code",
   "execution_count": 77,
   "id": "bf8a0838",
   "metadata": {
    "scrolled": true
   },
   "outputs": [
    {
     "data": {
      "text/html": [
       "<div>\n",
       "<style scoped>\n",
       "    .dataframe tbody tr th:only-of-type {\n",
       "        vertical-align: middle;\n",
       "    }\n",
       "\n",
       "    .dataframe tbody tr th {\n",
       "        vertical-align: top;\n",
       "    }\n",
       "\n",
       "    .dataframe thead th {\n",
       "        text-align: right;\n",
       "    }\n",
       "</style>\n",
       "<table border=\"1\" class=\"dataframe\">\n",
       "  <thead>\n",
       "    <tr style=\"text-align: right;\">\n",
       "      <th></th>\n",
       "      <th>id</th>\n",
       "      <th>price</th>\n",
       "      <th>price_sm</th>\n",
       "      <th>rooms</th>\n",
       "      <th>area_total</th>\n",
       "      <th>area_living</th>\n",
       "      <th>area_kitchen</th>\n",
       "      <th>stock</th>\n",
       "      <th>stock_total</th>\n",
       "      <th>year</th>\n",
       "      <th>bad_proposal</th>\n",
       "    </tr>\n",
       "  </thead>\n",
       "  <tbody>\n",
       "    <tr>\n",
       "      <th>count</th>\n",
       "      <td>1.391200e+04</td>\n",
       "      <td>1.391200e+04</td>\n",
       "      <td>13912.000000</td>\n",
       "      <td>13912.000000</td>\n",
       "      <td>13912.000000</td>\n",
       "      <td>11320.000000</td>\n",
       "      <td>12034.000000</td>\n",
       "      <td>13912.000000</td>\n",
       "      <td>13716.000000</td>\n",
       "      <td>12668.000000</td>\n",
       "      <td>13912.000000</td>\n",
       "    </tr>\n",
       "    <tr>\n",
       "      <th>mean</th>\n",
       "      <td>3.782693e+08</td>\n",
       "      <td>6.930140e+06</td>\n",
       "      <td>2804.474267</td>\n",
       "      <td>2.365871</td>\n",
       "      <td>85.535277</td>\n",
       "      <td>44.151413</td>\n",
       "      <td>15.610052</td>\n",
       "      <td>9.432576</td>\n",
       "      <td>17.000802</td>\n",
       "      <td>1998.803757</td>\n",
       "      <td>0.107677</td>\n",
       "    </tr>\n",
       "    <tr>\n",
       "      <th>std</th>\n",
       "      <td>6.073568e+06</td>\n",
       "      <td>1.253308e+07</td>\n",
       "      <td>7981.982598</td>\n",
       "      <td>1.135862</td>\n",
       "      <td>58.595479</td>\n",
       "      <td>32.504682</td>\n",
       "      <td>10.161172</td>\n",
       "      <td>6.846346</td>\n",
       "      <td>8.003995</td>\n",
       "      <td>25.709944</td>\n",
       "      <td>0.309983</td>\n",
       "    </tr>\n",
       "    <tr>\n",
       "      <th>min</th>\n",
       "      <td>3.475628e+07</td>\n",
       "      <td>5.405000e+05</td>\n",
       "      <td>125.000000</td>\n",
       "      <td>1.000000</td>\n",
       "      <td>13.000000</td>\n",
       "      <td>0.010000</td>\n",
       "      <td>1.000000</td>\n",
       "      <td>1.000000</td>\n",
       "      <td>1.000000</td>\n",
       "      <td>1857.000000</td>\n",
       "      <td>0.000000</td>\n",
       "    </tr>\n",
       "    <tr>\n",
       "      <th>25%</th>\n",
       "      <td>3.776326e+08</td>\n",
       "      <td>2.376400e+06</td>\n",
       "      <td>1131.000000</td>\n",
       "      <td>1.000000</td>\n",
       "      <td>51.000000</td>\n",
       "      <td>23.130000</td>\n",
       "      <td>9.000000</td>\n",
       "      <td>4.000000</td>\n",
       "      <td>9.000000</td>\n",
       "      <td>1987.000000</td>\n",
       "      <td>0.000000</td>\n",
       "    </tr>\n",
       "    <tr>\n",
       "      <th>50%</th>\n",
       "      <td>3.799587e+08</td>\n",
       "      <td>3.656000e+06</td>\n",
       "      <td>1519.000000</td>\n",
       "      <td>2.000000</td>\n",
       "      <td>71.000000</td>\n",
       "      <td>37.500000</td>\n",
       "      <td>13.000000</td>\n",
       "      <td>8.000000</td>\n",
       "      <td>16.000000</td>\n",
       "      <td>2010.000000</td>\n",
       "      <td>0.000000</td>\n",
       "    </tr>\n",
       "    <tr>\n",
       "      <th>75%</th>\n",
       "      <td>3.807865e+08</td>\n",
       "      <td>6.763600e+06</td>\n",
       "      <td>2262.250000</td>\n",
       "      <td>3.000000</td>\n",
       "      <td>98.000000</td>\n",
       "      <td>53.000000</td>\n",
       "      <td>19.000000</td>\n",
       "      <td>14.000000</td>\n",
       "      <td>25.000000</td>\n",
       "      <td>2017.000000</td>\n",
       "      <td>0.000000</td>\n",
       "    </tr>\n",
       "    <tr>\n",
       "      <th>max</th>\n",
       "      <td>3.811202e+08</td>\n",
       "      <td>4.021600e+08</td>\n",
       "      <td>341633.000000</td>\n",
       "      <td>18.000000</td>\n",
       "      <td>1000.000000</td>\n",
       "      <td>450.000000</td>\n",
       "      <td>215.000000</td>\n",
       "      <td>117.000000</td>\n",
       "      <td>55.000000</td>\n",
       "      <td>2022.000000</td>\n",
       "      <td>1.000000</td>\n",
       "    </tr>\n",
       "  </tbody>\n",
       "</table>\n",
       "</div>"
      ],
      "text/plain": [
       "                 id         price       price_sm         rooms    area_total  \\\n",
       "count  1.391200e+04  1.391200e+04   13912.000000  13912.000000  13912.000000   \n",
       "mean   3.782693e+08  6.930140e+06    2804.474267      2.365871     85.535277   \n",
       "std    6.073568e+06  1.253308e+07    7981.982598      1.135862     58.595479   \n",
       "min    3.475628e+07  5.405000e+05     125.000000      1.000000     13.000000   \n",
       "25%    3.776326e+08  2.376400e+06    1131.000000      1.000000     51.000000   \n",
       "50%    3.799587e+08  3.656000e+06    1519.000000      2.000000     71.000000   \n",
       "75%    3.807865e+08  6.763600e+06    2262.250000      3.000000     98.000000   \n",
       "max    3.811202e+08  4.021600e+08  341633.000000     18.000000   1000.000000   \n",
       "\n",
       "        area_living  area_kitchen         stock   stock_total          year  \\\n",
       "count  11320.000000  12034.000000  13912.000000  13716.000000  12668.000000   \n",
       "mean      44.151413     15.610052      9.432576     17.000802   1998.803757   \n",
       "std       32.504682     10.161172      6.846346      8.003995     25.709944   \n",
       "min        0.010000      1.000000      1.000000      1.000000   1857.000000   \n",
       "25%       23.130000      9.000000      4.000000      9.000000   1987.000000   \n",
       "50%       37.500000     13.000000      8.000000     16.000000   2010.000000   \n",
       "75%       53.000000     19.000000     14.000000     25.000000   2017.000000   \n",
       "max      450.000000    215.000000    117.000000     55.000000   2022.000000   \n",
       "\n",
       "       bad_proposal  \n",
       "count  13912.000000  \n",
       "mean       0.107677  \n",
       "std        0.309983  \n",
       "min        0.000000  \n",
       "25%        0.000000  \n",
       "50%        0.000000  \n",
       "75%        0.000000  \n",
       "max        1.000000  "
      ]
     },
     "execution_count": 77,
     "metadata": {},
     "output_type": "execute_result"
    }
   ],
   "source": [
    "df.describe()"
   ]
  },
  {
   "cell_type": "markdown",
   "id": "46c5199d",
   "metadata": {},
   "source": [
    "# Візуалізація головних характеристик набору даних"
   ]
  },
  {
   "cell_type": "code",
   "execution_count": 89,
   "id": "b57d8d78",
   "metadata": {
    "scrolled": true
   },
   "outputs": [
    {
     "data": {
      "text/plain": [
       "Text(0, 0.5, 'к-сть обʼєктів нерухомості')"
      ]
     },
     "execution_count": 89,
     "metadata": {},
     "output_type": "execute_result"
    },
    {
     "data": {
      "image/png": "[encoded data removed]",
      "text/plain": [
       "<Figure size 640x480 with 1 Axes>"
      ]
     },
     "metadata": {},
     "output_type": "display_data"
    }
   ],
   "source": [
    "ax = df['rooms'].value_counts().plot(kind='bar', title='Найпоширеніші к-сті кімнат')\n",
    "ax.set_xlabel('к-сть кімнат')\n",
    "ax.set_ylabel('к-сть обʼєктів нерухомості')"
   ]
  },
  {
   "cell_type": "code",
   "execution_count": 92,
   "id": "ad7223da",
   "metadata": {},
   "outputs": [
    {
     "data": {
      "text/plain": [
       "Text(0, 0.5, 'к-сть обʼєктів нерухомості')"
      ]
     },
     "execution_count": 92,
     "metadata": {},
     "output_type": "execute_result"
    },
    {
     "data": {
      "image/png": "[encoded data removed]",
      "text/plain": [
       "<Figure size 640x480 with 1 Axes>"
      ]
     },
     "metadata": {},
     "output_type": "display_data"
    }
   ],
   "source": [
    "# рік розміщення оголошення\n",
    "ax = df['year'].value_counts().head(10).plot(kind='bar', title='Найпоширеніші роки подачі об\\'яви')\n",
    "ax.set_xlabel('рік подачі об\\'яви')\n",
    "ax.set_ylabel('к-сть обʼєктів нерухомості')"
   ]
  },
  {
   "cell_type": "code",
   "execution_count": 152,
   "id": "5b8178a2",
   "metadata": {},
   "outputs": [
    {
     "data": {
      "text/plain": [
       "Text(0, 0.5, 'Частота')"
      ]
     },
     "execution_count": 152,
     "metadata": {},
     "output_type": "execute_result"
    },
    {
     "data": {
      "image/png": "[encoded data removed]",
      "text/plain": [
       "<Figure size 640x480 with 1 Axes>"
      ]
     },
     "metadata": {},
     "output_type": "display_data"
    }
   ],
   "source": [
    "ax = df.copy().sort_values(by='price')['price'].head(12000).plot(kind='hist', bins=50, title='Гістограма для ціни обʼєктів нерухомості')\n",
    "ax.set_xlabel('Ціна (USD)')\n",
    "ax.set_ylabel('Частота')"
   ]
  },
  {
   "cell_type": "code",
   "execution_count": 163,
   "id": "ec7cb39c",
   "metadata": {},
   "outputs": [
    {
     "data": {
      "text/plain": [
       "Text(0, 0.5, 'Частота')"
      ]
     },
     "execution_count": 163,
     "metadata": {},
     "output_type": "execute_result"
    },
    {
     "data": {
      "image/png": "[encoded data removed]",
      "text/plain": [
       "<Figure size 640x480 with 1 Axes>"
      ]
     },
     "metadata": {},
     "output_type": "display_data"
    }
   ],
   "source": [
    "ax = df.copy().sort_values(by='price')['price'].head(10000).plot(kind='kde', title='KDE для ціни обʼєктів нерухомості')\n",
    "ax.set_xlabel('Ціна (USD)')\n",
    "ax.set_ylabel('Частота')"
   ]
  },
  {
   "cell_type": "code",
   "execution_count": 155,
   "id": "5a703198",
   "metadata": {},
   "outputs": [
    {
     "data": {
      "text/plain": [
       "Text(0, 0.5, 'Частота')"
      ]
     },
     "execution_count": 155,
     "metadata": {},
     "output_type": "execute_result"
    },
    {
     "data": {
      "image/png": "[encoded data removed]",
      "text/plain": [
       "<Figure size 640x480 with 1 Axes>"
      ]
     },
     "metadata": {},
     "output_type": "display_data"
    }
   ],
   "source": [
    "ax = df['area_living'].plot(kind='hist', bins=20, title='Гістограма для жилої площі обʼєктів нерухомості')\n",
    "ax.set_xlabel('Плоша (м^2)')\n",
    "ax.set_ylabel('Частота')"
   ]
  },
  {
   "cell_type": "code",
   "execution_count": null,
   "id": "1796d7ba",
   "metadata": {},
   "outputs": [],
   "source": [
    "ax = df['area_living'].plot(kind='hist', title='Гістограма для жилої площі обʼєктів нерухомості')\n",
    "ax.set_xlabel('Плоша (м^2)')\n",
    "ax.set_ylabel('Частота')"
   ]
  }
 ],
 "metadata": {
  "kernelspec": {
   "display_name": "Python 3 (ipykernel)",
   "language": "python",
   "name": "python3"
  },
  "language_info": {
   "codemirror_mode": {
    "name": "ipython",
    "version": 3
   },
   "file_extension": ".py",
   "mimetype": "text/x-python",
   "name": "python",
   "nbconvert_exporter": "python",
   "pygments_lexer": "ipython3",
   "version": "3.9.15"
  }
 },
 "nbformat": 4,
 "nbformat_minor": 5
}
