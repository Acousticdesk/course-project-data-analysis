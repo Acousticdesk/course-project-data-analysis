{
 "cells": [
  {
   "cell_type": "markdown",
   "id": "60ae8b04",
   "metadata": {},
   "source": [
    "# Аналіз набору даних із обʼєктами нерухомості у місті Київ"
   ]
  },
  {
   "cell_type": "markdown",
   "id": "61b70703",
   "metadata": {},
   "source": [
    "Для тренування моделі було обрано набір даних обʼєктів нерухомості з сайту Kaggle по 2022 рік\n",
    "\n",
    "Для аналізу набору даних використовується бібліотека pandas\n",
    "\n",
    "**Словник:**\n",
    "\n",
    "Характеристики обʼєкту (англ. Features) - характеристики з яких будуть обрані залежні та незалежні змінні для тренування моделі для знаходження залежності незалежних змінних від залежних.\n",
    "\n",
    "**Предметна Область:**\n",
    "\n",
    "Залежні змінні/ Незалежні змінні"
   ]
  },
  {
   "cell_type": "code",
   "execution_count": 35,
   "id": "45c8ea6a",
   "metadata": {},
   "outputs": [],
   "source": [
    "import pandas as pd\n",
    "pd.set_option('display.max_columns', 100)"
   ]
  },
  {
   "cell_type": "code",
   "execution_count": 16,
   "id": "7d8cef1d",
   "metadata": {},
   "outputs": [
    {
     "data": {
      "text/plain": [
       "(14066, 20)"
      ]
     },
     "execution_count": 16,
     "metadata": {},
     "output_type": "execute_result"
    }
   ],
   "source": [
    "df = pd.read_csv('./flats.csv')\n",
    "df.shape"
   ]
  },
  {
   "cell_type": "markdown",
   "id": "89cc379f",
   "metadata": {},
   "source": [
    "## Приклад обʼєктів з набору даних"
   ]
  },
  {
   "cell_type": "code",
   "execution_count": 37,
   "id": "7d0daabe",
   "metadata": {
    "scrolled": true
   },
   "outputs": [
    {
     "data": {
      "text/html": [
       "<div>\n",
       "<style scoped>\n",
       "    .dataframe tbody tr th:only-of-type {\n",
       "        vertical-align: middle;\n",
       "    }\n",
       "\n",
       "    .dataframe tbody tr th {\n",
       "        vertical-align: top;\n",
       "    }\n",
       "\n",
       "    .dataframe thead th {\n",
       "        text-align: right;\n",
       "    }\n",
       "</style>\n",
       "<table border=\"1\" class=\"dataframe\">\n",
       "  <thead>\n",
       "    <tr style=\"text-align: right;\">\n",
       "      <th></th>\n",
       "      <th>id</th>\n",
       "      <th>price</th>\n",
       "      <th>price_sm</th>\n",
       "      <th>address</th>\n",
       "      <th>complex</th>\n",
       "      <th>hist_district</th>\n",
       "      <th>admin_district</th>\n",
       "      <th>city</th>\n",
       "      <th>description</th>\n",
       "      <th>rooms</th>\n",
       "      <th>area_total</th>\n",
       "      <th>area_living</th>\n",
       "      <th>area_kitchen</th>\n",
       "      <th>stock</th>\n",
       "      <th>stock_total</th>\n",
       "      <th>year</th>\n",
       "      <th>project</th>\n",
       "      <th>wall</th>\n",
       "      <th>currency</th>\n",
       "      <th>bad_proposal</th>\n",
       "    </tr>\n",
       "  </thead>\n",
       "  <tbody>\n",
       "    <tr>\n",
       "      <th>0</th>\n",
       "      <td>377514444</td>\n",
       "      <td>1865470</td>\n",
       "      <td>23327</td>\n",
       "      <td>вул. Радченка</td>\n",
       "      <td>ЖК вул. Петра Радченка, 27-29</td>\n",
       "      <td>Солом'янка</td>\n",
       "      <td>Солом'янський</td>\n",
       "      <td>Київ</td>\n",
       "      <td>БЕЗ КОМИССИИ!!! Видовая 3К квартира в новостро...</td>\n",
       "      <td>3</td>\n",
       "      <td>79.97</td>\n",
       "      <td>43.09</td>\n",
       "      <td>12.68</td>\n",
       "      <td>5</td>\n",
       "      <td>25.0</td>\n",
       "      <td>NaN</td>\n",
       "      <td>NaN</td>\n",
       "      <td>монолітно-каркасний</td>\n",
       "      <td>UAH</td>\n",
       "      <td>0</td>\n",
       "    </tr>\n",
       "    <tr>\n",
       "      <th>1</th>\n",
       "      <td>381003995</td>\n",
       "      <td>90000</td>\n",
       "      <td>732</td>\n",
       "      <td>вул. Бориспільська, 34</td>\n",
       "      <td>NaN</td>\n",
       "      <td>Нова Дарниця</td>\n",
       "      <td>Дарницький</td>\n",
       "      <td>Київ</td>\n",
       "      <td>Продается 5- комн квартира ул Бориспольськая 3...</td>\n",
       "      <td>5</td>\n",
       "      <td>123.00</td>\n",
       "      <td>71.20</td>\n",
       "      <td>16.60</td>\n",
       "      <td>3</td>\n",
       "      <td>16.0</td>\n",
       "      <td>1989.0</td>\n",
       "      <td>серія КТ</td>\n",
       "      <td>утеплена панель</td>\n",
       "      <td>USD</td>\n",
       "      <td>0</td>\n",
       "    </tr>\n",
       "    <tr>\n",
       "      <th>2</th>\n",
       "      <td>379779512</td>\n",
       "      <td>330000</td>\n",
       "      <td>3000</td>\n",
       "      <td>Лабораторний пров., 7</td>\n",
       "      <td>ЖК Alter Ego</td>\n",
       "      <td>Черепанова гора</td>\n",
       "      <td>Печерський</td>\n",
       "      <td>Київ</td>\n",
       "      <td>БЕЗ КОМИССИИ для покупателя, предложение от со...</td>\n",
       "      <td>3</td>\n",
       "      <td>110.00</td>\n",
       "      <td>60.00</td>\n",
       "      <td>40.00</td>\n",
       "      <td>18</td>\n",
       "      <td>24.0</td>\n",
       "      <td>2018.0</td>\n",
       "      <td>спец. проект</td>\n",
       "      <td>монолітно-каркасний</td>\n",
       "      <td>USD</td>\n",
       "      <td>0</td>\n",
       "    </tr>\n",
       "  </tbody>\n",
       "</table>\n",
       "</div>"
      ],
      "text/plain": [
       "          id    price  price_sm                 address  \\\n",
       "0  377514444  1865470     23327           вул. Радченка   \n",
       "1  381003995    90000       732  вул. Бориспільська, 34   \n",
       "2  379779512   330000      3000   Лабораторний пров., 7   \n",
       "\n",
       "                         complex    hist_district admin_district  city  \\\n",
       "0  ЖК вул. Петра Радченка, 27-29       Солом'янка  Солом'янський  Київ   \n",
       "1                            NaN     Нова Дарниця     Дарницький  Київ   \n",
       "2                   ЖК Alter Ego  Черепанова гора     Печерський  Київ   \n",
       "\n",
       "                                         description  rooms  area_total  \\\n",
       "0  БЕЗ КОМИССИИ!!! Видовая 3К квартира в новостро...      3       79.97   \n",
       "1  Продается 5- комн квартира ул Бориспольськая 3...      5      123.00   \n",
       "2  БЕЗ КОМИССИИ для покупателя, предложение от со...      3      110.00   \n",
       "\n",
       "   area_living  area_kitchen  stock  stock_total    year       project  \\\n",
       "0        43.09         12.68      5         25.0     NaN           NaN   \n",
       "1        71.20         16.60      3         16.0  1989.0      серія КТ   \n",
       "2        60.00         40.00     18         24.0  2018.0  спец. проект   \n",
       "\n",
       "                  wall currency  bad_proposal  \n",
       "0  монолітно-каркасний      UAH             0  \n",
       "1      утеплена панель      USD             0  \n",
       "2  монолітно-каркасний      USD             0  "
      ]
     },
     "execution_count": 37,
     "metadata": {},
     "output_type": "execute_result"
    }
   ],
   "source": [
    "df.head(3)"
   ]
  },
  {
   "cell_type": "markdown",
   "id": "5235465d",
   "metadata": {},
   "source": [
    "## Серія всіх характеристик обʼєкту нерухомості"
   ]
  },
  {
   "cell_type": "code",
   "execution_count": 39,
   "id": "1772ad96",
   "metadata": {},
   "outputs": [
    {
     "data": {
      "text/plain": [
       "Index(['id', 'price', 'price_sm', 'address', 'complex', 'hist_district',\n",
       "       'admin_district', 'city', 'description', 'rooms', 'area_total',\n",
       "       'area_living', 'area_kitchen', 'stock', 'stock_total', 'year',\n",
       "       'project', 'wall', 'currency', 'bad_proposal'],\n",
       "      dtype='object')"
      ]
     },
     "execution_count": 39,
     "metadata": {},
     "output_type": "execute_result"
    }
   ],
   "source": [
    "df.columns"
   ]
  },
  {
   "cell_type": "markdown",
   "id": "6080c9ef",
   "metadata": {},
   "source": [
    "## Типи даних у наборі даних"
   ]
  },
  {
   "cell_type": "code",
   "execution_count": 41,
   "id": "f0553282",
   "metadata": {},
   "outputs": [
    {
     "data": {
      "text/plain": [
       "id                  int64\n",
       "price               int64\n",
       "price_sm            int64\n",
       "address            object\n",
       "complex            object\n",
       "hist_district      object\n",
       "admin_district     object\n",
       "city               object\n",
       "description        object\n",
       "rooms               int64\n",
       "area_total        float64\n",
       "area_living       float64\n",
       "area_kitchen      float64\n",
       "stock               int64\n",
       "stock_total       float64\n",
       "year              float64\n",
       "project            object\n",
       "wall               object\n",
       "currency           object\n",
       "bad_proposal        int64\n",
       "dtype: object"
      ]
     },
     "execution_count": 41,
     "metadata": {},
     "output_type": "execute_result"
    }
   ],
   "source": [
    "df.dtypes"
   ]
  },
  {
   "cell_type": "markdown",
   "id": "33d87815",
   "metadata": {},
   "source": [
    "## Приведення всіх цін до UAH"
   ]
  },
  {
   "cell_type": "markdown",
   "id": "5de0503b",
   "metadata": {},
   "source": [
    "## Фільтрація обʼєктів із пустими колонками що є важливими для тренування"
   ]
  },
  {
   "cell_type": "markdown",
   "id": "ecfda002",
   "metadata": {},
   "source": [
    "## Опис набору даних"
   ]
  },
  {
   "cell_type": "code",
   "execution_count": 43,
   "id": "bf8a0838",
   "metadata": {},
   "outputs": [
    {
     "data": {
      "text/html": [
       "<div>\n",
       "<style scoped>\n",
       "    .dataframe tbody tr th:only-of-type {\n",
       "        vertical-align: middle;\n",
       "    }\n",
       "\n",
       "    .dataframe tbody tr th {\n",
       "        vertical-align: top;\n",
       "    }\n",
       "\n",
       "    .dataframe thead th {\n",
       "        text-align: right;\n",
       "    }\n",
       "</style>\n",
       "<table border=\"1\" class=\"dataframe\">\n",
       "  <thead>\n",
       "    <tr style=\"text-align: right;\">\n",
       "      <th></th>\n",
       "      <th>id</th>\n",
       "      <th>price</th>\n",
       "      <th>price_sm</th>\n",
       "      <th>rooms</th>\n",
       "      <th>area_total</th>\n",
       "      <th>area_living</th>\n",
       "      <th>area_kitchen</th>\n",
       "      <th>stock</th>\n",
       "      <th>stock_total</th>\n",
       "      <th>year</th>\n",
       "      <th>bad_proposal</th>\n",
       "    </tr>\n",
       "  </thead>\n",
       "  <tbody>\n",
       "    <tr>\n",
       "      <th>count</th>\n",
       "      <td>1.406600e+04</td>\n",
       "      <td>1.406600e+04</td>\n",
       "      <td>14066.000000</td>\n",
       "      <td>14066.000000</td>\n",
       "      <td>14066.000000</td>\n",
       "      <td>11443.000000</td>\n",
       "      <td>12171.000000</td>\n",
       "      <td>14066.000000</td>\n",
       "      <td>13861.000000</td>\n",
       "      <td>12815.000000</td>\n",
       "      <td>14066.000000</td>\n",
       "    </tr>\n",
       "    <tr>\n",
       "      <th>mean</th>\n",
       "      <td>3.782737e+08</td>\n",
       "      <td>2.832450e+05</td>\n",
       "      <td>2793.730627</td>\n",
       "      <td>2.365989</td>\n",
       "      <td>85.486388</td>\n",
       "      <td>44.149313</td>\n",
       "      <td>15.588783</td>\n",
       "      <td>9.430684</td>\n",
       "      <td>16.998846</td>\n",
       "      <td>1998.824112</td>\n",
       "      <td>0.107707</td>\n",
       "    </tr>\n",
       "    <tr>\n",
       "      <th>std</th>\n",
       "      <td>6.053666e+06</td>\n",
       "      <td>1.275563e+06</td>\n",
       "      <td>7939.544947</td>\n",
       "      <td>1.134468</td>\n",
       "      <td>58.406175</td>\n",
       "      <td>32.397609</td>\n",
       "      <td>10.128905</td>\n",
       "      <td>6.841130</td>\n",
       "      <td>7.993603</td>\n",
       "      <td>25.669891</td>\n",
       "      <td>0.310020</td>\n",
       "    </tr>\n",
       "    <tr>\n",
       "      <th>min</th>\n",
       "      <td>3.475628e+07</td>\n",
       "      <td>1.750000e+04</td>\n",
       "      <td>125.000000</td>\n",
       "      <td>1.000000</td>\n",
       "      <td>13.000000</td>\n",
       "      <td>0.010000</td>\n",
       "      <td>1.000000</td>\n",
       "      <td>1.000000</td>\n",
       "      <td>1.000000</td>\n",
       "      <td>1857.000000</td>\n",
       "      <td>0.000000</td>\n",
       "    </tr>\n",
       "    <tr>\n",
       "      <th>25%</th>\n",
       "      <td>3.776323e+08</td>\n",
       "      <td>6.700000e+04</td>\n",
       "      <td>1131.000000</td>\n",
       "      <td>1.000000</td>\n",
       "      <td>51.000000</td>\n",
       "      <td>23.600000</td>\n",
       "      <td>9.000000</td>\n",
       "      <td>4.000000</td>\n",
       "      <td>9.000000</td>\n",
       "      <td>1987.000000</td>\n",
       "      <td>0.000000</td>\n",
       "    </tr>\n",
       "    <tr>\n",
       "      <th>50%</th>\n",
       "      <td>3.799594e+08</td>\n",
       "      <td>1.040000e+05</td>\n",
       "      <td>1518.000000</td>\n",
       "      <td>2.000000</td>\n",
       "      <td>71.000000</td>\n",
       "      <td>38.000000</td>\n",
       "      <td>13.000000</td>\n",
       "      <td>8.000000</td>\n",
       "      <td>16.000000</td>\n",
       "      <td>2010.000000</td>\n",
       "      <td>0.000000</td>\n",
       "    </tr>\n",
       "    <tr>\n",
       "      <th>75%</th>\n",
       "      <td>3.807864e+08</td>\n",
       "      <td>1.974500e+05</td>\n",
       "      <td>2258.750000</td>\n",
       "      <td>3.000000</td>\n",
       "      <td>98.000000</td>\n",
       "      <td>53.000000</td>\n",
       "      <td>18.950000</td>\n",
       "      <td>14.000000</td>\n",
       "      <td>25.000000</td>\n",
       "      <td>2017.000000</td>\n",
       "      <td>0.000000</td>\n",
       "    </tr>\n",
       "    <tr>\n",
       "      <th>max</th>\n",
       "      <td>3.811202e+08</td>\n",
       "      <td>8.370000e+07</td>\n",
       "      <td>341633.000000</td>\n",
       "      <td>18.000000</td>\n",
       "      <td>1000.000000</td>\n",
       "      <td>450.000000</td>\n",
       "      <td>215.000000</td>\n",
       "      <td>117.000000</td>\n",
       "      <td>55.000000</td>\n",
       "      <td>2022.000000</td>\n",
       "      <td>1.000000</td>\n",
       "    </tr>\n",
       "  </tbody>\n",
       "</table>\n",
       "</div>"
      ],
      "text/plain": [
       "                 id         price       price_sm         rooms    area_total  \\\n",
       "count  1.406600e+04  1.406600e+04   14066.000000  14066.000000  14066.000000   \n",
       "mean   3.782737e+08  2.832450e+05    2793.730627      2.365989     85.486388   \n",
       "std    6.053666e+06  1.275563e+06    7939.544947      1.134468     58.406175   \n",
       "min    3.475628e+07  1.750000e+04     125.000000      1.000000     13.000000   \n",
       "25%    3.776323e+08  6.700000e+04    1131.000000      1.000000     51.000000   \n",
       "50%    3.799594e+08  1.040000e+05    1518.000000      2.000000     71.000000   \n",
       "75%    3.807864e+08  1.974500e+05    2258.750000      3.000000     98.000000   \n",
       "max    3.811202e+08  8.370000e+07  341633.000000     18.000000   1000.000000   \n",
       "\n",
       "        area_living  area_kitchen         stock   stock_total          year  \\\n",
       "count  11443.000000  12171.000000  14066.000000  13861.000000  12815.000000   \n",
       "mean      44.149313     15.588783      9.430684     16.998846   1998.824112   \n",
       "std       32.397609     10.128905      6.841130      7.993603     25.669891   \n",
       "min        0.010000      1.000000      1.000000      1.000000   1857.000000   \n",
       "25%       23.600000      9.000000      4.000000      9.000000   1987.000000   \n",
       "50%       38.000000     13.000000      8.000000     16.000000   2010.000000   \n",
       "75%       53.000000     18.950000     14.000000     25.000000   2017.000000   \n",
       "max      450.000000    215.000000    117.000000     55.000000   2022.000000   \n",
       "\n",
       "       bad_proposal  \n",
       "count  14066.000000  \n",
       "mean       0.107707  \n",
       "std        0.310020  \n",
       "min        0.000000  \n",
       "25%        0.000000  \n",
       "50%        0.000000  \n",
       "75%        0.000000  \n",
       "max        1.000000  "
      ]
     },
     "execution_count": 43,
     "metadata": {},
     "output_type": "execute_result"
    }
   ],
   "source": [
    "df.describe()"
   ]
  }
 ],
 "metadata": {
  "kernelspec": {
   "display_name": "Python 3 (ipykernel)",
   "language": "python",
   "name": "python3"
  },
  "language_info": {
   "codemirror_mode": {
    "name": "ipython",
    "version": 3
   },
   "file_extension": ".py",
   "mimetype": "text/x-python",
   "name": "python",
   "nbconvert_exporter": "python",
   "pygments_lexer": "ipython3",
   "version": "3.9.15"
  }
 },
 "nbformat": 4,
 "nbformat_minor": 5
}
