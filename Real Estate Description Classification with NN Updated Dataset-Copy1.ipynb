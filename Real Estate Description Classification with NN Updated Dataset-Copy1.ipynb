{
 "cells": [
  {
   "cell_type": "markdown",
   "id": "cb3bb36d",
   "metadata": {},
   "source": [
    "# Класифікація обʼєктів новобудови за текстовим описом за допомогою зворотної нейронної мережі"
   ]
  },
  {
   "cell_type": "markdown",
   "id": "0eb980d0",
   "metadata": {},
   "source": [
    "Рекурсивна нейронна мережа використовується для наборів даних які представляють собою серію послідовних даних. Наприклад, опис обʼєкту нерухомості є текстовою строкою. Кожний символ повʼязаний із попередніми символами та із наступними. Через це використання звичайної нейронної мережі є неможливим при роботі із текстом.\n",
    "\n",
    "Натомість, для цього використовуються Рекурсивні Нейронні Мережі."
   ]
  },
  {
   "cell_type": "markdown",
   "id": "1905b466",
   "metadata": {},
   "source": [
    "https://www.youtube.com/watch?v=VtRLrQ3Ev-U&ab_channel=freeCodeCamp.org"
   ]
  },
  {
   "cell_type": "code",
   "execution_count": 1,
   "id": "c03d44b7",
   "metadata": {},
   "outputs": [
    {
     "name": "stderr",
     "output_type": "stream",
     "text": [
      "2023-05-12 07:09:10.499522: I tensorflow/core/platform/cpu_feature_guard.cc:193] This TensorFlow binary is optimized with oneAPI Deep Neural Network Library (oneDNN) to use the following CPU instructions in performance-critical operations:  AVX2 FMA\n",
      "To enable them in other operations, rebuild TensorFlow with the appropriate compiler flags.\n"
     ]
    }
   ],
   "source": [
    "import numpy as np\n",
    "import pandas as pd\n",
    "import matplotlib.pyplot as plt\n",
    "import tensorflow as tf\n",
    "import tensorflow_hub as hub\n",
    "from keras.models import Sequential\n",
    "from keras.layers import Dense, Dropout, TextVectorization, Embedding, LSTM\n",
    "from keras.optimizers import Adam\n",
    "from keras.utils import to_categorical\n",
    "# BinaryCrossentropy функція повинна використовуватися для задач бінарної класифікації. Для мультикласової класифікації потрібно використовувати CategoricalCrossentropy\n",
    "# from keras.losses import BinaryCrossentropy\n",
    "from keras.losses import CategoricalCrossentropy\n",
    "from sklearn.model_selection import train_test_split"
   ]
  },
  {
   "cell_type": "markdown",
   "id": "77127c14",
   "metadata": {},
   "source": [
    "## Завантаження набору даних"
   ]
  },
  {
   "cell_type": "markdown",
   "id": "1dbccebc",
   "metadata": {},
   "source": [
    "### Ознайомлення з набором даних"
   ]
  },
  {
   "cell_type": "code",
   "execution_count": 2,
   "id": "2e396479",
   "metadata": {},
   "outputs": [],
   "source": [
    "df = pd.read_csv('./real-estate-mapped.csv')"
   ]
  },
  {
   "cell_type": "markdown",
   "id": "c5a5d3f4",
   "metadata": {},
   "source": [
    "### Збереження набору даних для подальшого використання при розробці нового набору даних"
   ]
  },
  {
   "cell_type": "code",
   "execution_count": 3,
   "id": "8d3957c7",
   "metadata": {},
   "outputs": [],
   "source": [
    "df_initial = df.copy();"
   ]
  },
  {
   "cell_type": "code",
   "execution_count": 4,
   "id": "39ba2815",
   "metadata": {
    "scrolled": false
   },
   "outputs": [
    {
     "data": {
      "text/html": [
       "<div>\n",
       "<style scoped>\n",
       "    .dataframe tbody tr th:only-of-type {\n",
       "        vertical-align: middle;\n",
       "    }\n",
       "\n",
       "    .dataframe tbody tr th {\n",
       "        vertical-align: top;\n",
       "    }\n",
       "\n",
       "    .dataframe thead th {\n",
       "        text-align: right;\n",
       "    }\n",
       "</style>\n",
       "<table border=\"1\" class=\"dataframe\">\n",
       "  <thead>\n",
       "    <tr style=\"text-align: right;\">\n",
       "      <th></th>\n",
       "      <th>residence</th>\n",
       "      <th>developer</th>\n",
       "      <th>description</th>\n",
       "      <th>address</th>\n",
       "      <th>district</th>\n",
       "      <th>class</th>\n",
       "      <th>ceilingHeight</th>\n",
       "      <th>numApartmentsTotal</th>\n",
       "      <th>year</th>\n",
       "      <th>pricePerSquareMeter</th>\n",
       "      <th>price</th>\n",
       "      <th>area</th>\n",
       "      <th>rooms</th>\n",
       "      <th>floor</th>\n",
       "      <th>minutesToCityCenter</th>\n",
       "      <th>assess</th>\n",
       "      <th>crimeRateInDistrict</th>\n",
       "    </tr>\n",
       "  </thead>\n",
       "  <tbody>\n",
       "    <tr>\n",
       "      <th>0</th>\n",
       "      <td>А136 Highlight Tower</td>\n",
       "      <td>DIM</td>\n",
       "      <td>Residential complex A136 Highlight Tower is a ...</td>\n",
       "      <td>вул. Антоновича, 136-138</td>\n",
       "      <td>Голосіївський р-н</td>\n",
       "      <td>бізнес</td>\n",
       "      <td>3</td>\n",
       "      <td>324</td>\n",
       "      <td>2023.0</td>\n",
       "      <td>137800.0</td>\n",
       "      <td>7441200.0</td>\n",
       "      <td>54</td>\n",
       "      <td>1</td>\n",
       "      <td>18.0</td>\n",
       "      <td>48</td>\n",
       "      <td>52536</td>\n",
       "      <td>2317</td>\n",
       "    </tr>\n",
       "    <tr>\n",
       "      <th>1</th>\n",
       "      <td>А136 Highlight Tower</td>\n",
       "      <td>DIM</td>\n",
       "      <td>Residential complex A136 Highlight Tower is a ...</td>\n",
       "      <td>вул. Антоновича, 136-138</td>\n",
       "      <td>Голосіївський р-н</td>\n",
       "      <td>бізнес</td>\n",
       "      <td>3</td>\n",
       "      <td>324</td>\n",
       "      <td>2023.0</td>\n",
       "      <td>137800.0</td>\n",
       "      <td>7992400.0</td>\n",
       "      <td>58</td>\n",
       "      <td>1</td>\n",
       "      <td>NaN</td>\n",
       "      <td>48</td>\n",
       "      <td>52536</td>\n",
       "      <td>2317</td>\n",
       "    </tr>\n",
       "    <tr>\n",
       "      <th>2</th>\n",
       "      <td>А136 Highlight Tower</td>\n",
       "      <td>DIM</td>\n",
       "      <td>Residential complex A136 Highlight Tower is a ...</td>\n",
       "      <td>вул. Антоновича, 136-138</td>\n",
       "      <td>Голосіївський р-н</td>\n",
       "      <td>бізнес</td>\n",
       "      <td>3</td>\n",
       "      <td>324</td>\n",
       "      <td>2023.0</td>\n",
       "      <td>125275.0</td>\n",
       "      <td>10022000.0</td>\n",
       "      <td>80</td>\n",
       "      <td>2</td>\n",
       "      <td>7.0</td>\n",
       "      <td>48</td>\n",
       "      <td>52536</td>\n",
       "      <td>2317</td>\n",
       "    </tr>\n",
       "    <tr>\n",
       "      <th>3</th>\n",
       "      <td>А136 Highlight Tower</td>\n",
       "      <td>DIM</td>\n",
       "      <td>Residential complex A136 Highlight Tower is a ...</td>\n",
       "      <td>вул. Антоновича, 136-138</td>\n",
       "      <td>Голосіївський р-н</td>\n",
       "      <td>бізнес</td>\n",
       "      <td>3</td>\n",
       "      <td>324</td>\n",
       "      <td>2023.0</td>\n",
       "      <td>125275.0</td>\n",
       "      <td>10147275.0</td>\n",
       "      <td>81</td>\n",
       "      <td>2</td>\n",
       "      <td>13.0</td>\n",
       "      <td>48</td>\n",
       "      <td>52536</td>\n",
       "      <td>2317</td>\n",
       "    </tr>\n",
       "    <tr>\n",
       "      <th>4</th>\n",
       "      <td>А136 Highlight Tower</td>\n",
       "      <td>DIM</td>\n",
       "      <td>Residential complex A136 Highlight Tower is a ...</td>\n",
       "      <td>вул. Антоновича, 136-138</td>\n",
       "      <td>Голосіївський р-н</td>\n",
       "      <td>бізнес</td>\n",
       "      <td>3</td>\n",
       "      <td>324</td>\n",
       "      <td>2023.0</td>\n",
       "      <td>125275.0</td>\n",
       "      <td>10648375.0</td>\n",
       "      <td>85</td>\n",
       "      <td>2</td>\n",
       "      <td>17.0</td>\n",
       "      <td>48</td>\n",
       "      <td>52536</td>\n",
       "      <td>2317</td>\n",
       "    </tr>\n",
       "  </tbody>\n",
       "</table>\n",
       "</div>"
      ],
      "text/plain": [
       "              residence developer  \\\n",
       "0  А136 Highlight Tower       DIM   \n",
       "1  А136 Highlight Tower       DIM   \n",
       "2  А136 Highlight Tower       DIM   \n",
       "3  А136 Highlight Tower       DIM   \n",
       "4  А136 Highlight Tower       DIM   \n",
       "\n",
       "                                         description  \\\n",
       "0  Residential complex A136 Highlight Tower is a ...   \n",
       "1  Residential complex A136 Highlight Tower is a ...   \n",
       "2  Residential complex A136 Highlight Tower is a ...   \n",
       "3  Residential complex A136 Highlight Tower is a ...   \n",
       "4  Residential complex A136 Highlight Tower is a ...   \n",
       "\n",
       "                    address           district   class  ceilingHeight  \\\n",
       "0  вул. Антоновича, 136-138  Голосіївський р-н  бізнес              3   \n",
       "1  вул. Антоновича, 136-138  Голосіївський р-н  бізнес              3   \n",
       "2  вул. Антоновича, 136-138  Голосіївський р-н  бізнес              3   \n",
       "3  вул. Антоновича, 136-138  Голосіївський р-н  бізнес              3   \n",
       "4  вул. Антоновича, 136-138  Голосіївський р-н  бізнес              3   \n",
       "\n",
       "   numApartmentsTotal    year  pricePerSquareMeter       price  area  rooms  \\\n",
       "0                 324  2023.0             137800.0   7441200.0    54      1   \n",
       "1                 324  2023.0             137800.0   7992400.0    58      1   \n",
       "2                 324  2023.0             125275.0  10022000.0    80      2   \n",
       "3                 324  2023.0             125275.0  10147275.0    81      2   \n",
       "4                 324  2023.0             125275.0  10648375.0    85      2   \n",
       "\n",
       "   floor  minutesToCityCenter  assess  crimeRateInDistrict  \n",
       "0   18.0                   48   52536                 2317  \n",
       "1    NaN                   48   52536                 2317  \n",
       "2    7.0                   48   52536                 2317  \n",
       "3   13.0                   48   52536                 2317  \n",
       "4   17.0                   48   52536                 2317  "
      ]
     },
     "execution_count": 4,
     "metadata": {},
     "output_type": "execute_result"
    }
   ],
   "source": [
    "df.head()"
   ]
  },
  {
   "cell_type": "code",
   "execution_count": 5,
   "id": "6ba99fa9",
   "metadata": {
    "scrolled": false
   },
   "outputs": [
    {
     "data": {
      "text/html": [
       "<div>\n",
       "<style scoped>\n",
       "    .dataframe tbody tr th:only-of-type {\n",
       "        vertical-align: middle;\n",
       "    }\n",
       "\n",
       "    .dataframe tbody tr th {\n",
       "        vertical-align: top;\n",
       "    }\n",
       "\n",
       "    .dataframe thead th {\n",
       "        text-align: right;\n",
       "    }\n",
       "</style>\n",
       "<table border=\"1\" class=\"dataframe\">\n",
       "  <thead>\n",
       "    <tr style=\"text-align: right;\">\n",
       "      <th></th>\n",
       "      <th>residence</th>\n",
       "      <th>developer</th>\n",
       "      <th>description</th>\n",
       "      <th>address</th>\n",
       "      <th>district</th>\n",
       "      <th>class</th>\n",
       "      <th>ceilingHeight</th>\n",
       "      <th>numApartmentsTotal</th>\n",
       "      <th>year</th>\n",
       "      <th>pricePerSquareMeter</th>\n",
       "      <th>price</th>\n",
       "      <th>area</th>\n",
       "      <th>rooms</th>\n",
       "      <th>floor</th>\n",
       "      <th>minutesToCityCenter</th>\n",
       "      <th>assess</th>\n",
       "      <th>crimeRateInDistrict</th>\n",
       "    </tr>\n",
       "  </thead>\n",
       "  <tbody>\n",
       "    <tr>\n",
       "      <th>144</th>\n",
       "      <td>ЖК Montreal House</td>\n",
       "      <td>Alliance Novobud</td>\n",
       "      <td>Montreal House is being built in the business ...</td>\n",
       "      <td>вул. Велика Васильківська, 102у / вул. Антонов...</td>\n",
       "      <td>Голосіївський р-н</td>\n",
       "      <td>бізнес</td>\n",
       "      <td>3</td>\n",
       "      <td>328</td>\n",
       "      <td>2023.0</td>\n",
       "      <td>116825.0</td>\n",
       "      <td>6425375.0</td>\n",
       "      <td>55</td>\n",
       "      <td>1</td>\n",
       "      <td>6.0</td>\n",
       "      <td>40</td>\n",
       "      <td>52536</td>\n",
       "      <td>2317</td>\n",
       "    </tr>\n",
       "  </tbody>\n",
       "</table>\n",
       "</div>"
      ],
      "text/plain": [
       "             residence         developer  \\\n",
       "144  ЖК Montreal House  Alliance Novobud   \n",
       "\n",
       "                                           description  \\\n",
       "144  Montreal House is being built in the business ...   \n",
       "\n",
       "                                               address           district  \\\n",
       "144  вул. Велика Васильківська, 102у / вул. Антонов...  Голосіївський р-н   \n",
       "\n",
       "      class  ceilingHeight  numApartmentsTotal    year  pricePerSquareMeter  \\\n",
       "144  бізнес              3                 328  2023.0             116825.0   \n",
       "\n",
       "         price  area  rooms  floor  minutesToCityCenter  assess  \\\n",
       "144  6425375.0    55      1    6.0                   40   52536   \n",
       "\n",
       "     crimeRateInDistrict  \n",
       "144                 2317  "
      ]
     },
     "execution_count": 5,
     "metadata": {},
     "output_type": "execute_result"
    }
   ],
   "source": [
    "df.sample()"
   ]
  },
  {
   "cell_type": "code",
   "execution_count": 6,
   "id": "50a6a599",
   "metadata": {},
   "outputs": [
    {
     "data": {
      "text/plain": [
       "(169, 17)"
      ]
     },
     "execution_count": 6,
     "metadata": {},
     "output_type": "execute_result"
    }
   ],
   "source": [
    "df.shape"
   ]
  },
  {
   "cell_type": "markdown",
   "id": "17a6d4c2",
   "metadata": {},
   "source": [
    "### Фільтрація пустих значень"
   ]
  },
  {
   "cell_type": "code",
   "execution_count": 7,
   "id": "a80b0703",
   "metadata": {},
   "outputs": [],
   "source": [
    "df = df.dropna()"
   ]
  },
  {
   "cell_type": "code",
   "execution_count": 8,
   "id": "55b7c42b",
   "metadata": {
    "scrolled": true
   },
   "outputs": [
    {
     "data": {
      "text/plain": [
       "(152, 17)"
      ]
     },
     "execution_count": 8,
     "metadata": {},
     "output_type": "execute_result"
    }
   ],
   "source": [
    "df.shape"
   ]
  },
  {
   "cell_type": "markdown",
   "id": "daab8d74",
   "metadata": {},
   "source": [
    "### Доступні в наборі даних класи нерухомості"
   ]
  },
  {
   "cell_type": "code",
   "execution_count": 9,
   "id": "644f90ba",
   "metadata": {
    "scrolled": false
   },
   "outputs": [
    {
     "data": {
      "text/plain": [
       "array(['бізнес', 'комфорт', 'преміум'], dtype=object)"
      ]
     },
     "execution_count": 9,
     "metadata": {},
     "output_type": "execute_result"
    }
   ],
   "source": [
    "df['class'].unique()"
   ]
  },
  {
   "cell_type": "code",
   "execution_count": 10,
   "id": "18f551af",
   "metadata": {},
   "outputs": [
    {
     "data": {
      "text/html": [
       "<div>\n",
       "<style scoped>\n",
       "    .dataframe tbody tr th:only-of-type {\n",
       "        vertical-align: middle;\n",
       "    }\n",
       "\n",
       "    .dataframe tbody tr th {\n",
       "        vertical-align: top;\n",
       "    }\n",
       "\n",
       "    .dataframe thead th {\n",
       "        text-align: right;\n",
       "    }\n",
       "</style>\n",
       "<table border=\"1\" class=\"dataframe\">\n",
       "  <thead>\n",
       "    <tr style=\"text-align: right;\">\n",
       "      <th></th>\n",
       "      <th>residence</th>\n",
       "      <th>developer</th>\n",
       "      <th>description</th>\n",
       "      <th>address</th>\n",
       "      <th>district</th>\n",
       "      <th>class</th>\n",
       "      <th>ceilingHeight</th>\n",
       "      <th>numApartmentsTotal</th>\n",
       "      <th>year</th>\n",
       "      <th>pricePerSquareMeter</th>\n",
       "      <th>price</th>\n",
       "      <th>area</th>\n",
       "      <th>rooms</th>\n",
       "      <th>floor</th>\n",
       "      <th>minutesToCityCenter</th>\n",
       "      <th>assess</th>\n",
       "      <th>crimeRateInDistrict</th>\n",
       "    </tr>\n",
       "  </thead>\n",
       "  <tbody>\n",
       "    <tr>\n",
       "      <th>0</th>\n",
       "      <td>А136 Highlight Tower</td>\n",
       "      <td>DIM</td>\n",
       "      <td>Residential complex A136 Highlight Tower is a ...</td>\n",
       "      <td>вул. Антоновича, 136-138</td>\n",
       "      <td>Голосіївський р-н</td>\n",
       "      <td>бізнес</td>\n",
       "      <td>3</td>\n",
       "      <td>324</td>\n",
       "      <td>2023.0</td>\n",
       "      <td>137800.0</td>\n",
       "      <td>7441200.0</td>\n",
       "      <td>54</td>\n",
       "      <td>1</td>\n",
       "      <td>18.0</td>\n",
       "      <td>48</td>\n",
       "      <td>52536</td>\n",
       "      <td>2317</td>\n",
       "    </tr>\n",
       "    <tr>\n",
       "      <th>2</th>\n",
       "      <td>А136 Highlight Tower</td>\n",
       "      <td>DIM</td>\n",
       "      <td>Residential complex A136 Highlight Tower is a ...</td>\n",
       "      <td>вул. Антоновича, 136-138</td>\n",
       "      <td>Голосіївський р-н</td>\n",
       "      <td>бізнес</td>\n",
       "      <td>3</td>\n",
       "      <td>324</td>\n",
       "      <td>2023.0</td>\n",
       "      <td>125275.0</td>\n",
       "      <td>10022000.0</td>\n",
       "      <td>80</td>\n",
       "      <td>2</td>\n",
       "      <td>7.0</td>\n",
       "      <td>48</td>\n",
       "      <td>52536</td>\n",
       "      <td>2317</td>\n",
       "    </tr>\n",
       "    <tr>\n",
       "      <th>3</th>\n",
       "      <td>А136 Highlight Tower</td>\n",
       "      <td>DIM</td>\n",
       "      <td>Residential complex A136 Highlight Tower is a ...</td>\n",
       "      <td>вул. Антоновича, 136-138</td>\n",
       "      <td>Голосіївський р-н</td>\n",
       "      <td>бізнес</td>\n",
       "      <td>3</td>\n",
       "      <td>324</td>\n",
       "      <td>2023.0</td>\n",
       "      <td>125275.0</td>\n",
       "      <td>10147275.0</td>\n",
       "      <td>81</td>\n",
       "      <td>2</td>\n",
       "      <td>13.0</td>\n",
       "      <td>48</td>\n",
       "      <td>52536</td>\n",
       "      <td>2317</td>\n",
       "    </tr>\n",
       "    <tr>\n",
       "      <th>4</th>\n",
       "      <td>А136 Highlight Tower</td>\n",
       "      <td>DIM</td>\n",
       "      <td>Residential complex A136 Highlight Tower is a ...</td>\n",
       "      <td>вул. Антоновича, 136-138</td>\n",
       "      <td>Голосіївський р-н</td>\n",
       "      <td>бізнес</td>\n",
       "      <td>3</td>\n",
       "      <td>324</td>\n",
       "      <td>2023.0</td>\n",
       "      <td>125275.0</td>\n",
       "      <td>10648375.0</td>\n",
       "      <td>85</td>\n",
       "      <td>2</td>\n",
       "      <td>17.0</td>\n",
       "      <td>48</td>\n",
       "      <td>52536</td>\n",
       "      <td>2317</td>\n",
       "    </tr>\n",
       "    <tr>\n",
       "      <th>5</th>\n",
       "      <td>А136 Highlight Tower</td>\n",
       "      <td>DIM</td>\n",
       "      <td>Residential complex A136 Highlight Tower is a ...</td>\n",
       "      <td>вул. Антоновича, 136-138</td>\n",
       "      <td>Голосіївський р-н</td>\n",
       "      <td>бізнес</td>\n",
       "      <td>3</td>\n",
       "      <td>324</td>\n",
       "      <td>2023.0</td>\n",
       "      <td>125275.0</td>\n",
       "      <td>11024200.0</td>\n",
       "      <td>88</td>\n",
       "      <td>2</td>\n",
       "      <td>14.2</td>\n",
       "      <td>48</td>\n",
       "      <td>52536</td>\n",
       "      <td>2317</td>\n",
       "    </tr>\n",
       "  </tbody>\n",
       "</table>\n",
       "</div>"
      ],
      "text/plain": [
       "              residence developer  \\\n",
       "0  А136 Highlight Tower       DIM   \n",
       "2  А136 Highlight Tower       DIM   \n",
       "3  А136 Highlight Tower       DIM   \n",
       "4  А136 Highlight Tower       DIM   \n",
       "5  А136 Highlight Tower       DIM   \n",
       "\n",
       "                                         description  \\\n",
       "0  Residential complex A136 Highlight Tower is a ...   \n",
       "2  Residential complex A136 Highlight Tower is a ...   \n",
       "3  Residential complex A136 Highlight Tower is a ...   \n",
       "4  Residential complex A136 Highlight Tower is a ...   \n",
       "5  Residential complex A136 Highlight Tower is a ...   \n",
       "\n",
       "                    address           district   class  ceilingHeight  \\\n",
       "0  вул. Антоновича, 136-138  Голосіївський р-н  бізнес              3   \n",
       "2  вул. Антоновича, 136-138  Голосіївський р-н  бізнес              3   \n",
       "3  вул. Антоновича, 136-138  Голосіївський р-н  бізнес              3   \n",
       "4  вул. Антоновича, 136-138  Голосіївський р-н  бізнес              3   \n",
       "5  вул. Антоновича, 136-138  Голосіївський р-н  бізнес              3   \n",
       "\n",
       "   numApartmentsTotal    year  pricePerSquareMeter       price  area  rooms  \\\n",
       "0                 324  2023.0             137800.0   7441200.0    54      1   \n",
       "2                 324  2023.0             125275.0  10022000.0    80      2   \n",
       "3                 324  2023.0             125275.0  10147275.0    81      2   \n",
       "4                 324  2023.0             125275.0  10648375.0    85      2   \n",
       "5                 324  2023.0             125275.0  11024200.0    88      2   \n",
       "\n",
       "   floor  minutesToCityCenter  assess  crimeRateInDistrict  \n",
       "0   18.0                   48   52536                 2317  \n",
       "2    7.0                   48   52536                 2317  \n",
       "3   13.0                   48   52536                 2317  \n",
       "4   17.0                   48   52536                 2317  \n",
       "5   14.2                   48   52536                 2317  "
      ]
     },
     "execution_count": 10,
     "metadata": {},
     "output_type": "execute_result"
    }
   ],
   "source": [
    "df.head()"
   ]
  },
  {
   "cell_type": "markdown",
   "id": "8d2b04c1",
   "metadata": {},
   "source": [
    "### Переведення класів нерухомості до числових значень"
   ]
  },
  {
   "cell_type": "code",
   "execution_count": 11,
   "id": "e4514b60",
   "metadata": {},
   "outputs": [],
   "source": [
    "class_to_num_map = { 'бізнес': 0, 'преміум': 1, 'комфорт': 2, 'економ': 3 }\n",
    "\n",
    "df['class'] = df['class'].map(class_to_num_map)"
   ]
  },
  {
   "cell_type": "code",
   "execution_count": 12,
   "id": "99c1083c",
   "metadata": {},
   "outputs": [],
   "source": [
    "df = df[['description', 'class']]"
   ]
  },
  {
   "cell_type": "code",
   "execution_count": 13,
   "id": "3fb31b39",
   "metadata": {
    "scrolled": false
   },
   "outputs": [
    {
     "data": {
      "text/html": [
       "<div>\n",
       "<style scoped>\n",
       "    .dataframe tbody tr th:only-of-type {\n",
       "        vertical-align: middle;\n",
       "    }\n",
       "\n",
       "    .dataframe tbody tr th {\n",
       "        vertical-align: top;\n",
       "    }\n",
       "\n",
       "    .dataframe thead th {\n",
       "        text-align: right;\n",
       "    }\n",
       "</style>\n",
       "<table border=\"1\" class=\"dataframe\">\n",
       "  <thead>\n",
       "    <tr style=\"text-align: right;\">\n",
       "      <th></th>\n",
       "      <th>description</th>\n",
       "      <th>class</th>\n",
       "    </tr>\n",
       "  </thead>\n",
       "  <tbody>\n",
       "    <tr>\n",
       "      <th>0</th>\n",
       "      <td>Residential complex A136 Highlight Tower is a ...</td>\n",
       "      <td>0</td>\n",
       "    </tr>\n",
       "    <tr>\n",
       "      <th>2</th>\n",
       "      <td>Residential complex A136 Highlight Tower is a ...</td>\n",
       "      <td>0</td>\n",
       "    </tr>\n",
       "    <tr>\n",
       "      <th>3</th>\n",
       "      <td>Residential complex A136 Highlight Tower is a ...</td>\n",
       "      <td>0</td>\n",
       "    </tr>\n",
       "    <tr>\n",
       "      <th>4</th>\n",
       "      <td>Residential complex A136 Highlight Tower is a ...</td>\n",
       "      <td>0</td>\n",
       "    </tr>\n",
       "    <tr>\n",
       "      <th>5</th>\n",
       "      <td>Residential complex A136 Highlight Tower is a ...</td>\n",
       "      <td>0</td>\n",
       "    </tr>\n",
       "  </tbody>\n",
       "</table>\n",
       "</div>"
      ],
      "text/plain": [
       "                                         description  class\n",
       "0  Residential complex A136 Highlight Tower is a ...      0\n",
       "2  Residential complex A136 Highlight Tower is a ...      0\n",
       "3  Residential complex A136 Highlight Tower is a ...      0\n",
       "4  Residential complex A136 Highlight Tower is a ...      0\n",
       "5  Residential complex A136 Highlight Tower is a ...      0"
      ]
     },
     "execution_count": 13,
     "metadata": {},
     "output_type": "execute_result"
    }
   ],
   "source": [
    "df.head()"
   ]
  },
  {
   "cell_type": "markdown",
   "id": "3c881110",
   "metadata": {},
   "source": [
    "## Підготовка даних для тренування моделі"
   ]
  },
  {
   "cell_type": "markdown",
   "id": "18d0e00f",
   "metadata": {},
   "source": [
    "### Створення сету характеристик і міток"
   ]
  },
  {
   "cell_type": "markdown",
   "id": "c66b8ebe",
   "metadata": {},
   "source": [
    "TODO: використання imblearn.oversampling -> RandomOverSampler для прирівнювання к-сті зразків певного класу"
   ]
  },
  {
   "cell_type": "code",
   "execution_count": 14,
   "id": "be43e433",
   "metadata": {},
   "outputs": [],
   "source": [
    "train, val, test = np.split(df.sample(frac=1), [int(0.8 * len(df)), int(0.9 * len(df))])"
   ]
  },
  {
   "cell_type": "code",
   "execution_count": 15,
   "id": "cca0ee77",
   "metadata": {
    "scrolled": true
   },
   "outputs": [
    {
     "data": {
      "text/plain": [
       "((121, 2), (15, 2), (16, 2))"
      ]
     },
     "execution_count": 15,
     "metadata": {},
     "output_type": "execute_result"
    }
   ],
   "source": [
    "train.shape, val.shape, test.shape"
   ]
  },
  {
   "cell_type": "code",
   "execution_count": 16,
   "id": "2ad92425",
   "metadata": {
    "scrolled": false
   },
   "outputs": [
    {
     "data": {
      "text/html": [
       "<div>\n",
       "<style scoped>\n",
       "    .dataframe tbody tr th:only-of-type {\n",
       "        vertical-align: middle;\n",
       "    }\n",
       "\n",
       "    .dataframe tbody tr th {\n",
       "        vertical-align: top;\n",
       "    }\n",
       "\n",
       "    .dataframe thead th {\n",
       "        text-align: right;\n",
       "    }\n",
       "</style>\n",
       "<table border=\"1\" class=\"dataframe\">\n",
       "  <thead>\n",
       "    <tr style=\"text-align: right;\">\n",
       "      <th></th>\n",
       "      <th>description</th>\n",
       "      <th>class</th>\n",
       "    </tr>\n",
       "  </thead>\n",
       "  <tbody>\n",
       "    <tr>\n",
       "      <th>0</th>\n",
       "      <td>Residential complex A136 Highlight Tower is a ...</td>\n",
       "      <td>0</td>\n",
       "    </tr>\n",
       "    <tr>\n",
       "      <th>2</th>\n",
       "      <td>Residential complex A136 Highlight Tower is a ...</td>\n",
       "      <td>0</td>\n",
       "    </tr>\n",
       "    <tr>\n",
       "      <th>3</th>\n",
       "      <td>Residential complex A136 Highlight Tower is a ...</td>\n",
       "      <td>0</td>\n",
       "    </tr>\n",
       "    <tr>\n",
       "      <th>4</th>\n",
       "      <td>Residential complex A136 Highlight Tower is a ...</td>\n",
       "      <td>0</td>\n",
       "    </tr>\n",
       "    <tr>\n",
       "      <th>5</th>\n",
       "      <td>Residential complex A136 Highlight Tower is a ...</td>\n",
       "      <td>0</td>\n",
       "    </tr>\n",
       "  </tbody>\n",
       "</table>\n",
       "</div>"
      ],
      "text/plain": [
       "                                         description  class\n",
       "0  Residential complex A136 Highlight Tower is a ...      0\n",
       "2  Residential complex A136 Highlight Tower is a ...      0\n",
       "3  Residential complex A136 Highlight Tower is a ...      0\n",
       "4  Residential complex A136 Highlight Tower is a ...      0\n",
       "5  Residential complex A136 Highlight Tower is a ...      0"
      ]
     },
     "execution_count": 16,
     "metadata": {},
     "output_type": "execute_result"
    }
   ],
   "source": [
    "df.head()"
   ]
  },
  {
   "cell_type": "markdown",
   "id": "1dcdb7af",
   "metadata": {},
   "source": [
    "### Переведення міток до категоріальних значень"
   ]
  },
  {
   "cell_type": "markdown",
   "id": "b0bcaa6e",
   "metadata": {},
   "source": [
    "Так як мітки в даному випадку варіюються від 1 до 4 що вказує на певний клас будівлі, для того щоб повʼязати ці числа із виходом із softmax вихідного шару нейронної мережі, потрібно перевести числа до категоріального виду використовуюючи допоміжні функції keras."
   ]
  },
  {
   "cell_type": "code",
   "execution_count": 17,
   "id": "373a78c4",
   "metadata": {},
   "outputs": [],
   "source": [
    "x_train = train['description'].values\n",
    "y_train = to_categorical(train['class'], 4)\n",
    "\n",
    "x_valid = val['description'].values\n",
    "y_valid = to_categorical(val['class'], 4)\n",
    "\n",
    "x_test = test['description'].values\n",
    "y_test = to_categorical(test['class'], 4)\n",
    "\n",
    "x_pred = ['The residential complex \"Rusanivska Gavan is part of the development of a new microdistrict: new residential complexes with their own shopping infrastructure, two kindergartens and a school will be built on the site of an abandoned industrial zone. Only two houses belong to \"\"Rusanivska Havana\"\" - one on the first line and one more on the second. Combined, both buildings will be a common residential area, where there will be underground parking, and on its roof - a closed courtyard without cars. The main idea of ​​the \"\"Rusanivska Gavan\"\" complex is the advantages of living near the water: views of the Dnipro and Trukhanov Island, as well as an equipped embankment along the shore. Infrastructure You can reach the city train station in 10 minutes from the complex, and after the completion of the construction of the Podilsk bridge crossing and the Podilsk-Vygurivska subway line, it will be even more convenient to get to the right bank. There are supermarkets of large retail chains nearby: 15 minutes on foot to Novus and \"\" Silpo\"\", 10 minutes by car to Varus, another Novus and another \"\"Silpo\"\". You can also reach the Left Bank market in 5 minutes, where fresh fruits and vegetables are sold. As part of the development of the new neighborhood, 2 kindergartens and 1 school will be built, which will make it easier for young families to find a preschool. If suddenly there are not enough places or something doesnt work out, there are other kindergartens in the area nearby: 15 minutes on foot to 566, 8 minutes by car to Kraina Dytynstva, 10 minutes by car to kindergartens #337, #261 and #444. For older children, schools #72, #65, #128 and Ukrainian College named after V.O. Sukhomlynskyi. To train nearby, you will need to walk for 15-20 minutes or drive 5-7 minutes to the fitness clubs \"\"Sport Land\"\", the Iron fitness club, the Grand Sport and \"\"Atletico-fitness\"\" clubs. 7 minutes by car - and you are in A hydropark, where you can sunbathe on the beach, take a walk in the fresh air, ride a bike, sit in a cafe or take your child to attractions. Features include its own boiler room for each house, an equipped embankment on the banks of the Dnipro — a place for walks, morning jogs and relaxing on sunbeds, a sports area with exercise machines sky, childrens play areas for children of all ages']\n",
    "y_pred = to_categorical([0], 4)"
   ]
  },
  {
   "cell_type": "markdown",
   "id": "edead2be",
   "metadata": {},
   "source": [
    "### Композиція моделі"
   ]
  },
  {
   "cell_type": "code",
   "execution_count": 18,
   "id": "5e280d95",
   "metadata": {},
   "outputs": [
    {
     "name": "stdout",
     "output_type": "stream",
     "text": [
      "WARNING:tensorflow:Please fix your imports. Module tensorflow.python.training.tracking.data_structures has been moved to tensorflow.python.trackable.data_structures. The old module will be deleted in version 2.11.\n"
     ]
    },
    {
     "name": "stderr",
     "output_type": "stream",
     "text": [
      "2023-05-12 07:09:42.987968: I tensorflow/core/platform/cpu_feature_guard.cc:193] This TensorFlow binary is optimized with oneAPI Deep Neural Network Library (oneDNN) to use the following CPU instructions in performance-critical operations:  AVX2 FMA\n",
      "To enable them in other operations, rebuild TensorFlow with the appropriate compiler flags.\n"
     ]
    }
   ],
   "source": [
    "embedding = 'https://tfhub.dev/google/nnlm-en-dim50/2'\n",
    "hub_layer = hub.KerasLayer(embedding, dtype=tf.string, trainable=True)"
   ]
  },
  {
   "cell_type": "code",
   "execution_count": 19,
   "id": "1a502d59",
   "metadata": {},
   "outputs": [],
   "source": [
    "model = Sequential()\n",
    "\n",
    "model.add(hub_layer)\n",
    "model.add(Dense(16, activation='relu'))\n",
    "model.add(Dense(16, activation='relu'))\n",
    "model.add(Dense(4, activation='softmax'))"
   ]
  },
  {
   "cell_type": "code",
   "execution_count": 20,
   "id": "94043d6d",
   "metadata": {},
   "outputs": [],
   "source": [
    "model.compile(optimizer=Adam(learning_rate=0.001), loss=CategoricalCrossentropy(), metrics=['accuracy'])"
   ]
  },
  {
   "cell_type": "code",
   "execution_count": 21,
   "id": "76623680",
   "metadata": {
    "scrolled": false
   },
   "outputs": [
    {
     "name": "stdout",
     "output_type": "stream",
     "text": [
      "WARNING:tensorflow:From /Users/andriikicha/Dev/knu/course project/data-analysis/venv/lib/python3.9/site-packages/tensorflow/python/autograph/pyct/static_analysis/liveness.py:83: Analyzer.lamba_check (from tensorflow.python.autograph.pyct.static_analysis.liveness) is deprecated and will be removed after 2023-09-23.\n",
      "Instructions for updating:\n",
      "Lambda fuctions will be no more assumed to be used in the statement where they are used, or at least in the same block. https://github.com/tensorflow/tensorflow/issues/56089\n"
     ]
    },
    {
     "name": "stderr",
     "output_type": "stream",
     "text": [
      "WARNING:tensorflow:From /Users/andriikicha/Dev/knu/course project/data-analysis/venv/lib/python3.9/site-packages/tensorflow/python/autograph/pyct/static_analysis/liveness.py:83: Analyzer.lamba_check (from tensorflow.python.autograph.pyct.static_analysis.liveness) is deprecated and will be removed after 2023-09-23.\n",
      "Instructions for updating:\n",
      "Lambda fuctions will be no more assumed to be used in the statement where they are used, or at least in the same block. https://github.com/tensorflow/tensorflow/issues/56089\n"
     ]
    },
    {
     "name": "stdout",
     "output_type": "stream",
     "text": [
      "4/4 [==============================] - 1s 3ms/step - loss: 1.3183 - accuracy: 0.6694\n"
     ]
    },
    {
     "data": {
      "text/plain": [
       "[1.3183016777038574, 0.6694214940071106]"
      ]
     },
     "execution_count": 21,
     "metadata": {},
     "output_type": "execute_result"
    }
   ],
   "source": [
    "model.evaluate(x_train, y_train)"
   ]
  },
  {
   "cell_type": "markdown",
   "id": "e67323d7",
   "metadata": {},
   "source": [
    "### Тренування моделі"
   ]
  },
  {
   "cell_type": "markdown",
   "id": "65302e85",
   "metadata": {},
   "source": [
    "Попередньо модель була натренована на 10-20 епохах, але цього було недостатньо. Після 10-20 епох точність моделі все ще зростає і модель не переходить в режим Overfitting"
   ]
  },
  {
   "cell_type": "code",
   "execution_count": 22,
   "id": "838f93f6",
   "metadata": {
    "scrolled": true
   },
   "outputs": [
    {
     "name": "stdout",
     "output_type": "stream",
     "text": [
      "Epoch 1/30\n",
      "4/4 [==============================] - 3s 678ms/step - loss: 1.2623 - accuracy: 0.8595 - val_loss: 1.1724 - val_accuracy: 0.7333\n",
      "Epoch 2/30\n",
      "4/4 [==============================] - 3s 655ms/step - loss: 1.1192 - accuracy: 0.7603 - val_loss: 1.0350 - val_accuracy: 0.8667\n",
      "Epoch 3/30\n",
      "4/4 [==============================] - 3s 715ms/step - loss: 0.9819 - accuracy: 0.8760 - val_loss: 0.9001 - val_accuracy: 1.0000\n",
      "Epoch 4/30\n",
      "4/4 [==============================] - 3s 663ms/step - loss: 0.8508 - accuracy: 0.9421 - val_loss: 0.7749 - val_accuracy: 1.0000\n",
      "Epoch 5/30\n",
      "4/4 [==============================] - 3s 723ms/step - loss: 0.7252 - accuracy: 0.9835 - val_loss: 0.6545 - val_accuracy: 1.0000\n",
      "Epoch 6/30\n",
      "4/4 [==============================] - 3s 702ms/step - loss: 0.6058 - accuracy: 1.0000 - val_loss: 0.5440 - val_accuracy: 1.0000\n",
      "Epoch 7/30\n",
      "4/4 [==============================] - 3s 669ms/step - loss: 0.4999 - accuracy: 1.0000 - val_loss: 0.4460 - val_accuracy: 1.0000\n",
      "Epoch 8/30\n",
      "4/4 [==============================] - 3s 655ms/step - loss: 0.4096 - accuracy: 1.0000 - val_loss: 0.3650 - val_accuracy: 1.0000\n",
      "Epoch 9/30\n",
      "4/4 [==============================] - 3s 663ms/step - loss: 0.3351 - accuracy: 1.0000 - val_loss: 0.2970 - val_accuracy: 1.0000\n",
      "Epoch 10/30\n",
      "4/4 [==============================] - 3s 653ms/step - loss: 0.2723 - accuracy: 1.0000 - val_loss: 0.2409 - val_accuracy: 1.0000\n",
      "Epoch 11/30\n",
      "4/4 [==============================] - 3s 677ms/step - loss: 0.2205 - accuracy: 1.0000 - val_loss: 0.1940 - val_accuracy: 1.0000\n",
      "Epoch 12/30\n",
      "4/4 [==============================] - 3s 702ms/step - loss: 0.1766 - accuracy: 1.0000 - val_loss: 0.1551 - val_accuracy: 1.0000\n",
      "Epoch 13/30\n",
      "4/4 [==============================] - 3s 656ms/step - loss: 0.1423 - accuracy: 1.0000 - val_loss: 0.1243 - val_accuracy: 1.0000\n",
      "Epoch 14/30\n",
      "4/4 [==============================] - 3s 686ms/step - loss: 0.1134 - accuracy: 1.0000 - val_loss: 0.1001 - val_accuracy: 1.0000\n",
      "Epoch 15/30\n",
      "4/4 [==============================] - 3s 645ms/step - loss: 0.0916 - accuracy: 1.0000 - val_loss: 0.0821 - val_accuracy: 1.0000\n",
      "Epoch 16/30\n",
      "4/4 [==============================] - 3s 649ms/step - loss: 0.0747 - accuracy: 1.0000 - val_loss: 0.0676 - val_accuracy: 1.0000\n",
      "Epoch 17/30\n",
      "4/4 [==============================] - 3s 647ms/step - loss: 0.0617 - accuracy: 1.0000 - val_loss: 0.0563 - val_accuracy: 1.0000\n",
      "Epoch 18/30\n",
      "4/4 [==============================] - 3s 642ms/step - loss: 0.0512 - accuracy: 1.0000 - val_loss: 0.0474 - val_accuracy: 1.0000\n",
      "Epoch 19/30\n",
      "4/4 [==============================] - 3s 753ms/step - loss: 0.0433 - accuracy: 1.0000 - val_loss: 0.0399 - val_accuracy: 1.0000\n",
      "Epoch 20/30\n",
      "4/4 [==============================] - 3s 851ms/step - loss: 0.0364 - accuracy: 1.0000 - val_loss: 0.0343 - val_accuracy: 1.0000\n",
      "Epoch 21/30\n",
      "4/4 [==============================] - 3s 826ms/step - loss: 0.0312 - accuracy: 1.0000 - val_loss: 0.0296 - val_accuracy: 1.0000\n",
      "Epoch 22/30\n",
      "4/4 [==============================] - 3s 745ms/step - loss: 0.0269 - accuracy: 1.0000 - val_loss: 0.0259 - val_accuracy: 1.0000\n",
      "Epoch 23/30\n",
      "4/4 [==============================] - 3s 662ms/step - loss: 0.0236 - accuracy: 1.0000 - val_loss: 0.0228 - val_accuracy: 1.0000\n",
      "Epoch 24/30\n",
      "4/4 [==============================] - 3s 655ms/step - loss: 0.0207 - accuracy: 1.0000 - val_loss: 0.0202 - val_accuracy: 1.0000\n",
      "Epoch 25/30\n",
      "4/4 [==============================] - 3s 686ms/step - loss: 0.0184 - accuracy: 1.0000 - val_loss: 0.0181 - val_accuracy: 1.0000\n",
      "Epoch 26/30\n",
      "4/4 [==============================] - 3s 679ms/step - loss: 0.0166 - accuracy: 1.0000 - val_loss: 0.0163 - val_accuracy: 1.0000\n",
      "Epoch 27/30\n",
      "4/4 [==============================] - 3s 669ms/step - loss: 0.0150 - accuracy: 1.0000 - val_loss: 0.0148 - val_accuracy: 1.0000\n",
      "Epoch 28/30\n",
      "4/4 [==============================] - 3s 654ms/step - loss: 0.0136 - accuracy: 1.0000 - val_loss: 0.0135 - val_accuracy: 1.0000\n",
      "Epoch 29/30\n",
      "4/4 [==============================] - 3s 654ms/step - loss: 0.0124 - accuracy: 1.0000 - val_loss: 0.0124 - val_accuracy: 1.0000\n",
      "Epoch 30/30\n",
      "4/4 [==============================] - 3s 659ms/step - loss: 0.0114 - accuracy: 1.0000 - val_loss: 0.0114 - val_accuracy: 1.0000\n"
     ]
    }
   ],
   "source": [
    "history = model.fit(x=x_train, y=y_train, epochs=30, validation_data=(x_valid, y_valid))"
   ]
  },
  {
   "cell_type": "markdown",
   "id": "95bff834",
   "metadata": {},
   "source": [
    "### Результати тренування моделі"
   ]
  },
  {
   "cell_type": "code",
   "execution_count": 23,
   "id": "d174decf",
   "metadata": {
    "scrolled": false
   },
   "outputs": [
    {
     "data": {
      "image/png": "[encoded data removed]",
      "text/plain": [
       "<Figure size 640x480 with 1 Axes>"
      ]
     },
     "metadata": {},
     "output_type": "display_data"
    }
   ],
   "source": [
    "plt.plot(history.history['accuracy'], label=\"Точність\")\n",
    "plt.plot(history.history['val_accuracy'], label=\"Валідаційна точність\")\n",
    "plt.legend()\n",
    "\n",
    "plt.show()"
   ]
  },
  {
   "cell_type": "code",
   "execution_count": 24,
   "id": "e9bd5583",
   "metadata": {
    "scrolled": true
   },
   "outputs": [
    {
     "data": {
      "image/png": "[encoded data removed]",
      "text/plain": [
       "<Figure size 640x480 with 1 Axes>"
      ]
     },
     "metadata": {},
     "output_type": "display_data"
    }
   ],
   "source": [
    "plt.plot(history.history['loss'], label=\"Втрати\")\n",
    "plt.plot(history.history['val_loss'], label=\"Валідаційні втрати\")\n",
    "plt.legend()\n",
    "\n",
    "plt.show()"
   ]
  },
  {
   "cell_type": "markdown",
   "id": "40776449",
   "metadata": {},
   "source": [
    "## Перевірка моделі на тестових даних яких раніше модель не бачила"
   ]
  },
  {
   "cell_type": "code",
   "execution_count": 25,
   "id": "abcef641",
   "metadata": {},
   "outputs": [],
   "source": [
    "def pred_to_text(pred):\n",
    "    return list(class_to_num_map.keys())[list(class_to_num_map.values()).index(pred)]"
   ]
  },
  {
   "cell_type": "code",
   "execution_count": 26,
   "id": "6376607d",
   "metadata": {},
   "outputs": [
    {
     "data": {
      "text/plain": [
       "('бізнес', 'преміум', 'комфорт', 'економ')"
      ]
     },
     "execution_count": 26,
     "metadata": {},
     "output_type": "execute_result"
    }
   ],
   "source": [
    "pred_to_text(0), pred_to_text(1), pred_to_text(2), pred_to_text(3)"
   ]
  },
  {
   "cell_type": "code",
   "execution_count": 27,
   "id": "3824570b",
   "metadata": {
    "scrolled": true
   },
   "outputs": [
    {
     "name": "stdout",
     "output_type": "stream",
     "text": [
      "1/1 [==============================] - 0s 143ms/step - loss: 0.0089 - accuracy: 1.0000\n"
     ]
    },
    {
     "data": {
      "text/plain": [
       "[0.008854063227772713, 1.0]"
      ]
     },
     "execution_count": 27,
     "metadata": {},
     "output_type": "execute_result"
    }
   ],
   "source": [
    "model.evaluate(x_test, y_test)"
   ]
  },
  {
   "cell_type": "code",
   "execution_count": 28,
   "id": "033b7be3",
   "metadata": {
    "scrolled": true
   },
   "outputs": [
    {
     "name": "stdout",
     "output_type": "stream",
     "text": [
      "1/1 [==============================] - 0s 220ms/step\n"
     ]
    },
    {
     "data": {
      "text/plain": [
       "'комфорт'"
      ]
     },
     "execution_count": 28,
     "metadata": {},
     "output_type": "execute_result"
    }
   ],
   "source": [
    "pred = model.predict(x_pred)\n",
    "pred_index = np.argmax(pred)\n",
    "\n",
    "pred_to_text(pred_index)"
   ]
  },
  {
   "cell_type": "markdown",
   "id": "7e6d9c9d",
   "metadata": {},
   "source": [
    "TODO: створити новий набір даних із результатами роботи нейронної мережі і передати його на вхід до алгоритму лінійної регресії для оцінки вартості нерухомості"
   ]
  },
  {
   "cell_type": "markdown",
   "id": "9d5a1e27",
   "metadata": {},
   "source": [
    "## Генерація нового набору даних із результатами роботи нейронної мережі"
   ]
  },
  {
   "cell_type": "code",
   "execution_count": 29,
   "id": "cb7bcf87",
   "metadata": {
    "scrolled": true
   },
   "outputs": [
    {
     "name": "stdout",
     "output_type": "stream",
     "text": [
      "6/6 [==============================] - 1s 130ms/step\n"
     ]
    },
    {
     "data": {
      "text/plain": [
       "array([[9.83937204e-01, 7.91896321e-03, 8.08241870e-03, 6.13517623e-05],\n",
       "       [9.83937204e-01, 7.91896321e-03, 8.08241870e-03, 6.13517623e-05],\n",
       "       [9.83937204e-01, 7.91896321e-03, 8.08241870e-03, 6.13517623e-05],\n",
       "       [9.83937204e-01, 7.91896321e-03, 8.08241870e-03, 6.13517623e-05],\n",
       "       [9.83937204e-01, 7.91896321e-03, 8.08241870e-03, 6.13517623e-05],\n",
       "       [9.83937204e-01, 7.91896321e-03, 8.08241870e-03, 6.13517623e-05],\n",
       "       [9.83937204e-01, 7.91896321e-03, 8.08241870e-03, 6.13517623e-05],\n",
       "       [9.83937204e-01, 7.91896321e-03, 8.08241870e-03, 6.13517623e-05],\n",
       "       [9.83937204e-01, 7.91896321e-03, 8.08241870e-03, 6.13517623e-05],\n",
       "       [9.83937204e-01, 7.91896321e-03, 8.08241870e-03, 6.13517623e-05],\n",
       "       [2.25038850e-03, 1.37307914e-03, 9.95799482e-01, 5.77017432e-04],\n",
       "       [2.25038850e-03, 1.37307914e-03, 9.95799482e-01, 5.77017432e-04],\n",
       "       [2.25038850e-03, 1.37307914e-03, 9.95799482e-01, 5.77017432e-04],\n",
       "       [2.25038850e-03, 1.37307914e-03, 9.95799482e-01, 5.77017432e-04],\n",
       "       [2.25038850e-03, 1.37307914e-03, 9.95799482e-01, 5.77017432e-04],\n",
       "       [2.25038850e-03, 1.37307914e-03, 9.95799482e-01, 5.77017432e-04],\n",
       "       [2.25038850e-03, 1.37307914e-03, 9.95799482e-01, 5.77017432e-04],\n",
       "       [2.25038850e-03, 1.37307914e-03, 9.95799482e-01, 5.77017432e-04],\n",
       "       [2.25038850e-03, 1.37307914e-03, 9.95799482e-01, 5.77017432e-04],\n",
       "       [2.25038850e-03, 1.37307914e-03, 9.95799482e-01, 5.77017432e-04],\n",
       "       [2.25038850e-03, 1.37307914e-03, 9.95799482e-01, 5.77017432e-04],\n",
       "       [2.25038850e-03, 1.37307914e-03, 9.95799482e-01, 5.77017432e-04],\n",
       "       [2.25038850e-03, 1.37307914e-03, 9.95799482e-01, 5.77017432e-04],\n",
       "       [2.25038850e-03, 1.37307914e-03, 9.95799482e-01, 5.77017432e-04],\n",
       "       [2.25038850e-03, 1.37307914e-03, 9.95799482e-01, 5.77017432e-04],\n",
       "       [2.25038850e-03, 1.37307914e-03, 9.95799482e-01, 5.77017432e-04],\n",
       "       [2.25038850e-03, 1.37307914e-03, 9.95799482e-01, 5.77017432e-04],\n",
       "       [2.25038850e-03, 1.37307914e-03, 9.95799482e-01, 5.77017432e-04],\n",
       "       [2.25038850e-03, 1.37307914e-03, 9.95799482e-01, 5.77017432e-04],\n",
       "       [2.25038850e-03, 1.37307914e-03, 9.95799482e-01, 5.77017432e-04],\n",
       "       [2.25038966e-03, 1.37307972e-03, 9.95799482e-01, 5.77017665e-04],\n",
       "       [1.01244519e-03, 1.46733911e-03, 9.96964991e-01, 5.55157836e-04],\n",
       "       [1.01244368e-03, 1.46733981e-03, 9.96964991e-01, 5.55157312e-04],\n",
       "       [1.01244368e-03, 1.46733981e-03, 9.96964991e-01, 5.55157312e-04],\n",
       "       [1.01244368e-03, 1.46733981e-03, 9.96964991e-01, 5.55157312e-04],\n",
       "       [1.01244368e-03, 1.46733981e-03, 9.96964991e-01, 5.55157312e-04],\n",
       "       [1.01244368e-03, 1.46733981e-03, 9.96964991e-01, 5.55157312e-04],\n",
       "       [1.01244368e-03, 1.46733981e-03, 9.96964991e-01, 5.55157312e-04],\n",
       "       [1.01244368e-03, 1.46733981e-03, 9.96964991e-01, 5.55157312e-04],\n",
       "       [1.01244368e-03, 1.46733981e-03, 9.96964991e-01, 5.55157312e-04],\n",
       "       [1.01244368e-03, 1.46733981e-03, 9.96964991e-01, 5.55157312e-04],\n",
       "       [1.01244368e-03, 1.46733981e-03, 9.96964991e-01, 5.55157312e-04],\n",
       "       [1.01244368e-03, 1.46733981e-03, 9.96964991e-01, 5.55157312e-04],\n",
       "       [1.01244368e-03, 1.46733981e-03, 9.96964991e-01, 5.55157312e-04],\n",
       "       [1.01244368e-03, 1.46733981e-03, 9.96964991e-01, 5.55157312e-04],\n",
       "       [1.01244368e-03, 1.46733981e-03, 9.96964991e-01, 5.55157312e-04],\n",
       "       [1.01244368e-03, 1.46733981e-03, 9.96964991e-01, 5.55157312e-04],\n",
       "       [1.01244368e-03, 1.46733981e-03, 9.96964991e-01, 5.55157312e-04],\n",
       "       [1.01244368e-03, 1.46733981e-03, 9.96964991e-01, 5.55157312e-04],\n",
       "       [1.01244368e-03, 1.46733981e-03, 9.96964991e-01, 5.55157312e-04],\n",
       "       [1.01244368e-03, 1.46733981e-03, 9.96964991e-01, 5.55157312e-04],\n",
       "       [1.01244368e-03, 1.46733981e-03, 9.96964991e-01, 5.55157312e-04],\n",
       "       [1.01244368e-03, 1.46733981e-03, 9.96964991e-01, 5.55157312e-04],\n",
       "       [1.01244368e-03, 1.46733981e-03, 9.96964991e-01, 5.55157312e-04],\n",
       "       [1.01244368e-03, 1.46733981e-03, 9.96964991e-01, 5.55157312e-04],\n",
       "       [1.01244368e-03, 1.46733981e-03, 9.96964991e-01, 5.55157312e-04],\n",
       "       [1.01244368e-03, 1.46733981e-03, 9.96964991e-01, 5.55157312e-04],\n",
       "       [1.01244368e-03, 1.46733981e-03, 9.96964991e-01, 5.55157312e-04],\n",
       "       [1.01244368e-03, 1.46733981e-03, 9.96964991e-01, 5.55157312e-04],\n",
       "       [1.01244368e-03, 1.46733981e-03, 9.96964991e-01, 5.55157312e-04],\n",
       "       [1.01244368e-03, 1.46733981e-03, 9.96964991e-01, 5.55157312e-04],\n",
       "       [1.01244368e-03, 1.46733981e-03, 9.96964991e-01, 5.55157312e-04],\n",
       "       [1.14265340e-03, 8.53017904e-04, 9.97841716e-01, 1.62593089e-04],\n",
       "       [1.14265340e-03, 8.53017904e-04, 9.97841716e-01, 1.62593089e-04],\n",
       "       [1.14265224e-03, 8.53017904e-04, 9.97841716e-01, 1.62593089e-04],\n",
       "       [1.15747575e-03, 8.48536729e-04, 9.97829378e-01, 1.64592697e-04],\n",
       "       [1.14265224e-03, 8.53017904e-04, 9.97841716e-01, 1.62593089e-04],\n",
       "       [1.14265224e-03, 8.53017904e-04, 9.97841716e-01, 1.62593089e-04],\n",
       "       [1.15747575e-03, 8.48536729e-04, 9.97829378e-01, 1.64592697e-04],\n",
       "       [1.14265224e-03, 8.53017904e-04, 9.97841716e-01, 1.62593089e-04],\n",
       "       [1.14265224e-03, 8.53017904e-04, 9.97841716e-01, 1.62593089e-04],\n",
       "       [1.14265224e-03, 8.53017904e-04, 9.97841716e-01, 1.62593089e-04],\n",
       "       [1.14265224e-03, 8.53017904e-04, 9.97841716e-01, 1.62593089e-04],\n",
       "       [1.14265224e-03, 8.53017904e-04, 9.97841716e-01, 1.62593089e-04],\n",
       "       [1.14265224e-03, 8.53017904e-04, 9.97841716e-01, 1.62593089e-04],\n",
       "       [1.14265224e-03, 8.53017904e-04, 9.97841716e-01, 1.62593089e-04],\n",
       "       [1.14265224e-03, 8.53017904e-04, 9.97841716e-01, 1.62593089e-04],\n",
       "       [1.14265224e-03, 8.53017904e-04, 9.97841716e-01, 1.62593089e-04],\n",
       "       [1.15747575e-03, 8.48536729e-04, 9.97829378e-01, 1.64592697e-04],\n",
       "       [1.14265224e-03, 8.53017904e-04, 9.97841716e-01, 1.62593089e-04],\n",
       "       [1.15747575e-03, 8.48536729e-04, 9.97829378e-01, 1.64592697e-04],\n",
       "       [1.14265224e-03, 8.53017904e-04, 9.97841716e-01, 1.62593089e-04],\n",
       "       [1.14265224e-03, 8.53017904e-04, 9.97841716e-01, 1.62593089e-04],\n",
       "       [9.79486823e-01, 9.78674460e-03, 1.06206452e-02, 1.05847794e-04],\n",
       "       [9.79486823e-01, 9.78674460e-03, 1.06206452e-02, 1.05847794e-04],\n",
       "       [9.79486823e-01, 9.78674460e-03, 1.06206452e-02, 1.05847794e-04],\n",
       "       [9.79486823e-01, 9.78674460e-03, 1.06206452e-02, 1.05847794e-04],\n",
       "       [9.79486823e-01, 9.78674460e-03, 1.06206452e-02, 1.05847794e-04],\n",
       "       [9.79486823e-01, 9.78674460e-03, 1.06206452e-02, 1.05847794e-04],\n",
       "       [9.79486823e-01, 9.78674460e-03, 1.06206452e-02, 1.05847794e-04],\n",
       "       [9.79486823e-01, 9.78674460e-03, 1.06206452e-02, 1.05847794e-04],\n",
       "       [9.79486823e-01, 9.78674460e-03, 1.06206452e-02, 1.05847794e-04],\n",
       "       [9.79486823e-01, 9.78674460e-03, 1.06206452e-02, 1.05847794e-04],\n",
       "       [9.79486823e-01, 9.78674460e-03, 1.06206452e-02, 1.05847794e-04],\n",
       "       [9.79486823e-01, 9.78674926e-03, 1.06206452e-02, 1.05847794e-04],\n",
       "       [9.79486823e-01, 9.78674926e-03, 1.06206452e-02, 1.05847794e-04],\n",
       "       [9.79486823e-01, 9.78674460e-03, 1.06206452e-02, 1.05847794e-04],\n",
       "       [9.79486823e-01, 9.78674460e-03, 1.06206452e-02, 1.05847794e-04],\n",
       "       [9.79486823e-01, 9.78674460e-03, 1.06206452e-02, 1.05847794e-04],\n",
       "       [9.79486823e-01, 9.78674460e-03, 1.06206452e-02, 1.05847794e-04],\n",
       "       [9.79486823e-01, 9.78674460e-03, 1.06206452e-02, 1.05847794e-04],\n",
       "       [8.39919318e-03, 9.84130800e-01, 7.46939192e-03, 5.82462860e-07],\n",
       "       [8.39919318e-03, 9.84130800e-01, 7.46939192e-03, 5.82462860e-07],\n",
       "       [8.39919318e-03, 9.84130800e-01, 7.46939192e-03, 5.82462860e-07],\n",
       "       [8.39919318e-03, 9.84130800e-01, 7.46939192e-03, 5.82462860e-07],\n",
       "       [8.39919318e-03, 9.84130800e-01, 7.46939192e-03, 5.82462860e-07],\n",
       "       [8.39919318e-03, 9.84130800e-01, 7.46939192e-03, 5.82462860e-07],\n",
       "       [8.39919318e-03, 9.84130800e-01, 7.46939192e-03, 5.82462860e-07],\n",
       "       [8.39919318e-03, 9.84130800e-01, 7.46939192e-03, 5.82462860e-07],\n",
       "       [8.39919318e-03, 9.84130800e-01, 7.46939192e-03, 5.82462860e-07],\n",
       "       [8.39919318e-03, 9.84130800e-01, 7.46939192e-03, 5.82462860e-07],\n",
       "       [8.39919318e-03, 9.84130800e-01, 7.46939192e-03, 5.82462860e-07],\n",
       "       [8.39919318e-03, 9.84130800e-01, 7.46939192e-03, 5.82462860e-07],\n",
       "       [8.39919318e-03, 9.84130800e-01, 7.46939192e-03, 5.82462860e-07],\n",
       "       [8.39919318e-03, 9.84130800e-01, 7.46939192e-03, 5.82462860e-07],\n",
       "       [8.39919318e-03, 9.84130800e-01, 7.46939192e-03, 5.82462860e-07],\n",
       "       [8.39919318e-03, 9.84130800e-01, 7.46939192e-03, 5.82462860e-07],\n",
       "       [8.39919318e-03, 9.84130800e-01, 7.46939192e-03, 5.82462860e-07],\n",
       "       [8.39919318e-03, 9.84130800e-01, 7.46939192e-03, 5.82462860e-07],\n",
       "       [8.39919318e-03, 9.84130800e-01, 7.46939192e-03, 5.82462860e-07],\n",
       "       [8.39919318e-03, 9.84130800e-01, 7.46939192e-03, 5.82462860e-07],\n",
       "       [8.39919318e-03, 9.84130800e-01, 7.46939192e-03, 5.82462860e-07],\n",
       "       [8.39919318e-03, 9.84130800e-01, 7.46939192e-03, 5.82462860e-07],\n",
       "       [8.39919318e-03, 9.84130800e-01, 7.46939192e-03, 5.82462860e-07],\n",
       "       [9.73014176e-01, 1.35011002e-02, 1.33113526e-02, 1.73384760e-04],\n",
       "       [9.73014176e-01, 1.35011002e-02, 1.33113526e-02, 1.73384760e-04],\n",
       "       [9.73014176e-01, 1.35011068e-02, 1.33113395e-02, 1.73384760e-04],\n",
       "       [9.73014176e-01, 1.35011068e-02, 1.33113395e-02, 1.73384760e-04],\n",
       "       [9.73014176e-01, 1.35011002e-02, 1.33113526e-02, 1.73384760e-04],\n",
       "       [9.73014176e-01, 1.35011002e-02, 1.33113526e-02, 1.73384760e-04],\n",
       "       [9.73014176e-01, 1.35011002e-02, 1.33113526e-02, 1.73384760e-04],\n",
       "       [6.90520089e-03, 4.18400625e-03, 9.86777902e-01, 2.13289284e-03],\n",
       "       [6.90520089e-03, 4.18400625e-03, 9.86777902e-01, 2.13289284e-03],\n",
       "       [6.90520089e-03, 4.18400625e-03, 9.86777902e-01, 2.13289284e-03],\n",
       "       [6.90520089e-03, 4.18400625e-03, 9.86777902e-01, 2.13289284e-03],\n",
       "       [6.90520089e-03, 4.18400625e-03, 9.86777902e-01, 2.13289284e-03],\n",
       "       [6.90520089e-03, 4.18400625e-03, 9.86777902e-01, 2.13289284e-03],\n",
       "       [6.90520089e-03, 4.18400625e-03, 9.86777902e-01, 2.13289284e-03],\n",
       "       [6.90520089e-03, 4.18400625e-03, 9.86777902e-01, 2.13289284e-03],\n",
       "       [6.90520089e-03, 4.18400625e-03, 9.86777902e-01, 2.13289284e-03],\n",
       "       [9.84024823e-01, 7.86321331e-03, 8.05073511e-03, 6.12151998e-05],\n",
       "       [9.84024823e-01, 7.86321331e-03, 8.05073511e-03, 6.12151998e-05],\n",
       "       [9.84024823e-01, 7.86321331e-03, 8.05073511e-03, 6.12151998e-05],\n",
       "       [9.84024823e-01, 7.86321331e-03, 8.05073511e-03, 6.12151998e-05],\n",
       "       [9.84024823e-01, 7.86321331e-03, 8.05073511e-03, 6.12151998e-05],\n",
       "       [9.84024823e-01, 7.86321331e-03, 8.05073511e-03, 6.12151998e-05],\n",
       "       [9.84024823e-01, 7.86321331e-03, 8.05073511e-03, 6.12151998e-05],\n",
       "       [9.84024823e-01, 7.86321331e-03, 8.05073511e-03, 6.12151998e-05],\n",
       "       [9.84024823e-01, 7.86321331e-03, 8.05073511e-03, 6.12151998e-05],\n",
       "       [9.84024823e-01, 7.86321331e-03, 8.05073511e-03, 6.12151998e-05],\n",
       "       [9.84024823e-01, 7.86321331e-03, 8.05073511e-03, 6.12151998e-05],\n",
       "       [9.84024823e-01, 7.86321331e-03, 8.05073511e-03, 6.12151998e-05],\n",
       "       [9.84024823e-01, 7.86321331e-03, 8.05073511e-03, 6.12151998e-05],\n",
       "       [9.84024823e-01, 7.86321331e-03, 8.05073511e-03, 6.12151998e-05],\n",
       "       [9.84024823e-01, 7.86321331e-03, 8.05073511e-03, 6.12151998e-05],\n",
       "       [9.84024823e-01, 7.86321331e-03, 8.05073511e-03, 6.12151998e-05],\n",
       "       [9.84024823e-01, 7.86321331e-03, 8.05073511e-03, 6.12151998e-05],\n",
       "       [2.52853730e-03, 3.60251614e-03, 9.92359579e-01, 1.50939508e-03],\n",
       "       [2.52853613e-03, 3.60251265e-03, 9.92359579e-01, 1.50939508e-03],\n",
       "       [2.52853613e-03, 3.60251265e-03, 9.92359579e-01, 1.50939508e-03],\n",
       "       [2.52853730e-03, 3.60251614e-03, 9.92359579e-01, 1.50939508e-03],\n",
       "       [2.52853730e-03, 3.60251614e-03, 9.92359579e-01, 1.50939508e-03],\n",
       "       [2.52853730e-03, 3.60251614e-03, 9.92359579e-01, 1.50939508e-03],\n",
       "       [2.52853730e-03, 3.60251614e-03, 9.92359579e-01, 1.50939508e-03],\n",
       "       [2.52853730e-03, 3.60251614e-03, 9.92359579e-01, 1.50939508e-03],\n",
       "       [2.52853730e-03, 3.60251614e-03, 9.92359579e-01, 1.50939508e-03],\n",
       "       [2.52853613e-03, 3.60251265e-03, 9.92359579e-01, 1.50939438e-03],\n",
       "       [2.52853613e-03, 3.60251265e-03, 9.92359579e-01, 1.50939438e-03],\n",
       "       [2.52853613e-03, 3.60251265e-03, 9.92359579e-01, 1.50939438e-03]],\n",
       "      dtype=float32)"
      ]
     },
     "execution_count": 29,
     "metadata": {},
     "output_type": "execute_result"
    }
   ],
   "source": [
    "predicted = model.predict(df_initial['description'].values)\n",
    "predicted"
   ]
  },
  {
   "cell_type": "code",
   "execution_count": 30,
   "id": "444a18f4",
   "metadata": {
    "scrolled": true
   },
   "outputs": [
    {
     "data": {
      "text/plain": [
       "['бізнес',\n",
       " 'бізнес',\n",
       " 'бізнес',\n",
       " 'бізнес',\n",
       " 'бізнес',\n",
       " 'бізнес',\n",
       " 'бізнес',\n",
       " 'бізнес',\n",
       " 'бізнес',\n",
       " 'бізнес',\n",
       " 'комфорт',\n",
       " 'комфорт',\n",
       " 'комфорт',\n",
       " 'комфорт',\n",
       " 'комфорт',\n",
       " 'комфорт',\n",
       " 'комфорт',\n",
       " 'комфорт',\n",
       " 'комфорт',\n",
       " 'комфорт',\n",
       " 'комфорт',\n",
       " 'комфорт',\n",
       " 'комфорт',\n",
       " 'комфорт',\n",
       " 'комфорт',\n",
       " 'комфорт',\n",
       " 'комфорт',\n",
       " 'комфорт',\n",
       " 'комфорт',\n",
       " 'комфорт',\n",
       " 'комфорт',\n",
       " 'комфорт',\n",
       " 'комфорт',\n",
       " 'комфорт',\n",
       " 'комфорт',\n",
       " 'комфорт',\n",
       " 'комфорт',\n",
       " 'комфорт',\n",
       " 'комфорт',\n",
       " 'комфорт',\n",
       " 'комфорт',\n",
       " 'комфорт',\n",
       " 'комфорт',\n",
       " 'комфорт',\n",
       " 'комфорт',\n",
       " 'комфорт',\n",
       " 'комфорт',\n",
       " 'комфорт',\n",
       " 'комфорт',\n",
       " 'комфорт',\n",
       " 'комфорт',\n",
       " 'комфорт',\n",
       " 'комфорт',\n",
       " 'комфорт',\n",
       " 'комфорт',\n",
       " 'комфорт',\n",
       " 'комфорт',\n",
       " 'комфорт',\n",
       " 'комфорт',\n",
       " 'комфорт',\n",
       " 'комфорт',\n",
       " 'комфорт',\n",
       " 'комфорт',\n",
       " 'комфорт',\n",
       " 'комфорт',\n",
       " 'комфорт',\n",
       " 'комфорт',\n",
       " 'комфорт',\n",
       " 'комфорт',\n",
       " 'комфорт',\n",
       " 'комфорт',\n",
       " 'комфорт',\n",
       " 'комфорт',\n",
       " 'комфорт',\n",
       " 'комфорт',\n",
       " 'комфорт',\n",
       " 'комфорт',\n",
       " 'комфорт',\n",
       " 'комфорт',\n",
       " 'комфорт',\n",
       " 'комфорт',\n",
       " 'комфорт',\n",
       " 'комфорт',\n",
       " 'бізнес',\n",
       " 'бізнес',\n",
       " 'бізнес',\n",
       " 'бізнес',\n",
       " 'бізнес',\n",
       " 'бізнес',\n",
       " 'бізнес',\n",
       " 'бізнес',\n",
       " 'бізнес',\n",
       " 'бізнес',\n",
       " 'бізнес',\n",
       " 'бізнес',\n",
       " 'бізнес',\n",
       " 'бізнес',\n",
       " 'бізнес',\n",
       " 'бізнес',\n",
       " 'бізнес',\n",
       " 'бізнес',\n",
       " 'преміум',\n",
       " 'преміум',\n",
       " 'преміум',\n",
       " 'преміум',\n",
       " 'преміум',\n",
       " 'преміум',\n",
       " 'преміум',\n",
       " 'преміум',\n",
       " 'преміум',\n",
       " 'преміум',\n",
       " 'преміум',\n",
       " 'преміум',\n",
       " 'преміум',\n",
       " 'преміум',\n",
       " 'преміум',\n",
       " 'преміум',\n",
       " 'преміум',\n",
       " 'преміум',\n",
       " 'преміум',\n",
       " 'преміум',\n",
       " 'преміум',\n",
       " 'преміум',\n",
       " 'преміум',\n",
       " 'бізнес',\n",
       " 'бізнес',\n",
       " 'бізнес',\n",
       " 'бізнес',\n",
       " 'бізнес',\n",
       " 'бізнес',\n",
       " 'бізнес',\n",
       " 'комфорт',\n",
       " 'комфорт',\n",
       " 'комфорт',\n",
       " 'комфорт',\n",
       " 'комфорт',\n",
       " 'комфорт',\n",
       " 'комфорт',\n",
       " 'комфорт',\n",
       " 'комфорт',\n",
       " 'бізнес',\n",
       " 'бізнес',\n",
       " 'бізнес',\n",
       " 'бізнес',\n",
       " 'бізнес',\n",
       " 'бізнес',\n",
       " 'бізнес',\n",
       " 'бізнес',\n",
       " 'бізнес',\n",
       " 'бізнес',\n",
       " 'бізнес',\n",
       " 'бізнес',\n",
       " 'бізнес',\n",
       " 'бізнес',\n",
       " 'бізнес',\n",
       " 'бізнес',\n",
       " 'бізнес',\n",
       " 'комфорт',\n",
       " 'комфорт',\n",
       " 'комфорт',\n",
       " 'комфорт',\n",
       " 'комфорт',\n",
       " 'комфорт',\n",
       " 'комфорт',\n",
       " 'комфорт',\n",
       " 'комфорт',\n",
       " 'комфорт',\n",
       " 'комфорт',\n",
       " 'комфорт']"
      ]
     },
     "execution_count": 30,
     "metadata": {},
     "output_type": "execute_result"
    }
   ],
   "source": [
    "predicted_to_human_readable = list(map(lambda categorical: pred_to_text(np.argmax(categorical)), predicted))\n",
    "predicted_to_human_readable"
   ]
  },
  {
   "cell_type": "code",
   "execution_count": 31,
   "id": "25ccca7a",
   "metadata": {},
   "outputs": [],
   "source": [
    "crafted_dataset = df_initial.copy()"
   ]
  },
  {
   "cell_type": "code",
   "execution_count": 32,
   "id": "8f4ea615",
   "metadata": {},
   "outputs": [
    {
     "data": {
      "text/plain": [
       "((169, 17), 169)"
      ]
     },
     "execution_count": 32,
     "metadata": {},
     "output_type": "execute_result"
    }
   ],
   "source": [
    "crafted_dataset.shape, len(predicted_to_human_readable)"
   ]
  },
  {
   "cell_type": "code",
   "execution_count": 33,
   "id": "dca0e26a",
   "metadata": {},
   "outputs": [],
   "source": [
    "crafted_dataset['predictedClass'] = predicted_to_human_readable"
   ]
  },
  {
   "cell_type": "code",
   "execution_count": 34,
   "id": "33f35178",
   "metadata": {
    "scrolled": true
   },
   "outputs": [
    {
     "data": {
      "text/html": [
       "<div>\n",
       "<style scoped>\n",
       "    .dataframe tbody tr th:only-of-type {\n",
       "        vertical-align: middle;\n",
       "    }\n",
       "\n",
       "    .dataframe tbody tr th {\n",
       "        vertical-align: top;\n",
       "    }\n",
       "\n",
       "    .dataframe thead th {\n",
       "        text-align: right;\n",
       "    }\n",
       "</style>\n",
       "<table border=\"1\" class=\"dataframe\">\n",
       "  <thead>\n",
       "    <tr style=\"text-align: right;\">\n",
       "      <th></th>\n",
       "      <th>residence</th>\n",
       "      <th>developer</th>\n",
       "      <th>description</th>\n",
       "      <th>address</th>\n",
       "      <th>district</th>\n",
       "      <th>class</th>\n",
       "      <th>ceilingHeight</th>\n",
       "      <th>numApartmentsTotal</th>\n",
       "      <th>year</th>\n",
       "      <th>pricePerSquareMeter</th>\n",
       "      <th>price</th>\n",
       "      <th>area</th>\n",
       "      <th>rooms</th>\n",
       "      <th>floor</th>\n",
       "      <th>minutesToCityCenter</th>\n",
       "      <th>assess</th>\n",
       "      <th>crimeRateInDistrict</th>\n",
       "      <th>predictedClass</th>\n",
       "    </tr>\n",
       "  </thead>\n",
       "  <tbody>\n",
       "    <tr>\n",
       "      <th>0</th>\n",
       "      <td>А136 Highlight Tower</td>\n",
       "      <td>DIM</td>\n",
       "      <td>Residential complex A136 Highlight Tower is a ...</td>\n",
       "      <td>вул. Антоновича, 136-138</td>\n",
       "      <td>Голосіївський р-н</td>\n",
       "      <td>бізнес</td>\n",
       "      <td>3</td>\n",
       "      <td>324</td>\n",
       "      <td>2023.0</td>\n",
       "      <td>137800.0</td>\n",
       "      <td>7441200.0</td>\n",
       "      <td>54</td>\n",
       "      <td>1</td>\n",
       "      <td>18.0</td>\n",
       "      <td>48</td>\n",
       "      <td>52536</td>\n",
       "      <td>2317</td>\n",
       "      <td>бізнес</td>\n",
       "    </tr>\n",
       "    <tr>\n",
       "      <th>1</th>\n",
       "      <td>А136 Highlight Tower</td>\n",
       "      <td>DIM</td>\n",
       "      <td>Residential complex A136 Highlight Tower is a ...</td>\n",
       "      <td>вул. Антоновича, 136-138</td>\n",
       "      <td>Голосіївський р-н</td>\n",
       "      <td>бізнес</td>\n",
       "      <td>3</td>\n",
       "      <td>324</td>\n",
       "      <td>2023.0</td>\n",
       "      <td>137800.0</td>\n",
       "      <td>7992400.0</td>\n",
       "      <td>58</td>\n",
       "      <td>1</td>\n",
       "      <td>NaN</td>\n",
       "      <td>48</td>\n",
       "      <td>52536</td>\n",
       "      <td>2317</td>\n",
       "      <td>бізнес</td>\n",
       "    </tr>\n",
       "    <tr>\n",
       "      <th>2</th>\n",
       "      <td>А136 Highlight Tower</td>\n",
       "      <td>DIM</td>\n",
       "      <td>Residential complex A136 Highlight Tower is a ...</td>\n",
       "      <td>вул. Антоновича, 136-138</td>\n",
       "      <td>Голосіївський р-н</td>\n",
       "      <td>бізнес</td>\n",
       "      <td>3</td>\n",
       "      <td>324</td>\n",
       "      <td>2023.0</td>\n",
       "      <td>125275.0</td>\n",
       "      <td>10022000.0</td>\n",
       "      <td>80</td>\n",
       "      <td>2</td>\n",
       "      <td>7.0</td>\n",
       "      <td>48</td>\n",
       "      <td>52536</td>\n",
       "      <td>2317</td>\n",
       "      <td>бізнес</td>\n",
       "    </tr>\n",
       "    <tr>\n",
       "      <th>3</th>\n",
       "      <td>А136 Highlight Tower</td>\n",
       "      <td>DIM</td>\n",
       "      <td>Residential complex A136 Highlight Tower is a ...</td>\n",
       "      <td>вул. Антоновича, 136-138</td>\n",
       "      <td>Голосіївський р-н</td>\n",
       "      <td>бізнес</td>\n",
       "      <td>3</td>\n",
       "      <td>324</td>\n",
       "      <td>2023.0</td>\n",
       "      <td>125275.0</td>\n",
       "      <td>10147275.0</td>\n",
       "      <td>81</td>\n",
       "      <td>2</td>\n",
       "      <td>13.0</td>\n",
       "      <td>48</td>\n",
       "      <td>52536</td>\n",
       "      <td>2317</td>\n",
       "      <td>бізнес</td>\n",
       "    </tr>\n",
       "    <tr>\n",
       "      <th>4</th>\n",
       "      <td>А136 Highlight Tower</td>\n",
       "      <td>DIM</td>\n",
       "      <td>Residential complex A136 Highlight Tower is a ...</td>\n",
       "      <td>вул. Антоновича, 136-138</td>\n",
       "      <td>Голосіївський р-н</td>\n",
       "      <td>бізнес</td>\n",
       "      <td>3</td>\n",
       "      <td>324</td>\n",
       "      <td>2023.0</td>\n",
       "      <td>125275.0</td>\n",
       "      <td>10648375.0</td>\n",
       "      <td>85</td>\n",
       "      <td>2</td>\n",
       "      <td>17.0</td>\n",
       "      <td>48</td>\n",
       "      <td>52536</td>\n",
       "      <td>2317</td>\n",
       "      <td>бізнес</td>\n",
       "    </tr>\n",
       "    <tr>\n",
       "      <th>...</th>\n",
       "      <td>...</td>\n",
       "      <td>...</td>\n",
       "      <td>...</td>\n",
       "      <td>...</td>\n",
       "      <td>...</td>\n",
       "      <td>...</td>\n",
       "      <td>...</td>\n",
       "      <td>...</td>\n",
       "      <td>...</td>\n",
       "      <td>...</td>\n",
       "      <td>...</td>\n",
       "      <td>...</td>\n",
       "      <td>...</td>\n",
       "      <td>...</td>\n",
       "      <td>...</td>\n",
       "      <td>...</td>\n",
       "      <td>...</td>\n",
       "      <td>...</td>\n",
       "    </tr>\n",
       "    <tr>\n",
       "      <th>164</th>\n",
       "      <td>ЖК 4 сезони</td>\n",
       "      <td>УМК</td>\n",
       "      <td>The 4 Seasons residential complex in Kyiv is a...</td>\n",
       "      <td>вул. Михайла Максимовича (Трутенка), 3г</td>\n",
       "      <td>Голосіївський р-н</td>\n",
       "      <td>комфорт</td>\n",
       "      <td>2</td>\n",
       "      <td>2060</td>\n",
       "      <td>2024.0</td>\n",
       "      <td>NaN</td>\n",
       "      <td>NaN</td>\n",
       "      <td>97</td>\n",
       "      <td>3</td>\n",
       "      <td>25.0</td>\n",
       "      <td>109</td>\n",
       "      <td>52536</td>\n",
       "      <td>2317</td>\n",
       "      <td>комфорт</td>\n",
       "    </tr>\n",
       "    <tr>\n",
       "      <th>165</th>\n",
       "      <td>ЖК 4 сезони</td>\n",
       "      <td>УМК</td>\n",
       "      <td>The 4 Seasons residential complex in Kyiv is a...</td>\n",
       "      <td>вул. Михайла Максимовича (Трутенка), 3г</td>\n",
       "      <td>Голосіївський р-н</td>\n",
       "      <td>комфорт</td>\n",
       "      <td>2</td>\n",
       "      <td>2060</td>\n",
       "      <td>2024.0</td>\n",
       "      <td>NaN</td>\n",
       "      <td>NaN</td>\n",
       "      <td>106</td>\n",
       "      <td>3</td>\n",
       "      <td>25.0</td>\n",
       "      <td>109</td>\n",
       "      <td>52536</td>\n",
       "      <td>2317</td>\n",
       "      <td>комфорт</td>\n",
       "    </tr>\n",
       "    <tr>\n",
       "      <th>166</th>\n",
       "      <td>ЖК 4 сезони</td>\n",
       "      <td>УМК</td>\n",
       "      <td>The 4 Seasons residential complex in Kyiv is a...</td>\n",
       "      <td>вул. Михайла Максимовича (Трутенка), 3г</td>\n",
       "      <td>Голосіївський р-н</td>\n",
       "      <td>комфорт</td>\n",
       "      <td>2</td>\n",
       "      <td>2060</td>\n",
       "      <td>2024.0</td>\n",
       "      <td>NaN</td>\n",
       "      <td>NaN</td>\n",
       "      <td>117</td>\n",
       "      <td>3</td>\n",
       "      <td>25.0</td>\n",
       "      <td>109</td>\n",
       "      <td>52536</td>\n",
       "      <td>2317</td>\n",
       "      <td>комфорт</td>\n",
       "    </tr>\n",
       "    <tr>\n",
       "      <th>167</th>\n",
       "      <td>ЖК 4 сезони</td>\n",
       "      <td>УМК</td>\n",
       "      <td>The 4 Seasons residential complex in Kyiv is a...</td>\n",
       "      <td>вул. Михайла Максимовича (Трутенка), 3г</td>\n",
       "      <td>Голосіївський р-н</td>\n",
       "      <td>комфорт</td>\n",
       "      <td>2</td>\n",
       "      <td>2060</td>\n",
       "      <td>2024.0</td>\n",
       "      <td>NaN</td>\n",
       "      <td>NaN</td>\n",
       "      <td>134</td>\n",
       "      <td>3</td>\n",
       "      <td>25.0</td>\n",
       "      <td>109</td>\n",
       "      <td>52536</td>\n",
       "      <td>2317</td>\n",
       "      <td>комфорт</td>\n",
       "    </tr>\n",
       "    <tr>\n",
       "      <th>168</th>\n",
       "      <td>ЖК 4 сезони</td>\n",
       "      <td>УМК</td>\n",
       "      <td>The 4 Seasons residential complex in Kyiv is a...</td>\n",
       "      <td>вул. Михайла Максимовича (Трутенка), 3г</td>\n",
       "      <td>Голосіївський р-н</td>\n",
       "      <td>комфорт</td>\n",
       "      <td>2</td>\n",
       "      <td>2060</td>\n",
       "      <td>2024.0</td>\n",
       "      <td>NaN</td>\n",
       "      <td>NaN</td>\n",
       "      <td>141</td>\n",
       "      <td>4</td>\n",
       "      <td>25.0</td>\n",
       "      <td>109</td>\n",
       "      <td>52536</td>\n",
       "      <td>2317</td>\n",
       "      <td>комфорт</td>\n",
       "    </tr>\n",
       "  </tbody>\n",
       "</table>\n",
       "<p>169 rows × 18 columns</p>\n",
       "</div>"
      ],
      "text/plain": [
       "                residence developer  \\\n",
       "0    А136 Highlight Tower       DIM   \n",
       "1    А136 Highlight Tower       DIM   \n",
       "2    А136 Highlight Tower       DIM   \n",
       "3    А136 Highlight Tower       DIM   \n",
       "4    А136 Highlight Tower       DIM   \n",
       "..                    ...       ...   \n",
       "164           ЖК 4 сезони       УМК   \n",
       "165           ЖК 4 сезони       УМК   \n",
       "166           ЖК 4 сезони       УМК   \n",
       "167           ЖК 4 сезони       УМК   \n",
       "168           ЖК 4 сезони       УМК   \n",
       "\n",
       "                                           description  \\\n",
       "0    Residential complex A136 Highlight Tower is a ...   \n",
       "1    Residential complex A136 Highlight Tower is a ...   \n",
       "2    Residential complex A136 Highlight Tower is a ...   \n",
       "3    Residential complex A136 Highlight Tower is a ...   \n",
       "4    Residential complex A136 Highlight Tower is a ...   \n",
       "..                                                 ...   \n",
       "164  The 4 Seasons residential complex in Kyiv is a...   \n",
       "165  The 4 Seasons residential complex in Kyiv is a...   \n",
       "166  The 4 Seasons residential complex in Kyiv is a...   \n",
       "167  The 4 Seasons residential complex in Kyiv is a...   \n",
       "168  The 4 Seasons residential complex in Kyiv is a...   \n",
       "\n",
       "                                     address           district    class  \\\n",
       "0                   вул. Антоновича, 136-138  Голосіївський р-н   бізнес   \n",
       "1                   вул. Антоновича, 136-138  Голосіївський р-н   бізнес   \n",
       "2                   вул. Антоновича, 136-138  Голосіївський р-н   бізнес   \n",
       "3                   вул. Антоновича, 136-138  Голосіївський р-н   бізнес   \n",
       "4                   вул. Антоновича, 136-138  Голосіївський р-н   бізнес   \n",
       "..                                       ...                ...      ...   \n",
       "164  вул. Михайла Максимовича (Трутенка), 3г  Голосіївський р-н  комфорт   \n",
       "165  вул. Михайла Максимовича (Трутенка), 3г  Голосіївський р-н  комфорт   \n",
       "166  вул. Михайла Максимовича (Трутенка), 3г  Голосіївський р-н  комфорт   \n",
       "167  вул. Михайла Максимовича (Трутенка), 3г  Голосіївський р-н  комфорт   \n",
       "168  вул. Михайла Максимовича (Трутенка), 3г  Голосіївський р-н  комфорт   \n",
       "\n",
       "     ceilingHeight  numApartmentsTotal    year  pricePerSquareMeter  \\\n",
       "0                3                 324  2023.0             137800.0   \n",
       "1                3                 324  2023.0             137800.0   \n",
       "2                3                 324  2023.0             125275.0   \n",
       "3                3                 324  2023.0             125275.0   \n",
       "4                3                 324  2023.0             125275.0   \n",
       "..             ...                 ...     ...                  ...   \n",
       "164              2                2060  2024.0                  NaN   \n",
       "165              2                2060  2024.0                  NaN   \n",
       "166              2                2060  2024.0                  NaN   \n",
       "167              2                2060  2024.0                  NaN   \n",
       "168              2                2060  2024.0                  NaN   \n",
       "\n",
       "          price  area  rooms  floor  minutesToCityCenter  assess  \\\n",
       "0     7441200.0    54      1   18.0                   48   52536   \n",
       "1     7992400.0    58      1    NaN                   48   52536   \n",
       "2    10022000.0    80      2    7.0                   48   52536   \n",
       "3    10147275.0    81      2   13.0                   48   52536   \n",
       "4    10648375.0    85      2   17.0                   48   52536   \n",
       "..          ...   ...    ...    ...                  ...     ...   \n",
       "164         NaN    97      3   25.0                  109   52536   \n",
       "165         NaN   106      3   25.0                  109   52536   \n",
       "166         NaN   117      3   25.0                  109   52536   \n",
       "167         NaN   134      3   25.0                  109   52536   \n",
       "168         NaN   141      4   25.0                  109   52536   \n",
       "\n",
       "     crimeRateInDistrict predictedClass  \n",
       "0                   2317         бізнес  \n",
       "1                   2317         бізнес  \n",
       "2                   2317         бізнес  \n",
       "3                   2317         бізнес  \n",
       "4                   2317         бізнес  \n",
       "..                   ...            ...  \n",
       "164                 2317        комфорт  \n",
       "165                 2317        комфорт  \n",
       "166                 2317        комфорт  \n",
       "167                 2317        комфорт  \n",
       "168                 2317        комфорт  \n",
       "\n",
       "[169 rows x 18 columns]"
      ]
     },
     "execution_count": 34,
     "metadata": {},
     "output_type": "execute_result"
    }
   ],
   "source": [
    "crafted_dataset"
   ]
  },
  {
   "cell_type": "code",
   "execution_count": 35,
   "id": "4bd77051",
   "metadata": {},
   "outputs": [],
   "source": [
    "crafted_dataset = crafted_dataset.drop(['class'], axis=1)\n",
    "crafted_dataset.to_csv('real-estate-with-nn-results.csv', encoding='utf-8')"
   ]
  }
 ],
 "metadata": {
  "kernelspec": {
   "display_name": "Python 3 (ipykernel)",
   "language": "python",
   "name": "python3"
  },
  "language_info": {
   "codemirror_mode": {
    "name": "ipython",
    "version": 3
   },
   "file_extension": ".py",
   "mimetype": "text/x-python",
   "name": "python",
   "nbconvert_exporter": "python",
   "pygments_lexer": "ipython3",
   "version": "3.9.16"
  }
 },
 "nbformat": 4,
 "nbformat_minor": 5
}
