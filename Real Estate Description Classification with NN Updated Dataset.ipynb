{
 "cells": [
  {
   "cell_type": "markdown",
   "id": "cb3bb36d",
   "metadata": {},
   "source": [
    "# Класифікація обʼєктів новобудови за текстовим описом за допомогою зворотної нейронної мережі"
   ]
  },
  {
   "cell_type": "markdown",
   "id": "0eb980d0",
   "metadata": {},
   "source": [
    "Рекурсивна нейронна мережа використовується для наборів даних які представляють собою серію послідовних даних. Наприклад, опис обʼєкту нерухомості є текстовою строкою. Кожний символ повʼязаний із попередніми символами та із наступними. Через це використання звичайної нейронної мережі є неможливим при роботі із текстом.\n",
    "\n",
    "Натомість, для цього використовуються Рекурсивні Нейронні Мережі."
   ]
  },
  {
   "cell_type": "markdown",
   "id": "1905b466",
   "metadata": {},
   "source": [
    "https://www.youtube.com/watch?v=VtRLrQ3Ev-U&ab_channel=freeCodeCamp.org"
   ]
  },
  {
   "cell_type": "code",
   "execution_count": 90,
   "id": "c03d44b7",
   "metadata": {},
   "outputs": [],
   "source": [
    "import numpy as np\n",
    "import pandas as pd\n",
    "import matplotlib.pyplot as plt\n",
    "import tensorflow as tf\n",
    "import tensorflow_hub as hub\n",
    "from keras.models import Sequential\n",
    "from keras.layers import Dense, Dropout, TextVectorization, Embedding, LSTM\n",
    "from keras.optimizers import Adam\n",
    "from keras.utils import to_categorical\n",
    "# BinaryCrossentropy функція повинна використовуватися для задач бінарної класифікації. Для мультикласової класифікації потрібно використовувати CategoricalCrossentropy\n",
    "# from keras.losses import BinaryCrossentropy\n",
    "from keras.losses import CategoricalCrossentropy\n",
    "from sklearn.model_selection import train_test_split"
   ]
  },
  {
   "cell_type": "markdown",
   "id": "77127c14",
   "metadata": {},
   "source": [
    "## Завантаження набору даних"
   ]
  },
  {
   "cell_type": "markdown",
   "id": "1dbccebc",
   "metadata": {},
   "source": [
    "### Ознайомлення з набором даних"
   ]
  },
  {
   "cell_type": "code",
   "execution_count": 91,
   "id": "2e396479",
   "metadata": {},
   "outputs": [],
   "source": [
    "df = pd.read_csv('./real-estate-mapped.csv')"
   ]
  },
  {
   "cell_type": "markdown",
   "id": "79ccf4e8",
   "metadata": {},
   "source": [
    "### Збереження набору даних для подальшого використання при розробці нового набору даних"
   ]
  },
  {
   "cell_type": "code",
   "execution_count": 118,
   "id": "a1d6c342",
   "metadata": {},
   "outputs": [],
   "source": [
    "df_initial = df.copy();"
   ]
  },
  {
   "cell_type": "code",
   "execution_count": 92,
   "id": "39ba2815",
   "metadata": {
    "scrolled": false
   },
   "outputs": [
    {
     "data": {
      "text/html": [
       "<div>\n",
       "<style scoped>\n",
       "    .dataframe tbody tr th:only-of-type {\n",
       "        vertical-align: middle;\n",
       "    }\n",
       "\n",
       "    .dataframe tbody tr th {\n",
       "        vertical-align: top;\n",
       "    }\n",
       "\n",
       "    .dataframe thead th {\n",
       "        text-align: right;\n",
       "    }\n",
       "</style>\n",
       "<table border=\"1\" class=\"dataframe\">\n",
       "  <thead>\n",
       "    <tr style=\"text-align: right;\">\n",
       "      <th></th>\n",
       "      <th>residence</th>\n",
       "      <th>developer</th>\n",
       "      <th>description</th>\n",
       "      <th>address</th>\n",
       "      <th>district</th>\n",
       "      <th>class</th>\n",
       "      <th>ceilingHeight</th>\n",
       "      <th>numApartmentsTotal</th>\n",
       "      <th>year</th>\n",
       "      <th>pricePerSquareMeter</th>\n",
       "      <th>price</th>\n",
       "      <th>area</th>\n",
       "      <th>rooms</th>\n",
       "      <th>floor</th>\n",
       "      <th>minutesToCityCenter</th>\n",
       "      <th>assess</th>\n",
       "      <th>crimeRateInDistrict</th>\n",
       "    </tr>\n",
       "  </thead>\n",
       "  <tbody>\n",
       "    <tr>\n",
       "      <th>0</th>\n",
       "      <td>А136 Highlight Tower</td>\n",
       "      <td>DIM</td>\n",
       "      <td>Residential complex A136 Highlight Tower is a ...</td>\n",
       "      <td>вул. Антоновича, 136-138</td>\n",
       "      <td>Голосіївський р-н</td>\n",
       "      <td>бізнес</td>\n",
       "      <td>3</td>\n",
       "      <td>324</td>\n",
       "      <td>2023.0</td>\n",
       "      <td>137800.0</td>\n",
       "      <td>7441200.0</td>\n",
       "      <td>54</td>\n",
       "      <td>1</td>\n",
       "      <td>18.0</td>\n",
       "      <td>48</td>\n",
       "      <td>52536</td>\n",
       "      <td>2317</td>\n",
       "    </tr>\n",
       "    <tr>\n",
       "      <th>1</th>\n",
       "      <td>А136 Highlight Tower</td>\n",
       "      <td>DIM</td>\n",
       "      <td>Residential complex A136 Highlight Tower is a ...</td>\n",
       "      <td>вул. Антоновича, 136-138</td>\n",
       "      <td>Голосіївський р-н</td>\n",
       "      <td>бізнес</td>\n",
       "      <td>3</td>\n",
       "      <td>324</td>\n",
       "      <td>2023.0</td>\n",
       "      <td>137800.0</td>\n",
       "      <td>7992400.0</td>\n",
       "      <td>58</td>\n",
       "      <td>1</td>\n",
       "      <td>NaN</td>\n",
       "      <td>48</td>\n",
       "      <td>52536</td>\n",
       "      <td>2317</td>\n",
       "    </tr>\n",
       "    <tr>\n",
       "      <th>2</th>\n",
       "      <td>А136 Highlight Tower</td>\n",
       "      <td>DIM</td>\n",
       "      <td>Residential complex A136 Highlight Tower is a ...</td>\n",
       "      <td>вул. Антоновича, 136-138</td>\n",
       "      <td>Голосіївський р-н</td>\n",
       "      <td>бізнес</td>\n",
       "      <td>3</td>\n",
       "      <td>324</td>\n",
       "      <td>2023.0</td>\n",
       "      <td>125275.0</td>\n",
       "      <td>10022000.0</td>\n",
       "      <td>80</td>\n",
       "      <td>2</td>\n",
       "      <td>7.0</td>\n",
       "      <td>48</td>\n",
       "      <td>52536</td>\n",
       "      <td>2317</td>\n",
       "    </tr>\n",
       "    <tr>\n",
       "      <th>3</th>\n",
       "      <td>А136 Highlight Tower</td>\n",
       "      <td>DIM</td>\n",
       "      <td>Residential complex A136 Highlight Tower is a ...</td>\n",
       "      <td>вул. Антоновича, 136-138</td>\n",
       "      <td>Голосіївський р-н</td>\n",
       "      <td>бізнес</td>\n",
       "      <td>3</td>\n",
       "      <td>324</td>\n",
       "      <td>2023.0</td>\n",
       "      <td>125275.0</td>\n",
       "      <td>10147275.0</td>\n",
       "      <td>81</td>\n",
       "      <td>2</td>\n",
       "      <td>13.0</td>\n",
       "      <td>48</td>\n",
       "      <td>52536</td>\n",
       "      <td>2317</td>\n",
       "    </tr>\n",
       "    <tr>\n",
       "      <th>4</th>\n",
       "      <td>А136 Highlight Tower</td>\n",
       "      <td>DIM</td>\n",
       "      <td>Residential complex A136 Highlight Tower is a ...</td>\n",
       "      <td>вул. Антоновича, 136-138</td>\n",
       "      <td>Голосіївський р-н</td>\n",
       "      <td>бізнес</td>\n",
       "      <td>3</td>\n",
       "      <td>324</td>\n",
       "      <td>2023.0</td>\n",
       "      <td>125275.0</td>\n",
       "      <td>10648375.0</td>\n",
       "      <td>85</td>\n",
       "      <td>2</td>\n",
       "      <td>17.0</td>\n",
       "      <td>48</td>\n",
       "      <td>52536</td>\n",
       "      <td>2317</td>\n",
       "    </tr>\n",
       "  </tbody>\n",
       "</table>\n",
       "</div>"
      ],
      "text/plain": [
       "              residence developer  \\\n",
       "0  А136 Highlight Tower       DIM   \n",
       "1  А136 Highlight Tower       DIM   \n",
       "2  А136 Highlight Tower       DIM   \n",
       "3  А136 Highlight Tower       DIM   \n",
       "4  А136 Highlight Tower       DIM   \n",
       "\n",
       "                                         description  \\\n",
       "0  Residential complex A136 Highlight Tower is a ...   \n",
       "1  Residential complex A136 Highlight Tower is a ...   \n",
       "2  Residential complex A136 Highlight Tower is a ...   \n",
       "3  Residential complex A136 Highlight Tower is a ...   \n",
       "4  Residential complex A136 Highlight Tower is a ...   \n",
       "\n",
       "                    address           district   class  ceilingHeight  \\\n",
       "0  вул. Антоновича, 136-138  Голосіївський р-н  бізнес              3   \n",
       "1  вул. Антоновича, 136-138  Голосіївський р-н  бізнес              3   \n",
       "2  вул. Антоновича, 136-138  Голосіївський р-н  бізнес              3   \n",
       "3  вул. Антоновича, 136-138  Голосіївський р-н  бізнес              3   \n",
       "4  вул. Антоновича, 136-138  Голосіївський р-н  бізнес              3   \n",
       "\n",
       "   numApartmentsTotal    year  pricePerSquareMeter       price  area  rooms  \\\n",
       "0                 324  2023.0             137800.0   7441200.0    54      1   \n",
       "1                 324  2023.0             137800.0   7992400.0    58      1   \n",
       "2                 324  2023.0             125275.0  10022000.0    80      2   \n",
       "3                 324  2023.0             125275.0  10147275.0    81      2   \n",
       "4                 324  2023.0             125275.0  10648375.0    85      2   \n",
       "\n",
       "   floor  minutesToCityCenter  assess  crimeRateInDistrict  \n",
       "0   18.0                   48   52536                 2317  \n",
       "1    NaN                   48   52536                 2317  \n",
       "2    7.0                   48   52536                 2317  \n",
       "3   13.0                   48   52536                 2317  \n",
       "4   17.0                   48   52536                 2317  "
      ]
     },
     "execution_count": 92,
     "metadata": {},
     "output_type": "execute_result"
    }
   ],
   "source": [
    "df.head()"
   ]
  },
  {
   "cell_type": "code",
   "execution_count": 93,
   "id": "6ba99fa9",
   "metadata": {
    "scrolled": false
   },
   "outputs": [
    {
     "data": {
      "text/html": [
       "<div>\n",
       "<style scoped>\n",
       "    .dataframe tbody tr th:only-of-type {\n",
       "        vertical-align: middle;\n",
       "    }\n",
       "\n",
       "    .dataframe tbody tr th {\n",
       "        vertical-align: top;\n",
       "    }\n",
       "\n",
       "    .dataframe thead th {\n",
       "        text-align: right;\n",
       "    }\n",
       "</style>\n",
       "<table border=\"1\" class=\"dataframe\">\n",
       "  <thead>\n",
       "    <tr style=\"text-align: right;\">\n",
       "      <th></th>\n",
       "      <th>residence</th>\n",
       "      <th>developer</th>\n",
       "      <th>description</th>\n",
       "      <th>address</th>\n",
       "      <th>district</th>\n",
       "      <th>class</th>\n",
       "      <th>ceilingHeight</th>\n",
       "      <th>numApartmentsTotal</th>\n",
       "      <th>year</th>\n",
       "      <th>pricePerSquareMeter</th>\n",
       "      <th>price</th>\n",
       "      <th>area</th>\n",
       "      <th>rooms</th>\n",
       "      <th>floor</th>\n",
       "      <th>minutesToCityCenter</th>\n",
       "      <th>assess</th>\n",
       "      <th>crimeRateInDistrict</th>\n",
       "    </tr>\n",
       "  </thead>\n",
       "  <tbody>\n",
       "    <tr>\n",
       "      <th>62</th>\n",
       "      <td>ЖК LUCKY LAND</td>\n",
       "      <td>DIM</td>\n",
       "      <td>The Lucky Land residential complex is a new re...</td>\n",
       "      <td>вул. Берковецька, 6</td>\n",
       "      <td>Святошинський р-н</td>\n",
       "      <td>комфорт</td>\n",
       "      <td>2</td>\n",
       "      <td>5183</td>\n",
       "      <td>2023.5</td>\n",
       "      <td>63025.0</td>\n",
       "      <td>1764700.0</td>\n",
       "      <td>28</td>\n",
       "      <td>1</td>\n",
       "      <td>8.5</td>\n",
       "      <td>169</td>\n",
       "      <td>47299</td>\n",
       "      <td>2884</td>\n",
       "    </tr>\n",
       "  </tbody>\n",
       "</table>\n",
       "</div>"
      ],
      "text/plain": [
       "        residence developer  \\\n",
       "62  ЖК LUCKY LAND       DIM   \n",
       "\n",
       "                                          description              address  \\\n",
       "62  The Lucky Land residential complex is a new re...  вул. Берковецька, 6   \n",
       "\n",
       "             district    class  ceilingHeight  numApartmentsTotal    year  \\\n",
       "62  Святошинський р-н  комфорт              2                5183  2023.5   \n",
       "\n",
       "    pricePerSquareMeter      price  area  rooms  floor  minutesToCityCenter  \\\n",
       "62              63025.0  1764700.0    28      1    8.5                  169   \n",
       "\n",
       "    assess  crimeRateInDistrict  \n",
       "62   47299                 2884  "
      ]
     },
     "execution_count": 93,
     "metadata": {},
     "output_type": "execute_result"
    }
   ],
   "source": [
    "df.sample()"
   ]
  },
  {
   "cell_type": "code",
   "execution_count": 94,
   "id": "50a6a599",
   "metadata": {},
   "outputs": [
    {
     "data": {
      "text/plain": [
       "(169, 17)"
      ]
     },
     "execution_count": 94,
     "metadata": {},
     "output_type": "execute_result"
    }
   ],
   "source": [
    "df.shape"
   ]
  },
  {
   "cell_type": "markdown",
   "id": "17a6d4c2",
   "metadata": {},
   "source": [
    "### Фільтрація пустих значень"
   ]
  },
  {
   "cell_type": "code",
   "execution_count": 95,
   "id": "a80b0703",
   "metadata": {},
   "outputs": [],
   "source": [
    "df = df.dropna()"
   ]
  },
  {
   "cell_type": "code",
   "execution_count": 96,
   "id": "55b7c42b",
   "metadata": {
    "scrolled": true
   },
   "outputs": [
    {
     "data": {
      "text/plain": [
       "(152, 17)"
      ]
     },
     "execution_count": 96,
     "metadata": {},
     "output_type": "execute_result"
    }
   ],
   "source": [
    "df.shape"
   ]
  },
  {
   "cell_type": "markdown",
   "id": "daab8d74",
   "metadata": {},
   "source": [
    "### Доступні в наборі даних класи нерухомості"
   ]
  },
  {
   "cell_type": "code",
   "execution_count": 97,
   "id": "644f90ba",
   "metadata": {
    "scrolled": false
   },
   "outputs": [
    {
     "data": {
      "text/plain": [
       "array(['бізнес', 'комфорт', 'преміум'], dtype=object)"
      ]
     },
     "execution_count": 97,
     "metadata": {},
     "output_type": "execute_result"
    }
   ],
   "source": [
    "df['class'].unique()"
   ]
  },
  {
   "cell_type": "code",
   "execution_count": 98,
   "id": "18f551af",
   "metadata": {},
   "outputs": [
    {
     "data": {
      "text/html": [
       "<div>\n",
       "<style scoped>\n",
       "    .dataframe tbody tr th:only-of-type {\n",
       "        vertical-align: middle;\n",
       "    }\n",
       "\n",
       "    .dataframe tbody tr th {\n",
       "        vertical-align: top;\n",
       "    }\n",
       "\n",
       "    .dataframe thead th {\n",
       "        text-align: right;\n",
       "    }\n",
       "</style>\n",
       "<table border=\"1\" class=\"dataframe\">\n",
       "  <thead>\n",
       "    <tr style=\"text-align: right;\">\n",
       "      <th></th>\n",
       "      <th>residence</th>\n",
       "      <th>developer</th>\n",
       "      <th>description</th>\n",
       "      <th>address</th>\n",
       "      <th>district</th>\n",
       "      <th>class</th>\n",
       "      <th>ceilingHeight</th>\n",
       "      <th>numApartmentsTotal</th>\n",
       "      <th>year</th>\n",
       "      <th>pricePerSquareMeter</th>\n",
       "      <th>price</th>\n",
       "      <th>area</th>\n",
       "      <th>rooms</th>\n",
       "      <th>floor</th>\n",
       "      <th>minutesToCityCenter</th>\n",
       "      <th>assess</th>\n",
       "      <th>crimeRateInDistrict</th>\n",
       "    </tr>\n",
       "  </thead>\n",
       "  <tbody>\n",
       "    <tr>\n",
       "      <th>0</th>\n",
       "      <td>А136 Highlight Tower</td>\n",
       "      <td>DIM</td>\n",
       "      <td>Residential complex A136 Highlight Tower is a ...</td>\n",
       "      <td>вул. Антоновича, 136-138</td>\n",
       "      <td>Голосіївський р-н</td>\n",
       "      <td>бізнес</td>\n",
       "      <td>3</td>\n",
       "      <td>324</td>\n",
       "      <td>2023.0</td>\n",
       "      <td>137800.0</td>\n",
       "      <td>7441200.0</td>\n",
       "      <td>54</td>\n",
       "      <td>1</td>\n",
       "      <td>18.0</td>\n",
       "      <td>48</td>\n",
       "      <td>52536</td>\n",
       "      <td>2317</td>\n",
       "    </tr>\n",
       "    <tr>\n",
       "      <th>2</th>\n",
       "      <td>А136 Highlight Tower</td>\n",
       "      <td>DIM</td>\n",
       "      <td>Residential complex A136 Highlight Tower is a ...</td>\n",
       "      <td>вул. Антоновича, 136-138</td>\n",
       "      <td>Голосіївський р-н</td>\n",
       "      <td>бізнес</td>\n",
       "      <td>3</td>\n",
       "      <td>324</td>\n",
       "      <td>2023.0</td>\n",
       "      <td>125275.0</td>\n",
       "      <td>10022000.0</td>\n",
       "      <td>80</td>\n",
       "      <td>2</td>\n",
       "      <td>7.0</td>\n",
       "      <td>48</td>\n",
       "      <td>52536</td>\n",
       "      <td>2317</td>\n",
       "    </tr>\n",
       "    <tr>\n",
       "      <th>3</th>\n",
       "      <td>А136 Highlight Tower</td>\n",
       "      <td>DIM</td>\n",
       "      <td>Residential complex A136 Highlight Tower is a ...</td>\n",
       "      <td>вул. Антоновича, 136-138</td>\n",
       "      <td>Голосіївський р-н</td>\n",
       "      <td>бізнес</td>\n",
       "      <td>3</td>\n",
       "      <td>324</td>\n",
       "      <td>2023.0</td>\n",
       "      <td>125275.0</td>\n",
       "      <td>10147275.0</td>\n",
       "      <td>81</td>\n",
       "      <td>2</td>\n",
       "      <td>13.0</td>\n",
       "      <td>48</td>\n",
       "      <td>52536</td>\n",
       "      <td>2317</td>\n",
       "    </tr>\n",
       "    <tr>\n",
       "      <th>4</th>\n",
       "      <td>А136 Highlight Tower</td>\n",
       "      <td>DIM</td>\n",
       "      <td>Residential complex A136 Highlight Tower is a ...</td>\n",
       "      <td>вул. Антоновича, 136-138</td>\n",
       "      <td>Голосіївський р-н</td>\n",
       "      <td>бізнес</td>\n",
       "      <td>3</td>\n",
       "      <td>324</td>\n",
       "      <td>2023.0</td>\n",
       "      <td>125275.0</td>\n",
       "      <td>10648375.0</td>\n",
       "      <td>85</td>\n",
       "      <td>2</td>\n",
       "      <td>17.0</td>\n",
       "      <td>48</td>\n",
       "      <td>52536</td>\n",
       "      <td>2317</td>\n",
       "    </tr>\n",
       "    <tr>\n",
       "      <th>5</th>\n",
       "      <td>А136 Highlight Tower</td>\n",
       "      <td>DIM</td>\n",
       "      <td>Residential complex A136 Highlight Tower is a ...</td>\n",
       "      <td>вул. Антоновича, 136-138</td>\n",
       "      <td>Голосіївський р-н</td>\n",
       "      <td>бізнес</td>\n",
       "      <td>3</td>\n",
       "      <td>324</td>\n",
       "      <td>2023.0</td>\n",
       "      <td>125275.0</td>\n",
       "      <td>11024200.0</td>\n",
       "      <td>88</td>\n",
       "      <td>2</td>\n",
       "      <td>14.2</td>\n",
       "      <td>48</td>\n",
       "      <td>52536</td>\n",
       "      <td>2317</td>\n",
       "    </tr>\n",
       "  </tbody>\n",
       "</table>\n",
       "</div>"
      ],
      "text/plain": [
       "              residence developer  \\\n",
       "0  А136 Highlight Tower       DIM   \n",
       "2  А136 Highlight Tower       DIM   \n",
       "3  А136 Highlight Tower       DIM   \n",
       "4  А136 Highlight Tower       DIM   \n",
       "5  А136 Highlight Tower       DIM   \n",
       "\n",
       "                                         description  \\\n",
       "0  Residential complex A136 Highlight Tower is a ...   \n",
       "2  Residential complex A136 Highlight Tower is a ...   \n",
       "3  Residential complex A136 Highlight Tower is a ...   \n",
       "4  Residential complex A136 Highlight Tower is a ...   \n",
       "5  Residential complex A136 Highlight Tower is a ...   \n",
       "\n",
       "                    address           district   class  ceilingHeight  \\\n",
       "0  вул. Антоновича, 136-138  Голосіївський р-н  бізнес              3   \n",
       "2  вул. Антоновича, 136-138  Голосіївський р-н  бізнес              3   \n",
       "3  вул. Антоновича, 136-138  Голосіївський р-н  бізнес              3   \n",
       "4  вул. Антоновича, 136-138  Голосіївський р-н  бізнес              3   \n",
       "5  вул. Антоновича, 136-138  Голосіївський р-н  бізнес              3   \n",
       "\n",
       "   numApartmentsTotal    year  pricePerSquareMeter       price  area  rooms  \\\n",
       "0                 324  2023.0             137800.0   7441200.0    54      1   \n",
       "2                 324  2023.0             125275.0  10022000.0    80      2   \n",
       "3                 324  2023.0             125275.0  10147275.0    81      2   \n",
       "4                 324  2023.0             125275.0  10648375.0    85      2   \n",
       "5                 324  2023.0             125275.0  11024200.0    88      2   \n",
       "\n",
       "   floor  minutesToCityCenter  assess  crimeRateInDistrict  \n",
       "0   18.0                   48   52536                 2317  \n",
       "2    7.0                   48   52536                 2317  \n",
       "3   13.0                   48   52536                 2317  \n",
       "4   17.0                   48   52536                 2317  \n",
       "5   14.2                   48   52536                 2317  "
      ]
     },
     "execution_count": 98,
     "metadata": {},
     "output_type": "execute_result"
    }
   ],
   "source": [
    "df.head()"
   ]
  },
  {
   "cell_type": "markdown",
   "id": "8d2b04c1",
   "metadata": {},
   "source": [
    "### Переведення класів нерухомості до числових значень"
   ]
  },
  {
   "cell_type": "code",
   "execution_count": 99,
   "id": "e4514b60",
   "metadata": {},
   "outputs": [],
   "source": [
    "class_to_num_map = { 'бізнес': 0, 'преміум': 1, 'комфорт': 2, 'економ': 3 }\n",
    "\n",
    "df['class'] = df['class'].map(class_to_num_map)"
   ]
  },
  {
   "cell_type": "code",
   "execution_count": 100,
   "id": "99c1083c",
   "metadata": {},
   "outputs": [],
   "source": [
    "df = df[['description', 'class']]"
   ]
  },
  {
   "cell_type": "code",
   "execution_count": 101,
   "id": "3fb31b39",
   "metadata": {
    "scrolled": false
   },
   "outputs": [
    {
     "data": {
      "text/html": [
       "<div>\n",
       "<style scoped>\n",
       "    .dataframe tbody tr th:only-of-type {\n",
       "        vertical-align: middle;\n",
       "    }\n",
       "\n",
       "    .dataframe tbody tr th {\n",
       "        vertical-align: top;\n",
       "    }\n",
       "\n",
       "    .dataframe thead th {\n",
       "        text-align: right;\n",
       "    }\n",
       "</style>\n",
       "<table border=\"1\" class=\"dataframe\">\n",
       "  <thead>\n",
       "    <tr style=\"text-align: right;\">\n",
       "      <th></th>\n",
       "      <th>description</th>\n",
       "      <th>class</th>\n",
       "    </tr>\n",
       "  </thead>\n",
       "  <tbody>\n",
       "    <tr>\n",
       "      <th>0</th>\n",
       "      <td>Residential complex A136 Highlight Tower is a ...</td>\n",
       "      <td>0</td>\n",
       "    </tr>\n",
       "    <tr>\n",
       "      <th>2</th>\n",
       "      <td>Residential complex A136 Highlight Tower is a ...</td>\n",
       "      <td>0</td>\n",
       "    </tr>\n",
       "    <tr>\n",
       "      <th>3</th>\n",
       "      <td>Residential complex A136 Highlight Tower is a ...</td>\n",
       "      <td>0</td>\n",
       "    </tr>\n",
       "    <tr>\n",
       "      <th>4</th>\n",
       "      <td>Residential complex A136 Highlight Tower is a ...</td>\n",
       "      <td>0</td>\n",
       "    </tr>\n",
       "    <tr>\n",
       "      <th>5</th>\n",
       "      <td>Residential complex A136 Highlight Tower is a ...</td>\n",
       "      <td>0</td>\n",
       "    </tr>\n",
       "  </tbody>\n",
       "</table>\n",
       "</div>"
      ],
      "text/plain": [
       "                                         description  class\n",
       "0  Residential complex A136 Highlight Tower is a ...      0\n",
       "2  Residential complex A136 Highlight Tower is a ...      0\n",
       "3  Residential complex A136 Highlight Tower is a ...      0\n",
       "4  Residential complex A136 Highlight Tower is a ...      0\n",
       "5  Residential complex A136 Highlight Tower is a ...      0"
      ]
     },
     "execution_count": 101,
     "metadata": {},
     "output_type": "execute_result"
    }
   ],
   "source": [
    "df.head()"
   ]
  },
  {
   "cell_type": "markdown",
   "id": "3c881110",
   "metadata": {},
   "source": [
    "## Підготовка даних для тренування моделі"
   ]
  },
  {
   "cell_type": "markdown",
   "id": "18d0e00f",
   "metadata": {},
   "source": [
    "### Створення сету характеристик і міток"
   ]
  },
  {
   "cell_type": "markdown",
   "id": "c66b8ebe",
   "metadata": {},
   "source": [
    "TODO: використання imblearn.oversampling -> RandomOverSampler для прирівнювання к-сті зразків певного класу"
   ]
  },
  {
   "cell_type": "code",
   "execution_count": 102,
   "id": "be43e433",
   "metadata": {},
   "outputs": [],
   "source": [
    "train, val, test = np.split(df.sample(frac=1), [int(0.8 * len(df)), int(0.9 * len(df))])"
   ]
  },
  {
   "cell_type": "code",
   "execution_count": 103,
   "id": "cca0ee77",
   "metadata": {
    "scrolled": true
   },
   "outputs": [
    {
     "data": {
      "text/plain": [
       "((121, 2), (15, 2), (16, 2))"
      ]
     },
     "execution_count": 103,
     "metadata": {},
     "output_type": "execute_result"
    }
   ],
   "source": [
    "train.shape, val.shape, test.shape"
   ]
  },
  {
   "cell_type": "code",
   "execution_count": 104,
   "id": "2ad92425",
   "metadata": {
    "scrolled": false
   },
   "outputs": [
    {
     "data": {
      "text/html": [
       "<div>\n",
       "<style scoped>\n",
       "    .dataframe tbody tr th:only-of-type {\n",
       "        vertical-align: middle;\n",
       "    }\n",
       "\n",
       "    .dataframe tbody tr th {\n",
       "        vertical-align: top;\n",
       "    }\n",
       "\n",
       "    .dataframe thead th {\n",
       "        text-align: right;\n",
       "    }\n",
       "</style>\n",
       "<table border=\"1\" class=\"dataframe\">\n",
       "  <thead>\n",
       "    <tr style=\"text-align: right;\">\n",
       "      <th></th>\n",
       "      <th>description</th>\n",
       "      <th>class</th>\n",
       "    </tr>\n",
       "  </thead>\n",
       "  <tbody>\n",
       "    <tr>\n",
       "      <th>0</th>\n",
       "      <td>Residential complex A136 Highlight Tower is a ...</td>\n",
       "      <td>0</td>\n",
       "    </tr>\n",
       "    <tr>\n",
       "      <th>2</th>\n",
       "      <td>Residential complex A136 Highlight Tower is a ...</td>\n",
       "      <td>0</td>\n",
       "    </tr>\n",
       "    <tr>\n",
       "      <th>3</th>\n",
       "      <td>Residential complex A136 Highlight Tower is a ...</td>\n",
       "      <td>0</td>\n",
       "    </tr>\n",
       "    <tr>\n",
       "      <th>4</th>\n",
       "      <td>Residential complex A136 Highlight Tower is a ...</td>\n",
       "      <td>0</td>\n",
       "    </tr>\n",
       "    <tr>\n",
       "      <th>5</th>\n",
       "      <td>Residential complex A136 Highlight Tower is a ...</td>\n",
       "      <td>0</td>\n",
       "    </tr>\n",
       "  </tbody>\n",
       "</table>\n",
       "</div>"
      ],
      "text/plain": [
       "                                         description  class\n",
       "0  Residential complex A136 Highlight Tower is a ...      0\n",
       "2  Residential complex A136 Highlight Tower is a ...      0\n",
       "3  Residential complex A136 Highlight Tower is a ...      0\n",
       "4  Residential complex A136 Highlight Tower is a ...      0\n",
       "5  Residential complex A136 Highlight Tower is a ...      0"
      ]
     },
     "execution_count": 104,
     "metadata": {},
     "output_type": "execute_result"
    }
   ],
   "source": [
    "df.head()"
   ]
  },
  {
   "cell_type": "markdown",
   "id": "1dcdb7af",
   "metadata": {},
   "source": [
    "### Переведення міток до категоріальних значень"
   ]
  },
  {
   "cell_type": "markdown",
   "id": "b0bcaa6e",
   "metadata": {},
   "source": [
    "Так як мітки в даному випадку варіюються від 1 до 4 що вказує на певний клас будівлі, для того щоб повʼязати ці числа із виходом із softmax вихідного шару нейронної мережі, потрібно перевести числа до категоріального виду використовуюючи допоміжні функції keras."
   ]
  },
  {
   "cell_type": "code",
   "execution_count": 105,
   "id": "373a78c4",
   "metadata": {},
   "outputs": [],
   "source": [
    "x_train = train['description'].values\n",
    "y_train = to_categorical(train['class'], 4)\n",
    "\n",
    "x_valid = val['description'].values\n",
    "y_valid = to_categorical(val['class'], 4)\n",
    "\n",
    "x_test = test['description'].values\n",
    "y_test = to_categorical(test['class'], 4)\n",
    "\n",
    "x_pred = ['There is nothing good in this residential complex, please omit it']\n",
    "y_pred = to_categorical([0], 4)"
   ]
  },
  {
   "cell_type": "markdown",
   "id": "edead2be",
   "metadata": {},
   "source": [
    "### Композиція моделі"
   ]
  },
  {
   "cell_type": "code",
   "execution_count": 106,
   "id": "5e280d95",
   "metadata": {},
   "outputs": [],
   "source": [
    "embedding = 'https://tfhub.dev/google/nnlm-en-dim50/2'\n",
    "hub_layer = hub.KerasLayer(embedding, dtype=tf.string, trainable=True)"
   ]
  },
  {
   "cell_type": "code",
   "execution_count": 107,
   "id": "1a502d59",
   "metadata": {},
   "outputs": [],
   "source": [
    "model = Sequential()\n",
    "\n",
    "model.add(hub_layer)\n",
    "model.add(Dense(16, activation='relu'))\n",
    "model.add(Dense(16, activation='relu'))\n",
    "model.add(Dense(4, activation='softmax'))"
   ]
  },
  {
   "cell_type": "code",
   "execution_count": 108,
   "id": "94043d6d",
   "metadata": {},
   "outputs": [],
   "source": [
    "model.compile(optimizer=Adam(learning_rate=0.001), loss=CategoricalCrossentropy(), metrics=['accuracy'])"
   ]
  },
  {
   "cell_type": "code",
   "execution_count": 109,
   "id": "76623680",
   "metadata": {
    "scrolled": false
   },
   "outputs": [
    {
     "name": "stdout",
     "output_type": "stream",
     "text": [
      "WARNING:tensorflow:From /Users/andriikicha/Dev/knu/course project/data-analysis/venv/lib/python3.9/site-packages/tensorflow/python/autograph/pyct/static_analysis/liveness.py:83: Analyzer.lamba_check (from tensorflow.python.autograph.pyct.static_analysis.liveness) is deprecated and will be removed after 2023-09-23.\n",
      "Instructions for updating:\n",
      "Lambda fuctions will be no more assumed to be used in the statement where they are used, or at least in the same block. https://github.com/tensorflow/tensorflow/issues/56089\n"
     ]
    },
    {
     "name": "stderr",
     "output_type": "stream",
     "text": [
      "WARNING:tensorflow:From /Users/andriikicha/Dev/knu/course project/data-analysis/venv/lib/python3.9/site-packages/tensorflow/python/autograph/pyct/static_analysis/liveness.py:83: Analyzer.lamba_check (from tensorflow.python.autograph.pyct.static_analysis.liveness) is deprecated and will be removed after 2023-09-23.\n",
      "Instructions for updating:\n",
      "Lambda fuctions will be no more assumed to be used in the statement where they are used, or at least in the same block. https://github.com/tensorflow/tensorflow/issues/56089\n"
     ]
    },
    {
     "name": "stdout",
     "output_type": "stream",
     "text": [
      "4/4 [==============================] - 1s 5ms/step - loss: 1.9961 - accuracy: 0.1488\n"
     ]
    },
    {
     "data": {
      "text/plain": [
       "[1.996099829673767, 0.1487603336572647]"
      ]
     },
     "execution_count": 109,
     "metadata": {},
     "output_type": "execute_result"
    }
   ],
   "source": [
    "model.evaluate(x_train, y_train)"
   ]
  },
  {
   "cell_type": "markdown",
   "id": "e67323d7",
   "metadata": {},
   "source": [
    "### Тренування моделі"
   ]
  },
  {
   "cell_type": "markdown",
   "id": "65302e85",
   "metadata": {},
   "source": [
    "Попередньо модель була натренована на 10-20 епохах, але цього було недостатньо. Після 10-20 епох точність моделі все ще зростає і модель не переходить в режим Overfitting"
   ]
  },
  {
   "cell_type": "code",
   "execution_count": 110,
   "id": "838f93f6",
   "metadata": {
    "scrolled": true
   },
   "outputs": [
    {
     "name": "stdout",
     "output_type": "stream",
     "text": [
      "Epoch 1/30\n",
      "4/4 [==============================] - 4s 793ms/step - loss: 1.7905 - accuracy: 0.1488 - val_loss: 1.5584 - val_accuracy: 0.0667\n",
      "Epoch 2/30\n",
      "4/4 [==============================] - 3s 828ms/step - loss: 1.3674 - accuracy: 0.2810 - val_loss: 1.2319 - val_accuracy: 0.8000\n",
      "Epoch 3/30\n",
      "4/4 [==============================] - 3s 805ms/step - loss: 1.1452 - accuracy: 0.8678 - val_loss: 1.1219 - val_accuracy: 0.8000\n",
      "Epoch 4/30\n",
      "4/4 [==============================] - 3s 736ms/step - loss: 1.0459 - accuracy: 0.8430 - val_loss: 1.0571 - val_accuracy: 0.7333\n",
      "Epoch 5/30\n",
      "4/4 [==============================] - 3s 731ms/step - loss: 0.9631 - accuracy: 0.8347 - val_loss: 0.9846 - val_accuracy: 0.7333\n",
      "Epoch 6/30\n",
      "4/4 [==============================] - 3s 778ms/step - loss: 0.8788 - accuracy: 0.8430 - val_loss: 0.9119 - val_accuracy: 0.8000\n",
      "Epoch 7/30\n",
      "4/4 [==============================] - 3s 766ms/step - loss: 0.8035 - accuracy: 0.9421 - val_loss: 0.8488 - val_accuracy: 1.0000\n",
      "Epoch 8/30\n",
      "4/4 [==============================] - 3s 712ms/step - loss: 0.7280 - accuracy: 1.0000 - val_loss: 0.7739 - val_accuracy: 1.0000\n",
      "Epoch 9/30\n",
      "4/4 [==============================] - 3s 704ms/step - loss: 0.6508 - accuracy: 1.0000 - val_loss: 0.6991 - val_accuracy: 1.0000\n",
      "Epoch 10/30\n",
      "4/4 [==============================] - 3s 697ms/step - loss: 0.5746 - accuracy: 1.0000 - val_loss: 0.6233 - val_accuracy: 1.0000\n",
      "Epoch 11/30\n",
      "4/4 [==============================] - 3s 702ms/step - loss: 0.5017 - accuracy: 1.0000 - val_loss: 0.5354 - val_accuracy: 1.0000\n",
      "Epoch 12/30\n",
      "4/4 [==============================] - 3s 693ms/step - loss: 0.4252 - accuracy: 1.0000 - val_loss: 0.4578 - val_accuracy: 1.0000\n",
      "Epoch 13/30\n",
      "4/4 [==============================] - 3s 732ms/step - loss: 0.3645 - accuracy: 1.0000 - val_loss: 0.3855 - val_accuracy: 1.0000\n",
      "Epoch 14/30\n",
      "4/4 [==============================] - 3s 693ms/step - loss: 0.3054 - accuracy: 1.0000 - val_loss: 0.3166 - val_accuracy: 1.0000\n",
      "Epoch 15/30\n",
      "4/4 [==============================] - 3s 695ms/step - loss: 0.2497 - accuracy: 1.0000 - val_loss: 0.2585 - val_accuracy: 1.0000\n",
      "Epoch 16/30\n",
      "4/4 [==============================] - 3s 697ms/step - loss: 0.2036 - accuracy: 1.0000 - val_loss: 0.2111 - val_accuracy: 1.0000\n",
      "Epoch 17/30\n",
      "4/4 [==============================] - 3s 701ms/step - loss: 0.1663 - accuracy: 1.0000 - val_loss: 0.1691 - val_accuracy: 1.0000\n",
      "Epoch 18/30\n",
      "4/4 [==============================] - 3s 707ms/step - loss: 0.1321 - accuracy: 1.0000 - val_loss: 0.1337 - val_accuracy: 1.0000\n",
      "Epoch 19/30\n",
      "4/4 [==============================] - 3s 692ms/step - loss: 0.1053 - accuracy: 1.0000 - val_loss: 0.1056 - val_accuracy: 1.0000\n",
      "Epoch 20/30\n",
      "4/4 [==============================] - 3s 694ms/step - loss: 0.0850 - accuracy: 1.0000 - val_loss: 0.0838 - val_accuracy: 1.0000\n",
      "Epoch 21/30\n",
      "4/4 [==============================] - 3s 687ms/step - loss: 0.0677 - accuracy: 1.0000 - val_loss: 0.0667 - val_accuracy: 1.0000\n",
      "Epoch 22/30\n",
      "4/4 [==============================] - 3s 683ms/step - loss: 0.0536 - accuracy: 1.0000 - val_loss: 0.0538 - val_accuracy: 1.0000\n",
      "Epoch 23/30\n",
      "4/4 [==============================] - 3s 677ms/step - loss: 0.0434 - accuracy: 1.0000 - val_loss: 0.0436 - val_accuracy: 1.0000\n",
      "Epoch 24/30\n",
      "4/4 [==============================] - 3s 707ms/step - loss: 0.0358 - accuracy: 1.0000 - val_loss: 0.0357 - val_accuracy: 1.0000\n",
      "Epoch 25/30\n",
      "4/4 [==============================] - 3s 694ms/step - loss: 0.0295 - accuracy: 1.0000 - val_loss: 0.0297 - val_accuracy: 1.0000\n",
      "Epoch 26/30\n",
      "4/4 [==============================] - 3s 690ms/step - loss: 0.0248 - accuracy: 1.0000 - val_loss: 0.0251 - val_accuracy: 1.0000\n",
      "Epoch 27/30\n",
      "4/4 [==============================] - 3s 693ms/step - loss: 0.0212 - accuracy: 1.0000 - val_loss: 0.0215 - val_accuracy: 1.0000\n",
      "Epoch 28/30\n",
      "4/4 [==============================] - 3s 739ms/step - loss: 0.0183 - accuracy: 1.0000 - val_loss: 0.0187 - val_accuracy: 1.0000\n",
      "Epoch 29/30\n",
      "4/4 [==============================] - 3s 743ms/step - loss: 0.0160 - accuracy: 1.0000 - val_loss: 0.0164 - val_accuracy: 1.0000\n",
      "Epoch 30/30\n",
      "4/4 [==============================] - 3s 721ms/step - loss: 0.0141 - accuracy: 1.0000 - val_loss: 0.0146 - val_accuracy: 1.0000\n"
     ]
    }
   ],
   "source": [
    "history = model.fit(x=x_train, y=y_train, epochs=30, validation_data=(x_valid, y_valid))"
   ]
  },
  {
   "cell_type": "markdown",
   "id": "95bff834",
   "metadata": {},
   "source": [
    "### Результати тренування моделі"
   ]
  },
  {
   "cell_type": "code",
   "execution_count": 111,
   "id": "d174decf",
   "metadata": {
    "scrolled": false
   },
   "outputs": [
    {
     "data": {
      "image/png": "[encoded data removed]",
      "text/plain": [
       "<Figure size 640x480 with 1 Axes>"
      ]
     },
     "metadata": {},
     "output_type": "display_data"
    }
   ],
   "source": [
    "plt.plot(history.history['accuracy'], label=\"Точність\")\n",
    "plt.plot(history.history['val_accuracy'], label=\"Валідаційна точність\")\n",
    "plt.legend()\n",
    "\n",
    "plt.show()"
   ]
  },
  {
   "cell_type": "code",
   "execution_count": 112,
   "id": "e9bd5583",
   "metadata": {
    "scrolled": true
   },
   "outputs": [
    {
     "data": {
      "image/png": "[encoded data removed]",
      "text/plain": [
       "<Figure size 640x480 with 1 Axes>"
      ]
     },
     "metadata": {},
     "output_type": "display_data"
    }
   ],
   "source": [
    "plt.plot(history.history['loss'], label=\"Втрати\")\n",
    "plt.plot(history.history['val_loss'], label=\"Валідаційні втрати\")\n",
    "plt.legend()\n",
    "\n",
    "plt.show()"
   ]
  },
  {
   "cell_type": "markdown",
   "id": "40776449",
   "metadata": {},
   "source": [
    "## Перевірка моделі на тестових даних яких раніше модель не бачила"
   ]
  },
  {
   "cell_type": "code",
   "execution_count": 113,
   "id": "abcef641",
   "metadata": {},
   "outputs": [],
   "source": [
    "def pred_to_text(pred):\n",
    "    return list(class_to_num_map.keys())[list(class_to_num_map.values()).index(pred)]"
   ]
  },
  {
   "cell_type": "code",
   "execution_count": 114,
   "id": "6376607d",
   "metadata": {},
   "outputs": [
    {
     "data": {
      "text/plain": [
       "('бізнес', 'преміум', 'комфорт', 'економ')"
      ]
     },
     "execution_count": 114,
     "metadata": {},
     "output_type": "execute_result"
    }
   ],
   "source": [
    "pred_to_text(0), pred_to_text(1), pred_to_text(2), pred_to_text(3)"
   ]
  },
  {
   "cell_type": "code",
   "execution_count": 115,
   "id": "3824570b",
   "metadata": {
    "scrolled": true
   },
   "outputs": [
    {
     "name": "stdout",
     "output_type": "stream",
     "text": [
      "1/1 [==============================] - 0s 156ms/step - loss: 0.0127 - accuracy: 1.0000\n"
     ]
    },
    {
     "data": {
      "text/plain": [
       "[0.012721220031380653, 1.0]"
      ]
     },
     "execution_count": 115,
     "metadata": {},
     "output_type": "execute_result"
    }
   ],
   "source": [
    "model.evaluate(x_test, y_test)"
   ]
  },
  {
   "cell_type": "code",
   "execution_count": 116,
   "id": "033b7be3",
   "metadata": {
    "scrolled": true
   },
   "outputs": [
    {
     "name": "stdout",
     "output_type": "stream",
     "text": [
      "1/1 [==============================] - 0s 249ms/step\n"
     ]
    },
    {
     "data": {
      "text/plain": [
       "'комфорт'"
      ]
     },
     "execution_count": 116,
     "metadata": {},
     "output_type": "execute_result"
    }
   ],
   "source": [
    "pred = model.predict(x_pred)\n",
    "pred_index = np.argmax(pred)\n",
    "\n",
    "pred_to_text(pred_index)"
   ]
  },
  {
   "cell_type": "markdown",
   "id": "7e6d9c9d",
   "metadata": {},
   "source": [
    "TODO: створити новий набір даних із результатами роботи нейронної мережі і передати його на вхід до алгоритму лінійної регресії для оцінки вартості нерухомості"
   ]
  },
  {
   "cell_type": "markdown",
   "id": "9d5a1e27",
   "metadata": {},
   "source": [
    "## Генерація нового набору даних із результатами роботи нейронної мережі"
   ]
  },
  {
   "cell_type": "code",
   "execution_count": 120,
   "id": "cb7bcf87",
   "metadata": {
    "scrolled": true
   },
   "outputs": [
    {
     "name": "stdout",
     "output_type": "stream",
     "text": [
      "5/5 [==============================] - 1s 136ms/step\n"
     ]
    },
    {
     "data": {
      "text/plain": [
       "array([[9.77175295e-01, 7.59123173e-03, 1.31663205e-02, 2.06716731e-03],\n",
       "       [9.77175295e-01, 7.59123173e-03, 1.31663205e-02, 2.06716731e-03],\n",
       "       [9.77175295e-01, 7.59123173e-03, 1.31663205e-02, 2.06716731e-03],\n",
       "       [9.77175295e-01, 7.59123173e-03, 1.31663205e-02, 2.06716731e-03],\n",
       "       [9.77175295e-01, 7.59123173e-03, 1.31663205e-02, 2.06716731e-03],\n",
       "       [6.37453701e-03, 5.27822762e-04, 9.89589870e-01, 3.50774475e-03],\n",
       "       [6.37453701e-03, 5.27822762e-04, 9.89589870e-01, 3.50774475e-03],\n",
       "       [6.37453701e-03, 5.27822762e-04, 9.89589870e-01, 3.50774475e-03],\n",
       "       [6.37453701e-03, 5.27822762e-04, 9.89589870e-01, 3.50774475e-03],\n",
       "       [6.37453701e-03, 5.27822762e-04, 9.89589870e-01, 3.50774475e-03],\n",
       "       [6.37453701e-03, 5.27822762e-04, 9.89589870e-01, 3.50774475e-03],\n",
       "       [6.37453701e-03, 5.27822762e-04, 9.89589870e-01, 3.50774475e-03],\n",
       "       [6.37453701e-03, 5.27822762e-04, 9.89589870e-01, 3.50774475e-03],\n",
       "       [6.37453701e-03, 5.27822762e-04, 9.89589870e-01, 3.50774475e-03],\n",
       "       [6.37453701e-03, 5.27822762e-04, 9.89589870e-01, 3.50774475e-03],\n",
       "       [6.37453701e-03, 5.27822762e-04, 9.89589870e-01, 3.50774475e-03],\n",
       "       [6.37453701e-03, 5.27822762e-04, 9.89589870e-01, 3.50774475e-03],\n",
       "       [6.37453701e-03, 5.27822762e-04, 9.89589870e-01, 3.50774475e-03],\n",
       "       [6.37453701e-03, 5.27822762e-04, 9.89589870e-01, 3.50774475e-03],\n",
       "       [6.37453701e-03, 5.27822762e-04, 9.89589870e-01, 3.50774475e-03],\n",
       "       [6.37453701e-03, 5.27822762e-04, 9.89589870e-01, 3.50774475e-03],\n",
       "       [6.37453701e-03, 5.27822762e-04, 9.89589870e-01, 3.50774475e-03],\n",
       "       [6.37453701e-03, 5.27822762e-04, 9.89589870e-01, 3.50774475e-03],\n",
       "       [6.37453701e-03, 5.27822762e-04, 9.89589870e-01, 3.50774475e-03],\n",
       "       [6.37453701e-03, 5.27822762e-04, 9.89589870e-01, 3.50774475e-03],\n",
       "       [1.21685083e-03, 3.13176977e-04, 9.96847093e-01, 1.62290270e-03],\n",
       "       [1.21685083e-03, 3.13176977e-04, 9.96847093e-01, 1.62290270e-03],\n",
       "       [1.21685083e-03, 3.13176977e-04, 9.96847093e-01, 1.62290270e-03],\n",
       "       [1.21685083e-03, 3.13176977e-04, 9.96847093e-01, 1.62290270e-03],\n",
       "       [1.21685083e-03, 3.13176977e-04, 9.96847093e-01, 1.62290270e-03],\n",
       "       [1.21684920e-03, 3.13176686e-04, 9.96847093e-01, 1.62290118e-03],\n",
       "       [1.21684920e-03, 3.13176686e-04, 9.96847093e-01, 1.62290118e-03],\n",
       "       [1.21685083e-03, 3.13176977e-04, 9.96847093e-01, 1.62290270e-03],\n",
       "       [1.21685083e-03, 3.13176977e-04, 9.96847093e-01, 1.62290270e-03],\n",
       "       [1.21685083e-03, 3.13176977e-04, 9.96847093e-01, 1.62290270e-03],\n",
       "       [1.21685083e-03, 3.13176977e-04, 9.96847093e-01, 1.62290270e-03],\n",
       "       [1.21685083e-03, 3.13176977e-04, 9.96847093e-01, 1.62290270e-03],\n",
       "       [1.21685083e-03, 3.13176977e-04, 9.96847093e-01, 1.62290270e-03],\n",
       "       [1.21685083e-03, 3.13176977e-04, 9.96847093e-01, 1.62290270e-03],\n",
       "       [1.21685083e-03, 3.13176977e-04, 9.96847093e-01, 1.62290270e-03],\n",
       "       [1.21685083e-03, 3.13176977e-04, 9.96847093e-01, 1.62290270e-03],\n",
       "       [1.21685083e-03, 3.13176977e-04, 9.96847093e-01, 1.62290270e-03],\n",
       "       [1.21685083e-03, 3.13176977e-04, 9.96847093e-01, 1.62290270e-03],\n",
       "       [1.21685083e-03, 3.13176977e-04, 9.96847093e-01, 1.62290270e-03],\n",
       "       [1.21685083e-03, 3.13176977e-04, 9.96847093e-01, 1.62290270e-03],\n",
       "       [1.21685083e-03, 3.13176977e-04, 9.96847093e-01, 1.62290270e-03],\n",
       "       [1.21685083e-03, 3.13176977e-04, 9.96847093e-01, 1.62290270e-03],\n",
       "       [1.21685083e-03, 3.13176977e-04, 9.96847093e-01, 1.62290270e-03],\n",
       "       [1.21685083e-03, 3.13176977e-04, 9.96847093e-01, 1.62290270e-03],\n",
       "       [1.21685083e-03, 3.13176977e-04, 9.96847093e-01, 1.62290270e-03],\n",
       "       [1.21685083e-03, 3.13176977e-04, 9.96847093e-01, 1.62290270e-03],\n",
       "       [1.21685083e-03, 3.13176977e-04, 9.96847093e-01, 1.62290270e-03],\n",
       "       [1.21685083e-03, 3.13176977e-04, 9.96847093e-01, 1.62290270e-03],\n",
       "       [1.21685083e-03, 3.13176977e-04, 9.96847093e-01, 1.62290270e-03],\n",
       "       [1.49681489e-03, 6.84039042e-05, 9.97635365e-01, 7.99361675e-04],\n",
       "       [1.49681489e-03, 6.84039042e-05, 9.97635365e-01, 7.99361675e-04],\n",
       "       [1.49681489e-03, 6.84039042e-05, 9.97635365e-01, 7.99361675e-04],\n",
       "       [1.49985484e-03, 6.78536526e-05, 9.97635365e-01, 7.96809676e-04],\n",
       "       [1.49681489e-03, 6.84039042e-05, 9.97635365e-01, 7.99361675e-04],\n",
       "       [1.49681489e-03, 6.84039042e-05, 9.97635365e-01, 7.99361675e-04],\n",
       "       [1.49985484e-03, 6.78536526e-05, 9.97635365e-01, 7.96809676e-04],\n",
       "       [1.49681489e-03, 6.84039042e-05, 9.97635365e-01, 7.99361675e-04],\n",
       "       [1.49681629e-03, 6.84039042e-05, 9.97635365e-01, 7.99362839e-04],\n",
       "       [1.49681629e-03, 6.84039042e-05, 9.97635365e-01, 7.99362839e-04],\n",
       "       [1.49681489e-03, 6.84039042e-05, 9.97635365e-01, 7.99361675e-04],\n",
       "       [1.49681489e-03, 6.84039042e-05, 9.97635365e-01, 7.99361675e-04],\n",
       "       [1.49681489e-03, 6.84039042e-05, 9.97635365e-01, 7.99361675e-04],\n",
       "       [1.49681489e-03, 6.84039042e-05, 9.97635365e-01, 7.99361675e-04],\n",
       "       [1.49681489e-03, 6.84039042e-05, 9.97635365e-01, 7.99361675e-04],\n",
       "       [1.49681489e-03, 6.84039042e-05, 9.97635365e-01, 7.99361675e-04],\n",
       "       [1.49985484e-03, 6.78536526e-05, 9.97635365e-01, 7.96809676e-04],\n",
       "       [1.49681489e-03, 6.84039042e-05, 9.97635365e-01, 7.99361675e-04],\n",
       "       [1.49985484e-03, 6.78536526e-05, 9.97635365e-01, 7.96809676e-04],\n",
       "       [1.49681489e-03, 6.84039042e-05, 9.97635365e-01, 7.99361675e-04],\n",
       "       [1.49681489e-03, 6.84039042e-05, 9.97635365e-01, 7.99361675e-04],\n",
       "       [9.73990381e-01, 8.26603454e-03, 1.54866474e-02, 2.25685863e-03],\n",
       "       [9.73990381e-01, 8.26603454e-03, 1.54866474e-02, 2.25685863e-03],\n",
       "       [9.73990381e-01, 8.26603454e-03, 1.54866474e-02, 2.25685863e-03],\n",
       "       [9.73990381e-01, 8.26603454e-03, 1.54866474e-02, 2.25685863e-03],\n",
       "       [9.73990381e-01, 8.26603454e-03, 1.54866474e-02, 2.25685863e-03],\n",
       "       [9.73990381e-01, 8.26603454e-03, 1.54866474e-02, 2.25685863e-03],\n",
       "       [9.73990381e-01, 8.26603454e-03, 1.54866474e-02, 2.25685863e-03],\n",
       "       [9.73990381e-01, 8.26603454e-03, 1.54866474e-02, 2.25685863e-03],\n",
       "       [9.73990381e-01, 8.26603454e-03, 1.54866474e-02, 2.25685863e-03],\n",
       "       [9.73990381e-01, 8.26603454e-03, 1.54866474e-02, 2.25685863e-03],\n",
       "       [9.73990381e-01, 8.26603454e-03, 1.54866474e-02, 2.25685863e-03],\n",
       "       [9.73990381e-01, 8.26603454e-03, 1.54866474e-02, 2.25685863e-03],\n",
       "       [9.73990381e-01, 8.26603454e-03, 1.54866474e-02, 2.25685863e-03],\n",
       "       [9.73990381e-01, 8.26603454e-03, 1.54866474e-02, 2.25685863e-03],\n",
       "       [9.73990381e-01, 8.26603454e-03, 1.54866474e-02, 2.25685863e-03],\n",
       "       [9.73990381e-01, 8.26603454e-03, 1.54866474e-02, 2.25685863e-03],\n",
       "       [9.73990381e-01, 8.26603454e-03, 1.54866474e-02, 2.25685863e-03],\n",
       "       [8.38122237e-03, 9.90568697e-01, 5.41862333e-04, 5.08226105e-04],\n",
       "       [8.38122237e-03, 9.90568697e-01, 5.41862333e-04, 5.08226105e-04],\n",
       "       [8.38122610e-03, 9.90568697e-01, 5.41862333e-04, 5.08225872e-04],\n",
       "       [8.38122610e-03, 9.90568697e-01, 5.41862333e-04, 5.08225872e-04],\n",
       "       [8.38122237e-03, 9.90568697e-01, 5.41862333e-04, 5.08226105e-04],\n",
       "       [8.38122237e-03, 9.90568697e-01, 5.41862333e-04, 5.08226105e-04],\n",
       "       [8.38122237e-03, 9.90568697e-01, 5.41862333e-04, 5.08226105e-04],\n",
       "       [8.38122237e-03, 9.90568697e-01, 5.41862333e-04, 5.08226105e-04],\n",
       "       [8.38122237e-03, 9.90568697e-01, 5.41862333e-04, 5.08226105e-04],\n",
       "       [8.38122237e-03, 9.90568697e-01, 5.41862333e-04, 5.08226105e-04],\n",
       "       [8.38122237e-03, 9.90568697e-01, 5.41862333e-04, 5.08226105e-04],\n",
       "       [8.38122237e-03, 9.90568697e-01, 5.41862333e-04, 5.08226105e-04],\n",
       "       [8.38122237e-03, 9.90568697e-01, 5.41862333e-04, 5.08226105e-04],\n",
       "       [8.38122237e-03, 9.90568697e-01, 5.41862333e-04, 5.08226105e-04],\n",
       "       [8.38122237e-03, 9.90568697e-01, 5.41862333e-04, 5.08226105e-04],\n",
       "       [8.38122237e-03, 9.90568697e-01, 5.41862333e-04, 5.08226105e-04],\n",
       "       [8.38122237e-03, 9.90568697e-01, 5.41862333e-04, 5.08226105e-04],\n",
       "       [8.38122237e-03, 9.90568697e-01, 5.41862333e-04, 5.08226105e-04],\n",
       "       [8.38122237e-03, 9.90568697e-01, 5.41862333e-04, 5.08226105e-04],\n",
       "       [8.38122237e-03, 9.90568697e-01, 5.41862333e-04, 5.08226105e-04],\n",
       "       [8.38122237e-03, 9.90568697e-01, 5.41862333e-04, 5.08226105e-04],\n",
       "       [8.38122237e-03, 9.90568697e-01, 5.41862333e-04, 5.08226105e-04],\n",
       "       [9.63899672e-01, 1.16587374e-02, 2.11013183e-02, 3.34028737e-03],\n",
       "       [9.63899672e-01, 1.16587374e-02, 2.11013183e-02, 3.34028737e-03],\n",
       "       [9.63899672e-01, 1.16587374e-02, 2.11013183e-02, 3.34028737e-03],\n",
       "       [9.63899672e-01, 1.16587374e-02, 2.11013183e-02, 3.34028737e-03],\n",
       "       [9.63899672e-01, 1.16587374e-02, 2.11013183e-02, 3.34028737e-03],\n",
       "       [9.63899672e-01, 1.16587374e-02, 2.11013183e-02, 3.34028737e-03],\n",
       "       [9.63899672e-01, 1.16587374e-02, 2.11013183e-02, 3.34028737e-03],\n",
       "       [1.01982104e-02, 1.01295637e-03, 9.82495904e-01, 6.29295828e-03],\n",
       "       [1.01982104e-02, 1.01295637e-03, 9.82495904e-01, 6.29295828e-03],\n",
       "       [1.01982104e-02, 1.01295637e-03, 9.82495904e-01, 6.29295828e-03],\n",
       "       [1.01982104e-02, 1.01295637e-03, 9.82495904e-01, 6.29295828e-03],\n",
       "       [1.01982104e-02, 1.01295637e-03, 9.82495904e-01, 6.29295828e-03],\n",
       "       [1.01982104e-02, 1.01295637e-03, 9.82495904e-01, 6.29295828e-03],\n",
       "       [1.01982104e-02, 1.01295637e-03, 9.82495904e-01, 6.29295828e-03],\n",
       "       [1.01982104e-02, 1.01295637e-03, 9.82495904e-01, 6.29295828e-03],\n",
       "       [9.74731088e-01, 7.08041247e-03, 1.58843249e-02, 2.30407459e-03],\n",
       "       [9.74731088e-01, 7.08041247e-03, 1.58843249e-02, 2.30407459e-03],\n",
       "       [9.74731088e-01, 7.08041247e-03, 1.58843249e-02, 2.30407459e-03],\n",
       "       [9.74731088e-01, 7.08041247e-03, 1.58843249e-02, 2.30407459e-03],\n",
       "       [9.74731088e-01, 7.08041247e-03, 1.58843249e-02, 2.30407459e-03],\n",
       "       [9.74731088e-01, 7.08041247e-03, 1.58843249e-02, 2.30407459e-03],\n",
       "       [9.74731088e-01, 7.08041247e-03, 1.58843249e-02, 2.30407459e-03],\n",
       "       [9.74731088e-01, 7.08041247e-03, 1.58843249e-02, 2.30407459e-03],\n",
       "       [9.74731088e-01, 7.08041247e-03, 1.58843249e-02, 2.30407459e-03],\n",
       "       [9.74731088e-01, 7.08041247e-03, 1.58843249e-02, 2.30407459e-03],\n",
       "       [9.74731088e-01, 7.08041247e-03, 1.58843249e-02, 2.30407459e-03],\n",
       "       [9.74731088e-01, 7.08041247e-03, 1.58843249e-02, 2.30407459e-03],\n",
       "       [9.74731088e-01, 7.08041247e-03, 1.58843249e-02, 2.30407459e-03],\n",
       "       [9.74731088e-01, 7.08041247e-03, 1.58843249e-02, 2.30407459e-03],\n",
       "       [9.74731088e-01, 7.08041247e-03, 1.58843249e-02, 2.30407459e-03],\n",
       "       [9.74731088e-01, 7.08041247e-03, 1.58843249e-02, 2.30407459e-03],\n",
       "       [9.74731088e-01, 7.08041247e-03, 1.58843249e-02, 2.30407459e-03],\n",
       "       [3.51653411e-03, 9.74314113e-04, 9.91706252e-01, 3.80285480e-03],\n",
       "       [3.51653411e-03, 9.74314113e-04, 9.91706252e-01, 3.80285480e-03],\n",
       "       [3.51653411e-03, 9.74314113e-04, 9.91706252e-01, 3.80285480e-03],\n",
       "       [3.51653411e-03, 9.74314113e-04, 9.91706252e-01, 3.80285480e-03],\n",
       "       [3.51653411e-03, 9.74314113e-04, 9.91706252e-01, 3.80285480e-03],\n",
       "       [3.51653411e-03, 9.74314113e-04, 9.91706252e-01, 3.80285480e-03]],\n",
       "      dtype=float32)"
      ]
     },
     "execution_count": 120,
     "metadata": {},
     "output_type": "execute_result"
    }
   ],
   "source": [
    "predicted = model.predict(df_initial['description'].values)\n",
    "predicted"
   ]
  },
  {
   "cell_type": "code",
   "execution_count": 122,
   "id": "84e99bbb",
   "metadata": {
    "scrolled": true
   },
   "outputs": [
    {
     "data": {
      "text/plain": [
       "['бізнес',\n",
       " 'бізнес',\n",
       " 'бізнес',\n",
       " 'бізнес',\n",
       " 'бізнес',\n",
       " 'комфорт',\n",
       " 'комфорт',\n",
       " 'комфорт',\n",
       " 'комфорт',\n",
       " 'комфорт',\n",
       " 'комфорт',\n",
       " 'комфорт',\n",
       " 'комфорт',\n",
       " 'комфорт',\n",
       " 'комфорт',\n",
       " 'комфорт',\n",
       " 'комфорт',\n",
       " 'комфорт',\n",
       " 'комфорт',\n",
       " 'комфорт',\n",
       " 'комфорт',\n",
       " 'комфорт',\n",
       " 'комфорт',\n",
       " 'комфорт',\n",
       " 'комфорт',\n",
       " 'комфорт',\n",
       " 'комфорт',\n",
       " 'комфорт',\n",
       " 'комфорт',\n",
       " 'комфорт',\n",
       " 'комфорт',\n",
       " 'комфорт',\n",
       " 'комфорт',\n",
       " 'комфорт',\n",
       " 'комфорт',\n",
       " 'комфорт',\n",
       " 'комфорт',\n",
       " 'комфорт',\n",
       " 'комфорт',\n",
       " 'комфорт',\n",
       " 'комфорт',\n",
       " 'комфорт',\n",
       " 'комфорт',\n",
       " 'комфорт',\n",
       " 'комфорт',\n",
       " 'комфорт',\n",
       " 'комфорт',\n",
       " 'комфорт',\n",
       " 'комфорт',\n",
       " 'комфорт',\n",
       " 'комфорт',\n",
       " 'комфорт',\n",
       " 'комфорт',\n",
       " 'комфорт',\n",
       " 'комфорт',\n",
       " 'комфорт',\n",
       " 'комфорт',\n",
       " 'комфорт',\n",
       " 'комфорт',\n",
       " 'комфорт',\n",
       " 'комфорт',\n",
       " 'комфорт',\n",
       " 'комфорт',\n",
       " 'комфорт',\n",
       " 'комфорт',\n",
       " 'комфорт',\n",
       " 'комфорт',\n",
       " 'комфорт',\n",
       " 'комфорт',\n",
       " 'комфорт',\n",
       " 'комфорт',\n",
       " 'комфорт',\n",
       " 'комфорт',\n",
       " 'комфорт',\n",
       " 'комфорт',\n",
       " 'бізнес',\n",
       " 'бізнес',\n",
       " 'бізнес',\n",
       " 'бізнес',\n",
       " 'бізнес',\n",
       " 'бізнес',\n",
       " 'бізнес',\n",
       " 'бізнес',\n",
       " 'бізнес',\n",
       " 'бізнес',\n",
       " 'бізнес',\n",
       " 'бізнес',\n",
       " 'бізнес',\n",
       " 'бізнес',\n",
       " 'бізнес',\n",
       " 'бізнес',\n",
       " 'бізнес',\n",
       " 'преміум',\n",
       " 'преміум',\n",
       " 'преміум',\n",
       " 'преміум',\n",
       " 'преміум',\n",
       " 'преміум',\n",
       " 'преміум',\n",
       " 'преміум',\n",
       " 'преміум',\n",
       " 'преміум',\n",
       " 'преміум',\n",
       " 'преміум',\n",
       " 'преміум',\n",
       " 'преміум',\n",
       " 'преміум',\n",
       " 'преміум',\n",
       " 'преміум',\n",
       " 'преміум',\n",
       " 'преміум',\n",
       " 'преміум',\n",
       " 'преміум',\n",
       " 'преміум',\n",
       " 'бізнес',\n",
       " 'бізнес',\n",
       " 'бізнес',\n",
       " 'бізнес',\n",
       " 'бізнес',\n",
       " 'бізнес',\n",
       " 'бізнес',\n",
       " 'комфорт',\n",
       " 'комфорт',\n",
       " 'комфорт',\n",
       " 'комфорт',\n",
       " 'комфорт',\n",
       " 'комфорт',\n",
       " 'комфорт',\n",
       " 'комфорт',\n",
       " 'бізнес',\n",
       " 'бізнес',\n",
       " 'бізнес',\n",
       " 'бізнес',\n",
       " 'бізнес',\n",
       " 'бізнес',\n",
       " 'бізнес',\n",
       " 'бізнес',\n",
       " 'бізнес',\n",
       " 'бізнес',\n",
       " 'бізнес',\n",
       " 'бізнес',\n",
       " 'бізнес',\n",
       " 'бізнес',\n",
       " 'бізнес',\n",
       " 'бізнес',\n",
       " 'бізнес',\n",
       " 'комфорт',\n",
       " 'комфорт',\n",
       " 'комфорт',\n",
       " 'комфорт',\n",
       " 'комфорт',\n",
       " 'комфорт']"
      ]
     },
     "execution_count": 122,
     "metadata": {},
     "output_type": "execute_result"
    }
   ],
   "source": [
    "predicted_to_human_readable = list(map(lambda categorical: pred_to_text(np.argmax(categorical)), predicted))\n",
    "predicted_to_human_readable"
   ]
  },
  {
   "cell_type": "code",
   "execution_count": 123,
   "id": "0b410ae3",
   "metadata": {},
   "outputs": [],
   "source": [
    "crafted_dataset = df_initial.copy()"
   ]
  },
  {
   "cell_type": "code",
   "execution_count": 144,
   "id": "6647ca3a",
   "metadata": {},
   "outputs": [
    {
     "data": {
      "text/plain": [
       "((152, 3), 152)"
      ]
     },
     "execution_count": 144,
     "metadata": {},
     "output_type": "execute_result"
    }
   ],
   "source": [
    "crafted_dataset.shape, len(predicted_to_human_readable)"
   ]
  },
  {
   "cell_type": "code",
   "execution_count": 139,
   "id": "9eaa1981",
   "metadata": {},
   "outputs": [],
   "source": [
    "crafted_dataset['predictedClass'] = predicted_to_human_readable"
   ]
  },
  {
   "cell_type": "code",
   "execution_count": 140,
   "id": "079c9db2",
   "metadata": {
    "scrolled": true
   },
   "outputs": [
    {
     "data": {
      "text/html": [
       "<div>\n",
       "<style scoped>\n",
       "    .dataframe tbody tr th:only-of-type {\n",
       "        vertical-align: middle;\n",
       "    }\n",
       "\n",
       "    .dataframe tbody tr th {\n",
       "        vertical-align: top;\n",
       "    }\n",
       "\n",
       "    .dataframe thead th {\n",
       "        text-align: right;\n",
       "    }\n",
       "</style>\n",
       "<table border=\"1\" class=\"dataframe\">\n",
       "  <thead>\n",
       "    <tr style=\"text-align: right;\">\n",
       "      <th></th>\n",
       "      <th>description</th>\n",
       "      <th>class</th>\n",
       "      <th>predictedClass</th>\n",
       "    </tr>\n",
       "  </thead>\n",
       "  <tbody>\n",
       "    <tr>\n",
       "      <th>0</th>\n",
       "      <td>Residential complex A136 Highlight Tower is a ...</td>\n",
       "      <td>0</td>\n",
       "      <td>бізнес</td>\n",
       "    </tr>\n",
       "    <tr>\n",
       "      <th>2</th>\n",
       "      <td>Residential complex A136 Highlight Tower is a ...</td>\n",
       "      <td>0</td>\n",
       "      <td>бізнес</td>\n",
       "    </tr>\n",
       "    <tr>\n",
       "      <th>3</th>\n",
       "      <td>Residential complex A136 Highlight Tower is a ...</td>\n",
       "      <td>0</td>\n",
       "      <td>бізнес</td>\n",
       "    </tr>\n",
       "    <tr>\n",
       "      <th>4</th>\n",
       "      <td>Residential complex A136 Highlight Tower is a ...</td>\n",
       "      <td>0</td>\n",
       "      <td>бізнес</td>\n",
       "    </tr>\n",
       "    <tr>\n",
       "      <th>5</th>\n",
       "      <td>Residential complex A136 Highlight Tower is a ...</td>\n",
       "      <td>0</td>\n",
       "      <td>бізнес</td>\n",
       "    </tr>\n",
       "    <tr>\n",
       "      <th>...</th>\n",
       "      <td>...</td>\n",
       "      <td>...</td>\n",
       "      <td>...</td>\n",
       "    </tr>\n",
       "    <tr>\n",
       "      <th>158</th>\n",
       "      <td>The 4 Seasons residential complex in Kyiv is a...</td>\n",
       "      <td>2</td>\n",
       "      <td>комфорт</td>\n",
       "    </tr>\n",
       "    <tr>\n",
       "      <th>159</th>\n",
       "      <td>The 4 Seasons residential complex in Kyiv is a...</td>\n",
       "      <td>2</td>\n",
       "      <td>комфорт</td>\n",
       "    </tr>\n",
       "    <tr>\n",
       "      <th>160</th>\n",
       "      <td>The 4 Seasons residential complex in Kyiv is a...</td>\n",
       "      <td>2</td>\n",
       "      <td>комфорт</td>\n",
       "    </tr>\n",
       "    <tr>\n",
       "      <th>161</th>\n",
       "      <td>The 4 Seasons residential complex in Kyiv is a...</td>\n",
       "      <td>2</td>\n",
       "      <td>комфорт</td>\n",
       "    </tr>\n",
       "    <tr>\n",
       "      <th>162</th>\n",
       "      <td>The 4 Seasons residential complex in Kyiv is a...</td>\n",
       "      <td>2</td>\n",
       "      <td>комфорт</td>\n",
       "    </tr>\n",
       "  </tbody>\n",
       "</table>\n",
       "<p>152 rows × 3 columns</p>\n",
       "</div>"
      ],
      "text/plain": [
       "                                           description  class predictedClass\n",
       "0    Residential complex A136 Highlight Tower is a ...      0         бізнес\n",
       "2    Residential complex A136 Highlight Tower is a ...      0         бізнес\n",
       "3    Residential complex A136 Highlight Tower is a ...      0         бізнес\n",
       "4    Residential complex A136 Highlight Tower is a ...      0         бізнес\n",
       "5    Residential complex A136 Highlight Tower is a ...      0         бізнес\n",
       "..                                                 ...    ...            ...\n",
       "158  The 4 Seasons residential complex in Kyiv is a...      2        комфорт\n",
       "159  The 4 Seasons residential complex in Kyiv is a...      2        комфорт\n",
       "160  The 4 Seasons residential complex in Kyiv is a...      2        комфорт\n",
       "161  The 4 Seasons residential complex in Kyiv is a...      2        комфорт\n",
       "162  The 4 Seasons residential complex in Kyiv is a...      2        комфорт\n",
       "\n",
       "[152 rows x 3 columns]"
      ]
     },
     "execution_count": 140,
     "metadata": {},
     "output_type": "execute_result"
    }
   ],
   "source": [
    "crafted_dataset"
   ]
  },
  {
   "cell_type": "code",
   "execution_count": 145,
   "id": "3bc8cb12",
   "metadata": {},
   "outputs": [],
   "source": [
    "crafted_dataset.to_csv('real-estate-with-nn-results.csv', encoding='utf-8')"
   ]
  }
 ],
 "metadata": {
  "kernelspec": {
   "display_name": "Python 3 (ipykernel)",
   "language": "python",
   "name": "python3"
  },
  "language_info": {
   "codemirror_mode": {
    "name": "ipython",
    "version": 3
   },
   "file_extension": ".py",
   "mimetype": "text/x-python",
   "name": "python",
   "nbconvert_exporter": "python",
   "pygments_lexer": "ipython3",
   "version": "3.9.16"
  }
 },
 "nbformat": 4,
 "nbformat_minor": 5
}
