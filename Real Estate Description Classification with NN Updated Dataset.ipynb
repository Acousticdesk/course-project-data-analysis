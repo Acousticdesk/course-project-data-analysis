{
 "cells": [
  {
   "cell_type": "markdown",
   "id": "cb3bb36d",
   "metadata": {},
   "source": [
    "# Класифікація обʼєктів новобудови за текстовим описом за допомогою зворотної нейронної мережі"
   ]
  },
  {
   "cell_type": "markdown",
   "id": "0eb980d0",
   "metadata": {},
   "source": [
    "Рекурсивна нейронна мережа використовується для наборів даних які представляють собою серію послідовних даних. Наприклад, опис обʼєкту нерухомості є текстовою строкою. Кожний символ повʼязаний із попередніми символами та із наступними. Через це використання звичайної нейронної мережі є неможливим при роботі із текстом.\n",
    "\n",
    "Натомість, для цього використовуються Рекурсивні Нейронні Мережі."
   ]
  },
  {
   "cell_type": "markdown",
   "id": "1905b466",
   "metadata": {},
   "source": [
    "https://www.youtube.com/watch?v=VtRLrQ3Ev-U&ab_channel=freeCodeCamp.org"
   ]
  },
  {
   "cell_type": "code",
   "execution_count": 69,
   "id": "c03d44b7",
   "metadata": {},
   "outputs": [],
   "source": [
    "import numpy as np\n",
    "import pandas as pd\n",
    "import matplotlib.pyplot as plt\n",
    "import tensorflow as tf\n",
    "import tensorflow_hub as hub\n",
    "from keras.models import Sequential\n",
    "from keras.layers import Dense, Dropout, TextVectorization, Embedding, LSTM\n",
    "from keras.optimizers import Adam\n",
    "from keras.utils import to_categorical\n",
    "# BinaryCrossentropy функція повинна використовуватися для задач бінарної класифікації. Для мультикласової класифікації потрібно використовувати CategoricalCrossentropy\n",
    "# from keras.losses import BinaryCrossentropy\n",
    "from keras.losses import CategoricalCrossentropy\n",
    "from sklearn.model_selection import train_test_split"
   ]
  },
  {
   "cell_type": "markdown",
   "id": "77127c14",
   "metadata": {},
   "source": [
    "## Завантаження набору даних"
   ]
  },
  {
   "cell_type": "markdown",
   "id": "1dbccebc",
   "metadata": {},
   "source": [
    "### Ознайомлення з набором даних"
   ]
  },
  {
   "cell_type": "code",
   "execution_count": 70,
   "id": "2e396479",
   "metadata": {},
   "outputs": [],
   "source": [
    "df = pd.read_csv('./real-estate-mapped.csv')"
   ]
  },
  {
   "cell_type": "code",
   "execution_count": 71,
   "id": "39ba2815",
   "metadata": {
    "scrolled": false
   },
   "outputs": [
    {
     "data": {
      "text/html": [
       "<div>\n",
       "<style scoped>\n",
       "    .dataframe tbody tr th:only-of-type {\n",
       "        vertical-align: middle;\n",
       "    }\n",
       "\n",
       "    .dataframe tbody tr th {\n",
       "        vertical-align: top;\n",
       "    }\n",
       "\n",
       "    .dataframe thead th {\n",
       "        text-align: right;\n",
       "    }\n",
       "</style>\n",
       "<table border=\"1\" class=\"dataframe\">\n",
       "  <thead>\n",
       "    <tr style=\"text-align: right;\">\n",
       "      <th></th>\n",
       "      <th>residence</th>\n",
       "      <th>developer</th>\n",
       "      <th>description</th>\n",
       "      <th>address</th>\n",
       "      <th>district</th>\n",
       "      <th>ceilingHeight</th>\n",
       "      <th>numApartmentsTotal</th>\n",
       "      <th>year</th>\n",
       "      <th>pricePerSquareMeter</th>\n",
       "      <th>price</th>\n",
       "      <th>area</th>\n",
       "      <th>rooms</th>\n",
       "      <th>floor</th>\n",
       "      <th>minutesToCityCenter</th>\n",
       "      <th>assess</th>\n",
       "      <th>crimeRateInDistrict</th>\n",
       "      <th>class</th>\n",
       "    </tr>\n",
       "  </thead>\n",
       "  <tbody>\n",
       "    <tr>\n",
       "      <th>0</th>\n",
       "      <td>А136 Highlight Tower</td>\n",
       "      <td>DIM</td>\n",
       "      <td>Residential complex A136 Highlight Tower is a ...</td>\n",
       "      <td>вул. Антоновича, 136-138</td>\n",
       "      <td>Голосіївський р-н</td>\n",
       "      <td>3</td>\n",
       "      <td>324</td>\n",
       "      <td>2023</td>\n",
       "      <td>137800</td>\n",
       "      <td>7441200</td>\n",
       "      <td>54</td>\n",
       "      <td>1</td>\n",
       "      <td>18</td>\n",
       "      <td>48</td>\n",
       "      <td>52536</td>\n",
       "      <td>2317</td>\n",
       "      <td>бізнес</td>\n",
       "    </tr>\n",
       "  </tbody>\n",
       "</table>\n",
       "</div>"
      ],
      "text/plain": [
       "              residence developer  \\\n",
       "0  А136 Highlight Tower       DIM   \n",
       "\n",
       "                                         description  \\\n",
       "0  Residential complex A136 Highlight Tower is a ...   \n",
       "\n",
       "                    address           district  ceilingHeight  \\\n",
       "0  вул. Антоновича, 136-138  Голосіївський р-н              3   \n",
       "\n",
       "   numApartmentsTotal  year  pricePerSquareMeter    price  area  rooms  floor  \\\n",
       "0                 324  2023               137800  7441200    54      1     18   \n",
       "\n",
       "   minutesToCityCenter  assess  crimeRateInDistrict   class  \n",
       "0                   48   52536                 2317  бізнес  "
      ]
     },
     "execution_count": 71,
     "metadata": {},
     "output_type": "execute_result"
    }
   ],
   "source": [
    "df.head()"
   ]
  },
  {
   "cell_type": "code",
   "execution_count": 72,
   "id": "6ba99fa9",
   "metadata": {
    "scrolled": false
   },
   "outputs": [
    {
     "data": {
      "text/html": [
       "<div>\n",
       "<style scoped>\n",
       "    .dataframe tbody tr th:only-of-type {\n",
       "        vertical-align: middle;\n",
       "    }\n",
       "\n",
       "    .dataframe tbody tr th {\n",
       "        vertical-align: top;\n",
       "    }\n",
       "\n",
       "    .dataframe thead th {\n",
       "        text-align: right;\n",
       "    }\n",
       "</style>\n",
       "<table border=\"1\" class=\"dataframe\">\n",
       "  <thead>\n",
       "    <tr style=\"text-align: right;\">\n",
       "      <th></th>\n",
       "      <th>residence</th>\n",
       "      <th>developer</th>\n",
       "      <th>description</th>\n",
       "      <th>address</th>\n",
       "      <th>district</th>\n",
       "      <th>ceilingHeight</th>\n",
       "      <th>numApartmentsTotal</th>\n",
       "      <th>year</th>\n",
       "      <th>pricePerSquareMeter</th>\n",
       "      <th>price</th>\n",
       "      <th>area</th>\n",
       "      <th>rooms</th>\n",
       "      <th>floor</th>\n",
       "      <th>minutesToCityCenter</th>\n",
       "      <th>assess</th>\n",
       "      <th>crimeRateInDistrict</th>\n",
       "      <th>class</th>\n",
       "    </tr>\n",
       "  </thead>\n",
       "  <tbody>\n",
       "    <tr>\n",
       "      <th>0</th>\n",
       "      <td>А136 Highlight Tower</td>\n",
       "      <td>DIM</td>\n",
       "      <td>Residential complex A136 Highlight Tower is a ...</td>\n",
       "      <td>вул. Антоновича, 136-138</td>\n",
       "      <td>Голосіївський р-н</td>\n",
       "      <td>3</td>\n",
       "      <td>324</td>\n",
       "      <td>2023</td>\n",
       "      <td>137800</td>\n",
       "      <td>7441200</td>\n",
       "      <td>54</td>\n",
       "      <td>1</td>\n",
       "      <td>18</td>\n",
       "      <td>48</td>\n",
       "      <td>52536</td>\n",
       "      <td>2317</td>\n",
       "      <td>бізнес</td>\n",
       "    </tr>\n",
       "  </tbody>\n",
       "</table>\n",
       "</div>"
      ],
      "text/plain": [
       "              residence developer  \\\n",
       "0  А136 Highlight Tower       DIM   \n",
       "\n",
       "                                         description  \\\n",
       "0  Residential complex A136 Highlight Tower is a ...   \n",
       "\n",
       "                    address           district  ceilingHeight  \\\n",
       "0  вул. Антоновича, 136-138  Голосіївський р-н              3   \n",
       "\n",
       "   numApartmentsTotal  year  pricePerSquareMeter    price  area  rooms  floor  \\\n",
       "0                 324  2023               137800  7441200    54      1     18   \n",
       "\n",
       "   minutesToCityCenter  assess  crimeRateInDistrict   class  \n",
       "0                   48   52536                 2317  бізнес  "
      ]
     },
     "execution_count": 72,
     "metadata": {},
     "output_type": "execute_result"
    }
   ],
   "source": [
    "df.sample()"
   ]
  },
  {
   "cell_type": "code",
   "execution_count": 73,
   "id": "50a6a599",
   "metadata": {},
   "outputs": [
    {
     "data": {
      "text/plain": [
       "(1, 17)"
      ]
     },
     "execution_count": 73,
     "metadata": {},
     "output_type": "execute_result"
    }
   ],
   "source": [
    "df.shape"
   ]
  },
  {
   "cell_type": "markdown",
   "id": "17a6d4c2",
   "metadata": {},
   "source": [
    "### Фільтрація пустих значень"
   ]
  },
  {
   "cell_type": "code",
   "execution_count": 74,
   "id": "a80b0703",
   "metadata": {},
   "outputs": [],
   "source": [
    "df = df.dropna()"
   ]
  },
  {
   "cell_type": "code",
   "execution_count": 75,
   "id": "55b7c42b",
   "metadata": {
    "scrolled": true
   },
   "outputs": [
    {
     "data": {
      "text/plain": [
       "(1, 17)"
      ]
     },
     "execution_count": 75,
     "metadata": {},
     "output_type": "execute_result"
    }
   ],
   "source": [
    "df.shape"
   ]
  },
  {
   "cell_type": "markdown",
   "id": "daab8d74",
   "metadata": {},
   "source": [
    "### Доступні в наборі даних класи нерухомості"
   ]
  },
  {
   "cell_type": "code",
   "execution_count": 76,
   "id": "644f90ba",
   "metadata": {
    "scrolled": false
   },
   "outputs": [
    {
     "data": {
      "text/plain": [
       "array(['бізнес'], dtype=object)"
      ]
     },
     "execution_count": 76,
     "metadata": {},
     "output_type": "execute_result"
    }
   ],
   "source": [
    "df['class'].unique()"
   ]
  },
  {
   "cell_type": "code",
   "execution_count": 77,
   "id": "18f551af",
   "metadata": {},
   "outputs": [
    {
     "data": {
      "text/html": [
       "<div>\n",
       "<style scoped>\n",
       "    .dataframe tbody tr th:only-of-type {\n",
       "        vertical-align: middle;\n",
       "    }\n",
       "\n",
       "    .dataframe tbody tr th {\n",
       "        vertical-align: top;\n",
       "    }\n",
       "\n",
       "    .dataframe thead th {\n",
       "        text-align: right;\n",
       "    }\n",
       "</style>\n",
       "<table border=\"1\" class=\"dataframe\">\n",
       "  <thead>\n",
       "    <tr style=\"text-align: right;\">\n",
       "      <th></th>\n",
       "      <th>residence</th>\n",
       "      <th>developer</th>\n",
       "      <th>description</th>\n",
       "      <th>address</th>\n",
       "      <th>district</th>\n",
       "      <th>ceilingHeight</th>\n",
       "      <th>numApartmentsTotal</th>\n",
       "      <th>year</th>\n",
       "      <th>pricePerSquareMeter</th>\n",
       "      <th>price</th>\n",
       "      <th>area</th>\n",
       "      <th>rooms</th>\n",
       "      <th>floor</th>\n",
       "      <th>minutesToCityCenter</th>\n",
       "      <th>assess</th>\n",
       "      <th>crimeRateInDistrict</th>\n",
       "      <th>class</th>\n",
       "    </tr>\n",
       "  </thead>\n",
       "  <tbody>\n",
       "    <tr>\n",
       "      <th>0</th>\n",
       "      <td>А136 Highlight Tower</td>\n",
       "      <td>DIM</td>\n",
       "      <td>Residential complex A136 Highlight Tower is a ...</td>\n",
       "      <td>вул. Антоновича, 136-138</td>\n",
       "      <td>Голосіївський р-н</td>\n",
       "      <td>3</td>\n",
       "      <td>324</td>\n",
       "      <td>2023</td>\n",
       "      <td>137800</td>\n",
       "      <td>7441200</td>\n",
       "      <td>54</td>\n",
       "      <td>1</td>\n",
       "      <td>18</td>\n",
       "      <td>48</td>\n",
       "      <td>52536</td>\n",
       "      <td>2317</td>\n",
       "      <td>бізнес</td>\n",
       "    </tr>\n",
       "  </tbody>\n",
       "</table>\n",
       "</div>"
      ],
      "text/plain": [
       "              residence developer  \\\n",
       "0  А136 Highlight Tower       DIM   \n",
       "\n",
       "                                         description  \\\n",
       "0  Residential complex A136 Highlight Tower is a ...   \n",
       "\n",
       "                    address           district  ceilingHeight  \\\n",
       "0  вул. Антоновича, 136-138  Голосіївський р-н              3   \n",
       "\n",
       "   numApartmentsTotal  year  pricePerSquareMeter    price  area  rooms  floor  \\\n",
       "0                 324  2023               137800  7441200    54      1     18   \n",
       "\n",
       "   minutesToCityCenter  assess  crimeRateInDistrict   class  \n",
       "0                   48   52536                 2317  бізнес  "
      ]
     },
     "execution_count": 77,
     "metadata": {},
     "output_type": "execute_result"
    }
   ],
   "source": [
    "df.head()"
   ]
  },
  {
   "cell_type": "markdown",
   "id": "8d2b04c1",
   "metadata": {},
   "source": [
    "### Переведення класів нерухомості до числових значень"
   ]
  },
  {
   "cell_type": "code",
   "execution_count": 78,
   "id": "e4514b60",
   "metadata": {},
   "outputs": [],
   "source": [
    "class_to_num_map = { 'бізнес': 0, 'преміум': 1, 'комфорт': 2, 'економ': 3 }\n",
    "\n",
    "df['class'] = df['class'].map(class_to_num_map)"
   ]
  },
  {
   "cell_type": "code",
   "execution_count": 79,
   "id": "99c1083c",
   "metadata": {},
   "outputs": [],
   "source": [
    "df = df[['description', 'class']]"
   ]
  },
  {
   "cell_type": "code",
   "execution_count": 80,
   "id": "3fb31b39",
   "metadata": {
    "scrolled": false
   },
   "outputs": [
    {
     "data": {
      "text/html": [
       "<div>\n",
       "<style scoped>\n",
       "    .dataframe tbody tr th:only-of-type {\n",
       "        vertical-align: middle;\n",
       "    }\n",
       "\n",
       "    .dataframe tbody tr th {\n",
       "        vertical-align: top;\n",
       "    }\n",
       "\n",
       "    .dataframe thead th {\n",
       "        text-align: right;\n",
       "    }\n",
       "</style>\n",
       "<table border=\"1\" class=\"dataframe\">\n",
       "  <thead>\n",
       "    <tr style=\"text-align: right;\">\n",
       "      <th></th>\n",
       "      <th>description</th>\n",
       "      <th>class</th>\n",
       "    </tr>\n",
       "  </thead>\n",
       "  <tbody>\n",
       "    <tr>\n",
       "      <th>0</th>\n",
       "      <td>Residential complex A136 Highlight Tower is a ...</td>\n",
       "      <td>0</td>\n",
       "    </tr>\n",
       "  </tbody>\n",
       "</table>\n",
       "</div>"
      ],
      "text/plain": [
       "                                         description  class\n",
       "0  Residential complex A136 Highlight Tower is a ...      0"
      ]
     },
     "execution_count": 80,
     "metadata": {},
     "output_type": "execute_result"
    }
   ],
   "source": [
    "df.head()"
   ]
  },
  {
   "cell_type": "markdown",
   "id": "3c881110",
   "metadata": {},
   "source": [
    "## Підготовка даних для тренування моделі"
   ]
  },
  {
   "cell_type": "markdown",
   "id": "18d0e00f",
   "metadata": {},
   "source": [
    "### Створення сету характеристик і міток"
   ]
  },
  {
   "cell_type": "markdown",
   "id": "c66b8ebe",
   "metadata": {},
   "source": [
    "TODO: використання imblearn.oversampling -> RandomOverSampler для прирівнювання к-сті зразків певного класу"
   ]
  },
  {
   "cell_type": "code",
   "execution_count": 81,
   "id": "be43e433",
   "metadata": {},
   "outputs": [],
   "source": [
    "train, val, test = np.split(df.sample(frac=1), [int(0.8 * len(df)), int(0.9 * len(df))])"
   ]
  },
  {
   "cell_type": "code",
   "execution_count": 82,
   "id": "cca0ee77",
   "metadata": {
    "scrolled": true
   },
   "outputs": [
    {
     "data": {
      "text/plain": [
       "((0, 2), (0, 2), (1, 2))"
      ]
     },
     "execution_count": 82,
     "metadata": {},
     "output_type": "execute_result"
    }
   ],
   "source": [
    "train.shape, val.shape, test.shape"
   ]
  },
  {
   "cell_type": "code",
   "execution_count": 83,
   "id": "2ad92425",
   "metadata": {
    "scrolled": false
   },
   "outputs": [
    {
     "data": {
      "text/html": [
       "<div>\n",
       "<style scoped>\n",
       "    .dataframe tbody tr th:only-of-type {\n",
       "        vertical-align: middle;\n",
       "    }\n",
       "\n",
       "    .dataframe tbody tr th {\n",
       "        vertical-align: top;\n",
       "    }\n",
       "\n",
       "    .dataframe thead th {\n",
       "        text-align: right;\n",
       "    }\n",
       "</style>\n",
       "<table border=\"1\" class=\"dataframe\">\n",
       "  <thead>\n",
       "    <tr style=\"text-align: right;\">\n",
       "      <th></th>\n",
       "      <th>description</th>\n",
       "      <th>class</th>\n",
       "    </tr>\n",
       "  </thead>\n",
       "  <tbody>\n",
       "    <tr>\n",
       "      <th>0</th>\n",
       "      <td>Residential complex A136 Highlight Tower is a ...</td>\n",
       "      <td>0</td>\n",
       "    </tr>\n",
       "  </tbody>\n",
       "</table>\n",
       "</div>"
      ],
      "text/plain": [
       "                                         description  class\n",
       "0  Residential complex A136 Highlight Tower is a ...      0"
      ]
     },
     "execution_count": 83,
     "metadata": {},
     "output_type": "execute_result"
    }
   ],
   "source": [
    "df.head()"
   ]
  },
  {
   "cell_type": "markdown",
   "id": "1dcdb7af",
   "metadata": {},
   "source": [
    "### Переведення міток до категоріальних значень"
   ]
  },
  {
   "cell_type": "markdown",
   "id": "b0bcaa6e",
   "metadata": {},
   "source": [
    "Так як мітки в даному випадку варіюються від 1 до 4 що вказує на певний клас будівлі, для того щоб повʼязати ці числа із виходом із softmax вихідного шару нейронної мережі, потрібно перевести числа до категоріального виду використовуюючи допоміжні функції keras."
   ]
  },
  {
   "cell_type": "code",
   "execution_count": 84,
   "id": "373a78c4",
   "metadata": {},
   "outputs": [],
   "source": [
    "x_train = train['description'].values\n",
    "y_train = to_categorical(train['class'], 4)\n",
    "\n",
    "x_valid = val['description'].values\n",
    "y_valid = to_categorical(val['class'], 4)\n",
    "\n",
    "x_test = test['description'].values\n",
    "y_test = to_categorical(test['class'], 4)\n",
    "\n",
    "x_pred = ['There is nothing good in this residential complex, please omit it']\n",
    "y_pred = to_categorical([0], 4)"
   ]
  },
  {
   "cell_type": "markdown",
   "id": "edead2be",
   "metadata": {},
   "source": [
    "### Композиція моделі"
   ]
  },
  {
   "cell_type": "code",
   "execution_count": 85,
   "id": "5e280d95",
   "metadata": {},
   "outputs": [],
   "source": [
    "embedding = 'https://tfhub.dev/google/nnlm-en-dim50/2'\n",
    "hub_layer = hub.KerasLayer(embedding, dtype=tf.string, trainable=True)"
   ]
  },
  {
   "cell_type": "code",
   "execution_count": 86,
   "id": "1a502d59",
   "metadata": {},
   "outputs": [],
   "source": [
    "model = Sequential()\n",
    "\n",
    "model.add(hub_layer)\n",
    "model.add(Dense(16, activation='relu'))\n",
    "model.add(Dense(16, activation='relu'))\n",
    "model.add(Dense(4, activation='softmax'))"
   ]
  },
  {
   "cell_type": "code",
   "execution_count": 87,
   "id": "94043d6d",
   "metadata": {},
   "outputs": [],
   "source": [
    "model.compile(optimizer=Adam(learning_rate=0.001), loss=CategoricalCrossentropy(), metrics=['accuracy'])"
   ]
  },
  {
   "cell_type": "code",
   "execution_count": 88,
   "id": "76623680",
   "metadata": {
    "scrolled": false
   },
   "outputs": [
    {
     "name": "stderr",
     "output_type": "stream",
     "text": [
      "/Users/andriikicha/Dev/knu/course project/data-analysis/venv/lib/python3.9/site-packages/keras/utils/generic_utils.py:239: RuntimeWarning: divide by zero encountered in log10\n",
      "  numdigits = int(np.log10(self.target)) + 1\n"
     ]
    },
    {
     "ename": "OverflowError",
     "evalue": "cannot convert float infinity to integer",
     "output_type": "error",
     "traceback": [
      "\u001B[0;31m---------------------------------------------------------------------------\u001B[0m",
      "\u001B[0;31mOverflowError\u001B[0m                             Traceback (most recent call last)",
      "Cell \u001B[0;32mIn[88], line 1\u001B[0m\n\u001B[0;32m----> 1\u001B[0m \u001B[43mmodel\u001B[49m\u001B[38;5;241;43m.\u001B[39;49m\u001B[43mevaluate\u001B[49m\u001B[43m(\u001B[49m\u001B[43mx_train\u001B[49m\u001B[43m,\u001B[49m\u001B[43m \u001B[49m\u001B[43my_train\u001B[49m\u001B[43m)\u001B[49m\n",
      "File \u001B[0;32m~/Dev/knu/course project/data-analysis/venv/lib/python3.9/site-packages/keras/utils/traceback_utils.py:70\u001B[0m, in \u001B[0;36mfilter_traceback.<locals>.error_handler\u001B[0;34m(*args, **kwargs)\u001B[0m\n\u001B[1;32m     67\u001B[0m     filtered_tb \u001B[38;5;241m=\u001B[39m _process_traceback_frames(e\u001B[38;5;241m.\u001B[39m__traceback__)\n\u001B[1;32m     68\u001B[0m     \u001B[38;5;66;03m# To get the full stack trace, call:\u001B[39;00m\n\u001B[1;32m     69\u001B[0m     \u001B[38;5;66;03m# `tf.debugging.disable_traceback_filtering()`\u001B[39;00m\n\u001B[0;32m---> 70\u001B[0m     \u001B[38;5;28;01mraise\u001B[39;00m e\u001B[38;5;241m.\u001B[39mwith_traceback(filtered_tb) \u001B[38;5;28;01mfrom\u001B[39;00m \u001B[38;5;28mNone\u001B[39m\n\u001B[1;32m     71\u001B[0m \u001B[38;5;28;01mfinally\u001B[39;00m:\n\u001B[1;32m     72\u001B[0m     \u001B[38;5;28;01mdel\u001B[39;00m filtered_tb\n",
      "File \u001B[0;32m~/Dev/knu/course project/data-analysis/venv/lib/python3.9/site-packages/keras/utils/generic_utils.py:239\u001B[0m, in \u001B[0;36mProgbar.update\u001B[0;34m(self, current, values, finalize)\u001B[0m\n\u001B[1;32m    236\u001B[0m     message \u001B[38;5;241m+\u001B[39m\u001B[38;5;241m=\u001B[39m \u001B[38;5;124m\"\u001B[39m\u001B[38;5;130;01m\\n\u001B[39;00m\u001B[38;5;124m\"\u001B[39m\n\u001B[1;32m    238\u001B[0m \u001B[38;5;28;01mif\u001B[39;00m \u001B[38;5;28mself\u001B[39m\u001B[38;5;241m.\u001B[39mtarget \u001B[38;5;129;01mis\u001B[39;00m \u001B[38;5;129;01mnot\u001B[39;00m \u001B[38;5;28;01mNone\u001B[39;00m:\n\u001B[0;32m--> 239\u001B[0m     numdigits \u001B[38;5;241m=\u001B[39m \u001B[38;5;28;43mint\u001B[39;49m\u001B[43m(\u001B[49m\u001B[43mnp\u001B[49m\u001B[38;5;241;43m.\u001B[39;49m\u001B[43mlog10\u001B[49m\u001B[43m(\u001B[49m\u001B[38;5;28;43mself\u001B[39;49m\u001B[38;5;241;43m.\u001B[39;49m\u001B[43mtarget\u001B[49m\u001B[43m)\u001B[49m\u001B[43m)\u001B[49m \u001B[38;5;241m+\u001B[39m \u001B[38;5;241m1\u001B[39m\n\u001B[1;32m    240\u001B[0m     bar \u001B[38;5;241m=\u001B[39m (\u001B[38;5;124m\"\u001B[39m\u001B[38;5;124m%\u001B[39m\u001B[38;5;124m\"\u001B[39m \u001B[38;5;241m+\u001B[39m \u001B[38;5;28mstr\u001B[39m(numdigits) \u001B[38;5;241m+\u001B[39m \u001B[38;5;124m\"\u001B[39m\u001B[38;5;124md/\u001B[39m\u001B[38;5;132;01m%d\u001B[39;00m\u001B[38;5;124m [\u001B[39m\u001B[38;5;124m\"\u001B[39m) \u001B[38;5;241m%\u001B[39m (current, \u001B[38;5;28mself\u001B[39m\u001B[38;5;241m.\u001B[39mtarget)\n\u001B[1;32m    241\u001B[0m     prog \u001B[38;5;241m=\u001B[39m \u001B[38;5;28mfloat\u001B[39m(current) \u001B[38;5;241m/\u001B[39m \u001B[38;5;28mself\u001B[39m\u001B[38;5;241m.\u001B[39mtarget\n",
      "\u001B[0;31mOverflowError\u001B[0m: cannot convert float infinity to integer"
     ]
    }
   ],
   "source": [
    "model.evaluate(x_train, y_train)"
   ]
  },
  {
   "cell_type": "markdown",
   "id": "e67323d7",
   "metadata": {},
   "source": [
    "### Тренування моделі"
   ]
  },
  {
   "cell_type": "markdown",
   "id": "65302e85",
   "metadata": {},
   "source": [
    "Попередньо модель була натренована на 10-20 епохах, але цього було недостатньо. Після 10-20 епох точність моделі все ще зростає і модель не переходить в режим Overfitting"
   ]
  },
  {
   "cell_type": "code",
   "execution_count": null,
   "id": "838f93f6",
   "metadata": {
    "scrolled": true
   },
   "outputs": [],
   "source": [
    "history = model.fit(x=x_train, y=y_train, epochs=30, validation_data=(x_valid, y_valid))"
   ]
  },
  {
   "cell_type": "markdown",
   "id": "95bff834",
   "metadata": {},
   "source": [
    "### Результати тренування моделі"
   ]
  },
  {
   "cell_type": "code",
   "execution_count": null,
   "id": "d174decf",
   "metadata": {
    "scrolled": false
   },
   "outputs": [],
   "source": [
    "plt.plot(history.history['accuracy'], label=\"Точність\")\n",
    "plt.plot(history.history['val_accuracy'], label=\"Валідаційна точність\")\n",
    "plt.legend()\n",
    "\n",
    "plt.show()"
   ]
  },
  {
   "cell_type": "code",
   "execution_count": null,
   "id": "e9bd5583",
   "metadata": {
    "scrolled": true
   },
   "outputs": [],
   "source": [
    "plt.plot(history.history['loss'], label=\"Втрати\")\n",
    "plt.plot(history.history['val_loss'], label=\"Валідаційні втрати\")\n",
    "plt.legend()\n",
    "\n",
    "plt.show()"
   ]
  },
  {
   "cell_type": "markdown",
   "id": "40776449",
   "metadata": {},
   "source": [
    "## Перевірка моделі на тестових даних яких раніше модель не бачила"
   ]
  },
  {
   "cell_type": "code",
   "execution_count": null,
   "id": "abcef641",
   "metadata": {},
   "outputs": [],
   "source": [
    "def pred_to_text(pred):\n",
    "    return list(class_to_num_map.keys())[list(class_to_num_map.values()).index(pred)]"
   ]
  },
  {
   "cell_type": "code",
   "execution_count": null,
   "id": "6376607d",
   "metadata": {},
   "outputs": [],
   "source": [
    "pred_to_text(0), pred_to_text(1), pred_to_text(2), pred_to_text(3)"
   ]
  },
  {
   "cell_type": "code",
   "execution_count": null,
   "id": "3824570b",
   "metadata": {
    "scrolled": true
   },
   "outputs": [],
   "source": [
    "model.evaluate(x_test, y_test)"
   ]
  },
  {
   "cell_type": "code",
   "execution_count": null,
   "id": "033b7be3",
   "metadata": {
    "scrolled": true
   },
   "outputs": [],
   "source": [
    "pred = model.predict(x_pred)\n",
    "pred_index = np.argmax(pred)\n",
    "\n",
    "pred_to_text(pred_index)"
   ]
  },
  {
   "cell_type": "markdown",
   "id": "7e6d9c9d",
   "metadata": {},
   "source": [
    "TODO: створити новий набір даних із результатами роботи нейронної мережі і передати його на вхід до алгоритму лінійної регресії для оцінки вартості нерухомості"
   ]
  },
  {
   "cell_type": "markdown",
   "id": "9d5a1e27",
   "metadata": {},
   "source": [
    "## Генерація нового набору даних із результатами роботи нейронної мережі"
   ]
  },
  {
   "cell_type": "code",
   "execution_count": null,
   "id": "cb7bcf87",
   "metadata": {},
   "outputs": [],
   "source": [
    "model.predict(df['description'].values)"
   ]
  }
 ],
 "metadata": {
  "kernelspec": {
   "display_name": "Python 3 (ipykernel)",
   "language": "python",
   "name": "python3"
  },
  "language_info": {
   "codemirror_mode": {
    "name": "ipython",
    "version": 3
   },
   "file_extension": ".py",
   "mimetype": "text/x-python",
   "name": "python",
   "nbconvert_exporter": "python",
   "pygments_lexer": "ipython3",
   "version": "3.9.16"
  }
 },
 "nbformat": 4,
 "nbformat_minor": 5
}
