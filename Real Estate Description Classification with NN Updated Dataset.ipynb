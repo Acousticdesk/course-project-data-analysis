{
 "cells": [
  {
   "cell_type": "markdown",
   "id": "cb3bb36d",
   "metadata": {},
   "source": [
    "# Класифікація обʼєктів новобудови за текстовим описом за допомогою зворотної нейронної мережі"
   ]
  },
  {
   "cell_type": "markdown",
   "id": "0eb980d0",
   "metadata": {},
   "source": [
    "Рекурсивна нейронна мережа використовується для наборів даних які представляють собою серію послідовних даних. Наприклад, опис обʼєкту нерухомості є текстовою строкою. Кожний символ повʼязаний із попередніми символами та із наступними. Через це використання звичайної нейронної мережі є неможливим при роботі із текстом.\n",
    "\n",
    "Натомість, для цього використовуються Рекурсивні Нейронні Мережі."
   ]
  },
  {
   "cell_type": "markdown",
   "id": "1905b466",
   "metadata": {},
   "source": [
    "https://www.youtube.com/watch?v=VtRLrQ3Ev-U&ab_channel=freeCodeCamp.org"
   ]
  },
  {
   "cell_type": "code",
   "execution_count": 146,
   "id": "c03d44b7",
   "metadata": {},
   "outputs": [],
   "source": [
    "import numpy as np\n",
    "import pandas as pd\n",
    "import matplotlib.pyplot as plt\n",
    "import tensorflow as tf\n",
    "import tensorflow_hub as hub\n",
    "from keras.models import Sequential\n",
    "from keras.layers import Dense, Dropout, TextVectorization, Embedding, LSTM\n",
    "from keras.optimizers import Adam\n",
    "from keras.utils import to_categorical\n",
    "# BinaryCrossentropy функція повинна використовуватися для задач бінарної класифікації. Для мультикласової класифікації потрібно використовувати CategoricalCrossentropy\n",
    "# from keras.losses import BinaryCrossentropy\n",
    "from keras.losses import CategoricalCrossentropy\n",
    "from sklearn.model_selection import train_test_split"
   ]
  },
  {
   "cell_type": "markdown",
   "id": "77127c14",
   "metadata": {},
   "source": [
    "## Завантаження набору даних"
   ]
  },
  {
   "cell_type": "markdown",
   "id": "1dbccebc",
   "metadata": {},
   "source": [
    "### Ознайомлення з набором даних"
   ]
  },
  {
   "cell_type": "code",
   "execution_count": 147,
   "id": "2e396479",
   "metadata": {},
   "outputs": [],
   "source": [
    "df = pd.read_csv('./real-estate-mapped.csv')"
   ]
  },
  {
   "cell_type": "markdown",
   "id": "c5a5d3f4",
   "metadata": {},
   "source": [
    "### Збереження набору даних для подальшого використання при розробці нового набору даних"
   ]
  },
  {
   "cell_type": "code",
   "execution_count": 148,
   "id": "8d3957c7",
   "metadata": {},
   "outputs": [],
   "source": [
    "df_initial = df.copy();"
   ]
  },
  {
   "cell_type": "code",
   "execution_count": 149,
   "id": "39ba2815",
   "metadata": {
    "scrolled": false
   },
   "outputs": [
    {
     "data": {
      "text/html": [
       "<div>\n",
       "<style scoped>\n",
       "    .dataframe tbody tr th:only-of-type {\n",
       "        vertical-align: middle;\n",
       "    }\n",
       "\n",
       "    .dataframe tbody tr th {\n",
       "        vertical-align: top;\n",
       "    }\n",
       "\n",
       "    .dataframe thead th {\n",
       "        text-align: right;\n",
       "    }\n",
       "</style>\n",
       "<table border=\"1\" class=\"dataframe\">\n",
       "  <thead>\n",
       "    <tr style=\"text-align: right;\">\n",
       "      <th></th>\n",
       "      <th>residence</th>\n",
       "      <th>developer</th>\n",
       "      <th>description</th>\n",
       "      <th>address</th>\n",
       "      <th>district</th>\n",
       "      <th>class</th>\n",
       "      <th>ceilingHeight</th>\n",
       "      <th>numApartmentsTotal</th>\n",
       "      <th>year</th>\n",
       "      <th>pricePerSquareMeter</th>\n",
       "      <th>price</th>\n",
       "      <th>area</th>\n",
       "      <th>rooms</th>\n",
       "      <th>floor</th>\n",
       "      <th>minutesToCityCenter</th>\n",
       "      <th>assess</th>\n",
       "      <th>crimeRateInDistrict</th>\n",
       "    </tr>\n",
       "  </thead>\n",
       "  <tbody>\n",
       "    <tr>\n",
       "      <th>0</th>\n",
       "      <td>А136 Highlight Tower</td>\n",
       "      <td>DIM</td>\n",
       "      <td>Residential complex A136 Highlight Tower is a ...</td>\n",
       "      <td>вул. Антоновича, 136-138</td>\n",
       "      <td>Голосіївський р-н</td>\n",
       "      <td>бізнес</td>\n",
       "      <td>3</td>\n",
       "      <td>324</td>\n",
       "      <td>2023.0</td>\n",
       "      <td>137800.0</td>\n",
       "      <td>7441200.0</td>\n",
       "      <td>54</td>\n",
       "      <td>1</td>\n",
       "      <td>18.0</td>\n",
       "      <td>48</td>\n",
       "      <td>52536</td>\n",
       "      <td>2317</td>\n",
       "    </tr>\n",
       "    <tr>\n",
       "      <th>1</th>\n",
       "      <td>А136 Highlight Tower</td>\n",
       "      <td>DIM</td>\n",
       "      <td>Residential complex A136 Highlight Tower is a ...</td>\n",
       "      <td>вул. Антоновича, 136-138</td>\n",
       "      <td>Голосіївський р-н</td>\n",
       "      <td>бізнес</td>\n",
       "      <td>3</td>\n",
       "      <td>324</td>\n",
       "      <td>2023.0</td>\n",
       "      <td>137800.0</td>\n",
       "      <td>7992400.0</td>\n",
       "      <td>58</td>\n",
       "      <td>1</td>\n",
       "      <td>NaN</td>\n",
       "      <td>48</td>\n",
       "      <td>52536</td>\n",
       "      <td>2317</td>\n",
       "    </tr>\n",
       "    <tr>\n",
       "      <th>2</th>\n",
       "      <td>А136 Highlight Tower</td>\n",
       "      <td>DIM</td>\n",
       "      <td>Residential complex A136 Highlight Tower is a ...</td>\n",
       "      <td>вул. Антоновича, 136-138</td>\n",
       "      <td>Голосіївський р-н</td>\n",
       "      <td>бізнес</td>\n",
       "      <td>3</td>\n",
       "      <td>324</td>\n",
       "      <td>2023.0</td>\n",
       "      <td>125275.0</td>\n",
       "      <td>10022000.0</td>\n",
       "      <td>80</td>\n",
       "      <td>2</td>\n",
       "      <td>7.0</td>\n",
       "      <td>48</td>\n",
       "      <td>52536</td>\n",
       "      <td>2317</td>\n",
       "    </tr>\n",
       "    <tr>\n",
       "      <th>3</th>\n",
       "      <td>А136 Highlight Tower</td>\n",
       "      <td>DIM</td>\n",
       "      <td>Residential complex A136 Highlight Tower is a ...</td>\n",
       "      <td>вул. Антоновича, 136-138</td>\n",
       "      <td>Голосіївський р-н</td>\n",
       "      <td>бізнес</td>\n",
       "      <td>3</td>\n",
       "      <td>324</td>\n",
       "      <td>2023.0</td>\n",
       "      <td>125275.0</td>\n",
       "      <td>10147275.0</td>\n",
       "      <td>81</td>\n",
       "      <td>2</td>\n",
       "      <td>13.0</td>\n",
       "      <td>48</td>\n",
       "      <td>52536</td>\n",
       "      <td>2317</td>\n",
       "    </tr>\n",
       "    <tr>\n",
       "      <th>4</th>\n",
       "      <td>А136 Highlight Tower</td>\n",
       "      <td>DIM</td>\n",
       "      <td>Residential complex A136 Highlight Tower is a ...</td>\n",
       "      <td>вул. Антоновича, 136-138</td>\n",
       "      <td>Голосіївський р-н</td>\n",
       "      <td>бізнес</td>\n",
       "      <td>3</td>\n",
       "      <td>324</td>\n",
       "      <td>2023.0</td>\n",
       "      <td>125275.0</td>\n",
       "      <td>10648375.0</td>\n",
       "      <td>85</td>\n",
       "      <td>2</td>\n",
       "      <td>17.0</td>\n",
       "      <td>48</td>\n",
       "      <td>52536</td>\n",
       "      <td>2317</td>\n",
       "    </tr>\n",
       "  </tbody>\n",
       "</table>\n",
       "</div>"
      ],
      "text/plain": [
       "              residence developer  \\\n",
       "0  А136 Highlight Tower       DIM   \n",
       "1  А136 Highlight Tower       DIM   \n",
       "2  А136 Highlight Tower       DIM   \n",
       "3  А136 Highlight Tower       DIM   \n",
       "4  А136 Highlight Tower       DIM   \n",
       "\n",
       "                                         description  \\\n",
       "0  Residential complex A136 Highlight Tower is a ...   \n",
       "1  Residential complex A136 Highlight Tower is a ...   \n",
       "2  Residential complex A136 Highlight Tower is a ...   \n",
       "3  Residential complex A136 Highlight Tower is a ...   \n",
       "4  Residential complex A136 Highlight Tower is a ...   \n",
       "\n",
       "                    address           district   class  ceilingHeight  \\\n",
       "0  вул. Антоновича, 136-138  Голосіївський р-н  бізнес              3   \n",
       "1  вул. Антоновича, 136-138  Голосіївський р-н  бізнес              3   \n",
       "2  вул. Антоновича, 136-138  Голосіївський р-н  бізнес              3   \n",
       "3  вул. Антоновича, 136-138  Голосіївський р-н  бізнес              3   \n",
       "4  вул. Антоновича, 136-138  Голосіївський р-н  бізнес              3   \n",
       "\n",
       "   numApartmentsTotal    year  pricePerSquareMeter       price  area  rooms  \\\n",
       "0                 324  2023.0             137800.0   7441200.0    54      1   \n",
       "1                 324  2023.0             137800.0   7992400.0    58      1   \n",
       "2                 324  2023.0             125275.0  10022000.0    80      2   \n",
       "3                 324  2023.0             125275.0  10147275.0    81      2   \n",
       "4                 324  2023.0             125275.0  10648375.0    85      2   \n",
       "\n",
       "   floor  minutesToCityCenter  assess  crimeRateInDistrict  \n",
       "0   18.0                   48   52536                 2317  \n",
       "1    NaN                   48   52536                 2317  \n",
       "2    7.0                   48   52536                 2317  \n",
       "3   13.0                   48   52536                 2317  \n",
       "4   17.0                   48   52536                 2317  "
      ]
     },
     "execution_count": 149,
     "metadata": {},
     "output_type": "execute_result"
    }
   ],
   "source": [
    "df.head()"
   ]
  },
  {
   "cell_type": "code",
   "execution_count": 150,
   "id": "6ba99fa9",
   "metadata": {
    "scrolled": false
   },
   "outputs": [
    {
     "data": {
      "text/html": [
       "<div>\n",
       "<style scoped>\n",
       "    .dataframe tbody tr th:only-of-type {\n",
       "        vertical-align: middle;\n",
       "    }\n",
       "\n",
       "    .dataframe tbody tr th {\n",
       "        vertical-align: top;\n",
       "    }\n",
       "\n",
       "    .dataframe thead th {\n",
       "        text-align: right;\n",
       "    }\n",
       "</style>\n",
       "<table border=\"1\" class=\"dataframe\">\n",
       "  <thead>\n",
       "    <tr style=\"text-align: right;\">\n",
       "      <th></th>\n",
       "      <th>residence</th>\n",
       "      <th>developer</th>\n",
       "      <th>description</th>\n",
       "      <th>address</th>\n",
       "      <th>district</th>\n",
       "      <th>class</th>\n",
       "      <th>ceilingHeight</th>\n",
       "      <th>numApartmentsTotal</th>\n",
       "      <th>year</th>\n",
       "      <th>pricePerSquareMeter</th>\n",
       "      <th>price</th>\n",
       "      <th>area</th>\n",
       "      <th>rooms</th>\n",
       "      <th>floor</th>\n",
       "      <th>minutesToCityCenter</th>\n",
       "      <th>assess</th>\n",
       "      <th>crimeRateInDistrict</th>\n",
       "    </tr>\n",
       "  </thead>\n",
       "  <tbody>\n",
       "    <tr>\n",
       "      <th>35</th>\n",
       "      <td>ЖК Метрополіс</td>\n",
       "      <td>DIM</td>\n",
       "      <td>The new \"Metropolis\" residential complex in Ky...</td>\n",
       "      <td>вул. Академіка Заболотного, 1</td>\n",
       "      <td>Голосіївський р-н</td>\n",
       "      <td>комфорт</td>\n",
       "      <td>2</td>\n",
       "      <td>2857</td>\n",
       "      <td>2023.0</td>\n",
       "      <td>69725.0</td>\n",
       "      <td>2370650.0</td>\n",
       "      <td>34</td>\n",
       "      <td>1</td>\n",
       "      <td>25.5</td>\n",
       "      <td>156</td>\n",
       "      <td>52536</td>\n",
       "      <td>2317</td>\n",
       "    </tr>\n",
       "  </tbody>\n",
       "</table>\n",
       "</div>"
      ],
      "text/plain": [
       "        residence developer  \\\n",
       "35  ЖК Метрополіс       DIM   \n",
       "\n",
       "                                          description  \\\n",
       "35  The new \"Metropolis\" residential complex in Ky...   \n",
       "\n",
       "                          address           district    class  ceilingHeight  \\\n",
       "35  вул. Академіка Заболотного, 1  Голосіївський р-н  комфорт              2   \n",
       "\n",
       "    numApartmentsTotal    year  pricePerSquareMeter      price  area  rooms  \\\n",
       "35                2857  2023.0              69725.0  2370650.0    34      1   \n",
       "\n",
       "    floor  minutesToCityCenter  assess  crimeRateInDistrict  \n",
       "35   25.5                  156   52536                 2317  "
      ]
     },
     "execution_count": 150,
     "metadata": {},
     "output_type": "execute_result"
    }
   ],
   "source": [
    "df.sample()"
   ]
  },
  {
   "cell_type": "code",
   "execution_count": 151,
   "id": "50a6a599",
   "metadata": {},
   "outputs": [
    {
     "data": {
      "text/plain": [
       "(169, 17)"
      ]
     },
     "execution_count": 151,
     "metadata": {},
     "output_type": "execute_result"
    }
   ],
   "source": [
    "df.shape"
   ]
  },
  {
   "cell_type": "markdown",
   "id": "17a6d4c2",
   "metadata": {},
   "source": [
    "### Фільтрація пустих значень"
   ]
  },
  {
   "cell_type": "code",
   "execution_count": 152,
   "id": "a80b0703",
   "metadata": {},
   "outputs": [],
   "source": [
    "df = df.dropna()"
   ]
  },
  {
   "cell_type": "code",
   "execution_count": 153,
   "id": "55b7c42b",
   "metadata": {
    "scrolled": true
   },
   "outputs": [
    {
     "data": {
      "text/plain": [
       "(152, 17)"
      ]
     },
     "execution_count": 153,
     "metadata": {},
     "output_type": "execute_result"
    }
   ],
   "source": [
    "df.shape"
   ]
  },
  {
   "cell_type": "markdown",
   "id": "daab8d74",
   "metadata": {},
   "source": [
    "### Доступні в наборі даних класи нерухомості"
   ]
  },
  {
   "cell_type": "code",
   "execution_count": 154,
   "id": "644f90ba",
   "metadata": {
    "scrolled": false
   },
   "outputs": [
    {
     "data": {
      "text/plain": [
       "array(['бізнес', 'комфорт', 'преміум'], dtype=object)"
      ]
     },
     "execution_count": 154,
     "metadata": {},
     "output_type": "execute_result"
    }
   ],
   "source": [
    "df['class'].unique()"
   ]
  },
  {
   "cell_type": "code",
   "execution_count": 155,
   "id": "18f551af",
   "metadata": {},
   "outputs": [
    {
     "data": {
      "text/html": [
       "<div>\n",
       "<style scoped>\n",
       "    .dataframe tbody tr th:only-of-type {\n",
       "        vertical-align: middle;\n",
       "    }\n",
       "\n",
       "    .dataframe tbody tr th {\n",
       "        vertical-align: top;\n",
       "    }\n",
       "\n",
       "    .dataframe thead th {\n",
       "        text-align: right;\n",
       "    }\n",
       "</style>\n",
       "<table border=\"1\" class=\"dataframe\">\n",
       "  <thead>\n",
       "    <tr style=\"text-align: right;\">\n",
       "      <th></th>\n",
       "      <th>residence</th>\n",
       "      <th>developer</th>\n",
       "      <th>description</th>\n",
       "      <th>address</th>\n",
       "      <th>district</th>\n",
       "      <th>class</th>\n",
       "      <th>ceilingHeight</th>\n",
       "      <th>numApartmentsTotal</th>\n",
       "      <th>year</th>\n",
       "      <th>pricePerSquareMeter</th>\n",
       "      <th>price</th>\n",
       "      <th>area</th>\n",
       "      <th>rooms</th>\n",
       "      <th>floor</th>\n",
       "      <th>minutesToCityCenter</th>\n",
       "      <th>assess</th>\n",
       "      <th>crimeRateInDistrict</th>\n",
       "    </tr>\n",
       "  </thead>\n",
       "  <tbody>\n",
       "    <tr>\n",
       "      <th>0</th>\n",
       "      <td>А136 Highlight Tower</td>\n",
       "      <td>DIM</td>\n",
       "      <td>Residential complex A136 Highlight Tower is a ...</td>\n",
       "      <td>вул. Антоновича, 136-138</td>\n",
       "      <td>Голосіївський р-н</td>\n",
       "      <td>бізнес</td>\n",
       "      <td>3</td>\n",
       "      <td>324</td>\n",
       "      <td>2023.0</td>\n",
       "      <td>137800.0</td>\n",
       "      <td>7441200.0</td>\n",
       "      <td>54</td>\n",
       "      <td>1</td>\n",
       "      <td>18.0</td>\n",
       "      <td>48</td>\n",
       "      <td>52536</td>\n",
       "      <td>2317</td>\n",
       "    </tr>\n",
       "    <tr>\n",
       "      <th>2</th>\n",
       "      <td>А136 Highlight Tower</td>\n",
       "      <td>DIM</td>\n",
       "      <td>Residential complex A136 Highlight Tower is a ...</td>\n",
       "      <td>вул. Антоновича, 136-138</td>\n",
       "      <td>Голосіївський р-н</td>\n",
       "      <td>бізнес</td>\n",
       "      <td>3</td>\n",
       "      <td>324</td>\n",
       "      <td>2023.0</td>\n",
       "      <td>125275.0</td>\n",
       "      <td>10022000.0</td>\n",
       "      <td>80</td>\n",
       "      <td>2</td>\n",
       "      <td>7.0</td>\n",
       "      <td>48</td>\n",
       "      <td>52536</td>\n",
       "      <td>2317</td>\n",
       "    </tr>\n",
       "    <tr>\n",
       "      <th>3</th>\n",
       "      <td>А136 Highlight Tower</td>\n",
       "      <td>DIM</td>\n",
       "      <td>Residential complex A136 Highlight Tower is a ...</td>\n",
       "      <td>вул. Антоновича, 136-138</td>\n",
       "      <td>Голосіївський р-н</td>\n",
       "      <td>бізнес</td>\n",
       "      <td>3</td>\n",
       "      <td>324</td>\n",
       "      <td>2023.0</td>\n",
       "      <td>125275.0</td>\n",
       "      <td>10147275.0</td>\n",
       "      <td>81</td>\n",
       "      <td>2</td>\n",
       "      <td>13.0</td>\n",
       "      <td>48</td>\n",
       "      <td>52536</td>\n",
       "      <td>2317</td>\n",
       "    </tr>\n",
       "    <tr>\n",
       "      <th>4</th>\n",
       "      <td>А136 Highlight Tower</td>\n",
       "      <td>DIM</td>\n",
       "      <td>Residential complex A136 Highlight Tower is a ...</td>\n",
       "      <td>вул. Антоновича, 136-138</td>\n",
       "      <td>Голосіївський р-н</td>\n",
       "      <td>бізнес</td>\n",
       "      <td>3</td>\n",
       "      <td>324</td>\n",
       "      <td>2023.0</td>\n",
       "      <td>125275.0</td>\n",
       "      <td>10648375.0</td>\n",
       "      <td>85</td>\n",
       "      <td>2</td>\n",
       "      <td>17.0</td>\n",
       "      <td>48</td>\n",
       "      <td>52536</td>\n",
       "      <td>2317</td>\n",
       "    </tr>\n",
       "    <tr>\n",
       "      <th>5</th>\n",
       "      <td>А136 Highlight Tower</td>\n",
       "      <td>DIM</td>\n",
       "      <td>Residential complex A136 Highlight Tower is a ...</td>\n",
       "      <td>вул. Антоновича, 136-138</td>\n",
       "      <td>Голосіївський р-н</td>\n",
       "      <td>бізнес</td>\n",
       "      <td>3</td>\n",
       "      <td>324</td>\n",
       "      <td>2023.0</td>\n",
       "      <td>125275.0</td>\n",
       "      <td>11024200.0</td>\n",
       "      <td>88</td>\n",
       "      <td>2</td>\n",
       "      <td>14.2</td>\n",
       "      <td>48</td>\n",
       "      <td>52536</td>\n",
       "      <td>2317</td>\n",
       "    </tr>\n",
       "  </tbody>\n",
       "</table>\n",
       "</div>"
      ],
      "text/plain": [
       "              residence developer  \\\n",
       "0  А136 Highlight Tower       DIM   \n",
       "2  А136 Highlight Tower       DIM   \n",
       "3  А136 Highlight Tower       DIM   \n",
       "4  А136 Highlight Tower       DIM   \n",
       "5  А136 Highlight Tower       DIM   \n",
       "\n",
       "                                         description  \\\n",
       "0  Residential complex A136 Highlight Tower is a ...   \n",
       "2  Residential complex A136 Highlight Tower is a ...   \n",
       "3  Residential complex A136 Highlight Tower is a ...   \n",
       "4  Residential complex A136 Highlight Tower is a ...   \n",
       "5  Residential complex A136 Highlight Tower is a ...   \n",
       "\n",
       "                    address           district   class  ceilingHeight  \\\n",
       "0  вул. Антоновича, 136-138  Голосіївський р-н  бізнес              3   \n",
       "2  вул. Антоновича, 136-138  Голосіївський р-н  бізнес              3   \n",
       "3  вул. Антоновича, 136-138  Голосіївський р-н  бізнес              3   \n",
       "4  вул. Антоновича, 136-138  Голосіївський р-н  бізнес              3   \n",
       "5  вул. Антоновича, 136-138  Голосіївський р-н  бізнес              3   \n",
       "\n",
       "   numApartmentsTotal    year  pricePerSquareMeter       price  area  rooms  \\\n",
       "0                 324  2023.0             137800.0   7441200.0    54      1   \n",
       "2                 324  2023.0             125275.0  10022000.0    80      2   \n",
       "3                 324  2023.0             125275.0  10147275.0    81      2   \n",
       "4                 324  2023.0             125275.0  10648375.0    85      2   \n",
       "5                 324  2023.0             125275.0  11024200.0    88      2   \n",
       "\n",
       "   floor  minutesToCityCenter  assess  crimeRateInDistrict  \n",
       "0   18.0                   48   52536                 2317  \n",
       "2    7.0                   48   52536                 2317  \n",
       "3   13.0                   48   52536                 2317  \n",
       "4   17.0                   48   52536                 2317  \n",
       "5   14.2                   48   52536                 2317  "
      ]
     },
     "execution_count": 155,
     "metadata": {},
     "output_type": "execute_result"
    }
   ],
   "source": [
    "df.head()"
   ]
  },
  {
   "cell_type": "markdown",
   "id": "8d2b04c1",
   "metadata": {},
   "source": [
    "### Переведення класів нерухомості до числових значень"
   ]
  },
  {
   "cell_type": "code",
   "execution_count": 156,
   "id": "e4514b60",
   "metadata": {},
   "outputs": [],
   "source": [
    "class_to_num_map = { 'бізнес': 0, 'преміум': 1, 'комфорт': 2, 'економ': 3 }\n",
    "\n",
    "df['class'] = df['class'].map(class_to_num_map)"
   ]
  },
  {
   "cell_type": "code",
   "execution_count": 157,
   "id": "99c1083c",
   "metadata": {},
   "outputs": [],
   "source": [
    "df = df[['description', 'class']]"
   ]
  },
  {
   "cell_type": "code",
   "execution_count": 158,
   "id": "3fb31b39",
   "metadata": {
    "scrolled": false
   },
   "outputs": [
    {
     "data": {
      "text/html": [
       "<div>\n",
       "<style scoped>\n",
       "    .dataframe tbody tr th:only-of-type {\n",
       "        vertical-align: middle;\n",
       "    }\n",
       "\n",
       "    .dataframe tbody tr th {\n",
       "        vertical-align: top;\n",
       "    }\n",
       "\n",
       "    .dataframe thead th {\n",
       "        text-align: right;\n",
       "    }\n",
       "</style>\n",
       "<table border=\"1\" class=\"dataframe\">\n",
       "  <thead>\n",
       "    <tr style=\"text-align: right;\">\n",
       "      <th></th>\n",
       "      <th>description</th>\n",
       "      <th>class</th>\n",
       "    </tr>\n",
       "  </thead>\n",
       "  <tbody>\n",
       "    <tr>\n",
       "      <th>0</th>\n",
       "      <td>Residential complex A136 Highlight Tower is a ...</td>\n",
       "      <td>0</td>\n",
       "    </tr>\n",
       "    <tr>\n",
       "      <th>2</th>\n",
       "      <td>Residential complex A136 Highlight Tower is a ...</td>\n",
       "      <td>0</td>\n",
       "    </tr>\n",
       "    <tr>\n",
       "      <th>3</th>\n",
       "      <td>Residential complex A136 Highlight Tower is a ...</td>\n",
       "      <td>0</td>\n",
       "    </tr>\n",
       "    <tr>\n",
       "      <th>4</th>\n",
       "      <td>Residential complex A136 Highlight Tower is a ...</td>\n",
       "      <td>0</td>\n",
       "    </tr>\n",
       "    <tr>\n",
       "      <th>5</th>\n",
       "      <td>Residential complex A136 Highlight Tower is a ...</td>\n",
       "      <td>0</td>\n",
       "    </tr>\n",
       "  </tbody>\n",
       "</table>\n",
       "</div>"
      ],
      "text/plain": [
       "                                         description  class\n",
       "0  Residential complex A136 Highlight Tower is a ...      0\n",
       "2  Residential complex A136 Highlight Tower is a ...      0\n",
       "3  Residential complex A136 Highlight Tower is a ...      0\n",
       "4  Residential complex A136 Highlight Tower is a ...      0\n",
       "5  Residential complex A136 Highlight Tower is a ...      0"
      ]
     },
     "execution_count": 158,
     "metadata": {},
     "output_type": "execute_result"
    }
   ],
   "source": [
    "df.head()"
   ]
  },
  {
   "cell_type": "markdown",
   "id": "3c881110",
   "metadata": {},
   "source": [
    "## Підготовка даних для тренування моделі"
   ]
  },
  {
   "cell_type": "markdown",
   "id": "18d0e00f",
   "metadata": {},
   "source": [
    "### Створення сету характеристик і міток"
   ]
  },
  {
   "cell_type": "markdown",
   "id": "c66b8ebe",
   "metadata": {},
   "source": [
    "TODO: використання imblearn.oversampling -> RandomOverSampler для прирівнювання к-сті зразків певного класу"
   ]
  },
  {
   "cell_type": "code",
   "execution_count": 159,
   "id": "be43e433",
   "metadata": {},
   "outputs": [],
   "source": [
    "train, val, test = np.split(df.sample(frac=1), [int(0.8 * len(df)), int(0.9 * len(df))])"
   ]
  },
  {
   "cell_type": "code",
   "execution_count": 160,
   "id": "cca0ee77",
   "metadata": {
    "scrolled": true
   },
   "outputs": [
    {
     "data": {
      "text/plain": [
       "((121, 2), (15, 2), (16, 2))"
      ]
     },
     "execution_count": 160,
     "metadata": {},
     "output_type": "execute_result"
    }
   ],
   "source": [
    "train.shape, val.shape, test.shape"
   ]
  },
  {
   "cell_type": "code",
   "execution_count": 161,
   "id": "2ad92425",
   "metadata": {
    "scrolled": false
   },
   "outputs": [
    {
     "data": {
      "text/html": [
       "<div>\n",
       "<style scoped>\n",
       "    .dataframe tbody tr th:only-of-type {\n",
       "        vertical-align: middle;\n",
       "    }\n",
       "\n",
       "    .dataframe tbody tr th {\n",
       "        vertical-align: top;\n",
       "    }\n",
       "\n",
       "    .dataframe thead th {\n",
       "        text-align: right;\n",
       "    }\n",
       "</style>\n",
       "<table border=\"1\" class=\"dataframe\">\n",
       "  <thead>\n",
       "    <tr style=\"text-align: right;\">\n",
       "      <th></th>\n",
       "      <th>description</th>\n",
       "      <th>class</th>\n",
       "    </tr>\n",
       "  </thead>\n",
       "  <tbody>\n",
       "    <tr>\n",
       "      <th>0</th>\n",
       "      <td>Residential complex A136 Highlight Tower is a ...</td>\n",
       "      <td>0</td>\n",
       "    </tr>\n",
       "    <tr>\n",
       "      <th>2</th>\n",
       "      <td>Residential complex A136 Highlight Tower is a ...</td>\n",
       "      <td>0</td>\n",
       "    </tr>\n",
       "    <tr>\n",
       "      <th>3</th>\n",
       "      <td>Residential complex A136 Highlight Tower is a ...</td>\n",
       "      <td>0</td>\n",
       "    </tr>\n",
       "    <tr>\n",
       "      <th>4</th>\n",
       "      <td>Residential complex A136 Highlight Tower is a ...</td>\n",
       "      <td>0</td>\n",
       "    </tr>\n",
       "    <tr>\n",
       "      <th>5</th>\n",
       "      <td>Residential complex A136 Highlight Tower is a ...</td>\n",
       "      <td>0</td>\n",
       "    </tr>\n",
       "  </tbody>\n",
       "</table>\n",
       "</div>"
      ],
      "text/plain": [
       "                                         description  class\n",
       "0  Residential complex A136 Highlight Tower is a ...      0\n",
       "2  Residential complex A136 Highlight Tower is a ...      0\n",
       "3  Residential complex A136 Highlight Tower is a ...      0\n",
       "4  Residential complex A136 Highlight Tower is a ...      0\n",
       "5  Residential complex A136 Highlight Tower is a ...      0"
      ]
     },
     "execution_count": 161,
     "metadata": {},
     "output_type": "execute_result"
    }
   ],
   "source": [
    "df.head()"
   ]
  },
  {
   "cell_type": "markdown",
   "id": "1dcdb7af",
   "metadata": {},
   "source": [
    "### Переведення міток до категоріальних значень"
   ]
  },
  {
   "cell_type": "markdown",
   "id": "b0bcaa6e",
   "metadata": {},
   "source": [
    "Так як мітки в даному випадку варіюються від 1 до 4 що вказує на певний клас будівлі, для того щоб повʼязати ці числа із виходом із softmax вихідного шару нейронної мережі, потрібно перевести числа до категоріального виду використовуюючи допоміжні функції keras."
   ]
  },
  {
   "cell_type": "code",
   "execution_count": 162,
   "id": "373a78c4",
   "metadata": {},
   "outputs": [],
   "source": [
    "x_train = train['description'].values\n",
    "y_train = to_categorical(train['class'], 4)\n",
    "\n",
    "x_valid = val['description'].values\n",
    "y_valid = to_categorical(val['class'], 4)\n",
    "\n",
    "x_test = test['description'].values\n",
    "y_test = to_categorical(test['class'], 4)\n",
    "\n",
    "x_pred = ['There is nothing good in this residential complex, please omit it']\n",
    "y_pred = to_categorical([0], 4)"
   ]
  },
  {
   "cell_type": "markdown",
   "id": "edead2be",
   "metadata": {},
   "source": [
    "### Композиція моделі"
   ]
  },
  {
   "cell_type": "code",
   "execution_count": 163,
   "id": "5e280d95",
   "metadata": {},
   "outputs": [],
   "source": [
    "embedding = 'https://tfhub.dev/google/nnlm-en-dim50/2'\n",
    "hub_layer = hub.KerasLayer(embedding, dtype=tf.string, trainable=True)"
   ]
  },
  {
   "cell_type": "code",
   "execution_count": 164,
   "id": "1a502d59",
   "metadata": {},
   "outputs": [],
   "source": [
    "model = Sequential()\n",
    "\n",
    "model.add(hub_layer)\n",
    "model.add(Dense(16, activation='relu'))\n",
    "model.add(Dense(16, activation='relu'))\n",
    "model.add(Dense(4, activation='softmax'))"
   ]
  },
  {
   "cell_type": "code",
   "execution_count": 165,
   "id": "94043d6d",
   "metadata": {},
   "outputs": [],
   "source": [
    "model.compile(optimizer=Adam(learning_rate=0.001), loss=CategoricalCrossentropy(), metrics=['accuracy'])"
   ]
  },
  {
   "cell_type": "code",
   "execution_count": 166,
   "id": "76623680",
   "metadata": {
    "scrolled": false
   },
   "outputs": [
    {
     "name": "stdout",
     "output_type": "stream",
     "text": [
      "4/4 [==============================] - 0s 4ms/step - loss: 1.4656 - accuracy: 0.1488\n"
     ]
    },
    {
     "data": {
      "text/plain": [
       "[1.4656472206115723, 0.1487603336572647]"
      ]
     },
     "execution_count": 166,
     "metadata": {},
     "output_type": "execute_result"
    }
   ],
   "source": [
    "model.evaluate(x_train, y_train)"
   ]
  },
  {
   "cell_type": "markdown",
   "id": "e67323d7",
   "metadata": {},
   "source": [
    "### Тренування моделі"
   ]
  },
  {
   "cell_type": "markdown",
   "id": "65302e85",
   "metadata": {},
   "source": [
    "Попередньо модель була натренована на 10-20 епохах, але цього було недостатньо. Після 10-20 епох точність моделі все ще зростає і модель не переходить в режим Overfitting"
   ]
  },
  {
   "cell_type": "code",
   "execution_count": 167,
   "id": "838f93f6",
   "metadata": {
    "scrolled": true
   },
   "outputs": [
    {
     "name": "stdout",
     "output_type": "stream",
     "text": [
      "Epoch 1/30\n",
      "4/4 [==============================] - 5s 1s/step - loss: 1.4011 - accuracy: 0.1488 - val_loss: 1.3234 - val_accuracy: 0.4000\n",
      "Epoch 2/30\n",
      "4/4 [==============================] - 3s 805ms/step - loss: 1.2412 - accuracy: 0.4545 - val_loss: 1.1809 - val_accuracy: 0.7333\n",
      "Epoch 3/30\n",
      "4/4 [==============================] - 3s 787ms/step - loss: 1.1249 - accuracy: 0.7190 - val_loss: 1.0692 - val_accuracy: 0.7333\n",
      "Epoch 4/30\n",
      "4/4 [==============================] - 3s 794ms/step - loss: 1.0257 - accuracy: 0.7190 - val_loss: 0.9722 - val_accuracy: 0.7333\n",
      "Epoch 5/30\n",
      "4/4 [==============================] - 3s 782ms/step - loss: 0.9311 - accuracy: 0.7190 - val_loss: 0.8714 - val_accuracy: 0.7333\n",
      "Epoch 6/30\n",
      "4/4 [==============================] - 3s 708ms/step - loss: 0.8326 - accuracy: 0.7190 - val_loss: 0.7745 - val_accuracy: 0.7333\n",
      "Epoch 7/30\n",
      "4/4 [==============================] - 3s 703ms/step - loss: 0.7406 - accuracy: 0.7190 - val_loss: 0.6773 - val_accuracy: 0.7333\n",
      "Epoch 8/30\n",
      "4/4 [==============================] - 3s 693ms/step - loss: 0.6498 - accuracy: 0.7190 - val_loss: 0.5890 - val_accuracy: 0.7333\n",
      "Epoch 9/30\n",
      "4/4 [==============================] - 3s 694ms/step - loss: 0.5704 - accuracy: 0.7190 - val_loss: 0.5149 - val_accuracy: 0.7333\n",
      "Epoch 10/30\n",
      "4/4 [==============================] - 3s 686ms/step - loss: 0.5007 - accuracy: 0.7190 - val_loss: 0.4510 - val_accuracy: 0.7333\n",
      "Epoch 11/30\n",
      "4/4 [==============================] - 3s 703ms/step - loss: 0.4332 - accuracy: 0.7190 - val_loss: 0.3957 - val_accuracy: 0.8000\n",
      "Epoch 12/30\n",
      "4/4 [==============================] - 3s 698ms/step - loss: 0.3718 - accuracy: 0.8347 - val_loss: 0.3414 - val_accuracy: 0.8667\n",
      "Epoch 13/30\n",
      "4/4 [==============================] - 3s 692ms/step - loss: 0.3118 - accuracy: 0.9504 - val_loss: 0.2864 - val_accuracy: 0.8667\n",
      "Epoch 14/30\n",
      "4/4 [==============================] - 3s 700ms/step - loss: 0.2607 - accuracy: 0.9752 - val_loss: 0.2391 - val_accuracy: 1.0000\n",
      "Epoch 15/30\n",
      "4/4 [==============================] - 3s 704ms/step - loss: 0.2184 - accuracy: 1.0000 - val_loss: 0.1995 - val_accuracy: 1.0000\n",
      "Epoch 16/30\n",
      "4/4 [==============================] - 3s 696ms/step - loss: 0.1836 - accuracy: 1.0000 - val_loss: 0.1637 - val_accuracy: 1.0000\n",
      "Epoch 17/30\n",
      "4/4 [==============================] - 3s 692ms/step - loss: 0.1427 - accuracy: 1.0000 - val_loss: 0.1346 - val_accuracy: 1.0000\n",
      "Epoch 18/30\n",
      "4/4 [==============================] - 3s 683ms/step - loss: 0.1141 - accuracy: 1.0000 - val_loss: 0.1092 - val_accuracy: 1.0000\n",
      "Epoch 19/30\n",
      "4/4 [==============================] - 3s 687ms/step - loss: 0.0904 - accuracy: 1.0000 - val_loss: 0.0871 - val_accuracy: 1.0000\n",
      "Epoch 20/30\n",
      "4/4 [==============================] - 3s 718ms/step - loss: 0.0685 - accuracy: 1.0000 - val_loss: 0.0695 - val_accuracy: 1.0000\n",
      "Epoch 21/30\n",
      "4/4 [==============================] - 3s 686ms/step - loss: 0.0532 - accuracy: 1.0000 - val_loss: 0.0552 - val_accuracy: 1.0000\n",
      "Epoch 22/30\n",
      "4/4 [==============================] - 3s 694ms/step - loss: 0.0406 - accuracy: 1.0000 - val_loss: 0.0440 - val_accuracy: 1.0000\n",
      "Epoch 23/30\n",
      "4/4 [==============================] - 3s 687ms/step - loss: 0.0322 - accuracy: 1.0000 - val_loss: 0.0355 - val_accuracy: 1.0000\n",
      "Epoch 24/30\n",
      "4/4 [==============================] - 3s 713ms/step - loss: 0.0253 - accuracy: 1.0000 - val_loss: 0.0293 - val_accuracy: 1.0000\n",
      "Epoch 25/30\n",
      "4/4 [==============================] - 3s 686ms/step - loss: 0.0203 - accuracy: 1.0000 - val_loss: 0.0246 - val_accuracy: 1.0000\n",
      "Epoch 26/30\n",
      "4/4 [==============================] - 3s 697ms/step - loss: 0.0172 - accuracy: 1.0000 - val_loss: 0.0208 - val_accuracy: 1.0000\n",
      "Epoch 27/30\n",
      "4/4 [==============================] - 3s 690ms/step - loss: 0.0144 - accuracy: 1.0000 - val_loss: 0.0179 - val_accuracy: 1.0000\n",
      "Epoch 28/30\n",
      "4/4 [==============================] - 3s 799ms/step - loss: 0.0123 - accuracy: 1.0000 - val_loss: 0.0156 - val_accuracy: 1.0000\n",
      "Epoch 29/30\n",
      "4/4 [==============================] - 3s 707ms/step - loss: 0.0106 - accuracy: 1.0000 - val_loss: 0.0138 - val_accuracy: 1.0000\n",
      "Epoch 30/30\n",
      "4/4 [==============================] - 3s 704ms/step - loss: 0.0094 - accuracy: 1.0000 - val_loss: 0.0123 - val_accuracy: 1.0000\n"
     ]
    }
   ],
   "source": [
    "history = model.fit(x=x_train, y=y_train, epochs=30, validation_data=(x_valid, y_valid))"
   ]
  },
  {
   "cell_type": "markdown",
   "id": "95bff834",
   "metadata": {},
   "source": [
    "### Результати тренування моделі"
   ]
  },
  {
   "cell_type": "code",
   "execution_count": 168,
   "id": "d174decf",
   "metadata": {
    "scrolled": false
   },
   "outputs": [
    {
     "data": {
      "image/png": "[encoded data removed]",
      "text/plain": [
       "<Figure size 640x480 with 1 Axes>"
      ]
     },
     "metadata": {},
     "output_type": "display_data"
    }
   ],
   "source": [
    "plt.plot(history.history['accuracy'], label=\"Точність\")\n",
    "plt.plot(history.history['val_accuracy'], label=\"Валідаційна точність\")\n",
    "plt.legend()\n",
    "\n",
    "plt.show()"
   ]
  },
  {
   "cell_type": "code",
   "execution_count": 169,
   "id": "e9bd5583",
   "metadata": {
    "scrolled": true
   },
   "outputs": [
    {
     "data": {
      "image/png": "[encoded data removed]",
      "text/plain": [
       "<Figure size 640x480 with 1 Axes>"
      ]
     },
     "metadata": {},
     "output_type": "display_data"
    }
   ],
   "source": [
    "plt.plot(history.history['loss'], label=\"Втрати\")\n",
    "plt.plot(history.history['val_loss'], label=\"Валідаційні втрати\")\n",
    "plt.legend()\n",
    "\n",
    "plt.show()"
   ]
  },
  {
   "cell_type": "markdown",
   "id": "40776449",
   "metadata": {},
   "source": [
    "## Перевірка моделі на тестових даних яких раніше модель не бачила"
   ]
  },
  {
   "cell_type": "code",
   "execution_count": 170,
   "id": "abcef641",
   "metadata": {},
   "outputs": [],
   "source": [
    "def pred_to_text(pred):\n",
    "    return list(class_to_num_map.keys())[list(class_to_num_map.values()).index(pred)]"
   ]
  },
  {
   "cell_type": "code",
   "execution_count": 171,
   "id": "6376607d",
   "metadata": {},
   "outputs": [
    {
     "data": {
      "text/plain": [
       "('бізнес', 'преміум', 'комфорт', 'економ')"
      ]
     },
     "execution_count": 171,
     "metadata": {},
     "output_type": "execute_result"
    }
   ],
   "source": [
    "pred_to_text(0), pred_to_text(1), pred_to_text(2), pred_to_text(3)"
   ]
  },
  {
   "cell_type": "code",
   "execution_count": 172,
   "id": "3824570b",
   "metadata": {
    "scrolled": true
   },
   "outputs": [
    {
     "name": "stdout",
     "output_type": "stream",
     "text": [
      "1/1 [==============================] - 0s 139ms/step - loss: 0.0163 - accuracy: 1.0000\n"
     ]
    },
    {
     "data": {
      "text/plain": [
       "[0.016251957044005394, 1.0]"
      ]
     },
     "execution_count": 172,
     "metadata": {},
     "output_type": "execute_result"
    }
   ],
   "source": [
    "model.evaluate(x_test, y_test)"
   ]
  },
  {
   "cell_type": "code",
   "execution_count": 173,
   "id": "033b7be3",
   "metadata": {
    "scrolled": true
   },
   "outputs": [
    {
     "name": "stdout",
     "output_type": "stream",
     "text": [
      "1/1 [==============================] - 0s 190ms/step\n"
     ]
    },
    {
     "data": {
      "text/plain": [
       "'комфорт'"
      ]
     },
     "execution_count": 173,
     "metadata": {},
     "output_type": "execute_result"
    }
   ],
   "source": [
    "pred = model.predict(x_pred)\n",
    "pred_index = np.argmax(pred)\n",
    "\n",
    "pred_to_text(pred_index)"
   ]
  },
  {
   "cell_type": "markdown",
   "id": "7e6d9c9d",
   "metadata": {},
   "source": [
    "TODO: створити новий набір даних із результатами роботи нейронної мережі і передати його на вхід до алгоритму лінійної регресії для оцінки вартості нерухомості"
   ]
  },
  {
   "cell_type": "markdown",
   "id": "9d5a1e27",
   "metadata": {},
   "source": [
    "## Генерація нового набору даних із результатами роботи нейронної мережі"
   ]
  },
  {
   "cell_type": "code",
   "execution_count": 174,
   "id": "cb7bcf87",
   "metadata": {
    "scrolled": true
   },
   "outputs": [
    {
     "name": "stdout",
     "output_type": "stream",
     "text": [
      "6/6 [==============================] - 1s 125ms/step\n"
     ]
    },
    {
     "data": {
      "text/plain": [
       "array([[9.77268636e-01, 1.17257964e-02, 1.00904796e-02, 9.15143173e-04],\n",
       "       [9.77268636e-01, 1.17257964e-02, 1.00904796e-02, 9.15143173e-04],\n",
       "       [9.77268636e-01, 1.17257964e-02, 1.00904796e-02, 9.15143173e-04],\n",
       "       [9.77268636e-01, 1.17257964e-02, 1.00904796e-02, 9.15143173e-04],\n",
       "       [9.77268636e-01, 1.17257964e-02, 1.00904796e-02, 9.15143173e-04],\n",
       "       [9.77268636e-01, 1.17257964e-02, 1.00904796e-02, 9.15143173e-04],\n",
       "       [9.77268636e-01, 1.17257964e-02, 1.00904796e-02, 9.15143173e-04],\n",
       "       [9.77268636e-01, 1.17257964e-02, 1.00904796e-02, 9.15143173e-04],\n",
       "       [9.77268636e-01, 1.17257964e-02, 1.00904796e-02, 9.15143173e-04],\n",
       "       [9.77268636e-01, 1.17257964e-02, 1.00904796e-02, 9.15143173e-04],\n",
       "       [1.13681785e-03, 3.08865798e-04, 9.97189343e-01, 1.36501819e-03],\n",
       "       [1.13681785e-03, 3.08865798e-04, 9.97189343e-01, 1.36501819e-03],\n",
       "       [1.13681785e-03, 3.08865798e-04, 9.97189343e-01, 1.36501819e-03],\n",
       "       [1.13681785e-03, 3.08865798e-04, 9.97189343e-01, 1.36501819e-03],\n",
       "       [1.13681785e-03, 3.08865798e-04, 9.97189343e-01, 1.36501819e-03],\n",
       "       [1.13681785e-03, 3.08865798e-04, 9.97189343e-01, 1.36501819e-03],\n",
       "       [1.13681785e-03, 3.08865798e-04, 9.97189343e-01, 1.36501819e-03],\n",
       "       [1.13681785e-03, 3.08865798e-04, 9.97189343e-01, 1.36501819e-03],\n",
       "       [1.13681785e-03, 3.08865798e-04, 9.97189343e-01, 1.36501819e-03],\n",
       "       [1.13681785e-03, 3.08865798e-04, 9.97189343e-01, 1.36501819e-03],\n",
       "       [1.13681785e-03, 3.08865798e-04, 9.97189343e-01, 1.36501819e-03],\n",
       "       [1.13681785e-03, 3.08865798e-04, 9.97189343e-01, 1.36501819e-03],\n",
       "       [1.13681785e-03, 3.08865798e-04, 9.97189343e-01, 1.36501819e-03],\n",
       "       [1.13681785e-03, 3.08865798e-04, 9.97189343e-01, 1.36501819e-03],\n",
       "       [1.13681785e-03, 3.08865798e-04, 9.97189343e-01, 1.36501819e-03],\n",
       "       [1.13681785e-03, 3.08865798e-04, 9.97189343e-01, 1.36501819e-03],\n",
       "       [1.13681785e-03, 3.08865798e-04, 9.97189343e-01, 1.36501819e-03],\n",
       "       [1.13681785e-03, 3.08865798e-04, 9.97189343e-01, 1.36501819e-03],\n",
       "       [1.13681785e-03, 3.08865798e-04, 9.97189343e-01, 1.36501819e-03],\n",
       "       [1.13681785e-03, 3.08865798e-04, 9.97189343e-01, 1.36501819e-03],\n",
       "       [1.13681622e-03, 3.08865187e-04, 9.97189343e-01, 1.36501633e-03],\n",
       "       [1.45894429e-03, 1.13766357e-04, 9.97188628e-01, 1.23863865e-03],\n",
       "       [1.45894568e-03, 1.13766575e-04, 9.97188628e-01, 1.23863982e-03],\n",
       "       [1.45894568e-03, 1.13766575e-04, 9.97188628e-01, 1.23863982e-03],\n",
       "       [1.45894568e-03, 1.13766575e-04, 9.97188628e-01, 1.23863982e-03],\n",
       "       [1.45894568e-03, 1.13766575e-04, 9.97188628e-01, 1.23863982e-03],\n",
       "       [1.45894568e-03, 1.13766575e-04, 9.97188628e-01, 1.23863982e-03],\n",
       "       [1.45894568e-03, 1.13766575e-04, 9.97188628e-01, 1.23863982e-03],\n",
       "       [1.45894568e-03, 1.13766575e-04, 9.97188628e-01, 1.23863982e-03],\n",
       "       [1.45894568e-03, 1.13766575e-04, 9.97188628e-01, 1.23863982e-03],\n",
       "       [1.45894568e-03, 1.13766575e-04, 9.97188628e-01, 1.23863982e-03],\n",
       "       [1.45894568e-03, 1.13766575e-04, 9.97188628e-01, 1.23863982e-03],\n",
       "       [1.45894568e-03, 1.13766575e-04, 9.97188628e-01, 1.23863982e-03],\n",
       "       [1.45894568e-03, 1.13766575e-04, 9.97188628e-01, 1.23863982e-03],\n",
       "       [1.45894568e-03, 1.13766575e-04, 9.97188628e-01, 1.23863982e-03],\n",
       "       [1.45894568e-03, 1.13766575e-04, 9.97188628e-01, 1.23863982e-03],\n",
       "       [1.45894568e-03, 1.13766575e-04, 9.97188628e-01, 1.23863982e-03],\n",
       "       [1.45894568e-03, 1.13766575e-04, 9.97188628e-01, 1.23863982e-03],\n",
       "       [1.45894568e-03, 1.13766575e-04, 9.97188628e-01, 1.23863982e-03],\n",
       "       [1.45894568e-03, 1.13766575e-04, 9.97188628e-01, 1.23863982e-03],\n",
       "       [1.45894568e-03, 1.13766575e-04, 9.97188628e-01, 1.23863982e-03],\n",
       "       [1.45894568e-03, 1.13766575e-04, 9.97188628e-01, 1.23863982e-03],\n",
       "       [1.45894568e-03, 1.13766575e-04, 9.97188628e-01, 1.23863982e-03],\n",
       "       [1.45894568e-03, 1.13766575e-04, 9.97188628e-01, 1.23863982e-03],\n",
       "       [1.45894568e-03, 1.13766575e-04, 9.97188628e-01, 1.23863982e-03],\n",
       "       [1.45894568e-03, 1.13766575e-04, 9.97188628e-01, 1.23863982e-03],\n",
       "       [1.45894568e-03, 1.13766575e-04, 9.97188628e-01, 1.23863982e-03],\n",
       "       [1.45894568e-03, 1.13766575e-04, 9.97188628e-01, 1.23863982e-03],\n",
       "       [1.45894568e-03, 1.13766575e-04, 9.97188628e-01, 1.23863982e-03],\n",
       "       [1.45894568e-03, 1.13766575e-04, 9.97188628e-01, 1.23863982e-03],\n",
       "       [1.45894568e-03, 1.13766575e-04, 9.97188628e-01, 1.23863982e-03],\n",
       "       [1.45894568e-03, 1.13766575e-04, 9.97188628e-01, 1.23863982e-03],\n",
       "       [8.25559255e-04, 3.40089173e-04, 9.98242617e-01, 5.91852469e-04],\n",
       "       [8.25559255e-04, 3.40089173e-04, 9.98242617e-01, 5.91852469e-04],\n",
       "       [8.25558847e-04, 3.40088998e-04, 9.98242617e-01, 5.91852178e-04],\n",
       "       [8.31577287e-04, 3.36084224e-04, 9.98236895e-01, 5.95444872e-04],\n",
       "       [8.25558847e-04, 3.40088998e-04, 9.98242617e-01, 5.91852178e-04],\n",
       "       [8.25558847e-04, 3.40088998e-04, 9.98242617e-01, 5.91852178e-04],\n",
       "       [8.31577287e-04, 3.36084224e-04, 9.98236895e-01, 5.95444872e-04],\n",
       "       [8.25558847e-04, 3.40088998e-04, 9.98242617e-01, 5.91852178e-04],\n",
       "       [8.25558847e-04, 3.40088998e-04, 9.98242617e-01, 5.91852178e-04],\n",
       "       [8.25558847e-04, 3.40088998e-04, 9.98242617e-01, 5.91852178e-04],\n",
       "       [8.25558847e-04, 3.40088998e-04, 9.98242617e-01, 5.91852178e-04],\n",
       "       [8.25558847e-04, 3.40088998e-04, 9.98242617e-01, 5.91852178e-04],\n",
       "       [8.25558847e-04, 3.40088998e-04, 9.98242617e-01, 5.91852178e-04],\n",
       "       [8.25558847e-04, 3.40088998e-04, 9.98242617e-01, 5.91852178e-04],\n",
       "       [8.25558847e-04, 3.40088998e-04, 9.98242617e-01, 5.91852178e-04],\n",
       "       [8.25558847e-04, 3.40088998e-04, 9.98242617e-01, 5.91852178e-04],\n",
       "       [8.31577287e-04, 3.36084224e-04, 9.98236895e-01, 5.95444872e-04],\n",
       "       [8.25558847e-04, 3.40088998e-04, 9.98242617e-01, 5.91852178e-04],\n",
       "       [8.31577287e-04, 3.36084224e-04, 9.98236895e-01, 5.95444872e-04],\n",
       "       [8.25558847e-04, 3.40088998e-04, 9.98242617e-01, 5.91852178e-04],\n",
       "       [8.25558847e-04, 3.40088998e-04, 9.98242617e-01, 5.91852178e-04],\n",
       "       [9.79522705e-01, 9.41709429e-03, 1.01622548e-02, 8.97957885e-04],\n",
       "       [9.79522705e-01, 9.41709429e-03, 1.01622548e-02, 8.97957885e-04],\n",
       "       [9.79522705e-01, 9.41709429e-03, 1.01622548e-02, 8.97957885e-04],\n",
       "       [9.79522705e-01, 9.41709429e-03, 1.01622548e-02, 8.97957885e-04],\n",
       "       [9.79522705e-01, 9.41709429e-03, 1.01622548e-02, 8.97957885e-04],\n",
       "       [9.79522705e-01, 9.41709429e-03, 1.01622548e-02, 8.97957885e-04],\n",
       "       [9.79522705e-01, 9.41709429e-03, 1.01622548e-02, 8.97957885e-04],\n",
       "       [9.79522705e-01, 9.41709429e-03, 1.01622548e-02, 8.97957885e-04],\n",
       "       [9.79522705e-01, 9.41709429e-03, 1.01622548e-02, 8.97957885e-04],\n",
       "       [9.79522705e-01, 9.41709429e-03, 1.01622548e-02, 8.97957885e-04],\n",
       "       [9.79522705e-01, 9.41709429e-03, 1.01622548e-02, 8.97957885e-04],\n",
       "       [9.79522705e-01, 9.41709429e-03, 1.01622548e-02, 8.97957420e-04],\n",
       "       [9.79522705e-01, 9.41709429e-03, 1.01622548e-02, 8.97957420e-04],\n",
       "       [9.79522705e-01, 9.41709429e-03, 1.01622548e-02, 8.97957885e-04],\n",
       "       [9.79522705e-01, 9.41709429e-03, 1.01622548e-02, 8.97957885e-04],\n",
       "       [9.79522705e-01, 9.41709429e-03, 1.01622548e-02, 8.97957885e-04],\n",
       "       [9.79522705e-01, 9.41709429e-03, 1.01622548e-02, 8.97957885e-04],\n",
       "       [9.79522705e-01, 9.41709429e-03, 1.01622548e-02, 8.97957885e-04],\n",
       "       [2.96800723e-03, 9.95199561e-01, 1.82436465e-03, 8.01605711e-06],\n",
       "       [2.96800723e-03, 9.95199561e-01, 1.82436465e-03, 8.01605711e-06],\n",
       "       [2.96800723e-03, 9.95199561e-01, 1.82436465e-03, 8.01605711e-06],\n",
       "       [2.96800723e-03, 9.95199561e-01, 1.82436465e-03, 8.01605711e-06],\n",
       "       [2.96800723e-03, 9.95199561e-01, 1.82436465e-03, 8.01605711e-06],\n",
       "       [2.96800723e-03, 9.95199561e-01, 1.82436465e-03, 8.01605711e-06],\n",
       "       [2.96800723e-03, 9.95199561e-01, 1.82436465e-03, 8.01605711e-06],\n",
       "       [2.96800723e-03, 9.95199561e-01, 1.82436465e-03, 8.01605711e-06],\n",
       "       [2.96800723e-03, 9.95199561e-01, 1.82436465e-03, 8.01605711e-06],\n",
       "       [2.96800723e-03, 9.95199561e-01, 1.82436465e-03, 8.01605711e-06],\n",
       "       [2.96800723e-03, 9.95199561e-01, 1.82436465e-03, 8.01605711e-06],\n",
       "       [2.96800723e-03, 9.95199561e-01, 1.82436465e-03, 8.01605711e-06],\n",
       "       [2.96800723e-03, 9.95199561e-01, 1.82436465e-03, 8.01605711e-06],\n",
       "       [2.96800723e-03, 9.95199561e-01, 1.82436465e-03, 8.01605711e-06],\n",
       "       [2.96800723e-03, 9.95199561e-01, 1.82436465e-03, 8.01605711e-06],\n",
       "       [2.96800723e-03, 9.95199561e-01, 1.82436465e-03, 8.01605711e-06],\n",
       "       [2.96800723e-03, 9.95199561e-01, 1.82436465e-03, 8.01605711e-06],\n",
       "       [2.96800723e-03, 9.95199561e-01, 1.82436465e-03, 8.01605711e-06],\n",
       "       [2.96800723e-03, 9.95199561e-01, 1.82436465e-03, 8.01605711e-06],\n",
       "       [2.96800723e-03, 9.95199561e-01, 1.82436465e-03, 8.01605711e-06],\n",
       "       [2.96800723e-03, 9.95199561e-01, 1.82436465e-03, 8.01605711e-06],\n",
       "       [2.96800723e-03, 9.95199561e-01, 1.82436465e-03, 8.01605711e-06],\n",
       "       [2.96800723e-03, 9.95199561e-01, 1.82436465e-03, 8.01605711e-06],\n",
       "       [9.44804013e-01, 2.97957882e-02, 2.26554349e-02, 2.74477061e-03],\n",
       "       [9.44804013e-01, 2.97957882e-02, 2.26554349e-02, 2.74477061e-03],\n",
       "       [9.44804013e-01, 2.97957882e-02, 2.26554573e-02, 2.74477340e-03],\n",
       "       [9.44804013e-01, 2.97957882e-02, 2.26554573e-02, 2.74477340e-03],\n",
       "       [9.44804013e-01, 2.97957882e-02, 2.26554349e-02, 2.74477061e-03],\n",
       "       [9.44804013e-01, 2.97957882e-02, 2.26554349e-02, 2.74477061e-03],\n",
       "       [9.44804013e-01, 2.97957882e-02, 2.26554349e-02, 2.74477061e-03],\n",
       "       [2.25795200e-03, 1.14581350e-03, 9.93417978e-01, 3.17820814e-03],\n",
       "       [2.25795200e-03, 1.14581350e-03, 9.93417978e-01, 3.17820814e-03],\n",
       "       [2.25795200e-03, 1.14581350e-03, 9.93417978e-01, 3.17820814e-03],\n",
       "       [2.25795200e-03, 1.14581350e-03, 9.93417978e-01, 3.17820814e-03],\n",
       "       [2.25795200e-03, 1.14581350e-03, 9.93417978e-01, 3.17820814e-03],\n",
       "       [2.25795200e-03, 1.14581350e-03, 9.93417978e-01, 3.17820814e-03],\n",
       "       [2.25795200e-03, 1.14581350e-03, 9.93417978e-01, 3.17820814e-03],\n",
       "       [2.25795200e-03, 1.14581350e-03, 9.93417978e-01, 3.17820814e-03],\n",
       "       [2.25795200e-03, 1.14581350e-03, 9.93417978e-01, 3.17820814e-03],\n",
       "       [9.84818041e-01, 6.33363426e-03, 8.25453270e-03, 5.93799166e-04],\n",
       "       [9.84818041e-01, 6.33363426e-03, 8.25453270e-03, 5.93799166e-04],\n",
       "       [9.84818041e-01, 6.33363426e-03, 8.25453270e-03, 5.93799166e-04],\n",
       "       [9.84818041e-01, 6.33363426e-03, 8.25453270e-03, 5.93799166e-04],\n",
       "       [9.84818041e-01, 6.33363426e-03, 8.25453270e-03, 5.93799166e-04],\n",
       "       [9.84818041e-01, 6.33363426e-03, 8.25453270e-03, 5.93799166e-04],\n",
       "       [9.84818041e-01, 6.33363426e-03, 8.25453270e-03, 5.93799166e-04],\n",
       "       [9.84818041e-01, 6.33363426e-03, 8.25453270e-03, 5.93799166e-04],\n",
       "       [9.84818041e-01, 6.33363426e-03, 8.25453270e-03, 5.93799166e-04],\n",
       "       [9.84818041e-01, 6.33363426e-03, 8.25453270e-03, 5.93799166e-04],\n",
       "       [9.84818041e-01, 6.33363426e-03, 8.25453270e-03, 5.93799166e-04],\n",
       "       [9.84818041e-01, 6.33363426e-03, 8.25453270e-03, 5.93799166e-04],\n",
       "       [9.84818041e-01, 6.33363426e-03, 8.25453270e-03, 5.93799166e-04],\n",
       "       [9.84818041e-01, 6.33363426e-03, 8.25453270e-03, 5.93799166e-04],\n",
       "       [9.84818041e-01, 6.33363426e-03, 8.25453270e-03, 5.93799166e-04],\n",
       "       [9.84818041e-01, 6.33363426e-03, 8.25453270e-03, 5.93799166e-04],\n",
       "       [9.84818041e-01, 6.33363426e-03, 8.25453270e-03, 5.93799166e-04],\n",
       "       [3.46422149e-03, 5.24206669e-04, 9.92757022e-01, 3.25453654e-03],\n",
       "       [3.46422149e-03, 5.24206669e-04, 9.92757022e-01, 3.25453654e-03],\n",
       "       [3.46422149e-03, 5.24206669e-04, 9.92757022e-01, 3.25453654e-03],\n",
       "       [3.46422149e-03, 5.24206669e-04, 9.92757022e-01, 3.25453654e-03],\n",
       "       [3.46422149e-03, 5.24206669e-04, 9.92757022e-01, 3.25453654e-03],\n",
       "       [3.46422149e-03, 5.24206669e-04, 9.92757022e-01, 3.25453654e-03],\n",
       "       [3.46422149e-03, 5.24206669e-04, 9.92757022e-01, 3.25453654e-03],\n",
       "       [3.46422149e-03, 5.24206669e-04, 9.92757022e-01, 3.25453654e-03],\n",
       "       [3.46422149e-03, 5.24206669e-04, 9.92757022e-01, 3.25453654e-03],\n",
       "       [3.46422149e-03, 5.24206902e-04, 9.92757022e-01, 3.25453654e-03],\n",
       "       [3.46422149e-03, 5.24206902e-04, 9.92757022e-01, 3.25453654e-03],\n",
       "       [3.46422149e-03, 5.24206902e-04, 9.92757022e-01, 3.25453654e-03]],\n",
       "      dtype=float32)"
      ]
     },
     "execution_count": 174,
     "metadata": {},
     "output_type": "execute_result"
    }
   ],
   "source": [
    "predicted = model.predict(df_initial['description'].values)\n",
    "predicted"
   ]
  },
  {
   "cell_type": "code",
   "execution_count": 175,
   "id": "444a18f4",
   "metadata": {
    "scrolled": true
   },
   "outputs": [
    {
     "data": {
      "text/plain": [
       "['бізнес',\n",
       " 'бізнес',\n",
       " 'бізнес',\n",
       " 'бізнес',\n",
       " 'бізнес',\n",
       " 'бізнес',\n",
       " 'бізнес',\n",
       " 'бізнес',\n",
       " 'бізнес',\n",
       " 'бізнес',\n",
       " 'комфорт',\n",
       " 'комфорт',\n",
       " 'комфорт',\n",
       " 'комфорт',\n",
       " 'комфорт',\n",
       " 'комфорт',\n",
       " 'комфорт',\n",
       " 'комфорт',\n",
       " 'комфорт',\n",
       " 'комфорт',\n",
       " 'комфорт',\n",
       " 'комфорт',\n",
       " 'комфорт',\n",
       " 'комфорт',\n",
       " 'комфорт',\n",
       " 'комфорт',\n",
       " 'комфорт',\n",
       " 'комфорт',\n",
       " 'комфорт',\n",
       " 'комфорт',\n",
       " 'комфорт',\n",
       " 'комфорт',\n",
       " 'комфорт',\n",
       " 'комфорт',\n",
       " 'комфорт',\n",
       " 'комфорт',\n",
       " 'комфорт',\n",
       " 'комфорт',\n",
       " 'комфорт',\n",
       " 'комфорт',\n",
       " 'комфорт',\n",
       " 'комфорт',\n",
       " 'комфорт',\n",
       " 'комфорт',\n",
       " 'комфорт',\n",
       " 'комфорт',\n",
       " 'комфорт',\n",
       " 'комфорт',\n",
       " 'комфорт',\n",
       " 'комфорт',\n",
       " 'комфорт',\n",
       " 'комфорт',\n",
       " 'комфорт',\n",
       " 'комфорт',\n",
       " 'комфорт',\n",
       " 'комфорт',\n",
       " 'комфорт',\n",
       " 'комфорт',\n",
       " 'комфорт',\n",
       " 'комфорт',\n",
       " 'комфорт',\n",
       " 'комфорт',\n",
       " 'комфорт',\n",
       " 'комфорт',\n",
       " 'комфорт',\n",
       " 'комфорт',\n",
       " 'комфорт',\n",
       " 'комфорт',\n",
       " 'комфорт',\n",
       " 'комфорт',\n",
       " 'комфорт',\n",
       " 'комфорт',\n",
       " 'комфорт',\n",
       " 'комфорт',\n",
       " 'комфорт',\n",
       " 'комфорт',\n",
       " 'комфорт',\n",
       " 'комфорт',\n",
       " 'комфорт',\n",
       " 'комфорт',\n",
       " 'комфорт',\n",
       " 'комфорт',\n",
       " 'комфорт',\n",
       " 'бізнес',\n",
       " 'бізнес',\n",
       " 'бізнес',\n",
       " 'бізнес',\n",
       " 'бізнес',\n",
       " 'бізнес',\n",
       " 'бізнес',\n",
       " 'бізнес',\n",
       " 'бізнес',\n",
       " 'бізнес',\n",
       " 'бізнес',\n",
       " 'бізнес',\n",
       " 'бізнес',\n",
       " 'бізнес',\n",
       " 'бізнес',\n",
       " 'бізнес',\n",
       " 'бізнес',\n",
       " 'бізнес',\n",
       " 'преміум',\n",
       " 'преміум',\n",
       " 'преміум',\n",
       " 'преміум',\n",
       " 'преміум',\n",
       " 'преміум',\n",
       " 'преміум',\n",
       " 'преміум',\n",
       " 'преміум',\n",
       " 'преміум',\n",
       " 'преміум',\n",
       " 'преміум',\n",
       " 'преміум',\n",
       " 'преміум',\n",
       " 'преміум',\n",
       " 'преміум',\n",
       " 'преміум',\n",
       " 'преміум',\n",
       " 'преміум',\n",
       " 'преміум',\n",
       " 'преміум',\n",
       " 'преміум',\n",
       " 'преміум',\n",
       " 'бізнес',\n",
       " 'бізнес',\n",
       " 'бізнес',\n",
       " 'бізнес',\n",
       " 'бізнес',\n",
       " 'бізнес',\n",
       " 'бізнес',\n",
       " 'комфорт',\n",
       " 'комфорт',\n",
       " 'комфорт',\n",
       " 'комфорт',\n",
       " 'комфорт',\n",
       " 'комфорт',\n",
       " 'комфорт',\n",
       " 'комфорт',\n",
       " 'комфорт',\n",
       " 'бізнес',\n",
       " 'бізнес',\n",
       " 'бізнес',\n",
       " 'бізнес',\n",
       " 'бізнес',\n",
       " 'бізнес',\n",
       " 'бізнес',\n",
       " 'бізнес',\n",
       " 'бізнес',\n",
       " 'бізнес',\n",
       " 'бізнес',\n",
       " 'бізнес',\n",
       " 'бізнес',\n",
       " 'бізнес',\n",
       " 'бізнес',\n",
       " 'бізнес',\n",
       " 'бізнес',\n",
       " 'комфорт',\n",
       " 'комфорт',\n",
       " 'комфорт',\n",
       " 'комфорт',\n",
       " 'комфорт',\n",
       " 'комфорт',\n",
       " 'комфорт',\n",
       " 'комфорт',\n",
       " 'комфорт',\n",
       " 'комфорт',\n",
       " 'комфорт',\n",
       " 'комфорт']"
      ]
     },
     "execution_count": 175,
     "metadata": {},
     "output_type": "execute_result"
    }
   ],
   "source": [
    "predicted_to_human_readable = list(map(lambda categorical: pred_to_text(np.argmax(categorical)), predicted))\n",
    "predicted_to_human_readable"
   ]
  },
  {
   "cell_type": "code",
   "execution_count": 176,
   "id": "25ccca7a",
   "metadata": {},
   "outputs": [],
   "source": [
    "crafted_dataset = df_initial.copy()"
   ]
  },
  {
   "cell_type": "code",
   "execution_count": 177,
   "id": "8f4ea615",
   "metadata": {},
   "outputs": [
    {
     "data": {
      "text/plain": [
       "((169, 17), 169)"
      ]
     },
     "execution_count": 177,
     "metadata": {},
     "output_type": "execute_result"
    }
   ],
   "source": [
    "crafted_dataset.shape, len(predicted_to_human_readable)"
   ]
  },
  {
   "cell_type": "code",
   "execution_count": 178,
   "id": "dca0e26a",
   "metadata": {},
   "outputs": [],
   "source": [
    "crafted_dataset['predictedClass'] = predicted_to_human_readable"
   ]
  },
  {
   "cell_type": "code",
   "execution_count": 179,
   "id": "33f35178",
   "metadata": {
    "scrolled": true
   },
   "outputs": [
    {
     "data": {
      "text/html": [
       "<div>\n",
       "<style scoped>\n",
       "    .dataframe tbody tr th:only-of-type {\n",
       "        vertical-align: middle;\n",
       "    }\n",
       "\n",
       "    .dataframe tbody tr th {\n",
       "        vertical-align: top;\n",
       "    }\n",
       "\n",
       "    .dataframe thead th {\n",
       "        text-align: right;\n",
       "    }\n",
       "</style>\n",
       "<table border=\"1\" class=\"dataframe\">\n",
       "  <thead>\n",
       "    <tr style=\"text-align: right;\">\n",
       "      <th></th>\n",
       "      <th>residence</th>\n",
       "      <th>developer</th>\n",
       "      <th>description</th>\n",
       "      <th>address</th>\n",
       "      <th>district</th>\n",
       "      <th>class</th>\n",
       "      <th>ceilingHeight</th>\n",
       "      <th>numApartmentsTotal</th>\n",
       "      <th>year</th>\n",
       "      <th>pricePerSquareMeter</th>\n",
       "      <th>price</th>\n",
       "      <th>area</th>\n",
       "      <th>rooms</th>\n",
       "      <th>floor</th>\n",
       "      <th>minutesToCityCenter</th>\n",
       "      <th>assess</th>\n",
       "      <th>crimeRateInDistrict</th>\n",
       "      <th>predictedClass</th>\n",
       "    </tr>\n",
       "  </thead>\n",
       "  <tbody>\n",
       "    <tr>\n",
       "      <th>0</th>\n",
       "      <td>А136 Highlight Tower</td>\n",
       "      <td>DIM</td>\n",
       "      <td>Residential complex A136 Highlight Tower is a ...</td>\n",
       "      <td>вул. Антоновича, 136-138</td>\n",
       "      <td>Голосіївський р-н</td>\n",
       "      <td>бізнес</td>\n",
       "      <td>3</td>\n",
       "      <td>324</td>\n",
       "      <td>2023.0</td>\n",
       "      <td>137800.0</td>\n",
       "      <td>7441200.0</td>\n",
       "      <td>54</td>\n",
       "      <td>1</td>\n",
       "      <td>18.0</td>\n",
       "      <td>48</td>\n",
       "      <td>52536</td>\n",
       "      <td>2317</td>\n",
       "      <td>бізнес</td>\n",
       "    </tr>\n",
       "    <tr>\n",
       "      <th>1</th>\n",
       "      <td>А136 Highlight Tower</td>\n",
       "      <td>DIM</td>\n",
       "      <td>Residential complex A136 Highlight Tower is a ...</td>\n",
       "      <td>вул. Антоновича, 136-138</td>\n",
       "      <td>Голосіївський р-н</td>\n",
       "      <td>бізнес</td>\n",
       "      <td>3</td>\n",
       "      <td>324</td>\n",
       "      <td>2023.0</td>\n",
       "      <td>137800.0</td>\n",
       "      <td>7992400.0</td>\n",
       "      <td>58</td>\n",
       "      <td>1</td>\n",
       "      <td>NaN</td>\n",
       "      <td>48</td>\n",
       "      <td>52536</td>\n",
       "      <td>2317</td>\n",
       "      <td>бізнес</td>\n",
       "    </tr>\n",
       "    <tr>\n",
       "      <th>2</th>\n",
       "      <td>А136 Highlight Tower</td>\n",
       "      <td>DIM</td>\n",
       "      <td>Residential complex A136 Highlight Tower is a ...</td>\n",
       "      <td>вул. Антоновича, 136-138</td>\n",
       "      <td>Голосіївський р-н</td>\n",
       "      <td>бізнес</td>\n",
       "      <td>3</td>\n",
       "      <td>324</td>\n",
       "      <td>2023.0</td>\n",
       "      <td>125275.0</td>\n",
       "      <td>10022000.0</td>\n",
       "      <td>80</td>\n",
       "      <td>2</td>\n",
       "      <td>7.0</td>\n",
       "      <td>48</td>\n",
       "      <td>52536</td>\n",
       "      <td>2317</td>\n",
       "      <td>бізнес</td>\n",
       "    </tr>\n",
       "    <tr>\n",
       "      <th>3</th>\n",
       "      <td>А136 Highlight Tower</td>\n",
       "      <td>DIM</td>\n",
       "      <td>Residential complex A136 Highlight Tower is a ...</td>\n",
       "      <td>вул. Антоновича, 136-138</td>\n",
       "      <td>Голосіївський р-н</td>\n",
       "      <td>бізнес</td>\n",
       "      <td>3</td>\n",
       "      <td>324</td>\n",
       "      <td>2023.0</td>\n",
       "      <td>125275.0</td>\n",
       "      <td>10147275.0</td>\n",
       "      <td>81</td>\n",
       "      <td>2</td>\n",
       "      <td>13.0</td>\n",
       "      <td>48</td>\n",
       "      <td>52536</td>\n",
       "      <td>2317</td>\n",
       "      <td>бізнес</td>\n",
       "    </tr>\n",
       "    <tr>\n",
       "      <th>4</th>\n",
       "      <td>А136 Highlight Tower</td>\n",
       "      <td>DIM</td>\n",
       "      <td>Residential complex A136 Highlight Tower is a ...</td>\n",
       "      <td>вул. Антоновича, 136-138</td>\n",
       "      <td>Голосіївський р-н</td>\n",
       "      <td>бізнес</td>\n",
       "      <td>3</td>\n",
       "      <td>324</td>\n",
       "      <td>2023.0</td>\n",
       "      <td>125275.0</td>\n",
       "      <td>10648375.0</td>\n",
       "      <td>85</td>\n",
       "      <td>2</td>\n",
       "      <td>17.0</td>\n",
       "      <td>48</td>\n",
       "      <td>52536</td>\n",
       "      <td>2317</td>\n",
       "      <td>бізнес</td>\n",
       "    </tr>\n",
       "    <tr>\n",
       "      <th>...</th>\n",
       "      <td>...</td>\n",
       "      <td>...</td>\n",
       "      <td>...</td>\n",
       "      <td>...</td>\n",
       "      <td>...</td>\n",
       "      <td>...</td>\n",
       "      <td>...</td>\n",
       "      <td>...</td>\n",
       "      <td>...</td>\n",
       "      <td>...</td>\n",
       "      <td>...</td>\n",
       "      <td>...</td>\n",
       "      <td>...</td>\n",
       "      <td>...</td>\n",
       "      <td>...</td>\n",
       "      <td>...</td>\n",
       "      <td>...</td>\n",
       "      <td>...</td>\n",
       "    </tr>\n",
       "    <tr>\n",
       "      <th>164</th>\n",
       "      <td>ЖК 4 сезони</td>\n",
       "      <td>УМК</td>\n",
       "      <td>The 4 Seasons residential complex in Kyiv is a...</td>\n",
       "      <td>вул. Михайла Максимовича (Трутенка), 3г</td>\n",
       "      <td>Голосіївський р-н</td>\n",
       "      <td>комфорт</td>\n",
       "      <td>2</td>\n",
       "      <td>2060</td>\n",
       "      <td>2024.0</td>\n",
       "      <td>NaN</td>\n",
       "      <td>NaN</td>\n",
       "      <td>97</td>\n",
       "      <td>3</td>\n",
       "      <td>25.0</td>\n",
       "      <td>109</td>\n",
       "      <td>52536</td>\n",
       "      <td>2317</td>\n",
       "      <td>комфорт</td>\n",
       "    </tr>\n",
       "    <tr>\n",
       "      <th>165</th>\n",
       "      <td>ЖК 4 сезони</td>\n",
       "      <td>УМК</td>\n",
       "      <td>The 4 Seasons residential complex in Kyiv is a...</td>\n",
       "      <td>вул. Михайла Максимовича (Трутенка), 3г</td>\n",
       "      <td>Голосіївський р-н</td>\n",
       "      <td>комфорт</td>\n",
       "      <td>2</td>\n",
       "      <td>2060</td>\n",
       "      <td>2024.0</td>\n",
       "      <td>NaN</td>\n",
       "      <td>NaN</td>\n",
       "      <td>106</td>\n",
       "      <td>3</td>\n",
       "      <td>25.0</td>\n",
       "      <td>109</td>\n",
       "      <td>52536</td>\n",
       "      <td>2317</td>\n",
       "      <td>комфорт</td>\n",
       "    </tr>\n",
       "    <tr>\n",
       "      <th>166</th>\n",
       "      <td>ЖК 4 сезони</td>\n",
       "      <td>УМК</td>\n",
       "      <td>The 4 Seasons residential complex in Kyiv is a...</td>\n",
       "      <td>вул. Михайла Максимовича (Трутенка), 3г</td>\n",
       "      <td>Голосіївський р-н</td>\n",
       "      <td>комфорт</td>\n",
       "      <td>2</td>\n",
       "      <td>2060</td>\n",
       "      <td>2024.0</td>\n",
       "      <td>NaN</td>\n",
       "      <td>NaN</td>\n",
       "      <td>117</td>\n",
       "      <td>3</td>\n",
       "      <td>25.0</td>\n",
       "      <td>109</td>\n",
       "      <td>52536</td>\n",
       "      <td>2317</td>\n",
       "      <td>комфорт</td>\n",
       "    </tr>\n",
       "    <tr>\n",
       "      <th>167</th>\n",
       "      <td>ЖК 4 сезони</td>\n",
       "      <td>УМК</td>\n",
       "      <td>The 4 Seasons residential complex in Kyiv is a...</td>\n",
       "      <td>вул. Михайла Максимовича (Трутенка), 3г</td>\n",
       "      <td>Голосіївський р-н</td>\n",
       "      <td>комфорт</td>\n",
       "      <td>2</td>\n",
       "      <td>2060</td>\n",
       "      <td>2024.0</td>\n",
       "      <td>NaN</td>\n",
       "      <td>NaN</td>\n",
       "      <td>134</td>\n",
       "      <td>3</td>\n",
       "      <td>25.0</td>\n",
       "      <td>109</td>\n",
       "      <td>52536</td>\n",
       "      <td>2317</td>\n",
       "      <td>комфорт</td>\n",
       "    </tr>\n",
       "    <tr>\n",
       "      <th>168</th>\n",
       "      <td>ЖК 4 сезони</td>\n",
       "      <td>УМК</td>\n",
       "      <td>The 4 Seasons residential complex in Kyiv is a...</td>\n",
       "      <td>вул. Михайла Максимовича (Трутенка), 3г</td>\n",
       "      <td>Голосіївський р-н</td>\n",
       "      <td>комфорт</td>\n",
       "      <td>2</td>\n",
       "      <td>2060</td>\n",
       "      <td>2024.0</td>\n",
       "      <td>NaN</td>\n",
       "      <td>NaN</td>\n",
       "      <td>141</td>\n",
       "      <td>4</td>\n",
       "      <td>25.0</td>\n",
       "      <td>109</td>\n",
       "      <td>52536</td>\n",
       "      <td>2317</td>\n",
       "      <td>комфорт</td>\n",
       "    </tr>\n",
       "  </tbody>\n",
       "</table>\n",
       "<p>169 rows × 18 columns</p>\n",
       "</div>"
      ],
      "text/plain": [
       "                residence developer  \\\n",
       "0    А136 Highlight Tower       DIM   \n",
       "1    А136 Highlight Tower       DIM   \n",
       "2    А136 Highlight Tower       DIM   \n",
       "3    А136 Highlight Tower       DIM   \n",
       "4    А136 Highlight Tower       DIM   \n",
       "..                    ...       ...   \n",
       "164           ЖК 4 сезони       УМК   \n",
       "165           ЖК 4 сезони       УМК   \n",
       "166           ЖК 4 сезони       УМК   \n",
       "167           ЖК 4 сезони       УМК   \n",
       "168           ЖК 4 сезони       УМК   \n",
       "\n",
       "                                           description  \\\n",
       "0    Residential complex A136 Highlight Tower is a ...   \n",
       "1    Residential complex A136 Highlight Tower is a ...   \n",
       "2    Residential complex A136 Highlight Tower is a ...   \n",
       "3    Residential complex A136 Highlight Tower is a ...   \n",
       "4    Residential complex A136 Highlight Tower is a ...   \n",
       "..                                                 ...   \n",
       "164  The 4 Seasons residential complex in Kyiv is a...   \n",
       "165  The 4 Seasons residential complex in Kyiv is a...   \n",
       "166  The 4 Seasons residential complex in Kyiv is a...   \n",
       "167  The 4 Seasons residential complex in Kyiv is a...   \n",
       "168  The 4 Seasons residential complex in Kyiv is a...   \n",
       "\n",
       "                                     address           district    class  \\\n",
       "0                   вул. Антоновича, 136-138  Голосіївський р-н   бізнес   \n",
       "1                   вул. Антоновича, 136-138  Голосіївський р-н   бізнес   \n",
       "2                   вул. Антоновича, 136-138  Голосіївський р-н   бізнес   \n",
       "3                   вул. Антоновича, 136-138  Голосіївський р-н   бізнес   \n",
       "4                   вул. Антоновича, 136-138  Голосіївський р-н   бізнес   \n",
       "..                                       ...                ...      ...   \n",
       "164  вул. Михайла Максимовича (Трутенка), 3г  Голосіївський р-н  комфорт   \n",
       "165  вул. Михайла Максимовича (Трутенка), 3г  Голосіївський р-н  комфорт   \n",
       "166  вул. Михайла Максимовича (Трутенка), 3г  Голосіївський р-н  комфорт   \n",
       "167  вул. Михайла Максимовича (Трутенка), 3г  Голосіївський р-н  комфорт   \n",
       "168  вул. Михайла Максимовича (Трутенка), 3г  Голосіївський р-н  комфорт   \n",
       "\n",
       "     ceilingHeight  numApartmentsTotal    year  pricePerSquareMeter  \\\n",
       "0                3                 324  2023.0             137800.0   \n",
       "1                3                 324  2023.0             137800.0   \n",
       "2                3                 324  2023.0             125275.0   \n",
       "3                3                 324  2023.0             125275.0   \n",
       "4                3                 324  2023.0             125275.0   \n",
       "..             ...                 ...     ...                  ...   \n",
       "164              2                2060  2024.0                  NaN   \n",
       "165              2                2060  2024.0                  NaN   \n",
       "166              2                2060  2024.0                  NaN   \n",
       "167              2                2060  2024.0                  NaN   \n",
       "168              2                2060  2024.0                  NaN   \n",
       "\n",
       "          price  area  rooms  floor  minutesToCityCenter  assess  \\\n",
       "0     7441200.0    54      1   18.0                   48   52536   \n",
       "1     7992400.0    58      1    NaN                   48   52536   \n",
       "2    10022000.0    80      2    7.0                   48   52536   \n",
       "3    10147275.0    81      2   13.0                   48   52536   \n",
       "4    10648375.0    85      2   17.0                   48   52536   \n",
       "..          ...   ...    ...    ...                  ...     ...   \n",
       "164         NaN    97      3   25.0                  109   52536   \n",
       "165         NaN   106      3   25.0                  109   52536   \n",
       "166         NaN   117      3   25.0                  109   52536   \n",
       "167         NaN   134      3   25.0                  109   52536   \n",
       "168         NaN   141      4   25.0                  109   52536   \n",
       "\n",
       "     crimeRateInDistrict predictedClass  \n",
       "0                   2317         бізнес  \n",
       "1                   2317         бізнес  \n",
       "2                   2317         бізнес  \n",
       "3                   2317         бізнес  \n",
       "4                   2317         бізнес  \n",
       "..                   ...            ...  \n",
       "164                 2317        комфорт  \n",
       "165                 2317        комфорт  \n",
       "166                 2317        комфорт  \n",
       "167                 2317        комфорт  \n",
       "168                 2317        комфорт  \n",
       "\n",
       "[169 rows x 18 columns]"
      ]
     },
     "execution_count": 179,
     "metadata": {},
     "output_type": "execute_result"
    }
   ],
   "source": [
    "crafted_dataset"
   ]
  },
  {
   "cell_type": "code",
   "execution_count": 180,
   "id": "4bd77051",
   "metadata": {},
   "outputs": [],
   "source": [
    "crafted_dataset.to_csv('real-estate-with-nn-results.csv', encoding='utf-8')"
   ]
  }
 ],
 "metadata": {
  "kernelspec": {
   "display_name": "Python 3 (ipykernel)",
   "language": "python",
   "name": "python3"
  },
  "language_info": {
   "codemirror_mode": {
    "name": "ipython",
    "version": 3
   },
   "file_extension": ".py",
   "mimetype": "text/x-python",
   "name": "python",
   "nbconvert_exporter": "python",
   "pygments_lexer": "ipython3",
   "version": "3.9.16"
  }
 },
 "nbformat": 4,
 "nbformat_minor": 5
}
