{
 "cells": [
  {
   "cell_type": "markdown",
   "id": "cb3bb36d",
   "metadata": {},
   "source": [
    "# Класифікація обʼєктів новобудови за текстовим описом за допомогою зворотної нейронної мережі"
   ]
  },
  {
   "cell_type": "markdown",
   "id": "1905b466",
   "metadata": {},
   "source": [
    "https://www.youtube.com/watch?v=VtRLrQ3Ev-U&ab_channel=freeCodeCamp.org"
   ]
  },
  {
   "cell_type": "code",
   "execution_count": 140,
   "id": "c03d44b7",
   "metadata": {},
   "outputs": [],
   "source": [
    "import numpy as np\n",
    "import pandas as pd\n",
    "import matplotlib.pyplot as plt\n",
    "import tensorflow as tf\n",
    "import tensorflow_hub as hub\n",
    "from keras.models import Sequential\n",
    "from keras.layers import Dense, Dropout\n",
    "from keras.optimizers import Adam\n",
    "from keras.utils import to_categorical\n",
    "# from keras.losses import BinaryCrossentropy\n",
    "from keras.losses import CategoricalCrossentropy\n",
    "from sklearn.model_selection import train_test_split"
   ]
  },
  {
   "cell_type": "markdown",
   "id": "77127c14",
   "metadata": {},
   "source": [
    "## Завантаження набору даних"
   ]
  },
  {
   "cell_type": "code",
   "execution_count": 141,
   "id": "2e396479",
   "metadata": {},
   "outputs": [],
   "source": [
    "df = pd.read_csv('./translated-1677270280197.csv', usecols=['residence', 'developer', 'price', 'attributes/class', 'description'])"
   ]
  },
  {
   "cell_type": "code",
   "execution_count": 142,
   "id": "39ba2815",
   "metadata": {
    "scrolled": false
   },
   "outputs": [
    {
     "data": {
      "text/html": [
       "<div>\n",
       "<style scoped>\n",
       "    .dataframe tbody tr th:only-of-type {\n",
       "        vertical-align: middle;\n",
       "    }\n",
       "\n",
       "    .dataframe tbody tr th {\n",
       "        vertical-align: top;\n",
       "    }\n",
       "\n",
       "    .dataframe thead th {\n",
       "        text-align: right;\n",
       "    }\n",
       "</style>\n",
       "<table border=\"1\" class=\"dataframe\">\n",
       "  <thead>\n",
       "    <tr style=\"text-align: right;\">\n",
       "      <th></th>\n",
       "      <th>residence</th>\n",
       "      <th>developer</th>\n",
       "      <th>attributes/class</th>\n",
       "      <th>description</th>\n",
       "      <th>price</th>\n",
       "    </tr>\n",
       "  </thead>\n",
       "  <tbody>\n",
       "    <tr>\n",
       "      <th>0</th>\n",
       "      <td>ЖК Greenville на Печерську</td>\n",
       "      <td>Greenville</td>\n",
       "      <td>бізнес</td>\n",
       "      <td>Greenville is a combination of residential spa...</td>\n",
       "      <td>4138800.0</td>\n",
       "    </tr>\n",
       "    <tr>\n",
       "      <th>1</th>\n",
       "      <td>Linden Luxury Residences</td>\n",
       "      <td>Budhouse Group</td>\n",
       "      <td>преміум</td>\n",
       "      <td>The location of Linden Luxury Residences is th...</td>\n",
       "      <td>1709400.0</td>\n",
       "    </tr>\n",
       "    <tr>\n",
       "      <th>2</th>\n",
       "      <td>БФК OLEGIVSKIY</td>\n",
       "      <td>DIM</td>\n",
       "      <td>бізнес</td>\n",
       "      <td>OLEGIVSKIY is an exclusive business class mult...</td>\n",
       "      <td>3856325.0</td>\n",
       "    </tr>\n",
       "    <tr>\n",
       "      <th>3</th>\n",
       "      <td>ЖК Новий Автограф</td>\n",
       "      <td>DIM</td>\n",
       "      <td>комфорт</td>\n",
       "      <td>Between both buildings of the \"New Autograph\" ...</td>\n",
       "      <td>3269700.0</td>\n",
       "    </tr>\n",
       "    <tr>\n",
       "      <th>4</th>\n",
       "      <td>NaN</td>\n",
       "      <td>NaN</td>\n",
       "      <td>NaN</td>\n",
       "      <td>NaN</td>\n",
       "      <td>NaN</td>\n",
       "    </tr>\n",
       "  </tbody>\n",
       "</table>\n",
       "</div>"
      ],
      "text/plain": [
       "                    residence       developer attributes/class  \\\n",
       "0  ЖК Greenville на Печерську      Greenville           бізнес   \n",
       "1    Linden Luxury Residences  Budhouse Group          преміум   \n",
       "2              БФК OLEGIVSKIY             DIM           бізнес   \n",
       "3           ЖК Новий Автограф             DIM          комфорт   \n",
       "4                         NaN             NaN              NaN   \n",
       "\n",
       "                                         description      price  \n",
       "0  Greenville is a combination of residential spa...  4138800.0  \n",
       "1  The location of Linden Luxury Residences is th...  1709400.0  \n",
       "2  OLEGIVSKIY is an exclusive business class mult...  3856325.0  \n",
       "3  Between both buildings of the \"New Autograph\" ...  3269700.0  \n",
       "4                                                NaN        NaN  "
      ]
     },
     "execution_count": 142,
     "metadata": {},
     "output_type": "execute_result"
    }
   ],
   "source": [
    "df.head()"
   ]
  },
  {
   "cell_type": "code",
   "execution_count": 143,
   "id": "50a6a599",
   "metadata": {},
   "outputs": [
    {
     "data": {
      "text/plain": [
       "(100, 5)"
      ]
     },
     "execution_count": 143,
     "metadata": {},
     "output_type": "execute_result"
    }
   ],
   "source": [
    "df.shape"
   ]
  },
  {
   "cell_type": "code",
   "execution_count": 144,
   "id": "a80b0703",
   "metadata": {},
   "outputs": [],
   "source": [
    "df = df.dropna(subset=['attributes/class', 'description'])"
   ]
  },
  {
   "cell_type": "code",
   "execution_count": 145,
   "id": "644f90ba",
   "metadata": {},
   "outputs": [
    {
     "data": {
      "text/plain": [
       "array(['бізнес', 'преміум', 'комфорт', 'економ'], dtype=object)"
      ]
     },
     "execution_count": 145,
     "metadata": {},
     "output_type": "execute_result"
    }
   ],
   "source": [
    "df['attributes/class'].unique()"
   ]
  },
  {
   "cell_type": "code",
   "execution_count": 146,
   "id": "18f551af",
   "metadata": {},
   "outputs": [
    {
     "data": {
      "text/html": [
       "<div>\n",
       "<style scoped>\n",
       "    .dataframe tbody tr th:only-of-type {\n",
       "        vertical-align: middle;\n",
       "    }\n",
       "\n",
       "    .dataframe tbody tr th {\n",
       "        vertical-align: top;\n",
       "    }\n",
       "\n",
       "    .dataframe thead th {\n",
       "        text-align: right;\n",
       "    }\n",
       "</style>\n",
       "<table border=\"1\" class=\"dataframe\">\n",
       "  <thead>\n",
       "    <tr style=\"text-align: right;\">\n",
       "      <th></th>\n",
       "      <th>residence</th>\n",
       "      <th>developer</th>\n",
       "      <th>attributes/class</th>\n",
       "      <th>description</th>\n",
       "      <th>price</th>\n",
       "    </tr>\n",
       "  </thead>\n",
       "  <tbody>\n",
       "    <tr>\n",
       "      <th>0</th>\n",
       "      <td>ЖК Greenville на Печерську</td>\n",
       "      <td>Greenville</td>\n",
       "      <td>бізнес</td>\n",
       "      <td>Greenville is a combination of residential spa...</td>\n",
       "      <td>4138800.0</td>\n",
       "    </tr>\n",
       "    <tr>\n",
       "      <th>1</th>\n",
       "      <td>Linden Luxury Residences</td>\n",
       "      <td>Budhouse Group</td>\n",
       "      <td>преміум</td>\n",
       "      <td>The location of Linden Luxury Residences is th...</td>\n",
       "      <td>1709400.0</td>\n",
       "    </tr>\n",
       "    <tr>\n",
       "      <th>2</th>\n",
       "      <td>БФК OLEGIVSKIY</td>\n",
       "      <td>DIM</td>\n",
       "      <td>бізнес</td>\n",
       "      <td>OLEGIVSKIY is an exclusive business class mult...</td>\n",
       "      <td>3856325.0</td>\n",
       "    </tr>\n",
       "    <tr>\n",
       "      <th>3</th>\n",
       "      <td>ЖК Новий Автограф</td>\n",
       "      <td>DIM</td>\n",
       "      <td>комфорт</td>\n",
       "      <td>Between both buildings of the \"New Autograph\" ...</td>\n",
       "      <td>3269700.0</td>\n",
       "    </tr>\n",
       "    <tr>\n",
       "      <th>5</th>\n",
       "      <td>БФК А136 Highlight Tower</td>\n",
       "      <td>DIM</td>\n",
       "      <td>бізнес</td>\n",
       "      <td>Residential complex A136 Highlight Tower is a ...</td>\n",
       "      <td>6635250.0</td>\n",
       "    </tr>\n",
       "  </tbody>\n",
       "</table>\n",
       "</div>"
      ],
      "text/plain": [
       "                    residence       developer attributes/class  \\\n",
       "0  ЖК Greenville на Печерську      Greenville           бізнес   \n",
       "1    Linden Luxury Residences  Budhouse Group          преміум   \n",
       "2              БФК OLEGIVSKIY             DIM           бізнес   \n",
       "3           ЖК Новий Автограф             DIM          комфорт   \n",
       "5    БФК А136 Highlight Tower             DIM           бізнес   \n",
       "\n",
       "                                         description      price  \n",
       "0  Greenville is a combination of residential spa...  4138800.0  \n",
       "1  The location of Linden Luxury Residences is th...  1709400.0  \n",
       "2  OLEGIVSKIY is an exclusive business class mult...  3856325.0  \n",
       "3  Between both buildings of the \"New Autograph\" ...  3269700.0  \n",
       "5  Residential complex A136 Highlight Tower is a ...  6635250.0  "
      ]
     },
     "execution_count": 146,
     "metadata": {},
     "output_type": "execute_result"
    }
   ],
   "source": [
    "df.head()"
   ]
  },
  {
   "cell_type": "code",
   "execution_count": 147,
   "id": "e4514b60",
   "metadata": {},
   "outputs": [],
   "source": [
    "class_to_num_map = { 'бізнес': 0, 'преміум': 1, 'комфорт': 2, 'економ': 3 }\n",
    "\n",
    "df['class'] = df['attributes/class'].map(class_to_num_map)"
   ]
  },
  {
   "cell_type": "code",
   "execution_count": 148,
   "id": "99c1083c",
   "metadata": {},
   "outputs": [],
   "source": [
    "df = df[['description', 'class']]"
   ]
  },
  {
   "cell_type": "code",
   "execution_count": 149,
   "id": "3fb31b39",
   "metadata": {
    "scrolled": true
   },
   "outputs": [
    {
     "data": {
      "text/html": [
       "<div>\n",
       "<style scoped>\n",
       "    .dataframe tbody tr th:only-of-type {\n",
       "        vertical-align: middle;\n",
       "    }\n",
       "\n",
       "    .dataframe tbody tr th {\n",
       "        vertical-align: top;\n",
       "    }\n",
       "\n",
       "    .dataframe thead th {\n",
       "        text-align: right;\n",
       "    }\n",
       "</style>\n",
       "<table border=\"1\" class=\"dataframe\">\n",
       "  <thead>\n",
       "    <tr style=\"text-align: right;\">\n",
       "      <th></th>\n",
       "      <th>description</th>\n",
       "      <th>class</th>\n",
       "    </tr>\n",
       "  </thead>\n",
       "  <tbody>\n",
       "    <tr>\n",
       "      <th>0</th>\n",
       "      <td>Greenville is a combination of residential spa...</td>\n",
       "      <td>0</td>\n",
       "    </tr>\n",
       "    <tr>\n",
       "      <th>1</th>\n",
       "      <td>The location of Linden Luxury Residences is th...</td>\n",
       "      <td>1</td>\n",
       "    </tr>\n",
       "    <tr>\n",
       "      <th>2</th>\n",
       "      <td>OLEGIVSKIY is an exclusive business class mult...</td>\n",
       "      <td>0</td>\n",
       "    </tr>\n",
       "    <tr>\n",
       "      <th>3</th>\n",
       "      <td>Between both buildings of the \"New Autograph\" ...</td>\n",
       "      <td>2</td>\n",
       "    </tr>\n",
       "    <tr>\n",
       "      <th>5</th>\n",
       "      <td>Residential complex A136 Highlight Tower is a ...</td>\n",
       "      <td>0</td>\n",
       "    </tr>\n",
       "  </tbody>\n",
       "</table>\n",
       "</div>"
      ],
      "text/plain": [
       "                                         description  class\n",
       "0  Greenville is a combination of residential spa...      0\n",
       "1  The location of Linden Luxury Residences is th...      1\n",
       "2  OLEGIVSKIY is an exclusive business class mult...      0\n",
       "3  Between both buildings of the \"New Autograph\" ...      2\n",
       "5  Residential complex A136 Highlight Tower is a ...      0"
      ]
     },
     "execution_count": 149,
     "metadata": {},
     "output_type": "execute_result"
    }
   ],
   "source": [
    "df.head()"
   ]
  },
  {
   "cell_type": "markdown",
   "id": "3c881110",
   "metadata": {},
   "source": [
    "## Підготовка даних для тренування моделі"
   ]
  },
  {
   "cell_type": "markdown",
   "id": "da279d79",
   "metadata": {},
   "source": [
    "### Переведення міток до категоріальних значень"
   ]
  },
  {
   "cell_type": "markdown",
   "id": "965632f8",
   "metadata": {},
   "source": [
    "Так як мітки в даному випадку варіюються від 1 до 4 що вказує на певний клас будівлі, для того щоб повʼязати ці числа із виходом із softmax вихідного шару нейронної мережі, потрібно перевести числа до категоріального виду використовуюючи допоміжні функції keras."
   ]
  },
  {
   "cell_type": "markdown",
   "id": "18d0e00f",
   "metadata": {},
   "source": [
    "### Створення сету характеристик і міток"
   ]
  },
  {
   "cell_type": "markdown",
   "id": "c66b8ebe",
   "metadata": {},
   "source": [
    "TODO: використання imblearn.oversampling -> RandomOverSampler для прирівнювання к-сті зразків певного класу"
   ]
  },
  {
   "cell_type": "code",
   "execution_count": 150,
   "id": "be43e433",
   "metadata": {},
   "outputs": [],
   "source": [
    "train, val, test = np.split(df.sample(frac=1), [int(0.8 * len(df)), int(0.9 * len(df))])"
   ]
  },
  {
   "cell_type": "code",
   "execution_count": 151,
   "id": "cca0ee77",
   "metadata": {
    "scrolled": true
   },
   "outputs": [
    {
     "data": {
      "text/plain": [
       "((70, 2), (9, 2), (9, 2))"
      ]
     },
     "execution_count": 151,
     "metadata": {},
     "output_type": "execute_result"
    }
   ],
   "source": [
    "train.shape, val.shape, test.shape"
   ]
  },
  {
   "cell_type": "code",
   "execution_count": 152,
   "id": "2ad92425",
   "metadata": {
    "scrolled": false
   },
   "outputs": [
    {
     "data": {
      "text/html": [
       "<div>\n",
       "<style scoped>\n",
       "    .dataframe tbody tr th:only-of-type {\n",
       "        vertical-align: middle;\n",
       "    }\n",
       "\n",
       "    .dataframe tbody tr th {\n",
       "        vertical-align: top;\n",
       "    }\n",
       "\n",
       "    .dataframe thead th {\n",
       "        text-align: right;\n",
       "    }\n",
       "</style>\n",
       "<table border=\"1\" class=\"dataframe\">\n",
       "  <thead>\n",
       "    <tr style=\"text-align: right;\">\n",
       "      <th></th>\n",
       "      <th>description</th>\n",
       "      <th>class</th>\n",
       "    </tr>\n",
       "  </thead>\n",
       "  <tbody>\n",
       "    <tr>\n",
       "      <th>0</th>\n",
       "      <td>Greenville is a combination of residential spa...</td>\n",
       "      <td>0</td>\n",
       "    </tr>\n",
       "    <tr>\n",
       "      <th>1</th>\n",
       "      <td>The location of Linden Luxury Residences is th...</td>\n",
       "      <td>1</td>\n",
       "    </tr>\n",
       "    <tr>\n",
       "      <th>2</th>\n",
       "      <td>OLEGIVSKIY is an exclusive business class mult...</td>\n",
       "      <td>0</td>\n",
       "    </tr>\n",
       "    <tr>\n",
       "      <th>3</th>\n",
       "      <td>Between both buildings of the \"New Autograph\" ...</td>\n",
       "      <td>2</td>\n",
       "    </tr>\n",
       "    <tr>\n",
       "      <th>5</th>\n",
       "      <td>Residential complex A136 Highlight Tower is a ...</td>\n",
       "      <td>0</td>\n",
       "    </tr>\n",
       "  </tbody>\n",
       "</table>\n",
       "</div>"
      ],
      "text/plain": [
       "                                         description  class\n",
       "0  Greenville is a combination of residential spa...      0\n",
       "1  The location of Linden Luxury Residences is th...      1\n",
       "2  OLEGIVSKIY is an exclusive business class mult...      0\n",
       "3  Between both buildings of the \"New Autograph\" ...      2\n",
       "5  Residential complex A136 Highlight Tower is a ...      0"
      ]
     },
     "execution_count": 152,
     "metadata": {},
     "output_type": "execute_result"
    }
   ],
   "source": [
    "df.head()"
   ]
  },
  {
   "cell_type": "code",
   "execution_count": 170,
   "id": "2ff226df",
   "metadata": {},
   "outputs": [],
   "source": [
    "x_train = train['description'].values\n",
    "y_train = to_categorical(train['class'], 4)\n",
    "\n",
    "x_valid = val['description'].values\n",
    "y_valid = to_categorical(val['class'], 4)\n",
    "\n",
    "x_test = test['description'].values\n",
    "y_test = to_categorical(test['class'], 4)\n",
    "\n",
    "x_pred = ['There is nothing good in this residential complex, please omit it']\n",
    "y_pred = to_categorical([0], 4)"
   ]
  },
  {
   "cell_type": "markdown",
   "id": "930d9e43",
   "metadata": {},
   "source": [
    "### Композиція моделі"
   ]
  },
  {
   "cell_type": "code",
   "execution_count": 156,
   "id": "1a502d59",
   "metadata": {},
   "outputs": [],
   "source": [
    "model = Sequential()\n",
    "\n",
    "model.add(hub_layer)\n",
    "model.add(Dense(16, activation='relu'))\n",
    "model.add(Dense(16, activation='relu'))\n",
    "model.add(Dense(4, activation='softmax'))"
   ]
  },
  {
   "cell_type": "code",
   "execution_count": 157,
   "id": "94043d6d",
   "metadata": {},
   "outputs": [],
   "source": [
    "model.compile(optimizer=Adam(learning_rate=0.001), loss=CategoricalCrossentropy(), metrics=['accuracy'])"
   ]
  },
  {
   "cell_type": "code",
   "execution_count": 158,
   "id": "76623680",
   "metadata": {
    "scrolled": false
   },
   "outputs": [
    {
     "name": "stdout",
     "output_type": "stream",
     "text": [
      "3/3 [==============================] - 1s 126ms/step - loss: 1.3797 - accuracy: 0.2286\n"
     ]
    },
    {
     "data": {
      "text/plain": [
       "[1.3797121047973633, 0.22857142984867096]"
      ]
     },
     "execution_count": 158,
     "metadata": {},
     "output_type": "execute_result"
    }
   ],
   "source": [
    "model.evaluate(x_train, y_train)"
   ]
  },
  {
   "cell_type": "code",
   "execution_count": 159,
   "id": "838f93f6",
   "metadata": {
    "scrolled": false
   },
   "outputs": [
    {
     "name": "stdout",
     "output_type": "stream",
     "text": [
      "Epoch 1/10\n",
      "3/3 [==============================] - 3s 746ms/step - loss: 1.3568 - accuracy: 0.3000 - val_loss: 1.4412 - val_accuracy: 0.2222\n",
      "Epoch 2/10\n",
      "3/3 [==============================] - 2s 724ms/step - loss: 1.2401 - accuracy: 0.5571 - val_loss: 1.4184 - val_accuracy: 0.4444\n",
      "Epoch 3/10\n",
      "3/3 [==============================] - 2s 750ms/step - loss: 1.1575 - accuracy: 0.6429 - val_loss: 1.3901 - val_accuracy: 0.4444\n",
      "Epoch 4/10\n",
      "3/3 [==============================] - 2s 731ms/step - loss: 1.0888 - accuracy: 0.6429 - val_loss: 1.3743 - val_accuracy: 0.4444\n",
      "Epoch 5/10\n",
      "3/3 [==============================] - 2s 715ms/step - loss: 1.0204 - accuracy: 0.6286 - val_loss: 1.3518 - val_accuracy: 0.4444\n",
      "Epoch 6/10\n",
      "3/3 [==============================] - 2s 737ms/step - loss: 0.9655 - accuracy: 0.6286 - val_loss: 1.3322 - val_accuracy: 0.4444\n",
      "Epoch 7/10\n",
      "3/3 [==============================] - 2s 728ms/step - loss: 0.9118 - accuracy: 0.6286 - val_loss: 1.3175 - val_accuracy: 0.4444\n",
      "Epoch 8/10\n",
      "3/3 [==============================] - 2s 723ms/step - loss: 0.8703 - accuracy: 0.6286 - val_loss: 1.3009 - val_accuracy: 0.4444\n",
      "Epoch 9/10\n",
      "3/3 [==============================] - 2s 704ms/step - loss: 0.8349 - accuracy: 0.6286 - val_loss: 1.2916 - val_accuracy: 0.4444\n",
      "Epoch 10/10\n",
      "3/3 [==============================] - 2s 721ms/step - loss: 0.8023 - accuracy: 0.6286 - val_loss: 1.2883 - val_accuracy: 0.4444\n"
     ]
    }
   ],
   "source": [
    "history = model.fit(x=x_train, y=y_train, epochs=10, validation_data=(x_valid, y_valid))"
   ]
  },
  {
   "cell_type": "code",
   "execution_count": 160,
   "id": "d174decf",
   "metadata": {
    "scrolled": false
   },
   "outputs": [
    {
     "data": {
      "image/png": "[encoded data removed]",
      "text/plain": [
       "<Figure size 640x480 with 1 Axes>"
      ]
     },
     "metadata": {},
     "output_type": "display_data"
    }
   ],
   "source": [
    "plt.plot(history.history['accuracy'], label=\"Точність\")\n",
    "plt.plot(history.history['val_accuracy'], label=\"Валідаційна точність\")\n",
    "plt.legend()\n",
    "\n",
    "plt.show()"
   ]
  },
  {
   "cell_type": "code",
   "execution_count": 161,
   "id": "e9bd5583",
   "metadata": {
    "scrolled": true
   },
   "outputs": [
    {
     "data": {
      "image/png": "[encoded data removed]",
      "text/plain": [
       "<Figure size 640x480 with 1 Axes>"
      ]
     },
     "metadata": {},
     "output_type": "display_data"
    }
   ],
   "source": [
    "plt.plot(history.history['loss'], label=\"Втрати\")\n",
    "plt.plot(history.history['val_loss'], label=\"Валідаційні втрати\")\n",
    "plt.legend()\n",
    "\n",
    "plt.show()"
   ]
  },
  {
   "cell_type": "markdown",
   "id": "7e0a6bbc",
   "metadata": {},
   "source": [
    "## Перевірка моделі на тестових даних яких раніше модель не бачила"
   ]
  },
  {
   "cell_type": "code",
   "execution_count": 164,
   "id": "2beec400",
   "metadata": {},
   "outputs": [],
   "source": [
    "def pred_to_text(pred):\n",
    "    return list(class_to_num_map.keys())[list(class_to_num_map.values()).index(pred)]"
   ]
  },
  {
   "cell_type": "code",
   "execution_count": 165,
   "id": "a0e3575a",
   "metadata": {},
   "outputs": [
    {
     "data": {
      "text/plain": [
       "('бізнес', 'преміум', 'комфорт', 'економ')"
      ]
     },
     "execution_count": 165,
     "metadata": {},
     "output_type": "execute_result"
    }
   ],
   "source": [
    "pred_to_text(0), pred_to_text(1), pred_to_text(2), pred_to_text(3)"
   ]
  },
  {
   "cell_type": "code",
   "execution_count": 162,
   "id": "3824570b",
   "metadata": {
    "scrolled": true
   },
   "outputs": [
    {
     "name": "stdout",
     "output_type": "stream",
     "text": [
      "1/1 [==============================] - 0s 137ms/step - loss: 0.9388 - accuracy: 0.6667\n"
     ]
    },
    {
     "data": {
      "text/plain": [
       "[0.9387757778167725, 0.6666666865348816]"
      ]
     },
     "execution_count": 162,
     "metadata": {},
     "output_type": "execute_result"
    }
   ],
   "source": [
    "model.evaluate(x_test, y_test)"
   ]
  },
  {
   "cell_type": "code",
   "execution_count": 172,
   "id": "033b7be3",
   "metadata": {
    "scrolled": true
   },
   "outputs": [
    {
     "name": "stdout",
     "output_type": "stream",
     "text": [
      "1/1 [==============================] - 0s 148ms/step\n"
     ]
    },
    {
     "data": {
      "text/plain": [
       "'преміум'"
      ]
     },
     "execution_count": 172,
     "metadata": {},
     "output_type": "execute_result"
    }
   ],
   "source": [
    "pred = model.predict(x_pred)\n",
    "pred_index = np.argmax(pred)\n",
    "\n",
    "pred_to_text(pred_index)"
   ]
  },
  {
   "cell_type": "markdown",
   "id": "266be1bc",
   "metadata": {},
   "source": [
    "TODO: also use LSTM https://www.youtube.com/watch?v=VtRLrQ3Ev-U&ab_channel=freeCodeCamp.org"
   ]
  }
 ],
 "metadata": {
  "kernelspec": {
   "display_name": "Python 3 (ipykernel)",
   "language": "python",
   "name": "python3"
  },
  "language_info": {
   "codemirror_mode": {
    "name": "ipython",
    "version": 3
   },
   "file_extension": ".py",
   "mimetype": "text/x-python",
   "name": "python",
   "nbconvert_exporter": "python",
   "pygments_lexer": "ipython3",
   "version": "3.9.16"
  }
 },
 "nbformat": 4,
 "nbformat_minor": 5
}
