{
 "cells": [
  {
   "cell_type": "markdown",
   "id": "cb3bb36d",
   "metadata": {},
   "source": [
    "# Класифікація обʼєктів новобудови за текстовим описом за допомогою зворотної нейронної мережі"
   ]
  },
  {
   "cell_type": "markdown",
   "id": "1905b466",
   "metadata": {},
   "source": [
    "https://www.youtube.com/watch?v=VtRLrQ3Ev-U&ab_channel=freeCodeCamp.org"
   ]
  },
  {
   "cell_type": "code",
   "execution_count": 177,
   "id": "c03d44b7",
   "metadata": {},
   "outputs": [],
   "source": [
    "import numpy as np\n",
    "import pandas as pd\n",
    "import matplotlib.pyplot as plt\n",
    "import tensorflow as tf\n",
    "import tensorflow_hub as hub\n",
    "from keras.models import Sequential\n",
    "from keras.layers import Dense, Dropout\n",
    "from keras.optimizers import Adam\n",
    "from keras.losses import BinaryCrossentropy\n",
    "from sklearn.model_selection import train_test_split\n",
    "from translitua import translit\n",
    "from googletrans import Translator"
   ]
  },
  {
   "cell_type": "markdown",
   "id": "77127c14",
   "metadata": {},
   "source": [
    "## Завантаження набору даних"
   ]
  },
  {
   "cell_type": "code",
   "execution_count": 178,
   "id": "2e396479",
   "metadata": {},
   "outputs": [],
   "source": [
    "df = pd.read_csv('./translated-1677270280197.csv', usecols=['residence', 'developer', 'price', 'attributes/class', 'description'])"
   ]
  },
  {
   "cell_type": "code",
   "execution_count": 179,
   "id": "39ba2815",
   "metadata": {
    "scrolled": false
   },
   "outputs": [
    {
     "data": {
      "text/html": [
       "<div>\n",
       "<style scoped>\n",
       "    .dataframe tbody tr th:only-of-type {\n",
       "        vertical-align: middle;\n",
       "    }\n",
       "\n",
       "    .dataframe tbody tr th {\n",
       "        vertical-align: top;\n",
       "    }\n",
       "\n",
       "    .dataframe thead th {\n",
       "        text-align: right;\n",
       "    }\n",
       "</style>\n",
       "<table border=\"1\" class=\"dataframe\">\n",
       "  <thead>\n",
       "    <tr style=\"text-align: right;\">\n",
       "      <th></th>\n",
       "      <th>residence</th>\n",
       "      <th>developer</th>\n",
       "      <th>attributes/class</th>\n",
       "      <th>description</th>\n",
       "      <th>price</th>\n",
       "    </tr>\n",
       "  </thead>\n",
       "  <tbody>\n",
       "    <tr>\n",
       "      <th>0</th>\n",
       "      <td>ЖК Greenville на Печерську</td>\n",
       "      <td>Greenville</td>\n",
       "      <td>бізнес</td>\n",
       "      <td>Greenville is a combination of residential spa...</td>\n",
       "      <td>4138800.0</td>\n",
       "    </tr>\n",
       "    <tr>\n",
       "      <th>1</th>\n",
       "      <td>Linden Luxury Residences</td>\n",
       "      <td>Budhouse Group</td>\n",
       "      <td>преміум</td>\n",
       "      <td>The location of Linden Luxury Residences is th...</td>\n",
       "      <td>1709400.0</td>\n",
       "    </tr>\n",
       "    <tr>\n",
       "      <th>2</th>\n",
       "      <td>БФК OLEGIVSKIY</td>\n",
       "      <td>DIM</td>\n",
       "      <td>бізнес</td>\n",
       "      <td>OLEGIVSKIY is an exclusive business class mult...</td>\n",
       "      <td>3856325.0</td>\n",
       "    </tr>\n",
       "    <tr>\n",
       "      <th>3</th>\n",
       "      <td>ЖК Новий Автограф</td>\n",
       "      <td>DIM</td>\n",
       "      <td>комфорт</td>\n",
       "      <td>Between both buildings of the \"New Autograph\" ...</td>\n",
       "      <td>3269700.0</td>\n",
       "    </tr>\n",
       "    <tr>\n",
       "      <th>4</th>\n",
       "      <td>NaN</td>\n",
       "      <td>NaN</td>\n",
       "      <td>NaN</td>\n",
       "      <td>NaN</td>\n",
       "      <td>NaN</td>\n",
       "    </tr>\n",
       "  </tbody>\n",
       "</table>\n",
       "</div>"
      ],
      "text/plain": [
       "                    residence       developer attributes/class  \\\n",
       "0  ЖК Greenville на Печерську      Greenville           бізнес   \n",
       "1    Linden Luxury Residences  Budhouse Group          преміум   \n",
       "2              БФК OLEGIVSKIY             DIM           бізнес   \n",
       "3           ЖК Новий Автограф             DIM          комфорт   \n",
       "4                         NaN             NaN              NaN   \n",
       "\n",
       "                                         description      price  \n",
       "0  Greenville is a combination of residential spa...  4138800.0  \n",
       "1  The location of Linden Luxury Residences is th...  1709400.0  \n",
       "2  OLEGIVSKIY is an exclusive business class mult...  3856325.0  \n",
       "3  Between both buildings of the \"New Autograph\" ...  3269700.0  \n",
       "4                                                NaN        NaN  "
      ]
     },
     "execution_count": 179,
     "metadata": {},
     "output_type": "execute_result"
    }
   ],
   "source": [
    "df.head()"
   ]
  },
  {
   "cell_type": "code",
   "execution_count": 180,
   "id": "50a6a599",
   "metadata": {},
   "outputs": [
    {
     "data": {
      "text/plain": [
       "(100, 5)"
      ]
     },
     "execution_count": 180,
     "metadata": {},
     "output_type": "execute_result"
    }
   ],
   "source": [
    "df.shape"
   ]
  },
  {
   "cell_type": "code",
   "execution_count": 181,
   "id": "a80b0703",
   "metadata": {},
   "outputs": [],
   "source": [
    "df = df.dropna(subset=['attributes/class', 'description'])"
   ]
  },
  {
   "cell_type": "code",
   "execution_count": 182,
   "id": "644f90ba",
   "metadata": {},
   "outputs": [
    {
     "data": {
      "text/plain": [
       "array(['бізнес', 'преміум', 'комфорт', 'економ'], dtype=object)"
      ]
     },
     "execution_count": 182,
     "metadata": {},
     "output_type": "execute_result"
    }
   ],
   "source": [
    "df['attributes/class'].unique()"
   ]
  },
  {
   "cell_type": "code",
   "execution_count": 183,
   "id": "18f551af",
   "metadata": {},
   "outputs": [
    {
     "data": {
      "text/html": [
       "<div>\n",
       "<style scoped>\n",
       "    .dataframe tbody tr th:only-of-type {\n",
       "        vertical-align: middle;\n",
       "    }\n",
       "\n",
       "    .dataframe tbody tr th {\n",
       "        vertical-align: top;\n",
       "    }\n",
       "\n",
       "    .dataframe thead th {\n",
       "        text-align: right;\n",
       "    }\n",
       "</style>\n",
       "<table border=\"1\" class=\"dataframe\">\n",
       "  <thead>\n",
       "    <tr style=\"text-align: right;\">\n",
       "      <th></th>\n",
       "      <th>residence</th>\n",
       "      <th>developer</th>\n",
       "      <th>attributes/class</th>\n",
       "      <th>description</th>\n",
       "      <th>price</th>\n",
       "    </tr>\n",
       "  </thead>\n",
       "  <tbody>\n",
       "    <tr>\n",
       "      <th>0</th>\n",
       "      <td>ЖК Greenville на Печерську</td>\n",
       "      <td>Greenville</td>\n",
       "      <td>бізнес</td>\n",
       "      <td>Greenville is a combination of residential spa...</td>\n",
       "      <td>4138800.0</td>\n",
       "    </tr>\n",
       "    <tr>\n",
       "      <th>1</th>\n",
       "      <td>Linden Luxury Residences</td>\n",
       "      <td>Budhouse Group</td>\n",
       "      <td>преміум</td>\n",
       "      <td>The location of Linden Luxury Residences is th...</td>\n",
       "      <td>1709400.0</td>\n",
       "    </tr>\n",
       "    <tr>\n",
       "      <th>2</th>\n",
       "      <td>БФК OLEGIVSKIY</td>\n",
       "      <td>DIM</td>\n",
       "      <td>бізнес</td>\n",
       "      <td>OLEGIVSKIY is an exclusive business class mult...</td>\n",
       "      <td>3856325.0</td>\n",
       "    </tr>\n",
       "    <tr>\n",
       "      <th>3</th>\n",
       "      <td>ЖК Новий Автограф</td>\n",
       "      <td>DIM</td>\n",
       "      <td>комфорт</td>\n",
       "      <td>Between both buildings of the \"New Autograph\" ...</td>\n",
       "      <td>3269700.0</td>\n",
       "    </tr>\n",
       "    <tr>\n",
       "      <th>5</th>\n",
       "      <td>БФК А136 Highlight Tower</td>\n",
       "      <td>DIM</td>\n",
       "      <td>бізнес</td>\n",
       "      <td>Residential complex A136 Highlight Tower is a ...</td>\n",
       "      <td>6635250.0</td>\n",
       "    </tr>\n",
       "  </tbody>\n",
       "</table>\n",
       "</div>"
      ],
      "text/plain": [
       "                    residence       developer attributes/class  \\\n",
       "0  ЖК Greenville на Печерську      Greenville           бізнес   \n",
       "1    Linden Luxury Residences  Budhouse Group          преміум   \n",
       "2              БФК OLEGIVSKIY             DIM           бізнес   \n",
       "3           ЖК Новий Автограф             DIM          комфорт   \n",
       "5    БФК А136 Highlight Tower             DIM           бізнес   \n",
       "\n",
       "                                         description      price  \n",
       "0  Greenville is a combination of residential spa...  4138800.0  \n",
       "1  The location of Linden Luxury Residences is th...  1709400.0  \n",
       "2  OLEGIVSKIY is an exclusive business class mult...  3856325.0  \n",
       "3  Between both buildings of the \"New Autograph\" ...  3269700.0  \n",
       "5  Residential complex A136 Highlight Tower is a ...  6635250.0  "
      ]
     },
     "execution_count": 183,
     "metadata": {},
     "output_type": "execute_result"
    }
   ],
   "source": [
    "df.head()"
   ]
  },
  {
   "cell_type": "code",
   "execution_count": 184,
   "id": "e4514b60",
   "metadata": {},
   "outputs": [],
   "source": [
    "df['class'] = df['attributes/class'].map({ 'бізнес': 1, 'преміум': 2, 'комфорт': 3, 'економ': 4 })"
   ]
  },
  {
   "cell_type": "code",
   "execution_count": 185,
   "id": "99c1083c",
   "metadata": {},
   "outputs": [],
   "source": [
    "df = df[['description', 'class']]"
   ]
  },
  {
   "cell_type": "code",
   "execution_count": 186,
   "id": "3fb31b39",
   "metadata": {
    "scrolled": true
   },
   "outputs": [
    {
     "data": {
      "text/html": [
       "<div>\n",
       "<style scoped>\n",
       "    .dataframe tbody tr th:only-of-type {\n",
       "        vertical-align: middle;\n",
       "    }\n",
       "\n",
       "    .dataframe tbody tr th {\n",
       "        vertical-align: top;\n",
       "    }\n",
       "\n",
       "    .dataframe thead th {\n",
       "        text-align: right;\n",
       "    }\n",
       "</style>\n",
       "<table border=\"1\" class=\"dataframe\">\n",
       "  <thead>\n",
       "    <tr style=\"text-align: right;\">\n",
       "      <th></th>\n",
       "      <th>description</th>\n",
       "      <th>class</th>\n",
       "    </tr>\n",
       "  </thead>\n",
       "  <tbody>\n",
       "    <tr>\n",
       "      <th>0</th>\n",
       "      <td>Greenville is a combination of residential spa...</td>\n",
       "      <td>1</td>\n",
       "    </tr>\n",
       "    <tr>\n",
       "      <th>1</th>\n",
       "      <td>The location of Linden Luxury Residences is th...</td>\n",
       "      <td>2</td>\n",
       "    </tr>\n",
       "    <tr>\n",
       "      <th>2</th>\n",
       "      <td>OLEGIVSKIY is an exclusive business class mult...</td>\n",
       "      <td>1</td>\n",
       "    </tr>\n",
       "    <tr>\n",
       "      <th>3</th>\n",
       "      <td>Between both buildings of the \"New Autograph\" ...</td>\n",
       "      <td>3</td>\n",
       "    </tr>\n",
       "    <tr>\n",
       "      <th>5</th>\n",
       "      <td>Residential complex A136 Highlight Tower is a ...</td>\n",
       "      <td>1</td>\n",
       "    </tr>\n",
       "  </tbody>\n",
       "</table>\n",
       "</div>"
      ],
      "text/plain": [
       "                                         description  class\n",
       "0  Greenville is a combination of residential spa...      1\n",
       "1  The location of Linden Luxury Residences is th...      2\n",
       "2  OLEGIVSKIY is an exclusive business class mult...      1\n",
       "3  Between both buildings of the \"New Autograph\" ...      3\n",
       "5  Residential complex A136 Highlight Tower is a ...      1"
      ]
     },
     "execution_count": 186,
     "metadata": {},
     "output_type": "execute_result"
    }
   ],
   "source": [
    "df.head()"
   ]
  },
  {
   "cell_type": "markdown",
   "id": "08092390",
   "metadata": {},
   "source": [
    "### Переклад на англійську"
   ]
  },
  {
   "cell_type": "code",
   "execution_count": 187,
   "id": "014bcc27",
   "metadata": {
    "scrolled": true
   },
   "outputs": [],
   "source": [
    "# translator = Translator()"
   ]
  },
  {
   "cell_type": "code",
   "execution_count": 188,
   "id": "a2ae15cb",
   "metadata": {},
   "outputs": [],
   "source": [
    "# df = df.sample(n=6)"
   ]
  },
  {
   "cell_type": "code",
   "execution_count": 189,
   "id": "9d421fd8",
   "metadata": {
    "scrolled": true
   },
   "outputs": [],
   "source": [
    "# df"
   ]
  },
  {
   "cell_type": "code",
   "execution_count": 190,
   "id": "85dca5aa",
   "metadata": {
    "scrolled": true
   },
   "outputs": [],
   "source": [
    "# list(map(lambda d: len(d), list(df['description'].values)))"
   ]
  },
  {
   "cell_type": "code",
   "execution_count": 191,
   "id": "55784f87",
   "metadata": {},
   "outputs": [],
   "source": [
    "# df['description'] = df['description'].str.slice(0, 100)"
   ]
  },
  {
   "cell_type": "code",
   "execution_count": 192,
   "id": "24a1f60f",
   "metadata": {},
   "outputs": [],
   "source": [
    "# df['description'] = df['description'].map(lambda description: (translator.translate(description).text))"
   ]
  },
  {
   "cell_type": "code",
   "execution_count": 193,
   "id": "03c88ff2",
   "metadata": {},
   "outputs": [
    {
     "data": {
      "text/html": [
       "<div>\n",
       "<style scoped>\n",
       "    .dataframe tbody tr th:only-of-type {\n",
       "        vertical-align: middle;\n",
       "    }\n",
       "\n",
       "    .dataframe tbody tr th {\n",
       "        vertical-align: top;\n",
       "    }\n",
       "\n",
       "    .dataframe thead th {\n",
       "        text-align: right;\n",
       "    }\n",
       "</style>\n",
       "<table border=\"1\" class=\"dataframe\">\n",
       "  <thead>\n",
       "    <tr style=\"text-align: right;\">\n",
       "      <th></th>\n",
       "      <th>description</th>\n",
       "      <th>class</th>\n",
       "    </tr>\n",
       "  </thead>\n",
       "  <tbody>\n",
       "    <tr>\n",
       "      <th>0</th>\n",
       "      <td>Greenville is a combination of residential spa...</td>\n",
       "      <td>1</td>\n",
       "    </tr>\n",
       "    <tr>\n",
       "      <th>1</th>\n",
       "      <td>The location of Linden Luxury Residences is th...</td>\n",
       "      <td>2</td>\n",
       "    </tr>\n",
       "    <tr>\n",
       "      <th>2</th>\n",
       "      <td>OLEGIVSKIY is an exclusive business class mult...</td>\n",
       "      <td>1</td>\n",
       "    </tr>\n",
       "    <tr>\n",
       "      <th>3</th>\n",
       "      <td>Between both buildings of the \"New Autograph\" ...</td>\n",
       "      <td>3</td>\n",
       "    </tr>\n",
       "    <tr>\n",
       "      <th>5</th>\n",
       "      <td>Residential complex A136 Highlight Tower is a ...</td>\n",
       "      <td>1</td>\n",
       "    </tr>\n",
       "    <tr>\n",
       "      <th>...</th>\n",
       "      <td>...</td>\n",
       "      <td>...</td>\n",
       "    </tr>\n",
       "    <tr>\n",
       "      <th>91</th>\n",
       "      <td>The offer to buy an apartment in the residenti...</td>\n",
       "      <td>3</td>\n",
       "    </tr>\n",
       "    <tr>\n",
       "      <th>93</th>\n",
       "      <td>Obolon Residences is a modern premium-class re...</td>\n",
       "      <td>2</td>\n",
       "    </tr>\n",
       "    <tr>\n",
       "      <th>94</th>\n",
       "      <td>Kub29 is a unique project with non-standard cu...</td>\n",
       "      <td>3</td>\n",
       "    </tr>\n",
       "    <tr>\n",
       "      <th>95</th>\n",
       "      <td>\"Italian quarter 2\" is a low-rise residential ...</td>\n",
       "      <td>3</td>\n",
       "    </tr>\n",
       "    <tr>\n",
       "      <th>97</th>\n",
       "      <td>The Wood Park residential complex combined the...</td>\n",
       "      <td>3</td>\n",
       "    </tr>\n",
       "  </tbody>\n",
       "</table>\n",
       "<p>88 rows × 2 columns</p>\n",
       "</div>"
      ],
      "text/plain": [
       "                                          description  class\n",
       "0   Greenville is a combination of residential spa...      1\n",
       "1   The location of Linden Luxury Residences is th...      2\n",
       "2   OLEGIVSKIY is an exclusive business class mult...      1\n",
       "3   Between both buildings of the \"New Autograph\" ...      3\n",
       "5   Residential complex A136 Highlight Tower is a ...      1\n",
       "..                                                ...    ...\n",
       "91  The offer to buy an apartment in the residenti...      3\n",
       "93  Obolon Residences is a modern premium-class re...      2\n",
       "94  Kub29 is a unique project with non-standard cu...      3\n",
       "95  \"Italian quarter 2\" is a low-rise residential ...      3\n",
       "97  The Wood Park residential complex combined the...      3\n",
       "\n",
       "[88 rows x 2 columns]"
      ]
     },
     "execution_count": 193,
     "metadata": {},
     "output_type": "execute_result"
    }
   ],
   "source": [
    "df"
   ]
  },
  {
   "cell_type": "markdown",
   "id": "3c881110",
   "metadata": {},
   "source": [
    "## Підготовка даних для тренування моделі"
   ]
  },
  {
   "cell_type": "markdown",
   "id": "18d0e00f",
   "metadata": {},
   "source": [
    "### Створення сету характеристик і міток"
   ]
  },
  {
   "cell_type": "markdown",
   "id": "c66b8ebe",
   "metadata": {},
   "source": [
    "TODO: використання imblearn.oversampling -> RandomOverSampler для прирівнювання к-сті зразків певного класу"
   ]
  },
  {
   "cell_type": "code",
   "execution_count": 194,
   "id": "be43e433",
   "metadata": {},
   "outputs": [],
   "source": [
    "train, val, test = np.split(df.sample(frac=1), [int(0.8 * len(df)), int(0.9 * len(df))])"
   ]
  },
  {
   "cell_type": "code",
   "execution_count": 195,
   "id": "cca0ee77",
   "metadata": {},
   "outputs": [
    {
     "data": {
      "text/plain": [
       "((70, 2), (9, 2), (9, 2))"
      ]
     },
     "execution_count": 195,
     "metadata": {},
     "output_type": "execute_result"
    }
   ],
   "source": [
    "train.shape, val.shape, test.shape"
   ]
  },
  {
   "cell_type": "code",
   "execution_count": 196,
   "id": "2ad92425",
   "metadata": {},
   "outputs": [
    {
     "data": {
      "text/html": [
       "<div>\n",
       "<style scoped>\n",
       "    .dataframe tbody tr th:only-of-type {\n",
       "        vertical-align: middle;\n",
       "    }\n",
       "\n",
       "    .dataframe tbody tr th {\n",
       "        vertical-align: top;\n",
       "    }\n",
       "\n",
       "    .dataframe thead th {\n",
       "        text-align: right;\n",
       "    }\n",
       "</style>\n",
       "<table border=\"1\" class=\"dataframe\">\n",
       "  <thead>\n",
       "    <tr style=\"text-align: right;\">\n",
       "      <th></th>\n",
       "      <th>description</th>\n",
       "      <th>class</th>\n",
       "    </tr>\n",
       "  </thead>\n",
       "  <tbody>\n",
       "    <tr>\n",
       "      <th>0</th>\n",
       "      <td>Greenville is a combination of residential spa...</td>\n",
       "      <td>1</td>\n",
       "    </tr>\n",
       "    <tr>\n",
       "      <th>1</th>\n",
       "      <td>The location of Linden Luxury Residences is th...</td>\n",
       "      <td>2</td>\n",
       "    </tr>\n",
       "    <tr>\n",
       "      <th>2</th>\n",
       "      <td>OLEGIVSKIY is an exclusive business class mult...</td>\n",
       "      <td>1</td>\n",
       "    </tr>\n",
       "    <tr>\n",
       "      <th>3</th>\n",
       "      <td>Between both buildings of the \"New Autograph\" ...</td>\n",
       "      <td>3</td>\n",
       "    </tr>\n",
       "    <tr>\n",
       "      <th>5</th>\n",
       "      <td>Residential complex A136 Highlight Tower is a ...</td>\n",
       "      <td>1</td>\n",
       "    </tr>\n",
       "  </tbody>\n",
       "</table>\n",
       "</div>"
      ],
      "text/plain": [
       "                                         description  class\n",
       "0  Greenville is a combination of residential spa...      1\n",
       "1  The location of Linden Luxury Residences is th...      2\n",
       "2  OLEGIVSKIY is an exclusive business class mult...      1\n",
       "3  Between both buildings of the \"New Autograph\" ...      3\n",
       "5  Residential complex A136 Highlight Tower is a ...      1"
      ]
     },
     "execution_count": 196,
     "metadata": {},
     "output_type": "execute_result"
    }
   ],
   "source": [
    "df.head()"
   ]
  },
  {
   "cell_type": "code",
   "execution_count": 197,
   "id": "2cb23acf",
   "metadata": {},
   "outputs": [],
   "source": [
    "def df_to_dataset(dataframe, shuffle=True, batch_size=1024):\n",
    "  dataframe = dataframe.copy()\n",
    "  labels = dataframe.pop('class')\n",
    "  df = dataframe['description']\n",
    "  ds = tf.data.Dataset.from_tensor_slices((df, labels))\n",
    "  if shuffle:\n",
    "    ds = ds.shuffle(buffer_size=len(dataframe))\n",
    "  ds = ds.batch(batch_size)\n",
    "  ds = ds.prefetch(tf.data.AUTOTUNE)\n",
    "  return ds"
   ]
  },
  {
   "cell_type": "code",
   "execution_count": 198,
   "id": "810483f0",
   "metadata": {},
   "outputs": [],
   "source": [
    "train_data = df_to_dataset(train)\n",
    "valid_data = df_to_dataset(val)\n",
    "test_data = df_to_dataset(test)"
   ]
  },
  {
   "cell_type": "code",
   "execution_count": 199,
   "id": "f69fa2c5",
   "metadata": {
    "scrolled": true
   },
   "outputs": [],
   "source": [
    "embed = hub.load(\"https://tfhub.dev/google/nnlm-en-dim50/2\")"
   ]
  },
  {
   "cell_type": "code",
   "execution_count": 200,
   "id": "c2fb1053",
   "metadata": {},
   "outputs": [],
   "source": [
    "hub_layer = hub.KerasLayer(embed, dtype=tf.string, trainable=True)"
   ]
  },
  {
   "cell_type": "code",
   "execution_count": 201,
   "id": "d9146d04",
   "metadata": {},
   "outputs": [],
   "source": [
    "# hub_layer(list(train_data)[0][0]['description'])"
   ]
  },
  {
   "cell_type": "code",
   "execution_count": 202,
   "id": "1a502d59",
   "metadata": {},
   "outputs": [],
   "source": [
    "model = Sequential()\n",
    "\n",
    "model.add(hub_layer)\n",
    "model.add(Dense(16, activation='relu'))\n",
    "model.add(Dense(16, activation='relu'))\n",
    "model.add(Dense(1, activation='sigmoid'))"
   ]
  },
  {
   "cell_type": "code",
   "execution_count": 203,
   "id": "94043d6d",
   "metadata": {},
   "outputs": [],
   "source": [
    "model.compile(optimizer=Adam(learning_rate=0.001), loss=BinaryCrossentropy(), metrics=['accuracy'])"
   ]
  },
  {
   "cell_type": "code",
   "execution_count": 204,
   "id": "76623680",
   "metadata": {
    "scrolled": false
   },
   "outputs": [
    {
     "name": "stdout",
     "output_type": "stream",
     "text": [
      "1/1 [==============================] - 0s 279ms/step - loss: 1.0408 - accuracy: 0.0000e+00\n"
     ]
    },
    {
     "data": {
      "text/plain": [
       "[1.0408344268798828, 0.0]"
      ]
     },
     "execution_count": 204,
     "metadata": {},
     "output_type": "execute_result"
    }
   ],
   "source": [
    "model.evaluate(train_data)"
   ]
  },
  {
   "cell_type": "code",
   "execution_count": 205,
   "id": "838f93f6",
   "metadata": {},
   "outputs": [
    {
     "name": "stdout",
     "output_type": "stream",
     "text": [
      "Epoch 1/10\n",
      "1/1 [==============================] - 2s 2s/step - loss: 1.0408 - accuracy: 0.0000e+00 - val_loss: 0.8273 - val_accuracy: 0.0000e+00\n",
      "Epoch 2/10\n",
      "1/1 [==============================] - 1s 937ms/step - loss: 0.9022 - accuracy: 0.0429 - val_loss: 0.7341 - val_accuracy: 0.0000e+00\n",
      "Epoch 3/10\n",
      "1/1 [==============================] - 1s 929ms/step - loss: 0.7750 - accuracy: 0.1000 - val_loss: 0.6579 - val_accuracy: 0.1111\n",
      "Epoch 4/10\n",
      "1/1 [==============================] - 1s 832ms/step - loss: 0.6649 - accuracy: 0.1857 - val_loss: 0.5789 - val_accuracy: 0.2222\n",
      "Epoch 5/10\n",
      "1/1 [==============================] - 1s 808ms/step - loss: 0.5592 - accuracy: 0.2429 - val_loss: 0.4949 - val_accuracy: 0.3333\n",
      "Epoch 6/10\n",
      "1/1 [==============================] - 1s 777ms/step - loss: 0.4488 - accuracy: 0.2714 - val_loss: 0.4054 - val_accuracy: 0.3333\n",
      "Epoch 7/10\n",
      "1/1 [==============================] - 1s 789ms/step - loss: 0.3358 - accuracy: 0.2714 - val_loss: 0.3089 - val_accuracy: 0.3333\n",
      "Epoch 8/10\n",
      "1/1 [==============================] - 1s 829ms/step - loss: 0.2163 - accuracy: 0.2714 - val_loss: 0.2016 - val_accuracy: 0.3333\n",
      "Epoch 9/10\n",
      "1/1 [==============================] - 1s 812ms/step - loss: 0.0904 - accuracy: 0.2714 - val_loss: 0.0902 - val_accuracy: 0.3333\n",
      "Epoch 10/10\n",
      "1/1 [==============================] - 1s 809ms/step - loss: -0.0381 - accuracy: 0.2714 - val_loss: -0.0234 - val_accuracy: 0.3333\n"
     ]
    }
   ],
   "source": [
    "history = model.fit(train_data, epochs=10, validation_data=valid_data)"
   ]
  },
  {
   "cell_type": "code",
   "execution_count": 209,
   "id": "d174decf",
   "metadata": {
    "scrolled": true
   },
   "outputs": [
    {
     "data": {
      "image/png": "[encoded data removed]",
      "text/plain": [
       "<Figure size 640x480 with 1 Axes>"
      ]
     },
     "metadata": {},
     "output_type": "display_data"
    }
   ],
   "source": [
    "plt.plot(history.history['accuracy'], label=\"Точність\")\n",
    "plt.plot(history.history['val_accuracy'], label=\"Валідаційна точність\")\n",
    "plt.legend()\n",
    "\n",
    "plt.show()"
   ]
  },
  {
   "cell_type": "code",
   "execution_count": 210,
   "id": "e9bd5583",
   "metadata": {
    "scrolled": true
   },
   "outputs": [
    {
     "data": {
      "image/png": "[encoded data removed]",
      "text/plain": [
       "<Figure size 640x480 with 1 Axes>"
      ]
     },
     "metadata": {},
     "output_type": "display_data"
    }
   ],
   "source": [
    "plt.plot(history.history['loss'], label=\"Втрати\")\n",
    "plt.plot(history.history['val_loss'], label=\"Валідаційні втрати\")\n",
    "plt.legend()\n",
    "\n",
    "plt.show()"
   ]
  },
  {
   "cell_type": "code",
   "execution_count": 208,
   "id": "3824570b",
   "metadata": {
    "scrolled": true
   },
   "outputs": [
    {
     "name": "stdout",
     "output_type": "stream",
     "text": [
      "1/1 [==============================] - 0s 132ms/step - loss: -0.0720 - accuracy: 0.3333\n"
     ]
    },
    {
     "data": {
      "text/plain": [
       "[-0.0720483586192131, 0.3333333432674408]"
      ]
     },
     "execution_count": 208,
     "metadata": {},
     "output_type": "execute_result"
    }
   ],
   "source": [
    "model.evaluate(test_data)"
   ]
  },
  {
   "cell_type": "markdown",
   "id": "266be1bc",
   "metadata": {},
   "source": [
    "TODO: also use LSTM https://www.youtube.com/watch?v=VtRLrQ3Ev-U&ab_channel=freeCodeCamp.org"
   ]
  }
 ],
 "metadata": {
  "kernelspec": {
   "display_name": "Python 3 (ipykernel)",
   "language": "python",
   "name": "python3"
  },
  "language_info": {
   "codemirror_mode": {
    "name": "ipython",
    "version": 3
   },
   "file_extension": ".py",
   "mimetype": "text/x-python",
   "name": "python",
   "nbconvert_exporter": "python",
   "pygments_lexer": "ipython3",
   "version": "3.9.16"
  }
 },
 "nbformat": 4,
 "nbformat_minor": 5
}
