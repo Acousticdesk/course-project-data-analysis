{
 "cells": [
  {
   "cell_type": "markdown",
   "id": "cb3bb36d",
   "metadata": {},
   "source": [
    "# Класифікація обʼєктів новобудови за текстовим описом за допомогою зворотної нейронної мережі"
   ]
  },
  {
   "cell_type": "markdown",
   "id": "1905b466",
   "metadata": {},
   "source": [
    "https://www.youtube.com/watch?v=VtRLrQ3Ev-U&ab_channel=freeCodeCamp.org"
   ]
  },
  {
   "cell_type": "code",
   "execution_count": 207,
   "id": "c03d44b7",
   "metadata": {},
   "outputs": [],
   "source": [
    "import numpy as np\n",
    "import pandas as pd\n",
    "import matplotlib.pyplot as plt\n",
    "import tensorflow as tf\n",
    "import tensorflow_hub as hub\n",
    "from keras.models import Sequential\n",
    "from keras.layers import Dense, Dropout\n",
    "from keras.optimizers import Adam\n",
    "from keras.utils import to_categorical\n",
    "# BinaryCrossentropy функція повинна використовуватися для задач бінарної класифікації. Для мультикласової класифікації потрібно використовувати CategoricalCrossentropy\n",
    "# from keras.losses import BinaryCrossentropy\n",
    "from keras.losses import CategoricalCrossentropy\n",
    "from sklearn.model_selection import train_test_split"
   ]
  },
  {
   "cell_type": "markdown",
   "id": "77127c14",
   "metadata": {},
   "source": [
    "## Завантаження набору даних"
   ]
  },
  {
   "cell_type": "markdown",
   "id": "fdfa5e81",
   "metadata": {},
   "source": [
    "### Ознайомлення з набором даних"
   ]
  },
  {
   "cell_type": "code",
   "execution_count": 208,
   "id": "2e396479",
   "metadata": {},
   "outputs": [],
   "source": [
    "df = pd.read_csv('./translated-1677270280197.csv', usecols=['residence', 'developer', 'price', 'attributes/class', 'description'])"
   ]
  },
  {
   "cell_type": "code",
   "execution_count": 209,
   "id": "39ba2815",
   "metadata": {
    "scrolled": false
   },
   "outputs": [
    {
     "data": {
      "text/html": [
       "<div>\n",
       "<style scoped>\n",
       "    .dataframe tbody tr th:only-of-type {\n",
       "        vertical-align: middle;\n",
       "    }\n",
       "\n",
       "    .dataframe tbody tr th {\n",
       "        vertical-align: top;\n",
       "    }\n",
       "\n",
       "    .dataframe thead th {\n",
       "        text-align: right;\n",
       "    }\n",
       "</style>\n",
       "<table border=\"1\" class=\"dataframe\">\n",
       "  <thead>\n",
       "    <tr style=\"text-align: right;\">\n",
       "      <th></th>\n",
       "      <th>residence</th>\n",
       "      <th>developer</th>\n",
       "      <th>attributes/class</th>\n",
       "      <th>description</th>\n",
       "      <th>price</th>\n",
       "    </tr>\n",
       "  </thead>\n",
       "  <tbody>\n",
       "    <tr>\n",
       "      <th>0</th>\n",
       "      <td>ЖК Greenville на Печерську</td>\n",
       "      <td>Greenville</td>\n",
       "      <td>бізнес</td>\n",
       "      <td>Greenville is a combination of residential spa...</td>\n",
       "      <td>4138800.0</td>\n",
       "    </tr>\n",
       "    <tr>\n",
       "      <th>1</th>\n",
       "      <td>Linden Luxury Residences</td>\n",
       "      <td>Budhouse Group</td>\n",
       "      <td>преміум</td>\n",
       "      <td>The location of Linden Luxury Residences is th...</td>\n",
       "      <td>1709400.0</td>\n",
       "    </tr>\n",
       "    <tr>\n",
       "      <th>2</th>\n",
       "      <td>БФК OLEGIVSKIY</td>\n",
       "      <td>DIM</td>\n",
       "      <td>бізнес</td>\n",
       "      <td>OLEGIVSKIY is an exclusive business class mult...</td>\n",
       "      <td>3856325.0</td>\n",
       "    </tr>\n",
       "    <tr>\n",
       "      <th>3</th>\n",
       "      <td>ЖК Новий Автограф</td>\n",
       "      <td>DIM</td>\n",
       "      <td>комфорт</td>\n",
       "      <td>Between both buildings of the \"New Autograph\" ...</td>\n",
       "      <td>3269700.0</td>\n",
       "    </tr>\n",
       "    <tr>\n",
       "      <th>4</th>\n",
       "      <td>NaN</td>\n",
       "      <td>NaN</td>\n",
       "      <td>NaN</td>\n",
       "      <td>NaN</td>\n",
       "      <td>NaN</td>\n",
       "    </tr>\n",
       "  </tbody>\n",
       "</table>\n",
       "</div>"
      ],
      "text/plain": [
       "                    residence       developer attributes/class  \\\n",
       "0  ЖК Greenville на Печерську      Greenville           бізнес   \n",
       "1    Linden Luxury Residences  Budhouse Group          преміум   \n",
       "2              БФК OLEGIVSKIY             DIM           бізнес   \n",
       "3           ЖК Новий Автограф             DIM          комфорт   \n",
       "4                         NaN             NaN              NaN   \n",
       "\n",
       "                                         description      price  \n",
       "0  Greenville is a combination of residential spa...  4138800.0  \n",
       "1  The location of Linden Luxury Residences is th...  1709400.0  \n",
       "2  OLEGIVSKIY is an exclusive business class mult...  3856325.0  \n",
       "3  Between both buildings of the \"New Autograph\" ...  3269700.0  \n",
       "4                                                NaN        NaN  "
      ]
     },
     "execution_count": 209,
     "metadata": {},
     "output_type": "execute_result"
    }
   ],
   "source": [
    "df.head()"
   ]
  },
  {
   "cell_type": "code",
   "execution_count": 210,
   "id": "f106c352",
   "metadata": {},
   "outputs": [
    {
     "data": {
      "text/html": [
       "<div>\n",
       "<style scoped>\n",
       "    .dataframe tbody tr th:only-of-type {\n",
       "        vertical-align: middle;\n",
       "    }\n",
       "\n",
       "    .dataframe tbody tr th {\n",
       "        vertical-align: top;\n",
       "    }\n",
       "\n",
       "    .dataframe thead th {\n",
       "        text-align: right;\n",
       "    }\n",
       "</style>\n",
       "<table border=\"1\" class=\"dataframe\">\n",
       "  <thead>\n",
       "    <tr style=\"text-align: right;\">\n",
       "      <th></th>\n",
       "      <th>residence</th>\n",
       "      <th>developer</th>\n",
       "      <th>attributes/class</th>\n",
       "      <th>description</th>\n",
       "      <th>price</th>\n",
       "    </tr>\n",
       "  </thead>\n",
       "  <tbody>\n",
       "    <tr>\n",
       "      <th>4</th>\n",
       "      <td>NaN</td>\n",
       "      <td>NaN</td>\n",
       "      <td>NaN</td>\n",
       "      <td>NaN</td>\n",
       "      <td>NaN</td>\n",
       "    </tr>\n",
       "  </tbody>\n",
       "</table>\n",
       "</div>"
      ],
      "text/plain": [
       "  residence developer attributes/class description  price\n",
       "4       NaN       NaN              NaN         NaN    NaN"
      ]
     },
     "execution_count": 210,
     "metadata": {},
     "output_type": "execute_result"
    }
   ],
   "source": [
    "df.sample()"
   ]
  },
  {
   "cell_type": "code",
   "execution_count": 211,
   "id": "50a6a599",
   "metadata": {},
   "outputs": [
    {
     "data": {
      "text/plain": [
       "(100, 5)"
      ]
     },
     "execution_count": 211,
     "metadata": {},
     "output_type": "execute_result"
    }
   ],
   "source": [
    "df.shape"
   ]
  },
  {
   "cell_type": "markdown",
   "id": "4495444a",
   "metadata": {},
   "source": [
    "### Фільтрація пустих значень"
   ]
  },
  {
   "cell_type": "code",
   "execution_count": 212,
   "id": "a80b0703",
   "metadata": {},
   "outputs": [],
   "source": [
    "df = df.dropna(subset=['attributes/class', 'description'])"
   ]
  },
  {
   "cell_type": "markdown",
   "id": "2c7a0981",
   "metadata": {},
   "source": [
    "### Доступні в наборі даних класи нерухомості"
   ]
  },
  {
   "cell_type": "code",
   "execution_count": 213,
   "id": "644f90ba",
   "metadata": {
    "scrolled": true
   },
   "outputs": [
    {
     "data": {
      "text/plain": [
       "array(['бізнес', 'преміум', 'комфорт', 'економ'], dtype=object)"
      ]
     },
     "execution_count": 213,
     "metadata": {},
     "output_type": "execute_result"
    }
   ],
   "source": [
    "df['attributes/class'].unique()"
   ]
  },
  {
   "cell_type": "code",
   "execution_count": 214,
   "id": "18f551af",
   "metadata": {},
   "outputs": [
    {
     "data": {
      "text/html": [
       "<div>\n",
       "<style scoped>\n",
       "    .dataframe tbody tr th:only-of-type {\n",
       "        vertical-align: middle;\n",
       "    }\n",
       "\n",
       "    .dataframe tbody tr th {\n",
       "        vertical-align: top;\n",
       "    }\n",
       "\n",
       "    .dataframe thead th {\n",
       "        text-align: right;\n",
       "    }\n",
       "</style>\n",
       "<table border=\"1\" class=\"dataframe\">\n",
       "  <thead>\n",
       "    <tr style=\"text-align: right;\">\n",
       "      <th></th>\n",
       "      <th>residence</th>\n",
       "      <th>developer</th>\n",
       "      <th>attributes/class</th>\n",
       "      <th>description</th>\n",
       "      <th>price</th>\n",
       "    </tr>\n",
       "  </thead>\n",
       "  <tbody>\n",
       "    <tr>\n",
       "      <th>0</th>\n",
       "      <td>ЖК Greenville на Печерську</td>\n",
       "      <td>Greenville</td>\n",
       "      <td>бізнес</td>\n",
       "      <td>Greenville is a combination of residential spa...</td>\n",
       "      <td>4138800.0</td>\n",
       "    </tr>\n",
       "    <tr>\n",
       "      <th>1</th>\n",
       "      <td>Linden Luxury Residences</td>\n",
       "      <td>Budhouse Group</td>\n",
       "      <td>преміум</td>\n",
       "      <td>The location of Linden Luxury Residences is th...</td>\n",
       "      <td>1709400.0</td>\n",
       "    </tr>\n",
       "    <tr>\n",
       "      <th>2</th>\n",
       "      <td>БФК OLEGIVSKIY</td>\n",
       "      <td>DIM</td>\n",
       "      <td>бізнес</td>\n",
       "      <td>OLEGIVSKIY is an exclusive business class mult...</td>\n",
       "      <td>3856325.0</td>\n",
       "    </tr>\n",
       "    <tr>\n",
       "      <th>3</th>\n",
       "      <td>ЖК Новий Автограф</td>\n",
       "      <td>DIM</td>\n",
       "      <td>комфорт</td>\n",
       "      <td>Between both buildings of the \"New Autograph\" ...</td>\n",
       "      <td>3269700.0</td>\n",
       "    </tr>\n",
       "    <tr>\n",
       "      <th>5</th>\n",
       "      <td>БФК А136 Highlight Tower</td>\n",
       "      <td>DIM</td>\n",
       "      <td>бізнес</td>\n",
       "      <td>Residential complex A136 Highlight Tower is a ...</td>\n",
       "      <td>6635250.0</td>\n",
       "    </tr>\n",
       "  </tbody>\n",
       "</table>\n",
       "</div>"
      ],
      "text/plain": [
       "                    residence       developer attributes/class  \\\n",
       "0  ЖК Greenville на Печерську      Greenville           бізнес   \n",
       "1    Linden Luxury Residences  Budhouse Group          преміум   \n",
       "2              БФК OLEGIVSKIY             DIM           бізнес   \n",
       "3           ЖК Новий Автограф             DIM          комфорт   \n",
       "5    БФК А136 Highlight Tower             DIM           бізнес   \n",
       "\n",
       "                                         description      price  \n",
       "0  Greenville is a combination of residential spa...  4138800.0  \n",
       "1  The location of Linden Luxury Residences is th...  1709400.0  \n",
       "2  OLEGIVSKIY is an exclusive business class mult...  3856325.0  \n",
       "3  Between both buildings of the \"New Autograph\" ...  3269700.0  \n",
       "5  Residential complex A136 Highlight Tower is a ...  6635250.0  "
      ]
     },
     "execution_count": 214,
     "metadata": {},
     "output_type": "execute_result"
    }
   ],
   "source": [
    "df.head()"
   ]
  },
  {
   "cell_type": "markdown",
   "id": "e1c5b920",
   "metadata": {},
   "source": [
    "### Переведення класів нерухомості до числових значень"
   ]
  },
  {
   "cell_type": "code",
   "execution_count": 215,
   "id": "e4514b60",
   "metadata": {},
   "outputs": [],
   "source": [
    "class_to_num_map = { 'бізнес': 0, 'преміум': 1, 'комфорт': 2, 'економ': 3 }\n",
    "\n",
    "df['class'] = df['attributes/class'].map(class_to_num_map)"
   ]
  },
  {
   "cell_type": "code",
   "execution_count": 216,
   "id": "99c1083c",
   "metadata": {},
   "outputs": [],
   "source": [
    "df = df[['description', 'class']]"
   ]
  },
  {
   "cell_type": "code",
   "execution_count": 217,
   "id": "3fb31b39",
   "metadata": {
    "scrolled": true
   },
   "outputs": [
    {
     "data": {
      "text/html": [
       "<div>\n",
       "<style scoped>\n",
       "    .dataframe tbody tr th:only-of-type {\n",
       "        vertical-align: middle;\n",
       "    }\n",
       "\n",
       "    .dataframe tbody tr th {\n",
       "        vertical-align: top;\n",
       "    }\n",
       "\n",
       "    .dataframe thead th {\n",
       "        text-align: right;\n",
       "    }\n",
       "</style>\n",
       "<table border=\"1\" class=\"dataframe\">\n",
       "  <thead>\n",
       "    <tr style=\"text-align: right;\">\n",
       "      <th></th>\n",
       "      <th>description</th>\n",
       "      <th>class</th>\n",
       "    </tr>\n",
       "  </thead>\n",
       "  <tbody>\n",
       "    <tr>\n",
       "      <th>0</th>\n",
       "      <td>Greenville is a combination of residential spa...</td>\n",
       "      <td>0</td>\n",
       "    </tr>\n",
       "    <tr>\n",
       "      <th>1</th>\n",
       "      <td>The location of Linden Luxury Residences is th...</td>\n",
       "      <td>1</td>\n",
       "    </tr>\n",
       "    <tr>\n",
       "      <th>2</th>\n",
       "      <td>OLEGIVSKIY is an exclusive business class mult...</td>\n",
       "      <td>0</td>\n",
       "    </tr>\n",
       "    <tr>\n",
       "      <th>3</th>\n",
       "      <td>Between both buildings of the \"New Autograph\" ...</td>\n",
       "      <td>2</td>\n",
       "    </tr>\n",
       "    <tr>\n",
       "      <th>5</th>\n",
       "      <td>Residential complex A136 Highlight Tower is a ...</td>\n",
       "      <td>0</td>\n",
       "    </tr>\n",
       "  </tbody>\n",
       "</table>\n",
       "</div>"
      ],
      "text/plain": [
       "                                         description  class\n",
       "0  Greenville is a combination of residential spa...      0\n",
       "1  The location of Linden Luxury Residences is th...      1\n",
       "2  OLEGIVSKIY is an exclusive business class mult...      0\n",
       "3  Between both buildings of the \"New Autograph\" ...      2\n",
       "5  Residential complex A136 Highlight Tower is a ...      0"
      ]
     },
     "execution_count": 217,
     "metadata": {},
     "output_type": "execute_result"
    }
   ],
   "source": [
    "df.head()"
   ]
  },
  {
   "cell_type": "markdown",
   "id": "3c881110",
   "metadata": {},
   "source": [
    "## Підготовка даних для тренування моделі"
   ]
  },
  {
   "cell_type": "markdown",
   "id": "18d0e00f",
   "metadata": {},
   "source": [
    "### Створення сету характеристик і міток"
   ]
  },
  {
   "cell_type": "markdown",
   "id": "c66b8ebe",
   "metadata": {},
   "source": [
    "TODO: використання imblearn.oversampling -> RandomOverSampler для прирівнювання к-сті зразків певного класу"
   ]
  },
  {
   "cell_type": "code",
   "execution_count": 218,
   "id": "be43e433",
   "metadata": {},
   "outputs": [],
   "source": [
    "train, val, test = np.split(df.sample(frac=1), [int(0.8 * len(df)), int(0.9 * len(df))])"
   ]
  },
  {
   "cell_type": "code",
   "execution_count": 219,
   "id": "cca0ee77",
   "metadata": {
    "scrolled": true
   },
   "outputs": [
    {
     "data": {
      "text/plain": [
       "((70, 2), (9, 2), (9, 2))"
      ]
     },
     "execution_count": 219,
     "metadata": {},
     "output_type": "execute_result"
    }
   ],
   "source": [
    "train.shape, val.shape, test.shape"
   ]
  },
  {
   "cell_type": "code",
   "execution_count": 220,
   "id": "2ad92425",
   "metadata": {
    "scrolled": true
   },
   "outputs": [
    {
     "data": {
      "text/html": [
       "<div>\n",
       "<style scoped>\n",
       "    .dataframe tbody tr th:only-of-type {\n",
       "        vertical-align: middle;\n",
       "    }\n",
       "\n",
       "    .dataframe tbody tr th {\n",
       "        vertical-align: top;\n",
       "    }\n",
       "\n",
       "    .dataframe thead th {\n",
       "        text-align: right;\n",
       "    }\n",
       "</style>\n",
       "<table border=\"1\" class=\"dataframe\">\n",
       "  <thead>\n",
       "    <tr style=\"text-align: right;\">\n",
       "      <th></th>\n",
       "      <th>description</th>\n",
       "      <th>class</th>\n",
       "    </tr>\n",
       "  </thead>\n",
       "  <tbody>\n",
       "    <tr>\n",
       "      <th>0</th>\n",
       "      <td>Greenville is a combination of residential spa...</td>\n",
       "      <td>0</td>\n",
       "    </tr>\n",
       "    <tr>\n",
       "      <th>1</th>\n",
       "      <td>The location of Linden Luxury Residences is th...</td>\n",
       "      <td>1</td>\n",
       "    </tr>\n",
       "    <tr>\n",
       "      <th>2</th>\n",
       "      <td>OLEGIVSKIY is an exclusive business class mult...</td>\n",
       "      <td>0</td>\n",
       "    </tr>\n",
       "    <tr>\n",
       "      <th>3</th>\n",
       "      <td>Between both buildings of the \"New Autograph\" ...</td>\n",
       "      <td>2</td>\n",
       "    </tr>\n",
       "    <tr>\n",
       "      <th>5</th>\n",
       "      <td>Residential complex A136 Highlight Tower is a ...</td>\n",
       "      <td>0</td>\n",
       "    </tr>\n",
       "  </tbody>\n",
       "</table>\n",
       "</div>"
      ],
      "text/plain": [
       "                                         description  class\n",
       "0  Greenville is a combination of residential spa...      0\n",
       "1  The location of Linden Luxury Residences is th...      1\n",
       "2  OLEGIVSKIY is an exclusive business class mult...      0\n",
       "3  Between both buildings of the \"New Autograph\" ...      2\n",
       "5  Residential complex A136 Highlight Tower is a ...      0"
      ]
     },
     "execution_count": 220,
     "metadata": {},
     "output_type": "execute_result"
    }
   ],
   "source": [
    "df.head()"
   ]
  },
  {
   "cell_type": "markdown",
   "id": "cd0990c7",
   "metadata": {},
   "source": [
    "### Переведення міток до категоріальних значень"
   ]
  },
  {
   "cell_type": "markdown",
   "id": "1a0d766b",
   "metadata": {},
   "source": [
    "Так як мітки в даному випадку варіюються від 1 до 4 що вказує на певний клас будівлі, для того щоб повʼязати ці числа із виходом із softmax вихідного шару нейронної мережі, потрібно перевести числа до категоріального виду використовуюючи допоміжні функції keras."
   ]
  },
  {
   "cell_type": "code",
   "execution_count": 221,
   "id": "3bd6bbb0",
   "metadata": {},
   "outputs": [],
   "source": [
    "x_train = train['description'].values\n",
    "y_train = to_categorical(train['class'], 4)\n",
    "\n",
    "x_valid = val['description'].values\n",
    "y_valid = to_categorical(val['class'], 4)\n",
    "\n",
    "x_test = test['description'].values\n",
    "y_test = to_categorical(test['class'], 4)\n",
    "\n",
    "x_pred = ['There is nothing good in this residential complex, please omit it']\n",
    "y_pred = to_categorical([0], 4)"
   ]
  },
  {
   "cell_type": "markdown",
   "id": "260aace5",
   "metadata": {},
   "source": [
    "### Композиція моделі"
   ]
  },
  {
   "cell_type": "code",
   "execution_count": 222,
   "id": "1a502d59",
   "metadata": {},
   "outputs": [],
   "source": [
    "model = Sequential()\n",
    "\n",
    "model.add(hub_layer)\n",
    "model.add(Dense(16, activation='relu'))\n",
    "model.add(Dense(16, activation='relu'))\n",
    "model.add(Dense(4, activation='softmax'))"
   ]
  },
  {
   "cell_type": "code",
   "execution_count": 223,
   "id": "94043d6d",
   "metadata": {},
   "outputs": [],
   "source": [
    "model.compile(optimizer=Adam(learning_rate=0.001), loss=CategoricalCrossentropy(), metrics=['accuracy'])"
   ]
  },
  {
   "cell_type": "code",
   "execution_count": 224,
   "id": "76623680",
   "metadata": {
    "scrolled": false
   },
   "outputs": [
    {
     "name": "stdout",
     "output_type": "stream",
     "text": [
      "3/3 [==============================] - 1s 127ms/step - loss: 1.8556 - accuracy: 0.0286\n"
     ]
    },
    {
     "data": {
      "text/plain": [
       "[1.8556429147720337, 0.02857142873108387]"
      ]
     },
     "execution_count": 224,
     "metadata": {},
     "output_type": "execute_result"
    }
   ],
   "source": [
    "model.evaluate(x_train, y_train)"
   ]
  },
  {
   "cell_type": "markdown",
   "id": "26ee091d",
   "metadata": {},
   "source": [
    "### Тренування моделі"
   ]
  },
  {
   "cell_type": "markdown",
   "id": "ef67cf84",
   "metadata": {},
   "source": [
    "Попередньо модель була натренована на 10 епохах, але цього було недостатньо. Після 10 епох точність моделі все ще зростає і модель не переходить в режим Overfitting"
   ]
  },
  {
   "cell_type": "code",
   "execution_count": 225,
   "id": "838f93f6",
   "metadata": {
    "scrolled": false
   },
   "outputs": [
    {
     "name": "stdout",
     "output_type": "stream",
     "text": [
      "Epoch 1/20\n",
      "3/3 [==============================] - 2s 736ms/step - loss: 1.7980 - accuracy: 0.0286 - val_loss: 1.5465 - val_accuracy: 0.0000e+00\n",
      "Epoch 2/20\n",
      "3/3 [==============================] - 2s 688ms/step - loss: 1.5865 - accuracy: 0.0286 - val_loss: 1.4452 - val_accuracy: 0.0000e+00\n",
      "Epoch 3/20\n",
      "3/3 [==============================] - 2s 707ms/step - loss: 1.4815 - accuracy: 0.0286 - val_loss: 1.3915 - val_accuracy: 0.0000e+00\n",
      "Epoch 4/20\n",
      "3/3 [==============================] - 2s 729ms/step - loss: 1.4107 - accuracy: 0.0286 - val_loss: 1.3637 - val_accuracy: 0.0000e+00\n",
      "Epoch 5/20\n",
      "3/3 [==============================] - 2s 774ms/step - loss: 1.3556 - accuracy: 0.0429 - val_loss: 1.3402 - val_accuracy: 0.0000e+00\n",
      "Epoch 6/20\n",
      "3/3 [==============================] - 2s 785ms/step - loss: 1.3074 - accuracy: 0.1857 - val_loss: 1.3119 - val_accuracy: 0.4444\n",
      "Epoch 7/20\n",
      "3/3 [==============================] - 2s 730ms/step - loss: 1.2610 - accuracy: 0.6000 - val_loss: 1.2646 - val_accuracy: 0.6667\n",
      "Epoch 8/20\n",
      "3/3 [==============================] - 2s 761ms/step - loss: 1.2101 - accuracy: 0.6143 - val_loss: 1.2091 - val_accuracy: 0.6667\n",
      "Epoch 9/20\n",
      "3/3 [==============================] - 2s 722ms/step - loss: 1.1512 - accuracy: 0.6000 - val_loss: 1.1691 - val_accuracy: 0.6667\n",
      "Epoch 10/20\n",
      "3/3 [==============================] - 2s 730ms/step - loss: 1.0980 - accuracy: 0.6000 - val_loss: 1.1334 - val_accuracy: 0.6667\n",
      "Epoch 11/20\n",
      "3/3 [==============================] - 2s 728ms/step - loss: 1.0474 - accuracy: 0.6000 - val_loss: 1.1039 - val_accuracy: 0.6667\n",
      "Epoch 12/20\n",
      "3/3 [==============================] - 2s 731ms/step - loss: 1.0029 - accuracy: 0.6000 - val_loss: 1.0824 - val_accuracy: 0.6667\n",
      "Epoch 13/20\n",
      "3/3 [==============================] - 2s 732ms/step - loss: 0.9640 - accuracy: 0.6000 - val_loss: 1.0632 - val_accuracy: 0.6667\n",
      "Epoch 14/20\n",
      "3/3 [==============================] - 2s 725ms/step - loss: 0.9273 - accuracy: 0.6000 - val_loss: 1.0457 - val_accuracy: 0.6667\n",
      "Epoch 15/20\n",
      "3/3 [==============================] - 2s 739ms/step - loss: 0.8909 - accuracy: 0.6143 - val_loss: 1.0302 - val_accuracy: 0.6667\n",
      "Epoch 16/20\n",
      "3/3 [==============================] - 2s 740ms/step - loss: 0.8536 - accuracy: 0.6143 - val_loss: 1.0187 - val_accuracy: 0.6667\n",
      "Epoch 17/20\n",
      "3/3 [==============================] - 2s 719ms/step - loss: 0.8179 - accuracy: 0.6143 - val_loss: 1.0091 - val_accuracy: 0.6667\n",
      "Epoch 18/20\n",
      "3/3 [==============================] - 2s 754ms/step - loss: 0.7845 - accuracy: 0.6143 - val_loss: 1.0004 - val_accuracy: 0.6667\n",
      "Epoch 19/20\n",
      "3/3 [==============================] - 2s 716ms/step - loss: 0.7521 - accuracy: 0.6143 - val_loss: 0.9946 - val_accuracy: 0.6667\n",
      "Epoch 20/20\n",
      "3/3 [==============================] - 2s 719ms/step - loss: 0.7193 - accuracy: 0.6286 - val_loss: 0.9900 - val_accuracy: 0.6667\n"
     ]
    }
   ],
   "source": [
    "history = model.fit(x=x_train, y=y_train, epochs=20, validation_data=(x_valid, y_valid))"
   ]
  },
  {
   "cell_type": "markdown",
   "id": "80a0b7e8",
   "metadata": {},
   "source": [
    "### Результати тренування моделі"
   ]
  },
  {
   "cell_type": "code",
   "execution_count": 226,
   "id": "d174decf",
   "metadata": {
    "scrolled": false
   },
   "outputs": [
    {
     "data": {
      "image/png": "[encoded data removed]",
      "text/plain": [
       "<Figure size 640x480 with 1 Axes>"
      ]
     },
     "metadata": {},
     "output_type": "display_data"
    }
   ],
   "source": [
    "plt.plot(history.history['accuracy'], label=\"Точність\")\n",
    "plt.plot(history.history['val_accuracy'], label=\"Валідаційна точність\")\n",
    "plt.legend()\n",
    "\n",
    "plt.show()"
   ]
  },
  {
   "cell_type": "code",
   "execution_count": 227,
   "id": "e9bd5583",
   "metadata": {
    "scrolled": true
   },
   "outputs": [
    {
     "data": {
      "image/png": "[encoded data removed]",
      "text/plain": [
       "<Figure size 640x480 with 1 Axes>"
      ]
     },
     "metadata": {},
     "output_type": "display_data"
    }
   ],
   "source": [
    "plt.plot(history.history['loss'], label=\"Втрати\")\n",
    "plt.plot(history.history['val_loss'], label=\"Валідаційні втрати\")\n",
    "plt.legend()\n",
    "\n",
    "plt.show()"
   ]
  },
  {
   "cell_type": "markdown",
   "id": "ddb0ee5c",
   "metadata": {},
   "source": [
    "## Перевірка моделі на тестових даних яких раніше модель не бачила"
   ]
  },
  {
   "cell_type": "code",
   "execution_count": 228,
   "id": "d03b03bc",
   "metadata": {},
   "outputs": [],
   "source": [
    "def pred_to_text(pred):\n",
    "    return list(class_to_num_map.keys())[list(class_to_num_map.values()).index(pred)]"
   ]
  },
  {
   "cell_type": "code",
   "execution_count": 229,
   "id": "fab5d29d",
   "metadata": {},
   "outputs": [
    {
     "data": {
      "text/plain": [
       "('бізнес', 'преміум', 'комфорт', 'економ')"
      ]
     },
     "execution_count": 229,
     "metadata": {},
     "output_type": "execute_result"
    }
   ],
   "source": [
    "pred_to_text(0), pred_to_text(1), pred_to_text(2), pred_to_text(3)"
   ]
  },
  {
   "cell_type": "code",
   "execution_count": 230,
   "id": "3824570b",
   "metadata": {
    "scrolled": true
   },
   "outputs": [
    {
     "name": "stdout",
     "output_type": "stream",
     "text": [
      "1/1 [==============================] - 0s 140ms/step - loss: 1.1554 - accuracy: 0.6667\n"
     ]
    },
    {
     "data": {
      "text/plain": [
       "[1.1554341316223145, 0.6666666865348816]"
      ]
     },
     "execution_count": 230,
     "metadata": {},
     "output_type": "execute_result"
    }
   ],
   "source": [
    "model.evaluate(x_test, y_test)"
   ]
  },
  {
   "cell_type": "code",
   "execution_count": 231,
   "id": "033b7be3",
   "metadata": {
    "scrolled": true
   },
   "outputs": [
    {
     "name": "stdout",
     "output_type": "stream",
     "text": [
      "1/1 [==============================] - 0s 222ms/step\n"
     ]
    },
    {
     "data": {
      "text/plain": [
       "'комфорт'"
      ]
     },
     "execution_count": 231,
     "metadata": {},
     "output_type": "execute_result"
    }
   ],
   "source": [
    "pred = model.predict(x_pred)\n",
    "pred_index = np.argmax(pred)\n",
    "\n",
    "pred_to_text(pred_index)"
   ]
  },
  {
   "cell_type": "markdown",
   "id": "266be1bc",
   "metadata": {},
   "source": [
    "TODO: also use LSTM https://www.youtube.com/watch?v=VtRLrQ3Ev-U&ab_channel=freeCodeCamp.org"
   ]
  }
 ],
 "metadata": {
  "kernelspec": {
   "display_name": "Python 3 (ipykernel)",
   "language": "python",
   "name": "python3"
  },
  "language_info": {
   "codemirror_mode": {
    "name": "ipython",
    "version": 3
   },
   "file_extension": ".py",
   "mimetype": "text/x-python",
   "name": "python",
   "nbconvert_exporter": "python",
   "pygments_lexer": "ipython3",
   "version": "3.9.16"
  }
 },
 "nbformat": 4,
 "nbformat_minor": 5
}
