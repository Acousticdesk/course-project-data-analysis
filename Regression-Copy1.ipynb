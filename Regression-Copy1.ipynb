{
 "cells": [
  {
   "cell_type": "markdown",
   "metadata": {},
   "source": [
    "## Залежності проекту"
   ]
  },
  {
   "cell_type": "code",
   "execution_count": 2,
   "metadata": {
    "id": "_UoQpifexDG7"
   },
   "outputs": [],
   "source": [
    "import numpy as np\n",
    "import pandas as pd"
   ]
  },
  {
   "cell_type": "code",
   "execution_count": 3,
   "metadata": {
    "id": "5cUOPJ257ny3"
   },
   "outputs": [],
   "source": [
    "import scipy.stats\n",
    "import statsmodels.api as sm\n",
    "import statsmodels.formula.api as smf"
   ]
  },
  {
   "cell_type": "code",
   "execution_count": 4,
   "metadata": {
    "id": "dg9mbnqpZpc9"
   },
   "outputs": [],
   "source": [
    "import matplotlib.pyplot as plt\n",
    "import seaborn as sns"
   ]
  },
  {
   "cell_type": "markdown",
   "metadata": {},
   "source": [
    "## Ознайомлення із набором даних"
   ]
  },
  {
   "cell_type": "code",
   "execution_count": 5,
   "metadata": {
    "colab": {
     "base_uri": "https://localhost:8080/",
     "height": 528
    },
    "id": "uYIOY2DJxJVD",
    "outputId": "55ea00a8-28c1-44c0-da99-3ed7139f24fe"
   },
   "outputs": [
    {
     "data": {
      "text/html": [
       "<div>\n",
       "<style scoped>\n",
       "    .dataframe tbody tr th:only-of-type {\n",
       "        vertical-align: middle;\n",
       "    }\n",
       "\n",
       "    .dataframe tbody tr th {\n",
       "        vertical-align: top;\n",
       "    }\n",
       "\n",
       "    .dataframe thead th {\n",
       "        text-align: right;\n",
       "    }\n",
       "</style>\n",
       "<table border=\"1\" class=\"dataframe\">\n",
       "  <thead>\n",
       "    <tr style=\"text-align: right;\">\n",
       "      <th></th>\n",
       "      <th>Unnamed: 0</th>\n",
       "      <th>residence</th>\n",
       "      <th>developer</th>\n",
       "      <th>description</th>\n",
       "      <th>address</th>\n",
       "      <th>district</th>\n",
       "      <th>ceilingHeight</th>\n",
       "      <th>numApartmentsTotal</th>\n",
       "      <th>year</th>\n",
       "      <th>pricePerSquareMeter</th>\n",
       "      <th>price</th>\n",
       "      <th>area</th>\n",
       "      <th>rooms</th>\n",
       "      <th>floor</th>\n",
       "      <th>minutesToCityCenter</th>\n",
       "      <th>assess</th>\n",
       "      <th>crimeRateInDistrict</th>\n",
       "      <th>predictedClass</th>\n",
       "    </tr>\n",
       "  </thead>\n",
       "  <tbody>\n",
       "    <tr>\n",
       "      <th>0</th>\n",
       "      <td>0</td>\n",
       "      <td>А136 Highlight Tower</td>\n",
       "      <td>DIM</td>\n",
       "      <td>Residential complex A136 Highlight Tower is a ...</td>\n",
       "      <td>вул. Антоновича, 136-138</td>\n",
       "      <td>Голосіївський р-н</td>\n",
       "      <td>3</td>\n",
       "      <td>324</td>\n",
       "      <td>2023.0</td>\n",
       "      <td>137800.0</td>\n",
       "      <td>7441200.0</td>\n",
       "      <td>54</td>\n",
       "      <td>1</td>\n",
       "      <td>18.0</td>\n",
       "      <td>48</td>\n",
       "      <td>52536</td>\n",
       "      <td>2317</td>\n",
       "      <td>бізнес</td>\n",
       "    </tr>\n",
       "    <tr>\n",
       "      <th>1</th>\n",
       "      <td>1</td>\n",
       "      <td>А136 Highlight Tower</td>\n",
       "      <td>DIM</td>\n",
       "      <td>Residential complex A136 Highlight Tower is a ...</td>\n",
       "      <td>вул. Антоновича, 136-138</td>\n",
       "      <td>Голосіївський р-н</td>\n",
       "      <td>3</td>\n",
       "      <td>324</td>\n",
       "      <td>2023.0</td>\n",
       "      <td>137800.0</td>\n",
       "      <td>7992400.0</td>\n",
       "      <td>58</td>\n",
       "      <td>1</td>\n",
       "      <td>NaN</td>\n",
       "      <td>48</td>\n",
       "      <td>52536</td>\n",
       "      <td>2317</td>\n",
       "      <td>бізнес</td>\n",
       "    </tr>\n",
       "    <tr>\n",
       "      <th>2</th>\n",
       "      <td>2</td>\n",
       "      <td>А136 Highlight Tower</td>\n",
       "      <td>DIM</td>\n",
       "      <td>Residential complex A136 Highlight Tower is a ...</td>\n",
       "      <td>вул. Антоновича, 136-138</td>\n",
       "      <td>Голосіївський р-н</td>\n",
       "      <td>3</td>\n",
       "      <td>324</td>\n",
       "      <td>2023.0</td>\n",
       "      <td>125275.0</td>\n",
       "      <td>10022000.0</td>\n",
       "      <td>80</td>\n",
       "      <td>2</td>\n",
       "      <td>7.0</td>\n",
       "      <td>48</td>\n",
       "      <td>52536</td>\n",
       "      <td>2317</td>\n",
       "      <td>бізнес</td>\n",
       "    </tr>\n",
       "    <tr>\n",
       "      <th>3</th>\n",
       "      <td>3</td>\n",
       "      <td>А136 Highlight Tower</td>\n",
       "      <td>DIM</td>\n",
       "      <td>Residential complex A136 Highlight Tower is a ...</td>\n",
       "      <td>вул. Антоновича, 136-138</td>\n",
       "      <td>Голосіївський р-н</td>\n",
       "      <td>3</td>\n",
       "      <td>324</td>\n",
       "      <td>2023.0</td>\n",
       "      <td>125275.0</td>\n",
       "      <td>10147275.0</td>\n",
       "      <td>81</td>\n",
       "      <td>2</td>\n",
       "      <td>13.0</td>\n",
       "      <td>48</td>\n",
       "      <td>52536</td>\n",
       "      <td>2317</td>\n",
       "      <td>бізнес</td>\n",
       "    </tr>\n",
       "    <tr>\n",
       "      <th>4</th>\n",
       "      <td>4</td>\n",
       "      <td>А136 Highlight Tower</td>\n",
       "      <td>DIM</td>\n",
       "      <td>Residential complex A136 Highlight Tower is a ...</td>\n",
       "      <td>вул. Антоновича, 136-138</td>\n",
       "      <td>Голосіївський р-н</td>\n",
       "      <td>3</td>\n",
       "      <td>324</td>\n",
       "      <td>2023.0</td>\n",
       "      <td>125275.0</td>\n",
       "      <td>10648375.0</td>\n",
       "      <td>85</td>\n",
       "      <td>2</td>\n",
       "      <td>17.0</td>\n",
       "      <td>48</td>\n",
       "      <td>52536</td>\n",
       "      <td>2317</td>\n",
       "      <td>бізнес</td>\n",
       "    </tr>\n",
       "  </tbody>\n",
       "</table>\n",
       "</div>"
      ],
      "text/plain": [
       "   Unnamed: 0             residence developer  \\\n",
       "0           0  А136 Highlight Tower       DIM   \n",
       "1           1  А136 Highlight Tower       DIM   \n",
       "2           2  А136 Highlight Tower       DIM   \n",
       "3           3  А136 Highlight Tower       DIM   \n",
       "4           4  А136 Highlight Tower       DIM   \n",
       "\n",
       "                                         description  \\\n",
       "0  Residential complex A136 Highlight Tower is a ...   \n",
       "1  Residential complex A136 Highlight Tower is a ...   \n",
       "2  Residential complex A136 Highlight Tower is a ...   \n",
       "3  Residential complex A136 Highlight Tower is a ...   \n",
       "4  Residential complex A136 Highlight Tower is a ...   \n",
       "\n",
       "                    address           district  ceilingHeight  \\\n",
       "0  вул. Антоновича, 136-138  Голосіївський р-н              3   \n",
       "1  вул. Антоновича, 136-138  Голосіївський р-н              3   \n",
       "2  вул. Антоновича, 136-138  Голосіївський р-н              3   \n",
       "3  вул. Антоновича, 136-138  Голосіївський р-н              3   \n",
       "4  вул. Антоновича, 136-138  Голосіївський р-н              3   \n",
       "\n",
       "   numApartmentsTotal    year  pricePerSquareMeter       price  area  rooms  \\\n",
       "0                 324  2023.0             137800.0   7441200.0    54      1   \n",
       "1                 324  2023.0             137800.0   7992400.0    58      1   \n",
       "2                 324  2023.0             125275.0  10022000.0    80      2   \n",
       "3                 324  2023.0             125275.0  10147275.0    81      2   \n",
       "4                 324  2023.0             125275.0  10648375.0    85      2   \n",
       "\n",
       "   floor  minutesToCityCenter  assess  crimeRateInDistrict predictedClass  \n",
       "0   18.0                   48   52536                 2317         бізнес  \n",
       "1    NaN                   48   52536                 2317         бізнес  \n",
       "2    7.0                   48   52536                 2317         бізнес  \n",
       "3   13.0                   48   52536                 2317         бізнес  \n",
       "4   17.0                   48   52536                 2317         бізнес  "
      ]
     },
     "execution_count": 5,
     "metadata": {},
     "output_type": "execute_result"
    }
   ],
   "source": [
    "df = pd. read_csv('./real-estate-with-nn-results.csv')\n",
    "df.head()"
   ]
  },
  {
   "cell_type": "markdown",
   "metadata": {},
   "source": [
    "## Статистика"
   ]
  },
  {
   "cell_type": "code",
   "execution_count": 6,
   "metadata": {
    "colab": {
     "base_uri": "https://localhost:8080/",
     "height": 300
    },
    "id": "QatjOz55izrT",
    "outputId": "ba02f4b9-1990-46a3-ea44-5553c6f7f278",
    "scrolled": true
   },
   "outputs": [
    {
     "data": {
      "text/html": [
       "<div>\n",
       "<style scoped>\n",
       "    .dataframe tbody tr th:only-of-type {\n",
       "        vertical-align: middle;\n",
       "    }\n",
       "\n",
       "    .dataframe tbody tr th {\n",
       "        vertical-align: top;\n",
       "    }\n",
       "\n",
       "    .dataframe thead th {\n",
       "        text-align: right;\n",
       "    }\n",
       "</style>\n",
       "<table border=\"1\" class=\"dataframe\">\n",
       "  <thead>\n",
       "    <tr style=\"text-align: right;\">\n",
       "      <th></th>\n",
       "      <th>Unnamed: 0</th>\n",
       "      <th>ceilingHeight</th>\n",
       "      <th>numApartmentsTotal</th>\n",
       "      <th>year</th>\n",
       "      <th>pricePerSquareMeter</th>\n",
       "      <th>price</th>\n",
       "      <th>area</th>\n",
       "      <th>rooms</th>\n",
       "      <th>floor</th>\n",
       "      <th>minutesToCityCenter</th>\n",
       "      <th>assess</th>\n",
       "      <th>crimeRateInDistrict</th>\n",
       "    </tr>\n",
       "  </thead>\n",
       "  <tbody>\n",
       "    <tr>\n",
       "      <th>count</th>\n",
       "      <td>169.000000</td>\n",
       "      <td>169.000000</td>\n",
       "      <td>169.000000</td>\n",
       "      <td>169.000000</td>\n",
       "      <td>160.000000</td>\n",
       "      <td>1.600000e+02</td>\n",
       "      <td>169.000000</td>\n",
       "      <td>169.000000</td>\n",
       "      <td>161.000000</td>\n",
       "      <td>169.000000</td>\n",
       "      <td>169.000000</td>\n",
       "      <td>169.000000</td>\n",
       "    </tr>\n",
       "    <tr>\n",
       "      <th>mean</th>\n",
       "      <td>84.000000</td>\n",
       "      <td>2.443787</td>\n",
       "      <td>1731.479290</td>\n",
       "      <td>2023.393491</td>\n",
       "      <td>100752.812500</td>\n",
       "      <td>9.366031e+06</td>\n",
       "      <td>82.893491</td>\n",
       "      <td>1.852071</td>\n",
       "      <td>11.796273</td>\n",
       "      <td>91.414201</td>\n",
       "      <td>69152.650888</td>\n",
       "      <td>2720.017751</td>\n",
       "    </tr>\n",
       "    <tr>\n",
       "      <th>std</th>\n",
       "      <td>48.930222</td>\n",
       "      <td>0.498307</td>\n",
       "      <td>1624.999967</td>\n",
       "      <td>0.717896</td>\n",
       "      <td>69272.329403</td>\n",
       "      <td>1.257591e+07</td>\n",
       "      <td>53.039186</td>\n",
       "      <td>0.890765</td>\n",
       "      <td>6.920151</td>\n",
       "      <td>58.415538</td>\n",
       "      <td>38927.162889</td>\n",
       "      <td>600.219687</td>\n",
       "    </tr>\n",
       "    <tr>\n",
       "      <th>min</th>\n",
       "      <td>0.000000</td>\n",
       "      <td>2.000000</td>\n",
       "      <td>125.000000</td>\n",
       "      <td>2022.000000</td>\n",
       "      <td>34700.000000</td>\n",
       "      <td>1.232500e+06</td>\n",
       "      <td>8.000000</td>\n",
       "      <td>1.000000</td>\n",
       "      <td>2.000000</td>\n",
       "      <td>5.000000</td>\n",
       "      <td>34392.000000</td>\n",
       "      <td>2106.000000</td>\n",
       "    </tr>\n",
       "    <tr>\n",
       "      <th>25%</th>\n",
       "      <td>42.000000</td>\n",
       "      <td>2.000000</td>\n",
       "      <td>328.000000</td>\n",
       "      <td>2023.000000</td>\n",
       "      <td>58987.500000</td>\n",
       "      <td>3.264581e+06</td>\n",
       "      <td>53.000000</td>\n",
       "      <td>1.000000</td>\n",
       "      <td>7.000000</td>\n",
       "      <td>40.000000</td>\n",
       "      <td>47299.000000</td>\n",
       "      <td>2317.000000</td>\n",
       "    </tr>\n",
       "    <tr>\n",
       "      <th>50%</th>\n",
       "      <td>84.000000</td>\n",
       "      <td>2.000000</td>\n",
       "      <td>1709.000000</td>\n",
       "      <td>2023.000000</td>\n",
       "      <td>69725.000000</td>\n",
       "      <td>4.888850e+06</td>\n",
       "      <td>76.000000</td>\n",
       "      <td>2.000000</td>\n",
       "      <td>11.000000</td>\n",
       "      <td>109.000000</td>\n",
       "      <td>52536.000000</td>\n",
       "      <td>2537.000000</td>\n",
       "    </tr>\n",
       "    <tr>\n",
       "      <th>75%</th>\n",
       "      <td>126.000000</td>\n",
       "      <td>3.000000</td>\n",
       "      <td>2857.000000</td>\n",
       "      <td>2023.500000</td>\n",
       "      <td>116825.000000</td>\n",
       "      <td>9.024400e+06</td>\n",
       "      <td>98.000000</td>\n",
       "      <td>2.000000</td>\n",
       "      <td>14.000000</td>\n",
       "      <td>156.000000</td>\n",
       "      <td>53927.000000</td>\n",
       "      <td>2884.000000</td>\n",
       "    </tr>\n",
       "    <tr>\n",
       "      <th>max</th>\n",
       "      <td>168.000000</td>\n",
       "      <td>3.000000</td>\n",
       "      <td>5183.000000</td>\n",
       "      <td>2025.000000</td>\n",
       "      <td>317600.000000</td>\n",
       "      <td>7.940000e+07</td>\n",
       "      <td>556.000000</td>\n",
       "      <td>5.000000</td>\n",
       "      <td>25.500000</td>\n",
       "      <td>169.000000</td>\n",
       "      <td>136750.000000</td>\n",
       "      <td>3939.000000</td>\n",
       "    </tr>\n",
       "  </tbody>\n",
       "</table>\n",
       "</div>"
      ],
      "text/plain": [
       "       Unnamed: 0  ceilingHeight  numApartmentsTotal         year  \\\n",
       "count  169.000000     169.000000          169.000000   169.000000   \n",
       "mean    84.000000       2.443787         1731.479290  2023.393491   \n",
       "std     48.930222       0.498307         1624.999967     0.717896   \n",
       "min      0.000000       2.000000          125.000000  2022.000000   \n",
       "25%     42.000000       2.000000          328.000000  2023.000000   \n",
       "50%     84.000000       2.000000         1709.000000  2023.000000   \n",
       "75%    126.000000       3.000000         2857.000000  2023.500000   \n",
       "max    168.000000       3.000000         5183.000000  2025.000000   \n",
       "\n",
       "       pricePerSquareMeter         price        area       rooms       floor  \\\n",
       "count           160.000000  1.600000e+02  169.000000  169.000000  161.000000   \n",
       "mean         100752.812500  9.366031e+06   82.893491    1.852071   11.796273   \n",
       "std           69272.329403  1.257591e+07   53.039186    0.890765    6.920151   \n",
       "min           34700.000000  1.232500e+06    8.000000    1.000000    2.000000   \n",
       "25%           58987.500000  3.264581e+06   53.000000    1.000000    7.000000   \n",
       "50%           69725.000000  4.888850e+06   76.000000    2.000000   11.000000   \n",
       "75%          116825.000000  9.024400e+06   98.000000    2.000000   14.000000   \n",
       "max          317600.000000  7.940000e+07  556.000000    5.000000   25.500000   \n",
       "\n",
       "       minutesToCityCenter         assess  crimeRateInDistrict  \n",
       "count           169.000000     169.000000           169.000000  \n",
       "mean             91.414201   69152.650888          2720.017751  \n",
       "std              58.415538   38927.162889           600.219687  \n",
       "min               5.000000   34392.000000          2106.000000  \n",
       "25%              40.000000   47299.000000          2317.000000  \n",
       "50%             109.000000   52536.000000          2537.000000  \n",
       "75%             156.000000   53927.000000          2884.000000  \n",
       "max             169.000000  136750.000000          3939.000000  "
      ]
     },
     "execution_count": 6,
     "metadata": {},
     "output_type": "execute_result"
    }
   ],
   "source": [
    "df.describe()"
   ]
  },
  {
   "cell_type": "code",
   "execution_count": 7,
   "metadata": {
    "colab": {
     "base_uri": "https://localhost:8080/"
    },
    "id": "_8FwNDwMDQQW",
    "outputId": "e4ce18ae-10b6-4d7b-a56e-34da08e88957"
   },
   "outputs": [
    {
     "data": {
      "text/plain": [
       "(169, 18)"
      ]
     },
     "execution_count": 7,
     "metadata": {},
     "output_type": "execute_result"
    }
   ],
   "source": [
    "df.shape"
   ]
  },
  {
   "cell_type": "code",
   "execution_count": 8,
   "metadata": {
    "colab": {
     "base_uri": "https://localhost:8080/",
     "height": 334
    },
    "id": "6L1Nowvnacs_",
    "outputId": "97f4f6db-ce95-4159-fbb4-3d51149a5a86"
   },
   "outputs": [
    {
     "data": {
      "image/png": "[encoded data removed]",
      "text/plain": [
       "<Figure size 640x480 with 1 Axes>"
      ]
     },
     "metadata": {},
     "output_type": "display_data"
    }
   ],
   "source": [
    "sns.boxplot(df['price'])\n",
    "plt.show()"
   ]
  },
  {
   "cell_type": "code",
   "execution_count": 9,
   "metadata": {
    "colab": {
     "base_uri": "https://localhost:8080/",
     "height": 334
    },
    "id": "O-0i6lqGB6Fu",
    "outputId": "6cf7ae11-a577-47b8-ab07-dc5d109a95f0"
   },
   "outputs": [
    {
     "data": {
      "image/png": "[encoded data removed]",
      "text/plain": [
       "<Figure size 640x480 with 1 Axes>"
      ]
     },
     "metadata": {},
     "output_type": "display_data"
    }
   ],
   "source": [
    "sns.boxplot(df['area'])\n",
    "plt.show()"
   ]
  },
  {
   "cell_type": "code",
   "execution_count": 10,
   "metadata": {
    "id": "2cppITXg8cz_"
   },
   "outputs": [],
   "source": [
    "df['logprice']=np.log(df['price'])\n",
    "df['logarea']=np.log(df['area'])\n"
   ]
  },
  {
   "cell_type": "code",
   "execution_count": 11,
   "metadata": {
    "colab": {
     "base_uri": "https://localhost:8080/",
     "height": 334
    },
    "id": "Y0-IatnAcXUl",
    "outputId": "4dd3c179-df38-4fc9-b956-7758f90d443d"
   },
   "outputs": [
    {
     "data": {
      "image/png": "[encoded data removed]",
      "text/plain": [
       "<Figure size 640x480 with 1 Axes>"
      ]
     },
     "metadata": {},
     "output_type": "display_data"
    }
   ],
   "source": [
    "sns.boxplot(df['logprice'])\n",
    "plt.show()"
   ]
  },
  {
   "cell_type": "code",
   "execution_count": 12,
   "metadata": {
    "colab": {
     "base_uri": "https://localhost:8080/",
     "height": 334
    },
    "id": "vv-_8BwPCApp",
    "outputId": "f9cbdf7a-1b95-43cf-96d1-f6bc53473583"
   },
   "outputs": [
    {
     "data": {
      "image/png": "[encoded data removed]",
      "text/plain": [
       "<Figure size 640x480 with 1 Axes>"
      ]
     },
     "metadata": {},
     "output_type": "display_data"
    }
   ],
   "source": [
    "sns.boxplot(df['logarea'])\n",
    "plt.show()"
   ]
  },
  {
   "cell_type": "markdown",
   "metadata": {},
   "source": [
    "## Фільтрація набору даних від викидів"
   ]
  },
  {
   "cell_type": "markdown",
   "metadata": {},
   "source": [
    "Викидами є дані що кардинально відрізняються від середніх значень що були знайдені в наборі даних."
   ]
  },
  {
   "cell_type": "code",
   "execution_count": 13,
   "metadata": {
    "colab": {
     "base_uri": "https://localhost:8080/"
    },
    "id": "z5ffFZiViZjA",
    "outputId": "c3ca2ab6-7b05-4e9e-901b-228b4507a1de"
   },
   "outputs": [
    {
     "name": "stdout",
     "output_type": "stream",
     "text": [
      "Int64Index([118, 119, 120, 121, 122], dtype='int64')\n"
     ]
    }
   ],
   "source": [
    "q1_logprice = df['logprice'].quantile(0.25)\n",
    "q3_logprice = df['logprice'].quantile(0.75)\n",
    "iqr_logprice = q3_logprice - q1_logprice\n",
    "lower_bound_logprice = q1_logprice - 1.5 * iqr_logprice\n",
    "upper_bound_logprice = q3_logprice + 1.5 * iqr_logprice\n",
    "\n",
    "outliers_logprice = df[(df['logprice'] < lower_bound_logprice) | (df['logprice'] > upper_bound_logprice)].index\n",
    "\n",
    "print(outliers_logprice)\n"
   ]
  },
  {
   "cell_type": "code",
   "execution_count": 14,
   "metadata": {
    "colab": {
     "base_uri": "https://localhost:8080/"
    },
    "id": "ATt7-O8KtPpE",
    "outputId": "8a757e2f-3ea4-4d1e-db36-99cc36fec7e2"
   },
   "outputs": [
    {
     "name": "stdout",
     "output_type": "stream",
     "text": [
      "Int64Index([101, 122, 123], dtype='int64')\n"
     ]
    }
   ],
   "source": [
    "q1_logarea = df['logarea'].quantile(0.25)\n",
    "q3_logarea = df['logarea'].quantile(0.75)\n",
    "iqr_logarea = q3_logarea - q1_logarea\n",
    "lower_bound_logarea = q1_logarea - 1.5 * iqr_logarea\n",
    "upper_bound_logarea = q3_logarea + 1.5 * iqr_logarea\n",
    "\n",
    "outliers_logarea = df[(df['logarea'] < lower_bound_logarea) | (df['logarea'] > upper_bound_logarea)].index\n",
    "\n",
    "print(outliers_logarea)"
   ]
  },
  {
   "cell_type": "code",
   "execution_count": 15,
   "metadata": {},
   "outputs": [],
   "source": [
    "outliers = list(outliers_logprice.copy())\n",
    "outliers.extend(list(outliers_logarea))"
   ]
  },
  {
   "cell_type": "code",
   "execution_count": 16,
   "metadata": {},
   "outputs": [
    {
     "data": {
      "text/plain": [
       "[118, 119, 120, 121, 122, 101, 122, 123]"
      ]
     },
     "execution_count": 16,
     "metadata": {},
     "output_type": "execute_result"
    }
   ],
   "source": [
    "outliers"
   ]
  },
  {
   "cell_type": "code",
   "execution_count": 17,
   "metadata": {
    "colab": {
     "base_uri": "https://localhost:8080/"
    },
    "id": "jNjVJuP8lE07",
    "outputId": "d5be9b39-108f-433d-ff4d-3ef844a617a5"
   },
   "outputs": [
    {
     "data": {
      "text/plain": [
       "(162, 20)"
      ]
     },
     "execution_count": 17,
     "metadata": {},
     "output_type": "execute_result"
    }
   ],
   "source": [
    "df1 = df.drop(outliers)\n",
    "df1.shape"
   ]
  },
  {
   "cell_type": "markdown",
   "metadata": {},
   "source": [
    "## Обрахування значимості незалежних змінних на залежну змінну"
   ]
  },
  {
   "cell_type": "markdown",
   "metadata": {},
   "source": [
    "OLS - Ordinary List Squares"
   ]
  },
  {
   "cell_type": "code",
   "execution_count": 18,
   "metadata": {
    "colab": {
     "base_uri": "https://localhost:8080/",
     "height": 504
    },
    "id": "loKH2vys6_T8",
    "outputId": "8f63b5ac-1cbd-4e56-cf58-1c390985f196",
    "scrolled": true
   },
   "outputs": [
    {
     "name": "stdout",
     "output_type": "stream",
     "text": [
      "Intercept   -4.813396e+06\n",
      "area         1.670893e+05\n",
      "dtype: float64\n"
     ]
    },
    {
     "data": {
      "text/html": [
       "<table class=\"simpletable\">\n",
       "<caption>OLS Regression Results</caption>\n",
       "<tr>\n",
       "  <th>Dep. Variable:</th>          <td>price</td>      <th>  R-squared:         </th> <td>   0.415</td>\n",
       "</tr>\n",
       "<tr>\n",
       "  <th>Model:</th>                   <td>OLS</td>       <th>  Adj. R-squared:    </th> <td>   0.411</td>\n",
       "</tr>\n",
       "<tr>\n",
       "  <th>Method:</th>             <td>Least Squares</td>  <th>  F-statistic:       </th> <td>   107.8</td>\n",
       "</tr>\n",
       "<tr>\n",
       "  <th>Date:</th>             <td>Mon, 15 May 2023</td> <th>  Prob (F-statistic):</th> <td>1.99e-19</td>\n",
       "</tr>\n",
       "<tr>\n",
       "  <th>Time:</th>                 <td>12:34:17</td>     <th>  Log-Likelihood:    </th> <td> -2620.0</td>\n",
       "</tr>\n",
       "<tr>\n",
       "  <th>No. Observations:</th>      <td>   154</td>      <th>  AIC:               </th> <td>   5244.</td>\n",
       "</tr>\n",
       "<tr>\n",
       "  <th>Df Residuals:</th>          <td>   152</td>      <th>  BIC:               </th> <td>   5250.</td>\n",
       "</tr>\n",
       "<tr>\n",
       "  <th>Df Model:</th>              <td>     1</td>      <th>                     </th>     <td> </td>   \n",
       "</tr>\n",
       "<tr>\n",
       "  <th>Covariance Type:</th>      <td>nonrobust</td>    <th>                     </th>     <td> </td>   \n",
       "</tr>\n",
       "</table>\n",
       "<table class=\"simpletable\">\n",
       "<tr>\n",
       "      <td></td>         <th>coef</th>     <th>std err</th>      <th>t</th>      <th>P>|t|</th>  <th>[0.025</th>    <th>0.975]</th>  \n",
       "</tr>\n",
       "<tr>\n",
       "  <th>Intercept</th> <td>-4.813e+06</td> <td>  1.3e+06</td> <td>   -3.714</td> <td> 0.000</td> <td>-7.37e+06</td> <td>-2.25e+06</td>\n",
       "</tr>\n",
       "<tr>\n",
       "  <th>area</th>      <td> 1.671e+05</td> <td> 1.61e+04</td> <td>   10.385</td> <td> 0.000</td> <td> 1.35e+05</td> <td> 1.99e+05</td>\n",
       "</tr>\n",
       "</table>\n",
       "<table class=\"simpletable\">\n",
       "<tr>\n",
       "  <th>Omnibus:</th>       <td>29.331</td> <th>  Durbin-Watson:     </th> <td>   0.221</td>\n",
       "</tr>\n",
       "<tr>\n",
       "  <th>Prob(Omnibus):</th> <td> 0.000</td> <th>  Jarque-Bera (JB):  </th> <td>  52.948</td>\n",
       "</tr>\n",
       "<tr>\n",
       "  <th>Skew:</th>          <td> 0.900</td> <th>  Prob(JB):          </th> <td>3.18e-12</td>\n",
       "</tr>\n",
       "<tr>\n",
       "  <th>Kurtosis:</th>      <td> 5.239</td> <th>  Cond. No.          </th> <td>    217.</td>\n",
       "</tr>\n",
       "</table><br/><br/>Notes:<br/>[1] Standard Errors assume that the covariance matrix of the errors is correctly specified."
      ],
      "text/latex": [
       "\\begin{center}\n",
       "\\begin{tabular}{lclc}\n",
       "\\toprule\n",
       "\\textbf{Dep. Variable:}    &      price       & \\textbf{  R-squared:         } &     0.415   \\\\\n",
       "\\textbf{Model:}            &       OLS        & \\textbf{  Adj. R-squared:    } &     0.411   \\\\\n",
       "\\textbf{Method:}           &  Least Squares   & \\textbf{  F-statistic:       } &     107.8   \\\\\n",
       "\\textbf{Date:}             & Mon, 15 May 2023 & \\textbf{  Prob (F-statistic):} &  1.99e-19   \\\\\n",
       "\\textbf{Time:}             &     12:34:17     & \\textbf{  Log-Likelihood:    } &   -2620.0   \\\\\n",
       "\\textbf{No. Observations:} &         154      & \\textbf{  AIC:               } &     5244.   \\\\\n",
       "\\textbf{Df Residuals:}     &         152      & \\textbf{  BIC:               } &     5250.   \\\\\n",
       "\\textbf{Df Model:}         &           1      & \\textbf{                     } &             \\\\\n",
       "\\textbf{Covariance Type:}  &    nonrobust     & \\textbf{                     } &             \\\\\n",
       "\\bottomrule\n",
       "\\end{tabular}\n",
       "\\begin{tabular}{lcccccc}\n",
       "                   & \\textbf{coef} & \\textbf{std err} & \\textbf{t} & \\textbf{P$> |$t$|$} & \\textbf{[0.025} & \\textbf{0.975]}  \\\\\n",
       "\\midrule\n",
       "\\textbf{Intercept} &   -4.813e+06  &      1.3e+06     &    -3.714  &         0.000        &    -7.37e+06    &    -2.25e+06     \\\\\n",
       "\\textbf{area}      &    1.671e+05  &     1.61e+04     &    10.385  &         0.000        &     1.35e+05    &     1.99e+05     \\\\\n",
       "\\bottomrule\n",
       "\\end{tabular}\n",
       "\\begin{tabular}{lclc}\n",
       "\\textbf{Omnibus:}       & 29.331 & \\textbf{  Durbin-Watson:     } &    0.221  \\\\\n",
       "\\textbf{Prob(Omnibus):} &  0.000 & \\textbf{  Jarque-Bera (JB):  } &   52.948  \\\\\n",
       "\\textbf{Skew:}          &  0.900 & \\textbf{  Prob(JB):          } & 3.18e-12  \\\\\n",
       "\\textbf{Kurtosis:}      &  5.239 & \\textbf{  Cond. No.          } &     217.  \\\\\n",
       "\\bottomrule\n",
       "\\end{tabular}\n",
       "%\\caption{OLS Regression Results}\n",
       "\\end{center}\n",
       "\n",
       "Notes: \\newline\n",
       " [1] Standard Errors assume that the covariance matrix of the errors is correctly specified."
      ],
      "text/plain": [
       "<class 'statsmodels.iolib.summary.Summary'>\n",
       "\"\"\"\n",
       "                            OLS Regression Results                            \n",
       "==============================================================================\n",
       "Dep. Variable:                  price   R-squared:                       0.415\n",
       "Model:                            OLS   Adj. R-squared:                  0.411\n",
       "Method:                 Least Squares   F-statistic:                     107.8\n",
       "Date:                Mon, 15 May 2023   Prob (F-statistic):           1.99e-19\n",
       "Time:                        12:34:17   Log-Likelihood:                -2620.0\n",
       "No. Observations:                 154   AIC:                             5244.\n",
       "Df Residuals:                     152   BIC:                             5250.\n",
       "Df Model:                           1                                         \n",
       "Covariance Type:            nonrobust                                         \n",
       "==============================================================================\n",
       "                 coef    std err          t      P>|t|      [0.025      0.975]\n",
       "------------------------------------------------------------------------------\n",
       "Intercept  -4.813e+06    1.3e+06     -3.714      0.000   -7.37e+06   -2.25e+06\n",
       "area        1.671e+05   1.61e+04     10.385      0.000    1.35e+05    1.99e+05\n",
       "==============================================================================\n",
       "Omnibus:                       29.331   Durbin-Watson:                   0.221\n",
       "Prob(Omnibus):                  0.000   Jarque-Bera (JB):               52.948\n",
       "Skew:                           0.900   Prob(JB):                     3.18e-12\n",
       "Kurtosis:                       5.239   Cond. No.                         217.\n",
       "==============================================================================\n",
       "\n",
       "Notes:\n",
       "[1] Standard Errors assume that the covariance matrix of the errors is correctly specified.\n",
       "\"\"\""
      ]
     },
     "execution_count": 18,
     "metadata": {},
     "output_type": "execute_result"
    }
   ],
   "source": [
    "lm_HPRICE = smf.ols(formula='price ~ area', data=df1).fit()\n",
    "print(lm_HPRICE.params)\n",
    "lm_HPRICE.summary()"
   ]
  },
  {
   "cell_type": "code",
   "execution_count": 19,
   "metadata": {
    "colab": {
     "base_uri": "https://localhost:8080/",
     "height": 504
    },
    "id": "djZqv4tvAsVF",
    "outputId": "6640d28a-51e5-4a46-c12e-14720f778b29",
    "scrolled": true
   },
   "outputs": [
    {
     "name": "stdout",
     "output_type": "stream",
     "text": [
      "Intercept    14.174875\n",
      "area          0.018022\n",
      "dtype: float64\n"
     ]
    },
    {
     "data": {
      "text/html": [
       "<table class=\"simpletable\">\n",
       "<caption>OLS Regression Results</caption>\n",
       "<tr>\n",
       "  <th>Dep. Variable:</th>        <td>logprice</td>     <th>  R-squared:         </th> <td>   0.504</td>\n",
       "</tr>\n",
       "<tr>\n",
       "  <th>Model:</th>                   <td>OLS</td>       <th>  Adj. R-squared:    </th> <td>   0.501</td>\n",
       "</tr>\n",
       "<tr>\n",
       "  <th>Method:</th>             <td>Least Squares</td>  <th>  F-statistic:       </th> <td>   154.5</td>\n",
       "</tr>\n",
       "<tr>\n",
       "  <th>Date:</th>             <td>Mon, 15 May 2023</td> <th>  Prob (F-statistic):</th> <td>6.35e-25</td>\n",
       "</tr>\n",
       "<tr>\n",
       "  <th>Time:</th>                 <td>12:34:17</td>     <th>  Log-Likelihood:    </th> <td> -121.77</td>\n",
       "</tr>\n",
       "<tr>\n",
       "  <th>No. Observations:</th>      <td>   154</td>      <th>  AIC:               </th> <td>   247.5</td>\n",
       "</tr>\n",
       "<tr>\n",
       "  <th>Df Residuals:</th>          <td>   152</td>      <th>  BIC:               </th> <td>   253.6</td>\n",
       "</tr>\n",
       "<tr>\n",
       "  <th>Df Model:</th>              <td>     1</td>      <th>                     </th>     <td> </td>   \n",
       "</tr>\n",
       "<tr>\n",
       "  <th>Covariance Type:</th>      <td>nonrobust</td>    <th>                     </th>     <td> </td>   \n",
       "</tr>\n",
       "</table>\n",
       "<table class=\"simpletable\">\n",
       "<tr>\n",
       "      <td></td>         <th>coef</th>     <th>std err</th>      <th>t</th>      <th>P>|t|</th>  <th>[0.025</th>    <th>0.975]</th>  \n",
       "</tr>\n",
       "<tr>\n",
       "  <th>Intercept</th> <td>   14.1749</td> <td>    0.117</td> <td>  121.390</td> <td> 0.000</td> <td>   13.944</td> <td>   14.406</td>\n",
       "</tr>\n",
       "<tr>\n",
       "  <th>area</th>      <td>    0.0180</td> <td>    0.001</td> <td>   12.432</td> <td> 0.000</td> <td>    0.015</td> <td>    0.021</td>\n",
       "</tr>\n",
       "</table>\n",
       "<table class=\"simpletable\">\n",
       "<tr>\n",
       "  <th>Omnibus:</th>       <td> 0.055</td> <th>  Durbin-Watson:     </th> <td>   0.205</td>\n",
       "</tr>\n",
       "<tr>\n",
       "  <th>Prob(Omnibus):</th> <td> 0.973</td> <th>  Jarque-Bera (JB):  </th> <td>   0.016</td>\n",
       "</tr>\n",
       "<tr>\n",
       "  <th>Skew:</th>          <td> 0.022</td> <th>  Prob(JB):          </th> <td>   0.992</td>\n",
       "</tr>\n",
       "<tr>\n",
       "  <th>Kurtosis:</th>      <td> 2.976</td> <th>  Cond. No.          </th> <td>    217.</td>\n",
       "</tr>\n",
       "</table><br/><br/>Notes:<br/>[1] Standard Errors assume that the covariance matrix of the errors is correctly specified."
      ],
      "text/latex": [
       "\\begin{center}\n",
       "\\begin{tabular}{lclc}\n",
       "\\toprule\n",
       "\\textbf{Dep. Variable:}    &     logprice     & \\textbf{  R-squared:         } &     0.504   \\\\\n",
       "\\textbf{Model:}            &       OLS        & \\textbf{  Adj. R-squared:    } &     0.501   \\\\\n",
       "\\textbf{Method:}           &  Least Squares   & \\textbf{  F-statistic:       } &     154.5   \\\\\n",
       "\\textbf{Date:}             & Mon, 15 May 2023 & \\textbf{  Prob (F-statistic):} &  6.35e-25   \\\\\n",
       "\\textbf{Time:}             &     12:34:17     & \\textbf{  Log-Likelihood:    } &   -121.77   \\\\\n",
       "\\textbf{No. Observations:} &         154      & \\textbf{  AIC:               } &     247.5   \\\\\n",
       "\\textbf{Df Residuals:}     &         152      & \\textbf{  BIC:               } &     253.6   \\\\\n",
       "\\textbf{Df Model:}         &           1      & \\textbf{                     } &             \\\\\n",
       "\\textbf{Covariance Type:}  &    nonrobust     & \\textbf{                     } &             \\\\\n",
       "\\bottomrule\n",
       "\\end{tabular}\n",
       "\\begin{tabular}{lcccccc}\n",
       "                   & \\textbf{coef} & \\textbf{std err} & \\textbf{t} & \\textbf{P$> |$t$|$} & \\textbf{[0.025} & \\textbf{0.975]}  \\\\\n",
       "\\midrule\n",
       "\\textbf{Intercept} &      14.1749  &        0.117     &   121.390  &         0.000        &       13.944    &       14.406     \\\\\n",
       "\\textbf{area}      &       0.0180  &        0.001     &    12.432  &         0.000        &        0.015    &        0.021     \\\\\n",
       "\\bottomrule\n",
       "\\end{tabular}\n",
       "\\begin{tabular}{lclc}\n",
       "\\textbf{Omnibus:}       &  0.055 & \\textbf{  Durbin-Watson:     } &    0.205  \\\\\n",
       "\\textbf{Prob(Omnibus):} &  0.973 & \\textbf{  Jarque-Bera (JB):  } &    0.016  \\\\\n",
       "\\textbf{Skew:}          &  0.022 & \\textbf{  Prob(JB):          } &    0.992  \\\\\n",
       "\\textbf{Kurtosis:}      &  2.976 & \\textbf{  Cond. No.          } &     217.  \\\\\n",
       "\\bottomrule\n",
       "\\end{tabular}\n",
       "%\\caption{OLS Regression Results}\n",
       "\\end{center}\n",
       "\n",
       "Notes: \\newline\n",
       " [1] Standard Errors assume that the covariance matrix of the errors is correctly specified."
      ],
      "text/plain": [
       "<class 'statsmodels.iolib.summary.Summary'>\n",
       "\"\"\"\n",
       "                            OLS Regression Results                            \n",
       "==============================================================================\n",
       "Dep. Variable:               logprice   R-squared:                       0.504\n",
       "Model:                            OLS   Adj. R-squared:                  0.501\n",
       "Method:                 Least Squares   F-statistic:                     154.5\n",
       "Date:                Mon, 15 May 2023   Prob (F-statistic):           6.35e-25\n",
       "Time:                        12:34:17   Log-Likelihood:                -121.77\n",
       "No. Observations:                 154   AIC:                             247.5\n",
       "Df Residuals:                     152   BIC:                             253.6\n",
       "Df Model:                           1                                         \n",
       "Covariance Type:            nonrobust                                         \n",
       "==============================================================================\n",
       "                 coef    std err          t      P>|t|      [0.025      0.975]\n",
       "------------------------------------------------------------------------------\n",
       "Intercept     14.1749      0.117    121.390      0.000      13.944      14.406\n",
       "area           0.0180      0.001     12.432      0.000       0.015       0.021\n",
       "==============================================================================\n",
       "Omnibus:                        0.055   Durbin-Watson:                   0.205\n",
       "Prob(Omnibus):                  0.973   Jarque-Bera (JB):                0.016\n",
       "Skew:                           0.022   Prob(JB):                        0.992\n",
       "Kurtosis:                       2.976   Cond. No.                         217.\n",
       "==============================================================================\n",
       "\n",
       "Notes:\n",
       "[1] Standard Errors assume that the covariance matrix of the errors is correctly specified.\n",
       "\"\"\""
      ]
     },
     "execution_count": 19,
     "metadata": {},
     "output_type": "execute_result"
    }
   ],
   "source": [
    "lm_HPRICE1 = smf.ols(formula='logprice ~ area', data=df1).fit()\n",
    "print(lm_HPRICE1.params)\n",
    "lm_HPRICE1.summary()"
   ]
  },
  {
   "cell_type": "code",
   "execution_count": 20,
   "metadata": {
    "colab": {
     "base_uri": "https://localhost:8080/",
     "height": 504
    },
    "id": "jauPLtrEFm_v",
    "outputId": "dd6122fa-1ac2-4b08-f7ab-c52d2dd2e5f4",
    "scrolled": true
   },
   "outputs": [
    {
     "name": "stdout",
     "output_type": "stream",
     "text": [
      "Intercept    9.831349\n",
      "logarea      1.344195\n",
      "dtype: float64\n"
     ]
    },
    {
     "data": {
      "text/html": [
       "<table class=\"simpletable\">\n",
       "<caption>OLS Regression Results</caption>\n",
       "<tr>\n",
       "  <th>Dep. Variable:</th>        <td>logprice</td>     <th>  R-squared:         </th> <td>   0.524</td>\n",
       "</tr>\n",
       "<tr>\n",
       "  <th>Model:</th>                   <td>OLS</td>       <th>  Adj. R-squared:    </th> <td>   0.521</td>\n",
       "</tr>\n",
       "<tr>\n",
       "  <th>Method:</th>             <td>Least Squares</td>  <th>  F-statistic:       </th> <td>   167.1</td>\n",
       "</tr>\n",
       "<tr>\n",
       "  <th>Date:</th>             <td>Mon, 15 May 2023</td> <th>  Prob (F-statistic):</th> <td>2.92e-26</td>\n",
       "</tr>\n",
       "<tr>\n",
       "  <th>Time:</th>                 <td>12:34:17</td>     <th>  Log-Likelihood:    </th> <td> -118.67</td>\n",
       "</tr>\n",
       "<tr>\n",
       "  <th>No. Observations:</th>      <td>   154</td>      <th>  AIC:               </th> <td>   241.3</td>\n",
       "</tr>\n",
       "<tr>\n",
       "  <th>Df Residuals:</th>          <td>   152</td>      <th>  BIC:               </th> <td>   247.4</td>\n",
       "</tr>\n",
       "<tr>\n",
       "  <th>Df Model:</th>              <td>     1</td>      <th>                     </th>     <td> </td>   \n",
       "</tr>\n",
       "<tr>\n",
       "  <th>Covariance Type:</th>      <td>nonrobust</td>    <th>                     </th>     <td> </td>   \n",
       "</tr>\n",
       "</table>\n",
       "<table class=\"simpletable\">\n",
       "<tr>\n",
       "      <td></td>         <th>coef</th>     <th>std err</th>      <th>t</th>      <th>P>|t|</th>  <th>[0.025</th>    <th>0.975]</th>  \n",
       "</tr>\n",
       "<tr>\n",
       "  <th>Intercept</th> <td>    9.8313</td> <td>    0.442</td> <td>   22.228</td> <td> 0.000</td> <td>    8.958</td> <td>   10.705</td>\n",
       "</tr>\n",
       "<tr>\n",
       "  <th>logarea</th>   <td>    1.3442</td> <td>    0.104</td> <td>   12.928</td> <td> 0.000</td> <td>    1.139</td> <td>    1.550</td>\n",
       "</tr>\n",
       "</table>\n",
       "<table class=\"simpletable\">\n",
       "<tr>\n",
       "  <th>Omnibus:</th>       <td> 1.335</td> <th>  Durbin-Watson:     </th> <td>   0.174</td>\n",
       "</tr>\n",
       "<tr>\n",
       "  <th>Prob(Omnibus):</th> <td> 0.513</td> <th>  Jarque-Bera (JB):  </th> <td>   1.294</td>\n",
       "</tr>\n",
       "<tr>\n",
       "  <th>Skew:</th>          <td> 0.113</td> <th>  Prob(JB):          </th> <td>   0.524</td>\n",
       "</tr>\n",
       "<tr>\n",
       "  <th>Kurtosis:</th>      <td> 2.612</td> <th>  Cond. No.          </th> <td>    46.8</td>\n",
       "</tr>\n",
       "</table><br/><br/>Notes:<br/>[1] Standard Errors assume that the covariance matrix of the errors is correctly specified."
      ],
      "text/latex": [
       "\\begin{center}\n",
       "\\begin{tabular}{lclc}\n",
       "\\toprule\n",
       "\\textbf{Dep. Variable:}    &     logprice     & \\textbf{  R-squared:         } &     0.524   \\\\\n",
       "\\textbf{Model:}            &       OLS        & \\textbf{  Adj. R-squared:    } &     0.521   \\\\\n",
       "\\textbf{Method:}           &  Least Squares   & \\textbf{  F-statistic:       } &     167.1   \\\\\n",
       "\\textbf{Date:}             & Mon, 15 May 2023 & \\textbf{  Prob (F-statistic):} &  2.92e-26   \\\\\n",
       "\\textbf{Time:}             &     12:34:17     & \\textbf{  Log-Likelihood:    } &   -118.67   \\\\\n",
       "\\textbf{No. Observations:} &         154      & \\textbf{  AIC:               } &     241.3   \\\\\n",
       "\\textbf{Df Residuals:}     &         152      & \\textbf{  BIC:               } &     247.4   \\\\\n",
       "\\textbf{Df Model:}         &           1      & \\textbf{                     } &             \\\\\n",
       "\\textbf{Covariance Type:}  &    nonrobust     & \\textbf{                     } &             \\\\\n",
       "\\bottomrule\n",
       "\\end{tabular}\n",
       "\\begin{tabular}{lcccccc}\n",
       "                   & \\textbf{coef} & \\textbf{std err} & \\textbf{t} & \\textbf{P$> |$t$|$} & \\textbf{[0.025} & \\textbf{0.975]}  \\\\\n",
       "\\midrule\n",
       "\\textbf{Intercept} &       9.8313  &        0.442     &    22.228  &         0.000        &        8.958    &       10.705     \\\\\n",
       "\\textbf{logarea}   &       1.3442  &        0.104     &    12.928  &         0.000        &        1.139    &        1.550     \\\\\n",
       "\\bottomrule\n",
       "\\end{tabular}\n",
       "\\begin{tabular}{lclc}\n",
       "\\textbf{Omnibus:}       &  1.335 & \\textbf{  Durbin-Watson:     } &    0.174  \\\\\n",
       "\\textbf{Prob(Omnibus):} &  0.513 & \\textbf{  Jarque-Bera (JB):  } &    1.294  \\\\\n",
       "\\textbf{Skew:}          &  0.113 & \\textbf{  Prob(JB):          } &    0.524  \\\\\n",
       "\\textbf{Kurtosis:}      &  2.612 & \\textbf{  Cond. No.          } &     46.8  \\\\\n",
       "\\bottomrule\n",
       "\\end{tabular}\n",
       "%\\caption{OLS Regression Results}\n",
       "\\end{center}\n",
       "\n",
       "Notes: \\newline\n",
       " [1] Standard Errors assume that the covariance matrix of the errors is correctly specified."
      ],
      "text/plain": [
       "<class 'statsmodels.iolib.summary.Summary'>\n",
       "\"\"\"\n",
       "                            OLS Regression Results                            \n",
       "==============================================================================\n",
       "Dep. Variable:               logprice   R-squared:                       0.524\n",
       "Model:                            OLS   Adj. R-squared:                  0.521\n",
       "Method:                 Least Squares   F-statistic:                     167.1\n",
       "Date:                Mon, 15 May 2023   Prob (F-statistic):           2.92e-26\n",
       "Time:                        12:34:17   Log-Likelihood:                -118.67\n",
       "No. Observations:                 154   AIC:                             241.3\n",
       "Df Residuals:                     152   BIC:                             247.4\n",
       "Df Model:                           1                                         \n",
       "Covariance Type:            nonrobust                                         \n",
       "==============================================================================\n",
       "                 coef    std err          t      P>|t|      [0.025      0.975]\n",
       "------------------------------------------------------------------------------\n",
       "Intercept      9.8313      0.442     22.228      0.000       8.958      10.705\n",
       "logarea        1.3442      0.104     12.928      0.000       1.139       1.550\n",
       "==============================================================================\n",
       "Omnibus:                        1.335   Durbin-Watson:                   0.174\n",
       "Prob(Omnibus):                  0.513   Jarque-Bera (JB):                1.294\n",
       "Skew:                           0.113   Prob(JB):                        0.524\n",
       "Kurtosis:                       2.612   Cond. No.                         46.8\n",
       "==============================================================================\n",
       "\n",
       "Notes:\n",
       "[1] Standard Errors assume that the covariance matrix of the errors is correctly specified.\n",
       "\"\"\""
      ]
     },
     "execution_count": 20,
     "metadata": {},
     "output_type": "execute_result"
    }
   ],
   "source": [
    "lm_HPRICE2 = smf.ols(formula='logprice ~ logarea', data=df1).fit()\n",
    "print(lm_HPRICE2.params)\n",
    "lm_HPRICE2.summary()"
   ]
  },
  {
   "cell_type": "code",
   "execution_count": 21,
   "metadata": {
    "colab": {
     "base_uri": "https://localhost:8080/",
     "height": 296
    },
    "id": "vqZJwrGQq9H9",
    "outputId": "19c6b711-d6ef-4785-b727-be5382ddd4d8"
   },
   "outputs": [
    {
     "data": {
      "text/plain": [
       "<AxesSubplot: xlabel='logarea', ylabel='logprice'>"
      ]
     },
     "execution_count": 21,
     "metadata": {},
     "output_type": "execute_result"
    },
    {
     "data": {
      "image/png": "[encoded data removed]",
      "text/plain": [
       "<Figure size 640x480 with 1 Axes>"
      ]
     },
     "metadata": {},
     "output_type": "display_data"
    }
   ],
   "source": [
    "sns.scatterplot(data=df1, x='logarea', y='logprice', hue='rooms')"
   ]
  },
  {
   "cell_type": "code",
   "execution_count": 22,
   "metadata": {
    "colab": {
     "base_uri": "https://localhost:8080/",
     "height": 296
    },
    "id": "-1BCm-G0sm5r",
    "outputId": "281726a0-ccc8-4d89-88f5-afaac2346af9"
   },
   "outputs": [
    {
     "data": {
      "text/plain": [
       "<AxesSubplot: xlabel='numApartmentsTotal', ylabel='logprice'>"
      ]
     },
     "execution_count": 22,
     "metadata": {},
     "output_type": "execute_result"
    },
    {
     "data": {
      "image/png": "[encoded data removed]",
      "text/plain": [
       "<Figure size 640x480 with 1 Axes>"
      ]
     },
     "metadata": {},
     "output_type": "display_data"
    }
   ],
   "source": [
    "sns.scatterplot(data=df1, x='numApartmentsTotal', y='logprice')"
   ]
  },
  {
   "cell_type": "code",
   "execution_count": 23,
   "metadata": {
    "colab": {
     "base_uri": "https://localhost:8080/",
     "height": 296
    },
    "id": "sUyIObvTIIbn",
    "outputId": "fe445eb3-ff65-4e8a-b3c0-aaac877cb066"
   },
   "outputs": [
    {
     "data": {
      "text/plain": [
       "<AxesSubplot: xlabel='ceilingHeight', ylabel='logprice'>"
      ]
     },
     "execution_count": 23,
     "metadata": {},
     "output_type": "execute_result"
    },
    {
     "data": {
      "image/png": "[encoded data removed]",
      "text/plain": [
       "<Figure size 640x480 with 1 Axes>"
      ]
     },
     "metadata": {},
     "output_type": "display_data"
    }
   ],
   "source": [
    "sns.scatterplot(data=df1, x='ceilingHeight', y='logprice', hue='ceilingHeight')"
   ]
  },
  {
   "cell_type": "code",
   "execution_count": 24,
   "metadata": {
    "colab": {
     "base_uri": "https://localhost:8080/",
     "height": 296
    },
    "id": "YHBOnrhZ34ff",
    "outputId": "933f7b49-31a7-4ef4-b75b-1d4a056fdb6e"
   },
   "outputs": [
    {
     "data": {
      "text/plain": [
       "<AxesSubplot: xlabel='predictedClass', ylabel='logprice'>"
      ]
     },
     "execution_count": 24,
     "metadata": {},
     "output_type": "execute_result"
    },
    {
     "data": {
      "image/png": "[encoded data removed]",
      "text/plain": [
       "<Figure size 640x480 with 1 Axes>"
      ]
     },
     "metadata": {},
     "output_type": "display_data"
    }
   ],
   "source": [
    "sns.scatterplot(data=df1, x='predictedClass', y='logprice', hue='predictedClass')"
   ]
  },
  {
   "cell_type": "code",
   "execution_count": 25,
   "metadata": {
    "id": "DCg7G74NHzY8"
   },
   "outputs": [],
   "source": [
    "df1['predictedClass'] = df['predictedClass'].replace({'комфорт': 1, 'бізнес': 2, 'преміум': 3})\n"
   ]
  },
  {
   "cell_type": "code",
   "execution_count": 26,
   "metadata": {
    "colab": {
     "base_uri": "https://localhost:8080/",
     "height": 542
    },
    "id": "Iw95VG6quvbh",
    "outputId": "b8a21578-f327-4967-a9da-f1da6f042ba4"
   },
   "outputs": [
    {
     "name": "stdout",
     "output_type": "stream",
     "text": [
      "Intercept    8.364391\n",
      "logarea      1.829654\n",
      "rooms       -0.338253\n",
      "dtype: float64\n"
     ]
    },
    {
     "data": {
      "text/html": [
       "<table class=\"simpletable\">\n",
       "<caption>OLS Regression Results</caption>\n",
       "<tr>\n",
       "  <th>Dep. Variable:</th>        <td>logprice</td>     <th>  R-squared:         </th> <td>   0.579</td>\n",
       "</tr>\n",
       "<tr>\n",
       "  <th>Model:</th>                   <td>OLS</td>       <th>  Adj. R-squared:    </th> <td>   0.574</td>\n",
       "</tr>\n",
       "<tr>\n",
       "  <th>Method:</th>             <td>Least Squares</td>  <th>  F-statistic:       </th> <td>   103.9</td>\n",
       "</tr>\n",
       "<tr>\n",
       "  <th>Date:</th>             <td>Mon, 15 May 2023</td> <th>  Prob (F-statistic):</th> <td>4.19e-29</td>\n",
       "</tr>\n",
       "<tr>\n",
       "  <th>Time:</th>                 <td>12:34:18</td>     <th>  Log-Likelihood:    </th> <td> -109.14</td>\n",
       "</tr>\n",
       "<tr>\n",
       "  <th>No. Observations:</th>      <td>   154</td>      <th>  AIC:               </th> <td>   224.3</td>\n",
       "</tr>\n",
       "<tr>\n",
       "  <th>Df Residuals:</th>          <td>   151</td>      <th>  BIC:               </th> <td>   233.4</td>\n",
       "</tr>\n",
       "<tr>\n",
       "  <th>Df Model:</th>              <td>     2</td>      <th>                     </th>     <td> </td>   \n",
       "</tr>\n",
       "<tr>\n",
       "  <th>Covariance Type:</th>      <td>nonrobust</td>    <th>                     </th>     <td> </td>   \n",
       "</tr>\n",
       "</table>\n",
       "<table class=\"simpletable\">\n",
       "<tr>\n",
       "      <td></td>         <th>coef</th>     <th>std err</th>      <th>t</th>      <th>P>|t|</th>  <th>[0.025</th>    <th>0.975]</th>  \n",
       "</tr>\n",
       "<tr>\n",
       "  <th>Intercept</th> <td>    8.3644</td> <td>    0.531</td> <td>   15.745</td> <td> 0.000</td> <td>    7.315</td> <td>    9.414</td>\n",
       "</tr>\n",
       "<tr>\n",
       "  <th>logarea</th>   <td>    1.8297</td> <td>    0.147</td> <td>   12.488</td> <td> 0.000</td> <td>    1.540</td> <td>    2.119</td>\n",
       "</tr>\n",
       "<tr>\n",
       "  <th>rooms</th>     <td>   -0.3383</td> <td>    0.076</td> <td>   -4.459</td> <td> 0.000</td> <td>   -0.488</td> <td>   -0.188</td>\n",
       "</tr>\n",
       "</table>\n",
       "<table class=\"simpletable\">\n",
       "<tr>\n",
       "  <th>Omnibus:</th>       <td> 1.570</td> <th>  Durbin-Watson:     </th> <td>   0.239</td>\n",
       "</tr>\n",
       "<tr>\n",
       "  <th>Prob(Omnibus):</th> <td> 0.456</td> <th>  Jarque-Bera (JB):  </th> <td>   1.533</td>\n",
       "</tr>\n",
       "<tr>\n",
       "  <th>Skew:</th>          <td>-0.154</td> <th>  Prob(JB):          </th> <td>   0.465</td>\n",
       "</tr>\n",
       "<tr>\n",
       "  <th>Kurtosis:</th>      <td> 2.621</td> <th>  Cond. No.          </th> <td>    65.3</td>\n",
       "</tr>\n",
       "</table><br/><br/>Notes:<br/>[1] Standard Errors assume that the covariance matrix of the errors is correctly specified."
      ],
      "text/latex": [
       "\\begin{center}\n",
       "\\begin{tabular}{lclc}\n",
       "\\toprule\n",
       "\\textbf{Dep. Variable:}    &     logprice     & \\textbf{  R-squared:         } &     0.579   \\\\\n",
       "\\textbf{Model:}            &       OLS        & \\textbf{  Adj. R-squared:    } &     0.574   \\\\\n",
       "\\textbf{Method:}           &  Least Squares   & \\textbf{  F-statistic:       } &     103.9   \\\\\n",
       "\\textbf{Date:}             & Mon, 15 May 2023 & \\textbf{  Prob (F-statistic):} &  4.19e-29   \\\\\n",
       "\\textbf{Time:}             &     12:34:18     & \\textbf{  Log-Likelihood:    } &   -109.14   \\\\\n",
       "\\textbf{No. Observations:} &         154      & \\textbf{  AIC:               } &     224.3   \\\\\n",
       "\\textbf{Df Residuals:}     &         151      & \\textbf{  BIC:               } &     233.4   \\\\\n",
       "\\textbf{Df Model:}         &           2      & \\textbf{                     } &             \\\\\n",
       "\\textbf{Covariance Type:}  &    nonrobust     & \\textbf{                     } &             \\\\\n",
       "\\bottomrule\n",
       "\\end{tabular}\n",
       "\\begin{tabular}{lcccccc}\n",
       "                   & \\textbf{coef} & \\textbf{std err} & \\textbf{t} & \\textbf{P$> |$t$|$} & \\textbf{[0.025} & \\textbf{0.975]}  \\\\\n",
       "\\midrule\n",
       "\\textbf{Intercept} &       8.3644  &        0.531     &    15.745  &         0.000        &        7.315    &        9.414     \\\\\n",
       "\\textbf{logarea}   &       1.8297  &        0.147     &    12.488  &         0.000        &        1.540    &        2.119     \\\\\n",
       "\\textbf{rooms}     &      -0.3383  &        0.076     &    -4.459  &         0.000        &       -0.488    &       -0.188     \\\\\n",
       "\\bottomrule\n",
       "\\end{tabular}\n",
       "\\begin{tabular}{lclc}\n",
       "\\textbf{Omnibus:}       &  1.570 & \\textbf{  Durbin-Watson:     } &    0.239  \\\\\n",
       "\\textbf{Prob(Omnibus):} &  0.456 & \\textbf{  Jarque-Bera (JB):  } &    1.533  \\\\\n",
       "\\textbf{Skew:}          & -0.154 & \\textbf{  Prob(JB):          } &    0.465  \\\\\n",
       "\\textbf{Kurtosis:}      &  2.621 & \\textbf{  Cond. No.          } &     65.3  \\\\\n",
       "\\bottomrule\n",
       "\\end{tabular}\n",
       "%\\caption{OLS Regression Results}\n",
       "\\end{center}\n",
       "\n",
       "Notes: \\newline\n",
       " [1] Standard Errors assume that the covariance matrix of the errors is correctly specified."
      ],
      "text/plain": [
       "<class 'statsmodels.iolib.summary.Summary'>\n",
       "\"\"\"\n",
       "                            OLS Regression Results                            \n",
       "==============================================================================\n",
       "Dep. Variable:               logprice   R-squared:                       0.579\n",
       "Model:                            OLS   Adj. R-squared:                  0.574\n",
       "Method:                 Least Squares   F-statistic:                     103.9\n",
       "Date:                Mon, 15 May 2023   Prob (F-statistic):           4.19e-29\n",
       "Time:                        12:34:18   Log-Likelihood:                -109.14\n",
       "No. Observations:                 154   AIC:                             224.3\n",
       "Df Residuals:                     151   BIC:                             233.4\n",
       "Df Model:                           2                                         \n",
       "Covariance Type:            nonrobust                                         \n",
       "==============================================================================\n",
       "                 coef    std err          t      P>|t|      [0.025      0.975]\n",
       "------------------------------------------------------------------------------\n",
       "Intercept      8.3644      0.531     15.745      0.000       7.315       9.414\n",
       "logarea        1.8297      0.147     12.488      0.000       1.540       2.119\n",
       "rooms         -0.3383      0.076     -4.459      0.000      -0.488      -0.188\n",
       "==============================================================================\n",
       "Omnibus:                        1.570   Durbin-Watson:                   0.239\n",
       "Prob(Omnibus):                  0.456   Jarque-Bera (JB):                1.533\n",
       "Skew:                          -0.154   Prob(JB):                        0.465\n",
       "Kurtosis:                       2.621   Cond. No.                         65.3\n",
       "==============================================================================\n",
       "\n",
       "Notes:\n",
       "[1] Standard Errors assume that the covariance matrix of the errors is correctly specified.\n",
       "\"\"\""
      ]
     },
     "execution_count": 26,
     "metadata": {},
     "output_type": "execute_result"
    }
   ],
   "source": [
    "lm_HPRICE3 = smf.ols(formula='logprice ~ logarea + rooms', data=df1).fit()\n",
    "print(lm_HPRICE3.params)\n",
    "lm_HPRICE3.summary()"
   ]
  },
  {
   "cell_type": "code",
   "execution_count": 27,
   "metadata": {
    "colab": {
     "base_uri": "https://localhost:8080/",
     "height": 581
    },
    "id": "_I2J7vbqvRA1",
    "outputId": "cb09f513-4604-4898-b420-337aae6caf21"
   },
   "outputs": [
    {
     "name": "stdout",
     "output_type": "stream",
     "text": [
      "Intercept        8.779643\n",
      "logarea          1.166498\n",
      "rooms           -0.132521\n",
      "ceilingHeight    0.833386\n",
      "dtype: float64\n"
     ]
    },
    {
     "data": {
      "text/html": [
       "<table class=\"simpletable\">\n",
       "<caption>OLS Regression Results</caption>\n",
       "<tr>\n",
       "  <th>Dep. Variable:</th>        <td>logprice</td>     <th>  R-squared:         </th> <td>   0.818</td>\n",
       "</tr>\n",
       "<tr>\n",
       "  <th>Model:</th>                   <td>OLS</td>       <th>  Adj. R-squared:    </th> <td>   0.814</td>\n",
       "</tr>\n",
       "<tr>\n",
       "  <th>Method:</th>             <td>Least Squares</td>  <th>  F-statistic:       </th> <td>   224.3</td>\n",
       "</tr>\n",
       "<tr>\n",
       "  <th>Date:</th>             <td>Mon, 15 May 2023</td> <th>  Prob (F-statistic):</th> <td>3.17e-55</td>\n",
       "</tr>\n",
       "<tr>\n",
       "  <th>Time:</th>                 <td>12:34:18</td>     <th>  Log-Likelihood:    </th> <td> -44.704</td>\n",
       "</tr>\n",
       "<tr>\n",
       "  <th>No. Observations:</th>      <td>   154</td>      <th>  AIC:               </th> <td>   97.41</td>\n",
       "</tr>\n",
       "<tr>\n",
       "  <th>Df Residuals:</th>          <td>   150</td>      <th>  BIC:               </th> <td>   109.6</td>\n",
       "</tr>\n",
       "<tr>\n",
       "  <th>Df Model:</th>              <td>     3</td>      <th>                     </th>     <td> </td>   \n",
       "</tr>\n",
       "<tr>\n",
       "  <th>Covariance Type:</th>      <td>nonrobust</td>    <th>                     </th>     <td> </td>   \n",
       "</tr>\n",
       "</table>\n",
       "<table class=\"simpletable\">\n",
       "<tr>\n",
       "        <td></td>           <th>coef</th>     <th>std err</th>      <th>t</th>      <th>P>|t|</th>  <th>[0.025</th>    <th>0.975]</th>  \n",
       "</tr>\n",
       "<tr>\n",
       "  <th>Intercept</th>     <td>    8.7796</td> <td>    0.352</td> <td>   24.941</td> <td> 0.000</td> <td>    8.084</td> <td>    9.475</td>\n",
       "</tr>\n",
       "<tr>\n",
       "  <th>logarea</th>       <td>    1.1665</td> <td>    0.108</td> <td>   10.832</td> <td> 0.000</td> <td>    0.954</td> <td>    1.379</td>\n",
       "</tr>\n",
       "<tr>\n",
       "  <th>rooms</th>         <td>   -0.1325</td> <td>    0.052</td> <td>   -2.539</td> <td> 0.012</td> <td>   -0.236</td> <td>   -0.029</td>\n",
       "</tr>\n",
       "<tr>\n",
       "  <th>ceilingHeight</th> <td>    0.8334</td> <td>    0.059</td> <td>   14.013</td> <td> 0.000</td> <td>    0.716</td> <td>    0.951</td>\n",
       "</tr>\n",
       "</table>\n",
       "<table class=\"simpletable\">\n",
       "<tr>\n",
       "  <th>Omnibus:</th>       <td> 6.316</td> <th>  Durbin-Watson:     </th> <td>   0.157</td>\n",
       "</tr>\n",
       "<tr>\n",
       "  <th>Prob(Omnibus):</th> <td> 0.043</td> <th>  Jarque-Bera (JB):  </th> <td>   3.619</td>\n",
       "</tr>\n",
       "<tr>\n",
       "  <th>Skew:</th>          <td> 0.166</td> <th>  Prob(JB):          </th> <td>   0.164</td>\n",
       "</tr>\n",
       "<tr>\n",
       "  <th>Kurtosis:</th>      <td> 2.326</td> <th>  Cond. No.          </th> <td>    74.0</td>\n",
       "</tr>\n",
       "</table><br/><br/>Notes:<br/>[1] Standard Errors assume that the covariance matrix of the errors is correctly specified."
      ],
      "text/latex": [
       "\\begin{center}\n",
       "\\begin{tabular}{lclc}\n",
       "\\toprule\n",
       "\\textbf{Dep. Variable:}    &     logprice     & \\textbf{  R-squared:         } &     0.818   \\\\\n",
       "\\textbf{Model:}            &       OLS        & \\textbf{  Adj. R-squared:    } &     0.814   \\\\\n",
       "\\textbf{Method:}           &  Least Squares   & \\textbf{  F-statistic:       } &     224.3   \\\\\n",
       "\\textbf{Date:}             & Mon, 15 May 2023 & \\textbf{  Prob (F-statistic):} &  3.17e-55   \\\\\n",
       "\\textbf{Time:}             &     12:34:18     & \\textbf{  Log-Likelihood:    } &   -44.704   \\\\\n",
       "\\textbf{No. Observations:} &         154      & \\textbf{  AIC:               } &     97.41   \\\\\n",
       "\\textbf{Df Residuals:}     &         150      & \\textbf{  BIC:               } &     109.6   \\\\\n",
       "\\textbf{Df Model:}         &           3      & \\textbf{                     } &             \\\\\n",
       "\\textbf{Covariance Type:}  &    nonrobust     & \\textbf{                     } &             \\\\\n",
       "\\bottomrule\n",
       "\\end{tabular}\n",
       "\\begin{tabular}{lcccccc}\n",
       "                       & \\textbf{coef} & \\textbf{std err} & \\textbf{t} & \\textbf{P$> |$t$|$} & \\textbf{[0.025} & \\textbf{0.975]}  \\\\\n",
       "\\midrule\n",
       "\\textbf{Intercept}     &       8.7796  &        0.352     &    24.941  &         0.000        &        8.084    &        9.475     \\\\\n",
       "\\textbf{logarea}       &       1.1665  &        0.108     &    10.832  &         0.000        &        0.954    &        1.379     \\\\\n",
       "\\textbf{rooms}         &      -0.1325  &        0.052     &    -2.539  &         0.012        &       -0.236    &       -0.029     \\\\\n",
       "\\textbf{ceilingHeight} &       0.8334  &        0.059     &    14.013  &         0.000        &        0.716    &        0.951     \\\\\n",
       "\\bottomrule\n",
       "\\end{tabular}\n",
       "\\begin{tabular}{lclc}\n",
       "\\textbf{Omnibus:}       &  6.316 & \\textbf{  Durbin-Watson:     } &    0.157  \\\\\n",
       "\\textbf{Prob(Omnibus):} &  0.043 & \\textbf{  Jarque-Bera (JB):  } &    3.619  \\\\\n",
       "\\textbf{Skew:}          &  0.166 & \\textbf{  Prob(JB):          } &    0.164  \\\\\n",
       "\\textbf{Kurtosis:}      &  2.326 & \\textbf{  Cond. No.          } &     74.0  \\\\\n",
       "\\bottomrule\n",
       "\\end{tabular}\n",
       "%\\caption{OLS Regression Results}\n",
       "\\end{center}\n",
       "\n",
       "Notes: \\newline\n",
       " [1] Standard Errors assume that the covariance matrix of the errors is correctly specified."
      ],
      "text/plain": [
       "<class 'statsmodels.iolib.summary.Summary'>\n",
       "\"\"\"\n",
       "                            OLS Regression Results                            \n",
       "==============================================================================\n",
       "Dep. Variable:               logprice   R-squared:                       0.818\n",
       "Model:                            OLS   Adj. R-squared:                  0.814\n",
       "Method:                 Least Squares   F-statistic:                     224.3\n",
       "Date:                Mon, 15 May 2023   Prob (F-statistic):           3.17e-55\n",
       "Time:                        12:34:18   Log-Likelihood:                -44.704\n",
       "No. Observations:                 154   AIC:                             97.41\n",
       "Df Residuals:                     150   BIC:                             109.6\n",
       "Df Model:                           3                                         \n",
       "Covariance Type:            nonrobust                                         \n",
       "=================================================================================\n",
       "                    coef    std err          t      P>|t|      [0.025      0.975]\n",
       "---------------------------------------------------------------------------------\n",
       "Intercept         8.7796      0.352     24.941      0.000       8.084       9.475\n",
       "logarea           1.1665      0.108     10.832      0.000       0.954       1.379\n",
       "rooms            -0.1325      0.052     -2.539      0.012      -0.236      -0.029\n",
       "ceilingHeight     0.8334      0.059     14.013      0.000       0.716       0.951\n",
       "==============================================================================\n",
       "Omnibus:                        6.316   Durbin-Watson:                   0.157\n",
       "Prob(Omnibus):                  0.043   Jarque-Bera (JB):                3.619\n",
       "Skew:                           0.166   Prob(JB):                        0.164\n",
       "Kurtosis:                       2.326   Cond. No.                         74.0\n",
       "==============================================================================\n",
       "\n",
       "Notes:\n",
       "[1] Standard Errors assume that the covariance matrix of the errors is correctly specified.\n",
       "\"\"\""
      ]
     },
     "execution_count": 27,
     "metadata": {},
     "output_type": "execute_result"
    }
   ],
   "source": [
    "lm_HPRICE4 = smf.ols(formula='logprice ~ logarea + rooms + ceilingHeight', data=df1).fit()\n",
    "print(lm_HPRICE4.params)\n",
    "lm_HPRICE4.summary()"
   ]
  },
  {
   "cell_type": "code",
   "execution_count": 28,
   "metadata": {
    "colab": {
     "base_uri": "https://localhost:8080/",
     "height": 655
    },
    "id": "LvBzcCoivmO6",
    "outputId": "cc3a70da-f2fb-419c-a6c5-f903d35fa1e8"
   },
   "outputs": [
    {
     "name": "stdout",
     "output_type": "stream",
     "text": [
      "Intercept             7.775261\n",
      "logarea               1.297873\n",
      "rooms                -0.178289\n",
      "ceilingHeight         0.993451\n",
      "numApartmentsTotal    0.000076\n",
      "dtype: float64\n"
     ]
    },
    {
     "data": {
      "text/html": [
       "<table class=\"simpletable\">\n",
       "<caption>OLS Regression Results</caption>\n",
       "<tr>\n",
       "  <th>Dep. Variable:</th>        <td>logprice</td>     <th>  R-squared:         </th> <td>   0.828</td>\n",
       "</tr>\n",
       "<tr>\n",
       "  <th>Model:</th>                   <td>OLS</td>       <th>  Adj. R-squared:    </th> <td>   0.823</td>\n",
       "</tr>\n",
       "<tr>\n",
       "  <th>Method:</th>             <td>Least Squares</td>  <th>  F-statistic:       </th> <td>   179.1</td>\n",
       "</tr>\n",
       "<tr>\n",
       "  <th>Date:</th>             <td>Mon, 15 May 2023</td> <th>  Prob (F-statistic):</th> <td>7.44e-56</td>\n",
       "</tr>\n",
       "<tr>\n",
       "  <th>Time:</th>                 <td>12:34:18</td>     <th>  Log-Likelihood:    </th> <td> -40.308</td>\n",
       "</tr>\n",
       "<tr>\n",
       "  <th>No. Observations:</th>      <td>   154</td>      <th>  AIC:               </th> <td>   90.62</td>\n",
       "</tr>\n",
       "<tr>\n",
       "  <th>Df Residuals:</th>          <td>   149</td>      <th>  BIC:               </th> <td>   105.8</td>\n",
       "</tr>\n",
       "<tr>\n",
       "  <th>Df Model:</th>              <td>     4</td>      <th>                     </th>     <td> </td>   \n",
       "</tr>\n",
       "<tr>\n",
       "  <th>Covariance Type:</th>      <td>nonrobust</td>    <th>                     </th>     <td> </td>   \n",
       "</tr>\n",
       "</table>\n",
       "<table class=\"simpletable\">\n",
       "<tr>\n",
       "           <td></td>             <th>coef</th>     <th>std err</th>      <th>t</th>      <th>P>|t|</th>  <th>[0.025</th>    <th>0.975]</th>  \n",
       "</tr>\n",
       "<tr>\n",
       "  <th>Intercept</th>          <td>    7.7753</td> <td>    0.483</td> <td>   16.106</td> <td> 0.000</td> <td>    6.821</td> <td>    8.729</td>\n",
       "</tr>\n",
       "<tr>\n",
       "  <th>logarea</th>            <td>    1.2979</td> <td>    0.114</td> <td>   11.383</td> <td> 0.000</td> <td>    1.073</td> <td>    1.523</td>\n",
       "</tr>\n",
       "<tr>\n",
       "  <th>rooms</th>              <td>   -0.1783</td> <td>    0.053</td> <td>   -3.352</td> <td> 0.001</td> <td>   -0.283</td> <td>   -0.073</td>\n",
       "</tr>\n",
       "<tr>\n",
       "  <th>ceilingHeight</th>      <td>    0.9935</td> <td>    0.079</td> <td>   12.526</td> <td> 0.000</td> <td>    0.837</td> <td>    1.150</td>\n",
       "</tr>\n",
       "<tr>\n",
       "  <th>numApartmentsTotal</th> <td>  7.62e-05</td> <td> 2.58e-05</td> <td>    2.959</td> <td> 0.004</td> <td> 2.53e-05</td> <td>    0.000</td>\n",
       "</tr>\n",
       "</table>\n",
       "<table class=\"simpletable\">\n",
       "<tr>\n",
       "  <th>Omnibus:</th>       <td> 3.847</td> <th>  Durbin-Watson:     </th> <td>   0.168</td>\n",
       "</tr>\n",
       "<tr>\n",
       "  <th>Prob(Omnibus):</th> <td> 0.146</td> <th>  Jarque-Bera (JB):  </th> <td>   3.120</td>\n",
       "</tr>\n",
       "<tr>\n",
       "  <th>Skew:</th>          <td> 0.236</td> <th>  Prob(JB):          </th> <td>   0.210</td>\n",
       "</tr>\n",
       "<tr>\n",
       "  <th>Kurtosis:</th>      <td> 2.487</td> <th>  Cond. No.          </th> <td>4.70e+04</td>\n",
       "</tr>\n",
       "</table><br/><br/>Notes:<br/>[1] Standard Errors assume that the covariance matrix of the errors is correctly specified.<br/>[2] The condition number is large, 4.7e+04. This might indicate that there are<br/>strong multicollinearity or other numerical problems."
      ],
      "text/latex": [
       "\\begin{center}\n",
       "\\begin{tabular}{lclc}\n",
       "\\toprule\n",
       "\\textbf{Dep. Variable:}     &     logprice     & \\textbf{  R-squared:         } &     0.828   \\\\\n",
       "\\textbf{Model:}             &       OLS        & \\textbf{  Adj. R-squared:    } &     0.823   \\\\\n",
       "\\textbf{Method:}            &  Least Squares   & \\textbf{  F-statistic:       } &     179.1   \\\\\n",
       "\\textbf{Date:}              & Mon, 15 May 2023 & \\textbf{  Prob (F-statistic):} &  7.44e-56   \\\\\n",
       "\\textbf{Time:}              &     12:34:18     & \\textbf{  Log-Likelihood:    } &   -40.308   \\\\\n",
       "\\textbf{No. Observations:}  &         154      & \\textbf{  AIC:               } &     90.62   \\\\\n",
       "\\textbf{Df Residuals:}      &         149      & \\textbf{  BIC:               } &     105.8   \\\\\n",
       "\\textbf{Df Model:}          &           4      & \\textbf{                     } &             \\\\\n",
       "\\textbf{Covariance Type:}   &    nonrobust     & \\textbf{                     } &             \\\\\n",
       "\\bottomrule\n",
       "\\end{tabular}\n",
       "\\begin{tabular}{lcccccc}\n",
       "                            & \\textbf{coef} & \\textbf{std err} & \\textbf{t} & \\textbf{P$> |$t$|$} & \\textbf{[0.025} & \\textbf{0.975]}  \\\\\n",
       "\\midrule\n",
       "\\textbf{Intercept}          &       7.7753  &        0.483     &    16.106  &         0.000        &        6.821    &        8.729     \\\\\n",
       "\\textbf{logarea}            &       1.2979  &        0.114     &    11.383  &         0.000        &        1.073    &        1.523     \\\\\n",
       "\\textbf{rooms}              &      -0.1783  &        0.053     &    -3.352  &         0.001        &       -0.283    &       -0.073     \\\\\n",
       "\\textbf{ceilingHeight}      &       0.9935  &        0.079     &    12.526  &         0.000        &        0.837    &        1.150     \\\\\n",
       "\\textbf{numApartmentsTotal} &     7.62e-05  &     2.58e-05     &     2.959  &         0.004        &     2.53e-05    &        0.000     \\\\\n",
       "\\bottomrule\n",
       "\\end{tabular}\n",
       "\\begin{tabular}{lclc}\n",
       "\\textbf{Omnibus:}       &  3.847 & \\textbf{  Durbin-Watson:     } &    0.168  \\\\\n",
       "\\textbf{Prob(Omnibus):} &  0.146 & \\textbf{  Jarque-Bera (JB):  } &    3.120  \\\\\n",
       "\\textbf{Skew:}          &  0.236 & \\textbf{  Prob(JB):          } &    0.210  \\\\\n",
       "\\textbf{Kurtosis:}      &  2.487 & \\textbf{  Cond. No.          } & 4.70e+04  \\\\\n",
       "\\bottomrule\n",
       "\\end{tabular}\n",
       "%\\caption{OLS Regression Results}\n",
       "\\end{center}\n",
       "\n",
       "Notes: \\newline\n",
       " [1] Standard Errors assume that the covariance matrix of the errors is correctly specified. \\newline\n",
       " [2] The condition number is large, 4.7e+04. This might indicate that there are \\newline\n",
       " strong multicollinearity or other numerical problems."
      ],
      "text/plain": [
       "<class 'statsmodels.iolib.summary.Summary'>\n",
       "\"\"\"\n",
       "                            OLS Regression Results                            \n",
       "==============================================================================\n",
       "Dep. Variable:               logprice   R-squared:                       0.828\n",
       "Model:                            OLS   Adj. R-squared:                  0.823\n",
       "Method:                 Least Squares   F-statistic:                     179.1\n",
       "Date:                Mon, 15 May 2023   Prob (F-statistic):           7.44e-56\n",
       "Time:                        12:34:18   Log-Likelihood:                -40.308\n",
       "No. Observations:                 154   AIC:                             90.62\n",
       "Df Residuals:                     149   BIC:                             105.8\n",
       "Df Model:                           4                                         \n",
       "Covariance Type:            nonrobust                                         \n",
       "======================================================================================\n",
       "                         coef    std err          t      P>|t|      [0.025      0.975]\n",
       "--------------------------------------------------------------------------------------\n",
       "Intercept              7.7753      0.483     16.106      0.000       6.821       8.729\n",
       "logarea                1.2979      0.114     11.383      0.000       1.073       1.523\n",
       "rooms                 -0.1783      0.053     -3.352      0.001      -0.283      -0.073\n",
       "ceilingHeight          0.9935      0.079     12.526      0.000       0.837       1.150\n",
       "numApartmentsTotal   7.62e-05   2.58e-05      2.959      0.004    2.53e-05       0.000\n",
       "==============================================================================\n",
       "Omnibus:                        3.847   Durbin-Watson:                   0.168\n",
       "Prob(Omnibus):                  0.146   Jarque-Bera (JB):                3.120\n",
       "Skew:                           0.236   Prob(JB):                        0.210\n",
       "Kurtosis:                       2.487   Cond. No.                     4.70e+04\n",
       "==============================================================================\n",
       "\n",
       "Notes:\n",
       "[1] Standard Errors assume that the covariance matrix of the errors is correctly specified.\n",
       "[2] The condition number is large, 4.7e+04. This might indicate that there are\n",
       "strong multicollinearity or other numerical problems.\n",
       "\"\"\""
      ]
     },
     "execution_count": 28,
     "metadata": {},
     "output_type": "execute_result"
    }
   ],
   "source": [
    "lm_HPRICE5 = smf.ols(formula='logprice ~ logarea + rooms + ceilingHeight + numApartmentsTotal', data=df1).fit()\n",
    "print(lm_HPRICE5.params)\n",
    "lm_HPRICE5.summary()"
   ]
  },
  {
   "cell_type": "code",
   "execution_count": 29,
   "metadata": {
    "colab": {
     "base_uri": "https://localhost:8080/",
     "height": 655
    },
    "id": "zsmayZxbzpkq",
    "outputId": "fff69b69-e318-4c4c-cd92-e0b440550574"
   },
   "outputs": [
    {
     "name": "stdout",
     "output_type": "stream",
     "text": [
      "Intercept             7.775261\n",
      "logarea               1.297873\n",
      "rooms                -0.178289\n",
      "ceilingHeight         0.993451\n",
      "numApartmentsTotal    0.000076\n",
      "dtype: float64\n"
     ]
    },
    {
     "data": {
      "text/html": [
       "<table class=\"simpletable\">\n",
       "<caption>OLS Regression Results</caption>\n",
       "<tr>\n",
       "  <th>Dep. Variable:</th>        <td>logprice</td>     <th>  R-squared:         </th> <td>   0.828</td>\n",
       "</tr>\n",
       "<tr>\n",
       "  <th>Model:</th>                   <td>OLS</td>       <th>  Adj. R-squared:    </th> <td>   0.823</td>\n",
       "</tr>\n",
       "<tr>\n",
       "  <th>Method:</th>             <td>Least Squares</td>  <th>  F-statistic:       </th> <td>   179.1</td>\n",
       "</tr>\n",
       "<tr>\n",
       "  <th>Date:</th>             <td>Mon, 15 May 2023</td> <th>  Prob (F-statistic):</th> <td>7.44e-56</td>\n",
       "</tr>\n",
       "<tr>\n",
       "  <th>Time:</th>                 <td>12:34:18</td>     <th>  Log-Likelihood:    </th> <td> -40.308</td>\n",
       "</tr>\n",
       "<tr>\n",
       "  <th>No. Observations:</th>      <td>   154</td>      <th>  AIC:               </th> <td>   90.62</td>\n",
       "</tr>\n",
       "<tr>\n",
       "  <th>Df Residuals:</th>          <td>   149</td>      <th>  BIC:               </th> <td>   105.8</td>\n",
       "</tr>\n",
       "<tr>\n",
       "  <th>Df Model:</th>              <td>     4</td>      <th>                     </th>     <td> </td>   \n",
       "</tr>\n",
       "<tr>\n",
       "  <th>Covariance Type:</th>      <td>nonrobust</td>    <th>                     </th>     <td> </td>   \n",
       "</tr>\n",
       "</table>\n",
       "<table class=\"simpletable\">\n",
       "<tr>\n",
       "           <td></td>             <th>coef</th>     <th>std err</th>      <th>t</th>      <th>P>|t|</th>  <th>[0.025</th>    <th>0.975]</th>  \n",
       "</tr>\n",
       "<tr>\n",
       "  <th>Intercept</th>          <td>    7.7753</td> <td>    0.483</td> <td>   16.106</td> <td> 0.000</td> <td>    6.821</td> <td>    8.729</td>\n",
       "</tr>\n",
       "<tr>\n",
       "  <th>logarea</th>            <td>    1.2979</td> <td>    0.114</td> <td>   11.383</td> <td> 0.000</td> <td>    1.073</td> <td>    1.523</td>\n",
       "</tr>\n",
       "<tr>\n",
       "  <th>rooms</th>              <td>   -0.1783</td> <td>    0.053</td> <td>   -3.352</td> <td> 0.001</td> <td>   -0.283</td> <td>   -0.073</td>\n",
       "</tr>\n",
       "<tr>\n",
       "  <th>ceilingHeight</th>      <td>    0.9935</td> <td>    0.079</td> <td>   12.526</td> <td> 0.000</td> <td>    0.837</td> <td>    1.150</td>\n",
       "</tr>\n",
       "<tr>\n",
       "  <th>numApartmentsTotal</th> <td>  7.62e-05</td> <td> 2.58e-05</td> <td>    2.959</td> <td> 0.004</td> <td> 2.53e-05</td> <td>    0.000</td>\n",
       "</tr>\n",
       "</table>\n",
       "<table class=\"simpletable\">\n",
       "<tr>\n",
       "  <th>Omnibus:</th>       <td> 3.847</td> <th>  Durbin-Watson:     </th> <td>   0.168</td>\n",
       "</tr>\n",
       "<tr>\n",
       "  <th>Prob(Omnibus):</th> <td> 0.146</td> <th>  Jarque-Bera (JB):  </th> <td>   3.120</td>\n",
       "</tr>\n",
       "<tr>\n",
       "  <th>Skew:</th>          <td> 0.236</td> <th>  Prob(JB):          </th> <td>   0.210</td>\n",
       "</tr>\n",
       "<tr>\n",
       "  <th>Kurtosis:</th>      <td> 2.487</td> <th>  Cond. No.          </th> <td>4.70e+04</td>\n",
       "</tr>\n",
       "</table><br/><br/>Notes:<br/>[1] Standard Errors assume that the covariance matrix of the errors is correctly specified.<br/>[2] The condition number is large, 4.7e+04. This might indicate that there are<br/>strong multicollinearity or other numerical problems."
      ],
      "text/latex": [
       "\\begin{center}\n",
       "\\begin{tabular}{lclc}\n",
       "\\toprule\n",
       "\\textbf{Dep. Variable:}     &     logprice     & \\textbf{  R-squared:         } &     0.828   \\\\\n",
       "\\textbf{Model:}             &       OLS        & \\textbf{  Adj. R-squared:    } &     0.823   \\\\\n",
       "\\textbf{Method:}            &  Least Squares   & \\textbf{  F-statistic:       } &     179.1   \\\\\n",
       "\\textbf{Date:}              & Mon, 15 May 2023 & \\textbf{  Prob (F-statistic):} &  7.44e-56   \\\\\n",
       "\\textbf{Time:}              &     12:34:18     & \\textbf{  Log-Likelihood:    } &   -40.308   \\\\\n",
       "\\textbf{No. Observations:}  &         154      & \\textbf{  AIC:               } &     90.62   \\\\\n",
       "\\textbf{Df Residuals:}      &         149      & \\textbf{  BIC:               } &     105.8   \\\\\n",
       "\\textbf{Df Model:}          &           4      & \\textbf{                     } &             \\\\\n",
       "\\textbf{Covariance Type:}   &    nonrobust     & \\textbf{                     } &             \\\\\n",
       "\\bottomrule\n",
       "\\end{tabular}\n",
       "\\begin{tabular}{lcccccc}\n",
       "                            & \\textbf{coef} & \\textbf{std err} & \\textbf{t} & \\textbf{P$> |$t$|$} & \\textbf{[0.025} & \\textbf{0.975]}  \\\\\n",
       "\\midrule\n",
       "\\textbf{Intercept}          &       7.7753  &        0.483     &    16.106  &         0.000        &        6.821    &        8.729     \\\\\n",
       "\\textbf{logarea}            &       1.2979  &        0.114     &    11.383  &         0.000        &        1.073    &        1.523     \\\\\n",
       "\\textbf{rooms}              &      -0.1783  &        0.053     &    -3.352  &         0.001        &       -0.283    &       -0.073     \\\\\n",
       "\\textbf{ceilingHeight}      &       0.9935  &        0.079     &    12.526  &         0.000        &        0.837    &        1.150     \\\\\n",
       "\\textbf{numApartmentsTotal} &     7.62e-05  &     2.58e-05     &     2.959  &         0.004        &     2.53e-05    &        0.000     \\\\\n",
       "\\bottomrule\n",
       "\\end{tabular}\n",
       "\\begin{tabular}{lclc}\n",
       "\\textbf{Omnibus:}       &  3.847 & \\textbf{  Durbin-Watson:     } &    0.168  \\\\\n",
       "\\textbf{Prob(Omnibus):} &  0.146 & \\textbf{  Jarque-Bera (JB):  } &    3.120  \\\\\n",
       "\\textbf{Skew:}          &  0.236 & \\textbf{  Prob(JB):          } &    0.210  \\\\\n",
       "\\textbf{Kurtosis:}      &  2.487 & \\textbf{  Cond. No.          } & 4.70e+04  \\\\\n",
       "\\bottomrule\n",
       "\\end{tabular}\n",
       "%\\caption{OLS Regression Results}\n",
       "\\end{center}\n",
       "\n",
       "Notes: \\newline\n",
       " [1] Standard Errors assume that the covariance matrix of the errors is correctly specified. \\newline\n",
       " [2] The condition number is large, 4.7e+04. This might indicate that there are \\newline\n",
       " strong multicollinearity or other numerical problems."
      ],
      "text/plain": [
       "<class 'statsmodels.iolib.summary.Summary'>\n",
       "\"\"\"\n",
       "                            OLS Regression Results                            \n",
       "==============================================================================\n",
       "Dep. Variable:               logprice   R-squared:                       0.828\n",
       "Model:                            OLS   Adj. R-squared:                  0.823\n",
       "Method:                 Least Squares   F-statistic:                     179.1\n",
       "Date:                Mon, 15 May 2023   Prob (F-statistic):           7.44e-56\n",
       "Time:                        12:34:18   Log-Likelihood:                -40.308\n",
       "No. Observations:                 154   AIC:                             90.62\n",
       "Df Residuals:                     149   BIC:                             105.8\n",
       "Df Model:                           4                                         \n",
       "Covariance Type:            nonrobust                                         \n",
       "======================================================================================\n",
       "                         coef    std err          t      P>|t|      [0.025      0.975]\n",
       "--------------------------------------------------------------------------------------\n",
       "Intercept              7.7753      0.483     16.106      0.000       6.821       8.729\n",
       "logarea                1.2979      0.114     11.383      0.000       1.073       1.523\n",
       "rooms                 -0.1783      0.053     -3.352      0.001      -0.283      -0.073\n",
       "ceilingHeight          0.9935      0.079     12.526      0.000       0.837       1.150\n",
       "numApartmentsTotal   7.62e-05   2.58e-05      2.959      0.004    2.53e-05       0.000\n",
       "==============================================================================\n",
       "Omnibus:                        3.847   Durbin-Watson:                   0.168\n",
       "Prob(Omnibus):                  0.146   Jarque-Bera (JB):                3.120\n",
       "Skew:                           0.236   Prob(JB):                        0.210\n",
       "Kurtosis:                       2.487   Cond. No.                     4.70e+04\n",
       "==============================================================================\n",
       "\n",
       "Notes:\n",
       "[1] Standard Errors assume that the covariance matrix of the errors is correctly specified.\n",
       "[2] The condition number is large, 4.7e+04. This might indicate that there are\n",
       "strong multicollinearity or other numerical problems.\n",
       "\"\"\""
      ]
     },
     "execution_count": 29,
     "metadata": {},
     "output_type": "execute_result"
    }
   ],
   "source": [
    "lm_HPRICE5 = smf.ols(formula='logprice ~ logarea + rooms + ceilingHeight + numApartmentsTotal', data=df1).fit()\n",
    "print(lm_HPRICE5.params)\n",
    "lm_HPRICE5.summary()"
   ]
  },
  {
   "cell_type": "code",
   "execution_count": 30,
   "metadata": {
    "colab": {
     "base_uri": "https://localhost:8080/",
     "height": 693
    },
    "id": "hSCgYAOR50Tz",
    "outputId": "f764cc88-2d8e-4813-beb3-0a36146b340a"
   },
   "outputs": [
    {
     "name": "stdout",
     "output_type": "stream",
     "text": [
      "Intercept             8.008694\n",
      "logarea               1.271497\n",
      "rooms                -0.171390\n",
      "ceilingHeight         0.964984\n",
      "numApartmentsTotal    0.000068\n",
      "floor                -0.004311\n",
      "dtype: float64\n"
     ]
    },
    {
     "data": {
      "text/html": [
       "<table class=\"simpletable\">\n",
       "<caption>OLS Regression Results</caption>\n",
       "<tr>\n",
       "  <th>Dep. Variable:</th>        <td>logprice</td>     <th>  R-squared:         </th> <td>   0.822</td>\n",
       "</tr>\n",
       "<tr>\n",
       "  <th>Model:</th>                   <td>OLS</td>       <th>  Adj. R-squared:    </th> <td>   0.816</td>\n",
       "</tr>\n",
       "<tr>\n",
       "  <th>Method:</th>             <td>Least Squares</td>  <th>  F-statistic:       </th> <td>   129.7</td>\n",
       "</tr>\n",
       "<tr>\n",
       "  <th>Date:</th>             <td>Mon, 15 May 2023</td> <th>  Prob (F-statistic):</th> <td>9.43e-51</td>\n",
       "</tr>\n",
       "<tr>\n",
       "  <th>Time:</th>                 <td>12:34:18</td>     <th>  Log-Likelihood:    </th> <td> -40.363</td>\n",
       "</tr>\n",
       "<tr>\n",
       "  <th>No. Observations:</th>      <td>   146</td>      <th>  AIC:               </th> <td>   92.73</td>\n",
       "</tr>\n",
       "<tr>\n",
       "  <th>Df Residuals:</th>          <td>   140</td>      <th>  BIC:               </th> <td>   110.6</td>\n",
       "</tr>\n",
       "<tr>\n",
       "  <th>Df Model:</th>              <td>     5</td>      <th>                     </th>     <td> </td>   \n",
       "</tr>\n",
       "<tr>\n",
       "  <th>Covariance Type:</th>      <td>nonrobust</td>    <th>                     </th>     <td> </td>   \n",
       "</tr>\n",
       "</table>\n",
       "<table class=\"simpletable\">\n",
       "<tr>\n",
       "           <td></td>             <th>coef</th>     <th>std err</th>      <th>t</th>      <th>P>|t|</th>  <th>[0.025</th>    <th>0.975]</th>  \n",
       "</tr>\n",
       "<tr>\n",
       "  <th>Intercept</th>          <td>    8.0087</td> <td>    0.577</td> <td>   13.874</td> <td> 0.000</td> <td>    6.867</td> <td>    9.150</td>\n",
       "</tr>\n",
       "<tr>\n",
       "  <th>logarea</th>            <td>    1.2715</td> <td>    0.120</td> <td>   10.573</td> <td> 0.000</td> <td>    1.034</td> <td>    1.509</td>\n",
       "</tr>\n",
       "<tr>\n",
       "  <th>rooms</th>              <td>   -0.1714</td> <td>    0.055</td> <td>   -3.104</td> <td> 0.002</td> <td>   -0.281</td> <td>   -0.062</td>\n",
       "</tr>\n",
       "<tr>\n",
       "  <th>ceilingHeight</th>      <td>    0.9650</td> <td>    0.095</td> <td>   10.149</td> <td> 0.000</td> <td>    0.777</td> <td>    1.153</td>\n",
       "</tr>\n",
       "<tr>\n",
       "  <th>numApartmentsTotal</th> <td> 6.769e-05</td> <td> 2.83e-05</td> <td>    2.393</td> <td> 0.018</td> <td> 1.18e-05</td> <td>    0.000</td>\n",
       "</tr>\n",
       "<tr>\n",
       "  <th>floor</th>              <td>   -0.0043</td> <td>    0.005</td> <td>   -0.881</td> <td> 0.380</td> <td>   -0.014</td> <td>    0.005</td>\n",
       "</tr>\n",
       "</table>\n",
       "<table class=\"simpletable\">\n",
       "<tr>\n",
       "  <th>Omnibus:</th>       <td> 5.523</td> <th>  Durbin-Watson:     </th> <td>   0.176</td>\n",
       "</tr>\n",
       "<tr>\n",
       "  <th>Prob(Omnibus):</th> <td> 0.063</td> <th>  Jarque-Bera (JB):  </th> <td>   3.785</td>\n",
       "</tr>\n",
       "<tr>\n",
       "  <th>Skew:</th>          <td> 0.243</td> <th>  Prob(JB):          </th> <td>   0.151</td>\n",
       "</tr>\n",
       "<tr>\n",
       "  <th>Kurtosis:</th>      <td> 2.378</td> <th>  Cond. No.          </th> <td>5.44e+04</td>\n",
       "</tr>\n",
       "</table><br/><br/>Notes:<br/>[1] Standard Errors assume that the covariance matrix of the errors is correctly specified.<br/>[2] The condition number is large, 5.44e+04. This might indicate that there are<br/>strong multicollinearity or other numerical problems."
      ],
      "text/latex": [
       "\\begin{center}\n",
       "\\begin{tabular}{lclc}\n",
       "\\toprule\n",
       "\\textbf{Dep. Variable:}     &     logprice     & \\textbf{  R-squared:         } &     0.822   \\\\\n",
       "\\textbf{Model:}             &       OLS        & \\textbf{  Adj. R-squared:    } &     0.816   \\\\\n",
       "\\textbf{Method:}            &  Least Squares   & \\textbf{  F-statistic:       } &     129.7   \\\\\n",
       "\\textbf{Date:}              & Mon, 15 May 2023 & \\textbf{  Prob (F-statistic):} &  9.43e-51   \\\\\n",
       "\\textbf{Time:}              &     12:34:18     & \\textbf{  Log-Likelihood:    } &   -40.363   \\\\\n",
       "\\textbf{No. Observations:}  &         146      & \\textbf{  AIC:               } &     92.73   \\\\\n",
       "\\textbf{Df Residuals:}      &         140      & \\textbf{  BIC:               } &     110.6   \\\\\n",
       "\\textbf{Df Model:}          &           5      & \\textbf{                     } &             \\\\\n",
       "\\textbf{Covariance Type:}   &    nonrobust     & \\textbf{                     } &             \\\\\n",
       "\\bottomrule\n",
       "\\end{tabular}\n",
       "\\begin{tabular}{lcccccc}\n",
       "                            & \\textbf{coef} & \\textbf{std err} & \\textbf{t} & \\textbf{P$> |$t$|$} & \\textbf{[0.025} & \\textbf{0.975]}  \\\\\n",
       "\\midrule\n",
       "\\textbf{Intercept}          &       8.0087  &        0.577     &    13.874  &         0.000        &        6.867    &        9.150     \\\\\n",
       "\\textbf{logarea}            &       1.2715  &        0.120     &    10.573  &         0.000        &        1.034    &        1.509     \\\\\n",
       "\\textbf{rooms}              &      -0.1714  &        0.055     &    -3.104  &         0.002        &       -0.281    &       -0.062     \\\\\n",
       "\\textbf{ceilingHeight}      &       0.9650  &        0.095     &    10.149  &         0.000        &        0.777    &        1.153     \\\\\n",
       "\\textbf{numApartmentsTotal} &    6.769e-05  &     2.83e-05     &     2.393  &         0.018        &     1.18e-05    &        0.000     \\\\\n",
       "\\textbf{floor}              &      -0.0043  &        0.005     &    -0.881  &         0.380        &       -0.014    &        0.005     \\\\\n",
       "\\bottomrule\n",
       "\\end{tabular}\n",
       "\\begin{tabular}{lclc}\n",
       "\\textbf{Omnibus:}       &  5.523 & \\textbf{  Durbin-Watson:     } &    0.176  \\\\\n",
       "\\textbf{Prob(Omnibus):} &  0.063 & \\textbf{  Jarque-Bera (JB):  } &    3.785  \\\\\n",
       "\\textbf{Skew:}          &  0.243 & \\textbf{  Prob(JB):          } &    0.151  \\\\\n",
       "\\textbf{Kurtosis:}      &  2.378 & \\textbf{  Cond. No.          } & 5.44e+04  \\\\\n",
       "\\bottomrule\n",
       "\\end{tabular}\n",
       "%\\caption{OLS Regression Results}\n",
       "\\end{center}\n",
       "\n",
       "Notes: \\newline\n",
       " [1] Standard Errors assume that the covariance matrix of the errors is correctly specified. \\newline\n",
       " [2] The condition number is large, 5.44e+04. This might indicate that there are \\newline\n",
       " strong multicollinearity or other numerical problems."
      ],
      "text/plain": [
       "<class 'statsmodels.iolib.summary.Summary'>\n",
       "\"\"\"\n",
       "                            OLS Regression Results                            \n",
       "==============================================================================\n",
       "Dep. Variable:               logprice   R-squared:                       0.822\n",
       "Model:                            OLS   Adj. R-squared:                  0.816\n",
       "Method:                 Least Squares   F-statistic:                     129.7\n",
       "Date:                Mon, 15 May 2023   Prob (F-statistic):           9.43e-51\n",
       "Time:                        12:34:18   Log-Likelihood:                -40.363\n",
       "No. Observations:                 146   AIC:                             92.73\n",
       "Df Residuals:                     140   BIC:                             110.6\n",
       "Df Model:                           5                                         \n",
       "Covariance Type:            nonrobust                                         \n",
       "======================================================================================\n",
       "                         coef    std err          t      P>|t|      [0.025      0.975]\n",
       "--------------------------------------------------------------------------------------\n",
       "Intercept              8.0087      0.577     13.874      0.000       6.867       9.150\n",
       "logarea                1.2715      0.120     10.573      0.000       1.034       1.509\n",
       "rooms                 -0.1714      0.055     -3.104      0.002      -0.281      -0.062\n",
       "ceilingHeight          0.9650      0.095     10.149      0.000       0.777       1.153\n",
       "numApartmentsTotal  6.769e-05   2.83e-05      2.393      0.018    1.18e-05       0.000\n",
       "floor                 -0.0043      0.005     -0.881      0.380      -0.014       0.005\n",
       "==============================================================================\n",
       "Omnibus:                        5.523   Durbin-Watson:                   0.176\n",
       "Prob(Omnibus):                  0.063   Jarque-Bera (JB):                3.785\n",
       "Skew:                           0.243   Prob(JB):                        0.151\n",
       "Kurtosis:                       2.378   Cond. No.                     5.44e+04\n",
       "==============================================================================\n",
       "\n",
       "Notes:\n",
       "[1] Standard Errors assume that the covariance matrix of the errors is correctly specified.\n",
       "[2] The condition number is large, 5.44e+04. This might indicate that there are\n",
       "strong multicollinearity or other numerical problems.\n",
       "\"\"\""
      ]
     },
     "execution_count": 30,
     "metadata": {},
     "output_type": "execute_result"
    }
   ],
   "source": [
    "lm_HPRICE5 = smf.ols(formula='logprice ~ logarea + rooms + ceilingHeight + numApartmentsTotal + floor', data=df1).fit()\n",
    "print(lm_HPRICE5.params)\n",
    "lm_HPRICE5.summary()"
   ]
  },
  {
   "cell_type": "code",
   "execution_count": 31,
   "metadata": {
    "colab": {
     "base_uri": "https://localhost:8080/",
     "height": 732
    },
    "id": "KmrKcbGx56LH",
    "outputId": "192da761-1768-4db2-bf72-79d64b47ee06"
   },
   "outputs": [
    {
     "name": "stdout",
     "output_type": "stream",
     "text": [
      "Intercept              9.069973\n",
      "logarea                1.552603\n",
      "rooms                 -0.220848\n",
      "ceilingHeight          0.525533\n",
      "numApartmentsTotal     0.000013\n",
      "floor                 -0.008800\n",
      "crimeRateInDistrict   -0.000344\n",
      "dtype: float64\n"
     ]
    },
    {
     "data": {
      "text/html": [
       "<table class=\"simpletable\">\n",
       "<caption>OLS Regression Results</caption>\n",
       "<tr>\n",
       "  <th>Dep. Variable:</th>        <td>logprice</td>     <th>  R-squared:         </th> <td>   0.858</td>\n",
       "</tr>\n",
       "<tr>\n",
       "  <th>Model:</th>                   <td>OLS</td>       <th>  Adj. R-squared:    </th> <td>   0.852</td>\n",
       "</tr>\n",
       "<tr>\n",
       "  <th>Method:</th>             <td>Least Squares</td>  <th>  F-statistic:       </th> <td>   140.2</td>\n",
       "</tr>\n",
       "<tr>\n",
       "  <th>Date:</th>             <td>Mon, 15 May 2023</td> <th>  Prob (F-statistic):</th> <td>2.04e-56</td>\n",
       "</tr>\n",
       "<tr>\n",
       "  <th>Time:</th>                 <td>12:34:18</td>     <th>  Log-Likelihood:    </th> <td> -23.962</td>\n",
       "</tr>\n",
       "<tr>\n",
       "  <th>No. Observations:</th>      <td>   146</td>      <th>  AIC:               </th> <td>   61.92</td>\n",
       "</tr>\n",
       "<tr>\n",
       "  <th>Df Residuals:</th>          <td>   139</td>      <th>  BIC:               </th> <td>   82.81</td>\n",
       "</tr>\n",
       "<tr>\n",
       "  <th>Df Model:</th>              <td>     6</td>      <th>                     </th>     <td> </td>   \n",
       "</tr>\n",
       "<tr>\n",
       "  <th>Covariance Type:</th>      <td>nonrobust</td>    <th>                     </th>     <td> </td>   \n",
       "</tr>\n",
       "</table>\n",
       "<table class=\"simpletable\">\n",
       "<tr>\n",
       "           <td></td>              <th>coef</th>     <th>std err</th>      <th>t</th>      <th>P>|t|</th>  <th>[0.025</th>    <th>0.975]</th>  \n",
       "</tr>\n",
       "<tr>\n",
       "  <th>Intercept</th>           <td>    9.0700</td> <td>    0.548</td> <td>   16.552</td> <td> 0.000</td> <td>    7.987</td> <td>   10.153</td>\n",
       "</tr>\n",
       "<tr>\n",
       "  <th>logarea</th>             <td>    1.5526</td> <td>    0.118</td> <td>   13.172</td> <td> 0.000</td> <td>    1.320</td> <td>    1.786</td>\n",
       "</tr>\n",
       "<tr>\n",
       "  <th>rooms</th>               <td>   -0.2208</td> <td>    0.050</td> <td>   -4.397</td> <td> 0.000</td> <td>   -0.320</td> <td>   -0.122</td>\n",
       "</tr>\n",
       "<tr>\n",
       "  <th>ceilingHeight</th>       <td>    0.5255</td> <td>    0.113</td> <td>    4.647</td> <td> 0.000</td> <td>    0.302</td> <td>    0.749</td>\n",
       "</tr>\n",
       "<tr>\n",
       "  <th>numApartmentsTotal</th>  <td> 1.323e-05</td> <td>  2.7e-05</td> <td>    0.490</td> <td> 0.625</td> <td>-4.01e-05</td> <td> 6.66e-05</td>\n",
       "</tr>\n",
       "<tr>\n",
       "  <th>floor</th>               <td>   -0.0088</td> <td>    0.004</td> <td>   -1.975</td> <td> 0.050</td> <td>   -0.018</td> <td> 1.14e-05</td>\n",
       "</tr>\n",
       "<tr>\n",
       "  <th>crimeRateInDistrict</th> <td>   -0.0003</td> <td> 5.82e-05</td> <td>   -5.917</td> <td> 0.000</td> <td>   -0.000</td> <td>   -0.000</td>\n",
       "</tr>\n",
       "</table>\n",
       "<table class=\"simpletable\">\n",
       "<tr>\n",
       "  <th>Omnibus:</th>       <td> 0.785</td> <th>  Durbin-Watson:     </th> <td>   0.274</td>\n",
       "</tr>\n",
       "<tr>\n",
       "  <th>Prob(Omnibus):</th> <td> 0.675</td> <th>  Jarque-Bera (JB):  </th> <td>   0.491</td>\n",
       "</tr>\n",
       "<tr>\n",
       "  <th>Skew:</th>          <td> 0.124</td> <th>  Prob(JB):          </th> <td>   0.782</td>\n",
       "</tr>\n",
       "<tr>\n",
       "  <th>Kurtosis:</th>      <td> 3.137</td> <th>  Cond. No.          </th> <td>8.08e+04</td>\n",
       "</tr>\n",
       "</table><br/><br/>Notes:<br/>[1] Standard Errors assume that the covariance matrix of the errors is correctly specified.<br/>[2] The condition number is large, 8.08e+04. This might indicate that there are<br/>strong multicollinearity or other numerical problems."
      ],
      "text/latex": [
       "\\begin{center}\n",
       "\\begin{tabular}{lclc}\n",
       "\\toprule\n",
       "\\textbf{Dep. Variable:}      &     logprice     & \\textbf{  R-squared:         } &     0.858   \\\\\n",
       "\\textbf{Model:}              &       OLS        & \\textbf{  Adj. R-squared:    } &     0.852   \\\\\n",
       "\\textbf{Method:}             &  Least Squares   & \\textbf{  F-statistic:       } &     140.2   \\\\\n",
       "\\textbf{Date:}               & Mon, 15 May 2023 & \\textbf{  Prob (F-statistic):} &  2.04e-56   \\\\\n",
       "\\textbf{Time:}               &     12:34:18     & \\textbf{  Log-Likelihood:    } &   -23.962   \\\\\n",
       "\\textbf{No. Observations:}   &         146      & \\textbf{  AIC:               } &     61.92   \\\\\n",
       "\\textbf{Df Residuals:}       &         139      & \\textbf{  BIC:               } &     82.81   \\\\\n",
       "\\textbf{Df Model:}           &           6      & \\textbf{                     } &             \\\\\n",
       "\\textbf{Covariance Type:}    &    nonrobust     & \\textbf{                     } &             \\\\\n",
       "\\bottomrule\n",
       "\\end{tabular}\n",
       "\\begin{tabular}{lcccccc}\n",
       "                             & \\textbf{coef} & \\textbf{std err} & \\textbf{t} & \\textbf{P$> |$t$|$} & \\textbf{[0.025} & \\textbf{0.975]}  \\\\\n",
       "\\midrule\n",
       "\\textbf{Intercept}           &       9.0700  &        0.548     &    16.552  &         0.000        &        7.987    &       10.153     \\\\\n",
       "\\textbf{logarea}             &       1.5526  &        0.118     &    13.172  &         0.000        &        1.320    &        1.786     \\\\\n",
       "\\textbf{rooms}               &      -0.2208  &        0.050     &    -4.397  &         0.000        &       -0.320    &       -0.122     \\\\\n",
       "\\textbf{ceilingHeight}       &       0.5255  &        0.113     &     4.647  &         0.000        &        0.302    &        0.749     \\\\\n",
       "\\textbf{numApartmentsTotal}  &    1.323e-05  &      2.7e-05     &     0.490  &         0.625        &    -4.01e-05    &     6.66e-05     \\\\\n",
       "\\textbf{floor}               &      -0.0088  &        0.004     &    -1.975  &         0.050        &       -0.018    &     1.14e-05     \\\\\n",
       "\\textbf{crimeRateInDistrict} &      -0.0003  &     5.82e-05     &    -5.917  &         0.000        &       -0.000    &       -0.000     \\\\\n",
       "\\bottomrule\n",
       "\\end{tabular}\n",
       "\\begin{tabular}{lclc}\n",
       "\\textbf{Omnibus:}       &  0.785 & \\textbf{  Durbin-Watson:     } &    0.274  \\\\\n",
       "\\textbf{Prob(Omnibus):} &  0.675 & \\textbf{  Jarque-Bera (JB):  } &    0.491  \\\\\n",
       "\\textbf{Skew:}          &  0.124 & \\textbf{  Prob(JB):          } &    0.782  \\\\\n",
       "\\textbf{Kurtosis:}      &  3.137 & \\textbf{  Cond. No.          } & 8.08e+04  \\\\\n",
       "\\bottomrule\n",
       "\\end{tabular}\n",
       "%\\caption{OLS Regression Results}\n",
       "\\end{center}\n",
       "\n",
       "Notes: \\newline\n",
       " [1] Standard Errors assume that the covariance matrix of the errors is correctly specified. \\newline\n",
       " [2] The condition number is large, 8.08e+04. This might indicate that there are \\newline\n",
       " strong multicollinearity or other numerical problems."
      ],
      "text/plain": [
       "<class 'statsmodels.iolib.summary.Summary'>\n",
       "\"\"\"\n",
       "                            OLS Regression Results                            \n",
       "==============================================================================\n",
       "Dep. Variable:               logprice   R-squared:                       0.858\n",
       "Model:                            OLS   Adj. R-squared:                  0.852\n",
       "Method:                 Least Squares   F-statistic:                     140.2\n",
       "Date:                Mon, 15 May 2023   Prob (F-statistic):           2.04e-56\n",
       "Time:                        12:34:18   Log-Likelihood:                -23.962\n",
       "No. Observations:                 146   AIC:                             61.92\n",
       "Df Residuals:                     139   BIC:                             82.81\n",
       "Df Model:                           6                                         \n",
       "Covariance Type:            nonrobust                                         \n",
       "=======================================================================================\n",
       "                          coef    std err          t      P>|t|      [0.025      0.975]\n",
       "---------------------------------------------------------------------------------------\n",
       "Intercept               9.0700      0.548     16.552      0.000       7.987      10.153\n",
       "logarea                 1.5526      0.118     13.172      0.000       1.320       1.786\n",
       "rooms                  -0.2208      0.050     -4.397      0.000      -0.320      -0.122\n",
       "ceilingHeight           0.5255      0.113      4.647      0.000       0.302       0.749\n",
       "numApartmentsTotal   1.323e-05    2.7e-05      0.490      0.625   -4.01e-05    6.66e-05\n",
       "floor                  -0.0088      0.004     -1.975      0.050      -0.018    1.14e-05\n",
       "crimeRateInDistrict    -0.0003   5.82e-05     -5.917      0.000      -0.000      -0.000\n",
       "==============================================================================\n",
       "Omnibus:                        0.785   Durbin-Watson:                   0.274\n",
       "Prob(Omnibus):                  0.675   Jarque-Bera (JB):                0.491\n",
       "Skew:                           0.124   Prob(JB):                        0.782\n",
       "Kurtosis:                       3.137   Cond. No.                     8.08e+04\n",
       "==============================================================================\n",
       "\n",
       "Notes:\n",
       "[1] Standard Errors assume that the covariance matrix of the errors is correctly specified.\n",
       "[2] The condition number is large, 8.08e+04. This might indicate that there are\n",
       "strong multicollinearity or other numerical problems.\n",
       "\"\"\""
      ]
     },
     "execution_count": 31,
     "metadata": {},
     "output_type": "execute_result"
    }
   ],
   "source": [
    "lm_HPRICE6 = smf.ols(formula='logprice ~ logarea + rooms + ceilingHeight + numApartmentsTotal + floor + crimeRateInDistrict', data=df1).fit()\n",
    "print(lm_HPRICE6.params)\n",
    "lm_HPRICE6.summary()"
   ]
  },
  {
   "cell_type": "code",
   "execution_count": 32,
   "metadata": {
    "colab": {
     "base_uri": "https://localhost:8080/",
     "height": 771
    },
    "id": "OLLWZgibBsDo",
    "outputId": "15eb966d-da89-481c-ba11-b2d5ff00613f",
    "scrolled": true
   },
   "outputs": [
    {
     "name": "stdout",
     "output_type": "stream",
     "text": [
      "Intercept              11.400467\n",
      "logarea                 1.014366\n",
      "rooms                  -0.024582\n",
      "ceilingHeight          -0.339800\n",
      "numApartmentsTotal      0.000017\n",
      "floor                  -0.001805\n",
      "crimeRateInDistrict    -0.000247\n",
      "predictedClass          0.877250\n",
      "dtype: float64\n"
     ]
    },
    {
     "data": {
      "text/html": [
       "<table class=\"simpletable\">\n",
       "<caption>OLS Regression Results</caption>\n",
       "<tr>\n",
       "  <th>Dep. Variable:</th>        <td>logprice</td>     <th>  R-squared:         </th> <td>   0.940</td>\n",
       "</tr>\n",
       "<tr>\n",
       "  <th>Model:</th>                   <td>OLS</td>       <th>  Adj. R-squared:    </th> <td>   0.937</td>\n",
       "</tr>\n",
       "<tr>\n",
       "  <th>Method:</th>             <td>Least Squares</td>  <th>  F-statistic:       </th> <td>   309.7</td>\n",
       "</tr>\n",
       "<tr>\n",
       "  <th>Date:</th>             <td>Mon, 15 May 2023</td> <th>  Prob (F-statistic):</th> <td>4.49e-81</td>\n",
       "</tr>\n",
       "<tr>\n",
       "  <th>Time:</th>                 <td>12:34:18</td>     <th>  Log-Likelihood:    </th> <td>  39.004</td>\n",
       "</tr>\n",
       "<tr>\n",
       "  <th>No. Observations:</th>      <td>   146</td>      <th>  AIC:               </th> <td>  -62.01</td>\n",
       "</tr>\n",
       "<tr>\n",
       "  <th>Df Residuals:</th>          <td>   138</td>      <th>  BIC:               </th> <td>  -38.14</td>\n",
       "</tr>\n",
       "<tr>\n",
       "  <th>Df Model:</th>              <td>     7</td>      <th>                     </th>     <td> </td>   \n",
       "</tr>\n",
       "<tr>\n",
       "  <th>Covariance Type:</th>      <td>nonrobust</td>    <th>                     </th>     <td> </td>   \n",
       "</tr>\n",
       "</table>\n",
       "<table class=\"simpletable\">\n",
       "<tr>\n",
       "           <td></td>              <th>coef</th>     <th>std err</th>      <th>t</th>      <th>P>|t|</th>  <th>[0.025</th>    <th>0.975]</th>  \n",
       "</tr>\n",
       "<tr>\n",
       "  <th>Intercept</th>           <td>   11.4005</td> <td>    0.395</td> <td>   28.827</td> <td> 0.000</td> <td>   10.618</td> <td>   12.182</td>\n",
       "</tr>\n",
       "<tr>\n",
       "  <th>logarea</th>             <td>    1.0144</td> <td>    0.086</td> <td>   11.760</td> <td> 0.000</td> <td>    0.844</td> <td>    1.185</td>\n",
       "</tr>\n",
       "<tr>\n",
       "  <th>rooms</th>               <td>   -0.0246</td> <td>    0.036</td> <td>   -0.688</td> <td> 0.493</td> <td>   -0.095</td> <td>    0.046</td>\n",
       "</tr>\n",
       "<tr>\n",
       "  <th>ceilingHeight</th>       <td>   -0.3398</td> <td>    0.097</td> <td>   -3.505</td> <td> 0.001</td> <td>   -0.532</td> <td>   -0.148</td>\n",
       "</tr>\n",
       "<tr>\n",
       "  <th>numApartmentsTotal</th>  <td> 1.747e-05</td> <td> 1.76e-05</td> <td>    0.992</td> <td> 0.323</td> <td>-1.73e-05</td> <td> 5.23e-05</td>\n",
       "</tr>\n",
       "<tr>\n",
       "  <th>floor</th>               <td>   -0.0018</td> <td>    0.003</td> <td>   -0.612</td> <td> 0.542</td> <td>   -0.008</td> <td>    0.004</td>\n",
       "</tr>\n",
       "<tr>\n",
       "  <th>crimeRateInDistrict</th> <td>   -0.0002</td> <td> 3.86e-05</td> <td>   -6.388</td> <td> 0.000</td> <td>   -0.000</td> <td>   -0.000</td>\n",
       "</tr>\n",
       "<tr>\n",
       "  <th>predictedClass</th>      <td>    0.8773</td> <td>    0.064</td> <td>   13.746</td> <td> 0.000</td> <td>    0.751</td> <td>    1.003</td>\n",
       "</tr>\n",
       "</table>\n",
       "<table class=\"simpletable\">\n",
       "<tr>\n",
       "  <th>Omnibus:</th>       <td>31.445</td> <th>  Durbin-Watson:     </th> <td>   0.208</td>\n",
       "</tr>\n",
       "<tr>\n",
       "  <th>Prob(Omnibus):</th> <td> 0.000</td> <th>  Jarque-Bera (JB):  </th> <td>  48.011</td>\n",
       "</tr>\n",
       "<tr>\n",
       "  <th>Skew:</th>          <td>-1.102</td> <th>  Prob(JB):          </th> <td>3.76e-11</td>\n",
       "</tr>\n",
       "<tr>\n",
       "  <th>Kurtosis:</th>      <td> 4.742</td> <th>  Cond. No.          </th> <td>9.06e+04</td>\n",
       "</tr>\n",
       "</table><br/><br/>Notes:<br/>[1] Standard Errors assume that the covariance matrix of the errors is correctly specified.<br/>[2] The condition number is large, 9.06e+04. This might indicate that there are<br/>strong multicollinearity or other numerical problems."
      ],
      "text/latex": [
       "\\begin{center}\n",
       "\\begin{tabular}{lclc}\n",
       "\\toprule\n",
       "\\textbf{Dep. Variable:}      &     logprice     & \\textbf{  R-squared:         } &     0.940   \\\\\n",
       "\\textbf{Model:}              &       OLS        & \\textbf{  Adj. R-squared:    } &     0.937   \\\\\n",
       "\\textbf{Method:}             &  Least Squares   & \\textbf{  F-statistic:       } &     309.7   \\\\\n",
       "\\textbf{Date:}               & Mon, 15 May 2023 & \\textbf{  Prob (F-statistic):} &  4.49e-81   \\\\\n",
       "\\textbf{Time:}               &     12:34:18     & \\textbf{  Log-Likelihood:    } &    39.004   \\\\\n",
       "\\textbf{No. Observations:}   &         146      & \\textbf{  AIC:               } &    -62.01   \\\\\n",
       "\\textbf{Df Residuals:}       &         138      & \\textbf{  BIC:               } &    -38.14   \\\\\n",
       "\\textbf{Df Model:}           &           7      & \\textbf{                     } &             \\\\\n",
       "\\textbf{Covariance Type:}    &    nonrobust     & \\textbf{                     } &             \\\\\n",
       "\\bottomrule\n",
       "\\end{tabular}\n",
       "\\begin{tabular}{lcccccc}\n",
       "                             & \\textbf{coef} & \\textbf{std err} & \\textbf{t} & \\textbf{P$> |$t$|$} & \\textbf{[0.025} & \\textbf{0.975]}  \\\\\n",
       "\\midrule\n",
       "\\textbf{Intercept}           &      11.4005  &        0.395     &    28.827  &         0.000        &       10.618    &       12.182     \\\\\n",
       "\\textbf{logarea}             &       1.0144  &        0.086     &    11.760  &         0.000        &        0.844    &        1.185     \\\\\n",
       "\\textbf{rooms}               &      -0.0246  &        0.036     &    -0.688  &         0.493        &       -0.095    &        0.046     \\\\\n",
       "\\textbf{ceilingHeight}       &      -0.3398  &        0.097     &    -3.505  &         0.001        &       -0.532    &       -0.148     \\\\\n",
       "\\textbf{numApartmentsTotal}  &    1.747e-05  &     1.76e-05     &     0.992  &         0.323        &    -1.73e-05    &     5.23e-05     \\\\\n",
       "\\textbf{floor}               &      -0.0018  &        0.003     &    -0.612  &         0.542        &       -0.008    &        0.004     \\\\\n",
       "\\textbf{crimeRateInDistrict} &      -0.0002  &     3.86e-05     &    -6.388  &         0.000        &       -0.000    &       -0.000     \\\\\n",
       "\\textbf{predictedClass}      &       0.8773  &        0.064     &    13.746  &         0.000        &        0.751    &        1.003     \\\\\n",
       "\\bottomrule\n",
       "\\end{tabular}\n",
       "\\begin{tabular}{lclc}\n",
       "\\textbf{Omnibus:}       & 31.445 & \\textbf{  Durbin-Watson:     } &    0.208  \\\\\n",
       "\\textbf{Prob(Omnibus):} &  0.000 & \\textbf{  Jarque-Bera (JB):  } &   48.011  \\\\\n",
       "\\textbf{Skew:}          & -1.102 & \\textbf{  Prob(JB):          } & 3.76e-11  \\\\\n",
       "\\textbf{Kurtosis:}      &  4.742 & \\textbf{  Cond. No.          } & 9.06e+04  \\\\\n",
       "\\bottomrule\n",
       "\\end{tabular}\n",
       "%\\caption{OLS Regression Results}\n",
       "\\end{center}\n",
       "\n",
       "Notes: \\newline\n",
       " [1] Standard Errors assume that the covariance matrix of the errors is correctly specified. \\newline\n",
       " [2] The condition number is large, 9.06e+04. This might indicate that there are \\newline\n",
       " strong multicollinearity or other numerical problems."
      ],
      "text/plain": [
       "<class 'statsmodels.iolib.summary.Summary'>\n",
       "\"\"\"\n",
       "                            OLS Regression Results                            \n",
       "==============================================================================\n",
       "Dep. Variable:               logprice   R-squared:                       0.940\n",
       "Model:                            OLS   Adj. R-squared:                  0.937\n",
       "Method:                 Least Squares   F-statistic:                     309.7\n",
       "Date:                Mon, 15 May 2023   Prob (F-statistic):           4.49e-81\n",
       "Time:                        12:34:18   Log-Likelihood:                 39.004\n",
       "No. Observations:                 146   AIC:                            -62.01\n",
       "Df Residuals:                     138   BIC:                            -38.14\n",
       "Df Model:                           7                                         \n",
       "Covariance Type:            nonrobust                                         \n",
       "=======================================================================================\n",
       "                          coef    std err          t      P>|t|      [0.025      0.975]\n",
       "---------------------------------------------------------------------------------------\n",
       "Intercept              11.4005      0.395     28.827      0.000      10.618      12.182\n",
       "logarea                 1.0144      0.086     11.760      0.000       0.844       1.185\n",
       "rooms                  -0.0246      0.036     -0.688      0.493      -0.095       0.046\n",
       "ceilingHeight          -0.3398      0.097     -3.505      0.001      -0.532      -0.148\n",
       "numApartmentsTotal   1.747e-05   1.76e-05      0.992      0.323   -1.73e-05    5.23e-05\n",
       "floor                  -0.0018      0.003     -0.612      0.542      -0.008       0.004\n",
       "crimeRateInDistrict    -0.0002   3.86e-05     -6.388      0.000      -0.000      -0.000\n",
       "predictedClass          0.8773      0.064     13.746      0.000       0.751       1.003\n",
       "==============================================================================\n",
       "Omnibus:                       31.445   Durbin-Watson:                   0.208\n",
       "Prob(Omnibus):                  0.000   Jarque-Bera (JB):               48.011\n",
       "Skew:                          -1.102   Prob(JB):                     3.76e-11\n",
       "Kurtosis:                       4.742   Cond. No.                     9.06e+04\n",
       "==============================================================================\n",
       "\n",
       "Notes:\n",
       "[1] Standard Errors assume that the covariance matrix of the errors is correctly specified.\n",
       "[2] The condition number is large, 9.06e+04. This might indicate that there are\n",
       "strong multicollinearity or other numerical problems.\n",
       "\"\"\""
      ]
     },
     "execution_count": 32,
     "metadata": {},
     "output_type": "execute_result"
    }
   ],
   "source": [
    "lm_HPRICE7 = smf.ols(formula='logprice ~ logarea + rooms + ceilingHeight + numApartmentsTotal + floor + crimeRateInDistrict + predictedClass', data=df1).fit()\n",
    "print(lm_HPRICE7.params)\n",
    "lm_HPRICE7.summary()"
   ]
  },
  {
   "cell_type": "code",
   "execution_count": 33,
   "metadata": {
    "colab": {
     "base_uri": "https://localhost:8080/",
     "height": 542
    },
    "id": "5Ml16nQaJtT0",
    "outputId": "0111a81c-4705-42f8-d084-c67e867586d5",
    "scrolled": true
   },
   "outputs": [
    {
     "name": "stdout",
     "output_type": "stream",
     "text": [
      "Intercept         10.947862\n",
      "logarea            0.798287\n",
      "predictedClass     0.773272\n",
      "dtype: float64\n"
     ]
    },
    {
     "data": {
      "text/html": [
       "<table class=\"simpletable\">\n",
       "<caption>OLS Regression Results</caption>\n",
       "<tr>\n",
       "  <th>Dep. Variable:</th>        <td>logprice</td>     <th>  R-squared:         </th> <td>   0.912</td>\n",
       "</tr>\n",
       "<tr>\n",
       "  <th>Model:</th>                   <td>OLS</td>       <th>  Adj. R-squared:    </th> <td>   0.911</td>\n",
       "</tr>\n",
       "<tr>\n",
       "  <th>Method:</th>             <td>Least Squares</td>  <th>  F-statistic:       </th> <td>   782.6</td>\n",
       "</tr>\n",
       "<tr>\n",
       "  <th>Date:</th>             <td>Mon, 15 May 2023</td> <th>  Prob (F-statistic):</th> <td>2.00e-80</td>\n",
       "</tr>\n",
       "<tr>\n",
       "  <th>Time:</th>                 <td>12:34:18</td>     <th>  Log-Likelihood:    </th> <td>  11.376</td>\n",
       "</tr>\n",
       "<tr>\n",
       "  <th>No. Observations:</th>      <td>   154</td>      <th>  AIC:               </th> <td>  -16.75</td>\n",
       "</tr>\n",
       "<tr>\n",
       "  <th>Df Residuals:</th>          <td>   151</td>      <th>  BIC:               </th> <td>  -7.642</td>\n",
       "</tr>\n",
       "<tr>\n",
       "  <th>Df Model:</th>              <td>     2</td>      <th>                     </th>     <td> </td>   \n",
       "</tr>\n",
       "<tr>\n",
       "  <th>Covariance Type:</th>      <td>nonrobust</td>    <th>                     </th>     <td> </td>   \n",
       "</tr>\n",
       "</table>\n",
       "<table class=\"simpletable\">\n",
       "<tr>\n",
       "         <td></td>           <th>coef</th>     <th>std err</th>      <th>t</th>      <th>P>|t|</th>  <th>[0.025</th>    <th>0.975]</th>  \n",
       "</tr>\n",
       "<tr>\n",
       "  <th>Intercept</th>      <td>   10.9479</td> <td>    0.196</td> <td>   55.979</td> <td> 0.000</td> <td>   10.561</td> <td>   11.334</td>\n",
       "</tr>\n",
       "<tr>\n",
       "  <th>logarea</th>        <td>    0.7983</td> <td>    0.050</td> <td>   16.104</td> <td> 0.000</td> <td>    0.700</td> <td>    0.896</td>\n",
       "</tr>\n",
       "<tr>\n",
       "  <th>predictedClass</th> <td>    0.7733</td> <td>    0.030</td> <td>   25.815</td> <td> 0.000</td> <td>    0.714</td> <td>    0.832</td>\n",
       "</tr>\n",
       "</table>\n",
       "<table class=\"simpletable\">\n",
       "<tr>\n",
       "  <th>Omnibus:</th>       <td>18.458</td> <th>  Durbin-Watson:     </th> <td>   0.199</td>\n",
       "</tr>\n",
       "<tr>\n",
       "  <th>Prob(Omnibus):</th> <td> 0.000</td> <th>  Jarque-Bera (JB):  </th> <td>  13.173</td>\n",
       "</tr>\n",
       "<tr>\n",
       "  <th>Skew:</th>          <td>-0.597</td> <th>  Prob(JB):          </th> <td> 0.00138</td>\n",
       "</tr>\n",
       "<tr>\n",
       "  <th>Kurtosis:</th>      <td> 2.207</td> <th>  Cond. No.          </th> <td>    51.2</td>\n",
       "</tr>\n",
       "</table><br/><br/>Notes:<br/>[1] Standard Errors assume that the covariance matrix of the errors is correctly specified."
      ],
      "text/latex": [
       "\\begin{center}\n",
       "\\begin{tabular}{lclc}\n",
       "\\toprule\n",
       "\\textbf{Dep. Variable:}    &     logprice     & \\textbf{  R-squared:         } &     0.912   \\\\\n",
       "\\textbf{Model:}            &       OLS        & \\textbf{  Adj. R-squared:    } &     0.911   \\\\\n",
       "\\textbf{Method:}           &  Least Squares   & \\textbf{  F-statistic:       } &     782.6   \\\\\n",
       "\\textbf{Date:}             & Mon, 15 May 2023 & \\textbf{  Prob (F-statistic):} &  2.00e-80   \\\\\n",
       "\\textbf{Time:}             &     12:34:18     & \\textbf{  Log-Likelihood:    } &    11.376   \\\\\n",
       "\\textbf{No. Observations:} &         154      & \\textbf{  AIC:               } &    -16.75   \\\\\n",
       "\\textbf{Df Residuals:}     &         151      & \\textbf{  BIC:               } &    -7.642   \\\\\n",
       "\\textbf{Df Model:}         &           2      & \\textbf{                     } &             \\\\\n",
       "\\textbf{Covariance Type:}  &    nonrobust     & \\textbf{                     } &             \\\\\n",
       "\\bottomrule\n",
       "\\end{tabular}\n",
       "\\begin{tabular}{lcccccc}\n",
       "                        & \\textbf{coef} & \\textbf{std err} & \\textbf{t} & \\textbf{P$> |$t$|$} & \\textbf{[0.025} & \\textbf{0.975]}  \\\\\n",
       "\\midrule\n",
       "\\textbf{Intercept}      &      10.9479  &        0.196     &    55.979  &         0.000        &       10.561    &       11.334     \\\\\n",
       "\\textbf{logarea}        &       0.7983  &        0.050     &    16.104  &         0.000        &        0.700    &        0.896     \\\\\n",
       "\\textbf{predictedClass} &       0.7733  &        0.030     &    25.815  &         0.000        &        0.714    &        0.832     \\\\\n",
       "\\bottomrule\n",
       "\\end{tabular}\n",
       "\\begin{tabular}{lclc}\n",
       "\\textbf{Omnibus:}       & 18.458 & \\textbf{  Durbin-Watson:     } &    0.199  \\\\\n",
       "\\textbf{Prob(Omnibus):} &  0.000 & \\textbf{  Jarque-Bera (JB):  } &   13.173  \\\\\n",
       "\\textbf{Skew:}          & -0.597 & \\textbf{  Prob(JB):          } &  0.00138  \\\\\n",
       "\\textbf{Kurtosis:}      &  2.207 & \\textbf{  Cond. No.          } &     51.2  \\\\\n",
       "\\bottomrule\n",
       "\\end{tabular}\n",
       "%\\caption{OLS Regression Results}\n",
       "\\end{center}\n",
       "\n",
       "Notes: \\newline\n",
       " [1] Standard Errors assume that the covariance matrix of the errors is correctly specified."
      ],
      "text/plain": [
       "<class 'statsmodels.iolib.summary.Summary'>\n",
       "\"\"\"\n",
       "                            OLS Regression Results                            \n",
       "==============================================================================\n",
       "Dep. Variable:               logprice   R-squared:                       0.912\n",
       "Model:                            OLS   Adj. R-squared:                  0.911\n",
       "Method:                 Least Squares   F-statistic:                     782.6\n",
       "Date:                Mon, 15 May 2023   Prob (F-statistic):           2.00e-80\n",
       "Time:                        12:34:18   Log-Likelihood:                 11.376\n",
       "No. Observations:                 154   AIC:                            -16.75\n",
       "Df Residuals:                     151   BIC:                            -7.642\n",
       "Df Model:                           2                                         \n",
       "Covariance Type:            nonrobust                                         \n",
       "==================================================================================\n",
       "                     coef    std err          t      P>|t|      [0.025      0.975]\n",
       "----------------------------------------------------------------------------------\n",
       "Intercept         10.9479      0.196     55.979      0.000      10.561      11.334\n",
       "logarea            0.7983      0.050     16.104      0.000       0.700       0.896\n",
       "predictedClass     0.7733      0.030     25.815      0.000       0.714       0.832\n",
       "==============================================================================\n",
       "Omnibus:                       18.458   Durbin-Watson:                   0.199\n",
       "Prob(Omnibus):                  0.000   Jarque-Bera (JB):               13.173\n",
       "Skew:                          -0.597   Prob(JB):                      0.00138\n",
       "Kurtosis:                       2.207   Cond. No.                         51.2\n",
       "==============================================================================\n",
       "\n",
       "Notes:\n",
       "[1] Standard Errors assume that the covariance matrix of the errors is correctly specified.\n",
       "\"\"\""
      ]
     },
     "execution_count": 33,
     "metadata": {},
     "output_type": "execute_result"
    }
   ],
   "source": [
    "lm_HPRICE8 = smf.ols(formula='logprice ~ logarea + predictedClass', data=df1).fit()\n",
    "print(lm_HPRICE8.params)\n",
    "lm_HPRICE8.summary()"
   ]
  },
  {
   "cell_type": "markdown",
   "metadata": {},
   "source": [
    "### Врахування дальності до центру при розрахунку вартості"
   ]
  },
  {
   "cell_type": "code",
   "execution_count": 34,
   "metadata": {},
   "outputs": [
    {
     "name": "stdout",
     "output_type": "stream",
     "text": [
      "Intercept              8.179020\n",
      "logarea                1.047769\n",
      "rooms                 -0.040478\n",
      "ceilingHeight          0.220602\n",
      "numApartmentsTotal    -0.000138\n",
      "floor                 -0.005192\n",
      "crimeRateInDistrict   -0.000126\n",
      "predictedClass         1.238654\n",
      "minutesToCityCenter    0.012444\n",
      "dtype: float64\n"
     ]
    },
    {
     "data": {
      "text/html": [
       "<table class=\"simpletable\">\n",
       "<caption>OLS Regression Results</caption>\n",
       "<tr>\n",
       "  <th>Dep. Variable:</th>        <td>logprice</td>     <th>  R-squared:         </th> <td>   0.959</td>\n",
       "</tr>\n",
       "<tr>\n",
       "  <th>Model:</th>                   <td>OLS</td>       <th>  Adj. R-squared:    </th> <td>   0.957</td>\n",
       "</tr>\n",
       "<tr>\n",
       "  <th>Method:</th>             <td>Least Squares</td>  <th>  F-statistic:       </th> <td>   401.9</td>\n",
       "</tr>\n",
       "<tr>\n",
       "  <th>Date:</th>             <td>Mon, 15 May 2023</td> <th>  Prob (F-statistic):</th> <td>3.90e-91</td>\n",
       "</tr>\n",
       "<tr>\n",
       "  <th>Time:</th>                 <td>12:34:18</td>     <th>  Log-Likelihood:    </th> <td>  66.851</td>\n",
       "</tr>\n",
       "<tr>\n",
       "  <th>No. Observations:</th>      <td>   146</td>      <th>  AIC:               </th> <td>  -115.7</td>\n",
       "</tr>\n",
       "<tr>\n",
       "  <th>Df Residuals:</th>          <td>   137</td>      <th>  BIC:               </th> <td>  -88.85</td>\n",
       "</tr>\n",
       "<tr>\n",
       "  <th>Df Model:</th>              <td>     8</td>      <th>                     </th>     <td> </td>   \n",
       "</tr>\n",
       "<tr>\n",
       "  <th>Covariance Type:</th>      <td>nonrobust</td>    <th>                     </th>     <td> </td>   \n",
       "</tr>\n",
       "</table>\n",
       "<table class=\"simpletable\">\n",
       "<tr>\n",
       "           <td></td>              <th>coef</th>     <th>std err</th>      <th>t</th>      <th>P>|t|</th>  <th>[0.025</th>    <th>0.975]</th>  \n",
       "</tr>\n",
       "<tr>\n",
       "  <th>Intercept</th>           <td>    8.1790</td> <td>    0.520</td> <td>   15.721</td> <td> 0.000</td> <td>    7.150</td> <td>    9.208</td>\n",
       "</tr>\n",
       "<tr>\n",
       "  <th>logarea</th>             <td>    1.0478</td> <td>    0.072</td> <td>   14.622</td> <td> 0.000</td> <td>    0.906</td> <td>    1.189</td>\n",
       "</tr>\n",
       "<tr>\n",
       "  <th>rooms</th>               <td>   -0.0405</td> <td>    0.030</td> <td>   -1.363</td> <td> 0.175</td> <td>   -0.099</td> <td>    0.018</td>\n",
       "</tr>\n",
       "<tr>\n",
       "  <th>ceilingHeight</th>       <td>    0.2206</td> <td>    0.107</td> <td>    2.066</td> <td> 0.041</td> <td>    0.009</td> <td>    0.432</td>\n",
       "</tr>\n",
       "<tr>\n",
       "  <th>numApartmentsTotal</th>  <td>   -0.0001</td> <td> 2.43e-05</td> <td>   -5.663</td> <td> 0.000</td> <td>   -0.000</td> <td>-8.97e-05</td>\n",
       "</tr>\n",
       "<tr>\n",
       "  <th>floor</th>               <td>   -0.0052</td> <td>    0.002</td> <td>   -2.091</td> <td> 0.038</td> <td>   -0.010</td> <td>   -0.000</td>\n",
       "</tr>\n",
       "<tr>\n",
       "  <th>crimeRateInDistrict</th> <td>   -0.0001</td> <td> 3.54e-05</td> <td>   -3.559</td> <td> 0.001</td> <td>   -0.000</td> <td> -5.6e-05</td>\n",
       "</tr>\n",
       "<tr>\n",
       "  <th>predictedClass</th>      <td>    1.2387</td> <td>    0.070</td> <td>   17.778</td> <td> 0.000</td> <td>    1.101</td> <td>    1.376</td>\n",
       "</tr>\n",
       "<tr>\n",
       "  <th>minutesToCityCenter</th> <td>    0.0124</td> <td>    0.002</td> <td>    7.977</td> <td> 0.000</td> <td>    0.009</td> <td>    0.016</td>\n",
       "</tr>\n",
       "</table>\n",
       "<table class=\"simpletable\">\n",
       "<tr>\n",
       "  <th>Omnibus:</th>       <td> 4.800</td> <th>  Durbin-Watson:     </th> <td>   0.317</td>\n",
       "</tr>\n",
       "<tr>\n",
       "  <th>Prob(Omnibus):</th> <td> 0.091</td> <th>  Jarque-Bera (JB):  </th> <td>   5.850</td>\n",
       "</tr>\n",
       "<tr>\n",
       "  <th>Skew:</th>          <td> 0.163</td> <th>  Prob(JB):          </th> <td>  0.0537</td>\n",
       "</tr>\n",
       "<tr>\n",
       "  <th>Kurtosis:</th>      <td> 3.925</td> <th>  Cond. No.          </th> <td>1.42e+05</td>\n",
       "</tr>\n",
       "</table><br/><br/>Notes:<br/>[1] Standard Errors assume that the covariance matrix of the errors is correctly specified.<br/>[2] The condition number is large, 1.42e+05. This might indicate that there are<br/>strong multicollinearity or other numerical problems."
      ],
      "text/latex": [
       "\\begin{center}\n",
       "\\begin{tabular}{lclc}\n",
       "\\toprule\n",
       "\\textbf{Dep. Variable:}      &     logprice     & \\textbf{  R-squared:         } &     0.959   \\\\\n",
       "\\textbf{Model:}              &       OLS        & \\textbf{  Adj. R-squared:    } &     0.957   \\\\\n",
       "\\textbf{Method:}             &  Least Squares   & \\textbf{  F-statistic:       } &     401.9   \\\\\n",
       "\\textbf{Date:}               & Mon, 15 May 2023 & \\textbf{  Prob (F-statistic):} &  3.90e-91   \\\\\n",
       "\\textbf{Time:}               &     12:34:18     & \\textbf{  Log-Likelihood:    } &    66.851   \\\\\n",
       "\\textbf{No. Observations:}   &         146      & \\textbf{  AIC:               } &    -115.7   \\\\\n",
       "\\textbf{Df Residuals:}       &         137      & \\textbf{  BIC:               } &    -88.85   \\\\\n",
       "\\textbf{Df Model:}           &           8      & \\textbf{                     } &             \\\\\n",
       "\\textbf{Covariance Type:}    &    nonrobust     & \\textbf{                     } &             \\\\\n",
       "\\bottomrule\n",
       "\\end{tabular}\n",
       "\\begin{tabular}{lcccccc}\n",
       "                             & \\textbf{coef} & \\textbf{std err} & \\textbf{t} & \\textbf{P$> |$t$|$} & \\textbf{[0.025} & \\textbf{0.975]}  \\\\\n",
       "\\midrule\n",
       "\\textbf{Intercept}           &       8.1790  &        0.520     &    15.721  &         0.000        &        7.150    &        9.208     \\\\\n",
       "\\textbf{logarea}             &       1.0478  &        0.072     &    14.622  &         0.000        &        0.906    &        1.189     \\\\\n",
       "\\textbf{rooms}               &      -0.0405  &        0.030     &    -1.363  &         0.175        &       -0.099    &        0.018     \\\\\n",
       "\\textbf{ceilingHeight}       &       0.2206  &        0.107     &     2.066  &         0.041        &        0.009    &        0.432     \\\\\n",
       "\\textbf{numApartmentsTotal}  &      -0.0001  &     2.43e-05     &    -5.663  &         0.000        &       -0.000    &    -8.97e-05     \\\\\n",
       "\\textbf{floor}               &      -0.0052  &        0.002     &    -2.091  &         0.038        &       -0.010    &       -0.000     \\\\\n",
       "\\textbf{crimeRateInDistrict} &      -0.0001  &     3.54e-05     &    -3.559  &         0.001        &       -0.000    &     -5.6e-05     \\\\\n",
       "\\textbf{predictedClass}      &       1.2387  &        0.070     &    17.778  &         0.000        &        1.101    &        1.376     \\\\\n",
       "\\textbf{minutesToCityCenter} &       0.0124  &        0.002     &     7.977  &         0.000        &        0.009    &        0.016     \\\\\n",
       "\\bottomrule\n",
       "\\end{tabular}\n",
       "\\begin{tabular}{lclc}\n",
       "\\textbf{Omnibus:}       &  4.800 & \\textbf{  Durbin-Watson:     } &    0.317  \\\\\n",
       "\\textbf{Prob(Omnibus):} &  0.091 & \\textbf{  Jarque-Bera (JB):  } &    5.850  \\\\\n",
       "\\textbf{Skew:}          &  0.163 & \\textbf{  Prob(JB):          } &   0.0537  \\\\\n",
       "\\textbf{Kurtosis:}      &  3.925 & \\textbf{  Cond. No.          } & 1.42e+05  \\\\\n",
       "\\bottomrule\n",
       "\\end{tabular}\n",
       "%\\caption{OLS Regression Results}\n",
       "\\end{center}\n",
       "\n",
       "Notes: \\newline\n",
       " [1] Standard Errors assume that the covariance matrix of the errors is correctly specified. \\newline\n",
       " [2] The condition number is large, 1.42e+05. This might indicate that there are \\newline\n",
       " strong multicollinearity or other numerical problems."
      ],
      "text/plain": [
       "<class 'statsmodels.iolib.summary.Summary'>\n",
       "\"\"\"\n",
       "                            OLS Regression Results                            \n",
       "==============================================================================\n",
       "Dep. Variable:               logprice   R-squared:                       0.959\n",
       "Model:                            OLS   Adj. R-squared:                  0.957\n",
       "Method:                 Least Squares   F-statistic:                     401.9\n",
       "Date:                Mon, 15 May 2023   Prob (F-statistic):           3.90e-91\n",
       "Time:                        12:34:18   Log-Likelihood:                 66.851\n",
       "No. Observations:                 146   AIC:                            -115.7\n",
       "Df Residuals:                     137   BIC:                            -88.85\n",
       "Df Model:                           8                                         \n",
       "Covariance Type:            nonrobust                                         \n",
       "=======================================================================================\n",
       "                          coef    std err          t      P>|t|      [0.025      0.975]\n",
       "---------------------------------------------------------------------------------------\n",
       "Intercept               8.1790      0.520     15.721      0.000       7.150       9.208\n",
       "logarea                 1.0478      0.072     14.622      0.000       0.906       1.189\n",
       "rooms                  -0.0405      0.030     -1.363      0.175      -0.099       0.018\n",
       "ceilingHeight           0.2206      0.107      2.066      0.041       0.009       0.432\n",
       "numApartmentsTotal     -0.0001   2.43e-05     -5.663      0.000      -0.000   -8.97e-05\n",
       "floor                  -0.0052      0.002     -2.091      0.038      -0.010      -0.000\n",
       "crimeRateInDistrict    -0.0001   3.54e-05     -3.559      0.001      -0.000    -5.6e-05\n",
       "predictedClass          1.2387      0.070     17.778      0.000       1.101       1.376\n",
       "minutesToCityCenter     0.0124      0.002      7.977      0.000       0.009       0.016\n",
       "==============================================================================\n",
       "Omnibus:                        4.800   Durbin-Watson:                   0.317\n",
       "Prob(Omnibus):                  0.091   Jarque-Bera (JB):                5.850\n",
       "Skew:                           0.163   Prob(JB):                       0.0537\n",
       "Kurtosis:                       3.925   Cond. No.                     1.42e+05\n",
       "==============================================================================\n",
       "\n",
       "Notes:\n",
       "[1] Standard Errors assume that the covariance matrix of the errors is correctly specified.\n",
       "[2] The condition number is large, 1.42e+05. This might indicate that there are\n",
       "strong multicollinearity or other numerical problems.\n",
       "\"\"\""
      ]
     },
     "execution_count": 34,
     "metadata": {},
     "output_type": "execute_result"
    }
   ],
   "source": [
    "lm_HPRICE9 = smf.ols(formula='logprice ~ logarea + rooms + ceilingHeight + numApartmentsTotal + floor + crimeRateInDistrict + predictedClass + minutesToCityCenter', data=df1).fit()\n",
    "print(lm_HPRICE9.params)\n",
    "lm_HPRICE9.summary()"
   ]
  },
  {
   "cell_type": "markdown",
   "metadata": {
    "id": "N00rUcnqLXZh"
   },
   "source": [
    "## Прогнозування вартості нерухомості"
   ]
  },
  {
   "cell_type": "code",
   "execution_count": 35,
   "metadata": {},
   "outputs": [],
   "source": [
    "real_estate = df1.sample()[['logarea', 'rooms', 'ceilingHeight', 'numApartmentsTotal', 'floor', 'crimeRateInDistrict', 'predictedClass']]"
   ]
  },
  {
   "cell_type": "code",
   "execution_count": 36,
   "metadata": {
    "scrolled": true
   },
   "outputs": [
    {
     "data": {
      "text/html": [
       "<div>\n",
       "<style scoped>\n",
       "    .dataframe tbody tr th:only-of-type {\n",
       "        vertical-align: middle;\n",
       "    }\n",
       "\n",
       "    .dataframe tbody tr th {\n",
       "        vertical-align: top;\n",
       "    }\n",
       "\n",
       "    .dataframe thead th {\n",
       "        text-align: right;\n",
       "    }\n",
       "</style>\n",
       "<table border=\"1\" class=\"dataframe\">\n",
       "  <thead>\n",
       "    <tr style=\"text-align: right;\">\n",
       "      <th></th>\n",
       "      <th>logarea</th>\n",
       "      <th>rooms</th>\n",
       "      <th>ceilingHeight</th>\n",
       "      <th>numApartmentsTotal</th>\n",
       "      <th>floor</th>\n",
       "      <th>crimeRateInDistrict</th>\n",
       "      <th>predictedClass</th>\n",
       "    </tr>\n",
       "  </thead>\n",
       "  <tbody>\n",
       "    <tr>\n",
       "      <th>86</th>\n",
       "      <td>3.970292</td>\n",
       "      <td>1</td>\n",
       "      <td>3</td>\n",
       "      <td>800</td>\n",
       "      <td>11.5</td>\n",
       "      <td>2537</td>\n",
       "      <td>2</td>\n",
       "    </tr>\n",
       "  </tbody>\n",
       "</table>\n",
       "</div>"
      ],
      "text/plain": [
       "     logarea  rooms  ceilingHeight  numApartmentsTotal  floor  \\\n",
       "86  3.970292      1              3                 800   11.5   \n",
       "\n",
       "    crimeRateInDistrict  predictedClass  \n",
       "86                 2537               2  "
      ]
     },
     "execution_count": 36,
     "metadata": {},
     "output_type": "execute_result"
    }
   ],
   "source": [
    "real_estate"
   ]
  },
  {
   "cell_type": "code",
   "execution_count": 37,
   "metadata": {},
   "outputs": [],
   "source": [
    "real_estate_info = df1.loc[df1.index == 116][['residence', 'address', 'predictedClass']].values[0]"
   ]
  },
  {
   "cell_type": "code",
   "execution_count": 38,
   "metadata": {},
   "outputs": [
    {
     "data": {
      "text/plain": [
       "array(['Linden Luxury Residences', 'вул. Лютеранська, 14в', 3],\n",
       "      dtype=object)"
      ]
     },
     "execution_count": 38,
     "metadata": {},
     "output_type": "execute_result"
    }
   ],
   "source": [
    "real_estate_info"
   ]
  },
  {
   "cell_type": "code",
   "execution_count": 39,
   "metadata": {
    "scrolled": true
   },
   "outputs": [],
   "source": [
    "logprice_predicted = lm_HPRICE7.predict(real_estate).values[0]"
   ]
  },
  {
   "cell_type": "code",
   "execution_count": 40,
   "metadata": {},
   "outputs": [],
   "source": [
    "import math"
   ]
  },
  {
   "cell_type": "markdown",
   "metadata": {},
   "source": [
    "Зворотня операція до log - exp"
   ]
  },
  {
   "cell_type": "code",
   "execution_count": 41,
   "metadata": {
    "scrolled": false
   },
   "outputs": [],
   "source": [
    "predicted_price = math.exp(logprice_predicted)\n",
    "price_formatted = \"{:,}\".format(round(predicted_price))"
   ]
  },
  {
   "cell_type": "code",
   "execution_count": 42,
   "metadata": {
    "scrolled": false
   },
   "outputs": [
    {
     "data": {
      "text/plain": [
       "'Ціна квартири в Linden Luxury Residences за адресою вул. Лютеранська, 14в із класом житла 3 оцінена в 5,421,579 гривень'"
      ]
     },
     "execution_count": 42,
     "metadata": {},
     "output_type": "execute_result"
    }
   ],
   "source": [
    "f\"Ціна квартири в {real_estate_info[0]} за адресою {real_estate_info[1]} із класом житла {real_estate_info[2]} оцінена в {price_formatted} гривень\""
   ]
  },
  {
   "cell_type": "markdown",
   "metadata": {
    "id": "N00rUcnqLXZh"
   },
   "source": [
    "## Прогнозування вартості нерухомості з урахуванням дальності до центру"
   ]
  },
  {
   "cell_type": "code",
   "execution_count": 44,
   "metadata": {},
   "outputs": [],
   "source": [
    "real_estate = df1.sample()[['logarea', 'rooms', 'ceilingHeight', 'numApartmentsTotal', 'floor', 'crimeRateInDistrict', 'minutesToCityCenter', 'predictedClass']]"
   ]
  },
  {
   "cell_type": "code",
   "execution_count": 45,
   "metadata": {
    "scrolled": false
   },
   "outputs": [
    {
     "data": {
      "text/html": [
       "<div>\n",
       "<style scoped>\n",
       "    .dataframe tbody tr th:only-of-type {\n",
       "        vertical-align: middle;\n",
       "    }\n",
       "\n",
       "    .dataframe tbody tr th {\n",
       "        vertical-align: top;\n",
       "    }\n",
       "\n",
       "    .dataframe thead th {\n",
       "        text-align: right;\n",
       "    }\n",
       "</style>\n",
       "<table border=\"1\" class=\"dataframe\">\n",
       "  <thead>\n",
       "    <tr style=\"text-align: right;\">\n",
       "      <th></th>\n",
       "      <th>logarea</th>\n",
       "      <th>rooms</th>\n",
       "      <th>ceilingHeight</th>\n",
       "      <th>numApartmentsTotal</th>\n",
       "      <th>floor</th>\n",
       "      <th>crimeRateInDistrict</th>\n",
       "      <th>minutesToCityCenter</th>\n",
       "      <th>predictedClass</th>\n",
       "    </tr>\n",
       "  </thead>\n",
       "  <tbody>\n",
       "    <tr>\n",
       "      <th>31</th>\n",
       "      <td>3.295837</td>\n",
       "      <td>1</td>\n",
       "      <td>2</td>\n",
       "      <td>2857</td>\n",
       "      <td>25.5</td>\n",
       "      <td>2317</td>\n",
       "      <td>156</td>\n",
       "      <td>1</td>\n",
       "    </tr>\n",
       "  </tbody>\n",
       "</table>\n",
       "</div>"
      ],
      "text/plain": [
       "     logarea  rooms  ceilingHeight  numApartmentsTotal  floor  \\\n",
       "31  3.295837      1              2                2857   25.5   \n",
       "\n",
       "    crimeRateInDistrict  minutesToCityCenter  predictedClass  \n",
       "31                 2317                  156               1  "
      ]
     },
     "execution_count": 45,
     "metadata": {},
     "output_type": "execute_result"
    }
   ],
   "source": [
    "real_estate"
   ]
  },
  {
   "cell_type": "code",
   "execution_count": 47,
   "metadata": {},
   "outputs": [
    {
     "data": {
      "text/plain": [
       "31"
      ]
     },
     "execution_count": 47,
     "metadata": {},
     "output_type": "execute_result"
    }
   ],
   "source": [
    "real_estate.index.values[0]"
   ]
  },
  {
   "cell_type": "code",
   "execution_count": 54,
   "metadata": {},
   "outputs": [],
   "source": [
    "real_estate_info = df1.loc[df1.index == real_estate.index.values[0]][['residence', 'address', 'predictedClass']].values[0]"
   ]
  },
  {
   "cell_type": "code",
   "execution_count": 49,
   "metadata": {
    "scrolled": true
   },
   "outputs": [
    {
     "data": {
      "text/plain": [
       "array(['ЖК Метрополіс', 'вул. Академіка Заболотного, 1', 1], dtype=object)"
      ]
     },
     "execution_count": 49,
     "metadata": {},
     "output_type": "execute_result"
    }
   ],
   "source": [
    "real_estate_info"
   ]
  },
  {
   "cell_type": "code",
   "execution_count": 50,
   "metadata": {
    "scrolled": true
   },
   "outputs": [],
   "source": [
    "logprice_predicted = lm_HPRICE9.predict(real_estate).values[0]"
   ]
  },
  {
   "cell_type": "code",
   "execution_count": 51,
   "metadata": {},
   "outputs": [],
   "source": [
    "import math"
   ]
  },
  {
   "cell_type": "markdown",
   "metadata": {},
   "source": [
    "Зворотня операція до log - exp"
   ]
  },
  {
   "cell_type": "code",
   "execution_count": 52,
   "metadata": {
    "scrolled": false
   },
   "outputs": [],
   "source": [
    "predicted_price = math.exp(logprice_predicted)\n",
    "price_formatted = \"{:,}\".format(round(predicted_price))"
   ]
  },
  {
   "cell_type": "code",
   "execution_count": 53,
   "metadata": {
    "scrolled": true
   },
   "outputs": [
    {
     "data": {
      "text/plain": [
       "'Ціна квартири в ЖК Метрополіс за адресою вул. Академіка Заболотного, 1 із класом житла 1 оцінена в 1,785,074 гривень'"
      ]
     },
     "execution_count": 53,
     "metadata": {},
     "output_type": "execute_result"
    }
   ],
   "source": [
    "f\"Ціна квартири в {real_estate_info[0]} за адресою {real_estate_info[1]} із класом житла {real_estate_info[2]} оцінена в {price_formatted} гривень\""
   ]
  },
  {
   "cell_type": "markdown",
   "metadata": {},
   "source": [
    "## Експорт моделі для подальшого використання на сервері"
   ]
  },
  {
   "cell_type": "code",
   "execution_count": 43,
   "metadata": {},
   "outputs": [],
   "source": [
    "# lm_HPRICE7.save(\"lm_HPRICE7.pickle\")"
   ]
  },
  {
   "cell_type": "code",
   "execution_count": 56,
   "metadata": {},
   "outputs": [],
   "source": [
    "# lm_HPRICE9.save(\"lm_HPRICE9.pickle\")"
   ]
  },
  {
   "cell_type": "markdown",
   "metadata": {},
   "source": [
    "Довільний приклад для тестування моделі"
   ]
  }
 ],
 "metadata": {
  "colab": {
   "provenance": []
  },
  "kernelspec": {
   "display_name": "Python 3 (ipykernel)",
   "language": "python",
   "name": "python3"
  },
  "language_info": {
   "codemirror_mode": {
    "name": "ipython",
    "version": 3
   },
   "file_extension": ".py",
   "mimetype": "text/x-python",
   "name": "python",
   "nbconvert_exporter": "python",
   "pygments_lexer": "ipython3",
   "version": "3.9.16"
  }
 },
 "nbformat": 4,
 "nbformat_minor": 1
}
