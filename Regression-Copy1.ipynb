{
 "cells": [
  {
   "cell_type": "markdown",
   "metadata": {},
   "source": [
    "## Залежності проекту"
   ]
  },
  {
   "cell_type": "code",
   "execution_count": 1,
   "metadata": {
    "id": "_UoQpifexDG7"
   },
   "outputs": [],
   "source": [
    "import numpy as np\n",
    "import pandas as pd"
   ]
  },
  {
   "cell_type": "code",
   "execution_count": 2,
   "metadata": {
    "id": "5cUOPJ257ny3"
   },
   "outputs": [
    {
     "ename": "ModuleNotFoundError",
     "evalue": "No module named 'statsmodels'",
     "output_type": "error",
     "traceback": [
      "\u001b[0;31m---------------------------------------------------------------------------\u001b[0m",
      "\u001b[0;31mModuleNotFoundError\u001b[0m                       Traceback (most recent call last)",
      "Cell \u001b[0;32mIn[2], line 2\u001b[0m\n\u001b[1;32m      1\u001b[0m \u001b[38;5;28;01mimport\u001b[39;00m \u001b[38;5;21;01mscipy\u001b[39;00m\u001b[38;5;21;01m.\u001b[39;00m\u001b[38;5;21;01mstats\u001b[39;00m\n\u001b[0;32m----> 2\u001b[0m \u001b[38;5;28;01mimport\u001b[39;00m \u001b[38;5;21;01mstatsmodels\u001b[39;00m\u001b[38;5;21;01m.\u001b[39;00m\u001b[38;5;21;01mapi\u001b[39;00m \u001b[38;5;28;01mas\u001b[39;00m \u001b[38;5;21;01msm\u001b[39;00m\n\u001b[1;32m      3\u001b[0m \u001b[38;5;28;01mimport\u001b[39;00m \u001b[38;5;21;01mstatsmodels\u001b[39;00m\u001b[38;5;21;01m.\u001b[39;00m\u001b[38;5;21;01mformula\u001b[39;00m\u001b[38;5;21;01m.\u001b[39;00m\u001b[38;5;21;01mapi\u001b[39;00m \u001b[38;5;28;01mas\u001b[39;00m \u001b[38;5;21;01msmf\u001b[39;00m\n",
      "\u001b[0;31mModuleNotFoundError\u001b[0m: No module named 'statsmodels'"
     ]
    }
   ],
   "source": [
    "import scipy.stats\n",
    "import statsmodels.api as sm\n",
    "import statsmodels.formula.api as smf"
   ]
  },
  {
   "cell_type": "code",
   "execution_count": null,
   "metadata": {
    "id": "dg9mbnqpZpc9"
   },
   "outputs": [],
   "source": [
    "import matplotlib.pyplot as plt\n",
    "import seaborn as sns"
   ]
  },
  {
   "cell_type": "markdown",
   "metadata": {},
   "source": [
    "## Ознайомлення із набором даних"
   ]
  },
  {
   "cell_type": "code",
   "execution_count": null,
   "metadata": {
    "colab": {
     "base_uri": "https://localhost:8080/",
     "height": 528
    },
    "id": "uYIOY2DJxJVD",
    "outputId": "55ea00a8-28c1-44c0-da99-3ed7139f24fe"
   },
   "outputs": [],
   "source": [
    "df = pd. read_csv('/content/real-estate-with-nn-results.csv')\n",
    "df.head()"
   ]
  },
  {
   "cell_type": "markdown",
   "metadata": {},
   "source": [
    "## Статистика"
   ]
  },
  {
   "cell_type": "code",
   "execution_count": null,
   "metadata": {
    "colab": {
     "base_uri": "https://localhost:8080/",
     "height": 300
    },
    "id": "QatjOz55izrT",
    "outputId": "ba02f4b9-1990-46a3-ea44-5553c6f7f278",
    "scrolled": true
   },
   "outputs": [],
   "source": [
    "df.describe()"
   ]
  },
  {
   "cell_type": "code",
   "execution_count": null,
   "metadata": {
    "colab": {
     "base_uri": "https://localhost:8080/"
    },
    "id": "_8FwNDwMDQQW",
    "outputId": "e4ce18ae-10b6-4d7b-a56e-34da08e88957"
   },
   "outputs": [],
   "source": [
    "df.shape"
   ]
  },
  {
   "cell_type": "code",
   "execution_count": null,
   "metadata": {
    "colab": {
     "base_uri": "https://localhost:8080/",
     "height": 334
    },
    "id": "6L1Nowvnacs_",
    "outputId": "97f4f6db-ce95-4159-fbb4-3d51149a5a86"
   },
   "outputs": [],
   "source": [
    "sns.boxplot(df['price'])\n",
    "plt.show()"
   ]
  },
  {
   "cell_type": "code",
   "execution_count": null,
   "metadata": {
    "colab": {
     "base_uri": "https://localhost:8080/",
     "height": 334
    },
    "id": "O-0i6lqGB6Fu",
    "outputId": "6cf7ae11-a577-47b8-ab07-dc5d109a95f0"
   },
   "outputs": [],
   "source": [
    "sns.boxplot(df['area'])\n",
    "plt.show()"
   ]
  },
  {
   "cell_type": "code",
   "execution_count": null,
   "metadata": {
    "id": "2cppITXg8cz_"
   },
   "outputs": [],
   "source": [
    "df['logprice']=np.log(df['price'])\n",
    "df['logarea']=np.log(df['area'])\n"
   ]
  },
  {
   "cell_type": "code",
   "execution_count": null,
   "metadata": {
    "colab": {
     "base_uri": "https://localhost:8080/",
     "height": 334
    },
    "id": "Y0-IatnAcXUl",
    "outputId": "4dd3c179-df38-4fc9-b956-7758f90d443d"
   },
   "outputs": [],
   "source": [
    "sns.boxplot(df['logprice'])\n",
    "plt.show()"
   ]
  },
  {
   "cell_type": "code",
   "execution_count": null,
   "metadata": {
    "colab": {
     "base_uri": "https://localhost:8080/",
     "height": 334
    },
    "id": "vv-_8BwPCApp",
    "outputId": "f9cbdf7a-1b95-43cf-96d1-f6bc53473583"
   },
   "outputs": [],
   "source": [
    "sns.boxplot(df['logarea'])\n",
    "plt.show()"
   ]
  },
  {
   "cell_type": "markdown",
   "metadata": {},
   "source": [
    "## Фільтрація набору даних від викидів"
   ]
  },
  {
   "cell_type": "markdown",
   "metadata": {},
   "source": [
    "Викидами є дані що кардинально відрізняються від середніх значень що були знайдені в наборі даних."
   ]
  },
  {
   "cell_type": "code",
   "execution_count": null,
   "metadata": {
    "colab": {
     "base_uri": "https://localhost:8080/"
    },
    "id": "z5ffFZiViZjA",
    "outputId": "c3ca2ab6-7b05-4e9e-901b-228b4507a1de"
   },
   "outputs": [],
   "source": [
    "q1_logprice = df['logprice'].quantile(0.25)\n",
    "q3_logprice = df['logprice'].quantile(0.75)\n",
    "iqr_logprice = q3_logprice - q1_logprice\n",
    "lower_bound_logprice = q1_logprice - 1.5 * iqr_logprice\n",
    "upper_bound_logprice = q3_logprice + 1.5 * iqr_logprice\n",
    "\n",
    "outliers_logprice = df[(df['logprice'] < lower_bound_logprice) | (df['logprice'] > upper_bound_logprice)].index\n",
    "\n",
    "print(outliers_logprice)\n"
   ]
  },
  {
   "cell_type": "code",
   "execution_count": null,
   "metadata": {
    "colab": {
     "base_uri": "https://localhost:8080/"
    },
    "id": "ATt7-O8KtPpE",
    "outputId": "8a757e2f-3ea4-4d1e-db36-99cc36fec7e2"
   },
   "outputs": [],
   "source": [
    "q1_logarea = df['logarea'].quantile(0.25)\n",
    "q3_logarea = df['logarea'].quantile(0.75)\n",
    "iqr_logarea = q3_logarea - q1_logarea\n",
    "lower_bound_logarea = q1_logarea - 1.5 * iqr_logarea\n",
    "upper_bound_logarea = q3_logarea + 1.5 * iqr_logarea\n",
    "\n",
    "outliers_logarea = df[(df['logarea'] < lower_bound_logarea) | (df['logarea'] > upper_bound_logarea)].index\n",
    "\n",
    "print(outliers_logarea)"
   ]
  },
  {
   "cell_type": "code",
   "execution_count": null,
   "metadata": {
    "colab": {
     "base_uri": "https://localhost:8080/"
    },
    "id": "jNjVJuP8lE07",
    "outputId": "d5be9b39-108f-433d-ff4d-3ef844a617a5"
   },
   "outputs": [],
   "source": [
    "df1 = df.drop([101, 118, 119, 120, 121, 122, 123])\n",
    "df1.shape"
   ]
  },
  {
   "cell_type": "markdown",
   "metadata": {},
   "source": [
    "## Обрахування значимості незалежних змінних на залежну змінну"
   ]
  },
  {
   "cell_type": "code",
   "execution_count": null,
   "metadata": {
    "colab": {
     "base_uri": "https://localhost:8080/",
     "height": 504
    },
    "id": "loKH2vys6_T8",
    "outputId": "8f63b5ac-1cbd-4e56-cf58-1c390985f196",
    "scrolled": true
   },
   "outputs": [],
   "source": [
    "lm_HPRICE = smf.ols(formula='price ~ area', data=df1).fit()\n",
    "print(lm_HPRICE.params)\n",
    "lm_HPRICE.summary()"
   ]
  },
  {
   "cell_type": "code",
   "execution_count": null,
   "metadata": {
    "colab": {
     "base_uri": "https://localhost:8080/",
     "height": 504
    },
    "id": "djZqv4tvAsVF",
    "outputId": "6640d28a-51e5-4a46-c12e-14720f778b29",
    "scrolled": true
   },
   "outputs": [],
   "source": [
    "lm_HPRICE1 = smf.ols(formula='logprice ~ area', data=df1).fit()\n",
    "print(lm_HPRICE1.params)\n",
    "lm_HPRICE1.summary()"
   ]
  },
  {
   "cell_type": "code",
   "execution_count": null,
   "metadata": {
    "colab": {
     "base_uri": "https://localhost:8080/",
     "height": 504
    },
    "id": "jauPLtrEFm_v",
    "outputId": "dd6122fa-1ac2-4b08-f7ab-c52d2dd2e5f4",
    "scrolled": true
   },
   "outputs": [],
   "source": [
    "lm_HPRICE2 = smf.ols(formula='logprice ~ logarea', data=df1).fit()\n",
    "print(lm_HPRICE2.params)\n",
    "lm_HPRICE2.summary()"
   ]
  },
  {
   "cell_type": "code",
   "execution_count": null,
   "metadata": {
    "colab": {
     "base_uri": "https://localhost:8080/",
     "height": 296
    },
    "id": "vqZJwrGQq9H9",
    "outputId": "19c6b711-d6ef-4785-b727-be5382ddd4d8"
   },
   "outputs": [],
   "source": [
    "sns.scatterplot(data=df1, x='logarea', y='logprice', hue='rooms')"
   ]
  },
  {
   "cell_type": "code",
   "execution_count": null,
   "metadata": {
    "colab": {
     "base_uri": "https://localhost:8080/",
     "height": 296
    },
    "id": "-1BCm-G0sm5r",
    "outputId": "281726a0-ccc8-4d89-88f5-afaac2346af9"
   },
   "outputs": [],
   "source": [
    "sns.scatterplot(data=df1, x='numApartmentsTotal', y='logprice')"
   ]
  },
  {
   "cell_type": "code",
   "execution_count": null,
   "metadata": {
    "colab": {
     "base_uri": "https://localhost:8080/",
     "height": 296
    },
    "id": "sUyIObvTIIbn",
    "outputId": "fe445eb3-ff65-4e8a-b3c0-aaac877cb066"
   },
   "outputs": [],
   "source": [
    "sns.scatterplot(data=df1, x='ceilingHeight', y='logprice', hue='ceilingHeight')"
   ]
  },
  {
   "cell_type": "code",
   "execution_count": null,
   "metadata": {
    "colab": {
     "base_uri": "https://localhost:8080/",
     "height": 296
    },
    "id": "YHBOnrhZ34ff",
    "outputId": "933f7b49-31a7-4ef4-b75b-1d4a056fdb6e"
   },
   "outputs": [],
   "source": [
    "sns.scatterplot(data=df1, x='predictedClass', y='logprice', hue='predictedClass')"
   ]
  },
  {
   "cell_type": "code",
   "execution_count": null,
   "metadata": {
    "id": "DCg7G74NHzY8"
   },
   "outputs": [],
   "source": [
    "df1['predictedClass'] = df['predictedClass'].replace({'комфорт': 1, 'бізнес': 2, 'преміум': 3})\n"
   ]
  },
  {
   "cell_type": "code",
   "execution_count": null,
   "metadata": {
    "colab": {
     "base_uri": "https://localhost:8080/",
     "height": 542
    },
    "id": "Iw95VG6quvbh",
    "outputId": "b8a21578-f327-4967-a9da-f1da6f042ba4"
   },
   "outputs": [],
   "source": [
    "lm_HPRICE3 = smf.ols(formula='logprice ~ logarea + rooms', data=df1).fit()\n",
    "print(lm_HPRICE3.params)\n",
    "lm_HPRICE3.summary()"
   ]
  },
  {
   "cell_type": "code",
   "execution_count": null,
   "metadata": {
    "colab": {
     "base_uri": "https://localhost:8080/",
     "height": 581
    },
    "id": "_I2J7vbqvRA1",
    "outputId": "cb09f513-4604-4898-b420-337aae6caf21"
   },
   "outputs": [],
   "source": [
    "lm_HPRICE4 = smf.ols(formula='logprice ~ logarea + rooms + ceilingHeight', data=df1).fit()\n",
    "print(lm_HPRICE4.params)\n",
    "lm_HPRICE4.summary()"
   ]
  },
  {
   "cell_type": "code",
   "execution_count": null,
   "metadata": {
    "colab": {
     "base_uri": "https://localhost:8080/",
     "height": 655
    },
    "id": "LvBzcCoivmO6",
    "outputId": "cc3a70da-f2fb-419c-a6c5-f903d35fa1e8"
   },
   "outputs": [],
   "source": [
    "lm_HPRICE5 = smf.ols(formula='logprice ~ logarea + rooms + ceilingHeight + numApartmentsTotal', data=df1).fit()\n",
    "print(lm_HPRICE5.params)\n",
    "lm_HPRICE5.summary()"
   ]
  },
  {
   "cell_type": "code",
   "execution_count": null,
   "metadata": {
    "colab": {
     "base_uri": "https://localhost:8080/",
     "height": 655
    },
    "id": "zsmayZxbzpkq",
    "outputId": "fff69b69-e318-4c4c-cd92-e0b440550574"
   },
   "outputs": [],
   "source": [
    "lm_HPRICE5 = smf.ols(formula='logprice ~ logarea + rooms + ceilingHeight + numApartmentsTotal', data=df1).fit()\n",
    "print(lm_HPRICE5.params)\n",
    "lm_HPRICE5.summary()"
   ]
  },
  {
   "cell_type": "code",
   "execution_count": null,
   "metadata": {
    "colab": {
     "base_uri": "https://localhost:8080/",
     "height": 693
    },
    "id": "hSCgYAOR50Tz",
    "outputId": "f764cc88-2d8e-4813-beb3-0a36146b340a"
   },
   "outputs": [],
   "source": [
    "lm_HPRICE5 = smf.ols(formula='logprice ~ logarea + rooms + ceilingHeight + numApartmentsTotal + floor', data=df1).fit()\n",
    "print(lm_HPRICE5.params)\n",
    "lm_HPRICE5.summary()"
   ]
  },
  {
   "cell_type": "code",
   "execution_count": null,
   "metadata": {
    "colab": {
     "base_uri": "https://localhost:8080/",
     "height": 732
    },
    "id": "KmrKcbGx56LH",
    "outputId": "192da761-1768-4db2-bf72-79d64b47ee06"
   },
   "outputs": [],
   "source": [
    "lm_HPRICE6 = smf.ols(formula='logprice ~ logarea + rooms + ceilingHeight + numApartmentsTotal + floor + crimeRateInDistrict', data=df1).fit()\n",
    "print(lm_HPRICE6.params)\n",
    "lm_HPRICE6.summary()"
   ]
  },
  {
   "cell_type": "code",
   "execution_count": null,
   "metadata": {
    "colab": {
     "base_uri": "https://localhost:8080/",
     "height": 771
    },
    "id": "OLLWZgibBsDo",
    "outputId": "15eb966d-da89-481c-ba11-b2d5ff00613f"
   },
   "outputs": [],
   "source": [
    "lm_HPRICE7 = smf.ols(formula='logprice ~ logarea + rooms + ceilingHeight + numApartmentsTotal + floor + crimeRateInDistrict + predictedClass', data=df1).fit()\n",
    "print(lm_HPRICE7.params)\n",
    "lm_HPRICE7.summary()"
   ]
  },
  {
   "cell_type": "code",
   "execution_count": null,
   "metadata": {
    "colab": {
     "base_uri": "https://localhost:8080/",
     "height": 542
    },
    "id": "5Ml16nQaJtT0",
    "outputId": "0111a81c-4705-42f8-d084-c67e867586d5"
   },
   "outputs": [],
   "source": [
    "lm_HPRICE8 = smf.ols(formula='logprice ~ logarea + predictedClass', data=df1).fit()\n",
    "print(lm_HPRICE8.params)\n",
    "lm_HPRICE8.summary()"
   ]
  },
  {
   "cell_type": "code",
   "execution_count": null,
   "metadata": {
    "id": "N00rUcnqLXZh"
   },
   "outputs": [],
   "source": []
  }
 ],
 "metadata": {
  "colab": {
   "provenance": []
  },
  "kernelspec": {
   "display_name": "Python 3 (ipykernel)",
   "language": "python",
   "name": "python3"
  },
  "language_info": {
   "codemirror_mode": {
    "name": "ipython",
    "version": 3
   },
   "file_extension": ".py",
   "mimetype": "text/x-python",
   "name": "python",
   "nbconvert_exporter": "python",
   "pygments_lexer": "ipython3",
   "version": "3.9.16"
  }
 },
 "nbformat": 4,
 "nbformat_minor": 1
}
