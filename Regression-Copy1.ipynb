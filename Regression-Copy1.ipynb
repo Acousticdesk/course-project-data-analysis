{
 "cells": [
  {
   "cell_type": "markdown",
   "metadata": {},
   "source": [
    "## Залежності проекту"
   ]
  },
  {
   "cell_type": "code",
   "execution_count": 293,
   "metadata": {
    "id": "_UoQpifexDG7"
   },
   "outputs": [],
   "source": [
    "import numpy as np\n",
    "import pandas as pd"
   ]
  },
  {
   "cell_type": "code",
   "execution_count": 294,
   "metadata": {
    "id": "5cUOPJ257ny3"
   },
   "outputs": [],
   "source": [
    "import scipy.stats\n",
    "import statsmodels.api as sm\n",
    "import statsmodels.formula.api as smf"
   ]
  },
  {
   "cell_type": "code",
   "execution_count": 295,
   "metadata": {
    "id": "dg9mbnqpZpc9"
   },
   "outputs": [],
   "source": [
    "import matplotlib.pyplot as plt\n",
    "import seaborn as sns"
   ]
  },
  {
   "cell_type": "markdown",
   "metadata": {},
   "source": [
    "## Ознайомлення із набором даних"
   ]
  },
  {
   "cell_type": "code",
   "execution_count": 296,
   "metadata": {
    "colab": {
     "base_uri": "https://localhost:8080/",
     "height": 528
    },
    "id": "uYIOY2DJxJVD",
    "outputId": "55ea00a8-28c1-44c0-da99-3ed7139f24fe"
   },
   "outputs": [
    {
     "data": {
      "text/html": [
       "<div>\n",
       "<style scoped>\n",
       "    .dataframe tbody tr th:only-of-type {\n",
       "        vertical-align: middle;\n",
       "    }\n",
       "\n",
       "    .dataframe tbody tr th {\n",
       "        vertical-align: top;\n",
       "    }\n",
       "\n",
       "    .dataframe thead th {\n",
       "        text-align: right;\n",
       "    }\n",
       "</style>\n",
       "<table border=\"1\" class=\"dataframe\">\n",
       "  <thead>\n",
       "    <tr style=\"text-align: right;\">\n",
       "      <th></th>\n",
       "      <th>Unnamed: 0</th>\n",
       "      <th>residence</th>\n",
       "      <th>developer</th>\n",
       "      <th>description</th>\n",
       "      <th>address</th>\n",
       "      <th>district</th>\n",
       "      <th>ceilingHeight</th>\n",
       "      <th>numApartmentsTotal</th>\n",
       "      <th>year</th>\n",
       "      <th>pricePerSquareMeter</th>\n",
       "      <th>price</th>\n",
       "      <th>area</th>\n",
       "      <th>rooms</th>\n",
       "      <th>floor</th>\n",
       "      <th>minutesToCityCenter</th>\n",
       "      <th>assess</th>\n",
       "      <th>crimeRateInDistrict</th>\n",
       "      <th>predictedClass</th>\n",
       "    </tr>\n",
       "  </thead>\n",
       "  <tbody>\n",
       "    <tr>\n",
       "      <th>0</th>\n",
       "      <td>0</td>\n",
       "      <td>А136 Highlight Tower</td>\n",
       "      <td>DIM</td>\n",
       "      <td>Residential complex A136 Highlight Tower is a ...</td>\n",
       "      <td>вул. Антоновича, 136-138</td>\n",
       "      <td>Голосіївський р-н</td>\n",
       "      <td>3</td>\n",
       "      <td>324</td>\n",
       "      <td>2023.0</td>\n",
       "      <td>137800.0</td>\n",
       "      <td>7441200.0</td>\n",
       "      <td>54</td>\n",
       "      <td>1</td>\n",
       "      <td>18.0</td>\n",
       "      <td>48</td>\n",
       "      <td>52536</td>\n",
       "      <td>2317</td>\n",
       "      <td>бізнес</td>\n",
       "    </tr>\n",
       "    <tr>\n",
       "      <th>1</th>\n",
       "      <td>1</td>\n",
       "      <td>А136 Highlight Tower</td>\n",
       "      <td>DIM</td>\n",
       "      <td>Residential complex A136 Highlight Tower is a ...</td>\n",
       "      <td>вул. Антоновича, 136-138</td>\n",
       "      <td>Голосіївський р-н</td>\n",
       "      <td>3</td>\n",
       "      <td>324</td>\n",
       "      <td>2023.0</td>\n",
       "      <td>137800.0</td>\n",
       "      <td>7992400.0</td>\n",
       "      <td>58</td>\n",
       "      <td>1</td>\n",
       "      <td>NaN</td>\n",
       "      <td>48</td>\n",
       "      <td>52536</td>\n",
       "      <td>2317</td>\n",
       "      <td>бізнес</td>\n",
       "    </tr>\n",
       "    <tr>\n",
       "      <th>2</th>\n",
       "      <td>2</td>\n",
       "      <td>А136 Highlight Tower</td>\n",
       "      <td>DIM</td>\n",
       "      <td>Residential complex A136 Highlight Tower is a ...</td>\n",
       "      <td>вул. Антоновича, 136-138</td>\n",
       "      <td>Голосіївський р-н</td>\n",
       "      <td>3</td>\n",
       "      <td>324</td>\n",
       "      <td>2023.0</td>\n",
       "      <td>125275.0</td>\n",
       "      <td>10022000.0</td>\n",
       "      <td>80</td>\n",
       "      <td>2</td>\n",
       "      <td>7.0</td>\n",
       "      <td>48</td>\n",
       "      <td>52536</td>\n",
       "      <td>2317</td>\n",
       "      <td>бізнес</td>\n",
       "    </tr>\n",
       "    <tr>\n",
       "      <th>3</th>\n",
       "      <td>3</td>\n",
       "      <td>А136 Highlight Tower</td>\n",
       "      <td>DIM</td>\n",
       "      <td>Residential complex A136 Highlight Tower is a ...</td>\n",
       "      <td>вул. Антоновича, 136-138</td>\n",
       "      <td>Голосіївський р-н</td>\n",
       "      <td>3</td>\n",
       "      <td>324</td>\n",
       "      <td>2023.0</td>\n",
       "      <td>125275.0</td>\n",
       "      <td>10147275.0</td>\n",
       "      <td>81</td>\n",
       "      <td>2</td>\n",
       "      <td>13.0</td>\n",
       "      <td>48</td>\n",
       "      <td>52536</td>\n",
       "      <td>2317</td>\n",
       "      <td>бізнес</td>\n",
       "    </tr>\n",
       "    <tr>\n",
       "      <th>4</th>\n",
       "      <td>4</td>\n",
       "      <td>А136 Highlight Tower</td>\n",
       "      <td>DIM</td>\n",
       "      <td>Residential complex A136 Highlight Tower is a ...</td>\n",
       "      <td>вул. Антоновича, 136-138</td>\n",
       "      <td>Голосіївський р-н</td>\n",
       "      <td>3</td>\n",
       "      <td>324</td>\n",
       "      <td>2023.0</td>\n",
       "      <td>125275.0</td>\n",
       "      <td>10648375.0</td>\n",
       "      <td>85</td>\n",
       "      <td>2</td>\n",
       "      <td>17.0</td>\n",
       "      <td>48</td>\n",
       "      <td>52536</td>\n",
       "      <td>2317</td>\n",
       "      <td>бізнес</td>\n",
       "    </tr>\n",
       "  </tbody>\n",
       "</table>\n",
       "</div>"
      ],
      "text/plain": [
       "   Unnamed: 0             residence developer  \\\n",
       "0           0  А136 Highlight Tower       DIM   \n",
       "1           1  А136 Highlight Tower       DIM   \n",
       "2           2  А136 Highlight Tower       DIM   \n",
       "3           3  А136 Highlight Tower       DIM   \n",
       "4           4  А136 Highlight Tower       DIM   \n",
       "\n",
       "                                         description  \\\n",
       "0  Residential complex A136 Highlight Tower is a ...   \n",
       "1  Residential complex A136 Highlight Tower is a ...   \n",
       "2  Residential complex A136 Highlight Tower is a ...   \n",
       "3  Residential complex A136 Highlight Tower is a ...   \n",
       "4  Residential complex A136 Highlight Tower is a ...   \n",
       "\n",
       "                    address           district  ceilingHeight  \\\n",
       "0  вул. Антоновича, 136-138  Голосіївський р-н              3   \n",
       "1  вул. Антоновича, 136-138  Голосіївський р-н              3   \n",
       "2  вул. Антоновича, 136-138  Голосіївський р-н              3   \n",
       "3  вул. Антоновича, 136-138  Голосіївський р-н              3   \n",
       "4  вул. Антоновича, 136-138  Голосіївський р-н              3   \n",
       "\n",
       "   numApartmentsTotal    year  pricePerSquareMeter       price  area  rooms  \\\n",
       "0                 324  2023.0             137800.0   7441200.0    54      1   \n",
       "1                 324  2023.0             137800.0   7992400.0    58      1   \n",
       "2                 324  2023.0             125275.0  10022000.0    80      2   \n",
       "3                 324  2023.0             125275.0  10147275.0    81      2   \n",
       "4                 324  2023.0             125275.0  10648375.0    85      2   \n",
       "\n",
       "   floor  minutesToCityCenter  assess  crimeRateInDistrict predictedClass  \n",
       "0   18.0                   48   52536                 2317         бізнес  \n",
       "1    NaN                   48   52536                 2317         бізнес  \n",
       "2    7.0                   48   52536                 2317         бізнес  \n",
       "3   13.0                   48   52536                 2317         бізнес  \n",
       "4   17.0                   48   52536                 2317         бізнес  "
      ]
     },
     "execution_count": 296,
     "metadata": {},
     "output_type": "execute_result"
    }
   ],
   "source": [
    "df = pd.read_csv('./real-estate-with-nn-results.csv')\n",
    "df.head()"
   ]
  },
  {
   "cell_type": "markdown",
   "metadata": {},
   "source": [
    "## Статистика"
   ]
  },
  {
   "cell_type": "code",
   "execution_count": 297,
   "metadata": {
    "colab": {
     "base_uri": "https://localhost:8080/",
     "height": 300
    },
    "id": "QatjOz55izrT",
    "outputId": "ba02f4b9-1990-46a3-ea44-5553c6f7f278",
    "scrolled": true
   },
   "outputs": [
    {
     "data": {
      "text/html": [
       "<div>\n",
       "<style scoped>\n",
       "    .dataframe tbody tr th:only-of-type {\n",
       "        vertical-align: middle;\n",
       "    }\n",
       "\n",
       "    .dataframe tbody tr th {\n",
       "        vertical-align: top;\n",
       "    }\n",
       "\n",
       "    .dataframe thead th {\n",
       "        text-align: right;\n",
       "    }\n",
       "</style>\n",
       "<table border=\"1\" class=\"dataframe\">\n",
       "  <thead>\n",
       "    <tr style=\"text-align: right;\">\n",
       "      <th></th>\n",
       "      <th>Unnamed: 0</th>\n",
       "      <th>ceilingHeight</th>\n",
       "      <th>numApartmentsTotal</th>\n",
       "      <th>year</th>\n",
       "      <th>pricePerSquareMeter</th>\n",
       "      <th>price</th>\n",
       "      <th>area</th>\n",
       "      <th>rooms</th>\n",
       "      <th>floor</th>\n",
       "      <th>minutesToCityCenter</th>\n",
       "      <th>assess</th>\n",
       "      <th>crimeRateInDistrict</th>\n",
       "    </tr>\n",
       "  </thead>\n",
       "  <tbody>\n",
       "    <tr>\n",
       "      <th>count</th>\n",
       "      <td>169.000000</td>\n",
       "      <td>169.000000</td>\n",
       "      <td>169.000000</td>\n",
       "      <td>169.000000</td>\n",
       "      <td>160.000000</td>\n",
       "      <td>1.600000e+02</td>\n",
       "      <td>169.000000</td>\n",
       "      <td>169.000000</td>\n",
       "      <td>161.000000</td>\n",
       "      <td>169.000000</td>\n",
       "      <td>169.000000</td>\n",
       "      <td>169.000000</td>\n",
       "    </tr>\n",
       "    <tr>\n",
       "      <th>mean</th>\n",
       "      <td>84.000000</td>\n",
       "      <td>2.443787</td>\n",
       "      <td>1731.479290</td>\n",
       "      <td>2023.393491</td>\n",
       "      <td>100752.812500</td>\n",
       "      <td>9.366031e+06</td>\n",
       "      <td>82.893491</td>\n",
       "      <td>1.852071</td>\n",
       "      <td>11.796273</td>\n",
       "      <td>91.414201</td>\n",
       "      <td>69152.650888</td>\n",
       "      <td>2720.017751</td>\n",
       "    </tr>\n",
       "    <tr>\n",
       "      <th>std</th>\n",
       "      <td>48.930222</td>\n",
       "      <td>0.498307</td>\n",
       "      <td>1624.999967</td>\n",
       "      <td>0.717896</td>\n",
       "      <td>69272.329403</td>\n",
       "      <td>1.257591e+07</td>\n",
       "      <td>53.039186</td>\n",
       "      <td>0.890765</td>\n",
       "      <td>6.920151</td>\n",
       "      <td>58.415538</td>\n",
       "      <td>38927.162889</td>\n",
       "      <td>600.219687</td>\n",
       "    </tr>\n",
       "    <tr>\n",
       "      <th>min</th>\n",
       "      <td>0.000000</td>\n",
       "      <td>2.000000</td>\n",
       "      <td>125.000000</td>\n",
       "      <td>2022.000000</td>\n",
       "      <td>34700.000000</td>\n",
       "      <td>1.232500e+06</td>\n",
       "      <td>8.000000</td>\n",
       "      <td>1.000000</td>\n",
       "      <td>2.000000</td>\n",
       "      <td>5.000000</td>\n",
       "      <td>34392.000000</td>\n",
       "      <td>2106.000000</td>\n",
       "    </tr>\n",
       "    <tr>\n",
       "      <th>25%</th>\n",
       "      <td>42.000000</td>\n",
       "      <td>2.000000</td>\n",
       "      <td>328.000000</td>\n",
       "      <td>2023.000000</td>\n",
       "      <td>58987.500000</td>\n",
       "      <td>3.264581e+06</td>\n",
       "      <td>53.000000</td>\n",
       "      <td>1.000000</td>\n",
       "      <td>7.000000</td>\n",
       "      <td>40.000000</td>\n",
       "      <td>47299.000000</td>\n",
       "      <td>2317.000000</td>\n",
       "    </tr>\n",
       "    <tr>\n",
       "      <th>50%</th>\n",
       "      <td>84.000000</td>\n",
       "      <td>2.000000</td>\n",
       "      <td>1709.000000</td>\n",
       "      <td>2023.000000</td>\n",
       "      <td>69725.000000</td>\n",
       "      <td>4.888850e+06</td>\n",
       "      <td>76.000000</td>\n",
       "      <td>2.000000</td>\n",
       "      <td>11.000000</td>\n",
       "      <td>109.000000</td>\n",
       "      <td>52536.000000</td>\n",
       "      <td>2537.000000</td>\n",
       "    </tr>\n",
       "    <tr>\n",
       "      <th>75%</th>\n",
       "      <td>126.000000</td>\n",
       "      <td>3.000000</td>\n",
       "      <td>2857.000000</td>\n",
       "      <td>2023.500000</td>\n",
       "      <td>116825.000000</td>\n",
       "      <td>9.024400e+06</td>\n",
       "      <td>98.000000</td>\n",
       "      <td>2.000000</td>\n",
       "      <td>14.000000</td>\n",
       "      <td>156.000000</td>\n",
       "      <td>53927.000000</td>\n",
       "      <td>2884.000000</td>\n",
       "    </tr>\n",
       "    <tr>\n",
       "      <th>max</th>\n",
       "      <td>168.000000</td>\n",
       "      <td>3.000000</td>\n",
       "      <td>5183.000000</td>\n",
       "      <td>2025.000000</td>\n",
       "      <td>317600.000000</td>\n",
       "      <td>7.940000e+07</td>\n",
       "      <td>556.000000</td>\n",
       "      <td>5.000000</td>\n",
       "      <td>25.500000</td>\n",
       "      <td>169.000000</td>\n",
       "      <td>136750.000000</td>\n",
       "      <td>3939.000000</td>\n",
       "    </tr>\n",
       "  </tbody>\n",
       "</table>\n",
       "</div>"
      ],
      "text/plain": [
       "       Unnamed: 0  ceilingHeight  numApartmentsTotal         year  \\\n",
       "count  169.000000     169.000000          169.000000   169.000000   \n",
       "mean    84.000000       2.443787         1731.479290  2023.393491   \n",
       "std     48.930222       0.498307         1624.999967     0.717896   \n",
       "min      0.000000       2.000000          125.000000  2022.000000   \n",
       "25%     42.000000       2.000000          328.000000  2023.000000   \n",
       "50%     84.000000       2.000000         1709.000000  2023.000000   \n",
       "75%    126.000000       3.000000         2857.000000  2023.500000   \n",
       "max    168.000000       3.000000         5183.000000  2025.000000   \n",
       "\n",
       "       pricePerSquareMeter         price        area       rooms       floor  \\\n",
       "count           160.000000  1.600000e+02  169.000000  169.000000  161.000000   \n",
       "mean         100752.812500  9.366031e+06   82.893491    1.852071   11.796273   \n",
       "std           69272.329403  1.257591e+07   53.039186    0.890765    6.920151   \n",
       "min           34700.000000  1.232500e+06    8.000000    1.000000    2.000000   \n",
       "25%           58987.500000  3.264581e+06   53.000000    1.000000    7.000000   \n",
       "50%           69725.000000  4.888850e+06   76.000000    2.000000   11.000000   \n",
       "75%          116825.000000  9.024400e+06   98.000000    2.000000   14.000000   \n",
       "max          317600.000000  7.940000e+07  556.000000    5.000000   25.500000   \n",
       "\n",
       "       minutesToCityCenter         assess  crimeRateInDistrict  \n",
       "count           169.000000     169.000000           169.000000  \n",
       "mean             91.414201   69152.650888          2720.017751  \n",
       "std              58.415538   38927.162889           600.219687  \n",
       "min               5.000000   34392.000000          2106.000000  \n",
       "25%              40.000000   47299.000000          2317.000000  \n",
       "50%             109.000000   52536.000000          2537.000000  \n",
       "75%             156.000000   53927.000000          2884.000000  \n",
       "max             169.000000  136750.000000          3939.000000  "
      ]
     },
     "execution_count": 297,
     "metadata": {},
     "output_type": "execute_result"
    }
   ],
   "source": [
    "df.describe()"
   ]
  },
  {
   "cell_type": "code",
   "execution_count": 298,
   "metadata": {
    "colab": {
     "base_uri": "https://localhost:8080/"
    },
    "id": "_8FwNDwMDQQW",
    "outputId": "e4ce18ae-10b6-4d7b-a56e-34da08e88957",
    "scrolled": true
   },
   "outputs": [
    {
     "data": {
      "text/plain": [
       "(169, 18)"
      ]
     },
     "execution_count": 298,
     "metadata": {},
     "output_type": "execute_result"
    }
   ],
   "source": [
    "df.shape"
   ]
  },
  {
   "cell_type": "code",
   "execution_count": 299,
   "metadata": {},
   "outputs": [],
   "source": [
    "df = df.dropna()"
   ]
  },
  {
   "cell_type": "code",
   "execution_count": 300,
   "metadata": {
    "colab": {
     "base_uri": "https://localhost:8080/"
    },
    "id": "_8FwNDwMDQQW",
    "outputId": "e4ce18ae-10b6-4d7b-a56e-34da08e88957",
    "scrolled": true
   },
   "outputs": [
    {
     "data": {
      "text/plain": [
       "(152, 18)"
      ]
     },
     "execution_count": 300,
     "metadata": {},
     "output_type": "execute_result"
    }
   ],
   "source": [
    "df.shape"
   ]
  },
  {
   "cell_type": "code",
   "execution_count": 301,
   "metadata": {
    "colab": {
     "base_uri": "https://localhost:8080/",
     "height": 334
    },
    "id": "6L1Nowvnacs_",
    "outputId": "97f4f6db-ce95-4159-fbb4-3d51149a5a86"
   },
   "outputs": [
    {
     "data": {
      "image/png": "[encoded data removed]",
      "text/plain": [
       "<Figure size 640x480 with 1 Axes>"
      ]
     },
     "metadata": {},
     "output_type": "display_data"
    }
   ],
   "source": [
    "sns.boxplot(df['price'])\n",
    "plt.show()"
   ]
  },
  {
   "cell_type": "code",
   "execution_count": 302,
   "metadata": {
    "colab": {
     "base_uri": "https://localhost:8080/",
     "height": 334
    },
    "id": "O-0i6lqGB6Fu",
    "outputId": "6cf7ae11-a577-47b8-ab07-dc5d109a95f0"
   },
   "outputs": [
    {
     "data": {
      "image/png": "[encoded data removed]",
      "text/plain": [
       "<Figure size 640x480 with 1 Axes>"
      ]
     },
     "metadata": {},
     "output_type": "display_data"
    }
   ],
   "source": [
    "sns.boxplot(df['area'])\n",
    "plt.show()"
   ]
  },
  {
   "cell_type": "code",
   "execution_count": 303,
   "metadata": {
    "id": "2cppITXg8cz_"
   },
   "outputs": [],
   "source": [
    "df['logprice']=np.log(df['price'])\n",
    "df['logarea']=np.log(df['area'])\n"
   ]
  },
  {
   "cell_type": "code",
   "execution_count": 304,
   "metadata": {
    "colab": {
     "base_uri": "https://localhost:8080/",
     "height": 334
    },
    "id": "Y0-IatnAcXUl",
    "outputId": "4dd3c179-df38-4fc9-b956-7758f90d443d"
   },
   "outputs": [
    {
     "data": {
      "image/png": "[encoded data removed]",
      "text/plain": [
       "<Figure size 640x480 with 1 Axes>"
      ]
     },
     "metadata": {},
     "output_type": "display_data"
    }
   ],
   "source": [
    "sns.boxplot(df['logprice'])\n",
    "plt.show()"
   ]
  },
  {
   "cell_type": "code",
   "execution_count": 305,
   "metadata": {
    "colab": {
     "base_uri": "https://localhost:8080/",
     "height": 334
    },
    "id": "vv-_8BwPCApp",
    "outputId": "f9cbdf7a-1b95-43cf-96d1-f6bc53473583"
   },
   "outputs": [
    {
     "data": {
      "image/png": "[encoded data removed]",
      "text/plain": [
       "<Figure size 640x480 with 1 Axes>"
      ]
     },
     "metadata": {},
     "output_type": "display_data"
    }
   ],
   "source": [
    "sns.boxplot(df['logarea'])\n",
    "plt.show()"
   ]
  },
  {
   "cell_type": "markdown",
   "metadata": {},
   "source": [
    "## Фільтрація набору даних від викидів"
   ]
  },
  {
   "cell_type": "markdown",
   "metadata": {},
   "source": [
    "Викидами є дані що кардинально відрізняються від середніх значень що були знайдені в наборі даних."
   ]
  },
  {
   "cell_type": "code",
   "execution_count": 306,
   "metadata": {
    "colab": {
     "base_uri": "https://localhost:8080/"
    },
    "id": "z5ffFZiViZjA",
    "outputId": "c3ca2ab6-7b05-4e9e-901b-228b4507a1de"
   },
   "outputs": [
    {
     "name": "stdout",
     "output_type": "stream",
     "text": [
      "Int64Index([115, 116, 117, 118, 119, 120, 121, 122], dtype='int64')\n"
     ]
    }
   ],
   "source": [
    "q1_logprice = df['logprice'].quantile(0.25)\n",
    "q3_logprice = df['logprice'].quantile(0.75)\n",
    "iqr_logprice = q3_logprice - q1_logprice\n",
    "lower_bound_logprice = q1_logprice - 1.5 * iqr_logprice\n",
    "upper_bound_logprice = q3_logprice + 1.5 * iqr_logprice\n",
    "\n",
    "outliers_logprice = df[(df['logprice'] < lower_bound_logprice) | (df['logprice'] > upper_bound_logprice)].index\n",
    "\n",
    "print(outliers_logprice)\n"
   ]
  },
  {
   "cell_type": "code",
   "execution_count": 307,
   "metadata": {
    "colab": {
     "base_uri": "https://localhost:8080/"
    },
    "id": "ATt7-O8KtPpE",
    "outputId": "8a757e2f-3ea4-4d1e-db36-99cc36fec7e2"
   },
   "outputs": [
    {
     "name": "stdout",
     "output_type": "stream",
     "text": [
      "Int64Index([101, 121, 122], dtype='int64')\n"
     ]
    }
   ],
   "source": [
    "q1_logarea = df['logarea'].quantile(0.25)\n",
    "q3_logarea = df['logarea'].quantile(0.75)\n",
    "iqr_logarea = q3_logarea - q1_logarea\n",
    "lower_bound_logarea = q1_logarea - 1.5 * iqr_logarea\n",
    "upper_bound_logarea = q3_logarea + 1.5 * iqr_logarea\n",
    "\n",
    "outliers_logarea = df[(df['logarea'] < lower_bound_logarea) | (df['logarea'] > upper_bound_logarea)].index\n",
    "\n",
    "print(outliers_logarea)"
   ]
  },
  {
   "cell_type": "code",
   "execution_count": 308,
   "metadata": {},
   "outputs": [],
   "source": [
    "outliers = list(outliers_logprice.copy())\n",
    "outliers.extend(list(outliers_logarea))"
   ]
  },
  {
   "cell_type": "code",
   "execution_count": 309,
   "metadata": {},
   "outputs": [
    {
     "data": {
      "text/plain": [
       "[115, 116, 117, 118, 119, 120, 121, 122, 101, 121, 122]"
      ]
     },
     "execution_count": 309,
     "metadata": {},
     "output_type": "execute_result"
    }
   ],
   "source": [
    "outliers"
   ]
  },
  {
   "cell_type": "code",
   "execution_count": 310,
   "metadata": {
    "colab": {
     "base_uri": "https://localhost:8080/"
    },
    "id": "jNjVJuP8lE07",
    "outputId": "d5be9b39-108f-433d-ff4d-3ef844a617a5"
   },
   "outputs": [
    {
     "data": {
      "text/plain": [
       "(143, 20)"
      ]
     },
     "execution_count": 310,
     "metadata": {},
     "output_type": "execute_result"
    }
   ],
   "source": [
    "df1 = df.drop(outliers)\n",
    "df1.shape"
   ]
  },
  {
   "cell_type": "markdown",
   "metadata": {},
   "source": [
    "## Обрахування значимості незалежних змінних на залежну змінну"
   ]
  },
  {
   "cell_type": "markdown",
   "metadata": {},
   "source": [
    "OLS - Ordinary List Squares"
   ]
  },
  {
   "cell_type": "code",
   "execution_count": 311,
   "metadata": {
    "colab": {
     "base_uri": "https://localhost:8080/",
     "height": 504
    },
    "id": "loKH2vys6_T8",
    "outputId": "8f63b5ac-1cbd-4e56-cf58-1c390985f196",
    "scrolled": true
   },
   "outputs": [
    {
     "name": "stdout",
     "output_type": "stream",
     "text": [
      "Intercept   -2.142895e+06\n",
      "area         1.245743e+05\n",
      "dtype: float64\n"
     ]
    },
    {
     "data": {
      "text/html": [
       "<table class=\"simpletable\">\n",
       "<caption>OLS Regression Results</caption>\n",
       "<tr>\n",
       "  <th>Dep. Variable:</th>          <td>price</td>      <th>  R-squared:         </th> <td>   0.289</td>\n",
       "</tr>\n",
       "<tr>\n",
       "  <th>Model:</th>                   <td>OLS</td>       <th>  Adj. R-squared:    </th> <td>   0.284</td>\n",
       "</tr>\n",
       "<tr>\n",
       "  <th>Method:</th>             <td>Least Squares</td>  <th>  F-statistic:       </th> <td>   57.25</td>\n",
       "</tr>\n",
       "<tr>\n",
       "  <th>Date:</th>             <td>Tue, 16 May 2023</td> <th>  Prob (F-statistic):</th> <td>4.52e-12</td>\n",
       "</tr>\n",
       "<tr>\n",
       "  <th>Time:</th>                 <td>08:08:36</td>     <th>  Log-Likelihood:    </th> <td> -2418.7</td>\n",
       "</tr>\n",
       "<tr>\n",
       "  <th>No. Observations:</th>      <td>   143</td>      <th>  AIC:               </th> <td>   4841.</td>\n",
       "</tr>\n",
       "<tr>\n",
       "  <th>Df Residuals:</th>          <td>   141</td>      <th>  BIC:               </th> <td>   4847.</td>\n",
       "</tr>\n",
       "<tr>\n",
       "  <th>Df Model:</th>              <td>     1</td>      <th>                     </th>     <td> </td>   \n",
       "</tr>\n",
       "<tr>\n",
       "  <th>Covariance Type:</th>      <td>nonrobust</td>    <th>                     </th>     <td> </td>   \n",
       "</tr>\n",
       "</table>\n",
       "<table class=\"simpletable\">\n",
       "<tr>\n",
       "      <td></td>         <th>coef</th>     <th>std err</th>      <th>t</th>      <th>P>|t|</th>  <th>[0.025</th>    <th>0.975]</th>  \n",
       "</tr>\n",
       "<tr>\n",
       "  <th>Intercept</th> <td>-2.143e+06</td> <td> 1.28e+06</td> <td>   -1.680</td> <td> 0.095</td> <td>-4.66e+06</td> <td> 3.79e+05</td>\n",
       "</tr>\n",
       "<tr>\n",
       "  <th>area</th>      <td> 1.246e+05</td> <td> 1.65e+04</td> <td>    7.567</td> <td> 0.000</td> <td>  9.2e+04</td> <td> 1.57e+05</td>\n",
       "</tr>\n",
       "</table>\n",
       "<table class=\"simpletable\">\n",
       "<tr>\n",
       "  <th>Omnibus:</th>       <td>49.128</td> <th>  Durbin-Watson:     </th> <td>   0.200</td>\n",
       "</tr>\n",
       "<tr>\n",
       "  <th>Prob(Omnibus):</th> <td> 0.000</td> <th>  Jarque-Bera (JB):  </th> <td> 109.906</td>\n",
       "</tr>\n",
       "<tr>\n",
       "  <th>Skew:</th>          <td> 1.466</td> <th>  Prob(JB):          </th> <td>1.36e-24</td>\n",
       "</tr>\n",
       "<tr>\n",
       "  <th>Kurtosis:</th>      <td> 6.139</td> <th>  Cond. No.          </th> <td>    219.</td>\n",
       "</tr>\n",
       "</table><br/><br/>Notes:<br/>[1] Standard Errors assume that the covariance matrix of the errors is correctly specified."
      ],
      "text/latex": [
       "\\begin{center}\n",
       "\\begin{tabular}{lclc}\n",
       "\\toprule\n",
       "\\textbf{Dep. Variable:}    &      price       & \\textbf{  R-squared:         } &     0.289   \\\\\n",
       "\\textbf{Model:}            &       OLS        & \\textbf{  Adj. R-squared:    } &     0.284   \\\\\n",
       "\\textbf{Method:}           &  Least Squares   & \\textbf{  F-statistic:       } &     57.25   \\\\\n",
       "\\textbf{Date:}             & Tue, 16 May 2023 & \\textbf{  Prob (F-statistic):} &  4.52e-12   \\\\\n",
       "\\textbf{Time:}             &     08:08:36     & \\textbf{  Log-Likelihood:    } &   -2418.7   \\\\\n",
       "\\textbf{No. Observations:} &         143      & \\textbf{  AIC:               } &     4841.   \\\\\n",
       "\\textbf{Df Residuals:}     &         141      & \\textbf{  BIC:               } &     4847.   \\\\\n",
       "\\textbf{Df Model:}         &           1      & \\textbf{                     } &             \\\\\n",
       "\\textbf{Covariance Type:}  &    nonrobust     & \\textbf{                     } &             \\\\\n",
       "\\bottomrule\n",
       "\\end{tabular}\n",
       "\\begin{tabular}{lcccccc}\n",
       "                   & \\textbf{coef} & \\textbf{std err} & \\textbf{t} & \\textbf{P$> |$t$|$} & \\textbf{[0.025} & \\textbf{0.975]}  \\\\\n",
       "\\midrule\n",
       "\\textbf{Intercept} &   -2.143e+06  &     1.28e+06     &    -1.680  &         0.095        &    -4.66e+06    &     3.79e+05     \\\\\n",
       "\\textbf{area}      &    1.246e+05  &     1.65e+04     &     7.567  &         0.000        &      9.2e+04    &     1.57e+05     \\\\\n",
       "\\bottomrule\n",
       "\\end{tabular}\n",
       "\\begin{tabular}{lclc}\n",
       "\\textbf{Omnibus:}       & 49.128 & \\textbf{  Durbin-Watson:     } &    0.200  \\\\\n",
       "\\textbf{Prob(Omnibus):} &  0.000 & \\textbf{  Jarque-Bera (JB):  } &  109.906  \\\\\n",
       "\\textbf{Skew:}          &  1.466 & \\textbf{  Prob(JB):          } & 1.36e-24  \\\\\n",
       "\\textbf{Kurtosis:}      &  6.139 & \\textbf{  Cond. No.          } &     219.  \\\\\n",
       "\\bottomrule\n",
       "\\end{tabular}\n",
       "%\\caption{OLS Regression Results}\n",
       "\\end{center}\n",
       "\n",
       "Notes: \\newline\n",
       " [1] Standard Errors assume that the covariance matrix of the errors is correctly specified."
      ],
      "text/plain": [
       "<class 'statsmodels.iolib.summary.Summary'>\n",
       "\"\"\"\n",
       "                            OLS Regression Results                            \n",
       "==============================================================================\n",
       "Dep. Variable:                  price   R-squared:                       0.289\n",
       "Model:                            OLS   Adj. R-squared:                  0.284\n",
       "Method:                 Least Squares   F-statistic:                     57.25\n",
       "Date:                Tue, 16 May 2023   Prob (F-statistic):           4.52e-12\n",
       "Time:                        08:08:36   Log-Likelihood:                -2418.7\n",
       "No. Observations:                 143   AIC:                             4841.\n",
       "Df Residuals:                     141   BIC:                             4847.\n",
       "Df Model:                           1                                         \n",
       "Covariance Type:            nonrobust                                         \n",
       "==============================================================================\n",
       "                 coef    std err          t      P>|t|      [0.025      0.975]\n",
       "------------------------------------------------------------------------------\n",
       "Intercept  -2.143e+06   1.28e+06     -1.680      0.095   -4.66e+06    3.79e+05\n",
       "area        1.246e+05   1.65e+04      7.567      0.000     9.2e+04    1.57e+05\n",
       "==============================================================================\n",
       "Omnibus:                       49.128   Durbin-Watson:                   0.200\n",
       "Prob(Omnibus):                  0.000   Jarque-Bera (JB):              109.906\n",
       "Skew:                           1.466   Prob(JB):                     1.36e-24\n",
       "Kurtosis:                       6.139   Cond. No.                         219.\n",
       "==============================================================================\n",
       "\n",
       "Notes:\n",
       "[1] Standard Errors assume that the covariance matrix of the errors is correctly specified.\n",
       "\"\"\""
      ]
     },
     "execution_count": 311,
     "metadata": {},
     "output_type": "execute_result"
    }
   ],
   "source": [
    "lm_HPRICE = smf.ols(formula='price ~ area', data=df1).fit()\n",
    "print(lm_HPRICE.params)\n",
    "lm_HPRICE.summary()"
   ]
  },
  {
   "cell_type": "code",
   "execution_count": 312,
   "metadata": {
    "colab": {
     "base_uri": "https://localhost:8080/",
     "height": 504
    },
    "id": "djZqv4tvAsVF",
    "outputId": "6640d28a-51e5-4a46-c12e-14720f778b29",
    "scrolled": true
   },
   "outputs": [
    {
     "name": "stdout",
     "output_type": "stream",
     "text": [
      "Intercept    14.258963\n",
      "area          0.016550\n",
      "dtype: float64\n"
     ]
    },
    {
     "data": {
      "text/html": [
       "<table class=\"simpletable\">\n",
       "<caption>OLS Regression Results</caption>\n",
       "<tr>\n",
       "  <th>Dep. Variable:</th>        <td>logprice</td>     <th>  R-squared:         </th> <td>   0.413</td>\n",
       "</tr>\n",
       "<tr>\n",
       "  <th>Model:</th>                   <td>OLS</td>       <th>  Adj. R-squared:    </th> <td>   0.408</td>\n",
       "</tr>\n",
       "<tr>\n",
       "  <th>Method:</th>             <td>Least Squares</td>  <th>  F-statistic:       </th> <td>   99.05</td>\n",
       "</tr>\n",
       "<tr>\n",
       "  <th>Date:</th>             <td>Tue, 16 May 2023</td> <th>  Prob (F-statistic):</th> <td>5.29e-18</td>\n",
       "</tr>\n",
       "<tr>\n",
       "  <th>Time:</th>                 <td>08:08:36</td>     <th>  Log-Likelihood:    </th> <td> -115.29</td>\n",
       "</tr>\n",
       "<tr>\n",
       "  <th>No. Observations:</th>      <td>   143</td>      <th>  AIC:               </th> <td>   234.6</td>\n",
       "</tr>\n",
       "<tr>\n",
       "  <th>Df Residuals:</th>          <td>   141</td>      <th>  BIC:               </th> <td>   240.5</td>\n",
       "</tr>\n",
       "<tr>\n",
       "  <th>Df Model:</th>              <td>     1</td>      <th>                     </th>     <td> </td>   \n",
       "</tr>\n",
       "<tr>\n",
       "  <th>Covariance Type:</th>      <td>nonrobust</td>    <th>                     </th>     <td> </td>   \n",
       "</tr>\n",
       "</table>\n",
       "<table class=\"simpletable\">\n",
       "<tr>\n",
       "      <td></td>         <th>coef</th>     <th>std err</th>      <th>t</th>      <th>P>|t|</th>  <th>[0.025</th>    <th>0.975]</th>  \n",
       "</tr>\n",
       "<tr>\n",
       "  <th>Intercept</th> <td>   14.2590</td> <td>    0.129</td> <td>  110.669</td> <td> 0.000</td> <td>   14.004</td> <td>   14.514</td>\n",
       "</tr>\n",
       "<tr>\n",
       "  <th>area</th>      <td>    0.0166</td> <td>    0.002</td> <td>    9.952</td> <td> 0.000</td> <td>    0.013</td> <td>    0.020</td>\n",
       "</tr>\n",
       "</table>\n",
       "<table class=\"simpletable\">\n",
       "<tr>\n",
       "  <th>Omnibus:</th>       <td> 2.044</td> <th>  Durbin-Watson:     </th> <td>   0.199</td>\n",
       "</tr>\n",
       "<tr>\n",
       "  <th>Prob(Omnibus):</th> <td> 0.360</td> <th>  Jarque-Bera (JB):  </th> <td>   2.049</td>\n",
       "</tr>\n",
       "<tr>\n",
       "  <th>Skew:</th>          <td> 0.283</td> <th>  Prob(JB):          </th> <td>   0.359</td>\n",
       "</tr>\n",
       "<tr>\n",
       "  <th>Kurtosis:</th>      <td> 2.844</td> <th>  Cond. No.          </th> <td>    219.</td>\n",
       "</tr>\n",
       "</table><br/><br/>Notes:<br/>[1] Standard Errors assume that the covariance matrix of the errors is correctly specified."
      ],
      "text/latex": [
       "\\begin{center}\n",
       "\\begin{tabular}{lclc}\n",
       "\\toprule\n",
       "\\textbf{Dep. Variable:}    &     logprice     & \\textbf{  R-squared:         } &     0.413   \\\\\n",
       "\\textbf{Model:}            &       OLS        & \\textbf{  Adj. R-squared:    } &     0.408   \\\\\n",
       "\\textbf{Method:}           &  Least Squares   & \\textbf{  F-statistic:       } &     99.05   \\\\\n",
       "\\textbf{Date:}             & Tue, 16 May 2023 & \\textbf{  Prob (F-statistic):} &  5.29e-18   \\\\\n",
       "\\textbf{Time:}             &     08:08:36     & \\textbf{  Log-Likelihood:    } &   -115.29   \\\\\n",
       "\\textbf{No. Observations:} &         143      & \\textbf{  AIC:               } &     234.6   \\\\\n",
       "\\textbf{Df Residuals:}     &         141      & \\textbf{  BIC:               } &     240.5   \\\\\n",
       "\\textbf{Df Model:}         &           1      & \\textbf{                     } &             \\\\\n",
       "\\textbf{Covariance Type:}  &    nonrobust     & \\textbf{                     } &             \\\\\n",
       "\\bottomrule\n",
       "\\end{tabular}\n",
       "\\begin{tabular}{lcccccc}\n",
       "                   & \\textbf{coef} & \\textbf{std err} & \\textbf{t} & \\textbf{P$> |$t$|$} & \\textbf{[0.025} & \\textbf{0.975]}  \\\\\n",
       "\\midrule\n",
       "\\textbf{Intercept} &      14.2590  &        0.129     &   110.669  &         0.000        &       14.004    &       14.514     \\\\\n",
       "\\textbf{area}      &       0.0166  &        0.002     &     9.952  &         0.000        &        0.013    &        0.020     \\\\\n",
       "\\bottomrule\n",
       "\\end{tabular}\n",
       "\\begin{tabular}{lclc}\n",
       "\\textbf{Omnibus:}       &  2.044 & \\textbf{  Durbin-Watson:     } &    0.199  \\\\\n",
       "\\textbf{Prob(Omnibus):} &  0.360 & \\textbf{  Jarque-Bera (JB):  } &    2.049  \\\\\n",
       "\\textbf{Skew:}          &  0.283 & \\textbf{  Prob(JB):          } &    0.359  \\\\\n",
       "\\textbf{Kurtosis:}      &  2.844 & \\textbf{  Cond. No.          } &     219.  \\\\\n",
       "\\bottomrule\n",
       "\\end{tabular}\n",
       "%\\caption{OLS Regression Results}\n",
       "\\end{center}\n",
       "\n",
       "Notes: \\newline\n",
       " [1] Standard Errors assume that the covariance matrix of the errors is correctly specified."
      ],
      "text/plain": [
       "<class 'statsmodels.iolib.summary.Summary'>\n",
       "\"\"\"\n",
       "                            OLS Regression Results                            \n",
       "==============================================================================\n",
       "Dep. Variable:               logprice   R-squared:                       0.413\n",
       "Model:                            OLS   Adj. R-squared:                  0.408\n",
       "Method:                 Least Squares   F-statistic:                     99.05\n",
       "Date:                Tue, 16 May 2023   Prob (F-statistic):           5.29e-18\n",
       "Time:                        08:08:36   Log-Likelihood:                -115.29\n",
       "No. Observations:                 143   AIC:                             234.6\n",
       "Df Residuals:                     141   BIC:                             240.5\n",
       "Df Model:                           1                                         \n",
       "Covariance Type:            nonrobust                                         \n",
       "==============================================================================\n",
       "                 coef    std err          t      P>|t|      [0.025      0.975]\n",
       "------------------------------------------------------------------------------\n",
       "Intercept     14.2590      0.129    110.669      0.000      14.004      14.514\n",
       "area           0.0166      0.002      9.952      0.000       0.013       0.020\n",
       "==============================================================================\n",
       "Omnibus:                        2.044   Durbin-Watson:                   0.199\n",
       "Prob(Omnibus):                  0.360   Jarque-Bera (JB):                2.049\n",
       "Skew:                           0.283   Prob(JB):                        0.359\n",
       "Kurtosis:                       2.844   Cond. No.                         219.\n",
       "==============================================================================\n",
       "\n",
       "Notes:\n",
       "[1] Standard Errors assume that the covariance matrix of the errors is correctly specified.\n",
       "\"\"\""
      ]
     },
     "execution_count": 312,
     "metadata": {},
     "output_type": "execute_result"
    }
   ],
   "source": [
    "lm_HPRICE1 = smf.ols(formula='logprice ~ area', data=df1).fit()\n",
    "print(lm_HPRICE1.params)\n",
    "lm_HPRICE1.summary()"
   ]
  },
  {
   "cell_type": "code",
   "execution_count": 313,
   "metadata": {
    "colab": {
     "base_uri": "https://localhost:8080/",
     "height": 504
    },
    "id": "jauPLtrEFm_v",
    "outputId": "dd6122fa-1ac2-4b08-f7ab-c52d2dd2e5f4",
    "scrolled": true
   },
   "outputs": [
    {
     "name": "stdout",
     "output_type": "stream",
     "text": [
      "Intercept    10.324439\n",
      "logarea       1.219768\n",
      "dtype: float64\n"
     ]
    },
    {
     "data": {
      "text/html": [
       "<table class=\"simpletable\">\n",
       "<caption>OLS Regression Results</caption>\n",
       "<tr>\n",
       "  <th>Dep. Variable:</th>        <td>logprice</td>     <th>  R-squared:         </th> <td>   0.460</td>\n",
       "</tr>\n",
       "<tr>\n",
       "  <th>Model:</th>                   <td>OLS</td>       <th>  Adj. R-squared:    </th> <td>   0.456</td>\n",
       "</tr>\n",
       "<tr>\n",
       "  <th>Method:</th>             <td>Least Squares</td>  <th>  F-statistic:       </th> <td>   120.3</td>\n",
       "</tr>\n",
       "<tr>\n",
       "  <th>Date:</th>             <td>Tue, 16 May 2023</td> <th>  Prob (F-statistic):</th> <td>1.28e-20</td>\n",
       "</tr>\n",
       "<tr>\n",
       "  <th>Time:</th>                 <td>08:08:36</td>     <th>  Log-Likelihood:    </th> <td> -109.23</td>\n",
       "</tr>\n",
       "<tr>\n",
       "  <th>No. Observations:</th>      <td>   143</td>      <th>  AIC:               </th> <td>   222.5</td>\n",
       "</tr>\n",
       "<tr>\n",
       "  <th>Df Residuals:</th>          <td>   141</td>      <th>  BIC:               </th> <td>   228.4</td>\n",
       "</tr>\n",
       "<tr>\n",
       "  <th>Df Model:</th>              <td>     1</td>      <th>                     </th>     <td> </td>   \n",
       "</tr>\n",
       "<tr>\n",
       "  <th>Covariance Type:</th>      <td>nonrobust</td>    <th>                     </th>     <td> </td>   \n",
       "</tr>\n",
       "</table>\n",
       "<table class=\"simpletable\">\n",
       "<tr>\n",
       "      <td></td>         <th>coef</th>     <th>std err</th>      <th>t</th>      <th>P>|t|</th>  <th>[0.025</th>    <th>0.975]</th>  \n",
       "</tr>\n",
       "<tr>\n",
       "  <th>Intercept</th> <td>   10.3244</td> <td>    0.470</td> <td>   21.959</td> <td> 0.000</td> <td>    9.395</td> <td>   11.254</td>\n",
       "</tr>\n",
       "<tr>\n",
       "  <th>logarea</th>   <td>    1.2198</td> <td>    0.111</td> <td>   10.967</td> <td> 0.000</td> <td>    1.000</td> <td>    1.440</td>\n",
       "</tr>\n",
       "</table>\n",
       "<table class=\"simpletable\">\n",
       "<tr>\n",
       "  <th>Omnibus:</th>       <td> 3.583</td> <th>  Durbin-Watson:     </th> <td>   0.175</td>\n",
       "</tr>\n",
       "<tr>\n",
       "  <th>Prob(Omnibus):</th> <td> 0.167</td> <th>  Jarque-Bera (JB):  </th> <td>   3.633</td>\n",
       "</tr>\n",
       "<tr>\n",
       "  <th>Skew:</th>          <td> 0.370</td> <th>  Prob(JB):          </th> <td>   0.163</td>\n",
       "</tr>\n",
       "<tr>\n",
       "  <th>Kurtosis:</th>      <td> 2.748</td> <th>  Cond. No.          </th> <td>    48.0</td>\n",
       "</tr>\n",
       "</table><br/><br/>Notes:<br/>[1] Standard Errors assume that the covariance matrix of the errors is correctly specified."
      ],
      "text/latex": [
       "\\begin{center}\n",
       "\\begin{tabular}{lclc}\n",
       "\\toprule\n",
       "\\textbf{Dep. Variable:}    &     logprice     & \\textbf{  R-squared:         } &     0.460   \\\\\n",
       "\\textbf{Model:}            &       OLS        & \\textbf{  Adj. R-squared:    } &     0.456   \\\\\n",
       "\\textbf{Method:}           &  Least Squares   & \\textbf{  F-statistic:       } &     120.3   \\\\\n",
       "\\textbf{Date:}             & Tue, 16 May 2023 & \\textbf{  Prob (F-statistic):} &  1.28e-20   \\\\\n",
       "\\textbf{Time:}             &     08:08:36     & \\textbf{  Log-Likelihood:    } &   -109.23   \\\\\n",
       "\\textbf{No. Observations:} &         143      & \\textbf{  AIC:               } &     222.5   \\\\\n",
       "\\textbf{Df Residuals:}     &         141      & \\textbf{  BIC:               } &     228.4   \\\\\n",
       "\\textbf{Df Model:}         &           1      & \\textbf{                     } &             \\\\\n",
       "\\textbf{Covariance Type:}  &    nonrobust     & \\textbf{                     } &             \\\\\n",
       "\\bottomrule\n",
       "\\end{tabular}\n",
       "\\begin{tabular}{lcccccc}\n",
       "                   & \\textbf{coef} & \\textbf{std err} & \\textbf{t} & \\textbf{P$> |$t$|$} & \\textbf{[0.025} & \\textbf{0.975]}  \\\\\n",
       "\\midrule\n",
       "\\textbf{Intercept} &      10.3244  &        0.470     &    21.959  &         0.000        &        9.395    &       11.254     \\\\\n",
       "\\textbf{logarea}   &       1.2198  &        0.111     &    10.967  &         0.000        &        1.000    &        1.440     \\\\\n",
       "\\bottomrule\n",
       "\\end{tabular}\n",
       "\\begin{tabular}{lclc}\n",
       "\\textbf{Omnibus:}       &  3.583 & \\textbf{  Durbin-Watson:     } &    0.175  \\\\\n",
       "\\textbf{Prob(Omnibus):} &  0.167 & \\textbf{  Jarque-Bera (JB):  } &    3.633  \\\\\n",
       "\\textbf{Skew:}          &  0.370 & \\textbf{  Prob(JB):          } &    0.163  \\\\\n",
       "\\textbf{Kurtosis:}      &  2.748 & \\textbf{  Cond. No.          } &     48.0  \\\\\n",
       "\\bottomrule\n",
       "\\end{tabular}\n",
       "%\\caption{OLS Regression Results}\n",
       "\\end{center}\n",
       "\n",
       "Notes: \\newline\n",
       " [1] Standard Errors assume that the covariance matrix of the errors is correctly specified."
      ],
      "text/plain": [
       "<class 'statsmodels.iolib.summary.Summary'>\n",
       "\"\"\"\n",
       "                            OLS Regression Results                            \n",
       "==============================================================================\n",
       "Dep. Variable:               logprice   R-squared:                       0.460\n",
       "Model:                            OLS   Adj. R-squared:                  0.456\n",
       "Method:                 Least Squares   F-statistic:                     120.3\n",
       "Date:                Tue, 16 May 2023   Prob (F-statistic):           1.28e-20\n",
       "Time:                        08:08:36   Log-Likelihood:                -109.23\n",
       "No. Observations:                 143   AIC:                             222.5\n",
       "Df Residuals:                     141   BIC:                             228.4\n",
       "Df Model:                           1                                         \n",
       "Covariance Type:            nonrobust                                         \n",
       "==============================================================================\n",
       "                 coef    std err          t      P>|t|      [0.025      0.975]\n",
       "------------------------------------------------------------------------------\n",
       "Intercept     10.3244      0.470     21.959      0.000       9.395      11.254\n",
       "logarea        1.2198      0.111     10.967      0.000       1.000       1.440\n",
       "==============================================================================\n",
       "Omnibus:                        3.583   Durbin-Watson:                   0.175\n",
       "Prob(Omnibus):                  0.167   Jarque-Bera (JB):                3.633\n",
       "Skew:                           0.370   Prob(JB):                        0.163\n",
       "Kurtosis:                       2.748   Cond. No.                         48.0\n",
       "==============================================================================\n",
       "\n",
       "Notes:\n",
       "[1] Standard Errors assume that the covariance matrix of the errors is correctly specified.\n",
       "\"\"\""
      ]
     },
     "execution_count": 313,
     "metadata": {},
     "output_type": "execute_result"
    }
   ],
   "source": [
    "lm_HPRICE2 = smf.ols(formula='logprice ~ logarea', data=df1).fit()\n",
    "print(lm_HPRICE2.params)\n",
    "lm_HPRICE2.summary()"
   ]
  },
  {
   "cell_type": "code",
   "execution_count": 314,
   "metadata": {
    "colab": {
     "base_uri": "https://localhost:8080/",
     "height": 296
    },
    "id": "vqZJwrGQq9H9",
    "outputId": "19c6b711-d6ef-4785-b727-be5382ddd4d8"
   },
   "outputs": [
    {
     "data": {
      "text/plain": [
       "<AxesSubplot: xlabel='logarea', ylabel='logprice'>"
      ]
     },
     "execution_count": 314,
     "metadata": {},
     "output_type": "execute_result"
    },
    {
     "data": {
      "image/png": "[encoded data removed]",
      "text/plain": [
       "<Figure size 640x480 with 1 Axes>"
      ]
     },
     "metadata": {},
     "output_type": "display_data"
    }
   ],
   "source": [
    "sns.scatterplot(data=df1, x='logarea', y='logprice', hue='rooms')"
   ]
  },
  {
   "cell_type": "code",
   "execution_count": 315,
   "metadata": {
    "colab": {
     "base_uri": "https://localhost:8080/",
     "height": 296
    },
    "id": "-1BCm-G0sm5r",
    "outputId": "281726a0-ccc8-4d89-88f5-afaac2346af9"
   },
   "outputs": [
    {
     "data": {
      "text/plain": [
       "<AxesSubplot: xlabel='numApartmentsTotal', ylabel='logprice'>"
      ]
     },
     "execution_count": 315,
     "metadata": {},
     "output_type": "execute_result"
    },
    {
     "data": {
      "image/png": "[encoded data removed]",
      "text/plain": [
       "<Figure size 640x480 with 1 Axes>"
      ]
     },
     "metadata": {},
     "output_type": "display_data"
    }
   ],
   "source": [
    "sns.scatterplot(data=df1, x='numApartmentsTotal', y='logprice')"
   ]
  },
  {
   "cell_type": "code",
   "execution_count": 316,
   "metadata": {
    "colab": {
     "base_uri": "https://localhost:8080/",
     "height": 296
    },
    "id": "sUyIObvTIIbn",
    "outputId": "fe445eb3-ff65-4e8a-b3c0-aaac877cb066"
   },
   "outputs": [
    {
     "data": {
      "text/plain": [
       "<AxesSubplot: xlabel='ceilingHeight', ylabel='logprice'>"
      ]
     },
     "execution_count": 316,
     "metadata": {},
     "output_type": "execute_result"
    },
    {
     "data": {
      "image/png": "[encoded data removed]",
      "text/plain": [
       "<Figure size 640x480 with 1 Axes>"
      ]
     },
     "metadata": {},
     "output_type": "display_data"
    }
   ],
   "source": [
    "sns.scatterplot(data=df1, x='ceilingHeight', y='logprice', hue='ceilingHeight')"
   ]
  },
  {
   "cell_type": "code",
   "execution_count": 317,
   "metadata": {
    "colab": {
     "base_uri": "https://localhost:8080/",
     "height": 296
    },
    "id": "YHBOnrhZ34ff",
    "outputId": "933f7b49-31a7-4ef4-b75b-1d4a056fdb6e"
   },
   "outputs": [
    {
     "data": {
      "text/plain": [
       "<AxesSubplot: xlabel='predictedClass', ylabel='logprice'>"
      ]
     },
     "execution_count": 317,
     "metadata": {},
     "output_type": "execute_result"
    },
    {
     "data": {
      "image/png": "[encoded data removed]",
      "text/plain": [
       "<Figure size 640x480 with 1 Axes>"
      ]
     },
     "metadata": {},
     "output_type": "display_data"
    }
   ],
   "source": [
    "sns.scatterplot(data=df1, x='predictedClass', y='logprice', hue='predictedClass')"
   ]
  },
  {
   "cell_type": "code",
   "execution_count": 318,
   "metadata": {
    "id": "DCg7G74NHzY8"
   },
   "outputs": [],
   "source": [
    "df1['predictedClass'] = df['predictedClass'].replace({'комфорт': 1, 'бізнес': 2, 'преміум': 3})\n"
   ]
  },
  {
   "cell_type": "code",
   "execution_count": 319,
   "metadata": {
    "colab": {
     "base_uri": "https://localhost:8080/",
     "height": 542
    },
    "id": "Iw95VG6quvbh",
    "outputId": "b8a21578-f327-4967-a9da-f1da6f042ba4"
   },
   "outputs": [
    {
     "name": "stdout",
     "output_type": "stream",
     "text": [
      "Intercept    8.946009\n",
      "logarea      1.667886\n",
      "rooms       -0.293863\n",
      "dtype: float64\n"
     ]
    },
    {
     "data": {
      "text/html": [
       "<table class=\"simpletable\">\n",
       "<caption>OLS Regression Results</caption>\n",
       "<tr>\n",
       "  <th>Dep. Variable:</th>        <td>logprice</td>     <th>  R-squared:         </th> <td>   0.507</td>\n",
       "</tr>\n",
       "<tr>\n",
       "  <th>Model:</th>                   <td>OLS</td>       <th>  Adj. R-squared:    </th> <td>   0.500</td>\n",
       "</tr>\n",
       "<tr>\n",
       "  <th>Method:</th>             <td>Least Squares</td>  <th>  F-statistic:       </th> <td>   72.09</td>\n",
       "</tr>\n",
       "<tr>\n",
       "  <th>Date:</th>             <td>Tue, 16 May 2023</td> <th>  Prob (F-statistic):</th> <td>3.00e-22</td>\n",
       "</tr>\n",
       "<tr>\n",
       "  <th>Time:</th>                 <td>08:08:37</td>     <th>  Log-Likelihood:    </th> <td> -102.71</td>\n",
       "</tr>\n",
       "<tr>\n",
       "  <th>No. Observations:</th>      <td>   143</td>      <th>  AIC:               </th> <td>   211.4</td>\n",
       "</tr>\n",
       "<tr>\n",
       "  <th>Df Residuals:</th>          <td>   140</td>      <th>  BIC:               </th> <td>   220.3</td>\n",
       "</tr>\n",
       "<tr>\n",
       "  <th>Df Model:</th>              <td>     2</td>      <th>                     </th>     <td> </td>   \n",
       "</tr>\n",
       "<tr>\n",
       "  <th>Covariance Type:</th>      <td>nonrobust</td>    <th>                     </th>     <td> </td>   \n",
       "</tr>\n",
       "</table>\n",
       "<table class=\"simpletable\">\n",
       "<tr>\n",
       "      <td></td>         <th>coef</th>     <th>std err</th>      <th>t</th>      <th>P>|t|</th>  <th>[0.025</th>    <th>0.975]</th>  \n",
       "</tr>\n",
       "<tr>\n",
       "  <th>Intercept</th> <td>    8.9460</td> <td>    0.588</td> <td>   15.223</td> <td> 0.000</td> <td>    7.784</td> <td>   10.108</td>\n",
       "</tr>\n",
       "<tr>\n",
       "  <th>logarea</th>   <td>    1.6679</td> <td>    0.162</td> <td>   10.266</td> <td> 0.000</td> <td>    1.347</td> <td>    1.989</td>\n",
       "</tr>\n",
       "<tr>\n",
       "  <th>rooms</th>     <td>   -0.2939</td> <td>    0.080</td> <td>   -3.656</td> <td> 0.000</td> <td>   -0.453</td> <td>   -0.135</td>\n",
       "</tr>\n",
       "</table>\n",
       "<table class=\"simpletable\">\n",
       "<tr>\n",
       "  <th>Omnibus:</th>       <td> 1.152</td> <th>  Durbin-Watson:     </th> <td>   0.216</td>\n",
       "</tr>\n",
       "<tr>\n",
       "  <th>Prob(Omnibus):</th> <td> 0.562</td> <th>  Jarque-Bera (JB):  </th> <td>   1.154</td>\n",
       "</tr>\n",
       "<tr>\n",
       "  <th>Skew:</th>          <td> 0.107</td> <th>  Prob(JB):          </th> <td>   0.562</td>\n",
       "</tr>\n",
       "<tr>\n",
       "  <th>Kurtosis:</th>      <td> 2.615</td> <th>  Cond. No.          </th> <td>    68.5</td>\n",
       "</tr>\n",
       "</table><br/><br/>Notes:<br/>[1] Standard Errors assume that the covariance matrix of the errors is correctly specified."
      ],
      "text/latex": [
       "\\begin{center}\n",
       "\\begin{tabular}{lclc}\n",
       "\\toprule\n",
       "\\textbf{Dep. Variable:}    &     logprice     & \\textbf{  R-squared:         } &     0.507   \\\\\n",
       "\\textbf{Model:}            &       OLS        & \\textbf{  Adj. R-squared:    } &     0.500   \\\\\n",
       "\\textbf{Method:}           &  Least Squares   & \\textbf{  F-statistic:       } &     72.09   \\\\\n",
       "\\textbf{Date:}             & Tue, 16 May 2023 & \\textbf{  Prob (F-statistic):} &  3.00e-22   \\\\\n",
       "\\textbf{Time:}             &     08:08:37     & \\textbf{  Log-Likelihood:    } &   -102.71   \\\\\n",
       "\\textbf{No. Observations:} &         143      & \\textbf{  AIC:               } &     211.4   \\\\\n",
       "\\textbf{Df Residuals:}     &         140      & \\textbf{  BIC:               } &     220.3   \\\\\n",
       "\\textbf{Df Model:}         &           2      & \\textbf{                     } &             \\\\\n",
       "\\textbf{Covariance Type:}  &    nonrobust     & \\textbf{                     } &             \\\\\n",
       "\\bottomrule\n",
       "\\end{tabular}\n",
       "\\begin{tabular}{lcccccc}\n",
       "                   & \\textbf{coef} & \\textbf{std err} & \\textbf{t} & \\textbf{P$> |$t$|$} & \\textbf{[0.025} & \\textbf{0.975]}  \\\\\n",
       "\\midrule\n",
       "\\textbf{Intercept} &       8.9460  &        0.588     &    15.223  &         0.000        &        7.784    &       10.108     \\\\\n",
       "\\textbf{logarea}   &       1.6679  &        0.162     &    10.266  &         0.000        &        1.347    &        1.989     \\\\\n",
       "\\textbf{rooms}     &      -0.2939  &        0.080     &    -3.656  &         0.000        &       -0.453    &       -0.135     \\\\\n",
       "\\bottomrule\n",
       "\\end{tabular}\n",
       "\\begin{tabular}{lclc}\n",
       "\\textbf{Omnibus:}       &  1.152 & \\textbf{  Durbin-Watson:     } &    0.216  \\\\\n",
       "\\textbf{Prob(Omnibus):} &  0.562 & \\textbf{  Jarque-Bera (JB):  } &    1.154  \\\\\n",
       "\\textbf{Skew:}          &  0.107 & \\textbf{  Prob(JB):          } &    0.562  \\\\\n",
       "\\textbf{Kurtosis:}      &  2.615 & \\textbf{  Cond. No.          } &     68.5  \\\\\n",
       "\\bottomrule\n",
       "\\end{tabular}\n",
       "%\\caption{OLS Regression Results}\n",
       "\\end{center}\n",
       "\n",
       "Notes: \\newline\n",
       " [1] Standard Errors assume that the covariance matrix of the errors is correctly specified."
      ],
      "text/plain": [
       "<class 'statsmodels.iolib.summary.Summary'>\n",
       "\"\"\"\n",
       "                            OLS Regression Results                            \n",
       "==============================================================================\n",
       "Dep. Variable:               logprice   R-squared:                       0.507\n",
       "Model:                            OLS   Adj. R-squared:                  0.500\n",
       "Method:                 Least Squares   F-statistic:                     72.09\n",
       "Date:                Tue, 16 May 2023   Prob (F-statistic):           3.00e-22\n",
       "Time:                        08:08:37   Log-Likelihood:                -102.71\n",
       "No. Observations:                 143   AIC:                             211.4\n",
       "Df Residuals:                     140   BIC:                             220.3\n",
       "Df Model:                           2                                         \n",
       "Covariance Type:            nonrobust                                         \n",
       "==============================================================================\n",
       "                 coef    std err          t      P>|t|      [0.025      0.975]\n",
       "------------------------------------------------------------------------------\n",
       "Intercept      8.9460      0.588     15.223      0.000       7.784      10.108\n",
       "logarea        1.6679      0.162     10.266      0.000       1.347       1.989\n",
       "rooms         -0.2939      0.080     -3.656      0.000      -0.453      -0.135\n",
       "==============================================================================\n",
       "Omnibus:                        1.152   Durbin-Watson:                   0.216\n",
       "Prob(Omnibus):                  0.562   Jarque-Bera (JB):                1.154\n",
       "Skew:                           0.107   Prob(JB):                        0.562\n",
       "Kurtosis:                       2.615   Cond. No.                         68.5\n",
       "==============================================================================\n",
       "\n",
       "Notes:\n",
       "[1] Standard Errors assume that the covariance matrix of the errors is correctly specified.\n",
       "\"\"\""
      ]
     },
     "execution_count": 319,
     "metadata": {},
     "output_type": "execute_result"
    }
   ],
   "source": [
    "lm_HPRICE3 = smf.ols(formula='logprice ~ logarea + rooms', data=df1).fit()\n",
    "print(lm_HPRICE3.params)\n",
    "lm_HPRICE3.summary()"
   ]
  },
  {
   "cell_type": "code",
   "execution_count": 320,
   "metadata": {
    "colab": {
     "base_uri": "https://localhost:8080/",
     "height": 581
    },
    "id": "_I2J7vbqvRA1",
    "outputId": "cb09f513-4604-4898-b420-337aae6caf21"
   },
   "outputs": [
    {
     "name": "stdout",
     "output_type": "stream",
     "text": [
      "Intercept        9.262770\n",
      "logarea          1.021365\n",
      "rooms           -0.081461\n",
      "ceilingHeight    0.844487\n",
      "dtype: float64\n"
     ]
    },
    {
     "data": {
      "text/html": [
       "<table class=\"simpletable\">\n",
       "<caption>OLS Regression Results</caption>\n",
       "<tr>\n",
       "  <th>Dep. Variable:</th>        <td>logprice</td>     <th>  R-squared:         </th> <td>   0.796</td>\n",
       "</tr>\n",
       "<tr>\n",
       "  <th>Model:</th>                   <td>OLS</td>       <th>  Adj. R-squared:    </th> <td>   0.792</td>\n",
       "</tr>\n",
       "<tr>\n",
       "  <th>Method:</th>             <td>Least Squares</td>  <th>  F-statistic:       </th> <td>   181.2</td>\n",
       "</tr>\n",
       "<tr>\n",
       "  <th>Date:</th>             <td>Tue, 16 May 2023</td> <th>  Prob (F-statistic):</th> <td>7.85e-48</td>\n",
       "</tr>\n",
       "<tr>\n",
       "  <th>Time:</th>                 <td>08:08:37</td>     <th>  Log-Likelihood:    </th> <td> -39.548</td>\n",
       "</tr>\n",
       "<tr>\n",
       "  <th>No. Observations:</th>      <td>   143</td>      <th>  AIC:               </th> <td>   87.10</td>\n",
       "</tr>\n",
       "<tr>\n",
       "  <th>Df Residuals:</th>          <td>   139</td>      <th>  BIC:               </th> <td>   98.95</td>\n",
       "</tr>\n",
       "<tr>\n",
       "  <th>Df Model:</th>              <td>     3</td>      <th>                     </th>     <td> </td>   \n",
       "</tr>\n",
       "<tr>\n",
       "  <th>Covariance Type:</th>      <td>nonrobust</td>    <th>                     </th>     <td> </td>   \n",
       "</tr>\n",
       "</table>\n",
       "<table class=\"simpletable\">\n",
       "<tr>\n",
       "        <td></td>           <th>coef</th>     <th>std err</th>      <th>t</th>      <th>P>|t|</th>  <th>[0.025</th>    <th>0.975]</th>  \n",
       "</tr>\n",
       "<tr>\n",
       "  <th>Intercept</th>     <td>    9.2628</td> <td>    0.380</td> <td>   24.384</td> <td> 0.000</td> <td>    8.512</td> <td>   10.014</td>\n",
       "</tr>\n",
       "<tr>\n",
       "  <th>logarea</th>       <td>    1.0214</td> <td>    0.114</td> <td>    8.921</td> <td> 0.000</td> <td>    0.795</td> <td>    1.248</td>\n",
       "</tr>\n",
       "<tr>\n",
       "  <th>rooms</th>         <td>   -0.0815</td> <td>    0.054</td> <td>   -1.508</td> <td> 0.134</td> <td>   -0.188</td> <td>    0.025</td>\n",
       "</tr>\n",
       "<tr>\n",
       "  <th>ceilingHeight</th> <td>    0.8445</td> <td>    0.060</td> <td>   14.045</td> <td> 0.000</td> <td>    0.726</td> <td>    0.963</td>\n",
       "</tr>\n",
       "</table>\n",
       "<table class=\"simpletable\">\n",
       "<tr>\n",
       "  <th>Omnibus:</th>       <td> 2.623</td> <th>  Durbin-Watson:     </th> <td>   0.163</td>\n",
       "</tr>\n",
       "<tr>\n",
       "  <th>Prob(Omnibus):</th> <td> 0.269</td> <th>  Jarque-Bera (JB):  </th> <td>   2.649</td>\n",
       "</tr>\n",
       "<tr>\n",
       "  <th>Skew:</th>          <td> 0.295</td> <th>  Prob(JB):          </th> <td>   0.266</td>\n",
       "</tr>\n",
       "<tr>\n",
       "  <th>Kurtosis:</th>      <td> 2.688</td> <th>  Cond. No.          </th> <td>    77.3</td>\n",
       "</tr>\n",
       "</table><br/><br/>Notes:<br/>[1] Standard Errors assume that the covariance matrix of the errors is correctly specified."
      ],
      "text/latex": [
       "\\begin{center}\n",
       "\\begin{tabular}{lclc}\n",
       "\\toprule\n",
       "\\textbf{Dep. Variable:}    &     logprice     & \\textbf{  R-squared:         } &     0.796   \\\\\n",
       "\\textbf{Model:}            &       OLS        & \\textbf{  Adj. R-squared:    } &     0.792   \\\\\n",
       "\\textbf{Method:}           &  Least Squares   & \\textbf{  F-statistic:       } &     181.2   \\\\\n",
       "\\textbf{Date:}             & Tue, 16 May 2023 & \\textbf{  Prob (F-statistic):} &  7.85e-48   \\\\\n",
       "\\textbf{Time:}             &     08:08:37     & \\textbf{  Log-Likelihood:    } &   -39.548   \\\\\n",
       "\\textbf{No. Observations:} &         143      & \\textbf{  AIC:               } &     87.10   \\\\\n",
       "\\textbf{Df Residuals:}     &         139      & \\textbf{  BIC:               } &     98.95   \\\\\n",
       "\\textbf{Df Model:}         &           3      & \\textbf{                     } &             \\\\\n",
       "\\textbf{Covariance Type:}  &    nonrobust     & \\textbf{                     } &             \\\\\n",
       "\\bottomrule\n",
       "\\end{tabular}\n",
       "\\begin{tabular}{lcccccc}\n",
       "                       & \\textbf{coef} & \\textbf{std err} & \\textbf{t} & \\textbf{P$> |$t$|$} & \\textbf{[0.025} & \\textbf{0.975]}  \\\\\n",
       "\\midrule\n",
       "\\textbf{Intercept}     &       9.2628  &        0.380     &    24.384  &         0.000        &        8.512    &       10.014     \\\\\n",
       "\\textbf{logarea}       &       1.0214  &        0.114     &     8.921  &         0.000        &        0.795    &        1.248     \\\\\n",
       "\\textbf{rooms}         &      -0.0815  &        0.054     &    -1.508  &         0.134        &       -0.188    &        0.025     \\\\\n",
       "\\textbf{ceilingHeight} &       0.8445  &        0.060     &    14.045  &         0.000        &        0.726    &        0.963     \\\\\n",
       "\\bottomrule\n",
       "\\end{tabular}\n",
       "\\begin{tabular}{lclc}\n",
       "\\textbf{Omnibus:}       &  2.623 & \\textbf{  Durbin-Watson:     } &    0.163  \\\\\n",
       "\\textbf{Prob(Omnibus):} &  0.269 & \\textbf{  Jarque-Bera (JB):  } &    2.649  \\\\\n",
       "\\textbf{Skew:}          &  0.295 & \\textbf{  Prob(JB):          } &    0.266  \\\\\n",
       "\\textbf{Kurtosis:}      &  2.688 & \\textbf{  Cond. No.          } &     77.3  \\\\\n",
       "\\bottomrule\n",
       "\\end{tabular}\n",
       "%\\caption{OLS Regression Results}\n",
       "\\end{center}\n",
       "\n",
       "Notes: \\newline\n",
       " [1] Standard Errors assume that the covariance matrix of the errors is correctly specified."
      ],
      "text/plain": [
       "<class 'statsmodels.iolib.summary.Summary'>\n",
       "\"\"\"\n",
       "                            OLS Regression Results                            \n",
       "==============================================================================\n",
       "Dep. Variable:               logprice   R-squared:                       0.796\n",
       "Model:                            OLS   Adj. R-squared:                  0.792\n",
       "Method:                 Least Squares   F-statistic:                     181.2\n",
       "Date:                Tue, 16 May 2023   Prob (F-statistic):           7.85e-48\n",
       "Time:                        08:08:37   Log-Likelihood:                -39.548\n",
       "No. Observations:                 143   AIC:                             87.10\n",
       "Df Residuals:                     139   BIC:                             98.95\n",
       "Df Model:                           3                                         \n",
       "Covariance Type:            nonrobust                                         \n",
       "=================================================================================\n",
       "                    coef    std err          t      P>|t|      [0.025      0.975]\n",
       "---------------------------------------------------------------------------------\n",
       "Intercept         9.2628      0.380     24.384      0.000       8.512      10.014\n",
       "logarea           1.0214      0.114      8.921      0.000       0.795       1.248\n",
       "rooms            -0.0815      0.054     -1.508      0.134      -0.188       0.025\n",
       "ceilingHeight     0.8445      0.060     14.045      0.000       0.726       0.963\n",
       "==============================================================================\n",
       "Omnibus:                        2.623   Durbin-Watson:                   0.163\n",
       "Prob(Omnibus):                  0.269   Jarque-Bera (JB):                2.649\n",
       "Skew:                           0.295   Prob(JB):                        0.266\n",
       "Kurtosis:                       2.688   Cond. No.                         77.3\n",
       "==============================================================================\n",
       "\n",
       "Notes:\n",
       "[1] Standard Errors assume that the covariance matrix of the errors is correctly specified.\n",
       "\"\"\""
      ]
     },
     "execution_count": 320,
     "metadata": {},
     "output_type": "execute_result"
    }
   ],
   "source": [
    "lm_HPRICE4 = smf.ols(formula='logprice ~ logarea + rooms + ceilingHeight', data=df1).fit()\n",
    "print(lm_HPRICE4.params)\n",
    "lm_HPRICE4.summary()"
   ]
  },
  {
   "cell_type": "code",
   "execution_count": 321,
   "metadata": {
    "colab": {
     "base_uri": "https://localhost:8080/",
     "height": 655
    },
    "id": "LvBzcCoivmO6",
    "outputId": "cc3a70da-f2fb-419c-a6c5-f903d35fa1e8"
   },
   "outputs": [
    {
     "name": "stdout",
     "output_type": "stream",
     "text": [
      "Intercept             8.330517\n",
      "logarea               1.150543\n",
      "rooms                -0.126173\n",
      "ceilingHeight         0.985479\n",
      "numApartmentsTotal    0.000067\n",
      "dtype: float64\n"
     ]
    },
    {
     "data": {
      "text/html": [
       "<table class=\"simpletable\">\n",
       "<caption>OLS Regression Results</caption>\n",
       "<tr>\n",
       "  <th>Dep. Variable:</th>        <td>logprice</td>     <th>  R-squared:         </th> <td>   0.806</td>\n",
       "</tr>\n",
       "<tr>\n",
       "  <th>Model:</th>                   <td>OLS</td>       <th>  Adj. R-squared:    </th> <td>   0.800</td>\n",
       "</tr>\n",
       "<tr>\n",
       "  <th>Method:</th>             <td>Least Squares</td>  <th>  F-statistic:       </th> <td>   143.2</td>\n",
       "</tr>\n",
       "<tr>\n",
       "  <th>Date:</th>             <td>Tue, 16 May 2023</td> <th>  Prob (F-statistic):</th> <td>4.29e-48</td>\n",
       "</tr>\n",
       "<tr>\n",
       "  <th>Time:</th>                 <td>08:08:37</td>     <th>  Log-Likelihood:    </th> <td> -36.129</td>\n",
       "</tr>\n",
       "<tr>\n",
       "  <th>No. Observations:</th>      <td>   143</td>      <th>  AIC:               </th> <td>   82.26</td>\n",
       "</tr>\n",
       "<tr>\n",
       "  <th>Df Residuals:</th>          <td>   138</td>      <th>  BIC:               </th> <td>   97.07</td>\n",
       "</tr>\n",
       "<tr>\n",
       "  <th>Df Model:</th>              <td>     4</td>      <th>                     </th>     <td> </td>   \n",
       "</tr>\n",
       "<tr>\n",
       "  <th>Covariance Type:</th>      <td>nonrobust</td>    <th>                     </th>     <td> </td>   \n",
       "</tr>\n",
       "</table>\n",
       "<table class=\"simpletable\">\n",
       "<tr>\n",
       "           <td></td>             <th>coef</th>     <th>std err</th>      <th>t</th>      <th>P>|t|</th>  <th>[0.025</th>    <th>0.975]</th>  \n",
       "</tr>\n",
       "<tr>\n",
       "  <th>Intercept</th>          <td>    8.3305</td> <td>    0.517</td> <td>   16.118</td> <td> 0.000</td> <td>    7.309</td> <td>    9.353</td>\n",
       "</tr>\n",
       "<tr>\n",
       "  <th>logarea</th>            <td>    1.1505</td> <td>    0.123</td> <td>    9.377</td> <td> 0.000</td> <td>    0.908</td> <td>    1.393</td>\n",
       "</tr>\n",
       "<tr>\n",
       "  <th>rooms</th>              <td>   -0.1262</td> <td>    0.056</td> <td>   -2.267</td> <td> 0.025</td> <td>   -0.236</td> <td>   -0.016</td>\n",
       "</tr>\n",
       "<tr>\n",
       "  <th>ceilingHeight</th>      <td>    0.9855</td> <td>    0.080</td> <td>   12.306</td> <td> 0.000</td> <td>    0.827</td> <td>    1.144</td>\n",
       "</tr>\n",
       "<tr>\n",
       "  <th>numApartmentsTotal</th> <td> 6.699e-05</td> <td> 2.58e-05</td> <td>    2.600</td> <td> 0.010</td> <td>  1.6e-05</td> <td>    0.000</td>\n",
       "</tr>\n",
       "</table>\n",
       "<table class=\"simpletable\">\n",
       "<tr>\n",
       "  <th>Omnibus:</th>       <td> 3.275</td> <th>  Durbin-Watson:     </th> <td>   0.162</td>\n",
       "</tr>\n",
       "<tr>\n",
       "  <th>Prob(Omnibus):</th> <td> 0.194</td> <th>  Jarque-Bera (JB):  </th> <td>   3.285</td>\n",
       "</tr>\n",
       "<tr>\n",
       "  <th>Skew:</th>          <td> 0.361</td> <th>  Prob(JB):          </th> <td>   0.193</td>\n",
       "</tr>\n",
       "<tr>\n",
       "  <th>Kurtosis:</th>      <td> 2.830</td> <th>  Cond. No.          </th> <td>5.03e+04</td>\n",
       "</tr>\n",
       "</table><br/><br/>Notes:<br/>[1] Standard Errors assume that the covariance matrix of the errors is correctly specified.<br/>[2] The condition number is large, 5.03e+04. This might indicate that there are<br/>strong multicollinearity or other numerical problems."
      ],
      "text/latex": [
       "\\begin{center}\n",
       "\\begin{tabular}{lclc}\n",
       "\\toprule\n",
       "\\textbf{Dep. Variable:}     &     logprice     & \\textbf{  R-squared:         } &     0.806   \\\\\n",
       "\\textbf{Model:}             &       OLS        & \\textbf{  Adj. R-squared:    } &     0.800   \\\\\n",
       "\\textbf{Method:}            &  Least Squares   & \\textbf{  F-statistic:       } &     143.2   \\\\\n",
       "\\textbf{Date:}              & Tue, 16 May 2023 & \\textbf{  Prob (F-statistic):} &  4.29e-48   \\\\\n",
       "\\textbf{Time:}              &     08:08:37     & \\textbf{  Log-Likelihood:    } &   -36.129   \\\\\n",
       "\\textbf{No. Observations:}  &         143      & \\textbf{  AIC:               } &     82.26   \\\\\n",
       "\\textbf{Df Residuals:}      &         138      & \\textbf{  BIC:               } &     97.07   \\\\\n",
       "\\textbf{Df Model:}          &           4      & \\textbf{                     } &             \\\\\n",
       "\\textbf{Covariance Type:}   &    nonrobust     & \\textbf{                     } &             \\\\\n",
       "\\bottomrule\n",
       "\\end{tabular}\n",
       "\\begin{tabular}{lcccccc}\n",
       "                            & \\textbf{coef} & \\textbf{std err} & \\textbf{t} & \\textbf{P$> |$t$|$} & \\textbf{[0.025} & \\textbf{0.975]}  \\\\\n",
       "\\midrule\n",
       "\\textbf{Intercept}          &       8.3305  &        0.517     &    16.118  &         0.000        &        7.309    &        9.353     \\\\\n",
       "\\textbf{logarea}            &       1.1505  &        0.123     &     9.377  &         0.000        &        0.908    &        1.393     \\\\\n",
       "\\textbf{rooms}              &      -0.1262  &        0.056     &    -2.267  &         0.025        &       -0.236    &       -0.016     \\\\\n",
       "\\textbf{ceilingHeight}      &       0.9855  &        0.080     &    12.306  &         0.000        &        0.827    &        1.144     \\\\\n",
       "\\textbf{numApartmentsTotal} &    6.699e-05  &     2.58e-05     &     2.600  &         0.010        &      1.6e-05    &        0.000     \\\\\n",
       "\\bottomrule\n",
       "\\end{tabular}\n",
       "\\begin{tabular}{lclc}\n",
       "\\textbf{Omnibus:}       &  3.275 & \\textbf{  Durbin-Watson:     } &    0.162  \\\\\n",
       "\\textbf{Prob(Omnibus):} &  0.194 & \\textbf{  Jarque-Bera (JB):  } &    3.285  \\\\\n",
       "\\textbf{Skew:}          &  0.361 & \\textbf{  Prob(JB):          } &    0.193  \\\\\n",
       "\\textbf{Kurtosis:}      &  2.830 & \\textbf{  Cond. No.          } & 5.03e+04  \\\\\n",
       "\\bottomrule\n",
       "\\end{tabular}\n",
       "%\\caption{OLS Regression Results}\n",
       "\\end{center}\n",
       "\n",
       "Notes: \\newline\n",
       " [1] Standard Errors assume that the covariance matrix of the errors is correctly specified. \\newline\n",
       " [2] The condition number is large, 5.03e+04. This might indicate that there are \\newline\n",
       " strong multicollinearity or other numerical problems."
      ],
      "text/plain": [
       "<class 'statsmodels.iolib.summary.Summary'>\n",
       "\"\"\"\n",
       "                            OLS Regression Results                            \n",
       "==============================================================================\n",
       "Dep. Variable:               logprice   R-squared:                       0.806\n",
       "Model:                            OLS   Adj. R-squared:                  0.800\n",
       "Method:                 Least Squares   F-statistic:                     143.2\n",
       "Date:                Tue, 16 May 2023   Prob (F-statistic):           4.29e-48\n",
       "Time:                        08:08:37   Log-Likelihood:                -36.129\n",
       "No. Observations:                 143   AIC:                             82.26\n",
       "Df Residuals:                     138   BIC:                             97.07\n",
       "Df Model:                           4                                         \n",
       "Covariance Type:            nonrobust                                         \n",
       "======================================================================================\n",
       "                         coef    std err          t      P>|t|      [0.025      0.975]\n",
       "--------------------------------------------------------------------------------------\n",
       "Intercept              8.3305      0.517     16.118      0.000       7.309       9.353\n",
       "logarea                1.1505      0.123      9.377      0.000       0.908       1.393\n",
       "rooms                 -0.1262      0.056     -2.267      0.025      -0.236      -0.016\n",
       "ceilingHeight          0.9855      0.080     12.306      0.000       0.827       1.144\n",
       "numApartmentsTotal  6.699e-05   2.58e-05      2.600      0.010     1.6e-05       0.000\n",
       "==============================================================================\n",
       "Omnibus:                        3.275   Durbin-Watson:                   0.162\n",
       "Prob(Omnibus):                  0.194   Jarque-Bera (JB):                3.285\n",
       "Skew:                           0.361   Prob(JB):                        0.193\n",
       "Kurtosis:                       2.830   Cond. No.                     5.03e+04\n",
       "==============================================================================\n",
       "\n",
       "Notes:\n",
       "[1] Standard Errors assume that the covariance matrix of the errors is correctly specified.\n",
       "[2] The condition number is large, 5.03e+04. This might indicate that there are\n",
       "strong multicollinearity or other numerical problems.\n",
       "\"\"\""
      ]
     },
     "execution_count": 321,
     "metadata": {},
     "output_type": "execute_result"
    }
   ],
   "source": [
    "lm_HPRICE5 = smf.ols(formula='logprice ~ logarea + rooms + ceilingHeight + numApartmentsTotal', data=df1).fit()\n",
    "print(lm_HPRICE5.params)\n",
    "lm_HPRICE5.summary()"
   ]
  },
  {
   "cell_type": "code",
   "execution_count": 322,
   "metadata": {
    "colab": {
     "base_uri": "https://localhost:8080/",
     "height": 655
    },
    "id": "zsmayZxbzpkq",
    "outputId": "fff69b69-e318-4c4c-cd92-e0b440550574"
   },
   "outputs": [
    {
     "name": "stdout",
     "output_type": "stream",
     "text": [
      "Intercept             8.330517\n",
      "logarea               1.150543\n",
      "rooms                -0.126173\n",
      "ceilingHeight         0.985479\n",
      "numApartmentsTotal    0.000067\n",
      "dtype: float64\n"
     ]
    },
    {
     "data": {
      "text/html": [
       "<table class=\"simpletable\">\n",
       "<caption>OLS Regression Results</caption>\n",
       "<tr>\n",
       "  <th>Dep. Variable:</th>        <td>logprice</td>     <th>  R-squared:         </th> <td>   0.806</td>\n",
       "</tr>\n",
       "<tr>\n",
       "  <th>Model:</th>                   <td>OLS</td>       <th>  Adj. R-squared:    </th> <td>   0.800</td>\n",
       "</tr>\n",
       "<tr>\n",
       "  <th>Method:</th>             <td>Least Squares</td>  <th>  F-statistic:       </th> <td>   143.2</td>\n",
       "</tr>\n",
       "<tr>\n",
       "  <th>Date:</th>             <td>Tue, 16 May 2023</td> <th>  Prob (F-statistic):</th> <td>4.29e-48</td>\n",
       "</tr>\n",
       "<tr>\n",
       "  <th>Time:</th>                 <td>08:08:37</td>     <th>  Log-Likelihood:    </th> <td> -36.129</td>\n",
       "</tr>\n",
       "<tr>\n",
       "  <th>No. Observations:</th>      <td>   143</td>      <th>  AIC:               </th> <td>   82.26</td>\n",
       "</tr>\n",
       "<tr>\n",
       "  <th>Df Residuals:</th>          <td>   138</td>      <th>  BIC:               </th> <td>   97.07</td>\n",
       "</tr>\n",
       "<tr>\n",
       "  <th>Df Model:</th>              <td>     4</td>      <th>                     </th>     <td> </td>   \n",
       "</tr>\n",
       "<tr>\n",
       "  <th>Covariance Type:</th>      <td>nonrobust</td>    <th>                     </th>     <td> </td>   \n",
       "</tr>\n",
       "</table>\n",
       "<table class=\"simpletable\">\n",
       "<tr>\n",
       "           <td></td>             <th>coef</th>     <th>std err</th>      <th>t</th>      <th>P>|t|</th>  <th>[0.025</th>    <th>0.975]</th>  \n",
       "</tr>\n",
       "<tr>\n",
       "  <th>Intercept</th>          <td>    8.3305</td> <td>    0.517</td> <td>   16.118</td> <td> 0.000</td> <td>    7.309</td> <td>    9.353</td>\n",
       "</tr>\n",
       "<tr>\n",
       "  <th>logarea</th>            <td>    1.1505</td> <td>    0.123</td> <td>    9.377</td> <td> 0.000</td> <td>    0.908</td> <td>    1.393</td>\n",
       "</tr>\n",
       "<tr>\n",
       "  <th>rooms</th>              <td>   -0.1262</td> <td>    0.056</td> <td>   -2.267</td> <td> 0.025</td> <td>   -0.236</td> <td>   -0.016</td>\n",
       "</tr>\n",
       "<tr>\n",
       "  <th>ceilingHeight</th>      <td>    0.9855</td> <td>    0.080</td> <td>   12.306</td> <td> 0.000</td> <td>    0.827</td> <td>    1.144</td>\n",
       "</tr>\n",
       "<tr>\n",
       "  <th>numApartmentsTotal</th> <td> 6.699e-05</td> <td> 2.58e-05</td> <td>    2.600</td> <td> 0.010</td> <td>  1.6e-05</td> <td>    0.000</td>\n",
       "</tr>\n",
       "</table>\n",
       "<table class=\"simpletable\">\n",
       "<tr>\n",
       "  <th>Omnibus:</th>       <td> 3.275</td> <th>  Durbin-Watson:     </th> <td>   0.162</td>\n",
       "</tr>\n",
       "<tr>\n",
       "  <th>Prob(Omnibus):</th> <td> 0.194</td> <th>  Jarque-Bera (JB):  </th> <td>   3.285</td>\n",
       "</tr>\n",
       "<tr>\n",
       "  <th>Skew:</th>          <td> 0.361</td> <th>  Prob(JB):          </th> <td>   0.193</td>\n",
       "</tr>\n",
       "<tr>\n",
       "  <th>Kurtosis:</th>      <td> 2.830</td> <th>  Cond. No.          </th> <td>5.03e+04</td>\n",
       "</tr>\n",
       "</table><br/><br/>Notes:<br/>[1] Standard Errors assume that the covariance matrix of the errors is correctly specified.<br/>[2] The condition number is large, 5.03e+04. This might indicate that there are<br/>strong multicollinearity or other numerical problems."
      ],
      "text/latex": [
       "\\begin{center}\n",
       "\\begin{tabular}{lclc}\n",
       "\\toprule\n",
       "\\textbf{Dep. Variable:}     &     logprice     & \\textbf{  R-squared:         } &     0.806   \\\\\n",
       "\\textbf{Model:}             &       OLS        & \\textbf{  Adj. R-squared:    } &     0.800   \\\\\n",
       "\\textbf{Method:}            &  Least Squares   & \\textbf{  F-statistic:       } &     143.2   \\\\\n",
       "\\textbf{Date:}              & Tue, 16 May 2023 & \\textbf{  Prob (F-statistic):} &  4.29e-48   \\\\\n",
       "\\textbf{Time:}              &     08:08:37     & \\textbf{  Log-Likelihood:    } &   -36.129   \\\\\n",
       "\\textbf{No. Observations:}  &         143      & \\textbf{  AIC:               } &     82.26   \\\\\n",
       "\\textbf{Df Residuals:}      &         138      & \\textbf{  BIC:               } &     97.07   \\\\\n",
       "\\textbf{Df Model:}          &           4      & \\textbf{                     } &             \\\\\n",
       "\\textbf{Covariance Type:}   &    nonrobust     & \\textbf{                     } &             \\\\\n",
       "\\bottomrule\n",
       "\\end{tabular}\n",
       "\\begin{tabular}{lcccccc}\n",
       "                            & \\textbf{coef} & \\textbf{std err} & \\textbf{t} & \\textbf{P$> |$t$|$} & \\textbf{[0.025} & \\textbf{0.975]}  \\\\\n",
       "\\midrule\n",
       "\\textbf{Intercept}          &       8.3305  &        0.517     &    16.118  &         0.000        &        7.309    &        9.353     \\\\\n",
       "\\textbf{logarea}            &       1.1505  &        0.123     &     9.377  &         0.000        &        0.908    &        1.393     \\\\\n",
       "\\textbf{rooms}              &      -0.1262  &        0.056     &    -2.267  &         0.025        &       -0.236    &       -0.016     \\\\\n",
       "\\textbf{ceilingHeight}      &       0.9855  &        0.080     &    12.306  &         0.000        &        0.827    &        1.144     \\\\\n",
       "\\textbf{numApartmentsTotal} &    6.699e-05  &     2.58e-05     &     2.600  &         0.010        &      1.6e-05    &        0.000     \\\\\n",
       "\\bottomrule\n",
       "\\end{tabular}\n",
       "\\begin{tabular}{lclc}\n",
       "\\textbf{Omnibus:}       &  3.275 & \\textbf{  Durbin-Watson:     } &    0.162  \\\\\n",
       "\\textbf{Prob(Omnibus):} &  0.194 & \\textbf{  Jarque-Bera (JB):  } &    3.285  \\\\\n",
       "\\textbf{Skew:}          &  0.361 & \\textbf{  Prob(JB):          } &    0.193  \\\\\n",
       "\\textbf{Kurtosis:}      &  2.830 & \\textbf{  Cond. No.          } & 5.03e+04  \\\\\n",
       "\\bottomrule\n",
       "\\end{tabular}\n",
       "%\\caption{OLS Regression Results}\n",
       "\\end{center}\n",
       "\n",
       "Notes: \\newline\n",
       " [1] Standard Errors assume that the covariance matrix of the errors is correctly specified. \\newline\n",
       " [2] The condition number is large, 5.03e+04. This might indicate that there are \\newline\n",
       " strong multicollinearity or other numerical problems."
      ],
      "text/plain": [
       "<class 'statsmodels.iolib.summary.Summary'>\n",
       "\"\"\"\n",
       "                            OLS Regression Results                            \n",
       "==============================================================================\n",
       "Dep. Variable:               logprice   R-squared:                       0.806\n",
       "Model:                            OLS   Adj. R-squared:                  0.800\n",
       "Method:                 Least Squares   F-statistic:                     143.2\n",
       "Date:                Tue, 16 May 2023   Prob (F-statistic):           4.29e-48\n",
       "Time:                        08:08:37   Log-Likelihood:                -36.129\n",
       "No. Observations:                 143   AIC:                             82.26\n",
       "Df Residuals:                     138   BIC:                             97.07\n",
       "Df Model:                           4                                         \n",
       "Covariance Type:            nonrobust                                         \n",
       "======================================================================================\n",
       "                         coef    std err          t      P>|t|      [0.025      0.975]\n",
       "--------------------------------------------------------------------------------------\n",
       "Intercept              8.3305      0.517     16.118      0.000       7.309       9.353\n",
       "logarea                1.1505      0.123      9.377      0.000       0.908       1.393\n",
       "rooms                 -0.1262      0.056     -2.267      0.025      -0.236      -0.016\n",
       "ceilingHeight          0.9855      0.080     12.306      0.000       0.827       1.144\n",
       "numApartmentsTotal  6.699e-05   2.58e-05      2.600      0.010     1.6e-05       0.000\n",
       "==============================================================================\n",
       "Omnibus:                        3.275   Durbin-Watson:                   0.162\n",
       "Prob(Omnibus):                  0.194   Jarque-Bera (JB):                3.285\n",
       "Skew:                           0.361   Prob(JB):                        0.193\n",
       "Kurtosis:                       2.830   Cond. No.                     5.03e+04\n",
       "==============================================================================\n",
       "\n",
       "Notes:\n",
       "[1] Standard Errors assume that the covariance matrix of the errors is correctly specified.\n",
       "[2] The condition number is large, 5.03e+04. This might indicate that there are\n",
       "strong multicollinearity or other numerical problems.\n",
       "\"\"\""
      ]
     },
     "execution_count": 322,
     "metadata": {},
     "output_type": "execute_result"
    }
   ],
   "source": [
    "lm_HPRICE5 = smf.ols(formula='logprice ~ logarea + rooms + ceilingHeight + numApartmentsTotal', data=df1).fit()\n",
    "print(lm_HPRICE5.params)\n",
    "lm_HPRICE5.summary()"
   ]
  },
  {
   "cell_type": "code",
   "execution_count": 323,
   "metadata": {
    "colab": {
     "base_uri": "https://localhost:8080/",
     "height": 693
    },
    "id": "hSCgYAOR50Tz",
    "outputId": "f764cc88-2d8e-4813-beb3-0a36146b340a"
   },
   "outputs": [
    {
     "name": "stdout",
     "output_type": "stream",
     "text": [
      "Intercept             8.575261\n",
      "logarea               1.130015\n",
      "rooms                -0.123747\n",
      "ceilingHeight         0.944761\n",
      "numApartmentsTotal    0.000058\n",
      "floor                -0.004146\n",
      "dtype: float64\n"
     ]
    },
    {
     "data": {
      "text/html": [
       "<table class=\"simpletable\">\n",
       "<caption>OLS Regression Results</caption>\n",
       "<tr>\n",
       "  <th>Dep. Variable:</th>        <td>logprice</td>     <th>  R-squared:         </th> <td>   0.807</td>\n",
       "</tr>\n",
       "<tr>\n",
       "  <th>Model:</th>                   <td>OLS</td>       <th>  Adj. R-squared:    </th> <td>   0.800</td>\n",
       "</tr>\n",
       "<tr>\n",
       "  <th>Method:</th>             <td>Least Squares</td>  <th>  F-statistic:       </th> <td>   114.5</td>\n",
       "</tr>\n",
       "<tr>\n",
       "  <th>Date:</th>             <td>Tue, 16 May 2023</td> <th>  Prob (F-statistic):</th> <td>3.78e-47</td>\n",
       "</tr>\n",
       "<tr>\n",
       "  <th>Time:</th>                 <td>08:08:37</td>     <th>  Log-Likelihood:    </th> <td> -35.737</td>\n",
       "</tr>\n",
       "<tr>\n",
       "  <th>No. Observations:</th>      <td>   143</td>      <th>  AIC:               </th> <td>   83.47</td>\n",
       "</tr>\n",
       "<tr>\n",
       "  <th>Df Residuals:</th>          <td>   137</td>      <th>  BIC:               </th> <td>   101.3</td>\n",
       "</tr>\n",
       "<tr>\n",
       "  <th>Df Model:</th>              <td>     5</td>      <th>                     </th>     <td> </td>   \n",
       "</tr>\n",
       "<tr>\n",
       "  <th>Covariance Type:</th>      <td>nonrobust</td>    <th>                     </th>     <td> </td>   \n",
       "</tr>\n",
       "</table>\n",
       "<table class=\"simpletable\">\n",
       "<tr>\n",
       "           <td></td>             <th>coef</th>     <th>std err</th>      <th>t</th>      <th>P>|t|</th>  <th>[0.025</th>    <th>0.975]</th>  \n",
       "</tr>\n",
       "<tr>\n",
       "  <th>Intercept</th>          <td>    8.5753</td> <td>    0.589</td> <td>   14.554</td> <td> 0.000</td> <td>    7.410</td> <td>    9.740</td>\n",
       "</tr>\n",
       "<tr>\n",
       "  <th>logarea</th>            <td>    1.1300</td> <td>    0.125</td> <td>    9.035</td> <td> 0.000</td> <td>    0.883</td> <td>    1.377</td>\n",
       "</tr>\n",
       "<tr>\n",
       "  <th>rooms</th>              <td>   -0.1237</td> <td>    0.056</td> <td>   -2.218</td> <td> 0.028</td> <td>   -0.234</td> <td>   -0.013</td>\n",
       "</tr>\n",
       "<tr>\n",
       "  <th>ceilingHeight</th>      <td>    0.9448</td> <td>    0.093</td> <td>   10.173</td> <td> 0.000</td> <td>    0.761</td> <td>    1.128</td>\n",
       "</tr>\n",
       "<tr>\n",
       "  <th>numApartmentsTotal</th> <td> 5.818e-05</td> <td> 2.77e-05</td> <td>    2.099</td> <td> 0.038</td> <td> 3.37e-06</td> <td>    0.000</td>\n",
       "</tr>\n",
       "<tr>\n",
       "  <th>floor</th>              <td>   -0.0041</td> <td>    0.005</td> <td>   -0.868</td> <td> 0.387</td> <td>   -0.014</td> <td>    0.005</td>\n",
       "</tr>\n",
       "</table>\n",
       "<table class=\"simpletable\">\n",
       "<tr>\n",
       "  <th>Omnibus:</th>       <td> 3.564</td> <th>  Durbin-Watson:     </th> <td>   0.180</td>\n",
       "</tr>\n",
       "<tr>\n",
       "  <th>Prob(Omnibus):</th> <td> 0.168</td> <th>  Jarque-Bera (JB):  </th> <td>   3.603</td>\n",
       "</tr>\n",
       "<tr>\n",
       "  <th>Skew:</th>          <td> 0.375</td> <th>  Prob(JB):          </th> <td>   0.165</td>\n",
       "</tr>\n",
       "<tr>\n",
       "  <th>Kurtosis:</th>      <td> 2.793</td> <th>  Cond. No.          </th> <td>5.70e+04</td>\n",
       "</tr>\n",
       "</table><br/><br/>Notes:<br/>[1] Standard Errors assume that the covariance matrix of the errors is correctly specified.<br/>[2] The condition number is large, 5.7e+04. This might indicate that there are<br/>strong multicollinearity or other numerical problems."
      ],
      "text/latex": [
       "\\begin{center}\n",
       "\\begin{tabular}{lclc}\n",
       "\\toprule\n",
       "\\textbf{Dep. Variable:}     &     logprice     & \\textbf{  R-squared:         } &     0.807   \\\\\n",
       "\\textbf{Model:}             &       OLS        & \\textbf{  Adj. R-squared:    } &     0.800   \\\\\n",
       "\\textbf{Method:}            &  Least Squares   & \\textbf{  F-statistic:       } &     114.5   \\\\\n",
       "\\textbf{Date:}              & Tue, 16 May 2023 & \\textbf{  Prob (F-statistic):} &  3.78e-47   \\\\\n",
       "\\textbf{Time:}              &     08:08:37     & \\textbf{  Log-Likelihood:    } &   -35.737   \\\\\n",
       "\\textbf{No. Observations:}  &         143      & \\textbf{  AIC:               } &     83.47   \\\\\n",
       "\\textbf{Df Residuals:}      &         137      & \\textbf{  BIC:               } &     101.3   \\\\\n",
       "\\textbf{Df Model:}          &           5      & \\textbf{                     } &             \\\\\n",
       "\\textbf{Covariance Type:}   &    nonrobust     & \\textbf{                     } &             \\\\\n",
       "\\bottomrule\n",
       "\\end{tabular}\n",
       "\\begin{tabular}{lcccccc}\n",
       "                            & \\textbf{coef} & \\textbf{std err} & \\textbf{t} & \\textbf{P$> |$t$|$} & \\textbf{[0.025} & \\textbf{0.975]}  \\\\\n",
       "\\midrule\n",
       "\\textbf{Intercept}          &       8.5753  &        0.589     &    14.554  &         0.000        &        7.410    &        9.740     \\\\\n",
       "\\textbf{logarea}            &       1.1300  &        0.125     &     9.035  &         0.000        &        0.883    &        1.377     \\\\\n",
       "\\textbf{rooms}              &      -0.1237  &        0.056     &    -2.218  &         0.028        &       -0.234    &       -0.013     \\\\\n",
       "\\textbf{ceilingHeight}      &       0.9448  &        0.093     &    10.173  &         0.000        &        0.761    &        1.128     \\\\\n",
       "\\textbf{numApartmentsTotal} &    5.818e-05  &     2.77e-05     &     2.099  &         0.038        &     3.37e-06    &        0.000     \\\\\n",
       "\\textbf{floor}              &      -0.0041  &        0.005     &    -0.868  &         0.387        &       -0.014    &        0.005     \\\\\n",
       "\\bottomrule\n",
       "\\end{tabular}\n",
       "\\begin{tabular}{lclc}\n",
       "\\textbf{Omnibus:}       &  3.564 & \\textbf{  Durbin-Watson:     } &    0.180  \\\\\n",
       "\\textbf{Prob(Omnibus):} &  0.168 & \\textbf{  Jarque-Bera (JB):  } &    3.603  \\\\\n",
       "\\textbf{Skew:}          &  0.375 & \\textbf{  Prob(JB):          } &    0.165  \\\\\n",
       "\\textbf{Kurtosis:}      &  2.793 & \\textbf{  Cond. No.          } & 5.70e+04  \\\\\n",
       "\\bottomrule\n",
       "\\end{tabular}\n",
       "%\\caption{OLS Regression Results}\n",
       "\\end{center}\n",
       "\n",
       "Notes: \\newline\n",
       " [1] Standard Errors assume that the covariance matrix of the errors is correctly specified. \\newline\n",
       " [2] The condition number is large, 5.7e+04. This might indicate that there are \\newline\n",
       " strong multicollinearity or other numerical problems."
      ],
      "text/plain": [
       "<class 'statsmodels.iolib.summary.Summary'>\n",
       "\"\"\"\n",
       "                            OLS Regression Results                            \n",
       "==============================================================================\n",
       "Dep. Variable:               logprice   R-squared:                       0.807\n",
       "Model:                            OLS   Adj. R-squared:                  0.800\n",
       "Method:                 Least Squares   F-statistic:                     114.5\n",
       "Date:                Tue, 16 May 2023   Prob (F-statistic):           3.78e-47\n",
       "Time:                        08:08:37   Log-Likelihood:                -35.737\n",
       "No. Observations:                 143   AIC:                             83.47\n",
       "Df Residuals:                     137   BIC:                             101.3\n",
       "Df Model:                           5                                         \n",
       "Covariance Type:            nonrobust                                         \n",
       "======================================================================================\n",
       "                         coef    std err          t      P>|t|      [0.025      0.975]\n",
       "--------------------------------------------------------------------------------------\n",
       "Intercept              8.5753      0.589     14.554      0.000       7.410       9.740\n",
       "logarea                1.1300      0.125      9.035      0.000       0.883       1.377\n",
       "rooms                 -0.1237      0.056     -2.218      0.028      -0.234      -0.013\n",
       "ceilingHeight          0.9448      0.093     10.173      0.000       0.761       1.128\n",
       "numApartmentsTotal  5.818e-05   2.77e-05      2.099      0.038    3.37e-06       0.000\n",
       "floor                 -0.0041      0.005     -0.868      0.387      -0.014       0.005\n",
       "==============================================================================\n",
       "Omnibus:                        3.564   Durbin-Watson:                   0.180\n",
       "Prob(Omnibus):                  0.168   Jarque-Bera (JB):                3.603\n",
       "Skew:                           0.375   Prob(JB):                        0.165\n",
       "Kurtosis:                       2.793   Cond. No.                     5.70e+04\n",
       "==============================================================================\n",
       "\n",
       "Notes:\n",
       "[1] Standard Errors assume that the covariance matrix of the errors is correctly specified.\n",
       "[2] The condition number is large, 5.7e+04. This might indicate that there are\n",
       "strong multicollinearity or other numerical problems.\n",
       "\"\"\""
      ]
     },
     "execution_count": 323,
     "metadata": {},
     "output_type": "execute_result"
    }
   ],
   "source": [
    "lm_HPRICE5 = smf.ols(formula='logprice ~ logarea + rooms + ceilingHeight + numApartmentsTotal + floor', data=df1).fit()\n",
    "print(lm_HPRICE5.params)\n",
    "lm_HPRICE5.summary()"
   ]
  },
  {
   "cell_type": "code",
   "execution_count": 324,
   "metadata": {
    "colab": {
     "base_uri": "https://localhost:8080/",
     "height": 732
    },
    "id": "KmrKcbGx56LH",
    "outputId": "192da761-1768-4db2-bf72-79d64b47ee06"
   },
   "outputs": [
    {
     "name": "stdout",
     "output_type": "stream",
     "text": [
      "Intercept              9.404546\n",
      "logarea                1.428241\n",
      "rooms                 -0.182380\n",
      "ceilingHeight          0.543581\n",
      "numApartmentsTotal     0.000010\n",
      "floor                 -0.008356\n",
      "crimeRateInDistrict   -0.000319\n",
      "dtype: float64\n"
     ]
    },
    {
     "data": {
      "text/html": [
       "<table class=\"simpletable\">\n",
       "<caption>OLS Regression Results</caption>\n",
       "<tr>\n",
       "  <th>Dep. Variable:</th>        <td>logprice</td>     <th>  R-squared:         </th> <td>   0.842</td>\n",
       "</tr>\n",
       "<tr>\n",
       "  <th>Model:</th>                   <td>OLS</td>       <th>  Adj. R-squared:    </th> <td>   0.835</td>\n",
       "</tr>\n",
       "<tr>\n",
       "  <th>Method:</th>             <td>Least Squares</td>  <th>  F-statistic:       </th> <td>   120.5</td>\n",
       "</tr>\n",
       "<tr>\n",
       "  <th>Date:</th>             <td>Tue, 16 May 2023</td> <th>  Prob (F-statistic):</th> <td>6.50e-52</td>\n",
       "</tr>\n",
       "<tr>\n",
       "  <th>Time:</th>                 <td>08:08:37</td>     <th>  Log-Likelihood:    </th> <td> -21.568</td>\n",
       "</tr>\n",
       "<tr>\n",
       "  <th>No. Observations:</th>      <td>   143</td>      <th>  AIC:               </th> <td>   57.14</td>\n",
       "</tr>\n",
       "<tr>\n",
       "  <th>Df Residuals:</th>          <td>   136</td>      <th>  BIC:               </th> <td>   77.88</td>\n",
       "</tr>\n",
       "<tr>\n",
       "  <th>Df Model:</th>              <td>     6</td>      <th>                     </th>     <td> </td>   \n",
       "</tr>\n",
       "<tr>\n",
       "  <th>Covariance Type:</th>      <td>nonrobust</td>    <th>                     </th>     <td> </td>   \n",
       "</tr>\n",
       "</table>\n",
       "<table class=\"simpletable\">\n",
       "<tr>\n",
       "           <td></td>              <th>coef</th>     <th>std err</th>      <th>t</th>      <th>P>|t|</th>  <th>[0.025</th>    <th>0.975]</th>  \n",
       "</tr>\n",
       "<tr>\n",
       "  <th>Intercept</th>           <td>    9.4045</td> <td>    0.557</td> <td>   16.894</td> <td> 0.000</td> <td>    8.304</td> <td>   10.505</td>\n",
       "</tr>\n",
       "<tr>\n",
       "  <th>logarea</th>             <td>    1.4282</td> <td>    0.126</td> <td>   11.324</td> <td> 0.000</td> <td>    1.179</td> <td>    1.678</td>\n",
       "</tr>\n",
       "<tr>\n",
       "  <th>rooms</th>               <td>   -0.1824</td> <td>    0.052</td> <td>   -3.519</td> <td> 0.001</td> <td>   -0.285</td> <td>   -0.080</td>\n",
       "</tr>\n",
       "<tr>\n",
       "  <th>ceilingHeight</th>       <td>    0.5436</td> <td>    0.112</td> <td>    4.857</td> <td> 0.000</td> <td>    0.322</td> <td>    0.765</td>\n",
       "</tr>\n",
       "<tr>\n",
       "  <th>numApartmentsTotal</th>  <td> 1.035e-05</td> <td> 2.67e-05</td> <td>    0.388</td> <td> 0.699</td> <td>-4.24e-05</td> <td> 6.31e-05</td>\n",
       "</tr>\n",
       "<tr>\n",
       "  <th>floor</th>               <td>   -0.0084</td> <td>    0.004</td> <td>   -1.895</td> <td> 0.060</td> <td>   -0.017</td> <td>    0.000</td>\n",
       "</tr>\n",
       "<tr>\n",
       "  <th>crimeRateInDistrict</th> <td>   -0.0003</td> <td> 5.83e-05</td> <td>   -5.460</td> <td> 0.000</td> <td>   -0.000</td> <td>   -0.000</td>\n",
       "</tr>\n",
       "</table>\n",
       "<table class=\"simpletable\">\n",
       "<tr>\n",
       "  <th>Omnibus:</th>       <td> 3.775</td> <th>  Durbin-Watson:     </th> <td>   0.258</td>\n",
       "</tr>\n",
       "<tr>\n",
       "  <th>Prob(Omnibus):</th> <td> 0.151</td> <th>  Jarque-Bera (JB):  </th> <td>   3.452</td>\n",
       "</tr>\n",
       "<tr>\n",
       "  <th>Skew:</th>          <td> 0.252</td> <th>  Prob(JB):          </th> <td>   0.178</td>\n",
       "</tr>\n",
       "<tr>\n",
       "  <th>Kurtosis:</th>      <td> 3.570</td> <th>  Cond. No.          </th> <td>8.30e+04</td>\n",
       "</tr>\n",
       "</table><br/><br/>Notes:<br/>[1] Standard Errors assume that the covariance matrix of the errors is correctly specified.<br/>[2] The condition number is large, 8.3e+04. This might indicate that there are<br/>strong multicollinearity or other numerical problems."
      ],
      "text/latex": [
       "\\begin{center}\n",
       "\\begin{tabular}{lclc}\n",
       "\\toprule\n",
       "\\textbf{Dep. Variable:}      &     logprice     & \\textbf{  R-squared:         } &     0.842   \\\\\n",
       "\\textbf{Model:}              &       OLS        & \\textbf{  Adj. R-squared:    } &     0.835   \\\\\n",
       "\\textbf{Method:}             &  Least Squares   & \\textbf{  F-statistic:       } &     120.5   \\\\\n",
       "\\textbf{Date:}               & Tue, 16 May 2023 & \\textbf{  Prob (F-statistic):} &  6.50e-52   \\\\\n",
       "\\textbf{Time:}               &     08:08:37     & \\textbf{  Log-Likelihood:    } &   -21.568   \\\\\n",
       "\\textbf{No. Observations:}   &         143      & \\textbf{  AIC:               } &     57.14   \\\\\n",
       "\\textbf{Df Residuals:}       &         136      & \\textbf{  BIC:               } &     77.88   \\\\\n",
       "\\textbf{Df Model:}           &           6      & \\textbf{                     } &             \\\\\n",
       "\\textbf{Covariance Type:}    &    nonrobust     & \\textbf{                     } &             \\\\\n",
       "\\bottomrule\n",
       "\\end{tabular}\n",
       "\\begin{tabular}{lcccccc}\n",
       "                             & \\textbf{coef} & \\textbf{std err} & \\textbf{t} & \\textbf{P$> |$t$|$} & \\textbf{[0.025} & \\textbf{0.975]}  \\\\\n",
       "\\midrule\n",
       "\\textbf{Intercept}           &       9.4045  &        0.557     &    16.894  &         0.000        &        8.304    &       10.505     \\\\\n",
       "\\textbf{logarea}             &       1.4282  &        0.126     &    11.324  &         0.000        &        1.179    &        1.678     \\\\\n",
       "\\textbf{rooms}               &      -0.1824  &        0.052     &    -3.519  &         0.001        &       -0.285    &       -0.080     \\\\\n",
       "\\textbf{ceilingHeight}       &       0.5436  &        0.112     &     4.857  &         0.000        &        0.322    &        0.765     \\\\\n",
       "\\textbf{numApartmentsTotal}  &    1.035e-05  &     2.67e-05     &     0.388  &         0.699        &    -4.24e-05    &     6.31e-05     \\\\\n",
       "\\textbf{floor}               &      -0.0084  &        0.004     &    -1.895  &         0.060        &       -0.017    &        0.000     \\\\\n",
       "\\textbf{crimeRateInDistrict} &      -0.0003  &     5.83e-05     &    -5.460  &         0.000        &       -0.000    &       -0.000     \\\\\n",
       "\\bottomrule\n",
       "\\end{tabular}\n",
       "\\begin{tabular}{lclc}\n",
       "\\textbf{Omnibus:}       &  3.775 & \\textbf{  Durbin-Watson:     } &    0.258  \\\\\n",
       "\\textbf{Prob(Omnibus):} &  0.151 & \\textbf{  Jarque-Bera (JB):  } &    3.452  \\\\\n",
       "\\textbf{Skew:}          &  0.252 & \\textbf{  Prob(JB):          } &    0.178  \\\\\n",
       "\\textbf{Kurtosis:}      &  3.570 & \\textbf{  Cond. No.          } & 8.30e+04  \\\\\n",
       "\\bottomrule\n",
       "\\end{tabular}\n",
       "%\\caption{OLS Regression Results}\n",
       "\\end{center}\n",
       "\n",
       "Notes: \\newline\n",
       " [1] Standard Errors assume that the covariance matrix of the errors is correctly specified. \\newline\n",
       " [2] The condition number is large, 8.3e+04. This might indicate that there are \\newline\n",
       " strong multicollinearity or other numerical problems."
      ],
      "text/plain": [
       "<class 'statsmodels.iolib.summary.Summary'>\n",
       "\"\"\"\n",
       "                            OLS Regression Results                            \n",
       "==============================================================================\n",
       "Dep. Variable:               logprice   R-squared:                       0.842\n",
       "Model:                            OLS   Adj. R-squared:                  0.835\n",
       "Method:                 Least Squares   F-statistic:                     120.5\n",
       "Date:                Tue, 16 May 2023   Prob (F-statistic):           6.50e-52\n",
       "Time:                        08:08:37   Log-Likelihood:                -21.568\n",
       "No. Observations:                 143   AIC:                             57.14\n",
       "Df Residuals:                     136   BIC:                             77.88\n",
       "Df Model:                           6                                         \n",
       "Covariance Type:            nonrobust                                         \n",
       "=======================================================================================\n",
       "                          coef    std err          t      P>|t|      [0.025      0.975]\n",
       "---------------------------------------------------------------------------------------\n",
       "Intercept               9.4045      0.557     16.894      0.000       8.304      10.505\n",
       "logarea                 1.4282      0.126     11.324      0.000       1.179       1.678\n",
       "rooms                  -0.1824      0.052     -3.519      0.001      -0.285      -0.080\n",
       "ceilingHeight           0.5436      0.112      4.857      0.000       0.322       0.765\n",
       "numApartmentsTotal   1.035e-05   2.67e-05      0.388      0.699   -4.24e-05    6.31e-05\n",
       "floor                  -0.0084      0.004     -1.895      0.060      -0.017       0.000\n",
       "crimeRateInDistrict    -0.0003   5.83e-05     -5.460      0.000      -0.000      -0.000\n",
       "==============================================================================\n",
       "Omnibus:                        3.775   Durbin-Watson:                   0.258\n",
       "Prob(Omnibus):                  0.151   Jarque-Bera (JB):                3.452\n",
       "Skew:                           0.252   Prob(JB):                        0.178\n",
       "Kurtosis:                       3.570   Cond. No.                     8.30e+04\n",
       "==============================================================================\n",
       "\n",
       "Notes:\n",
       "[1] Standard Errors assume that the covariance matrix of the errors is correctly specified.\n",
       "[2] The condition number is large, 8.3e+04. This might indicate that there are\n",
       "strong multicollinearity or other numerical problems.\n",
       "\"\"\""
      ]
     },
     "execution_count": 324,
     "metadata": {},
     "output_type": "execute_result"
    }
   ],
   "source": [
    "lm_HPRICE6 = smf.ols(formula='logprice ~ logarea + rooms + ceilingHeight + numApartmentsTotal + floor + crimeRateInDistrict', data=df1).fit()\n",
    "print(lm_HPRICE6.params)\n",
    "lm_HPRICE6.summary()"
   ]
  },
  {
   "cell_type": "code",
   "execution_count": 325,
   "metadata": {
    "colab": {
     "base_uri": "https://localhost:8080/",
     "height": 771
    },
    "id": "OLLWZgibBsDo",
    "outputId": "15eb966d-da89-481c-ba11-b2d5ff00613f",
    "scrolled": true
   },
   "outputs": [
    {
     "name": "stdout",
     "output_type": "stream",
     "text": [
      "Intercept              11.426629\n",
      "logarea                 1.001315\n",
      "rooms                  -0.020851\n",
      "ceilingHeight          -0.328257\n",
      "numApartmentsTotal      0.000017\n",
      "floor                  -0.001812\n",
      "crimeRateInDistrict    -0.000244\n",
      "predictedClass          0.868260\n",
      "dtype: float64\n"
     ]
    },
    {
     "data": {
      "text/html": [
       "<table class=\"simpletable\">\n",
       "<caption>OLS Regression Results</caption>\n",
       "<tr>\n",
       "  <th>Dep. Variable:</th>        <td>logprice</td>     <th>  R-squared:         </th> <td>   0.930</td>\n",
       "</tr>\n",
       "<tr>\n",
       "  <th>Model:</th>                   <td>OLS</td>       <th>  Adj. R-squared:    </th> <td>   0.926</td>\n",
       "</tr>\n",
       "<tr>\n",
       "  <th>Method:</th>             <td>Least Squares</td>  <th>  F-statistic:       </th> <td>   256.5</td>\n",
       "</tr>\n",
       "<tr>\n",
       "  <th>Date:</th>             <td>Tue, 16 May 2023</td> <th>  Prob (F-statistic):</th> <td>1.04e-74</td>\n",
       "</tr>\n",
       "<tr>\n",
       "  <th>Time:</th>                 <td>08:08:37</td>     <th>  Log-Likelihood:    </th> <td>  36.882</td>\n",
       "</tr>\n",
       "<tr>\n",
       "  <th>No. Observations:</th>      <td>   143</td>      <th>  AIC:               </th> <td>  -57.76</td>\n",
       "</tr>\n",
       "<tr>\n",
       "  <th>Df Residuals:</th>          <td>   135</td>      <th>  BIC:               </th> <td>  -34.06</td>\n",
       "</tr>\n",
       "<tr>\n",
       "  <th>Df Model:</th>              <td>     7</td>      <th>                     </th>     <td> </td>   \n",
       "</tr>\n",
       "<tr>\n",
       "  <th>Covariance Type:</th>      <td>nonrobust</td>    <th>                     </th>     <td> </td>   \n",
       "</tr>\n",
       "</table>\n",
       "<table class=\"simpletable\">\n",
       "<tr>\n",
       "           <td></td>              <th>coef</th>     <th>std err</th>      <th>t</th>      <th>P>|t|</th>  <th>[0.025</th>    <th>0.975]</th>  \n",
       "</tr>\n",
       "<tr>\n",
       "  <th>Intercept</th>           <td>   11.4266</td> <td>    0.402</td> <td>   28.407</td> <td> 0.000</td> <td>   10.631</td> <td>   12.222</td>\n",
       "</tr>\n",
       "<tr>\n",
       "  <th>logarea</th>             <td>    1.0013</td> <td>    0.090</td> <td>   11.096</td> <td> 0.000</td> <td>    0.823</td> <td>    1.180</td>\n",
       "</tr>\n",
       "<tr>\n",
       "  <th>rooms</th>               <td>   -0.0209</td> <td>    0.037</td> <td>   -0.568</td> <td> 0.571</td> <td>   -0.093</td> <td>    0.052</td>\n",
       "</tr>\n",
       "<tr>\n",
       "  <th>ceilingHeight</th>       <td>   -0.3283</td> <td>    0.100</td> <td>   -3.279</td> <td> 0.001</td> <td>   -0.526</td> <td>   -0.130</td>\n",
       "</tr>\n",
       "<tr>\n",
       "  <th>numApartmentsTotal</th>  <td> 1.699e-05</td> <td> 1.78e-05</td> <td>    0.954</td> <td> 0.342</td> <td>-1.82e-05</td> <td> 5.22e-05</td>\n",
       "</tr>\n",
       "<tr>\n",
       "  <th>floor</th>               <td>   -0.0018</td> <td>    0.003</td> <td>   -0.607</td> <td> 0.545</td> <td>   -0.008</td> <td>    0.004</td>\n",
       "</tr>\n",
       "<tr>\n",
       "  <th>crimeRateInDistrict</th> <td>   -0.0002</td> <td> 3.93e-05</td> <td>   -6.198</td> <td> 0.000</td> <td>   -0.000</td> <td>   -0.000</td>\n",
       "</tr>\n",
       "<tr>\n",
       "  <th>predictedClass</th>      <td>    0.8683</td> <td>    0.066</td> <td>   13.067</td> <td> 0.000</td> <td>    0.737</td> <td>    1.000</td>\n",
       "</tr>\n",
       "</table>\n",
       "<table class=\"simpletable\">\n",
       "<tr>\n",
       "  <th>Omnibus:</th>       <td>30.116</td> <th>  Durbin-Watson:     </th> <td>   0.206</td>\n",
       "</tr>\n",
       "<tr>\n",
       "  <th>Prob(Omnibus):</th> <td> 0.000</td> <th>  Jarque-Bera (JB):  </th> <td>  44.766</td>\n",
       "</tr>\n",
       "<tr>\n",
       "  <th>Skew:</th>          <td>-1.091</td> <th>  Prob(JB):          </th> <td>1.90e-10</td>\n",
       "</tr>\n",
       "<tr>\n",
       "  <th>Kurtosis:</th>      <td> 4.660</td> <th>  Cond. No.          </th> <td>9.08e+04</td>\n",
       "</tr>\n",
       "</table><br/><br/>Notes:<br/>[1] Standard Errors assume that the covariance matrix of the errors is correctly specified.<br/>[2] The condition number is large, 9.08e+04. This might indicate that there are<br/>strong multicollinearity or other numerical problems."
      ],
      "text/latex": [
       "\\begin{center}\n",
       "\\begin{tabular}{lclc}\n",
       "\\toprule\n",
       "\\textbf{Dep. Variable:}      &     logprice     & \\textbf{  R-squared:         } &     0.930   \\\\\n",
       "\\textbf{Model:}              &       OLS        & \\textbf{  Adj. R-squared:    } &     0.926   \\\\\n",
       "\\textbf{Method:}             &  Least Squares   & \\textbf{  F-statistic:       } &     256.5   \\\\\n",
       "\\textbf{Date:}               & Tue, 16 May 2023 & \\textbf{  Prob (F-statistic):} &  1.04e-74   \\\\\n",
       "\\textbf{Time:}               &     08:08:37     & \\textbf{  Log-Likelihood:    } &    36.882   \\\\\n",
       "\\textbf{No. Observations:}   &         143      & \\textbf{  AIC:               } &    -57.76   \\\\\n",
       "\\textbf{Df Residuals:}       &         135      & \\textbf{  BIC:               } &    -34.06   \\\\\n",
       "\\textbf{Df Model:}           &           7      & \\textbf{                     } &             \\\\\n",
       "\\textbf{Covariance Type:}    &    nonrobust     & \\textbf{                     } &             \\\\\n",
       "\\bottomrule\n",
       "\\end{tabular}\n",
       "\\begin{tabular}{lcccccc}\n",
       "                             & \\textbf{coef} & \\textbf{std err} & \\textbf{t} & \\textbf{P$> |$t$|$} & \\textbf{[0.025} & \\textbf{0.975]}  \\\\\n",
       "\\midrule\n",
       "\\textbf{Intercept}           &      11.4266  &        0.402     &    28.407  &         0.000        &       10.631    &       12.222     \\\\\n",
       "\\textbf{logarea}             &       1.0013  &        0.090     &    11.096  &         0.000        &        0.823    &        1.180     \\\\\n",
       "\\textbf{rooms}               &      -0.0209  &        0.037     &    -0.568  &         0.571        &       -0.093    &        0.052     \\\\\n",
       "\\textbf{ceilingHeight}       &      -0.3283  &        0.100     &    -3.279  &         0.001        &       -0.526    &       -0.130     \\\\\n",
       "\\textbf{numApartmentsTotal}  &    1.699e-05  &     1.78e-05     &     0.954  &         0.342        &    -1.82e-05    &     5.22e-05     \\\\\n",
       "\\textbf{floor}               &      -0.0018  &        0.003     &    -0.607  &         0.545        &       -0.008    &        0.004     \\\\\n",
       "\\textbf{crimeRateInDistrict} &      -0.0002  &     3.93e-05     &    -6.198  &         0.000        &       -0.000    &       -0.000     \\\\\n",
       "\\textbf{predictedClass}      &       0.8683  &        0.066     &    13.067  &         0.000        &        0.737    &        1.000     \\\\\n",
       "\\bottomrule\n",
       "\\end{tabular}\n",
       "\\begin{tabular}{lclc}\n",
       "\\textbf{Omnibus:}       & 30.116 & \\textbf{  Durbin-Watson:     } &    0.206  \\\\\n",
       "\\textbf{Prob(Omnibus):} &  0.000 & \\textbf{  Jarque-Bera (JB):  } &   44.766  \\\\\n",
       "\\textbf{Skew:}          & -1.091 & \\textbf{  Prob(JB):          } & 1.90e-10  \\\\\n",
       "\\textbf{Kurtosis:}      &  4.660 & \\textbf{  Cond. No.          } & 9.08e+04  \\\\\n",
       "\\bottomrule\n",
       "\\end{tabular}\n",
       "%\\caption{OLS Regression Results}\n",
       "\\end{center}\n",
       "\n",
       "Notes: \\newline\n",
       " [1] Standard Errors assume that the covariance matrix of the errors is correctly specified. \\newline\n",
       " [2] The condition number is large, 9.08e+04. This might indicate that there are \\newline\n",
       " strong multicollinearity or other numerical problems."
      ],
      "text/plain": [
       "<class 'statsmodels.iolib.summary.Summary'>\n",
       "\"\"\"\n",
       "                            OLS Regression Results                            \n",
       "==============================================================================\n",
       "Dep. Variable:               logprice   R-squared:                       0.930\n",
       "Model:                            OLS   Adj. R-squared:                  0.926\n",
       "Method:                 Least Squares   F-statistic:                     256.5\n",
       "Date:                Tue, 16 May 2023   Prob (F-statistic):           1.04e-74\n",
       "Time:                        08:08:37   Log-Likelihood:                 36.882\n",
       "No. Observations:                 143   AIC:                            -57.76\n",
       "Df Residuals:                     135   BIC:                            -34.06\n",
       "Df Model:                           7                                         \n",
       "Covariance Type:            nonrobust                                         \n",
       "=======================================================================================\n",
       "                          coef    std err          t      P>|t|      [0.025      0.975]\n",
       "---------------------------------------------------------------------------------------\n",
       "Intercept              11.4266      0.402     28.407      0.000      10.631      12.222\n",
       "logarea                 1.0013      0.090     11.096      0.000       0.823       1.180\n",
       "rooms                  -0.0209      0.037     -0.568      0.571      -0.093       0.052\n",
       "ceilingHeight          -0.3283      0.100     -3.279      0.001      -0.526      -0.130\n",
       "numApartmentsTotal   1.699e-05   1.78e-05      0.954      0.342   -1.82e-05    5.22e-05\n",
       "floor                  -0.0018      0.003     -0.607      0.545      -0.008       0.004\n",
       "crimeRateInDistrict    -0.0002   3.93e-05     -6.198      0.000      -0.000      -0.000\n",
       "predictedClass          0.8683      0.066     13.067      0.000       0.737       1.000\n",
       "==============================================================================\n",
       "Omnibus:                       30.116   Durbin-Watson:                   0.206\n",
       "Prob(Omnibus):                  0.000   Jarque-Bera (JB):               44.766\n",
       "Skew:                          -1.091   Prob(JB):                     1.90e-10\n",
       "Kurtosis:                       4.660   Cond. No.                     9.08e+04\n",
       "==============================================================================\n",
       "\n",
       "Notes:\n",
       "[1] Standard Errors assume that the covariance matrix of the errors is correctly specified.\n",
       "[2] The condition number is large, 9.08e+04. This might indicate that there are\n",
       "strong multicollinearity or other numerical problems.\n",
       "\"\"\""
      ]
     },
     "execution_count": 325,
     "metadata": {},
     "output_type": "execute_result"
    }
   ],
   "source": [
    "lm_HPRICE7 = smf.ols(formula='logprice ~ logarea + rooms + ceilingHeight + numApartmentsTotal + floor + crimeRateInDistrict + predictedClass', data=df1).fit()\n",
    "print(lm_HPRICE7.params)\n",
    "lm_HPRICE7.summary()"
   ]
  },
  {
   "cell_type": "code",
   "execution_count": 326,
   "metadata": {
    "colab": {
     "base_uri": "https://localhost:8080/",
     "height": 542
    },
    "id": "5Ml16nQaJtT0",
    "outputId": "0111a81c-4705-42f8-d084-c67e867586d5",
    "scrolled": true
   },
   "outputs": [
    {
     "name": "stdout",
     "output_type": "stream",
     "text": [
      "Intercept         11.085433\n",
      "logarea            0.766392\n",
      "predictedClass     0.762986\n",
      "dtype: float64\n"
     ]
    },
    {
     "data": {
      "text/html": [
       "<table class=\"simpletable\">\n",
       "<caption>OLS Regression Results</caption>\n",
       "<tr>\n",
       "  <th>Dep. Variable:</th>        <td>logprice</td>     <th>  R-squared:         </th> <td>   0.900</td>\n",
       "</tr>\n",
       "<tr>\n",
       "  <th>Model:</th>                   <td>OLS</td>       <th>  Adj. R-squared:    </th> <td>   0.898</td>\n",
       "</tr>\n",
       "<tr>\n",
       "  <th>Method:</th>             <td>Least Squares</td>  <th>  F-statistic:       </th> <td>   627.2</td>\n",
       "</tr>\n",
       "<tr>\n",
       "  <th>Date:</th>             <td>Tue, 16 May 2023</td> <th>  Prob (F-statistic):</th> <td>1.32e-70</td>\n",
       "</tr>\n",
       "<tr>\n",
       "  <th>Time:</th>                 <td>08:08:37</td>     <th>  Log-Likelihood:    </th> <td>  11.022</td>\n",
       "</tr>\n",
       "<tr>\n",
       "  <th>No. Observations:</th>      <td>   143</td>      <th>  AIC:               </th> <td>  -16.04</td>\n",
       "</tr>\n",
       "<tr>\n",
       "  <th>Df Residuals:</th>          <td>   140</td>      <th>  BIC:               </th> <td>  -7.156</td>\n",
       "</tr>\n",
       "<tr>\n",
       "  <th>Df Model:</th>              <td>     2</td>      <th>                     </th>     <td> </td>   \n",
       "</tr>\n",
       "<tr>\n",
       "  <th>Covariance Type:</th>      <td>nonrobust</td>    <th>                     </th>     <td> </td>   \n",
       "</tr>\n",
       "</table>\n",
       "<table class=\"simpletable\">\n",
       "<tr>\n",
       "         <td></td>           <th>coef</th>     <th>std err</th>      <th>t</th>      <th>P>|t|</th>  <th>[0.025</th>    <th>0.975]</th>  \n",
       "</tr>\n",
       "<tr>\n",
       "  <th>Intercept</th>      <td>   11.0854</td> <td>    0.206</td> <td>   53.860</td> <td> 0.000</td> <td>   10.679</td> <td>   11.492</td>\n",
       "</tr>\n",
       "<tr>\n",
       "  <th>logarea</th>        <td>    0.7664</td> <td>    0.052</td> <td>   14.878</td> <td> 0.000</td> <td>    0.665</td> <td>    0.868</td>\n",
       "</tr>\n",
       "<tr>\n",
       "  <th>predictedClass</th> <td>    0.7630</td> <td>    0.031</td> <td>   24.750</td> <td> 0.000</td> <td>    0.702</td> <td>    0.824</td>\n",
       "</tr>\n",
       "</table>\n",
       "<table class=\"simpletable\">\n",
       "<tr>\n",
       "  <th>Omnibus:</th>       <td>12.939</td> <th>  Durbin-Watson:     </th> <td>   0.222</td>\n",
       "</tr>\n",
       "<tr>\n",
       "  <th>Prob(Omnibus):</th> <td> 0.002</td> <th>  Jarque-Bera (JB):  </th> <td>   9.662</td>\n",
       "</tr>\n",
       "<tr>\n",
       "  <th>Skew:</th>          <td>-0.523</td> <th>  Prob(JB):          </th> <td> 0.00798</td>\n",
       "</tr>\n",
       "<tr>\n",
       "  <th>Kurtosis:</th>      <td> 2.275</td> <th>  Cond. No.          </th> <td>    51.5</td>\n",
       "</tr>\n",
       "</table><br/><br/>Notes:<br/>[1] Standard Errors assume that the covariance matrix of the errors is correctly specified."
      ],
      "text/latex": [
       "\\begin{center}\n",
       "\\begin{tabular}{lclc}\n",
       "\\toprule\n",
       "\\textbf{Dep. Variable:}    &     logprice     & \\textbf{  R-squared:         } &     0.900   \\\\\n",
       "\\textbf{Model:}            &       OLS        & \\textbf{  Adj. R-squared:    } &     0.898   \\\\\n",
       "\\textbf{Method:}           &  Least Squares   & \\textbf{  F-statistic:       } &     627.2   \\\\\n",
       "\\textbf{Date:}             & Tue, 16 May 2023 & \\textbf{  Prob (F-statistic):} &  1.32e-70   \\\\\n",
       "\\textbf{Time:}             &     08:08:37     & \\textbf{  Log-Likelihood:    } &    11.022   \\\\\n",
       "\\textbf{No. Observations:} &         143      & \\textbf{  AIC:               } &    -16.04   \\\\\n",
       "\\textbf{Df Residuals:}     &         140      & \\textbf{  BIC:               } &    -7.156   \\\\\n",
       "\\textbf{Df Model:}         &           2      & \\textbf{                     } &             \\\\\n",
       "\\textbf{Covariance Type:}  &    nonrobust     & \\textbf{                     } &             \\\\\n",
       "\\bottomrule\n",
       "\\end{tabular}\n",
       "\\begin{tabular}{lcccccc}\n",
       "                        & \\textbf{coef} & \\textbf{std err} & \\textbf{t} & \\textbf{P$> |$t$|$} & \\textbf{[0.025} & \\textbf{0.975]}  \\\\\n",
       "\\midrule\n",
       "\\textbf{Intercept}      &      11.0854  &        0.206     &    53.860  &         0.000        &       10.679    &       11.492     \\\\\n",
       "\\textbf{logarea}        &       0.7664  &        0.052     &    14.878  &         0.000        &        0.665    &        0.868     \\\\\n",
       "\\textbf{predictedClass} &       0.7630  &        0.031     &    24.750  &         0.000        &        0.702    &        0.824     \\\\\n",
       "\\bottomrule\n",
       "\\end{tabular}\n",
       "\\begin{tabular}{lclc}\n",
       "\\textbf{Omnibus:}       & 12.939 & \\textbf{  Durbin-Watson:     } &    0.222  \\\\\n",
       "\\textbf{Prob(Omnibus):} &  0.002 & \\textbf{  Jarque-Bera (JB):  } &    9.662  \\\\\n",
       "\\textbf{Skew:}          & -0.523 & \\textbf{  Prob(JB):          } &  0.00798  \\\\\n",
       "\\textbf{Kurtosis:}      &  2.275 & \\textbf{  Cond. No.          } &     51.5  \\\\\n",
       "\\bottomrule\n",
       "\\end{tabular}\n",
       "%\\caption{OLS Regression Results}\n",
       "\\end{center}\n",
       "\n",
       "Notes: \\newline\n",
       " [1] Standard Errors assume that the covariance matrix of the errors is correctly specified."
      ],
      "text/plain": [
       "<class 'statsmodels.iolib.summary.Summary'>\n",
       "\"\"\"\n",
       "                            OLS Regression Results                            \n",
       "==============================================================================\n",
       "Dep. Variable:               logprice   R-squared:                       0.900\n",
       "Model:                            OLS   Adj. R-squared:                  0.898\n",
       "Method:                 Least Squares   F-statistic:                     627.2\n",
       "Date:                Tue, 16 May 2023   Prob (F-statistic):           1.32e-70\n",
       "Time:                        08:08:37   Log-Likelihood:                 11.022\n",
       "No. Observations:                 143   AIC:                            -16.04\n",
       "Df Residuals:                     140   BIC:                            -7.156\n",
       "Df Model:                           2                                         \n",
       "Covariance Type:            nonrobust                                         \n",
       "==================================================================================\n",
       "                     coef    std err          t      P>|t|      [0.025      0.975]\n",
       "----------------------------------------------------------------------------------\n",
       "Intercept         11.0854      0.206     53.860      0.000      10.679      11.492\n",
       "logarea            0.7664      0.052     14.878      0.000       0.665       0.868\n",
       "predictedClass     0.7630      0.031     24.750      0.000       0.702       0.824\n",
       "==============================================================================\n",
       "Omnibus:                       12.939   Durbin-Watson:                   0.222\n",
       "Prob(Omnibus):                  0.002   Jarque-Bera (JB):                9.662\n",
       "Skew:                          -0.523   Prob(JB):                      0.00798\n",
       "Kurtosis:                       2.275   Cond. No.                         51.5\n",
       "==============================================================================\n",
       "\n",
       "Notes:\n",
       "[1] Standard Errors assume that the covariance matrix of the errors is correctly specified.\n",
       "\"\"\""
      ]
     },
     "execution_count": 326,
     "metadata": {},
     "output_type": "execute_result"
    }
   ],
   "source": [
    "lm_HPRICE8 = smf.ols(formula='logprice ~ logarea + predictedClass', data=df1).fit()\n",
    "print(lm_HPRICE8.params)\n",
    "lm_HPRICE8.summary()"
   ]
  },
  {
   "cell_type": "markdown",
   "metadata": {},
   "source": [
    "### Зміна підходу при побудові моделі лінійної регресії"
   ]
  },
  {
   "cell_type": "code",
   "execution_count": 327,
   "metadata": {},
   "outputs": [
    {
     "name": "stdout",
     "output_type": "stream",
     "text": [
      "area                   1.354991e+05\n",
      "rooms                 -1.690367e+06\n",
      "crimeRateInDistrict   -2.893547e+03\n",
      "predictedClass         5.170302e+06\n",
      "minutesToCityCenter    3.160997e+03\n",
      "dtype: float64\n"
     ]
    },
    {
     "data": {
      "text/html": [
       "<table class=\"simpletable\">\n",
       "<caption>OLS Regression Results</caption>\n",
       "<tr>\n",
       "  <th>Dep. Variable:</th>          <td>price</td>      <th>  R-squared (uncentered):</th>      <td>   0.901</td>\n",
       "</tr>\n",
       "<tr>\n",
       "  <th>Model:</th>                   <td>OLS</td>       <th>  Adj. R-squared (uncentered):</th> <td>   0.897</td>\n",
       "</tr>\n",
       "<tr>\n",
       "  <th>Method:</th>             <td>Least Squares</td>  <th>  F-statistic:       </th>          <td>   251.3</td>\n",
       "</tr>\n",
       "<tr>\n",
       "  <th>Date:</th>             <td>Tue, 16 May 2023</td> <th>  Prob (F-statistic):</th>          <td>1.85e-67</td>\n",
       "</tr>\n",
       "<tr>\n",
       "  <th>Time:</th>                 <td>08:08:37</td>     <th>  Log-Likelihood:    </th>          <td> -2333.1</td>\n",
       "</tr>\n",
       "<tr>\n",
       "  <th>No. Observations:</th>      <td>   143</td>      <th>  AIC:               </th>          <td>   4676.</td>\n",
       "</tr>\n",
       "<tr>\n",
       "  <th>Df Residuals:</th>          <td>   138</td>      <th>  BIC:               </th>          <td>   4691.</td>\n",
       "</tr>\n",
       "<tr>\n",
       "  <th>Df Model:</th>              <td>     5</td>      <th>                     </th>              <td> </td>   \n",
       "</tr>\n",
       "<tr>\n",
       "  <th>Covariance Type:</th>      <td>nonrobust</td>    <th>                     </th>              <td> </td>   \n",
       "</tr>\n",
       "</table>\n",
       "<table class=\"simpletable\">\n",
       "<tr>\n",
       "           <td></td>              <th>coef</th>     <th>std err</th>      <th>t</th>      <th>P>|t|</th>  <th>[0.025</th>    <th>0.975]</th>  \n",
       "</tr>\n",
       "<tr>\n",
       "  <th>area</th>                <td> 1.355e+05</td> <td> 1.92e+04</td> <td>    7.070</td> <td> 0.000</td> <td> 9.76e+04</td> <td> 1.73e+05</td>\n",
       "</tr>\n",
       "<tr>\n",
       "  <th>rooms</th>               <td> -1.69e+06</td> <td> 5.47e+05</td> <td>   -3.089</td> <td> 0.002</td> <td>-2.77e+06</td> <td>-6.08e+05</td>\n",
       "</tr>\n",
       "<tr>\n",
       "  <th>crimeRateInDistrict</th> <td>-2893.5472</td> <td>  443.536</td> <td>   -6.524</td> <td> 0.000</td> <td>-3770.553</td> <td>-2016.542</td>\n",
       "</tr>\n",
       "<tr>\n",
       "  <th>predictedClass</th>      <td>  5.17e+06</td> <td> 3.92e+05</td> <td>   13.200</td> <td> 0.000</td> <td>  4.4e+06</td> <td> 5.94e+06</td>\n",
       "</tr>\n",
       "<tr>\n",
       "  <th>minutesToCityCenter</th> <td> 3160.9975</td> <td> 6003.228</td> <td>    0.527</td> <td> 0.599</td> <td>-8709.206</td> <td>  1.5e+04</td>\n",
       "</tr>\n",
       "</table>\n",
       "<table class=\"simpletable\">\n",
       "<tr>\n",
       "  <th>Omnibus:</th>       <td>30.316</td> <th>  Durbin-Watson:     </th> <td>   0.276</td>\n",
       "</tr>\n",
       "<tr>\n",
       "  <th>Prob(Omnibus):</th> <td> 0.000</td> <th>  Jarque-Bera (JB):  </th> <td>  49.746</td>\n",
       "</tr>\n",
       "<tr>\n",
       "  <th>Skew:</th>          <td> 1.030</td> <th>  Prob(JB):          </th> <td>1.58e-11</td>\n",
       "</tr>\n",
       "<tr>\n",
       "  <th>Kurtosis:</th>      <td> 5.026</td> <th>  Cond. No.          </th> <td>6.18e+03</td>\n",
       "</tr>\n",
       "</table><br/><br/>Notes:<br/>[1] R² is computed without centering (uncentered) since the model does not contain a constant.<br/>[2] Standard Errors assume that the covariance matrix of the errors is correctly specified.<br/>[3] The condition number is large, 6.18e+03. This might indicate that there are<br/>strong multicollinearity or other numerical problems."
      ],
      "text/latex": [
       "\\begin{center}\n",
       "\\begin{tabular}{lclc}\n",
       "\\toprule\n",
       "\\textbf{Dep. Variable:}      &      price       & \\textbf{  R-squared (uncentered):}      &     0.901   \\\\\n",
       "\\textbf{Model:}              &       OLS        & \\textbf{  Adj. R-squared (uncentered):} &     0.897   \\\\\n",
       "\\textbf{Method:}             &  Least Squares   & \\textbf{  F-statistic:       }          &     251.3   \\\\\n",
       "\\textbf{Date:}               & Tue, 16 May 2023 & \\textbf{  Prob (F-statistic):}          &  1.85e-67   \\\\\n",
       "\\textbf{Time:}               &     08:08:37     & \\textbf{  Log-Likelihood:    }          &   -2333.1   \\\\\n",
       "\\textbf{No. Observations:}   &         143      & \\textbf{  AIC:               }          &     4676.   \\\\\n",
       "\\textbf{Df Residuals:}       &         138      & \\textbf{  BIC:               }          &     4691.   \\\\\n",
       "\\textbf{Df Model:}           &           5      & \\textbf{                     }          &             \\\\\n",
       "\\textbf{Covariance Type:}    &    nonrobust     & \\textbf{                     }          &             \\\\\n",
       "\\bottomrule\n",
       "\\end{tabular}\n",
       "\\begin{tabular}{lcccccc}\n",
       "                             & \\textbf{coef} & \\textbf{std err} & \\textbf{t} & \\textbf{P$> |$t$|$} & \\textbf{[0.025} & \\textbf{0.975]}  \\\\\n",
       "\\midrule\n",
       "\\textbf{area}                &    1.355e+05  &     1.92e+04     &     7.070  &         0.000        &     9.76e+04    &     1.73e+05     \\\\\n",
       "\\textbf{rooms}               &    -1.69e+06  &     5.47e+05     &    -3.089  &         0.002        &    -2.77e+06    &    -6.08e+05     \\\\\n",
       "\\textbf{crimeRateInDistrict} &   -2893.5472  &      443.536     &    -6.524  &         0.000        &    -3770.553    &    -2016.542     \\\\\n",
       "\\textbf{predictedClass}      &     5.17e+06  &     3.92e+05     &    13.200  &         0.000        &      4.4e+06    &     5.94e+06     \\\\\n",
       "\\textbf{minutesToCityCenter} &    3160.9975  &     6003.228     &     0.527  &         0.599        &    -8709.206    &      1.5e+04     \\\\\n",
       "\\bottomrule\n",
       "\\end{tabular}\n",
       "\\begin{tabular}{lclc}\n",
       "\\textbf{Omnibus:}       & 30.316 & \\textbf{  Durbin-Watson:     } &    0.276  \\\\\n",
       "\\textbf{Prob(Omnibus):} &  0.000 & \\textbf{  Jarque-Bera (JB):  } &   49.746  \\\\\n",
       "\\textbf{Skew:}          &  1.030 & \\textbf{  Prob(JB):          } & 1.58e-11  \\\\\n",
       "\\textbf{Kurtosis:}      &  5.026 & \\textbf{  Cond. No.          } & 6.18e+03  \\\\\n",
       "\\bottomrule\n",
       "\\end{tabular}\n",
       "%\\caption{OLS Regression Results}\n",
       "\\end{center}\n",
       "\n",
       "Notes: \\newline\n",
       " [1] R² is computed without centering (uncentered) since the model does not contain a constant. \\newline\n",
       " [2] Standard Errors assume that the covariance matrix of the errors is correctly specified. \\newline\n",
       " [3] The condition number is large, 6.18e+03. This might indicate that there are \\newline\n",
       " strong multicollinearity or other numerical problems."
      ],
      "text/plain": [
       "<class 'statsmodels.iolib.summary.Summary'>\n",
       "\"\"\"\n",
       "                                 OLS Regression Results                                \n",
       "=======================================================================================\n",
       "Dep. Variable:                  price   R-squared (uncentered):                   0.901\n",
       "Model:                            OLS   Adj. R-squared (uncentered):              0.897\n",
       "Method:                 Least Squares   F-statistic:                              251.3\n",
       "Date:                Tue, 16 May 2023   Prob (F-statistic):                    1.85e-67\n",
       "Time:                        08:08:37   Log-Likelihood:                         -2333.1\n",
       "No. Observations:                 143   AIC:                                      4676.\n",
       "Df Residuals:                     138   BIC:                                      4691.\n",
       "Df Model:                           5                                                  \n",
       "Covariance Type:            nonrobust                                                  \n",
       "=======================================================================================\n",
       "                          coef    std err          t      P>|t|      [0.025      0.975]\n",
       "---------------------------------------------------------------------------------------\n",
       "area                 1.355e+05   1.92e+04      7.070      0.000    9.76e+04    1.73e+05\n",
       "rooms                -1.69e+06   5.47e+05     -3.089      0.002   -2.77e+06   -6.08e+05\n",
       "crimeRateInDistrict -2893.5472    443.536     -6.524      0.000   -3770.553   -2016.542\n",
       "predictedClass        5.17e+06   3.92e+05     13.200      0.000     4.4e+06    5.94e+06\n",
       "minutesToCityCenter  3160.9975   6003.228      0.527      0.599   -8709.206     1.5e+04\n",
       "==============================================================================\n",
       "Omnibus:                       30.316   Durbin-Watson:                   0.276\n",
       "Prob(Omnibus):                  0.000   Jarque-Bera (JB):               49.746\n",
       "Skew:                           1.030   Prob(JB):                     1.58e-11\n",
       "Kurtosis:                       5.026   Cond. No.                     6.18e+03\n",
       "==============================================================================\n",
       "\n",
       "Notes:\n",
       "[1] R² is computed without centering (uncentered) since the model does not contain a constant.\n",
       "[2] Standard Errors assume that the covariance matrix of the errors is correctly specified.\n",
       "[3] The condition number is large, 6.18e+03. This might indicate that there are\n",
       "strong multicollinearity or other numerical problems.\n",
       "\"\"\""
      ]
     },
     "execution_count": 327,
     "metadata": {},
     "output_type": "execute_result"
    }
   ],
   "source": [
    "X = df1[['area', 'rooms', 'crimeRateInDistrict', 'predictedClass', 'minutesToCityCenter']]\n",
    "Y = df1[['price']]\n",
    "\n",
    "lm_HPRICE9 = sm.OLS(Y, X).fit()\n",
    "print(lm_HPRICE9.params)\n",
    "lm_HPRICE9.summary()"
   ]
  },
  {
   "cell_type": "markdown",
   "metadata": {},
   "source": [
    "### Найменша кількість незалежних змінних"
   ]
  },
  {
   "cell_type": "code",
   "execution_count": 328,
   "metadata": {},
   "outputs": [
    {
     "name": "stdout",
     "output_type": "stream",
     "text": [
      "Intercept              9.479329\n",
      "logarea                1.062591\n",
      "rooms                 -0.044190\n",
      "crimeRateInDistrict   -0.000166\n",
      "predictedClass         1.036363\n",
      "minutesToCityCenter    0.004962\n",
      "dtype: float64\n"
     ]
    },
    {
     "data": {
      "text/html": [
       "<table class=\"simpletable\">\n",
       "<caption>OLS Regression Results</caption>\n",
       "<tr>\n",
       "  <th>Dep. Variable:</th>        <td>logprice</td>     <th>  R-squared:         </th> <td>   0.941</td>\n",
       "</tr>\n",
       "<tr>\n",
       "  <th>Model:</th>                   <td>OLS</td>       <th>  Adj. R-squared:    </th> <td>   0.939</td>\n",
       "</tr>\n",
       "<tr>\n",
       "  <th>Method:</th>             <td>Least Squares</td>  <th>  F-statistic:       </th> <td>   436.1</td>\n",
       "</tr>\n",
       "<tr>\n",
       "  <th>Date:</th>             <td>Tue, 16 May 2023</td> <th>  Prob (F-statistic):</th> <td>2.90e-82</td>\n",
       "</tr>\n",
       "<tr>\n",
       "  <th>Time:</th>                 <td>08:08:37</td>     <th>  Log-Likelihood:    </th> <td>  48.896</td>\n",
       "</tr>\n",
       "<tr>\n",
       "  <th>No. Observations:</th>      <td>   143</td>      <th>  AIC:               </th> <td>  -85.79</td>\n",
       "</tr>\n",
       "<tr>\n",
       "  <th>Df Residuals:</th>          <td>   137</td>      <th>  BIC:               </th> <td>  -68.02</td>\n",
       "</tr>\n",
       "<tr>\n",
       "  <th>Df Model:</th>              <td>     5</td>      <th>                     </th>     <td> </td>   \n",
       "</tr>\n",
       "<tr>\n",
       "  <th>Covariance Type:</th>      <td>nonrobust</td>    <th>                     </th>     <td> </td>   \n",
       "</tr>\n",
       "</table>\n",
       "<table class=\"simpletable\">\n",
       "<tr>\n",
       "           <td></td>              <th>coef</th>     <th>std err</th>      <th>t</th>      <th>P>|t|</th>  <th>[0.025</th>    <th>0.975]</th>  \n",
       "</tr>\n",
       "<tr>\n",
       "  <th>Intercept</th>           <td>    9.4793</td> <td>    0.314</td> <td>   30.229</td> <td> 0.000</td> <td>    8.859</td> <td>   10.099</td>\n",
       "</tr>\n",
       "<tr>\n",
       "  <th>logarea</th>             <td>    1.0626</td> <td>    0.081</td> <td>   13.044</td> <td> 0.000</td> <td>    0.902</td> <td>    1.224</td>\n",
       "</tr>\n",
       "<tr>\n",
       "  <th>rooms</th>               <td>   -0.0442</td> <td>    0.033</td> <td>   -1.351</td> <td> 0.179</td> <td>   -0.109</td> <td>    0.020</td>\n",
       "</tr>\n",
       "<tr>\n",
       "  <th>crimeRateInDistrict</th> <td>   -0.0002</td> <td> 3.32e-05</td> <td>   -5.013</td> <td> 0.000</td> <td>   -0.000</td> <td>   -0.000</td>\n",
       "</tr>\n",
       "<tr>\n",
       "  <th>predictedClass</th>      <td>    1.0364</td> <td>    0.065</td> <td>   15.956</td> <td> 0.000</td> <td>    0.908</td> <td>    1.165</td>\n",
       "</tr>\n",
       "<tr>\n",
       "  <th>minutesToCityCenter</th> <td>    0.0050</td> <td>    0.001</td> <td>    7.134</td> <td> 0.000</td> <td>    0.004</td> <td>    0.006</td>\n",
       "</tr>\n",
       "</table>\n",
       "<table class=\"simpletable\">\n",
       "<tr>\n",
       "  <th>Omnibus:</th>       <td> 1.821</td> <th>  Durbin-Watson:     </th> <td>   0.178</td>\n",
       "</tr>\n",
       "<tr>\n",
       "  <th>Prob(Omnibus):</th> <td> 0.402</td> <th>  Jarque-Bera (JB):  </th> <td>   1.381</td>\n",
       "</tr>\n",
       "<tr>\n",
       "  <th>Skew:</th>          <td>-0.137</td> <th>  Prob(JB):          </th> <td>   0.501</td>\n",
       "</tr>\n",
       "<tr>\n",
       "  <th>Kurtosis:</th>      <td> 3.396</td> <th>  Cond. No.          </th> <td>6.18e+04</td>\n",
       "</tr>\n",
       "</table><br/><br/>Notes:<br/>[1] Standard Errors assume that the covariance matrix of the errors is correctly specified.<br/>[2] The condition number is large, 6.18e+04. This might indicate that there are<br/>strong multicollinearity or other numerical problems."
      ],
      "text/latex": [
       "\\begin{center}\n",
       "\\begin{tabular}{lclc}\n",
       "\\toprule\n",
       "\\textbf{Dep. Variable:}      &     logprice     & \\textbf{  R-squared:         } &     0.941   \\\\\n",
       "\\textbf{Model:}              &       OLS        & \\textbf{  Adj. R-squared:    } &     0.939   \\\\\n",
       "\\textbf{Method:}             &  Least Squares   & \\textbf{  F-statistic:       } &     436.1   \\\\\n",
       "\\textbf{Date:}               & Tue, 16 May 2023 & \\textbf{  Prob (F-statistic):} &  2.90e-82   \\\\\n",
       "\\textbf{Time:}               &     08:08:37     & \\textbf{  Log-Likelihood:    } &    48.896   \\\\\n",
       "\\textbf{No. Observations:}   &         143      & \\textbf{  AIC:               } &    -85.79   \\\\\n",
       "\\textbf{Df Residuals:}       &         137      & \\textbf{  BIC:               } &    -68.02   \\\\\n",
       "\\textbf{Df Model:}           &           5      & \\textbf{                     } &             \\\\\n",
       "\\textbf{Covariance Type:}    &    nonrobust     & \\textbf{                     } &             \\\\\n",
       "\\bottomrule\n",
       "\\end{tabular}\n",
       "\\begin{tabular}{lcccccc}\n",
       "                             & \\textbf{coef} & \\textbf{std err} & \\textbf{t} & \\textbf{P$> |$t$|$} & \\textbf{[0.025} & \\textbf{0.975]}  \\\\\n",
       "\\midrule\n",
       "\\textbf{Intercept}           &       9.4793  &        0.314     &    30.229  &         0.000        &        8.859    &       10.099     \\\\\n",
       "\\textbf{logarea}             &       1.0626  &        0.081     &    13.044  &         0.000        &        0.902    &        1.224     \\\\\n",
       "\\textbf{rooms}               &      -0.0442  &        0.033     &    -1.351  &         0.179        &       -0.109    &        0.020     \\\\\n",
       "\\textbf{crimeRateInDistrict} &      -0.0002  &     3.32e-05     &    -5.013  &         0.000        &       -0.000    &       -0.000     \\\\\n",
       "\\textbf{predictedClass}      &       1.0364  &        0.065     &    15.956  &         0.000        &        0.908    &        1.165     \\\\\n",
       "\\textbf{minutesToCityCenter} &       0.0050  &        0.001     &     7.134  &         0.000        &        0.004    &        0.006     \\\\\n",
       "\\bottomrule\n",
       "\\end{tabular}\n",
       "\\begin{tabular}{lclc}\n",
       "\\textbf{Omnibus:}       &  1.821 & \\textbf{  Durbin-Watson:     } &    0.178  \\\\\n",
       "\\textbf{Prob(Omnibus):} &  0.402 & \\textbf{  Jarque-Bera (JB):  } &    1.381  \\\\\n",
       "\\textbf{Skew:}          & -0.137 & \\textbf{  Prob(JB):          } &    0.501  \\\\\n",
       "\\textbf{Kurtosis:}      &  3.396 & \\textbf{  Cond. No.          } & 6.18e+04  \\\\\n",
       "\\bottomrule\n",
       "\\end{tabular}\n",
       "%\\caption{OLS Regression Results}\n",
       "\\end{center}\n",
       "\n",
       "Notes: \\newline\n",
       " [1] Standard Errors assume that the covariance matrix of the errors is correctly specified. \\newline\n",
       " [2] The condition number is large, 6.18e+04. This might indicate that there are \\newline\n",
       " strong multicollinearity or other numerical problems."
      ],
      "text/plain": [
       "<class 'statsmodels.iolib.summary.Summary'>\n",
       "\"\"\"\n",
       "                            OLS Regression Results                            \n",
       "==============================================================================\n",
       "Dep. Variable:               logprice   R-squared:                       0.941\n",
       "Model:                            OLS   Adj. R-squared:                  0.939\n",
       "Method:                 Least Squares   F-statistic:                     436.1\n",
       "Date:                Tue, 16 May 2023   Prob (F-statistic):           2.90e-82\n",
       "Time:                        08:08:37   Log-Likelihood:                 48.896\n",
       "No. Observations:                 143   AIC:                            -85.79\n",
       "Df Residuals:                     137   BIC:                            -68.02\n",
       "Df Model:                           5                                         \n",
       "Covariance Type:            nonrobust                                         \n",
       "=======================================================================================\n",
       "                          coef    std err          t      P>|t|      [0.025      0.975]\n",
       "---------------------------------------------------------------------------------------\n",
       "Intercept               9.4793      0.314     30.229      0.000       8.859      10.099\n",
       "logarea                 1.0626      0.081     13.044      0.000       0.902       1.224\n",
       "rooms                  -0.0442      0.033     -1.351      0.179      -0.109       0.020\n",
       "crimeRateInDistrict    -0.0002   3.32e-05     -5.013      0.000      -0.000      -0.000\n",
       "predictedClass          1.0364      0.065     15.956      0.000       0.908       1.165\n",
       "minutesToCityCenter     0.0050      0.001      7.134      0.000       0.004       0.006\n",
       "==============================================================================\n",
       "Omnibus:                        1.821   Durbin-Watson:                   0.178\n",
       "Prob(Omnibus):                  0.402   Jarque-Bera (JB):                1.381\n",
       "Skew:                          -0.137   Prob(JB):                        0.501\n",
       "Kurtosis:                       3.396   Cond. No.                     6.18e+04\n",
       "==============================================================================\n",
       "\n",
       "Notes:\n",
       "[1] Standard Errors assume that the covariance matrix of the errors is correctly specified.\n",
       "[2] The condition number is large, 6.18e+04. This might indicate that there are\n",
       "strong multicollinearity or other numerical problems.\n",
       "\"\"\""
      ]
     },
     "execution_count": 328,
     "metadata": {},
     "output_type": "execute_result"
    }
   ],
   "source": [
    "lm_HPRICE10 = smf.ols(formula='logprice ~ logarea + rooms + crimeRateInDistrict + predictedClass + minutesToCityCenter', data=df1).fit()\n",
    "print(lm_HPRICE10.params)\n",
    "lm_HPRICE10.summary()"
   ]
  },
  {
   "cell_type": "markdown",
   "metadata": {
    "id": "N00rUcnqLXZh"
   },
   "source": [
    "## Прогнозування вартості нерухомості"
   ]
  },
  {
   "cell_type": "code",
   "execution_count": 329,
   "metadata": {},
   "outputs": [],
   "source": [
    "real_estate = df1.sample()[['logarea', 'rooms', 'ceilingHeight', 'numApartmentsTotal', 'floor', 'crimeRateInDistrict', 'predictedClass']]"
   ]
  },
  {
   "cell_type": "code",
   "execution_count": 330,
   "metadata": {
    "scrolled": true
   },
   "outputs": [
    {
     "data": {
      "text/html": [
       "<div>\n",
       "<style scoped>\n",
       "    .dataframe tbody tr th:only-of-type {\n",
       "        vertical-align: middle;\n",
       "    }\n",
       "\n",
       "    .dataframe tbody tr th {\n",
       "        vertical-align: top;\n",
       "    }\n",
       "\n",
       "    .dataframe thead th {\n",
       "        text-align: right;\n",
       "    }\n",
       "</style>\n",
       "<table border=\"1\" class=\"dataframe\">\n",
       "  <thead>\n",
       "    <tr style=\"text-align: right;\">\n",
       "      <th></th>\n",
       "      <th>logarea</th>\n",
       "      <th>rooms</th>\n",
       "      <th>ceilingHeight</th>\n",
       "      <th>numApartmentsTotal</th>\n",
       "      <th>floor</th>\n",
       "      <th>crimeRateInDistrict</th>\n",
       "      <th>predictedClass</th>\n",
       "    </tr>\n",
       "  </thead>\n",
       "  <tbody>\n",
       "    <tr>\n",
       "      <th>83</th>\n",
       "      <td>3.871201</td>\n",
       "      <td>1</td>\n",
       "      <td>3</td>\n",
       "      <td>800</td>\n",
       "      <td>7.0</td>\n",
       "      <td>2537</td>\n",
       "      <td>2</td>\n",
       "    </tr>\n",
       "  </tbody>\n",
       "</table>\n",
       "</div>"
      ],
      "text/plain": [
       "     logarea  rooms  ceilingHeight  numApartmentsTotal  floor  \\\n",
       "83  3.871201      1              3                 800    7.0   \n",
       "\n",
       "    crimeRateInDistrict  predictedClass  \n",
       "83                 2537               2  "
      ]
     },
     "execution_count": 330,
     "metadata": {},
     "output_type": "execute_result"
    }
   ],
   "source": [
    "real_estate"
   ]
  },
  {
   "cell_type": "code",
   "execution_count": 331,
   "metadata": {},
   "outputs": [],
   "source": [
    "real_estate_info = df1.loc[df1.index == real_estate.index.values[0]][['residence', 'address', 'predictedClass']].values[0]"
   ]
  },
  {
   "cell_type": "code",
   "execution_count": 332,
   "metadata": {},
   "outputs": [
    {
     "data": {
      "text/plain": [
       "array(['ЖК Greenville на Печерську', 'пров. Новопечерський, 5', 2],\n",
       "      dtype=object)"
      ]
     },
     "execution_count": 332,
     "metadata": {},
     "output_type": "execute_result"
    }
   ],
   "source": [
    "real_estate_info"
   ]
  },
  {
   "cell_type": "code",
   "execution_count": 333,
   "metadata": {
    "scrolled": true
   },
   "outputs": [],
   "source": [
    "logprice_predicted = lm_HPRICE7.predict(real_estate).values[0]"
   ]
  },
  {
   "cell_type": "code",
   "execution_count": 334,
   "metadata": {},
   "outputs": [],
   "source": [
    "import math"
   ]
  },
  {
   "cell_type": "markdown",
   "metadata": {},
   "source": [
    "Зворотня операція до log - exp"
   ]
  },
  {
   "cell_type": "code",
   "execution_count": 335,
   "metadata": {
    "scrolled": false
   },
   "outputs": [],
   "source": [
    "predicted_price = math.exp(logprice_predicted)\n",
    "price_formatted = \"{:,}\".format(round(predicted_price))"
   ]
  },
  {
   "cell_type": "code",
   "execution_count": 336,
   "metadata": {
    "scrolled": false
   },
   "outputs": [
    {
     "data": {
      "text/plain": [
       "'Ціна квартири в ЖК Greenville на Печерську за адресою пров. Новопечерський, 5 із класом житла 2 оцінена в 4,957,032 гривень'"
      ]
     },
     "execution_count": 336,
     "metadata": {},
     "output_type": "execute_result"
    }
   ],
   "source": [
    "f\"Ціна квартири в {real_estate_info[0]} за адресою {real_estate_info[1]} із класом житла {real_estate_info[2]} оцінена в {price_formatted} гривень\""
   ]
  },
  {
   "cell_type": "markdown",
   "metadata": {
    "id": "N00rUcnqLXZh"
   },
   "source": [
    "## Прогнозування вартості нерухомості з урахуванням дальності до центру"
   ]
  },
  {
   "cell_type": "code",
   "execution_count": 337,
   "metadata": {},
   "outputs": [],
   "source": [
    "real_estate = df1.sample()[['logarea', 'rooms', 'crimeRateInDistrict', 'predictedClass', 'minutesToCityCenter']]"
   ]
  },
  {
   "cell_type": "code",
   "execution_count": 338,
   "metadata": {
    "scrolled": true
   },
   "outputs": [
    {
     "data": {
      "text/html": [
       "<div>\n",
       "<style scoped>\n",
       "    .dataframe tbody tr th:only-of-type {\n",
       "        vertical-align: middle;\n",
       "    }\n",
       "\n",
       "    .dataframe tbody tr th {\n",
       "        vertical-align: top;\n",
       "    }\n",
       "\n",
       "    .dataframe thead th {\n",
       "        text-align: right;\n",
       "    }\n",
       "</style>\n",
       "<table border=\"1\" class=\"dataframe\">\n",
       "  <thead>\n",
       "    <tr style=\"text-align: right;\">\n",
       "      <th></th>\n",
       "      <th>logarea</th>\n",
       "      <th>rooms</th>\n",
       "      <th>crimeRateInDistrict</th>\n",
       "      <th>predictedClass</th>\n",
       "      <th>minutesToCityCenter</th>\n",
       "    </tr>\n",
       "  </thead>\n",
       "  <tbody>\n",
       "    <tr>\n",
       "      <th>159</th>\n",
       "      <td>3.7612</td>\n",
       "      <td>1</td>\n",
       "      <td>2317</td>\n",
       "      <td>1</td>\n",
       "      <td>109</td>\n",
       "    </tr>\n",
       "  </tbody>\n",
       "</table>\n",
       "</div>"
      ],
      "text/plain": [
       "     logarea  rooms  crimeRateInDistrict  predictedClass  minutesToCityCenter\n",
       "159   3.7612      1                 2317               1                  109"
      ]
     },
     "execution_count": 338,
     "metadata": {},
     "output_type": "execute_result"
    }
   ],
   "source": [
    "real_estate"
   ]
  },
  {
   "cell_type": "markdown",
   "metadata": {},
   "source": [
    "#### Зміна minutesToCityCenter"
   ]
  },
  {
   "cell_type": "code",
   "execution_count": 357,
   "metadata": {},
   "outputs": [],
   "source": [
    "real_estate['minutesToCityCenter'] = 10"
   ]
  },
  {
   "cell_type": "code",
   "execution_count": 358,
   "metadata": {},
   "outputs": [
    {
     "data": {
      "text/plain": [
       "159"
      ]
     },
     "execution_count": 358,
     "metadata": {},
     "output_type": "execute_result"
    }
   ],
   "source": [
    "real_estate.index.values[0]"
   ]
  },
  {
   "cell_type": "code",
   "execution_count": 359,
   "metadata": {},
   "outputs": [],
   "source": [
    "real_estate_info = df1.loc[df1.index == real_estate.index.values[0]][['residence', 'address', 'predictedClass', 'price']].values[0]"
   ]
  },
  {
   "cell_type": "code",
   "execution_count": 360,
   "metadata": {
    "scrolled": true
   },
   "outputs": [
    {
     "data": {
      "text/plain": [
       "array(['ЖК 4 сезони', 'вул. Михайла Максимовича (Трутенка), 3г', 1,\n",
       "       1558750.0], dtype=object)"
      ]
     },
     "execution_count": 360,
     "metadata": {},
     "output_type": "execute_result"
    }
   ],
   "source": [
    "real_estate_info"
   ]
  },
  {
   "cell_type": "code",
   "execution_count": 361,
   "metadata": {
    "scrolled": true
   },
   "outputs": [],
   "source": [
    "logprice_predicted = lm_HPRICE10.predict(real_estate).values[0]"
   ]
  },
  {
   "cell_type": "code",
   "execution_count": 362,
   "metadata": {},
   "outputs": [],
   "source": [
    "import math"
   ]
  },
  {
   "cell_type": "markdown",
   "metadata": {},
   "source": [
    "Зворотня операція до log - exp"
   ]
  },
  {
   "cell_type": "code",
   "execution_count": 363,
   "metadata": {
    "scrolled": false
   },
   "outputs": [],
   "source": [
    "predicted_price = math.exp(logprice_predicted)\n",
    "price_formatted = \"{:,}\".format(round(predicted_price))"
   ]
  },
  {
   "cell_type": "code",
   "execution_count": 364,
   "metadata": {
    "scrolled": true
   },
   "outputs": [
    {
     "data": {
      "text/plain": [
       "'Ціна квартири в ЖК 4 сезони за адресою вул. Михайла Максимовича (Трутенка), 3г із класом житла 1 оцінена в 1,372,828 гривень'"
      ]
     },
     "execution_count": 364,
     "metadata": {},
     "output_type": "execute_result"
    }
   ],
   "source": [
    "f\"Ціна квартири в {real_estate_info[0]} за адресою {real_estate_info[1]} із класом житла {real_estate_info[2]} оцінена в {price_formatted} гривень\""
   ]
  },
  {
   "cell_type": "markdown",
   "metadata": {},
   "source": [
    "## Експорт моделі для подальшого використання на сервері"
   ]
  },
  {
   "cell_type": "code",
   "execution_count": 347,
   "metadata": {},
   "outputs": [],
   "source": [
    "# lm_HPRICE7.save(\"lm_HPRICE7.pickle\")"
   ]
  },
  {
   "cell_type": "code",
   "execution_count": 348,
   "metadata": {},
   "outputs": [],
   "source": [
    "# lm_HPRICE10.save(\"lm_HPRICE10.pickle\")"
   ]
  },
  {
   "cell_type": "markdown",
   "metadata": {},
   "source": [
    "Довільний приклад для тестування моделі"
   ]
  }
 ],
 "metadata": {
  "colab": {
   "provenance": []
  },
  "kernelspec": {
   "display_name": "Python 3 (ipykernel)",
   "language": "python",
   "name": "python3"
  },
  "language_info": {
   "codemirror_mode": {
    "name": "ipython",
    "version": 3
   },
   "file_extension": ".py",
   "mimetype": "text/x-python",
   "name": "python",
   "nbconvert_exporter": "python",
   "pygments_lexer": "ipython3",
   "version": "3.9.16"
  }
 },
 "nbformat": 4,
 "nbformat_minor": 1
}
