{
 "cells": [
  {
   "cell_type": "markdown",
   "metadata": {},
   "source": [
    "## Залежності проекту"
   ]
  },
  {
   "cell_type": "code",
   "execution_count": 275,
   "metadata": {
    "id": "_UoQpifexDG7"
   },
   "outputs": [],
   "source": [
    "import numpy as np\n",
    "import pandas as pd"
   ]
  },
  {
   "cell_type": "code",
   "execution_count": 276,
   "metadata": {
    "id": "5cUOPJ257ny3"
   },
   "outputs": [],
   "source": [
    "import scipy.stats\n",
    "import statsmodels.api as sm\n",
    "import statsmodels.formula.api as smf"
   ]
  },
  {
   "cell_type": "code",
   "execution_count": 277,
   "metadata": {
    "id": "dg9mbnqpZpc9"
   },
   "outputs": [],
   "source": [
    "import matplotlib.pyplot as plt\n",
    "import seaborn as sns"
   ]
  },
  {
   "cell_type": "markdown",
   "metadata": {},
   "source": [
    "## Ознайомлення із набором даних"
   ]
  },
  {
   "cell_type": "code",
   "execution_count": 278,
   "metadata": {},
   "outputs": [
    {
     "data": {
      "text/plain": [
       "(783, 12)"
      ]
     },
     "execution_count": 278,
     "metadata": {},
     "output_type": "execute_result"
    }
   ],
   "source": [
    "df.shape"
   ]
  },
  {
   "cell_type": "code",
   "execution_count": 279,
   "metadata": {
    "colab": {
     "base_uri": "https://localhost:8080/",
     "height": 528
    },
    "id": "uYIOY2DJxJVD",
    "outputId": "55ea00a8-28c1-44c0-da99-3ed7139f24fe"
   },
   "outputs": [
    {
     "data": {
      "text/html": [
       "<div>\n",
       "<style scoped>\n",
       "    .dataframe tbody tr th:only-of-type {\n",
       "        vertical-align: middle;\n",
       "    }\n",
       "\n",
       "    .dataframe tbody tr th {\n",
       "        vertical-align: top;\n",
       "    }\n",
       "\n",
       "    .dataframe thead th {\n",
       "        text-align: right;\n",
       "    }\n",
       "</style>\n",
       "<table border=\"1\" class=\"dataframe\">\n",
       "  <thead>\n",
       "    <tr style=\"text-align: right;\">\n",
       "      <th></th>\n",
       "      <th>residence</th>\n",
       "      <th>developer</th>\n",
       "      <th>address</th>\n",
       "      <th>class</th>\n",
       "      <th>year</th>\n",
       "      <th>price</th>\n",
       "      <th>area</th>\n",
       "      <th>rooms</th>\n",
       "      <th>minutesToCityCenter</th>\n",
       "      <th>crimeRateInDistrict</th>\n",
       "      <th>district</th>\n",
       "    </tr>\n",
       "  </thead>\n",
       "  <tbody>\n",
       "    <tr>\n",
       "      <th>0</th>\n",
       "      <td>А136 Highlight Tower</td>\n",
       "      <td>DIM</td>\n",
       "      <td>вул. Антоновича, 136-138</td>\n",
       "      <td>бізнес</td>\n",
       "      <td>2023.0</td>\n",
       "      <td>6907950.0</td>\n",
       "      <td>54</td>\n",
       "      <td>1</td>\n",
       "      <td>48</td>\n",
       "      <td>NaN</td>\n",
       "      <td>NaN</td>\n",
       "    </tr>\n",
       "    <tr>\n",
       "      <th>1</th>\n",
       "      <td>А136 Highlight Tower</td>\n",
       "      <td>DIM</td>\n",
       "      <td>вул. Антоновича, 136-138</td>\n",
       "      <td>бізнес</td>\n",
       "      <td>2023.0</td>\n",
       "      <td>7419650.0</td>\n",
       "      <td>58</td>\n",
       "      <td>1</td>\n",
       "      <td>48</td>\n",
       "      <td>NaN</td>\n",
       "      <td>NaN</td>\n",
       "    </tr>\n",
       "    <tr>\n",
       "      <th>2</th>\n",
       "      <td>А136 Highlight Tower</td>\n",
       "      <td>DIM</td>\n",
       "      <td>вул. Антоновича, 136-138</td>\n",
       "      <td>бізнес</td>\n",
       "      <td>2023.0</td>\n",
       "      <td>9120000.0</td>\n",
       "      <td>80</td>\n",
       "      <td>2</td>\n",
       "      <td>48</td>\n",
       "      <td>NaN</td>\n",
       "      <td>NaN</td>\n",
       "    </tr>\n",
       "    <tr>\n",
       "      <th>3</th>\n",
       "      <td>А136 Highlight Tower</td>\n",
       "      <td>DIM</td>\n",
       "      <td>вул. Антоновича, 136-138</td>\n",
       "      <td>бізнес</td>\n",
       "      <td>2023.0</td>\n",
       "      <td>9234000.0</td>\n",
       "      <td>81</td>\n",
       "      <td>2</td>\n",
       "      <td>48</td>\n",
       "      <td>NaN</td>\n",
       "      <td>NaN</td>\n",
       "    </tr>\n",
       "    <tr>\n",
       "      <th>4</th>\n",
       "      <td>А136 Highlight Tower</td>\n",
       "      <td>DIM</td>\n",
       "      <td>вул. Антоновича, 136-138</td>\n",
       "      <td>бізнес</td>\n",
       "      <td>2023.0</td>\n",
       "      <td>9690000.0</td>\n",
       "      <td>85</td>\n",
       "      <td>2</td>\n",
       "      <td>48</td>\n",
       "      <td>NaN</td>\n",
       "      <td>NaN</td>\n",
       "    </tr>\n",
       "    <tr>\n",
       "      <th>5</th>\n",
       "      <td>А136 Highlight Tower</td>\n",
       "      <td>DIM</td>\n",
       "      <td>вул. Антоновича, 136-138</td>\n",
       "      <td>бізнес</td>\n",
       "      <td>2023.0</td>\n",
       "      <td>10032000.0</td>\n",
       "      <td>88</td>\n",
       "      <td>2</td>\n",
       "      <td>48</td>\n",
       "      <td>NaN</td>\n",
       "      <td>NaN</td>\n",
       "    </tr>\n",
       "    <tr>\n",
       "      <th>6</th>\n",
       "      <td>А136 Highlight Tower</td>\n",
       "      <td>DIM</td>\n",
       "      <td>вул. Антоновича, 136-138</td>\n",
       "      <td>бізнес</td>\n",
       "      <td>2023.0</td>\n",
       "      <td>12312000.0</td>\n",
       "      <td>108</td>\n",
       "      <td>2</td>\n",
       "      <td>48</td>\n",
       "      <td>NaN</td>\n",
       "      <td>NaN</td>\n",
       "    </tr>\n",
       "    <tr>\n",
       "      <th>7</th>\n",
       "      <td>А136 Highlight Tower</td>\n",
       "      <td>DIM</td>\n",
       "      <td>вул. Антоновича, 136-138</td>\n",
       "      <td>бізнес</td>\n",
       "      <td>2023.0</td>\n",
       "      <td>13338000.0</td>\n",
       "      <td>117</td>\n",
       "      <td>2</td>\n",
       "      <td>48</td>\n",
       "      <td>NaN</td>\n",
       "      <td>NaN</td>\n",
       "    </tr>\n",
       "    <tr>\n",
       "      <th>8</th>\n",
       "      <td>А136 Highlight Tower</td>\n",
       "      <td>DIM</td>\n",
       "      <td>вул. Антоновича, 136-138</td>\n",
       "      <td>бізнес</td>\n",
       "      <td>2023.0</td>\n",
       "      <td>13206375.0</td>\n",
       "      <td>117</td>\n",
       "      <td>3</td>\n",
       "      <td>48</td>\n",
       "      <td>NaN</td>\n",
       "      <td>NaN</td>\n",
       "    </tr>\n",
       "    <tr>\n",
       "      <th>9</th>\n",
       "      <td>А136 Highlight Tower</td>\n",
       "      <td>DIM</td>\n",
       "      <td>вул. Антоновича, 136-138</td>\n",
       "      <td>бізнес</td>\n",
       "      <td>2023.0</td>\n",
       "      <td>14786625.0</td>\n",
       "      <td>131</td>\n",
       "      <td>3</td>\n",
       "      <td>48</td>\n",
       "      <td>NaN</td>\n",
       "      <td>NaN</td>\n",
       "    </tr>\n",
       "    <tr>\n",
       "      <th>10</th>\n",
       "      <td>ЖК Паркове місто</td>\n",
       "      <td>UDP</td>\n",
       "      <td>вул. Вишгородська, 45</td>\n",
       "      <td>бізнес</td>\n",
       "      <td>2024.0</td>\n",
       "      <td>NaN</td>\n",
       "      <td>31</td>\n",
       "      <td>1</td>\n",
       "      <td>123</td>\n",
       "      <td>NaN</td>\n",
       "      <td>NaN</td>\n",
       "    </tr>\n",
       "    <tr>\n",
       "      <th>11</th>\n",
       "      <td>ЖК Паркове місто</td>\n",
       "      <td>UDP</td>\n",
       "      <td>вул. Вишгородська, 45</td>\n",
       "      <td>бізнес</td>\n",
       "      <td>2024.0</td>\n",
       "      <td>NaN</td>\n",
       "      <td>42</td>\n",
       "      <td>1</td>\n",
       "      <td>123</td>\n",
       "      <td>NaN</td>\n",
       "      <td>NaN</td>\n",
       "    </tr>\n",
       "    <tr>\n",
       "      <th>12</th>\n",
       "      <td>ЖК Паркове місто</td>\n",
       "      <td>UDP</td>\n",
       "      <td>вул. Вишгородська, 45</td>\n",
       "      <td>бізнес</td>\n",
       "      <td>2024.0</td>\n",
       "      <td>NaN</td>\n",
       "      <td>43</td>\n",
       "      <td>1</td>\n",
       "      <td>123</td>\n",
       "      <td>NaN</td>\n",
       "      <td>NaN</td>\n",
       "    </tr>\n",
       "    <tr>\n",
       "      <th>13</th>\n",
       "      <td>ЖК Паркове місто</td>\n",
       "      <td>UDP</td>\n",
       "      <td>вул. Вишгородська, 45</td>\n",
       "      <td>бізнес</td>\n",
       "      <td>2024.0</td>\n",
       "      <td>NaN</td>\n",
       "      <td>47</td>\n",
       "      <td>1</td>\n",
       "      <td>123</td>\n",
       "      <td>NaN</td>\n",
       "      <td>NaN</td>\n",
       "    </tr>\n",
       "    <tr>\n",
       "      <th>14</th>\n",
       "      <td>ЖК Паркове місто</td>\n",
       "      <td>UDP</td>\n",
       "      <td>вул. Вишгородська, 45</td>\n",
       "      <td>бізнес</td>\n",
       "      <td>2024.0</td>\n",
       "      <td>NaN</td>\n",
       "      <td>48</td>\n",
       "      <td>1</td>\n",
       "      <td>123</td>\n",
       "      <td>NaN</td>\n",
       "      <td>NaN</td>\n",
       "    </tr>\n",
       "    <tr>\n",
       "      <th>15</th>\n",
       "      <td>ЖК Паркове місто</td>\n",
       "      <td>UDP</td>\n",
       "      <td>вул. Вишгородська, 45</td>\n",
       "      <td>бізнес</td>\n",
       "      <td>2024.0</td>\n",
       "      <td>NaN</td>\n",
       "      <td>50</td>\n",
       "      <td>1</td>\n",
       "      <td>123</td>\n",
       "      <td>NaN</td>\n",
       "      <td>NaN</td>\n",
       "    </tr>\n",
       "    <tr>\n",
       "      <th>16</th>\n",
       "      <td>ЖК Паркове місто</td>\n",
       "      <td>UDP</td>\n",
       "      <td>вул. Вишгородська, 45</td>\n",
       "      <td>бізнес</td>\n",
       "      <td>2024.0</td>\n",
       "      <td>NaN</td>\n",
       "      <td>52</td>\n",
       "      <td>1</td>\n",
       "      <td>123</td>\n",
       "      <td>NaN</td>\n",
       "      <td>NaN</td>\n",
       "    </tr>\n",
       "    <tr>\n",
       "      <th>17</th>\n",
       "      <td>ЖК Паркове місто</td>\n",
       "      <td>UDP</td>\n",
       "      <td>вул. Вишгородська, 45</td>\n",
       "      <td>бізнес</td>\n",
       "      <td>2024.0</td>\n",
       "      <td>NaN</td>\n",
       "      <td>68</td>\n",
       "      <td>2</td>\n",
       "      <td>123</td>\n",
       "      <td>NaN</td>\n",
       "      <td>NaN</td>\n",
       "    </tr>\n",
       "    <tr>\n",
       "      <th>18</th>\n",
       "      <td>ЖК Паркове місто</td>\n",
       "      <td>UDP</td>\n",
       "      <td>вул. Вишгородська, 45</td>\n",
       "      <td>бізнес</td>\n",
       "      <td>2024.0</td>\n",
       "      <td>NaN</td>\n",
       "      <td>72</td>\n",
       "      <td>2</td>\n",
       "      <td>123</td>\n",
       "      <td>NaN</td>\n",
       "      <td>NaN</td>\n",
       "    </tr>\n",
       "    <tr>\n",
       "      <th>19</th>\n",
       "      <td>ЖК Паркове місто</td>\n",
       "      <td>UDP</td>\n",
       "      <td>вул. Вишгородська, 45</td>\n",
       "      <td>бізнес</td>\n",
       "      <td>2024.0</td>\n",
       "      <td>NaN</td>\n",
       "      <td>76</td>\n",
       "      <td>2</td>\n",
       "      <td>123</td>\n",
       "      <td>NaN</td>\n",
       "      <td>NaN</td>\n",
       "    </tr>\n",
       "    <tr>\n",
       "      <th>20</th>\n",
       "      <td>Linden Luxury Residences</td>\n",
       "      <td>Budhouse Group</td>\n",
       "      <td>вул. Лютеранська, 14в</td>\n",
       "      <td>преміум</td>\n",
       "      <td>NaN</td>\n",
       "      <td>1620000.0</td>\n",
       "      <td>8</td>\n",
       "      <td>1</td>\n",
       "      <td>5</td>\n",
       "      <td>NaN</td>\n",
       "      <td>NaN</td>\n",
       "    </tr>\n",
       "    <tr>\n",
       "      <th>21</th>\n",
       "      <td>Linden Luxury Residences</td>\n",
       "      <td>Budhouse Group</td>\n",
       "      <td>вул. Лютеранська, 14в</td>\n",
       "      <td>преміум</td>\n",
       "      <td>NaN</td>\n",
       "      <td>15997500.0</td>\n",
       "      <td>79</td>\n",
       "      <td>1</td>\n",
       "      <td>5</td>\n",
       "      <td>NaN</td>\n",
       "      <td>NaN</td>\n",
       "    </tr>\n",
       "    <tr>\n",
       "      <th>22</th>\n",
       "      <td>Linden Luxury Residences</td>\n",
       "      <td>Budhouse Group</td>\n",
       "      <td>вул. Лютеранська, 14в</td>\n",
       "      <td>преміум</td>\n",
       "      <td>NaN</td>\n",
       "      <td>16402500.0</td>\n",
       "      <td>81</td>\n",
       "      <td>1</td>\n",
       "      <td>5</td>\n",
       "      <td>NaN</td>\n",
       "      <td>NaN</td>\n",
       "    </tr>\n",
       "    <tr>\n",
       "      <th>23</th>\n",
       "      <td>Linden Luxury Residences</td>\n",
       "      <td>Budhouse Group</td>\n",
       "      <td>вул. Лютеранська, 14в</td>\n",
       "      <td>преміум</td>\n",
       "      <td>NaN</td>\n",
       "      <td>16605000.0</td>\n",
       "      <td>82</td>\n",
       "      <td>1</td>\n",
       "      <td>5</td>\n",
       "      <td>NaN</td>\n",
       "      <td>NaN</td>\n",
       "    </tr>\n",
       "    <tr>\n",
       "      <th>24</th>\n",
       "      <td>Linden Luxury Residences</td>\n",
       "      <td>Budhouse Group</td>\n",
       "      <td>вул. Лютеранська, 14в</td>\n",
       "      <td>преміум</td>\n",
       "      <td>NaN</td>\n",
       "      <td>19845000.0</td>\n",
       "      <td>98</td>\n",
       "      <td>1</td>\n",
       "      <td>5</td>\n",
       "      <td>NaN</td>\n",
       "      <td>NaN</td>\n",
       "    </tr>\n",
       "    <tr>\n",
       "      <th>25</th>\n",
       "      <td>Linden Luxury Residences</td>\n",
       "      <td>Budhouse Group</td>\n",
       "      <td>вул. Лютеранська, 14в</td>\n",
       "      <td>преміум</td>\n",
       "      <td>NaN</td>\n",
       "      <td>21084000.0</td>\n",
       "      <td>84</td>\n",
       "      <td>2</td>\n",
       "      <td>5</td>\n",
       "      <td>NaN</td>\n",
       "      <td>NaN</td>\n",
       "    </tr>\n",
       "    <tr>\n",
       "      <th>26</th>\n",
       "      <td>Linden Luxury Residences</td>\n",
       "      <td>Budhouse Group</td>\n",
       "      <td>вул. Лютеранська, 14в</td>\n",
       "      <td>преміум</td>\n",
       "      <td>NaN</td>\n",
       "      <td>21837000.0</td>\n",
       "      <td>87</td>\n",
       "      <td>2</td>\n",
       "      <td>5</td>\n",
       "      <td>NaN</td>\n",
       "      <td>NaN</td>\n",
       "    </tr>\n",
       "    <tr>\n",
       "      <th>27</th>\n",
       "      <td>Linden Luxury Residences</td>\n",
       "      <td>Budhouse Group</td>\n",
       "      <td>вул. Лютеранська, 14в</td>\n",
       "      <td>преміум</td>\n",
       "      <td>NaN</td>\n",
       "      <td>22339000.0</td>\n",
       "      <td>89</td>\n",
       "      <td>2</td>\n",
       "      <td>5</td>\n",
       "      <td>NaN</td>\n",
       "      <td>NaN</td>\n",
       "    </tr>\n",
       "    <tr>\n",
       "      <th>28</th>\n",
       "      <td>Linden Luxury Residences</td>\n",
       "      <td>Budhouse Group</td>\n",
       "      <td>вул. Лютеранська, 14в</td>\n",
       "      <td>преміум</td>\n",
       "      <td>NaN</td>\n",
       "      <td>24096000.0</td>\n",
       "      <td>96</td>\n",
       "      <td>2</td>\n",
       "      <td>5</td>\n",
       "      <td>NaN</td>\n",
       "      <td>NaN</td>\n",
       "    </tr>\n",
       "    <tr>\n",
       "      <th>29</th>\n",
       "      <td>Linden Luxury Residences</td>\n",
       "      <td>Budhouse Group</td>\n",
       "      <td>вул. Лютеранська, 14в</td>\n",
       "      <td>преміум</td>\n",
       "      <td>NaN</td>\n",
       "      <td>26104000.0</td>\n",
       "      <td>104</td>\n",
       "      <td>2</td>\n",
       "      <td>5</td>\n",
       "      <td>NaN</td>\n",
       "      <td>NaN</td>\n",
       "    </tr>\n",
       "    <tr>\n",
       "      <th>30</th>\n",
       "      <td>Клубний будинок OLEGIVSKIY</td>\n",
       "      <td>DIM</td>\n",
       "      <td>вул. Олегівська, 36</td>\n",
       "      <td>бізнес</td>\n",
       "      <td>2024.0</td>\n",
       "      <td>3654675.0</td>\n",
       "      <td>37</td>\n",
       "      <td>1</td>\n",
       "      <td>42</td>\n",
       "      <td>NaN</td>\n",
       "      <td>NaN</td>\n",
       "    </tr>\n",
       "    <tr>\n",
       "      <th>31</th>\n",
       "      <td>Клубний будинок OLEGIVSKIY</td>\n",
       "      <td>DIM</td>\n",
       "      <td>вул. Олегівська, 36</td>\n",
       "      <td>бізнес</td>\n",
       "      <td>2024.0</td>\n",
       "      <td>4543650.0</td>\n",
       "      <td>46</td>\n",
       "      <td>1</td>\n",
       "      <td>42</td>\n",
       "      <td>NaN</td>\n",
       "      <td>NaN</td>\n",
       "    </tr>\n",
       "    <tr>\n",
       "      <th>32</th>\n",
       "      <td>Клубний будинок OLEGIVSKIY</td>\n",
       "      <td>DIM</td>\n",
       "      <td>вул. Олегівська, 36</td>\n",
       "      <td>бізнес</td>\n",
       "      <td>2024.0</td>\n",
       "      <td>4642425.0</td>\n",
       "      <td>47</td>\n",
       "      <td>1</td>\n",
       "      <td>42</td>\n",
       "      <td>NaN</td>\n",
       "      <td>NaN</td>\n",
       "    </tr>\n",
       "    <tr>\n",
       "      <th>33</th>\n",
       "      <td>Клубний будинок OLEGIVSKIY</td>\n",
       "      <td>DIM</td>\n",
       "      <td>вул. Олегівська, 36</td>\n",
       "      <td>бізнес</td>\n",
       "      <td>2024.0</td>\n",
       "      <td>5531400.0</td>\n",
       "      <td>56</td>\n",
       "      <td>1</td>\n",
       "      <td>42</td>\n",
       "      <td>NaN</td>\n",
       "      <td>NaN</td>\n",
       "    </tr>\n",
       "    <tr>\n",
       "      <th>34</th>\n",
       "      <td>Клубний будинок OLEGIVSKIY</td>\n",
       "      <td>DIM</td>\n",
       "      <td>вул. Олегівська, 36</td>\n",
       "      <td>бізнес</td>\n",
       "      <td>2024.0</td>\n",
       "      <td>5771675.0</td>\n",
       "      <td>59</td>\n",
       "      <td>2</td>\n",
       "      <td>42</td>\n",
       "      <td>NaN</td>\n",
       "      <td>NaN</td>\n",
       "    </tr>\n",
       "    <tr>\n",
       "      <th>35</th>\n",
       "      <td>Клубний будинок OLEGIVSKIY</td>\n",
       "      <td>DIM</td>\n",
       "      <td>вул. Олегівська, 36</td>\n",
       "      <td>бізнес</td>\n",
       "      <td>2024.0</td>\n",
       "      <td>6358625.0</td>\n",
       "      <td>65</td>\n",
       "      <td>2</td>\n",
       "      <td>42</td>\n",
       "      <td>NaN</td>\n",
       "      <td>NaN</td>\n",
       "    </tr>\n",
       "    <tr>\n",
       "      <th>36</th>\n",
       "      <td>Клубний будинок OLEGIVSKIY</td>\n",
       "      <td>DIM</td>\n",
       "      <td>вул. Олегівська, 36</td>\n",
       "      <td>бізнес</td>\n",
       "      <td>2024.0</td>\n",
       "      <td>6554275.0</td>\n",
       "      <td>67</td>\n",
       "      <td>2</td>\n",
       "      <td>42</td>\n",
       "      <td>NaN</td>\n",
       "      <td>NaN</td>\n",
       "    </tr>\n",
       "    <tr>\n",
       "      <th>37</th>\n",
       "      <td>Клубний будинок OLEGIVSKIY</td>\n",
       "      <td>DIM</td>\n",
       "      <td>вул. Олегівська, 36</td>\n",
       "      <td>бізнес</td>\n",
       "      <td>2024.0</td>\n",
       "      <td>6652100.0</td>\n",
       "      <td>68</td>\n",
       "      <td>2</td>\n",
       "      <td>42</td>\n",
       "      <td>NaN</td>\n",
       "      <td>NaN</td>\n",
       "    </tr>\n",
       "    <tr>\n",
       "      <th>38</th>\n",
       "      <td>Клубний будинок OLEGIVSKIY</td>\n",
       "      <td>DIM</td>\n",
       "      <td>вул. Олегівська, 36</td>\n",
       "      <td>бізнес</td>\n",
       "      <td>2024.0</td>\n",
       "      <td>6652100.0</td>\n",
       "      <td>68</td>\n",
       "      <td>2</td>\n",
       "      <td>42</td>\n",
       "      <td>NaN</td>\n",
       "      <td>NaN</td>\n",
       "    </tr>\n",
       "    <tr>\n",
       "      <th>39</th>\n",
       "      <td>Клубний будинок OLEGIVSKIY</td>\n",
       "      <td>DIM</td>\n",
       "      <td>вул. Олегівська, 36</td>\n",
       "      <td>бізнес</td>\n",
       "      <td>2024.0</td>\n",
       "      <td>7239050.0</td>\n",
       "      <td>74</td>\n",
       "      <td>2</td>\n",
       "      <td>42</td>\n",
       "      <td>NaN</td>\n",
       "      <td>NaN</td>\n",
       "    </tr>\n",
       "    <tr>\n",
       "      <th>40</th>\n",
       "      <td>ЖК Central Hills</td>\n",
       "      <td>LEV Development</td>\n",
       "      <td>Лисогірський узвіз, 26</td>\n",
       "      <td>бізнес</td>\n",
       "      <td>2023.0</td>\n",
       "      <td>1469125.0</td>\n",
       "      <td>35</td>\n",
       "      <td>1</td>\n",
       "      <td>104</td>\n",
       "      <td>NaN</td>\n",
       "      <td>NaN</td>\n",
       "    </tr>\n",
       "    <tr>\n",
       "      <th>41</th>\n",
       "      <td>ЖК Central Hills</td>\n",
       "      <td>LEV Development</td>\n",
       "      <td>Лисогірський узвіз, 26</td>\n",
       "      <td>бізнес</td>\n",
       "      <td>2023.0</td>\n",
       "      <td>1804925.0</td>\n",
       "      <td>43</td>\n",
       "      <td>1</td>\n",
       "      <td>104</td>\n",
       "      <td>NaN</td>\n",
       "      <td>NaN</td>\n",
       "    </tr>\n",
       "    <tr>\n",
       "      <th>42</th>\n",
       "      <td>ЖК Central Hills</td>\n",
       "      <td>LEV Development</td>\n",
       "      <td>Лисогірський узвіз, 26</td>\n",
       "      <td>бізнес</td>\n",
       "      <td>2023.0</td>\n",
       "      <td>1930850.0</td>\n",
       "      <td>46</td>\n",
       "      <td>1</td>\n",
       "      <td>104</td>\n",
       "      <td>NaN</td>\n",
       "      <td>NaN</td>\n",
       "    </tr>\n",
       "    <tr>\n",
       "      <th>43</th>\n",
       "      <td>ЖК Central Hills</td>\n",
       "      <td>LEV Development</td>\n",
       "      <td>Лисогірський узвіз, 26</td>\n",
       "      <td>бізнес</td>\n",
       "      <td>2023.0</td>\n",
       "      <td>2024600.0</td>\n",
       "      <td>53</td>\n",
       "      <td>2</td>\n",
       "      <td>104</td>\n",
       "      <td>NaN</td>\n",
       "      <td>NaN</td>\n",
       "    </tr>\n",
       "    <tr>\n",
       "      <th>44</th>\n",
       "      <td>ЖК Central Hills</td>\n",
       "      <td>LEV Development</td>\n",
       "      <td>Лисогірський узвіз, 26</td>\n",
       "      <td>бізнес</td>\n",
       "      <td>2023.0</td>\n",
       "      <td>2024600.0</td>\n",
       "      <td>53</td>\n",
       "      <td>2</td>\n",
       "      <td>104</td>\n",
       "      <td>NaN</td>\n",
       "      <td>NaN</td>\n",
       "    </tr>\n",
       "    <tr>\n",
       "      <th>45</th>\n",
       "      <td>ЖК Central Hills</td>\n",
       "      <td>LEV Development</td>\n",
       "      <td>Лисогірський узвіз, 26</td>\n",
       "      <td>бізнес</td>\n",
       "      <td>2023.0</td>\n",
       "      <td>2368400.0</td>\n",
       "      <td>62</td>\n",
       "      <td>2</td>\n",
       "      <td>104</td>\n",
       "      <td>NaN</td>\n",
       "      <td>NaN</td>\n",
       "    </tr>\n",
       "    <tr>\n",
       "      <th>46</th>\n",
       "      <td>ЖК Central Hills</td>\n",
       "      <td>LEV Development</td>\n",
       "      <td>Лисогірський узвіз, 26</td>\n",
       "      <td>бізнес</td>\n",
       "      <td>2023.0</td>\n",
       "      <td>2664500.0</td>\n",
       "      <td>73</td>\n",
       "      <td>3</td>\n",
       "      <td>104</td>\n",
       "      <td>NaN</td>\n",
       "      <td>NaN</td>\n",
       "    </tr>\n",
       "    <tr>\n",
       "      <th>47</th>\n",
       "      <td>ЖК Central Hills</td>\n",
       "      <td>LEV Development</td>\n",
       "      <td>Лисогірський узвіз, 26</td>\n",
       "      <td>бізнес</td>\n",
       "      <td>2023.0</td>\n",
       "      <td>3066000.0</td>\n",
       "      <td>84</td>\n",
       "      <td>3</td>\n",
       "      <td>104</td>\n",
       "      <td>NaN</td>\n",
       "      <td>NaN</td>\n",
       "    </tr>\n",
       "    <tr>\n",
       "      <th>48</th>\n",
       "      <td>ЖК Новий Автограф</td>\n",
       "      <td>DIM</td>\n",
       "      <td>вул. Князя Романа Мстиславича (Генерала Жмачен...</td>\n",
       "      <td>комфорт</td>\n",
       "      <td>2023.0</td>\n",
       "      <td>3098250.0</td>\n",
       "      <td>54</td>\n",
       "      <td>1</td>\n",
       "      <td>122</td>\n",
       "      <td>NaN</td>\n",
       "      <td>NaN</td>\n",
       "    </tr>\n",
       "    <tr>\n",
       "      <th>49</th>\n",
       "      <td>ЖК Новий Автограф</td>\n",
       "      <td>DIM</td>\n",
       "      <td>вул. Князя Романа Мстиславича (Генерала Жмачен...</td>\n",
       "      <td>комфорт</td>\n",
       "      <td>2023.0</td>\n",
       "      <td>5830000.0</td>\n",
       "      <td>100</td>\n",
       "      <td>3</td>\n",
       "      <td>122</td>\n",
       "      <td>NaN</td>\n",
       "      <td>NaN</td>\n",
       "    </tr>\n",
       "  </tbody>\n",
       "</table>\n",
       "</div>"
      ],
      "text/plain": [
       "                     residence        developer  \\\n",
       "0         А136 Highlight Tower              DIM   \n",
       "1         А136 Highlight Tower              DIM   \n",
       "2         А136 Highlight Tower              DIM   \n",
       "3         А136 Highlight Tower              DIM   \n",
       "4         А136 Highlight Tower              DIM   \n",
       "5         А136 Highlight Tower              DIM   \n",
       "6         А136 Highlight Tower              DIM   \n",
       "7         А136 Highlight Tower              DIM   \n",
       "8         А136 Highlight Tower              DIM   \n",
       "9         А136 Highlight Tower              DIM   \n",
       "10            ЖК Паркове місто              UDP   \n",
       "11            ЖК Паркове місто              UDP   \n",
       "12            ЖК Паркове місто              UDP   \n",
       "13            ЖК Паркове місто              UDP   \n",
       "14            ЖК Паркове місто              UDP   \n",
       "15            ЖК Паркове місто              UDP   \n",
       "16            ЖК Паркове місто              UDP   \n",
       "17            ЖК Паркове місто              UDP   \n",
       "18            ЖК Паркове місто              UDP   \n",
       "19            ЖК Паркове місто              UDP   \n",
       "20    Linden Luxury Residences   Budhouse Group   \n",
       "21    Linden Luxury Residences   Budhouse Group   \n",
       "22    Linden Luxury Residences   Budhouse Group   \n",
       "23    Linden Luxury Residences   Budhouse Group   \n",
       "24    Linden Luxury Residences   Budhouse Group   \n",
       "25    Linden Luxury Residences   Budhouse Group   \n",
       "26    Linden Luxury Residences   Budhouse Group   \n",
       "27    Linden Luxury Residences   Budhouse Group   \n",
       "28    Linden Luxury Residences   Budhouse Group   \n",
       "29    Linden Luxury Residences   Budhouse Group   \n",
       "30  Клубний будинок OLEGIVSKIY              DIM   \n",
       "31  Клубний будинок OLEGIVSKIY              DIM   \n",
       "32  Клубний будинок OLEGIVSKIY              DIM   \n",
       "33  Клубний будинок OLEGIVSKIY              DIM   \n",
       "34  Клубний будинок OLEGIVSKIY              DIM   \n",
       "35  Клубний будинок OLEGIVSKIY              DIM   \n",
       "36  Клубний будинок OLEGIVSKIY              DIM   \n",
       "37  Клубний будинок OLEGIVSKIY              DIM   \n",
       "38  Клубний будинок OLEGIVSKIY              DIM   \n",
       "39  Клубний будинок OLEGIVSKIY              DIM   \n",
       "40            ЖК Central Hills  LEV Development   \n",
       "41            ЖК Central Hills  LEV Development   \n",
       "42            ЖК Central Hills  LEV Development   \n",
       "43            ЖК Central Hills  LEV Development   \n",
       "44            ЖК Central Hills  LEV Development   \n",
       "45            ЖК Central Hills  LEV Development   \n",
       "46            ЖК Central Hills  LEV Development   \n",
       "47            ЖК Central Hills  LEV Development   \n",
       "48           ЖК Новий Автограф              DIM   \n",
       "49           ЖК Новий Автограф              DIM   \n",
       "\n",
       "                                              address    class    year  \\\n",
       "0                            вул. Антоновича, 136-138   бізнес  2023.0   \n",
       "1                            вул. Антоновича, 136-138   бізнес  2023.0   \n",
       "2                            вул. Антоновича, 136-138   бізнес  2023.0   \n",
       "3                            вул. Антоновича, 136-138   бізнес  2023.0   \n",
       "4                            вул. Антоновича, 136-138   бізнес  2023.0   \n",
       "5                            вул. Антоновича, 136-138   бізнес  2023.0   \n",
       "6                            вул. Антоновича, 136-138   бізнес  2023.0   \n",
       "7                            вул. Антоновича, 136-138   бізнес  2023.0   \n",
       "8                            вул. Антоновича, 136-138   бізнес  2023.0   \n",
       "9                            вул. Антоновича, 136-138   бізнес  2023.0   \n",
       "10                              вул. Вишгородська, 45   бізнес  2024.0   \n",
       "11                              вул. Вишгородська, 45   бізнес  2024.0   \n",
       "12                              вул. Вишгородська, 45   бізнес  2024.0   \n",
       "13                              вул. Вишгородська, 45   бізнес  2024.0   \n",
       "14                              вул. Вишгородська, 45   бізнес  2024.0   \n",
       "15                              вул. Вишгородська, 45   бізнес  2024.0   \n",
       "16                              вул. Вишгородська, 45   бізнес  2024.0   \n",
       "17                              вул. Вишгородська, 45   бізнес  2024.0   \n",
       "18                              вул. Вишгородська, 45   бізнес  2024.0   \n",
       "19                              вул. Вишгородська, 45   бізнес  2024.0   \n",
       "20                              вул. Лютеранська, 14в  преміум     NaN   \n",
       "21                              вул. Лютеранська, 14в  преміум     NaN   \n",
       "22                              вул. Лютеранська, 14в  преміум     NaN   \n",
       "23                              вул. Лютеранська, 14в  преміум     NaN   \n",
       "24                              вул. Лютеранська, 14в  преміум     NaN   \n",
       "25                              вул. Лютеранська, 14в  преміум     NaN   \n",
       "26                              вул. Лютеранська, 14в  преміум     NaN   \n",
       "27                              вул. Лютеранська, 14в  преміум     NaN   \n",
       "28                              вул. Лютеранська, 14в  преміум     NaN   \n",
       "29                              вул. Лютеранська, 14в  преміум     NaN   \n",
       "30                                вул. Олегівська, 36   бізнес  2024.0   \n",
       "31                                вул. Олегівська, 36   бізнес  2024.0   \n",
       "32                                вул. Олегівська, 36   бізнес  2024.0   \n",
       "33                                вул. Олегівська, 36   бізнес  2024.0   \n",
       "34                                вул. Олегівська, 36   бізнес  2024.0   \n",
       "35                                вул. Олегівська, 36   бізнес  2024.0   \n",
       "36                                вул. Олегівська, 36   бізнес  2024.0   \n",
       "37                                вул. Олегівська, 36   бізнес  2024.0   \n",
       "38                                вул. Олегівська, 36   бізнес  2024.0   \n",
       "39                                вул. Олегівська, 36   бізнес  2024.0   \n",
       "40                             Лисогірський узвіз, 26   бізнес  2023.0   \n",
       "41                             Лисогірський узвіз, 26   бізнес  2023.0   \n",
       "42                             Лисогірський узвіз, 26   бізнес  2023.0   \n",
       "43                             Лисогірський узвіз, 26   бізнес  2023.0   \n",
       "44                             Лисогірський узвіз, 26   бізнес  2023.0   \n",
       "45                             Лисогірський узвіз, 26   бізнес  2023.0   \n",
       "46                             Лисогірський узвіз, 26   бізнес  2023.0   \n",
       "47                             Лисогірський узвіз, 26   бізнес  2023.0   \n",
       "48  вул. Князя Романа Мстиславича (Генерала Жмачен...  комфорт  2023.0   \n",
       "49  вул. Князя Романа Мстиславича (Генерала Жмачен...  комфорт  2023.0   \n",
       "\n",
       "         price  area  rooms  minutesToCityCenter  crimeRateInDistrict district  \n",
       "0    6907950.0    54      1                   48                  NaN      NaN  \n",
       "1    7419650.0    58      1                   48                  NaN      NaN  \n",
       "2    9120000.0    80      2                   48                  NaN      NaN  \n",
       "3    9234000.0    81      2                   48                  NaN      NaN  \n",
       "4    9690000.0    85      2                   48                  NaN      NaN  \n",
       "5   10032000.0    88      2                   48                  NaN      NaN  \n",
       "6   12312000.0   108      2                   48                  NaN      NaN  \n",
       "7   13338000.0   117      2                   48                  NaN      NaN  \n",
       "8   13206375.0   117      3                   48                  NaN      NaN  \n",
       "9   14786625.0   131      3                   48                  NaN      NaN  \n",
       "10         NaN    31      1                  123                  NaN      NaN  \n",
       "11         NaN    42      1                  123                  NaN      NaN  \n",
       "12         NaN    43      1                  123                  NaN      NaN  \n",
       "13         NaN    47      1                  123                  NaN      NaN  \n",
       "14         NaN    48      1                  123                  NaN      NaN  \n",
       "15         NaN    50      1                  123                  NaN      NaN  \n",
       "16         NaN    52      1                  123                  NaN      NaN  \n",
       "17         NaN    68      2                  123                  NaN      NaN  \n",
       "18         NaN    72      2                  123                  NaN      NaN  \n",
       "19         NaN    76      2                  123                  NaN      NaN  \n",
       "20   1620000.0     8      1                    5                  NaN      NaN  \n",
       "21  15997500.0    79      1                    5                  NaN      NaN  \n",
       "22  16402500.0    81      1                    5                  NaN      NaN  \n",
       "23  16605000.0    82      1                    5                  NaN      NaN  \n",
       "24  19845000.0    98      1                    5                  NaN      NaN  \n",
       "25  21084000.0    84      2                    5                  NaN      NaN  \n",
       "26  21837000.0    87      2                    5                  NaN      NaN  \n",
       "27  22339000.0    89      2                    5                  NaN      NaN  \n",
       "28  24096000.0    96      2                    5                  NaN      NaN  \n",
       "29  26104000.0   104      2                    5                  NaN      NaN  \n",
       "30   3654675.0    37      1                   42                  NaN      NaN  \n",
       "31   4543650.0    46      1                   42                  NaN      NaN  \n",
       "32   4642425.0    47      1                   42                  NaN      NaN  \n",
       "33   5531400.0    56      1                   42                  NaN      NaN  \n",
       "34   5771675.0    59      2                   42                  NaN      NaN  \n",
       "35   6358625.0    65      2                   42                  NaN      NaN  \n",
       "36   6554275.0    67      2                   42                  NaN      NaN  \n",
       "37   6652100.0    68      2                   42                  NaN      NaN  \n",
       "38   6652100.0    68      2                   42                  NaN      NaN  \n",
       "39   7239050.0    74      2                   42                  NaN      NaN  \n",
       "40   1469125.0    35      1                  104                  NaN      NaN  \n",
       "41   1804925.0    43      1                  104                  NaN      NaN  \n",
       "42   1930850.0    46      1                  104                  NaN      NaN  \n",
       "43   2024600.0    53      2                  104                  NaN      NaN  \n",
       "44   2024600.0    53      2                  104                  NaN      NaN  \n",
       "45   2368400.0    62      2                  104                  NaN      NaN  \n",
       "46   2664500.0    73      3                  104                  NaN      NaN  \n",
       "47   3066000.0    84      3                  104                  NaN      NaN  \n",
       "48   3098250.0    54      1                  122                  NaN      NaN  \n",
       "49   5830000.0   100      3                  122                  NaN      NaN  "
      ]
     },
     "execution_count": 279,
     "metadata": {},
     "output_type": "execute_result"
    }
   ],
   "source": [
    "df = pd.read_csv('./real-estate-mapped-2.csv')\n",
    "df.head(50)"
   ]
  },
  {
   "cell_type": "markdown",
   "metadata": {},
   "source": [
    "## Статистика"
   ]
  },
  {
   "cell_type": "code",
   "execution_count": 280,
   "metadata": {
    "colab": {
     "base_uri": "https://localhost:8080/",
     "height": 300
    },
    "id": "QatjOz55izrT",
    "outputId": "ba02f4b9-1990-46a3-ea44-5553c6f7f278",
    "scrolled": false
   },
   "outputs": [
    {
     "data": {
      "text/html": [
       "<div>\n",
       "<style scoped>\n",
       "    .dataframe tbody tr th:only-of-type {\n",
       "        vertical-align: middle;\n",
       "    }\n",
       "\n",
       "    .dataframe tbody tr th {\n",
       "        vertical-align: top;\n",
       "    }\n",
       "\n",
       "    .dataframe thead th {\n",
       "        text-align: right;\n",
       "    }\n",
       "</style>\n",
       "<table border=\"1\" class=\"dataframe\">\n",
       "  <thead>\n",
       "    <tr style=\"text-align: right;\">\n",
       "      <th></th>\n",
       "      <th>year</th>\n",
       "      <th>price</th>\n",
       "      <th>area</th>\n",
       "      <th>rooms</th>\n",
       "      <th>minutesToCityCenter</th>\n",
       "      <th>crimeRateInDistrict</th>\n",
       "    </tr>\n",
       "  </thead>\n",
       "  <tbody>\n",
       "    <tr>\n",
       "      <th>count</th>\n",
       "      <td>1096.000000</td>\n",
       "      <td>9.910000e+02</td>\n",
       "      <td>1507.000000</td>\n",
       "      <td>1507.000000</td>\n",
       "      <td>1507.000000</td>\n",
       "      <td>1417.000000</td>\n",
       "    </tr>\n",
       "    <tr>\n",
       "      <th>mean</th>\n",
       "      <td>2023.399027</td>\n",
       "      <td>4.807285e+06</td>\n",
       "      <td>67.677505</td>\n",
       "      <td>1.680159</td>\n",
       "      <td>108.271400</td>\n",
       "      <td>3171.418490</td>\n",
       "    </tr>\n",
       "    <tr>\n",
       "      <th>std</th>\n",
       "      <td>0.750551</td>\n",
       "      <td>4.613082e+06</td>\n",
       "      <td>37.457415</td>\n",
       "      <td>0.910991</td>\n",
       "      <td>55.171398</td>\n",
       "      <td>807.647658</td>\n",
       "    </tr>\n",
       "    <tr>\n",
       "      <th>min</th>\n",
       "      <td>2021.000000</td>\n",
       "      <td>7.142500e+04</td>\n",
       "      <td>1.000000</td>\n",
       "      <td>1.000000</td>\n",
       "      <td>5.000000</td>\n",
       "      <td>2106.000000</td>\n",
       "    </tr>\n",
       "    <tr>\n",
       "      <th>25%</th>\n",
       "      <td>2023.000000</td>\n",
       "      <td>2.211725e+06</td>\n",
       "      <td>43.000000</td>\n",
       "      <td>1.000000</td>\n",
       "      <td>61.000000</td>\n",
       "      <td>2537.000000</td>\n",
       "    </tr>\n",
       "    <tr>\n",
       "      <th>50%</th>\n",
       "      <td>2023.000000</td>\n",
       "      <td>3.185000e+06</td>\n",
       "      <td>55.000000</td>\n",
       "      <td>1.000000</td>\n",
       "      <td>109.000000</td>\n",
       "      <td>2999.000000</td>\n",
       "    </tr>\n",
       "    <tr>\n",
       "      <th>75%</th>\n",
       "      <td>2024.000000</td>\n",
       "      <td>5.437650e+06</td>\n",
       "      <td>83.000000</td>\n",
       "      <td>2.000000</td>\n",
       "      <td>156.000000</td>\n",
       "      <td>3860.000000</td>\n",
       "    </tr>\n",
       "    <tr>\n",
       "      <th>max</th>\n",
       "      <td>2026.000000</td>\n",
       "      <td>4.374090e+07</td>\n",
       "      <td>345.000000</td>\n",
       "      <td>5.000000</td>\n",
       "      <td>284.000000</td>\n",
       "      <td>4634.000000</td>\n",
       "    </tr>\n",
       "  </tbody>\n",
       "</table>\n",
       "</div>"
      ],
      "text/plain": [
       "              year         price         area        rooms  \\\n",
       "count  1096.000000  9.910000e+02  1507.000000  1507.000000   \n",
       "mean   2023.399027  4.807285e+06    67.677505     1.680159   \n",
       "std       0.750551  4.613082e+06    37.457415     0.910991   \n",
       "min    2021.000000  7.142500e+04     1.000000     1.000000   \n",
       "25%    2023.000000  2.211725e+06    43.000000     1.000000   \n",
       "50%    2023.000000  3.185000e+06    55.000000     1.000000   \n",
       "75%    2024.000000  5.437650e+06    83.000000     2.000000   \n",
       "max    2026.000000  4.374090e+07   345.000000     5.000000   \n",
       "\n",
       "       minutesToCityCenter  crimeRateInDistrict  \n",
       "count          1507.000000          1417.000000  \n",
       "mean            108.271400          3171.418490  \n",
       "std              55.171398           807.647658  \n",
       "min               5.000000          2106.000000  \n",
       "25%              61.000000          2537.000000  \n",
       "50%             109.000000          2999.000000  \n",
       "75%             156.000000          3860.000000  \n",
       "max             284.000000          4634.000000  "
      ]
     },
     "execution_count": 280,
     "metadata": {},
     "output_type": "execute_result"
    }
   ],
   "source": [
    "df.describe()"
   ]
  },
  {
   "cell_type": "code",
   "execution_count": 281,
   "metadata": {
    "colab": {
     "base_uri": "https://localhost:8080/"
    },
    "id": "_8FwNDwMDQQW",
    "outputId": "e4ce18ae-10b6-4d7b-a56e-34da08e88957",
    "scrolled": true
   },
   "outputs": [
    {
     "data": {
      "text/plain": [
       "(1507, 11)"
      ]
     },
     "execution_count": 281,
     "metadata": {},
     "output_type": "execute_result"
    }
   ],
   "source": [
    "df.shape"
   ]
  },
  {
   "cell_type": "code",
   "execution_count": 282,
   "metadata": {},
   "outputs": [],
   "source": [
    "df = df.drop(['year', 'district'], axis=1)\n",
    "df = df.dropna().reset_index()"
   ]
  },
  {
   "cell_type": "code",
   "execution_count": 283,
   "metadata": {
    "colab": {
     "base_uri": "https://localhost:8080/"
    },
    "id": "_8FwNDwMDQQW",
    "outputId": "e4ce18ae-10b6-4d7b-a56e-34da08e88957",
    "scrolled": false
   },
   "outputs": [
    {
     "data": {
      "text/plain": [
       "(783, 10)"
      ]
     },
     "execution_count": 283,
     "metadata": {},
     "output_type": "execute_result"
    }
   ],
   "source": [
    "df.shape"
   ]
  },
  {
   "cell_type": "code",
   "execution_count": 284,
   "metadata": {
    "colab": {
     "base_uri": "https://localhost:8080/",
     "height": 334
    },
    "id": "6L1Nowvnacs_",
    "outputId": "97f4f6db-ce95-4159-fbb4-3d51149a5a86"
   },
   "outputs": [
    {
     "data": {
      "image/png": "[encoded data removed]",
      "text/plain": [
       "<Figure size 640x480 with 1 Axes>"
      ]
     },
     "metadata": {},
     "output_type": "display_data"
    }
   ],
   "source": [
    "sns.boxplot(df['price'])\n",
    "plt.show()"
   ]
  },
  {
   "cell_type": "markdown",
   "metadata": {
    "scrolled": true
   },
   "source": [
    "## Мапінг назв колонок із попереднім набором даних"
   ]
  },
  {
   "cell_type": "code",
   "execution_count": 285,
   "metadata": {},
   "outputs": [],
   "source": [
    "df['predictedClass'] = df['class']\n",
    "df = df.drop(['class'], axis=1)"
   ]
  },
  {
   "cell_type": "code",
   "execution_count": 286,
   "metadata": {
    "colab": {
     "base_uri": "https://localhost:8080/",
     "height": 334
    },
    "id": "O-0i6lqGB6Fu",
    "outputId": "6cf7ae11-a577-47b8-ab07-dc5d109a95f0"
   },
   "outputs": [
    {
     "data": {
      "image/png": "[encoded data removed]",
      "text/plain": [
       "<Figure size 640x480 with 1 Axes>"
      ]
     },
     "metadata": {},
     "output_type": "display_data"
    }
   ],
   "source": [
    "sns.boxplot(df['area'])\n",
    "plt.show()"
   ]
  },
  {
   "cell_type": "code",
   "execution_count": 287,
   "metadata": {
    "id": "2cppITXg8cz_"
   },
   "outputs": [],
   "source": [
    "df['logprice']=np.log(df['price'])\n",
    "df['logarea']=np.log(df['area'])\n"
   ]
  },
  {
   "cell_type": "code",
   "execution_count": 288,
   "metadata": {
    "colab": {
     "base_uri": "https://localhost:8080/",
     "height": 334
    },
    "id": "Y0-IatnAcXUl",
    "outputId": "4dd3c179-df38-4fc9-b956-7758f90d443d"
   },
   "outputs": [
    {
     "data": {
      "image/png": "[encoded data removed]",
      "text/plain": [
       "<Figure size 640x480 with 1 Axes>"
      ]
     },
     "metadata": {},
     "output_type": "display_data"
    }
   ],
   "source": [
    "sns.boxplot(df['logprice'])\n",
    "plt.show()"
   ]
  },
  {
   "cell_type": "code",
   "execution_count": 289,
   "metadata": {
    "colab": {
     "base_uri": "https://localhost:8080/",
     "height": 334
    },
    "id": "vv-_8BwPCApp",
    "outputId": "f9cbdf7a-1b95-43cf-96d1-f6bc53473583"
   },
   "outputs": [
    {
     "data": {
      "image/png": "[encoded data removed]",
      "text/plain": [
       "<Figure size 640x480 with 1 Axes>"
      ]
     },
     "metadata": {},
     "output_type": "display_data"
    }
   ],
   "source": [
    "sns.boxplot(df['logarea'])\n",
    "plt.show()"
   ]
  },
  {
   "cell_type": "markdown",
   "metadata": {},
   "source": [
    "## Фільтрація набору даних від викидів"
   ]
  },
  {
   "cell_type": "markdown",
   "metadata": {},
   "source": [
    "Викидами є дані що кардинально відрізняються від середніх значень що були знайдені в наборі даних."
   ]
  },
  {
   "cell_type": "code",
   "execution_count": 290,
   "metadata": {
    "colab": {
     "base_uri": "https://localhost:8080/"
    },
    "id": "z5ffFZiViZjA",
    "outputId": "c3ca2ab6-7b05-4e9e-901b-228b4507a1de"
   },
   "outputs": [
    {
     "name": "stdout",
     "output_type": "stream",
     "text": [
      "Int64Index([114, 116, 117, 118, 119, 306, 307, 308, 309, 344, 404, 405, 406,\n",
      "            431, 432, 434, 489, 490, 510, 516, 527, 534, 655, 658, 659, 739,\n",
      "            740, 744, 761, 771],\n",
      "           dtype='int64')\n"
     ]
    }
   ],
   "source": [
    "q1_logprice = df['logprice'].quantile(0.25)\n",
    "q3_logprice = df['logprice'].quantile(0.75)\n",
    "iqr_logprice = q3_logprice - q1_logprice\n",
    "lower_bound_logprice = q1_logprice - 1.5 * iqr_logprice\n",
    "upper_bound_logprice = q3_logprice + 1.5 * iqr_logprice\n",
    "\n",
    "outliers_logprice = df[(df['logprice'] < lower_bound_logprice) | (df['logprice'] > upper_bound_logprice)].index\n",
    "\n",
    "print(outliers_logprice)\n"
   ]
  },
  {
   "cell_type": "code",
   "execution_count": 291,
   "metadata": {
    "colab": {
     "base_uri": "https://localhost:8080/"
    },
    "id": "ATt7-O8KtPpE",
    "outputId": "8a757e2f-3ea4-4d1e-db36-99cc36fec7e2"
   },
   "outputs": [
    {
     "name": "stdout",
     "output_type": "stream",
     "text": [
      "Int64Index([340, 344, 432, 489, 490, 510, 527, 695, 739, 740, 771], dtype='int64')\n"
     ]
    }
   ],
   "source": [
    "q1_logarea = df['logarea'].quantile(0.25)\n",
    "q3_logarea = df['logarea'].quantile(0.75)\n",
    "iqr_logarea = q3_logarea - q1_logarea\n",
    "lower_bound_logarea = q1_logarea - 1.5 * iqr_logarea\n",
    "upper_bound_logarea = q3_logarea + 1.5 * iqr_logarea\n",
    "\n",
    "outliers_logarea = df[(df['logarea'] < lower_bound_logarea) | (df['logarea'] > upper_bound_logarea)].index\n",
    "\n",
    "print(outliers_logarea)"
   ]
  },
  {
   "cell_type": "code",
   "execution_count": 292,
   "metadata": {},
   "outputs": [],
   "source": [
    "outliers = list(outliers_logprice.copy())\n",
    "outliers.extend(list(outliers_logarea))"
   ]
  },
  {
   "cell_type": "code",
   "execution_count": 293,
   "metadata": {},
   "outputs": [
    {
     "data": {
      "text/plain": [
       "[114,\n",
       " 116,\n",
       " 117,\n",
       " 118,\n",
       " 119,\n",
       " 306,\n",
       " 307,\n",
       " 308,\n",
       " 309,\n",
       " 344,\n",
       " 404,\n",
       " 405,\n",
       " 406,\n",
       " 431,\n",
       " 432,\n",
       " 434,\n",
       " 489,\n",
       " 490,\n",
       " 510,\n",
       " 516,\n",
       " 527,\n",
       " 534,\n",
       " 655,\n",
       " 658,\n",
       " 659,\n",
       " 739,\n",
       " 740,\n",
       " 744,\n",
       " 761,\n",
       " 771,\n",
       " 340,\n",
       " 344,\n",
       " 432,\n",
       " 489,\n",
       " 490,\n",
       " 510,\n",
       " 527,\n",
       " 695,\n",
       " 739,\n",
       " 740,\n",
       " 771]"
      ]
     },
     "execution_count": 293,
     "metadata": {},
     "output_type": "execute_result"
    }
   ],
   "source": [
    "outliers"
   ]
  },
  {
   "cell_type": "code",
   "execution_count": 294,
   "metadata": {
    "colab": {
     "base_uri": "https://localhost:8080/"
    },
    "id": "jNjVJuP8lE07",
    "outputId": "d5be9b39-108f-433d-ff4d-3ef844a617a5"
   },
   "outputs": [
    {
     "data": {
      "text/plain": [
       "(751, 12)"
      ]
     },
     "execution_count": 294,
     "metadata": {},
     "output_type": "execute_result"
    }
   ],
   "source": [
    "df1 = df.drop(outliers)\n",
    "df1.shape"
   ]
  },
  {
   "cell_type": "markdown",
   "metadata": {},
   "source": [
    "## Обрахування значимості незалежних змінних на залежну змінну"
   ]
  },
  {
   "cell_type": "markdown",
   "metadata": {},
   "source": [
    "OLS - Ordinary List Squares"
   ]
  },
  {
   "cell_type": "code",
   "execution_count": 295,
   "metadata": {
    "colab": {
     "base_uri": "https://localhost:8080/",
     "height": 504
    },
    "id": "loKH2vys6_T8",
    "outputId": "8f63b5ac-1cbd-4e56-cf58-1c390985f196",
    "scrolled": true
   },
   "outputs": [
    {
     "name": "stdout",
     "output_type": "stream",
     "text": [
      "Intercept   -328411.830204\n",
      "area          68856.016177\n",
      "dtype: float64\n"
     ]
    },
    {
     "data": {
      "text/html": [
       "<table class=\"simpletable\">\n",
       "<caption>OLS Regression Results</caption>\n",
       "<tr>\n",
       "  <th>Dep. Variable:</th>          <td>price</td>      <th>  R-squared:         </th> <td>   0.429</td> \n",
       "</tr>\n",
       "<tr>\n",
       "  <th>Model:</th>                   <td>OLS</td>       <th>  Adj. R-squared:    </th> <td>   0.428</td> \n",
       "</tr>\n",
       "<tr>\n",
       "  <th>Method:</th>             <td>Least Squares</td>  <th>  F-statistic:       </th> <td>   562.7</td> \n",
       "</tr>\n",
       "<tr>\n",
       "  <th>Date:</th>             <td>Tue, 16 May 2023</td> <th>  Prob (F-statistic):</th> <td>3.22e-93</td> \n",
       "</tr>\n",
       "<tr>\n",
       "  <th>Time:</th>                 <td>11:43:22</td>     <th>  Log-Likelihood:    </th> <td> -11970.</td> \n",
       "</tr>\n",
       "<tr>\n",
       "  <th>No. Observations:</th>      <td>   751</td>      <th>  AIC:               </th> <td>2.394e+04</td>\n",
       "</tr>\n",
       "<tr>\n",
       "  <th>Df Residuals:</th>          <td>   749</td>      <th>  BIC:               </th> <td>2.395e+04</td>\n",
       "</tr>\n",
       "<tr>\n",
       "  <th>Df Model:</th>              <td>     1</td>      <th>                     </th>     <td> </td>    \n",
       "</tr>\n",
       "<tr>\n",
       "  <th>Covariance Type:</th>      <td>nonrobust</td>    <th>                     </th>     <td> </td>    \n",
       "</tr>\n",
       "</table>\n",
       "<table class=\"simpletable\">\n",
       "<tr>\n",
       "      <td></td>         <th>coef</th>     <th>std err</th>      <th>t</th>      <th>P>|t|</th>  <th>[0.025</th>    <th>0.975]</th>  \n",
       "</tr>\n",
       "<tr>\n",
       "  <th>Intercept</th> <td>-3.284e+05</td> <td> 1.91e+05</td> <td>   -1.719</td> <td> 0.086</td> <td>-7.03e+05</td> <td> 4.66e+04</td>\n",
       "</tr>\n",
       "<tr>\n",
       "  <th>area</th>      <td> 6.886e+04</td> <td> 2902.627</td> <td>   23.722</td> <td> 0.000</td> <td> 6.32e+04</td> <td> 7.46e+04</td>\n",
       "</tr>\n",
       "</table>\n",
       "<table class=\"simpletable\">\n",
       "<tr>\n",
       "  <th>Omnibus:</th>       <td>281.372</td> <th>  Durbin-Watson:     </th> <td>   0.417</td> \n",
       "</tr>\n",
       "<tr>\n",
       "  <th>Prob(Omnibus):</th> <td> 0.000</td>  <th>  Jarque-Bera (JB):  </th> <td>1015.910</td> \n",
       "</tr>\n",
       "<tr>\n",
       "  <th>Skew:</th>          <td> 1.779</td>  <th>  Prob(JB):          </th> <td>2.50e-221</td>\n",
       "</tr>\n",
       "<tr>\n",
       "  <th>Kurtosis:</th>      <td> 7.451</td>  <th>  Cond. No.          </th> <td>    170.</td> \n",
       "</tr>\n",
       "</table><br/><br/>Notes:<br/>[1] Standard Errors assume that the covariance matrix of the errors is correctly specified."
      ],
      "text/latex": [
       "\\begin{center}\n",
       "\\begin{tabular}{lclc}\n",
       "\\toprule\n",
       "\\textbf{Dep. Variable:}    &      price       & \\textbf{  R-squared:         } &     0.429   \\\\\n",
       "\\textbf{Model:}            &       OLS        & \\textbf{  Adj. R-squared:    } &     0.428   \\\\\n",
       "\\textbf{Method:}           &  Least Squares   & \\textbf{  F-statistic:       } &     562.7   \\\\\n",
       "\\textbf{Date:}             & Tue, 16 May 2023 & \\textbf{  Prob (F-statistic):} &  3.22e-93   \\\\\n",
       "\\textbf{Time:}             &     11:43:22     & \\textbf{  Log-Likelihood:    } &   -11970.   \\\\\n",
       "\\textbf{No. Observations:} &         751      & \\textbf{  AIC:               } & 2.394e+04   \\\\\n",
       "\\textbf{Df Residuals:}     &         749      & \\textbf{  BIC:               } & 2.395e+04   \\\\\n",
       "\\textbf{Df Model:}         &           1      & \\textbf{                     } &             \\\\\n",
       "\\textbf{Covariance Type:}  &    nonrobust     & \\textbf{                     } &             \\\\\n",
       "\\bottomrule\n",
       "\\end{tabular}\n",
       "\\begin{tabular}{lcccccc}\n",
       "                   & \\textbf{coef} & \\textbf{std err} & \\textbf{t} & \\textbf{P$> |$t$|$} & \\textbf{[0.025} & \\textbf{0.975]}  \\\\\n",
       "\\midrule\n",
       "\\textbf{Intercept} &   -3.284e+05  &     1.91e+05     &    -1.719  &         0.086        &    -7.03e+05    &     4.66e+04     \\\\\n",
       "\\textbf{area}      &    6.886e+04  &     2902.627     &    23.722  &         0.000        &     6.32e+04    &     7.46e+04     \\\\\n",
       "\\bottomrule\n",
       "\\end{tabular}\n",
       "\\begin{tabular}{lclc}\n",
       "\\textbf{Omnibus:}       & 281.372 & \\textbf{  Durbin-Watson:     } &     0.417  \\\\\n",
       "\\textbf{Prob(Omnibus):} &   0.000 & \\textbf{  Jarque-Bera (JB):  } &  1015.910  \\\\\n",
       "\\textbf{Skew:}          &   1.779 & \\textbf{  Prob(JB):          } & 2.50e-221  \\\\\n",
       "\\textbf{Kurtosis:}      &   7.451 & \\textbf{  Cond. No.          } &      170.  \\\\\n",
       "\\bottomrule\n",
       "\\end{tabular}\n",
       "%\\caption{OLS Regression Results}\n",
       "\\end{center}\n",
       "\n",
       "Notes: \\newline\n",
       " [1] Standard Errors assume that the covariance matrix of the errors is correctly specified."
      ],
      "text/plain": [
       "<class 'statsmodels.iolib.summary.Summary'>\n",
       "\"\"\"\n",
       "                            OLS Regression Results                            \n",
       "==============================================================================\n",
       "Dep. Variable:                  price   R-squared:                       0.429\n",
       "Model:                            OLS   Adj. R-squared:                  0.428\n",
       "Method:                 Least Squares   F-statistic:                     562.7\n",
       "Date:                Tue, 16 May 2023   Prob (F-statistic):           3.22e-93\n",
       "Time:                        11:43:22   Log-Likelihood:                -11970.\n",
       "No. Observations:                 751   AIC:                         2.394e+04\n",
       "Df Residuals:                     749   BIC:                         2.395e+04\n",
       "Df Model:                           1                                         \n",
       "Covariance Type:            nonrobust                                         \n",
       "==============================================================================\n",
       "                 coef    std err          t      P>|t|      [0.025      0.975]\n",
       "------------------------------------------------------------------------------\n",
       "Intercept  -3.284e+05   1.91e+05     -1.719      0.086   -7.03e+05    4.66e+04\n",
       "area        6.886e+04   2902.627     23.722      0.000    6.32e+04    7.46e+04\n",
       "==============================================================================\n",
       "Omnibus:                      281.372   Durbin-Watson:                   0.417\n",
       "Prob(Omnibus):                  0.000   Jarque-Bera (JB):             1015.910\n",
       "Skew:                           1.779   Prob(JB):                    2.50e-221\n",
       "Kurtosis:                       7.451   Cond. No.                         170.\n",
       "==============================================================================\n",
       "\n",
       "Notes:\n",
       "[1] Standard Errors assume that the covariance matrix of the errors is correctly specified.\n",
       "\"\"\""
      ]
     },
     "execution_count": 295,
     "metadata": {},
     "output_type": "execute_result"
    }
   ],
   "source": [
    "lm_HPRICE = smf.ols(formula='price ~ area', data=df1).fit()\n",
    "print(lm_HPRICE.params)\n",
    "lm_HPRICE.summary()"
   ]
  },
  {
   "cell_type": "code",
   "execution_count": 296,
   "metadata": {
    "colab": {
     "base_uri": "https://localhost:8080/",
     "height": 504
    },
    "id": "djZqv4tvAsVF",
    "outputId": "6640d28a-51e5-4a46-c12e-14720f778b29",
    "scrolled": true
   },
   "outputs": [
    {
     "name": "stdout",
     "output_type": "stream",
     "text": [
      "Intercept    13.999845\n",
      "area          0.016140\n",
      "dtype: float64\n"
     ]
    },
    {
     "data": {
      "text/html": [
       "<table class=\"simpletable\">\n",
       "<caption>OLS Regression Results</caption>\n",
       "<tr>\n",
       "  <th>Dep. Variable:</th>        <td>logprice</td>     <th>  R-squared:         </th> <td>   0.496</td> \n",
       "</tr>\n",
       "<tr>\n",
       "  <th>Model:</th>                   <td>OLS</td>       <th>  Adj. R-squared:    </th> <td>   0.496</td> \n",
       "</tr>\n",
       "<tr>\n",
       "  <th>Method:</th>             <td>Least Squares</td>  <th>  F-statistic:       </th> <td>   738.5</td> \n",
       "</tr>\n",
       "<tr>\n",
       "  <th>Date:</th>             <td>Tue, 16 May 2023</td> <th>  Prob (F-statistic):</th> <td>1.05e-113</td>\n",
       "</tr>\n",
       "<tr>\n",
       "  <th>Time:</th>                 <td>11:43:22</td>     <th>  Log-Likelihood:    </th> <td> -402.58</td> \n",
       "</tr>\n",
       "<tr>\n",
       "  <th>No. Observations:</th>      <td>   751</td>      <th>  AIC:               </th> <td>   809.2</td> \n",
       "</tr>\n",
       "<tr>\n",
       "  <th>Df Residuals:</th>          <td>   749</td>      <th>  BIC:               </th> <td>   818.4</td> \n",
       "</tr>\n",
       "<tr>\n",
       "  <th>Df Model:</th>              <td>     1</td>      <th>                     </th>     <td> </td>    \n",
       "</tr>\n",
       "<tr>\n",
       "  <th>Covariance Type:</th>      <td>nonrobust</td>    <th>                     </th>     <td> </td>    \n",
       "</tr>\n",
       "</table>\n",
       "<table class=\"simpletable\">\n",
       "<tr>\n",
       "      <td></td>         <th>coef</th>     <th>std err</th>      <th>t</th>      <th>P>|t|</th>  <th>[0.025</th>    <th>0.975]</th>  \n",
       "</tr>\n",
       "<tr>\n",
       "  <th>Intercept</th> <td>   13.9998</td> <td>    0.039</td> <td>  358.132</td> <td> 0.000</td> <td>   13.923</td> <td>   14.077</td>\n",
       "</tr>\n",
       "<tr>\n",
       "  <th>area</th>      <td>    0.0161</td> <td>    0.001</td> <td>   27.176</td> <td> 0.000</td> <td>    0.015</td> <td>    0.017</td>\n",
       "</tr>\n",
       "</table>\n",
       "<table class=\"simpletable\">\n",
       "<tr>\n",
       "  <th>Omnibus:</th>       <td>59.822</td> <th>  Durbin-Watson:     </th> <td>   0.329</td>\n",
       "</tr>\n",
       "<tr>\n",
       "  <th>Prob(Omnibus):</th> <td> 0.000</td> <th>  Jarque-Bera (JB):  </th> <td>  72.294</td>\n",
       "</tr>\n",
       "<tr>\n",
       "  <th>Skew:</th>          <td> 0.726</td> <th>  Prob(JB):          </th> <td>2.00e-16</td>\n",
       "</tr>\n",
       "<tr>\n",
       "  <th>Kurtosis:</th>      <td> 3.453</td> <th>  Cond. No.          </th> <td>    170.</td>\n",
       "</tr>\n",
       "</table><br/><br/>Notes:<br/>[1] Standard Errors assume that the covariance matrix of the errors is correctly specified."
      ],
      "text/latex": [
       "\\begin{center}\n",
       "\\begin{tabular}{lclc}\n",
       "\\toprule\n",
       "\\textbf{Dep. Variable:}    &     logprice     & \\textbf{  R-squared:         } &     0.496   \\\\\n",
       "\\textbf{Model:}            &       OLS        & \\textbf{  Adj. R-squared:    } &     0.496   \\\\\n",
       "\\textbf{Method:}           &  Least Squares   & \\textbf{  F-statistic:       } &     738.5   \\\\\n",
       "\\textbf{Date:}             & Tue, 16 May 2023 & \\textbf{  Prob (F-statistic):} & 1.05e-113   \\\\\n",
       "\\textbf{Time:}             &     11:43:22     & \\textbf{  Log-Likelihood:    } &   -402.58   \\\\\n",
       "\\textbf{No. Observations:} &         751      & \\textbf{  AIC:               } &     809.2   \\\\\n",
       "\\textbf{Df Residuals:}     &         749      & \\textbf{  BIC:               } &     818.4   \\\\\n",
       "\\textbf{Df Model:}         &           1      & \\textbf{                     } &             \\\\\n",
       "\\textbf{Covariance Type:}  &    nonrobust     & \\textbf{                     } &             \\\\\n",
       "\\bottomrule\n",
       "\\end{tabular}\n",
       "\\begin{tabular}{lcccccc}\n",
       "                   & \\textbf{coef} & \\textbf{std err} & \\textbf{t} & \\textbf{P$> |$t$|$} & \\textbf{[0.025} & \\textbf{0.975]}  \\\\\n",
       "\\midrule\n",
       "\\textbf{Intercept} &      13.9998  &        0.039     &   358.132  &         0.000        &       13.923    &       14.077     \\\\\n",
       "\\textbf{area}      &       0.0161  &        0.001     &    27.176  &         0.000        &        0.015    &        0.017     \\\\\n",
       "\\bottomrule\n",
       "\\end{tabular}\n",
       "\\begin{tabular}{lclc}\n",
       "\\textbf{Omnibus:}       & 59.822 & \\textbf{  Durbin-Watson:     } &    0.329  \\\\\n",
       "\\textbf{Prob(Omnibus):} &  0.000 & \\textbf{  Jarque-Bera (JB):  } &   72.294  \\\\\n",
       "\\textbf{Skew:}          &  0.726 & \\textbf{  Prob(JB):          } & 2.00e-16  \\\\\n",
       "\\textbf{Kurtosis:}      &  3.453 & \\textbf{  Cond. No.          } &     170.  \\\\\n",
       "\\bottomrule\n",
       "\\end{tabular}\n",
       "%\\caption{OLS Regression Results}\n",
       "\\end{center}\n",
       "\n",
       "Notes: \\newline\n",
       " [1] Standard Errors assume that the covariance matrix of the errors is correctly specified."
      ],
      "text/plain": [
       "<class 'statsmodels.iolib.summary.Summary'>\n",
       "\"\"\"\n",
       "                            OLS Regression Results                            \n",
       "==============================================================================\n",
       "Dep. Variable:               logprice   R-squared:                       0.496\n",
       "Model:                            OLS   Adj. R-squared:                  0.496\n",
       "Method:                 Least Squares   F-statistic:                     738.5\n",
       "Date:                Tue, 16 May 2023   Prob (F-statistic):          1.05e-113\n",
       "Time:                        11:43:22   Log-Likelihood:                -402.58\n",
       "No. Observations:                 751   AIC:                             809.2\n",
       "Df Residuals:                     749   BIC:                             818.4\n",
       "Df Model:                           1                                         \n",
       "Covariance Type:            nonrobust                                         \n",
       "==============================================================================\n",
       "                 coef    std err          t      P>|t|      [0.025      0.975]\n",
       "------------------------------------------------------------------------------\n",
       "Intercept     13.9998      0.039    358.132      0.000      13.923      14.077\n",
       "area           0.0161      0.001     27.176      0.000       0.015       0.017\n",
       "==============================================================================\n",
       "Omnibus:                       59.822   Durbin-Watson:                   0.329\n",
       "Prob(Omnibus):                  0.000   Jarque-Bera (JB):               72.294\n",
       "Skew:                           0.726   Prob(JB):                     2.00e-16\n",
       "Kurtosis:                       3.453   Cond. No.                         170.\n",
       "==============================================================================\n",
       "\n",
       "Notes:\n",
       "[1] Standard Errors assume that the covariance matrix of the errors is correctly specified.\n",
       "\"\"\""
      ]
     },
     "execution_count": 296,
     "metadata": {},
     "output_type": "execute_result"
    }
   ],
   "source": [
    "lm_HPRICE1 = smf.ols(formula='logprice ~ area', data=df1).fit()\n",
    "print(lm_HPRICE1.params)\n",
    "lm_HPRICE1.summary()"
   ]
  },
  {
   "cell_type": "code",
   "execution_count": 297,
   "metadata": {
    "colab": {
     "base_uri": "https://localhost:8080/",
     "height": 504
    },
    "id": "jauPLtrEFm_v",
    "outputId": "dd6122fa-1ac2-4b08-f7ab-c52d2dd2e5f4",
    "scrolled": true
   },
   "outputs": [
    {
     "name": "stdout",
     "output_type": "stream",
     "text": [
      "Intercept    10.357519\n",
      "logarea       1.146693\n",
      "dtype: float64\n"
     ]
    },
    {
     "data": {
      "text/html": [
       "<table class=\"simpletable\">\n",
       "<caption>OLS Regression Results</caption>\n",
       "<tr>\n",
       "  <th>Dep. Variable:</th>        <td>logprice</td>     <th>  R-squared:         </th> <td>   0.549</td> \n",
       "</tr>\n",
       "<tr>\n",
       "  <th>Model:</th>                   <td>OLS</td>       <th>  Adj. R-squared:    </th> <td>   0.549</td> \n",
       "</tr>\n",
       "<tr>\n",
       "  <th>Method:</th>             <td>Least Squares</td>  <th>  F-statistic:       </th> <td>   912.8</td> \n",
       "</tr>\n",
       "<tr>\n",
       "  <th>Date:</th>             <td>Tue, 16 May 2023</td> <th>  Prob (F-statistic):</th> <td>9.57e-132</td>\n",
       "</tr>\n",
       "<tr>\n",
       "  <th>Time:</th>                 <td>11:43:23</td>     <th>  Log-Likelihood:    </th> <td> -360.98</td> \n",
       "</tr>\n",
       "<tr>\n",
       "  <th>No. Observations:</th>      <td>   751</td>      <th>  AIC:               </th> <td>   726.0</td> \n",
       "</tr>\n",
       "<tr>\n",
       "  <th>Df Residuals:</th>          <td>   749</td>      <th>  BIC:               </th> <td>   735.2</td> \n",
       "</tr>\n",
       "<tr>\n",
       "  <th>Df Model:</th>              <td>     1</td>      <th>                     </th>     <td> </td>    \n",
       "</tr>\n",
       "<tr>\n",
       "  <th>Covariance Type:</th>      <td>nonrobust</td>    <th>                     </th>     <td> </td>    \n",
       "</tr>\n",
       "</table>\n",
       "<table class=\"simpletable\">\n",
       "<tr>\n",
       "      <td></td>         <th>coef</th>     <th>std err</th>      <th>t</th>      <th>P>|t|</th>  <th>[0.025</th>    <th>0.975]</th>  \n",
       "</tr>\n",
       "<tr>\n",
       "  <th>Intercept</th> <td>   10.3575</td> <td>    0.154</td> <td>   67.409</td> <td> 0.000</td> <td>   10.056</td> <td>   10.659</td>\n",
       "</tr>\n",
       "<tr>\n",
       "  <th>logarea</th>   <td>    1.1467</td> <td>    0.038</td> <td>   30.213</td> <td> 0.000</td> <td>    1.072</td> <td>    1.221</td>\n",
       "</tr>\n",
       "</table>\n",
       "<table class=\"simpletable\">\n",
       "<tr>\n",
       "  <th>Omnibus:</th>       <td>61.066</td> <th>  Durbin-Watson:     </th> <td>   0.314</td>\n",
       "</tr>\n",
       "<tr>\n",
       "  <th>Prob(Omnibus):</th> <td> 0.000</td> <th>  Jarque-Bera (JB):  </th> <td>  74.002</td>\n",
       "</tr>\n",
       "<tr>\n",
       "  <th>Skew:</th>          <td> 0.750</td> <th>  Prob(JB):          </th> <td>8.52e-17</td>\n",
       "</tr>\n",
       "<tr>\n",
       "  <th>Kurtosis:</th>      <td> 3.338</td> <th>  Cond. No.          </th> <td>    46.1</td>\n",
       "</tr>\n",
       "</table><br/><br/>Notes:<br/>[1] Standard Errors assume that the covariance matrix of the errors is correctly specified."
      ],
      "text/latex": [
       "\\begin{center}\n",
       "\\begin{tabular}{lclc}\n",
       "\\toprule\n",
       "\\textbf{Dep. Variable:}    &     logprice     & \\textbf{  R-squared:         } &     0.549   \\\\\n",
       "\\textbf{Model:}            &       OLS        & \\textbf{  Adj. R-squared:    } &     0.549   \\\\\n",
       "\\textbf{Method:}           &  Least Squares   & \\textbf{  F-statistic:       } &     912.8   \\\\\n",
       "\\textbf{Date:}             & Tue, 16 May 2023 & \\textbf{  Prob (F-statistic):} & 9.57e-132   \\\\\n",
       "\\textbf{Time:}             &     11:43:23     & \\textbf{  Log-Likelihood:    } &   -360.98   \\\\\n",
       "\\textbf{No. Observations:} &         751      & \\textbf{  AIC:               } &     726.0   \\\\\n",
       "\\textbf{Df Residuals:}     &         749      & \\textbf{  BIC:               } &     735.2   \\\\\n",
       "\\textbf{Df Model:}         &           1      & \\textbf{                     } &             \\\\\n",
       "\\textbf{Covariance Type:}  &    nonrobust     & \\textbf{                     } &             \\\\\n",
       "\\bottomrule\n",
       "\\end{tabular}\n",
       "\\begin{tabular}{lcccccc}\n",
       "                   & \\textbf{coef} & \\textbf{std err} & \\textbf{t} & \\textbf{P$> |$t$|$} & \\textbf{[0.025} & \\textbf{0.975]}  \\\\\n",
       "\\midrule\n",
       "\\textbf{Intercept} &      10.3575  &        0.154     &    67.409  &         0.000        &       10.056    &       10.659     \\\\\n",
       "\\textbf{logarea}   &       1.1467  &        0.038     &    30.213  &         0.000        &        1.072    &        1.221     \\\\\n",
       "\\bottomrule\n",
       "\\end{tabular}\n",
       "\\begin{tabular}{lclc}\n",
       "\\textbf{Omnibus:}       & 61.066 & \\textbf{  Durbin-Watson:     } &    0.314  \\\\\n",
       "\\textbf{Prob(Omnibus):} &  0.000 & \\textbf{  Jarque-Bera (JB):  } &   74.002  \\\\\n",
       "\\textbf{Skew:}          &  0.750 & \\textbf{  Prob(JB):          } & 8.52e-17  \\\\\n",
       "\\textbf{Kurtosis:}      &  3.338 & \\textbf{  Cond. No.          } &     46.1  \\\\\n",
       "\\bottomrule\n",
       "\\end{tabular}\n",
       "%\\caption{OLS Regression Results}\n",
       "\\end{center}\n",
       "\n",
       "Notes: \\newline\n",
       " [1] Standard Errors assume that the covariance matrix of the errors is correctly specified."
      ],
      "text/plain": [
       "<class 'statsmodels.iolib.summary.Summary'>\n",
       "\"\"\"\n",
       "                            OLS Regression Results                            \n",
       "==============================================================================\n",
       "Dep. Variable:               logprice   R-squared:                       0.549\n",
       "Model:                            OLS   Adj. R-squared:                  0.549\n",
       "Method:                 Least Squares   F-statistic:                     912.8\n",
       "Date:                Tue, 16 May 2023   Prob (F-statistic):          9.57e-132\n",
       "Time:                        11:43:23   Log-Likelihood:                -360.98\n",
       "No. Observations:                 751   AIC:                             726.0\n",
       "Df Residuals:                     749   BIC:                             735.2\n",
       "Df Model:                           1                                         \n",
       "Covariance Type:            nonrobust                                         \n",
       "==============================================================================\n",
       "                 coef    std err          t      P>|t|      [0.025      0.975]\n",
       "------------------------------------------------------------------------------\n",
       "Intercept     10.3575      0.154     67.409      0.000      10.056      10.659\n",
       "logarea        1.1467      0.038     30.213      0.000       1.072       1.221\n",
       "==============================================================================\n",
       "Omnibus:                       61.066   Durbin-Watson:                   0.314\n",
       "Prob(Omnibus):                  0.000   Jarque-Bera (JB):               74.002\n",
       "Skew:                           0.750   Prob(JB):                     8.52e-17\n",
       "Kurtosis:                       3.338   Cond. No.                         46.1\n",
       "==============================================================================\n",
       "\n",
       "Notes:\n",
       "[1] Standard Errors assume that the covariance matrix of the errors is correctly specified.\n",
       "\"\"\""
      ]
     },
     "execution_count": 297,
     "metadata": {},
     "output_type": "execute_result"
    }
   ],
   "source": [
    "lm_HPRICE2 = smf.ols(formula='logprice ~ logarea', data=df1).fit()\n",
    "print(lm_HPRICE2.params)\n",
    "lm_HPRICE2.summary()"
   ]
  },
  {
   "cell_type": "code",
   "execution_count": 298,
   "metadata": {
    "colab": {
     "base_uri": "https://localhost:8080/",
     "height": 296
    },
    "id": "vqZJwrGQq9H9",
    "outputId": "19c6b711-d6ef-4785-b727-be5382ddd4d8"
   },
   "outputs": [
    {
     "data": {
      "text/plain": [
       "<AxesSubplot: xlabel='logarea', ylabel='logprice'>"
      ]
     },
     "execution_count": 298,
     "metadata": {},
     "output_type": "execute_result"
    },
    {
     "data": {
      "image/png": "[encoded data removed]",
      "text/plain": [
       "<Figure size 640x480 with 1 Axes>"
      ]
     },
     "metadata": {},
     "output_type": "display_data"
    }
   ],
   "source": [
    "sns.scatterplot(data=df1, x='logarea', y='logprice', hue='rooms')"
   ]
  },
  {
   "cell_type": "code",
   "execution_count": 299,
   "metadata": {
    "colab": {
     "base_uri": "https://localhost:8080/",
     "height": 296
    },
    "id": "-1BCm-G0sm5r",
    "outputId": "281726a0-ccc8-4d89-88f5-afaac2346af9"
   },
   "outputs": [],
   "source": [
    "# sns.scatterplot(data=df1, x='numApartmentsTotal', y='logprice')"
   ]
  },
  {
   "cell_type": "code",
   "execution_count": 300,
   "metadata": {
    "colab": {
     "base_uri": "https://localhost:8080/",
     "height": 296
    },
    "id": "sUyIObvTIIbn",
    "outputId": "fe445eb3-ff65-4e8a-b3c0-aaac877cb066"
   },
   "outputs": [],
   "source": [
    "# sns.scatterplot(data=df1, x='ceilingHeight', y='logprice', hue='ceilingHeight')"
   ]
  },
  {
   "cell_type": "code",
   "execution_count": 301,
   "metadata": {
    "colab": {
     "base_uri": "https://localhost:8080/",
     "height": 296
    },
    "id": "YHBOnrhZ34ff",
    "outputId": "933f7b49-31a7-4ef4-b75b-1d4a056fdb6e"
   },
   "outputs": [
    {
     "data": {
      "text/plain": [
       "<AxesSubplot: xlabel='predictedClass', ylabel='logprice'>"
      ]
     },
     "execution_count": 301,
     "metadata": {},
     "output_type": "execute_result"
    },
    {
     "data": {
      "image/png": "[encoded data removed]",
      "text/plain": [
       "<Figure size 640x480 with 1 Axes>"
      ]
     },
     "metadata": {},
     "output_type": "display_data"
    }
   ],
   "source": [
    "sns.scatterplot(data=df1, x='predictedClass', y='logprice', hue='predictedClass')"
   ]
  },
  {
   "cell_type": "code",
   "execution_count": 302,
   "metadata": {
    "id": "DCg7G74NHzY8"
   },
   "outputs": [],
   "source": [
    "df1['predictedClass'] = df['predictedClass'].replace({'комфорт': 1, 'бізнес': 2, 'преміум': 3, 'економ': 4})\n"
   ]
  },
  {
   "cell_type": "code",
   "execution_count": 303,
   "metadata": {
    "colab": {
     "base_uri": "https://localhost:8080/",
     "height": 542
    },
    "id": "Iw95VG6quvbh",
    "outputId": "b8a21578-f327-4967-a9da-f1da6f042ba4"
   },
   "outputs": [
    {
     "name": "stdout",
     "output_type": "stream",
     "text": [
      "Intercept    8.815830\n",
      "logarea      1.634830\n",
      "rooms       -0.275726\n",
      "dtype: float64\n"
     ]
    },
    {
     "data": {
      "text/html": [
       "<table class=\"simpletable\">\n",
       "<caption>OLS Regression Results</caption>\n",
       "<tr>\n",
       "  <th>Dep. Variable:</th>        <td>logprice</td>     <th>  R-squared:         </th> <td>   0.591</td> \n",
       "</tr>\n",
       "<tr>\n",
       "  <th>Model:</th>                   <td>OLS</td>       <th>  Adj. R-squared:    </th> <td>   0.590</td> \n",
       "</tr>\n",
       "<tr>\n",
       "  <th>Method:</th>             <td>Least Squares</td>  <th>  F-statistic:       </th> <td>   540.6</td> \n",
       "</tr>\n",
       "<tr>\n",
       "  <th>Date:</th>             <td>Tue, 16 May 2023</td> <th>  Prob (F-statistic):</th> <td>5.74e-146</td>\n",
       "</tr>\n",
       "<tr>\n",
       "  <th>Time:</th>                 <td>11:43:23</td>     <th>  Log-Likelihood:    </th> <td> -324.45</td> \n",
       "</tr>\n",
       "<tr>\n",
       "  <th>No. Observations:</th>      <td>   751</td>      <th>  AIC:               </th> <td>   654.9</td> \n",
       "</tr>\n",
       "<tr>\n",
       "  <th>Df Residuals:</th>          <td>   748</td>      <th>  BIC:               </th> <td>   668.8</td> \n",
       "</tr>\n",
       "<tr>\n",
       "  <th>Df Model:</th>              <td>     2</td>      <th>                     </th>     <td> </td>    \n",
       "</tr>\n",
       "<tr>\n",
       "  <th>Covariance Type:</th>      <td>nonrobust</td>    <th>                     </th>     <td> </td>    \n",
       "</tr>\n",
       "</table>\n",
       "<table class=\"simpletable\">\n",
       "<tr>\n",
       "      <td></td>         <th>coef</th>     <th>std err</th>      <th>t</th>      <th>P>|t|</th>  <th>[0.025</th>    <th>0.975]</th>  \n",
       "</tr>\n",
       "<tr>\n",
       "  <th>Intercept</th> <td>    8.8158</td> <td>    0.229</td> <td>   38.458</td> <td> 0.000</td> <td>    8.366</td> <td>    9.266</td>\n",
       "</tr>\n",
       "<tr>\n",
       "  <th>logarea</th>   <td>    1.6348</td> <td>    0.067</td> <td>   24.572</td> <td> 0.000</td> <td>    1.504</td> <td>    1.765</td>\n",
       "</tr>\n",
       "<tr>\n",
       "  <th>rooms</th>     <td>   -0.2757</td> <td>    0.032</td> <td>   -8.742</td> <td> 0.000</td> <td>   -0.338</td> <td>   -0.214</td>\n",
       "</tr>\n",
       "</table>\n",
       "<table class=\"simpletable\">\n",
       "<tr>\n",
       "  <th>Omnibus:</th>       <td>56.883</td> <th>  Durbin-Watson:     </th> <td>   0.368</td>\n",
       "</tr>\n",
       "<tr>\n",
       "  <th>Prob(Omnibus):</th> <td> 0.000</td> <th>  Jarque-Bera (JB):  </th> <td>  68.316</td>\n",
       "</tr>\n",
       "<tr>\n",
       "  <th>Skew:</th>          <td> 0.695</td> <th>  Prob(JB):          </th> <td>1.46e-15</td>\n",
       "</tr>\n",
       "<tr>\n",
       "  <th>Kurtosis:</th>      <td> 3.501</td> <th>  Cond. No.          </th> <td>    78.7</td>\n",
       "</tr>\n",
       "</table><br/><br/>Notes:<br/>[1] Standard Errors assume that the covariance matrix of the errors is correctly specified."
      ],
      "text/latex": [
       "\\begin{center}\n",
       "\\begin{tabular}{lclc}\n",
       "\\toprule\n",
       "\\textbf{Dep. Variable:}    &     logprice     & \\textbf{  R-squared:         } &     0.591   \\\\\n",
       "\\textbf{Model:}            &       OLS        & \\textbf{  Adj. R-squared:    } &     0.590   \\\\\n",
       "\\textbf{Method:}           &  Least Squares   & \\textbf{  F-statistic:       } &     540.6   \\\\\n",
       "\\textbf{Date:}             & Tue, 16 May 2023 & \\textbf{  Prob (F-statistic):} & 5.74e-146   \\\\\n",
       "\\textbf{Time:}             &     11:43:23     & \\textbf{  Log-Likelihood:    } &   -324.45   \\\\\n",
       "\\textbf{No. Observations:} &         751      & \\textbf{  AIC:               } &     654.9   \\\\\n",
       "\\textbf{Df Residuals:}     &         748      & \\textbf{  BIC:               } &     668.8   \\\\\n",
       "\\textbf{Df Model:}         &           2      & \\textbf{                     } &             \\\\\n",
       "\\textbf{Covariance Type:}  &    nonrobust     & \\textbf{                     } &             \\\\\n",
       "\\bottomrule\n",
       "\\end{tabular}\n",
       "\\begin{tabular}{lcccccc}\n",
       "                   & \\textbf{coef} & \\textbf{std err} & \\textbf{t} & \\textbf{P$> |$t$|$} & \\textbf{[0.025} & \\textbf{0.975]}  \\\\\n",
       "\\midrule\n",
       "\\textbf{Intercept} &       8.8158  &        0.229     &    38.458  &         0.000        &        8.366    &        9.266     \\\\\n",
       "\\textbf{logarea}   &       1.6348  &        0.067     &    24.572  &         0.000        &        1.504    &        1.765     \\\\\n",
       "\\textbf{rooms}     &      -0.2757  &        0.032     &    -8.742  &         0.000        &       -0.338    &       -0.214     \\\\\n",
       "\\bottomrule\n",
       "\\end{tabular}\n",
       "\\begin{tabular}{lclc}\n",
       "\\textbf{Omnibus:}       & 56.883 & \\textbf{  Durbin-Watson:     } &    0.368  \\\\\n",
       "\\textbf{Prob(Omnibus):} &  0.000 & \\textbf{  Jarque-Bera (JB):  } &   68.316  \\\\\n",
       "\\textbf{Skew:}          &  0.695 & \\textbf{  Prob(JB):          } & 1.46e-15  \\\\\n",
       "\\textbf{Kurtosis:}      &  3.501 & \\textbf{  Cond. No.          } &     78.7  \\\\\n",
       "\\bottomrule\n",
       "\\end{tabular}\n",
       "%\\caption{OLS Regression Results}\n",
       "\\end{center}\n",
       "\n",
       "Notes: \\newline\n",
       " [1] Standard Errors assume that the covariance matrix of the errors is correctly specified."
      ],
      "text/plain": [
       "<class 'statsmodels.iolib.summary.Summary'>\n",
       "\"\"\"\n",
       "                            OLS Regression Results                            \n",
       "==============================================================================\n",
       "Dep. Variable:               logprice   R-squared:                       0.591\n",
       "Model:                            OLS   Adj. R-squared:                  0.590\n",
       "Method:                 Least Squares   F-statistic:                     540.6\n",
       "Date:                Tue, 16 May 2023   Prob (F-statistic):          5.74e-146\n",
       "Time:                        11:43:23   Log-Likelihood:                -324.45\n",
       "No. Observations:                 751   AIC:                             654.9\n",
       "Df Residuals:                     748   BIC:                             668.8\n",
       "Df Model:                           2                                         \n",
       "Covariance Type:            nonrobust                                         \n",
       "==============================================================================\n",
       "                 coef    std err          t      P>|t|      [0.025      0.975]\n",
       "------------------------------------------------------------------------------\n",
       "Intercept      8.8158      0.229     38.458      0.000       8.366       9.266\n",
       "logarea        1.6348      0.067     24.572      0.000       1.504       1.765\n",
       "rooms         -0.2757      0.032     -8.742      0.000      -0.338      -0.214\n",
       "==============================================================================\n",
       "Omnibus:                       56.883   Durbin-Watson:                   0.368\n",
       "Prob(Omnibus):                  0.000   Jarque-Bera (JB):               68.316\n",
       "Skew:                           0.695   Prob(JB):                     1.46e-15\n",
       "Kurtosis:                       3.501   Cond. No.                         78.7\n",
       "==============================================================================\n",
       "\n",
       "Notes:\n",
       "[1] Standard Errors assume that the covariance matrix of the errors is correctly specified.\n",
       "\"\"\""
      ]
     },
     "execution_count": 303,
     "metadata": {},
     "output_type": "execute_result"
    }
   ],
   "source": [
    "lm_HPRICE3 = smf.ols(formula='logprice ~ logarea + rooms', data=df1).fit()\n",
    "print(lm_HPRICE3.params)\n",
    "lm_HPRICE3.summary()"
   ]
  },
  {
   "cell_type": "code",
   "execution_count": 304,
   "metadata": {
    "colab": {
     "base_uri": "https://localhost:8080/",
     "height": 581
    },
    "id": "_I2J7vbqvRA1",
    "outputId": "cb09f513-4604-4898-b420-337aae6caf21"
   },
   "outputs": [],
   "source": [
    "# lm_HPRICE4 = smf.ols(formula='logprice ~ logarea + rooms + ceilingHeight', data=df1).fit()\n",
    "# print(lm_HPRICE4.params)\n",
    "# lm_HPRICE4.summary()"
   ]
  },
  {
   "cell_type": "code",
   "execution_count": 305,
   "metadata": {
    "colab": {
     "base_uri": "https://localhost:8080/",
     "height": 655
    },
    "id": "LvBzcCoivmO6",
    "outputId": "cc3a70da-f2fb-419c-a6c5-f903d35fa1e8"
   },
   "outputs": [],
   "source": [
    "# lm_HPRICE5 = smf.ols(formula='logprice ~ logarea + rooms + ceilingHeight + numApartmentsTotal', data=df1).fit()\n",
    "# print(lm_HPRICE5.params)\n",
    "# lm_HPRICE5.summary()"
   ]
  },
  {
   "cell_type": "code",
   "execution_count": 306,
   "metadata": {
    "colab": {
     "base_uri": "https://localhost:8080/",
     "height": 655
    },
    "id": "zsmayZxbzpkq",
    "outputId": "fff69b69-e318-4c4c-cd92-e0b440550574"
   },
   "outputs": [],
   "source": [
    "# lm_HPRICE5 = smf.ols(formula='logprice ~ logarea + rooms + ceilingHeight + numApartmentsTotal', data=df1).fit()\n",
    "# print(lm_HPRICE5.params)\n",
    "# lm_HPRICE5.summary()"
   ]
  },
  {
   "cell_type": "code",
   "execution_count": 307,
   "metadata": {
    "colab": {
     "base_uri": "https://localhost:8080/",
     "height": 693
    },
    "id": "hSCgYAOR50Tz",
    "outputId": "f764cc88-2d8e-4813-beb3-0a36146b340a"
   },
   "outputs": [],
   "source": [
    "# lm_HPRICE5 = smf.ols(formula='logprice ~ logarea + rooms + ceilingHeight + numApartmentsTotal + floor', data=df1).fit()\n",
    "# print(lm_HPRICE5.params)\n",
    "# lm_HPRICE5.summary()"
   ]
  },
  {
   "cell_type": "code",
   "execution_count": 308,
   "metadata": {
    "colab": {
     "base_uri": "https://localhost:8080/",
     "height": 732
    },
    "id": "KmrKcbGx56LH",
    "outputId": "192da761-1768-4db2-bf72-79d64b47ee06"
   },
   "outputs": [],
   "source": [
    "# lm_HPRICE6 = smf.ols(formula='logprice ~ logarea + rooms + ceilingHeight + numApartmentsTotal + floor + crimeRateInDistrict', data=df1).fit()\n",
    "# print(lm_HPRICE6.params)\n",
    "# lm_HPRICE6.summary()"
   ]
  },
  {
   "cell_type": "code",
   "execution_count": 309,
   "metadata": {
    "colab": {
     "base_uri": "https://localhost:8080/",
     "height": 771
    },
    "id": "OLLWZgibBsDo",
    "outputId": "15eb966d-da89-481c-ba11-b2d5ff00613f",
    "scrolled": true
   },
   "outputs": [],
   "source": [
    "# lm_HPRICE7 = smf.ols(formula='logprice ~ logarea + rooms + ceilingHeight + numApartmentsTotal + floor + crimeRateInDistrict + predictedClass', data=df1).fit()\n",
    "# print(lm_HPRICE7.params)\n",
    "# lm_HPRICE7.summary()"
   ]
  },
  {
   "cell_type": "code",
   "execution_count": 310,
   "metadata": {
    "colab": {
     "base_uri": "https://localhost:8080/",
     "height": 542
    },
    "id": "5Ml16nQaJtT0",
    "outputId": "0111a81c-4705-42f8-d084-c67e867586d5",
    "scrolled": true
   },
   "outputs": [],
   "source": [
    "# lm_HPRICE8 = smf.ols(formula='logprice ~ logarea + predictedClass', data=df1).fit()\n",
    "# print(lm_HPRICE8.params)\n",
    "# lm_HPRICE8.summary()"
   ]
  },
  {
   "cell_type": "markdown",
   "metadata": {},
   "source": [
    "### Зміна підходу при побудові моделі лінійної регресії"
   ]
  },
  {
   "cell_type": "code",
   "execution_count": 311,
   "metadata": {},
   "outputs": [],
   "source": [
    "# X = df1[['area', 'rooms', 'crimeRateInDistrict', 'predictedClass', 'minutesToCityCenter']]\n",
    "# Y = df1[['price']]\n",
    "\n",
    "# lm_HPRICE9 = sm.OLS(Y, X).fit()\n",
    "# print(lm_HPRICE9.params)\n",
    "# lm_HPRICE9.summary()"
   ]
  },
  {
   "cell_type": "markdown",
   "metadata": {},
   "source": [
    "### Найменша кількість незалежних змінних"
   ]
  },
  {
   "cell_type": "code",
   "execution_count": 312,
   "metadata": {},
   "outputs": [
    {
     "name": "stdout",
     "output_type": "stream",
     "text": [
      "Intercept              10.453228\n",
      "logarea                 1.334272\n",
      "rooms                  -0.214330\n",
      "crimeRateInDistrict    -0.000061\n",
      "predictedClass          0.106874\n",
      "minutesToCityCenter    -0.004229\n",
      "dtype: float64\n"
     ]
    },
    {
     "data": {
      "text/html": [
       "<table class=\"simpletable\">\n",
       "<caption>OLS Regression Results</caption>\n",
       "<tr>\n",
       "  <th>Dep. Variable:</th>        <td>logprice</td>     <th>  R-squared:         </th> <td>   0.763</td> \n",
       "</tr>\n",
       "<tr>\n",
       "  <th>Model:</th>                   <td>OLS</td>       <th>  Adj. R-squared:    </th> <td>   0.761</td> \n",
       "</tr>\n",
       "<tr>\n",
       "  <th>Method:</th>             <td>Least Squares</td>  <th>  F-statistic:       </th> <td>   478.4</td> \n",
       "</tr>\n",
       "<tr>\n",
       "  <th>Date:</th>             <td>Tue, 16 May 2023</td> <th>  Prob (F-statistic):</th> <td>9.74e-230</td>\n",
       "</tr>\n",
       "<tr>\n",
       "  <th>Time:</th>                 <td>11:43:23</td>     <th>  Log-Likelihood:    </th> <td> -120.40</td> \n",
       "</tr>\n",
       "<tr>\n",
       "  <th>No. Observations:</th>      <td>   751</td>      <th>  AIC:               </th> <td>   252.8</td> \n",
       "</tr>\n",
       "<tr>\n",
       "  <th>Df Residuals:</th>          <td>   745</td>      <th>  BIC:               </th> <td>   280.5</td> \n",
       "</tr>\n",
       "<tr>\n",
       "  <th>Df Model:</th>              <td>     5</td>      <th>                     </th>     <td> </td>    \n",
       "</tr>\n",
       "<tr>\n",
       "  <th>Covariance Type:</th>      <td>nonrobust</td>    <th>                     </th>     <td> </td>    \n",
       "</tr>\n",
       "</table>\n",
       "<table class=\"simpletable\">\n",
       "<tr>\n",
       "           <td></td>              <th>coef</th>     <th>std err</th>      <th>t</th>      <th>P>|t|</th>  <th>[0.025</th>    <th>0.975]</th>  \n",
       "</tr>\n",
       "<tr>\n",
       "  <th>Intercept</th>           <td>   10.4532</td> <td>    0.192</td> <td>   54.445</td> <td> 0.000</td> <td>   10.076</td> <td>   10.830</td>\n",
       "</tr>\n",
       "<tr>\n",
       "  <th>logarea</th>             <td>    1.3343</td> <td>    0.053</td> <td>   25.335</td> <td> 0.000</td> <td>    1.231</td> <td>    1.438</td>\n",
       "</tr>\n",
       "<tr>\n",
       "  <th>rooms</th>               <td>   -0.2143</td> <td>    0.024</td> <td>   -8.826</td> <td> 0.000</td> <td>   -0.262</td> <td>   -0.167</td>\n",
       "</tr>\n",
       "<tr>\n",
       "  <th>crimeRateInDistrict</th> <td>-6.142e-05</td> <td> 1.31e-05</td> <td>   -4.681</td> <td> 0.000</td> <td>-8.72e-05</td> <td>-3.57e-05</td>\n",
       "</tr>\n",
       "<tr>\n",
       "  <th>predictedClass</th>      <td>    0.1069</td> <td>    0.014</td> <td>    7.512</td> <td> 0.000</td> <td>    0.079</td> <td>    0.135</td>\n",
       "</tr>\n",
       "<tr>\n",
       "  <th>minutesToCityCenter</th> <td>   -0.0042</td> <td>    0.000</td> <td>  -20.315</td> <td> 0.000</td> <td>   -0.005</td> <td>   -0.004</td>\n",
       "</tr>\n",
       "</table>\n",
       "<table class=\"simpletable\">\n",
       "<tr>\n",
       "  <th>Omnibus:</th>       <td>14.867</td> <th>  Durbin-Watson:     </th> <td>   0.319</td>\n",
       "</tr>\n",
       "<tr>\n",
       "  <th>Prob(Omnibus):</th> <td> 0.001</td> <th>  Jarque-Bera (JB):  </th> <td>  27.551</td>\n",
       "</tr>\n",
       "<tr>\n",
       "  <th>Skew:</th>          <td>-0.010</td> <th>  Prob(JB):          </th> <td>1.04e-06</td>\n",
       "</tr>\n",
       "<tr>\n",
       "  <th>Kurtosis:</th>      <td> 3.938</td> <th>  Cond. No.          </th> <td>6.32e+04</td>\n",
       "</tr>\n",
       "</table><br/><br/>Notes:<br/>[1] Standard Errors assume that the covariance matrix of the errors is correctly specified.<br/>[2] The condition number is large, 6.32e+04. This might indicate that there are<br/>strong multicollinearity or other numerical problems."
      ],
      "text/latex": [
       "\\begin{center}\n",
       "\\begin{tabular}{lclc}\n",
       "\\toprule\n",
       "\\textbf{Dep. Variable:}      &     logprice     & \\textbf{  R-squared:         } &     0.763   \\\\\n",
       "\\textbf{Model:}              &       OLS        & \\textbf{  Adj. R-squared:    } &     0.761   \\\\\n",
       "\\textbf{Method:}             &  Least Squares   & \\textbf{  F-statistic:       } &     478.4   \\\\\n",
       "\\textbf{Date:}               & Tue, 16 May 2023 & \\textbf{  Prob (F-statistic):} & 9.74e-230   \\\\\n",
       "\\textbf{Time:}               &     11:43:23     & \\textbf{  Log-Likelihood:    } &   -120.40   \\\\\n",
       "\\textbf{No. Observations:}   &         751      & \\textbf{  AIC:               } &     252.8   \\\\\n",
       "\\textbf{Df Residuals:}       &         745      & \\textbf{  BIC:               } &     280.5   \\\\\n",
       "\\textbf{Df Model:}           &           5      & \\textbf{                     } &             \\\\\n",
       "\\textbf{Covariance Type:}    &    nonrobust     & \\textbf{                     } &             \\\\\n",
       "\\bottomrule\n",
       "\\end{tabular}\n",
       "\\begin{tabular}{lcccccc}\n",
       "                             & \\textbf{coef} & \\textbf{std err} & \\textbf{t} & \\textbf{P$> |$t$|$} & \\textbf{[0.025} & \\textbf{0.975]}  \\\\\n",
       "\\midrule\n",
       "\\textbf{Intercept}           &      10.4532  &        0.192     &    54.445  &         0.000        &       10.076    &       10.830     \\\\\n",
       "\\textbf{logarea}             &       1.3343  &        0.053     &    25.335  &         0.000        &        1.231    &        1.438     \\\\\n",
       "\\textbf{rooms}               &      -0.2143  &        0.024     &    -8.826  &         0.000        &       -0.262    &       -0.167     \\\\\n",
       "\\textbf{crimeRateInDistrict} &   -6.142e-05  &     1.31e-05     &    -4.681  &         0.000        &    -8.72e-05    &    -3.57e-05     \\\\\n",
       "\\textbf{predictedClass}      &       0.1069  &        0.014     &     7.512  &         0.000        &        0.079    &        0.135     \\\\\n",
       "\\textbf{minutesToCityCenter} &      -0.0042  &        0.000     &   -20.315  &         0.000        &       -0.005    &       -0.004     \\\\\n",
       "\\bottomrule\n",
       "\\end{tabular}\n",
       "\\begin{tabular}{lclc}\n",
       "\\textbf{Omnibus:}       & 14.867 & \\textbf{  Durbin-Watson:     } &    0.319  \\\\\n",
       "\\textbf{Prob(Omnibus):} &  0.001 & \\textbf{  Jarque-Bera (JB):  } &   27.551  \\\\\n",
       "\\textbf{Skew:}          & -0.010 & \\textbf{  Prob(JB):          } & 1.04e-06  \\\\\n",
       "\\textbf{Kurtosis:}      &  3.938 & \\textbf{  Cond. No.          } & 6.32e+04  \\\\\n",
       "\\bottomrule\n",
       "\\end{tabular}\n",
       "%\\caption{OLS Regression Results}\n",
       "\\end{center}\n",
       "\n",
       "Notes: \\newline\n",
       " [1] Standard Errors assume that the covariance matrix of the errors is correctly specified. \\newline\n",
       " [2] The condition number is large, 6.32e+04. This might indicate that there are \\newline\n",
       " strong multicollinearity or other numerical problems."
      ],
      "text/plain": [
       "<class 'statsmodels.iolib.summary.Summary'>\n",
       "\"\"\"\n",
       "                            OLS Regression Results                            \n",
       "==============================================================================\n",
       "Dep. Variable:               logprice   R-squared:                       0.763\n",
       "Model:                            OLS   Adj. R-squared:                  0.761\n",
       "Method:                 Least Squares   F-statistic:                     478.4\n",
       "Date:                Tue, 16 May 2023   Prob (F-statistic):          9.74e-230\n",
       "Time:                        11:43:23   Log-Likelihood:                -120.40\n",
       "No. Observations:                 751   AIC:                             252.8\n",
       "Df Residuals:                     745   BIC:                             280.5\n",
       "Df Model:                           5                                         \n",
       "Covariance Type:            nonrobust                                         \n",
       "=======================================================================================\n",
       "                          coef    std err          t      P>|t|      [0.025      0.975]\n",
       "---------------------------------------------------------------------------------------\n",
       "Intercept              10.4532      0.192     54.445      0.000      10.076      10.830\n",
       "logarea                 1.3343      0.053     25.335      0.000       1.231       1.438\n",
       "rooms                  -0.2143      0.024     -8.826      0.000      -0.262      -0.167\n",
       "crimeRateInDistrict -6.142e-05   1.31e-05     -4.681      0.000   -8.72e-05   -3.57e-05\n",
       "predictedClass          0.1069      0.014      7.512      0.000       0.079       0.135\n",
       "minutesToCityCenter    -0.0042      0.000    -20.315      0.000      -0.005      -0.004\n",
       "==============================================================================\n",
       "Omnibus:                       14.867   Durbin-Watson:                   0.319\n",
       "Prob(Omnibus):                  0.001   Jarque-Bera (JB):               27.551\n",
       "Skew:                          -0.010   Prob(JB):                     1.04e-06\n",
       "Kurtosis:                       3.938   Cond. No.                     6.32e+04\n",
       "==============================================================================\n",
       "\n",
       "Notes:\n",
       "[1] Standard Errors assume that the covariance matrix of the errors is correctly specified.\n",
       "[2] The condition number is large, 6.32e+04. This might indicate that there are\n",
       "strong multicollinearity or other numerical problems.\n",
       "\"\"\""
      ]
     },
     "execution_count": 312,
     "metadata": {},
     "output_type": "execute_result"
    }
   ],
   "source": [
    "lm_HPRICE10 = smf.ols(formula='logprice ~ logarea + rooms + crimeRateInDistrict + predictedClass + minutesToCityCenter', data=df1).fit()\n",
    "print(lm_HPRICE10.params)\n",
    "lm_HPRICE10.summary()"
   ]
  },
  {
   "cell_type": "markdown",
   "metadata": {
    "id": "N00rUcnqLXZh"
   },
   "source": [
    "## Прогнозування вартості нерухомості"
   ]
  },
  {
   "cell_type": "code",
   "execution_count": 313,
   "metadata": {},
   "outputs": [],
   "source": [
    "# real_estate = df1.sample()[['logarea', 'rooms', 'crimeRateInDistrict', 'predictedClass']]"
   ]
  },
  {
   "cell_type": "code",
   "execution_count": 314,
   "metadata": {
    "scrolled": true
   },
   "outputs": [],
   "source": [
    "# real_estate"
   ]
  },
  {
   "cell_type": "code",
   "execution_count": 315,
   "metadata": {},
   "outputs": [],
   "source": [
    "# real_estate_info = df1.loc[df1.index == real_estate.index.values[0]][['residence', 'address', 'predictedClass']].values[0]"
   ]
  },
  {
   "cell_type": "code",
   "execution_count": 316,
   "metadata": {},
   "outputs": [],
   "source": [
    "# real_estate_info"
   ]
  },
  {
   "cell_type": "code",
   "execution_count": 317,
   "metadata": {
    "scrolled": true
   },
   "outputs": [],
   "source": [
    "# logprice_predicted = lm_HPRICE7.predict(real_estate).values[0]"
   ]
  },
  {
   "cell_type": "code",
   "execution_count": 318,
   "metadata": {},
   "outputs": [],
   "source": [
    "# import math"
   ]
  },
  {
   "cell_type": "markdown",
   "metadata": {},
   "source": [
    "Зворотня операція до log - exp"
   ]
  },
  {
   "cell_type": "code",
   "execution_count": 319,
   "metadata": {
    "scrolled": false
   },
   "outputs": [],
   "source": [
    "# predicted_price = math.exp(logprice_predicted)\n",
    "# price_formatted = \"{:,}\".format(round(predicted_price))"
   ]
  },
  {
   "cell_type": "code",
   "execution_count": 320,
   "metadata": {
    "scrolled": false
   },
   "outputs": [],
   "source": [
    "# f\"Ціна квартири в {real_estate_info[0]} за адресою {real_estate_info[1]} із класом житла {real_estate_info[2]} оцінена в {price_formatted} гривень\""
   ]
  },
  {
   "cell_type": "markdown",
   "metadata": {
    "id": "N00rUcnqLXZh"
   },
   "source": [
    "## Прогнозування вартості нерухомості з урахуванням дальності до центру"
   ]
  },
  {
   "cell_type": "code",
   "execution_count": 321,
   "metadata": {},
   "outputs": [],
   "source": [
    "real_estate = df1.sample()[['logarea', 'rooms', 'crimeRateInDistrict', 'predictedClass', 'minutesToCityCenter']]"
   ]
  },
  {
   "cell_type": "code",
   "execution_count": 322,
   "metadata": {
    "scrolled": true
   },
   "outputs": [
    {
     "data": {
      "text/html": [
       "<div>\n",
       "<style scoped>\n",
       "    .dataframe tbody tr th:only-of-type {\n",
       "        vertical-align: middle;\n",
       "    }\n",
       "\n",
       "    .dataframe tbody tr th {\n",
       "        vertical-align: top;\n",
       "    }\n",
       "\n",
       "    .dataframe thead th {\n",
       "        text-align: right;\n",
       "    }\n",
       "</style>\n",
       "<table border=\"1\" class=\"dataframe\">\n",
       "  <thead>\n",
       "    <tr style=\"text-align: right;\">\n",
       "      <th></th>\n",
       "      <th>logarea</th>\n",
       "      <th>rooms</th>\n",
       "      <th>crimeRateInDistrict</th>\n",
       "      <th>predictedClass</th>\n",
       "      <th>minutesToCityCenter</th>\n",
       "    </tr>\n",
       "  </thead>\n",
       "  <tbody>\n",
       "    <tr>\n",
       "      <th>702</th>\n",
       "      <td>4.477337</td>\n",
       "      <td>2</td>\n",
       "      <td>4634.0</td>\n",
       "      <td>2</td>\n",
       "      <td>40</td>\n",
       "    </tr>\n",
       "  </tbody>\n",
       "</table>\n",
       "</div>"
      ],
      "text/plain": [
       "      logarea  rooms  crimeRateInDistrict  predictedClass  minutesToCityCenter\n",
       "702  4.477337      2               4634.0               2                   40"
      ]
     },
     "execution_count": 322,
     "metadata": {},
     "output_type": "execute_result"
    }
   ],
   "source": [
    "real_estate"
   ]
  },
  {
   "cell_type": "markdown",
   "metadata": {},
   "source": [
    "#### Зміна minutesToCityCenter"
   ]
  },
  {
   "cell_type": "code",
   "execution_count": 323,
   "metadata": {},
   "outputs": [],
   "source": [
    "# real_estate['minutesToCityCenter'] = 10"
   ]
  },
  {
   "cell_type": "code",
   "execution_count": 324,
   "metadata": {},
   "outputs": [
    {
     "data": {
      "text/plain": [
       "702"
      ]
     },
     "execution_count": 324,
     "metadata": {},
     "output_type": "execute_result"
    }
   ],
   "source": [
    "real_estate.index.values[0]"
   ]
  },
  {
   "cell_type": "code",
   "execution_count": 325,
   "metadata": {},
   "outputs": [],
   "source": [
    "real_estate_info = df1.loc[df1.index == real_estate.index.values[0]][['residence', 'address', 'predictedClass', 'price']].values[0]"
   ]
  },
  {
   "cell_type": "code",
   "execution_count": 326,
   "metadata": {
    "scrolled": true
   },
   "outputs": [
    {
     "data": {
      "text/plain": [
       "array(['ЖК Камертон', 'вул. Річна, 4', 2, 8505200.0], dtype=object)"
      ]
     },
     "execution_count": 326,
     "metadata": {},
     "output_type": "execute_result"
    }
   ],
   "source": [
    "real_estate_info"
   ]
  },
  {
   "cell_type": "code",
   "execution_count": 327,
   "metadata": {
    "scrolled": true
   },
   "outputs": [],
   "source": [
    "logprice_predicted = lm_HPRICE10.predict(real_estate).values[0]"
   ]
  },
  {
   "cell_type": "code",
   "execution_count": 328,
   "metadata": {},
   "outputs": [],
   "source": [
    "import math"
   ]
  },
  {
   "cell_type": "markdown",
   "metadata": {},
   "source": [
    "Зворотня операція до log - exp"
   ]
  },
  {
   "cell_type": "code",
   "execution_count": 329,
   "metadata": {
    "scrolled": false
   },
   "outputs": [],
   "source": [
    "predicted_price = math.exp(logprice_predicted)\n",
    "price_formatted = \"{:,}\".format(round(predicted_price))"
   ]
  },
  {
   "cell_type": "code",
   "execution_count": 330,
   "metadata": {
    "scrolled": true
   },
   "outputs": [
    {
     "data": {
      "text/plain": [
       "'Ціна квартири в ЖК Камертон за адресою вул. Річна, 4 із класом житла 2 оцінена в 6,979,705 гривень'"
      ]
     },
     "execution_count": 330,
     "metadata": {},
     "output_type": "execute_result"
    }
   ],
   "source": [
    "f\"Ціна квартири в {real_estate_info[0]} за адресою {real_estate_info[1]} із класом житла {real_estate_info[2]} оцінена в {price_formatted} гривень\""
   ]
  },
  {
   "cell_type": "markdown",
   "metadata": {},
   "source": [
    "## Експорт моделі для подальшого використання на сервері"
   ]
  },
  {
   "cell_type": "code",
   "execution_count": 331,
   "metadata": {},
   "outputs": [],
   "source": [
    "# lm_HPRICE7.save(\"lm_HPRICE7.pickle\")"
   ]
  },
  {
   "cell_type": "code",
   "execution_count": 332,
   "metadata": {},
   "outputs": [],
   "source": [
    "# lm_HPRICE10.save(\"lm_HPRICE10.pickle\")"
   ]
  },
  {
   "cell_type": "markdown",
   "metadata": {},
   "source": [
    "Довільний приклад для тестування моделі"
   ]
  }
 ],
 "metadata": {
  "colab": {
   "provenance": []
  },
  "kernelspec": {
   "display_name": "Python 3 (ipykernel)",
   "language": "python",
   "name": "python3"
  },
  "language_info": {
   "codemirror_mode": {
    "name": "ipython",
    "version": 3
   },
   "file_extension": ".py",
   "mimetype": "text/x-python",
   "name": "python",
   "nbconvert_exporter": "python",
   "pygments_lexer": "ipython3",
   "version": "3.9.16"
  }
 },
 "nbformat": 4,
 "nbformat_minor": 1
}
